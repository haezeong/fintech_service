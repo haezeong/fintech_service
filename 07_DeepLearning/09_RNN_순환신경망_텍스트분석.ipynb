{
 "cells": [
  {
   "cell_type": "markdown",
   "id": "65844618",
   "metadata": {},
   "source": [
    "# RNN_순환신경망"
   ]
  },
  {
   "cell_type": "markdown",
   "id": "912f8835",
   "metadata": {},
   "source": [
    "* 언어, 시계열 데이터 분석에 주로 사용\n",
    "* 문장 길이가 길어지면 기울기 소실문제 발생\n",
    "* 그래서 나온게 LSTM, GRU등으로 문제를 보완"
   ]
  },
  {
   "cell_type": "code",
   "execution_count": 1,
   "id": "da457096",
   "metadata": {},
   "outputs": [],
   "source": [
    "#rnn 은 주로 텍스트를 다르다보니 딥러닝에서 텍스트를 어떻게 다룰지가 또 문제"
   ]
  },
  {
   "cell_type": "code",
   "execution_count": 2,
   "id": "66878aaf",
   "metadata": {},
   "outputs": [
    {
     "name": "stderr",
     "output_type": "stream",
     "text": [
      "2024-09-13 15:04:41.369123: I tensorflow/core/platform/cpu_feature_guard.cc:193] This TensorFlow binary is optimized with oneAPI Deep Neural Network Library (oneDNN) to use the following CPU instructions in performance-critical operations:  AVX2 FMA\n",
      "To enable them in other operations, rebuild TensorFlow with the appropriate compiler flags.\n",
      "2024-09-13 15:04:42.870186: I tensorflow/c/logging.cc:34] Successfully opened dynamic library libdirectml.d6f03b303ac3c4f2eeb8ca631688c9757b361310.so\n",
      "2024-09-13 15:04:42.870318: I tensorflow/c/logging.cc:34] Successfully opened dynamic library libdxcore.so\n",
      "2024-09-13 15:04:42.876132: I tensorflow/c/logging.cc:34] Successfully opened dynamic library libd3d12.so\n",
      "2024-09-13 15:04:43.123164: I tensorflow/c/logging.cc:34] DirectML device enumeration: found 1 compatible adapters.\n"
     ]
    }
   ],
   "source": [
    "\n",
    "from tensorflow.keras.preprocessing.text import Tokenizer, text_to_word_sequence\n",
    "from tensorflow.keras.preprocessing.sequence import pad_sequences\n",
    "from tensorflow.keras.models import Sequential\n",
    "from tensorflow.keras.layers import Dense,Flatten, Embedding\n",
    "from tensorflow.keras.utils import to_categorical\n",
    "import pandas as pd\n",
    "import numpy as np"
   ]
  },
  {
   "cell_type": "code",
   "execution_count": 3,
   "id": "881533b8",
   "metadata": {},
   "outputs": [],
   "source": [
    "# import sys\n",
    "# import os\n",
    "# import matplotlib.pyplot as plt\n",
    "# import seaborn as sns\n",
    "# import tensorflow as tf"
   ]
  },
  {
   "cell_type": "markdown",
   "id": "1b802d54",
   "metadata": {},
   "source": [
    "# 텐서플로에서 텍스트 전처리하기\n",
    "* 토큰화: 문장을 단어 혹은 형태소로 쪼개는 것\n",
    "* 원핫인코딩: 문자를 벡터화\n",
    "* 임베팅(Embedding): 원핫인코딩과는 약간 다른 벡터화 - 원핫인코딩을 더 축소해서 벡터화를 한다\n"
   ]
  },
  {
   "cell_type": "code",
   "execution_count": 4,
   "id": "23fcc930",
   "metadata": {},
   "outputs": [],
   "source": [
    "# 독립변수는 열이 같아야 하는데 \n",
    "# 텍스트 전처리 하는 것중 제일 긴것으로 맞춰줌 - 열의 개수 맞다 - 0으로 채워진다- padding\n",
    "# 길이를 맞춰줘야 컬럼 개수가 맞다\n",
    "# 컬럼개수 너무 많ㅇ아져도 계산이 오래 걸림 (경우의수를 구하다보니 연산량 급격 증가)\n",
    "# 그래서 나온방법이 임베딩을 통해 긴배열을 가져다가 다시 줄여주는 것이다\n",
    "# 임베딩을 하게되면 스케일링을 한것처럼 바뀌어 - 데이터 안에\n",
    "# - 스케일링이란 0~1사이의 숫자로 바꾸어주는것이잖아 임베팅을하게되면 하나의 숫자로 바뀌게 됨\n",
    "# 컬럼이 길면 몇백개 되었던것이 하나로 바뀌게 된다-> 연산량 줄어듬\n",
    "# 스케일링으로 특성은 그대로 가지고 있다 컬럼만 한개로 줄어듬!"
   ]
  },
  {
   "cell_type": "markdown",
   "id": "16ab8820",
   "metadata": {},
   "source": [
    " 처음할때실수하는 부분 원핫인코딩-> 임베팅을 함으로써 길이 맞춰주고 컬럼 줄이기 작업!(패딩도)"
   ]
  },
  {
   "cell_type": "code",
   "execution_count": 5,
   "id": "58113aab",
   "metadata": {},
   "outputs": [],
   "source": [
    "text=\"해보지 않으면 해낼 수 없다\""
   ]
  },
  {
   "cell_type": "code",
   "execution_count": 6,
   "id": "808c0d0b",
   "metadata": {},
   "outputs": [
    {
     "data": {
      "text/plain": [
       "['해보지', '않으면', '해낼', '수', '없다']"
      ]
     },
     "execution_count": 6,
     "metadata": {},
     "output_type": "execute_result"
    }
   ],
   "source": [
    "result = text_to_word_sequence(text)\n",
    "result"
   ]
  },
  {
   "cell_type": "markdown",
   "id": "c68d0ae8",
   "metadata": {},
   "source": [
    "단어 빈도수 세기"
   ]
  },
  {
   "cell_type": "code",
   "execution_count": 7,
   "id": "9c4ed575",
   "metadata": {},
   "outputs": [],
   "source": [
    "docs = ['먼저 텍스트의 각 단어를 나누어 토큰화합니다', \n",
    "        '텍스트의 단어로 토큰화해야 딥러닝에서 인식됩니다', \n",
    "        '토큰화한 결과는 딥러닝에서 사용할 수 있습니다',\n",
    "        '텍스트 전처리에는 벡터화 원핫인코딩 패딩으로 길이 맞추기 등이 필요합니다',\n",
    "        '딥러닝 쉽지 않네요']"
   ]
  },
  {
   "cell_type": "code",
   "execution_count": 8,
   "id": "43782136",
   "metadata": {
    "scrolled": true
   },
   "outputs": [
    {
     "name": "stdout",
     "output_type": "stream",
     "text": [
      "단어 카운트:\n",
      "  OrderedDict([('먼저', 1), ('텍스트의', 2), ('각', 1), ('단어를', 1), ('나누어', 1), ('토큰화합니다', 1), ('단어로', 1), ('토큰화해야', 1), ('딥러닝에서', 2), ('인식됩니다', 1), ('토큰화한', 1), ('결과는', 1), ('사용할', 1), ('수', 1), ('있습니다', 1), ('텍스트', 1), ('전처리에는', 1), ('벡터화', 1), ('원핫인코딩', 1), ('패딩으로', 1), ('길이', 1), ('맞추기', 1), ('등이', 1), ('필요합니다', 1), ('딥러닝', 1), ('쉽지', 1), ('않네요', 1)])\n",
      "문장 카운트:\n",
      " 5\n",
      "각 단어가 몇 개의 문장에 포함되어 있는지 계산:\n",
      "  defaultdict(<class 'int'>, {'텍스트의': 2, '토큰화합니다': 1, '먼저': 1, '단어를': 1, '각': 1, '나누어': 1, '인식됩니다': 1, '단어로': 1, '딥러닝에서': 2, '토큰화해야': 1, '결과는': 1, '수': 1, '사용할': 1, '토큰화한': 1, '있습니다': 1, '전처리에는': 1, '맞추기': 1, '패딩으로': 1, '필요합니다': 1, '길이': 1, '벡터화': 1, '등이': 1, '원핫인코딩': 1, '텍스트': 1, '않네요': 1, '딥러닝': 1, '쉽지': 1})\n",
      "각 단어에 매겨진 인덱스 값:\n",
      "  {'텍스트의': 1, '딥러닝에서': 2, '먼저': 3, '각': 4, '단어를': 5, '나누어': 6, '토큰화합니다': 7, '단어로': 8, '토큰화해야': 9, '인식됩니다': 10, '토큰화한': 11, '결과는': 12, '사용할': 13, '수': 14, '있습니다': 15, '텍스트': 16, '전처리에는': 17, '벡터화': 18, '원핫인코딩': 19, '패딩으로': 20, '길이': 21, '맞추기': 22, '등이': 23, '필요합니다': 24, '딥러닝': 25, '쉽지': 26, '않네요': 27}\n"
     ]
    }
   ],
   "source": [
    "token = Tokenizer()\n",
    "token.fit_on_texts(docs)\n",
    "print(\"단어 카운트:\\n \", token.word_counts)\n",
    "print(\"문장 카운트:\\n\", token.document_count)\n",
    "print(\"각 단어가 몇 개의 문장에 포함되어 있는지 계산:\\n \", token.word_docs)\n",
    "print(\"각 단어에 매겨진 인덱스 값:\\n \", token.word_index)"
   ]
  },
  {
   "cell_type": "code",
   "execution_count": 9,
   "id": "7e9428c6",
   "metadata": {},
   "outputs": [
    {
     "name": "stdout",
     "output_type": "stream",
     "text": [
      "[[3, 1, 4, 5, 6, 7], [1, 8, 9, 2, 10], [11, 12, 2, 13, 14, 15], [16, 17, 18, 19, 20, 21, 22, 23, 24], [25, 26, 27]]\n"
     ]
    }
   ],
   "source": [
    "x = token.texts_to_sequences(docs)\n",
    "print(x)"
   ]
  },
  {
   "cell_type": "code",
   "execution_count": 10,
   "id": "7250f0f0",
   "metadata": {},
   "outputs": [
    {
     "data": {
      "text/plain": [
       "9"
      ]
     },
     "execution_count": 10,
     "metadata": {},
     "output_type": "execute_result"
    }
   ],
   "source": [
    "max([len(i) for i in x])"
   ]
  },
  {
   "cell_type": "code",
   "execution_count": 11,
   "id": "53049af6",
   "metadata": {},
   "outputs": [
    {
     "data": {
      "text/plain": [
       "array([[ 0,  0,  0,  0,  3,  1,  4,  5,  6,  7],\n",
       "       [ 0,  0,  0,  0,  0,  1,  8,  9,  2, 10],\n",
       "       [ 0,  0,  0,  0, 11, 12,  2, 13, 14, 15],\n",
       "       [ 0, 16, 17, 18, 19, 20, 21, 22, 23, 24],\n",
       "       [ 0,  0,  0,  0,  0,  0,  0, 25, 26, 27]], dtype=int32)"
      ]
     },
     "execution_count": 11,
     "metadata": {},
     "output_type": "execute_result"
    }
   ],
   "source": [
    "# 문장의 길이를 맞추기 위한 패딩\n",
    "# 가장 긴 문장 길이 +1의 길이로 패딩\n",
    "# 문장 시작에는 0이 있어야 함\n",
    "padded_x = pad_sequences(x,max([len(i) for i in x])+1)\n",
    "padded_x"
   ]
  },
  {
   "cell_type": "markdown",
   "id": "e40089a9",
   "metadata": {},
   "source": [
    "# 텍스트를 읽고 긍정, 부정 예측하기"
   ]
  },
  {
   "cell_type": "code",
   "execution_count": 12,
   "id": "b979f058",
   "metadata": {},
   "outputs": [],
   "source": [
    "docs2 = [\"너무 재밌네요\",\n",
    "        \"최고예요\",\n",
    "        \"참 신기한 딥러닝이네요\",\n",
    "        \"인공지능 칭찬합니다\",\n",
    "        \"더 자세히 배우고 싶어요\",\n",
    "        \"변화가 너무 빨라요\",\n",
    "        \"GPT성능이 생각보다 별로네요\",\n",
    "        \"제미나이보다는 낫죠\",\n",
    "        \"나는 차라리 라마를 쓴다\",\n",
    "        \"유료 결재 싫어요\"]"
   ]
  },
  {
   "cell_type": "code",
   "execution_count": 13,
   "id": "e2427154",
   "metadata": {},
   "outputs": [],
   "source": [
    "classes = np.array([1,1,1,1,1,0,0,1,0,0])"
   ]
  },
  {
   "cell_type": "code",
   "execution_count": 14,
   "id": "209b70b0",
   "metadata": {},
   "outputs": [
    {
     "name": "stdout",
     "output_type": "stream",
     "text": [
      "{'너무': 1, '재밌네요': 2, '최고예요': 3, '참': 4, '신기한': 5, '딥러닝이네요': 6, '인공지능': 7, '칭찬합니다': 8, '더': 9, '자세히': 10, '배우고': 11, '싶어요': 12, '변화가': 13, '빨라요': 14, 'gpt성능이': 15, '생각보다': 16, '별로네요': 17, '제미나이보다는': 18, '낫죠': 19, '나는': 20, '차라리': 21, '라마를': 22, '쓴다': 23, '유료': 24, '결재': 25, '싫어요': 26}\n"
     ]
    }
   ],
   "source": [
    "token = Tokenizer()\n",
    "token.fit_on_texts(docs2)\n",
    "print(token.word_index)"
   ]
  },
  {
   "cell_type": "code",
   "execution_count": 15,
   "id": "76927409",
   "metadata": {},
   "outputs": [
    {
     "name": "stdout",
     "output_type": "stream",
     "text": [
      "토큰화 결과: \n",
      " [[1, 2], [3], [4, 5, 6], [7, 8], [9, 10, 11, 12], [13, 1, 14], [15, 16, 17], [18, 19], [20, 21, 22, 23], [24, 25, 26]]\n"
     ]
    }
   ],
   "source": [
    "x = token.texts_to_sequences(docs2)\n",
    "print(\"토큰화 결과: \\n\", x)"
   ]
  },
  {
   "cell_type": "code",
   "execution_count": 16,
   "id": "68b6ffc8",
   "metadata": {},
   "outputs": [
    {
     "data": {
      "text/plain": [
       "array([[ 0,  0,  1,  2],\n",
       "       [ 0,  0,  0,  3],\n",
       "       [ 0,  4,  5,  6],\n",
       "       [ 0,  0,  7,  8],\n",
       "       [ 9, 10, 11, 12],\n",
       "       [ 0, 13,  1, 14],\n",
       "       [ 0, 15, 16, 17],\n",
       "       [ 0,  0, 18, 19],\n",
       "       [20, 21, 22, 23],\n",
       "       [ 0, 24, 25, 26]], dtype=int32)"
      ]
     },
     "execution_count": 16,
     "metadata": {},
     "output_type": "execute_result"
    }
   ],
   "source": [
    "padding_x = pad_sequences(x,max([len(i) for i in x]))\n",
    "padding_x"
   ]
  },
  {
   "cell_type": "markdown",
   "id": "1eb513a9",
   "metadata": {},
   "source": [
    "# 임베딩"
   ]
  },
  {
   "cell_type": "code",
   "execution_count": 17,
   "id": "16813527",
   "metadata": {},
   "outputs": [
    {
     "data": {
      "text/plain": [
       "27"
      ]
     },
     "execution_count": 17,
     "metadata": {},
     "output_type": "execute_result"
    }
   ],
   "source": [
    "word_size = len(token.word_index) +1\n",
    "word_size"
   ]
  },
  {
   "cell_type": "code",
   "execution_count": 18,
   "id": "00e62f43",
   "metadata": {},
   "outputs": [
    {
     "name": "stdout",
     "output_type": "stream",
     "text": [
      "Model: \"sequential\"\n",
      "_________________________________________________________________\n",
      " Layer (type)                Output Shape              Param #   \n",
      "=================================================================\n",
      " embedding (Embedding)       (None, 4, 8)              216       \n",
      "                                                                 \n",
      " flatten (Flatten)           (None, 32)                0         \n",
      "                                                                 \n",
      " dense (Dense)               (None, 1)                 33        \n",
      "                                                                 \n",
      "=================================================================\n",
      "Total params: 249\n",
      "Trainable params: 249\n",
      "Non-trainable params: 0\n",
      "_________________________________________________________________\n"
     ]
    },
    {
     "name": "stderr",
     "output_type": "stream",
     "text": [
      "2024-09-13 15:08:05.598024: I tensorflow/core/platform/cpu_feature_guard.cc:193] This TensorFlow binary is optimized with oneAPI Deep Neural Network Library (oneDNN) to use the following CPU instructions in performance-critical operations:  AVX2 FMA\n",
      "To enable them in other operations, rebuild TensorFlow with the appropriate compiler flags.\n",
      "2024-09-13 15:08:05.601375: I tensorflow/c/logging.cc:34] DirectML: creating device on adapter 0 (AMD Radeon(TM) Graphics)\n",
      "2024-09-13 15:08:05.722931: I tensorflow/core/common_runtime/pluggable_device/pluggable_device_factory.cc:306] Could not identify NUMA node of platform GPU ID 0, defaulting to 0. Your kernel may not have been built with NUMA support.\n",
      "2024-09-13 15:08:05.722982: W tensorflow/core/common_runtime/pluggable_device/pluggable_device_bfc_allocator.cc:28] Overriding allow_growth setting because force_memory_growth was requested by the device.\n",
      "2024-09-13 15:08:05.723010: I tensorflow/core/common_runtime/pluggable_device/pluggable_device_factory.cc:272] Created TensorFlow device (/job:localhost/replica:0/task:0/device:GPU:0 with 3600 MB memory) -> physical PluggableDevice (device: 0, name: DML, pci bus id: <undefined>)\n"
     ]
    }
   ],
   "source": [
    "model = Sequential()\n",
    "model.add(Embedding(word_size, 8,input_length=4))\n",
    "model.add(Flatten())\n",
    "model.add(Dense(1, activation='sigmoid'))\n",
    "model.summary()"
   ]
  },
  {
   "cell_type": "code",
   "execution_count": 19,
   "id": "62481bbe",
   "metadata": {},
   "outputs": [
    {
     "name": "stdout",
     "output_type": "stream",
     "text": [
      "Epoch 1/20\n"
     ]
    },
    {
     "name": "stderr",
     "output_type": "stream",
     "text": [
      "2024-09-13 15:08:08.596936: I tensorflow/core/grappler/optimizers/custom_graph_optimizer_registry.cc:114] Plugin optimizer for device_type GPU is enabled.\n",
      "2024-09-13 15:08:08.668632: I tensorflow/core/common_runtime/pluggable_device/pluggable_device_factory.cc:306] Could not identify NUMA node of platform GPU ID 0, defaulting to 0. Your kernel may not have been built with NUMA support.\n",
      "2024-09-13 15:08:08.668762: I tensorflow/core/common_runtime/pluggable_device/pluggable_device_factory.cc:272] Created TensorFlow device (/job:localhost/replica:0/task:0/device:GPU:0 with 3600 MB memory) -> physical PluggableDevice (device: 0, name: DML, pci bus id: <undefined>)\n",
      "2024-09-13 15:08:08.671223: I tensorflow/core/common_runtime/pluggable_device/pluggable_device_factory.cc:306] Could not identify NUMA node of platform GPU ID 0, defaulting to 0. Your kernel may not have been built with NUMA support.\n",
      "2024-09-13 15:08:08.671298: I tensorflow/core/common_runtime/pluggable_device/pluggable_device_factory.cc:272] Created TensorFlow device (/job:localhost/replica:0/task:0/device:GPU:0 with 3600 MB memory) -> physical PluggableDevice (device: 0, name: DML, pci bus id: <undefined>)\n",
      "2024-09-13 15:08:08.675463: I tensorflow/core/common_runtime/pluggable_device/pluggable_device_factory.cc:306] Could not identify NUMA node of platform GPU ID 0, defaulting to 0. Your kernel may not have been built with NUMA support.\n",
      "2024-09-13 15:08:08.675532: I tensorflow/core/common_runtime/pluggable_device/pluggable_device_factory.cc:272] Created TensorFlow device (/job:localhost/replica:0/task:0/device:GPU:0 with 3600 MB memory) -> physical PluggableDevice (device: 0, name: DML, pci bus id: <undefined>)\n"
     ]
    },
    {
     "name": "stdout",
     "output_type": "stream",
     "text": [
      "1/1 [==============================] - 1s 708ms/step - loss: 0.6945 - accuracy: 0.5000\n",
      "Epoch 2/20\n",
      "1/1 [==============================] - 0s 130ms/step - loss: 0.6921 - accuracy: 0.5000\n",
      "Epoch 3/20\n",
      "1/1 [==============================] - 0s 125ms/step - loss: 0.6896 - accuracy: 0.5000\n",
      "Epoch 4/20\n",
      "1/1 [==============================] - 0s 134ms/step - loss: 0.6871 - accuracy: 0.6000\n",
      "Epoch 5/20\n",
      "1/1 [==============================] - 0s 165ms/step - loss: 0.6846 - accuracy: 0.6000\n",
      "Epoch 6/20\n",
      "1/1 [==============================] - 0s 118ms/step - loss: 0.6822 - accuracy: 0.6000\n",
      "Epoch 7/20\n",
      "1/1 [==============================] - 0s 152ms/step - loss: 0.6797 - accuracy: 0.7000\n",
      "Epoch 8/20\n",
      "1/1 [==============================] - 0s 129ms/step - loss: 0.6772 - accuracy: 0.7000\n",
      "Epoch 9/20\n",
      "1/1 [==============================] - 0s 97ms/step - loss: 0.6748 - accuracy: 0.7000\n",
      "Epoch 10/20\n",
      "1/1 [==============================] - 0s 117ms/step - loss: 0.6723 - accuracy: 0.9000\n",
      "Epoch 11/20\n",
      "1/1 [==============================] - 0s 111ms/step - loss: 0.6698 - accuracy: 0.9000\n",
      "Epoch 12/20\n",
      "1/1 [==============================] - 0s 187ms/step - loss: 0.6673 - accuracy: 1.0000\n",
      "Epoch 13/20\n",
      "1/1 [==============================] - 0s 143ms/step - loss: 0.6649 - accuracy: 1.0000\n",
      "Epoch 14/20\n",
      "1/1 [==============================] - 0s 137ms/step - loss: 0.6624 - accuracy: 1.0000\n",
      "Epoch 15/20\n",
      "1/1 [==============================] - 0s 143ms/step - loss: 0.6599 - accuracy: 1.0000\n",
      "Epoch 16/20\n",
      "1/1 [==============================] - 0s 142ms/step - loss: 0.6574 - accuracy: 1.0000\n",
      "Epoch 17/20\n",
      "1/1 [==============================] - 0s 124ms/step - loss: 0.6549 - accuracy: 1.0000\n",
      "Epoch 18/20\n",
      "1/1 [==============================] - 0s 115ms/step - loss: 0.6524 - accuracy: 1.0000\n",
      "Epoch 19/20\n",
      "1/1 [==============================] - 0s 147ms/step - loss: 0.6499 - accuracy: 1.0000\n",
      "Epoch 20/20\n",
      "1/1 [==============================] - 0s 125ms/step - loss: 0.6473 - accuracy: 1.0000\n",
      "1/1 [==============================] - 0s 249ms/step - loss: 0.6448 - accuracy: 1.0000\n",
      "1.0\n"
     ]
    },
    {
     "name": "stderr",
     "output_type": "stream",
     "text": [
      "2024-09-13 15:08:11.930303: I tensorflow/core/grappler/optimizers/custom_graph_optimizer_registry.cc:114] Plugin optimizer for device_type GPU is enabled.\n",
      "2024-09-13 15:08:11.968704: I tensorflow/core/common_runtime/pluggable_device/pluggable_device_factory.cc:306] Could not identify NUMA node of platform GPU ID 0, defaulting to 0. Your kernel may not have been built with NUMA support.\n",
      "2024-09-13 15:08:11.968848: I tensorflow/core/common_runtime/pluggable_device/pluggable_device_factory.cc:272] Created TensorFlow device (/job:localhost/replica:0/task:0/device:GPU:0 with 3600 MB memory) -> physical PluggableDevice (device: 0, name: DML, pci bus id: <undefined>)\n"
     ]
    }
   ],
   "source": [
    "model.compile(loss=\"binary_crossentropy\", optimizer='adam', metrics=['accuracy'])\n",
    "model.fit(padding_x, classes, epochs=20)\n",
    "print(model.evaluate(padding_x, classes)[1])\n"
   ]
  },
  {
   "cell_type": "code",
   "execution_count": null,
   "id": "506e4172",
   "metadata": {},
   "outputs": [],
   "source": []
  },
  {
   "cell_type": "code",
   "execution_count": null,
   "id": "c4f46739",
   "metadata": {},
   "outputs": [],
   "source": []
  },
  {
   "cell_type": "code",
   "execution_count": null,
   "id": "44193a53",
   "metadata": {},
   "outputs": [],
   "source": []
  },
  {
   "cell_type": "code",
   "execution_count": null,
   "id": "5d58423c",
   "metadata": {},
   "outputs": [],
   "source": []
  },
  {
   "cell_type": "code",
   "execution_count": null,
   "id": "c192f67f",
   "metadata": {},
   "outputs": [],
   "source": []
  },
  {
   "cell_type": "code",
   "execution_count": null,
   "id": "fb7212de",
   "metadata": {},
   "outputs": [],
   "source": []
  },
  {
   "cell_type": "code",
   "execution_count": null,
   "id": "73bb2128",
   "metadata": {},
   "outputs": [],
   "source": []
  },
  {
   "cell_type": "code",
   "execution_count": null,
   "id": "ef736c34",
   "metadata": {},
   "outputs": [],
   "source": []
  },
  {
   "cell_type": "code",
   "execution_count": null,
   "id": "e49b7bd9",
   "metadata": {},
   "outputs": [],
   "source": []
  },
  {
   "cell_type": "code",
   "execution_count": null,
   "id": "573b17fe",
   "metadata": {},
   "outputs": [],
   "source": []
  },
  {
   "cell_type": "code",
   "execution_count": null,
   "id": "ac57fd98",
   "metadata": {},
   "outputs": [],
   "source": []
  },
  {
   "cell_type": "code",
   "execution_count": null,
   "id": "a13d8318",
   "metadata": {},
   "outputs": [],
   "source": []
  },
  {
   "cell_type": "code",
   "execution_count": null,
   "id": "440c8ff7",
   "metadata": {},
   "outputs": [],
   "source": []
  },
  {
   "cell_type": "code",
   "execution_count": null,
   "id": "d40714d4",
   "metadata": {},
   "outputs": [],
   "source": []
  },
  {
   "cell_type": "code",
   "execution_count": null,
   "id": "518c4132",
   "metadata": {},
   "outputs": [],
   "source": []
  },
  {
   "cell_type": "code",
   "execution_count": null,
   "id": "e2bbbe1f",
   "metadata": {},
   "outputs": [],
   "source": []
  },
  {
   "cell_type": "code",
   "execution_count": null,
   "id": "b35cfdb2",
   "metadata": {},
   "outputs": [],
   "source": []
  },
  {
   "cell_type": "code",
   "execution_count": null,
   "id": "7f9d0ec9",
   "metadata": {},
   "outputs": [],
   "source": []
  }
 ],
 "metadata": {
  "kernelspec": {
   "display_name": "Python 3 (ipykernel)",
   "language": "python",
   "name": "python3"
  },
  "language_info": {
   "codemirror_mode": {
    "name": "ipython",
    "version": 3
   },
   "file_extension": ".py",
   "mimetype": "text/x-python",
   "name": "python",
   "nbconvert_exporter": "python",
   "pygments_lexer": "ipython3",
   "version": "3.9.19"
  }
 },
 "nbformat": 4,
 "nbformat_minor": 5
}
