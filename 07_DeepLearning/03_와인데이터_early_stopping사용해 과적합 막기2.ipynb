{
 "cells": [
  {
   "cell_type": "code",
   "execution_count": 1,
   "id": "bcc0e3c6",
   "metadata": {},
   "outputs": [],
   "source": [
    "import pandas as pd\n",
    "import numpy as np\n",
    "import matplotlib.pyplot as plt\n",
    "import seaborn as sns"
   ]
  },
  {
   "cell_type": "markdown",
   "id": "0e8b584d",
   "metadata": {},
   "source": [
    "1) Alcohol\n",
    "2) Malic acid\n",
    "3) Ash\n",
    "4) Alcalinity of ash  \n",
    "5) Magnesium\n",
    "6) Total phenols\n",
    "7) Flavanoids\n",
    "8) Nonflavanoid phenols\n",
    "9) Proanthocyanins\n",
    "10) Color intensity\n",
    "11) Hue\n",
    "12) OD280/OD315 of diluted wines\n",
    "13) Proline            "
   ]
  },
  {
   "cell_type": "code",
   "execution_count": 2,
   "id": "74fffd01",
   "metadata": {
    "scrolled": true
   },
   "outputs": [
    {
     "data": {
      "text/html": [
       "<div>\n",
       "<style scoped>\n",
       "    .dataframe tbody tr th:only-of-type {\n",
       "        vertical-align: middle;\n",
       "    }\n",
       "\n",
       "    .dataframe tbody tr th {\n",
       "        vertical-align: top;\n",
       "    }\n",
       "\n",
       "    .dataframe thead th {\n",
       "        text-align: right;\n",
       "    }\n",
       "</style>\n",
       "<table border=\"1\" class=\"dataframe\">\n",
       "  <thead>\n",
       "    <tr style=\"text-align: right;\">\n",
       "      <th></th>\n",
       "      <th>0</th>\n",
       "      <th>1</th>\n",
       "      <th>2</th>\n",
       "      <th>3</th>\n",
       "      <th>4</th>\n",
       "      <th>5</th>\n",
       "      <th>6</th>\n",
       "      <th>7</th>\n",
       "      <th>8</th>\n",
       "      <th>9</th>\n",
       "      <th>10</th>\n",
       "      <th>11</th>\n",
       "      <th>12</th>\n",
       "    </tr>\n",
       "  </thead>\n",
       "  <tbody>\n",
       "    <tr>\n",
       "      <th>0</th>\n",
       "      <td>7.4</td>\n",
       "      <td>0.70</td>\n",
       "      <td>0.00</td>\n",
       "      <td>1.9</td>\n",
       "      <td>0.076</td>\n",
       "      <td>11.0</td>\n",
       "      <td>34.0</td>\n",
       "      <td>0.99780</td>\n",
       "      <td>3.51</td>\n",
       "      <td>0.56</td>\n",
       "      <td>9.4</td>\n",
       "      <td>5</td>\n",
       "      <td>1</td>\n",
       "    </tr>\n",
       "    <tr>\n",
       "      <th>1</th>\n",
       "      <td>7.8</td>\n",
       "      <td>0.88</td>\n",
       "      <td>0.00</td>\n",
       "      <td>2.6</td>\n",
       "      <td>0.098</td>\n",
       "      <td>25.0</td>\n",
       "      <td>67.0</td>\n",
       "      <td>0.99680</td>\n",
       "      <td>3.20</td>\n",
       "      <td>0.68</td>\n",
       "      <td>9.8</td>\n",
       "      <td>5</td>\n",
       "      <td>1</td>\n",
       "    </tr>\n",
       "    <tr>\n",
       "      <th>2</th>\n",
       "      <td>7.8</td>\n",
       "      <td>0.76</td>\n",
       "      <td>0.04</td>\n",
       "      <td>2.3</td>\n",
       "      <td>0.092</td>\n",
       "      <td>15.0</td>\n",
       "      <td>54.0</td>\n",
       "      <td>0.99700</td>\n",
       "      <td>3.26</td>\n",
       "      <td>0.65</td>\n",
       "      <td>9.8</td>\n",
       "      <td>5</td>\n",
       "      <td>1</td>\n",
       "    </tr>\n",
       "    <tr>\n",
       "      <th>3</th>\n",
       "      <td>11.2</td>\n",
       "      <td>0.28</td>\n",
       "      <td>0.56</td>\n",
       "      <td>1.9</td>\n",
       "      <td>0.075</td>\n",
       "      <td>17.0</td>\n",
       "      <td>60.0</td>\n",
       "      <td>0.99800</td>\n",
       "      <td>3.16</td>\n",
       "      <td>0.58</td>\n",
       "      <td>9.8</td>\n",
       "      <td>6</td>\n",
       "      <td>1</td>\n",
       "    </tr>\n",
       "    <tr>\n",
       "      <th>4</th>\n",
       "      <td>7.4</td>\n",
       "      <td>0.70</td>\n",
       "      <td>0.00</td>\n",
       "      <td>1.9</td>\n",
       "      <td>0.076</td>\n",
       "      <td>11.0</td>\n",
       "      <td>34.0</td>\n",
       "      <td>0.99780</td>\n",
       "      <td>3.51</td>\n",
       "      <td>0.56</td>\n",
       "      <td>9.4</td>\n",
       "      <td>5</td>\n",
       "      <td>1</td>\n",
       "    </tr>\n",
       "    <tr>\n",
       "      <th>...</th>\n",
       "      <td>...</td>\n",
       "      <td>...</td>\n",
       "      <td>...</td>\n",
       "      <td>...</td>\n",
       "      <td>...</td>\n",
       "      <td>...</td>\n",
       "      <td>...</td>\n",
       "      <td>...</td>\n",
       "      <td>...</td>\n",
       "      <td>...</td>\n",
       "      <td>...</td>\n",
       "      <td>...</td>\n",
       "      <td>...</td>\n",
       "    </tr>\n",
       "    <tr>\n",
       "      <th>6492</th>\n",
       "      <td>6.2</td>\n",
       "      <td>0.21</td>\n",
       "      <td>0.29</td>\n",
       "      <td>1.6</td>\n",
       "      <td>0.039</td>\n",
       "      <td>24.0</td>\n",
       "      <td>92.0</td>\n",
       "      <td>0.99114</td>\n",
       "      <td>3.27</td>\n",
       "      <td>0.50</td>\n",
       "      <td>11.2</td>\n",
       "      <td>6</td>\n",
       "      <td>0</td>\n",
       "    </tr>\n",
       "    <tr>\n",
       "      <th>6493</th>\n",
       "      <td>6.6</td>\n",
       "      <td>0.32</td>\n",
       "      <td>0.36</td>\n",
       "      <td>8.0</td>\n",
       "      <td>0.047</td>\n",
       "      <td>57.0</td>\n",
       "      <td>168.0</td>\n",
       "      <td>0.99490</td>\n",
       "      <td>3.15</td>\n",
       "      <td>0.46</td>\n",
       "      <td>9.6</td>\n",
       "      <td>5</td>\n",
       "      <td>0</td>\n",
       "    </tr>\n",
       "    <tr>\n",
       "      <th>6494</th>\n",
       "      <td>6.5</td>\n",
       "      <td>0.24</td>\n",
       "      <td>0.19</td>\n",
       "      <td>1.2</td>\n",
       "      <td>0.041</td>\n",
       "      <td>30.0</td>\n",
       "      <td>111.0</td>\n",
       "      <td>0.99254</td>\n",
       "      <td>2.99</td>\n",
       "      <td>0.46</td>\n",
       "      <td>9.4</td>\n",
       "      <td>6</td>\n",
       "      <td>0</td>\n",
       "    </tr>\n",
       "    <tr>\n",
       "      <th>6495</th>\n",
       "      <td>5.5</td>\n",
       "      <td>0.29</td>\n",
       "      <td>0.30</td>\n",
       "      <td>1.1</td>\n",
       "      <td>0.022</td>\n",
       "      <td>20.0</td>\n",
       "      <td>110.0</td>\n",
       "      <td>0.98869</td>\n",
       "      <td>3.34</td>\n",
       "      <td>0.38</td>\n",
       "      <td>12.8</td>\n",
       "      <td>7</td>\n",
       "      <td>0</td>\n",
       "    </tr>\n",
       "    <tr>\n",
       "      <th>6496</th>\n",
       "      <td>6.0</td>\n",
       "      <td>0.21</td>\n",
       "      <td>0.38</td>\n",
       "      <td>0.8</td>\n",
       "      <td>0.020</td>\n",
       "      <td>22.0</td>\n",
       "      <td>98.0</td>\n",
       "      <td>0.98941</td>\n",
       "      <td>3.26</td>\n",
       "      <td>0.32</td>\n",
       "      <td>11.8</td>\n",
       "      <td>6</td>\n",
       "      <td>0</td>\n",
       "    </tr>\n",
       "  </tbody>\n",
       "</table>\n",
       "<p>6497 rows × 13 columns</p>\n",
       "</div>"
      ],
      "text/plain": [
       "        0     1     2    3      4     5      6        7     8     9     10  \\\n",
       "0      7.4  0.70  0.00  1.9  0.076  11.0   34.0  0.99780  3.51  0.56   9.4   \n",
       "1      7.8  0.88  0.00  2.6  0.098  25.0   67.0  0.99680  3.20  0.68   9.8   \n",
       "2      7.8  0.76  0.04  2.3  0.092  15.0   54.0  0.99700  3.26  0.65   9.8   \n",
       "3     11.2  0.28  0.56  1.9  0.075  17.0   60.0  0.99800  3.16  0.58   9.8   \n",
       "4      7.4  0.70  0.00  1.9  0.076  11.0   34.0  0.99780  3.51  0.56   9.4   \n",
       "...    ...   ...   ...  ...    ...   ...    ...      ...   ...   ...   ...   \n",
       "6492   6.2  0.21  0.29  1.6  0.039  24.0   92.0  0.99114  3.27  0.50  11.2   \n",
       "6493   6.6  0.32  0.36  8.0  0.047  57.0  168.0  0.99490  3.15  0.46   9.6   \n",
       "6494   6.5  0.24  0.19  1.2  0.041  30.0  111.0  0.99254  2.99  0.46   9.4   \n",
       "6495   5.5  0.29  0.30  1.1  0.022  20.0  110.0  0.98869  3.34  0.38  12.8   \n",
       "6496   6.0  0.21  0.38  0.8  0.020  22.0   98.0  0.98941  3.26  0.32  11.8   \n",
       "\n",
       "      11  12  \n",
       "0      5   1  \n",
       "1      5   1  \n",
       "2      5   1  \n",
       "3      6   1  \n",
       "4      5   1  \n",
       "...   ..  ..  \n",
       "6492   6   0  \n",
       "6493   5   0  \n",
       "6494   6   0  \n",
       "6495   7   0  \n",
       "6496   6   0  \n",
       "\n",
       "[6497 rows x 13 columns]"
      ]
     },
     "execution_count": 2,
     "metadata": {},
     "output_type": "execute_result"
    }
   ],
   "source": [
    "data = pd.read_csv(\"https://raw.githubusercontent.com/haram4th/ADsP/main/wine.csv\", header=None)\n",
    "data"
   ]
  },
  {
   "cell_type": "code",
   "execution_count": 3,
   "id": "feb8d625",
   "metadata": {},
   "outputs": [
    {
     "name": "stdout",
     "output_type": "stream",
     "text": [
      "<class 'pandas.core.frame.DataFrame'>\n",
      "RangeIndex: 6497 entries, 0 to 6496\n",
      "Data columns (total 13 columns):\n",
      " #   Column  Non-Null Count  Dtype  \n",
      "---  ------  --------------  -----  \n",
      " 0   0       6497 non-null   float64\n",
      " 1   1       6497 non-null   float64\n",
      " 2   2       6497 non-null   float64\n",
      " 3   3       6497 non-null   float64\n",
      " 4   4       6497 non-null   float64\n",
      " 5   5       6497 non-null   float64\n",
      " 6   6       6497 non-null   float64\n",
      " 7   7       6497 non-null   float64\n",
      " 8   8       6497 non-null   float64\n",
      " 9   9       6497 non-null   float64\n",
      " 10  10      6497 non-null   float64\n",
      " 11  11      6497 non-null   int64  \n",
      " 12  12      6497 non-null   int64  \n",
      "dtypes: float64(11), int64(2)\n",
      "memory usage: 660.0 KB\n"
     ]
    }
   ],
   "source": [
    "data.info()"
   ]
  },
  {
   "cell_type": "code",
   "execution_count": 4,
   "id": "864d5747",
   "metadata": {},
   "outputs": [
    {
     "data": {
      "text/plain": [
       "<Axes: >"
      ]
     },
     "execution_count": 4,
     "metadata": {},
     "output_type": "execute_result"
    },
    {
     "data": {
      "image/png": "[encoded data removed]",
      "text/plain": [
       "<Figure size 640x480 with 1 Axes>"
      ]
     },
     "metadata": {},
     "output_type": "display_data"
    }
   ],
   "source": [
    "sns.boxplot(data.iloc[:,0:3])"
   ]
  },
  {
   "cell_type": "code",
   "execution_count": 5,
   "id": "4f29150f",
   "metadata": {},
   "outputs": [
    {
     "data": {
      "text/plain": [
       "12\n",
       "0    4898\n",
       "1    1599\n",
       "Name: count, dtype: int64"
      ]
     },
     "execution_count": 5,
     "metadata": {},
     "output_type": "execute_result"
    }
   ],
   "source": [
    "data[12].value_counts()"
   ]
  },
  {
   "cell_type": "code",
   "execution_count": 6,
   "id": "ac1fe001",
   "metadata": {},
   "outputs": [],
   "source": [
    "X = data.drop(12, axis=1)\n",
    "y = data[12]"
   ]
  },
  {
   "cell_type": "code",
   "execution_count": 7,
   "id": "15029dfc",
   "metadata": {},
   "outputs": [],
   "source": [
    "from sklearn.preprocessing import RobustScaler"
   ]
  },
  {
   "cell_type": "code",
   "execution_count": 8,
   "id": "5996e7f2",
   "metadata": {},
   "outputs": [
    {
     "data": {
      "text/plain": [
       "array([[ 0.30769231,  2.41176471, -2.21428571, ...,  0.29411765,\n",
       "        -0.5       , -1.        ],\n",
       "       [ 0.61538462,  3.47058824, -2.21428571, ...,  1.        ,\n",
       "        -0.27777778, -1.        ],\n",
       "       [ 0.61538462,  2.76470588, -1.92857143, ...,  0.82352941,\n",
       "        -0.27777778, -1.        ],\n",
       "       ...,\n",
       "       [-0.38461538, -0.29411765, -0.85714286, ..., -0.29411765,\n",
       "        -0.5       ,  0.        ],\n",
       "       [-1.15384615,  0.        , -0.07142857, ..., -0.76470588,\n",
       "         1.38888889,  1.        ],\n",
       "       [-0.76923077, -0.47058824,  0.5       , ..., -1.11764706,\n",
       "         0.83333333,  0.        ]])"
      ]
     },
     "execution_count": 8,
     "metadata": {},
     "output_type": "execute_result"
    }
   ],
   "source": [
    "rs = RobustScaler()\n",
    "X_scaled = rs.fit_transform(X)\n",
    "X_scaled"
   ]
  },
  {
   "cell_type": "code",
   "execution_count": 9,
   "id": "f688b5a2",
   "metadata": {},
   "outputs": [
    {
     "data": {
      "text/plain": [
       "0       1\n",
       "1       1\n",
       "2       1\n",
       "3       1\n",
       "4       1\n",
       "       ..\n",
       "6492    0\n",
       "6493    0\n",
       "6494    0\n",
       "6495    0\n",
       "6496    0\n",
       "Name: 12, Length: 6497, dtype: int64"
      ]
     },
     "execution_count": 9,
     "metadata": {},
     "output_type": "execute_result"
    }
   ],
   "source": [
    "y"
   ]
  },
  {
   "cell_type": "code",
   "execution_count": 10,
   "id": "02bb04ab",
   "metadata": {},
   "outputs": [],
   "source": [
    "from sklearn.model_selection import train_test_split"
   ]
  },
  {
   "cell_type": "code",
   "execution_count": 11,
   "id": "0e693adb",
   "metadata": {},
   "outputs": [],
   "source": [
    "X_train, X_valid, y_train, y_valid = train_test_split(X_scaled, y, test_size=0.4, stratify=y, random_state=10)\n",
    "X_valid, X_test, y_valid, y_test = train_test_split(X_valid, y_valid, test_size=0.5, stratify=y_valid, random_state=10)"
   ]
  },
  {
   "cell_type": "code",
   "execution_count": 12,
   "id": "1f026a00",
   "metadata": {},
   "outputs": [
    {
     "name": "stderr",
     "output_type": "stream",
     "text": [
      "2024-09-10 15:03:37.212035: I tensorflow/core/platform/cpu_feature_guard.cc:193] This TensorFlow binary is optimized with oneAPI Deep Neural Network Library (oneDNN) to use the following CPU instructions in performance-critical operations:  AVX2 FMA\n",
      "To enable them in other operations, rebuild TensorFlow with the appropriate compiler flags.\n",
      "2024-09-10 15:03:38.938867: I tensorflow/c/logging.cc:34] Successfully opened dynamic library libdirectml.d6f03b303ac3c4f2eeb8ca631688c9757b361310.so\n",
      "2024-09-10 15:03:38.939010: I tensorflow/c/logging.cc:34] Successfully opened dynamic library libdxcore.so\n",
      "2024-09-10 15:03:38.942479: I tensorflow/c/logging.cc:34] Successfully opened dynamic library libd3d12.so\n",
      "2024-09-10 15:03:39.384626: I tensorflow/c/logging.cc:34] DirectML device enumeration: found 1 compatible adapters.\n"
     ]
    }
   ],
   "source": [
    "from tensorflow.keras.models import Sequential, Model\n",
    "from tensorflow.keras.layers import Dense, Input\n",
    "from sklearn.metrics import classification_report"
   ]
  },
  {
   "cell_type": "code",
   "execution_count": 13,
   "id": "2d715f4f",
   "metadata": {},
   "outputs": [
    {
     "name": "stdout",
     "output_type": "stream",
     "text": [
      "Model: \"sequential\"\n",
      "_________________________________________________________________\n",
      " Layer (type)                Output Shape              Param #   \n",
      "=================================================================\n",
      " dense (Dense)               (None, 32)                416       \n",
      "                                                                 \n",
      " dense_1 (Dense)             (None, 16)                528       \n",
      "                                                                 \n",
      " dense_2 (Dense)             (None, 8)                 136       \n",
      "                                                                 \n",
      " dense_3 (Dense)             (None, 1)                 9         \n",
      "                                                                 \n",
      "=================================================================\n",
      "Total params: 1,089\n",
      "Trainable params: 1,089\n",
      "Non-trainable params: 0\n",
      "_________________________________________________________________\n"
     ]
    },
    {
     "name": "stderr",
     "output_type": "stream",
     "text": [
      "2024-09-10 15:03:39.686136: I tensorflow/core/platform/cpu_feature_guard.cc:193] This TensorFlow binary is optimized with oneAPI Deep Neural Network Library (oneDNN) to use the following CPU instructions in performance-critical operations:  AVX2 FMA\n",
      "To enable them in other operations, rebuild TensorFlow with the appropriate compiler flags.\n",
      "2024-09-10 15:03:39.687457: I tensorflow/c/logging.cc:34] DirectML: creating device on adapter 0 (AMD Radeon(TM) Graphics)\n",
      "2024-09-10 15:03:39.763050: I tensorflow/core/common_runtime/pluggable_device/pluggable_device_factory.cc:306] Could not identify NUMA node of platform GPU ID 0, defaulting to 0. Your kernel may not have been built with NUMA support.\n",
      "2024-09-10 15:03:39.763099: W tensorflow/core/common_runtime/pluggable_device/pluggable_device_bfc_allocator.cc:28] Overriding allow_growth setting because force_memory_growth was requested by the device.\n",
      "2024-09-10 15:03:39.763122: I tensorflow/core/common_runtime/pluggable_device/pluggable_device_factory.cc:272] Created TensorFlow device (/job:localhost/replica:0/task:0/device:GPU:0 with 14845 MB memory) -> physical PluggableDevice (device: 0, name: DML, pci bus id: <undefined>)\n"
     ]
    }
   ],
   "source": [
    "model = Sequential()\n",
    "model.add(Dense(32, input_dim=X_train.shape[1], activation='relu'))\n",
    "model.add(Dense(16, activation='relu'))\n",
    "model.add(Dense(8, activation='relu'))\n",
    "model.add(Dense(1, activation='sigmoid'))\n",
    "model.summary()"
   ]
  },
  {
   "cell_type": "code",
   "execution_count": 14,
   "id": "bdfeb8cc",
   "metadata": {},
   "outputs": [
    {
     "name": "stdout",
     "output_type": "stream",
     "text": [
      "Epoch 1/100\n"
     ]
    },
    {
     "name": "stderr",
     "output_type": "stream",
     "text": [
      "2024-09-10 15:03:40.448277: I tensorflow/core/grappler/optimizers/custom_graph_optimizer_registry.cc:114] Plugin optimizer for device_type GPU is enabled.\n",
      "2024-09-10 15:03:40.510835: I tensorflow/core/common_runtime/pluggable_device/pluggable_device_factory.cc:306] Could not identify NUMA node of platform GPU ID 0, defaulting to 0. Your kernel may not have been built with NUMA support.\n",
      "2024-09-10 15:03:40.510896: I tensorflow/core/common_runtime/pluggable_device/pluggable_device_factory.cc:272] Created TensorFlow device (/job:localhost/replica:0/task:0/device:GPU:0 with 14845 MB memory) -> physical PluggableDevice (device: 0, name: DML, pci bus id: <undefined>)\n"
     ]
    },
    {
     "name": "stdout",
     "output_type": "stream",
     "text": [
      "8/8 [==============================] - 1s 72ms/step - loss: 0.6248 - accuracy: 0.6475 - val_loss: 0.5752 - val_accuracy: 0.7552\n",
      "Epoch 2/100\n",
      "8/8 [==============================] - 0s 14ms/step - loss: 0.5312 - accuracy: 0.8158 - val_loss: 0.4911 - val_accuracy: 0.8737\n",
      "Epoch 3/100\n",
      "1/8 [==>...........................] - ETA: 0s - loss: 0.4957 - accuracy: 0.8500"
     ]
    },
    {
     "name": "stderr",
     "output_type": "stream",
     "text": [
      "2024-09-10 15:03:41.297139: I tensorflow/core/grappler/optimizers/custom_graph_optimizer_registry.cc:114] Plugin optimizer for device_type GPU is enabled.\n",
      "2024-09-10 15:03:41.322131: I tensorflow/core/common_runtime/pluggable_device/pluggable_device_factory.cc:306] Could not identify NUMA node of platform GPU ID 0, defaulting to 0. Your kernel may not have been built with NUMA support.\n",
      "2024-09-10 15:03:41.322195: I tensorflow/core/common_runtime/pluggable_device/pluggable_device_factory.cc:272] Created TensorFlow device (/job:localhost/replica:0/task:0/device:GPU:0 with 14845 MB memory) -> physical PluggableDevice (device: 0, name: DML, pci bus id: <undefined>)\n"
     ]
    },
    {
     "name": "stdout",
     "output_type": "stream",
     "text": [
      "8/8 [==============================] - 0s 16ms/step - loss: 0.4511 - accuracy: 0.8971 - val_loss: 0.4178 - val_accuracy: 0.9199\n",
      "Epoch 4/100\n",
      "8/8 [==============================] - 0s 15ms/step - loss: 0.3805 - accuracy: 0.9371 - val_loss: 0.3521 - val_accuracy: 0.9446\n",
      "Epoch 5/100\n",
      "8/8 [==============================] - 0s 14ms/step - loss: 0.3177 - accuracy: 0.9561 - val_loss: 0.2937 - val_accuracy: 0.9630\n",
      "Epoch 6/100\n",
      "8/8 [==============================] - 0s 15ms/step - loss: 0.2627 - accuracy: 0.9656 - val_loss: 0.2430 - val_accuracy: 0.9669\n",
      "Epoch 7/100\n",
      "8/8 [==============================] - 0s 14ms/step - loss: 0.2160 - accuracy: 0.9718 - val_loss: 0.2006 - val_accuracy: 0.9746\n",
      "Epoch 8/100\n",
      "8/8 [==============================] - 0s 15ms/step - loss: 0.1775 - accuracy: 0.9767 - val_loss: 0.1662 - val_accuracy: 0.9784\n",
      "Epoch 9/100\n",
      "8/8 [==============================] - 0s 15ms/step - loss: 0.1463 - accuracy: 0.9795 - val_loss: 0.1391 - val_accuracy: 0.9792\n",
      "Epoch 10/100\n",
      "8/8 [==============================] - 0s 14ms/step - loss: 0.1218 - accuracy: 0.9838 - val_loss: 0.1179 - val_accuracy: 0.9800\n",
      "Epoch 11/100\n",
      "8/8 [==============================] - 0s 14ms/step - loss: 0.1029 - accuracy: 0.9851 - val_loss: 0.1015 - val_accuracy: 0.9808\n",
      "Epoch 12/100\n",
      "8/8 [==============================] - 0s 14ms/step - loss: 0.0879 - accuracy: 0.9879 - val_loss: 0.0889 - val_accuracy: 0.9869\n",
      "Epoch 13/100\n",
      "8/8 [==============================] - 0s 15ms/step - loss: 0.0763 - accuracy: 0.9890 - val_loss: 0.0792 - val_accuracy: 0.9892\n",
      "Epoch 14/100\n",
      "8/8 [==============================] - 0s 18ms/step - loss: 0.0673 - accuracy: 0.9910 - val_loss: 0.0715 - val_accuracy: 0.9931\n",
      "Epoch 15/100\n",
      "8/8 [==============================] - 0s 16ms/step - loss: 0.0603 - accuracy: 0.9913 - val_loss: 0.0655 - val_accuracy: 0.9931\n",
      "Epoch 16/100\n",
      "8/8 [==============================] - 0s 15ms/step - loss: 0.0547 - accuracy: 0.9915 - val_loss: 0.0607 - val_accuracy: 0.9923\n",
      "Epoch 17/100\n",
      "8/8 [==============================] - 0s 15ms/step - loss: 0.0502 - accuracy: 0.9918 - val_loss: 0.0569 - val_accuracy: 0.9931\n",
      "Epoch 18/100\n",
      "8/8 [==============================] - 0s 15ms/step - loss: 0.0465 - accuracy: 0.9918 - val_loss: 0.0539 - val_accuracy: 0.9938\n",
      "Epoch 19/100\n",
      "8/8 [==============================] - 0s 15ms/step - loss: 0.0436 - accuracy: 0.9915 - val_loss: 0.0515 - val_accuracy: 0.9938\n",
      "Epoch 20/100\n",
      "8/8 [==============================] - 0s 15ms/step - loss: 0.0411 - accuracy: 0.9920 - val_loss: 0.0495 - val_accuracy: 0.9938\n",
      "Epoch 21/100\n",
      "8/8 [==============================] - 0s 16ms/step - loss: 0.0390 - accuracy: 0.9926 - val_loss: 0.0477 - val_accuracy: 0.9938\n",
      "Epoch 22/100\n",
      "8/8 [==============================] - 0s 15ms/step - loss: 0.0372 - accuracy: 0.9926 - val_loss: 0.0463 - val_accuracy: 0.9931\n",
      "Epoch 23/100\n",
      "8/8 [==============================] - 0s 15ms/step - loss: 0.0357 - accuracy: 0.9931 - val_loss: 0.0451 - val_accuracy: 0.9931\n",
      "Epoch 24/100\n",
      "8/8 [==============================] - 0s 15ms/step - loss: 0.0342 - accuracy: 0.9931 - val_loss: 0.0441 - val_accuracy: 0.9938\n",
      "Epoch 25/100\n",
      "8/8 [==============================] - 0s 14ms/step - loss: 0.0330 - accuracy: 0.9933 - val_loss: 0.0432 - val_accuracy: 0.9931\n",
      "Epoch 26/100\n",
      "8/8 [==============================] - 0s 16ms/step - loss: 0.0319 - accuracy: 0.9936 - val_loss: 0.0424 - val_accuracy: 0.9938\n",
      "Epoch 27/100\n",
      "8/8 [==============================] - 0s 15ms/step - loss: 0.0308 - accuracy: 0.9936 - val_loss: 0.0417 - val_accuracy: 0.9938\n",
      "Epoch 28/100\n",
      "8/8 [==============================] - 0s 15ms/step - loss: 0.0299 - accuracy: 0.9938 - val_loss: 0.0411 - val_accuracy: 0.9938\n",
      "Epoch 29/100\n",
      "8/8 [==============================] - 0s 15ms/step - loss: 0.0290 - accuracy: 0.9941 - val_loss: 0.0406 - val_accuracy: 0.9938\n",
      "Epoch 30/100\n",
      "8/8 [==============================] - 0s 15ms/step - loss: 0.0282 - accuracy: 0.9941 - val_loss: 0.0402 - val_accuracy: 0.9938\n",
      "Epoch 31/100\n",
      "8/8 [==============================] - 0s 15ms/step - loss: 0.0275 - accuracy: 0.9944 - val_loss: 0.0398 - val_accuracy: 0.9938\n",
      "Epoch 32/100\n",
      "8/8 [==============================] - 0s 14ms/step - loss: 0.0269 - accuracy: 0.9946 - val_loss: 0.0393 - val_accuracy: 0.9938\n",
      "Epoch 33/100\n",
      "8/8 [==============================] - 0s 14ms/step - loss: 0.0263 - accuracy: 0.9946 - val_loss: 0.0390 - val_accuracy: 0.9938\n",
      "Epoch 34/100\n",
      "8/8 [==============================] - 0s 15ms/step - loss: 0.0256 - accuracy: 0.9949 - val_loss: 0.0386 - val_accuracy: 0.9938\n",
      "Epoch 35/100\n",
      "8/8 [==============================] - 0s 15ms/step - loss: 0.0251 - accuracy: 0.9949 - val_loss: 0.0383 - val_accuracy: 0.9938\n",
      "Epoch 36/100\n",
      "8/8 [==============================] - 0s 15ms/step - loss: 0.0246 - accuracy: 0.9954 - val_loss: 0.0379 - val_accuracy: 0.9938\n",
      "Epoch 37/100\n",
      "8/8 [==============================] - 0s 14ms/step - loss: 0.0241 - accuracy: 0.9956 - val_loss: 0.0377 - val_accuracy: 0.9938\n",
      "Epoch 38/100\n",
      "8/8 [==============================] - 0s 15ms/step - loss: 0.0235 - accuracy: 0.9956 - val_loss: 0.0375 - val_accuracy: 0.9938\n",
      "Epoch 39/100\n",
      "8/8 [==============================] - 0s 14ms/step - loss: 0.0231 - accuracy: 0.9956 - val_loss: 0.0374 - val_accuracy: 0.9938\n",
      "Epoch 40/100\n",
      "8/8 [==============================] - 0s 15ms/step - loss: 0.0227 - accuracy: 0.9956 - val_loss: 0.0372 - val_accuracy: 0.9938\n",
      "Epoch 41/100\n",
      "8/8 [==============================] - 0s 14ms/step - loss: 0.0223 - accuracy: 0.9956 - val_loss: 0.0368 - val_accuracy: 0.9938\n",
      "Epoch 42/100\n",
      "8/8 [==============================] - 0s 14ms/step - loss: 0.0219 - accuracy: 0.9956 - val_loss: 0.0367 - val_accuracy: 0.9938\n",
      "Epoch 43/100\n",
      "8/8 [==============================] - 0s 15ms/step - loss: 0.0216 - accuracy: 0.9956 - val_loss: 0.0365 - val_accuracy: 0.9938\n",
      "Epoch 44/100\n",
      "8/8 [==============================] - 0s 14ms/step - loss: 0.0212 - accuracy: 0.9956 - val_loss: 0.0364 - val_accuracy: 0.9938\n",
      "Epoch 45/100\n",
      "8/8 [==============================] - 0s 14ms/step - loss: 0.0209 - accuracy: 0.9956 - val_loss: 0.0362 - val_accuracy: 0.9938\n",
      "Epoch 46/100\n",
      "8/8 [==============================] - 0s 14ms/step - loss: 0.0206 - accuracy: 0.9959 - val_loss: 0.0361 - val_accuracy: 0.9938\n",
      "Epoch 47/100\n",
      "8/8 [==============================] - 0s 14ms/step - loss: 0.0203 - accuracy: 0.9959 - val_loss: 0.0361 - val_accuracy: 0.9938\n",
      "Epoch 48/100\n",
      "8/8 [==============================] - 0s 14ms/step - loss: 0.0199 - accuracy: 0.9962 - val_loss: 0.0360 - val_accuracy: 0.9946\n",
      "Epoch 49/100\n",
      "8/8 [==============================] - 0s 15ms/step - loss: 0.0197 - accuracy: 0.9962 - val_loss: 0.0357 - val_accuracy: 0.9946\n",
      "Epoch 50/100\n",
      "8/8 [==============================] - 0s 14ms/step - loss: 0.0194 - accuracy: 0.9962 - val_loss: 0.0357 - val_accuracy: 0.9946\n",
      "Epoch 51/100\n",
      "8/8 [==============================] - 0s 14ms/step - loss: 0.0192 - accuracy: 0.9962 - val_loss: 0.0354 - val_accuracy: 0.9946\n",
      "Epoch 52/100\n",
      "8/8 [==============================] - 0s 14ms/step - loss: 0.0188 - accuracy: 0.9962 - val_loss: 0.0353 - val_accuracy: 0.9946\n",
      "Epoch 53/100\n",
      "8/8 [==============================] - 0s 16ms/step - loss: 0.0185 - accuracy: 0.9962 - val_loss: 0.0354 - val_accuracy: 0.9946\n",
      "Epoch 54/100\n",
      "8/8 [==============================] - 0s 17ms/step - loss: 0.0183 - accuracy: 0.9962 - val_loss: 0.0354 - val_accuracy: 0.9946\n",
      "Epoch 55/100\n",
      "8/8 [==============================] - 0s 16ms/step - loss: 0.0180 - accuracy: 0.9962 - val_loss: 0.0351 - val_accuracy: 0.9946\n",
      "Epoch 56/100\n",
      "8/8 [==============================] - 0s 14ms/step - loss: 0.0177 - accuracy: 0.9962 - val_loss: 0.0350 - val_accuracy: 0.9946\n",
      "Epoch 57/100\n",
      "8/8 [==============================] - 0s 16ms/step - loss: 0.0175 - accuracy: 0.9962 - val_loss: 0.0350 - val_accuracy: 0.9946\n",
      "Epoch 58/100\n",
      "8/8 [==============================] - 0s 17ms/step - loss: 0.0173 - accuracy: 0.9962 - val_loss: 0.0350 - val_accuracy: 0.9946\n",
      "Epoch 59/100\n",
      "8/8 [==============================] - 0s 15ms/step - loss: 0.0170 - accuracy: 0.9962 - val_loss: 0.0349 - val_accuracy: 0.9946\n",
      "Epoch 60/100\n",
      "8/8 [==============================] - 0s 15ms/step - loss: 0.0168 - accuracy: 0.9962 - val_loss: 0.0349 - val_accuracy: 0.9946\n",
      "Epoch 61/100\n"
     ]
    },
    {
     "name": "stdout",
     "output_type": "stream",
     "text": [
      "8/8 [==============================] - 0s 15ms/step - loss: 0.0167 - accuracy: 0.9962 - val_loss: 0.0346 - val_accuracy: 0.9954\n",
      "Epoch 62/100\n",
      "8/8 [==============================] - 0s 14ms/step - loss: 0.0164 - accuracy: 0.9964 - val_loss: 0.0347 - val_accuracy: 0.9946\n",
      "Epoch 63/100\n",
      "8/8 [==============================] - 0s 15ms/step - loss: 0.0162 - accuracy: 0.9964 - val_loss: 0.0347 - val_accuracy: 0.9946\n",
      "Epoch 64/100\n",
      "8/8 [==============================] - 0s 15ms/step - loss: 0.0160 - accuracy: 0.9964 - val_loss: 0.0346 - val_accuracy: 0.9946\n",
      "Epoch 65/100\n",
      "8/8 [==============================] - 0s 15ms/step - loss: 0.0158 - accuracy: 0.9964 - val_loss: 0.0346 - val_accuracy: 0.9946\n",
      "Epoch 66/100\n",
      "8/8 [==============================] - 0s 15ms/step - loss: 0.0157 - accuracy: 0.9964 - val_loss: 0.0346 - val_accuracy: 0.9946\n",
      "Epoch 67/100\n",
      "8/8 [==============================] - 0s 15ms/step - loss: 0.0155 - accuracy: 0.9964 - val_loss: 0.0345 - val_accuracy: 0.9946\n",
      "Epoch 68/100\n",
      "8/8 [==============================] - 0s 15ms/step - loss: 0.0153 - accuracy: 0.9964 - val_loss: 0.0342 - val_accuracy: 0.9954\n",
      "Epoch 69/100\n",
      "8/8 [==============================] - 0s 14ms/step - loss: 0.0151 - accuracy: 0.9964 - val_loss: 0.0342 - val_accuracy: 0.9954\n",
      "Epoch 70/100\n",
      "8/8 [==============================] - 0s 15ms/step - loss: 0.0150 - accuracy: 0.9964 - val_loss: 0.0342 - val_accuracy: 0.9954\n",
      "Epoch 71/100\n",
      "8/8 [==============================] - 0s 17ms/step - loss: 0.0148 - accuracy: 0.9964 - val_loss: 0.0343 - val_accuracy: 0.9954\n",
      "Epoch 72/100\n",
      "8/8 [==============================] - 0s 16ms/step - loss: 0.0146 - accuracy: 0.9964 - val_loss: 0.0343 - val_accuracy: 0.9954\n",
      "Epoch 73/100\n",
      "8/8 [==============================] - 0s 14ms/step - loss: 0.0145 - accuracy: 0.9967 - val_loss: 0.0343 - val_accuracy: 0.9946\n",
      "Epoch 74/100\n",
      "8/8 [==============================] - 0s 14ms/step - loss: 0.0143 - accuracy: 0.9967 - val_loss: 0.0341 - val_accuracy: 0.9954\n",
      "Epoch 75/100\n",
      "8/8 [==============================] - 0s 14ms/step - loss: 0.0142 - accuracy: 0.9967 - val_loss: 0.0340 - val_accuracy: 0.9954\n",
      "Epoch 76/100\n",
      "8/8 [==============================] - 0s 14ms/step - loss: 0.0140 - accuracy: 0.9967 - val_loss: 0.0339 - val_accuracy: 0.9954\n",
      "Epoch 77/100\n",
      "8/8 [==============================] - 0s 15ms/step - loss: 0.0139 - accuracy: 0.9969 - val_loss: 0.0340 - val_accuracy: 0.9954\n",
      "Epoch 78/100\n",
      "8/8 [==============================] - 0s 14ms/step - loss: 0.0138 - accuracy: 0.9969 - val_loss: 0.0340 - val_accuracy: 0.9954\n",
      "Epoch 79/100\n",
      "8/8 [==============================] - 0s 15ms/step - loss: 0.0136 - accuracy: 0.9969 - val_loss: 0.0338 - val_accuracy: 0.9954\n",
      "Epoch 80/100\n",
      "8/8 [==============================] - 0s 15ms/step - loss: 0.0135 - accuracy: 0.9969 - val_loss: 0.0337 - val_accuracy: 0.9954\n",
      "Epoch 81/100\n",
      "8/8 [==============================] - 0s 15ms/step - loss: 0.0134 - accuracy: 0.9969 - val_loss: 0.0337 - val_accuracy: 0.9954\n",
      "Epoch 82/100\n",
      "8/8 [==============================] - 0s 14ms/step - loss: 0.0132 - accuracy: 0.9969 - val_loss: 0.0338 - val_accuracy: 0.9954\n",
      "Epoch 83/100\n",
      "8/8 [==============================] - 0s 14ms/step - loss: 0.0131 - accuracy: 0.9969 - val_loss: 0.0337 - val_accuracy: 0.9954\n",
      "Epoch 84/100\n",
      "8/8 [==============================] - 0s 14ms/step - loss: 0.0130 - accuracy: 0.9969 - val_loss: 0.0336 - val_accuracy: 0.9954\n",
      "Epoch 85/100\n",
      "8/8 [==============================] - 0s 15ms/step - loss: 0.0129 - accuracy: 0.9969 - val_loss: 0.0336 - val_accuracy: 0.9954\n",
      "Epoch 86/100\n",
      "8/8 [==============================] - 0s 15ms/step - loss: 0.0127 - accuracy: 0.9972 - val_loss: 0.0336 - val_accuracy: 0.9954\n",
      "Epoch 87/100\n",
      "8/8 [==============================] - 0s 15ms/step - loss: 0.0126 - accuracy: 0.9972 - val_loss: 0.0335 - val_accuracy: 0.9954\n",
      "Epoch 88/100\n",
      "8/8 [==============================] - 0s 14ms/step - loss: 0.0125 - accuracy: 0.9972 - val_loss: 0.0335 - val_accuracy: 0.9954\n",
      "Epoch 89/100\n",
      "8/8 [==============================] - 0s 14ms/step - loss: 0.0124 - accuracy: 0.9974 - val_loss: 0.0335 - val_accuracy: 0.9954\n",
      "Epoch 90/100\n",
      "8/8 [==============================] - 0s 14ms/step - loss: 0.0123 - accuracy: 0.9972 - val_loss: 0.0334 - val_accuracy: 0.9954\n",
      "Epoch 91/100\n",
      "8/8 [==============================] - 0s 15ms/step - loss: 0.0122 - accuracy: 0.9972 - val_loss: 0.0334 - val_accuracy: 0.9954\n",
      "Epoch 92/100\n",
      "8/8 [==============================] - 0s 15ms/step - loss: 0.0121 - accuracy: 0.9974 - val_loss: 0.0335 - val_accuracy: 0.9954\n",
      "Epoch 93/100\n",
      "8/8 [==============================] - 0s 15ms/step - loss: 0.0120 - accuracy: 0.9974 - val_loss: 0.0334 - val_accuracy: 0.9954\n",
      "Epoch 94/100\n",
      "8/8 [==============================] - 0s 14ms/step - loss: 0.0119 - accuracy: 0.9974 - val_loss: 0.0334 - val_accuracy: 0.9954\n",
      "Epoch 95/100\n",
      "8/8 [==============================] - 0s 14ms/step - loss: 0.0118 - accuracy: 0.9974 - val_loss: 0.0332 - val_accuracy: 0.9954\n",
      "Epoch 96/100\n",
      "8/8 [==============================] - 0s 14ms/step - loss: 0.0117 - accuracy: 0.9974 - val_loss: 0.0336 - val_accuracy: 0.9954\n",
      "Epoch 97/100\n",
      "8/8 [==============================] - 0s 15ms/step - loss: 0.0116 - accuracy: 0.9974 - val_loss: 0.0333 - val_accuracy: 0.9954\n",
      "Epoch 98/100\n",
      "8/8 [==============================] - 0s 14ms/step - loss: 0.0115 - accuracy: 0.9974 - val_loss: 0.0334 - val_accuracy: 0.9954\n",
      "Epoch 99/100\n",
      "8/8 [==============================] - 0s 16ms/step - loss: 0.0113 - accuracy: 0.9977 - val_loss: 0.0334 - val_accuracy: 0.9954\n",
      "Epoch 100/100\n",
      "8/8 [==============================] - 0s 17ms/step - loss: 0.0113 - accuracy: 0.9977 - val_loss: 0.0334 - val_accuracy: 0.9954\n"
     ]
    }
   ],
   "source": [
    "model.compile(loss='binary_crossentropy', optimizer='adam', metrics=['accuracy'])\n",
    "history = model.fit(X_train, y_train, epochs=100, batch_size=500, validation_data=(X_valid, y_valid))"
   ]
  },
  {
   "cell_type": "code",
   "execution_count": 15,
   "id": "ab09803e",
   "metadata": {},
   "outputs": [
    {
     "name": "stdout",
     "output_type": "stream",
     "text": [
      "41/41 [==============================] - 0s 3ms/step\n",
      "              precision    recall  f1-score   support\n",
      "\n",
      "           0       0.99      1.00      1.00       980\n",
      "           1       1.00      0.98      0.99       320\n",
      "\n",
      "    accuracy                           1.00      1300\n",
      "   macro avg       1.00      0.99      0.99      1300\n",
      "weighted avg       1.00      1.00      1.00      1300\n",
      "\n"
     ]
    },
    {
     "name": "stderr",
     "output_type": "stream",
     "text": [
      "2024-09-10 15:03:53.228994: I tensorflow/core/grappler/optimizers/custom_graph_optimizer_registry.cc:114] Plugin optimizer for device_type GPU is enabled.\n",
      "2024-09-10 15:03:53.366864: I tensorflow/core/common_runtime/pluggable_device/pluggable_device_factory.cc:306] Could not identify NUMA node of platform GPU ID 0, defaulting to 0. Your kernel may not have been built with NUMA support.\n",
      "2024-09-10 15:03:53.366922: I tensorflow/core/common_runtime/pluggable_device/pluggable_device_factory.cc:272] Created TensorFlow device (/job:localhost/replica:0/task:0/device:GPU:0 with 14845 MB memory) -> physical PluggableDevice (device: 0, name: DML, pci bus id: <undefined>)\n",
      "2024-09-10 15:03:53.384041: I tensorflow/core/common_runtime/pluggable_device/pluggable_device_factory.cc:306] Could not identify NUMA node of platform GPU ID 0, defaulting to 0. Your kernel may not have been built with NUMA support.\n",
      "2024-09-10 15:03:53.384102: I tensorflow/core/common_runtime/pluggable_device/pluggable_device_factory.cc:272] Created TensorFlow device (/job:localhost/replica:0/task:0/device:GPU:0 with 14845 MB memory) -> physical PluggableDevice (device: 0, name: DML, pci bus id: <undefined>)\n",
      "2024-09-10 15:03:53.387447: I tensorflow/core/common_runtime/pluggable_device/pluggable_device_factory.cc:306] Could not identify NUMA node of platform GPU ID 0, defaulting to 0. Your kernel may not have been built with NUMA support.\n",
      "2024-09-10 15:03:53.387506: I tensorflow/core/common_runtime/pluggable_device/pluggable_device_factory.cc:272] Created TensorFlow device (/job:localhost/replica:0/task:0/device:GPU:0 with 14845 MB memory) -> physical PluggableDevice (device: 0, name: DML, pci bus id: <undefined>)\n"
     ]
    }
   ],
   "source": [
    "pred = model.predict(X_test)\n",
    "pred = pd.DataFrame(pred)\n",
    "pred = pred[0].apply(lambda x: 1 if x > 0.5 else 0)\n",
    "print(classification_report(y_test, pred))"
   ]
  },
  {
   "cell_type": "code",
   "execution_count": 16,
   "id": "d9ad6447",
   "metadata": {},
   "outputs": [
    {
     "data": {
      "text/plain": [
       "dict_keys(['loss', 'accuracy', 'val_loss', 'val_accuracy'])"
      ]
     },
     "execution_count": 16,
     "metadata": {},
     "output_type": "execute_result"
    }
   ],
   "source": [
    "history.history.keys()"
   ]
  },
  {
   "cell_type": "code",
   "execution_count": 17,
   "id": "786dafa8",
   "metadata": {},
   "outputs": [
    {
     "data": {
      "image/png": "[encoded data removed]",
      "text/plain": [
       "<Figure size 800x400 with 1 Axes>"
      ]
     },
     "metadata": {},
     "output_type": "display_data"
    }
   ],
   "source": [
    "plt.figure(figsize=(8, 4))\n",
    "plt.plot(history.history['loss'])\n",
    "plt.plot(history.history['val_loss'])\n",
    "plt.xlabel(\"epochs\")\n",
    "plt.ylabel(\"loss\")\n",
    "plt.legend(['train', 'valid'])\n",
    "plt.show()"
   ]
  },
  {
   "cell_type": "markdown",
   "id": "da023ad7",
   "metadata": {},
   "source": [
    "# EarlyStopping으로 학습 조기 중단 및 저장하기"
   ]
  },
  {
   "cell_type": "code",
   "execution_count": 18,
   "id": "8c95e43d",
   "metadata": {},
   "outputs": [],
   "source": [
    "from tensorflow.keras.callbacks import EarlyStopping, ModelCheckpoint"
   ]
  },
  {
   "cell_type": "code",
   "execution_count": 19,
   "id": "01b8d40c",
   "metadata": {},
   "outputs": [],
   "source": [
    "early_stopping_callback = EarlyStopping(monitor='val_loss', patience=50)"
   ]
  },
  {
   "cell_type": "markdown",
   "id": "8fd4b0bf",
   "metadata": {},
   "source": [
    "# ModelCheckpoint\n",
    "* 모델을 중간에 저장하는 옵션"
   ]
  },
  {
   "cell_type": "code",
   "execution_count": 20,
   "id": "bc53574e",
   "metadata": {},
   "outputs": [
    {
     "name": "stdout",
     "output_type": "stream",
     "text": [
      "Directory /model already exists.\n"
     ]
    }
   ],
   "source": [
    "import os\n",
    "if not os.path.exists(\"./model\"):\n",
    "    os.makedirs(\"./model\")\n",
    "    print(f\"Directory /model created.\")\n",
    "else:\n",
    "    print(f\"Directory /model already exists.\")"
   ]
  },
  {
   "cell_type": "code",
   "execution_count": 21,
   "id": "2a04dae8",
   "metadata": {},
   "outputs": [],
   "source": [
    "modelpath = \"./model/{epoch:03d}--{val_loss:.4f}.keras\"\n",
    "checkpointer = ModelCheckpoint(filepath=modelpath, monitor='val_loss', verbose=0, save_best_only=True)"
   ]
  },
  {
   "cell_type": "code",
   "execution_count": 22,
   "id": "28ab4eab",
   "metadata": {},
   "outputs": [
    {
     "name": "stdout",
     "output_type": "stream",
     "text": [
      "Epoch 1/1000\n",
      "8/8 [==============================] - 0s 28ms/step - loss: 0.0112 - accuracy: 0.9979 - val_loss: 0.0333 - val_accuracy: 0.9954\n",
      "Epoch 2/1000\n",
      "8/8 [==============================] - 0s 22ms/step - loss: 0.0111 - accuracy: 0.9979 - val_loss: 0.0332 - val_accuracy: 0.9954\n",
      "Epoch 3/1000\n",
      "8/8 [==============================] - 0s 15ms/step - loss: 0.0110 - accuracy: 0.9979 - val_loss: 0.0333 - val_accuracy: 0.9954\n",
      "Epoch 4/1000\n",
      "8/8 [==============================] - 0s 14ms/step - loss: 0.0109 - accuracy: 0.9979 - val_loss: 0.0333 - val_accuracy: 0.9954\n",
      "Epoch 5/1000\n",
      "8/8 [==============================] - 0s 21ms/step - loss: 0.0108 - accuracy: 0.9979 - val_loss: 0.0331 - val_accuracy: 0.9954\n",
      "Epoch 6/1000\n",
      "8/8 [==============================] - 0s 22ms/step - loss: 0.0107 - accuracy: 0.9979 - val_loss: 0.0330 - val_accuracy: 0.9954\n",
      "Epoch 7/1000\n",
      "8/8 [==============================] - 0s 15ms/step - loss: 0.0106 - accuracy: 0.9979 - val_loss: 0.0331 - val_accuracy: 0.9954\n",
      "Epoch 8/1000\n",
      "8/8 [==============================] - 0s 15ms/step - loss: 0.0105 - accuracy: 0.9979 - val_loss: 0.0331 - val_accuracy: 0.9962\n",
      "Epoch 9/1000\n",
      "8/8 [==============================] - 0s 15ms/step - loss: 0.0104 - accuracy: 0.9982 - val_loss: 0.0330 - val_accuracy: 0.9962\n",
      "Epoch 10/1000\n",
      "8/8 [==============================] - 0s 14ms/step - loss: 0.0103 - accuracy: 0.9982 - val_loss: 0.0331 - val_accuracy: 0.9962\n",
      "Epoch 11/1000\n",
      "8/8 [==============================] - 0s 14ms/step - loss: 0.0103 - accuracy: 0.9982 - val_loss: 0.0332 - val_accuracy: 0.9954\n",
      "Epoch 12/1000\n",
      "8/8 [==============================] - 0s 21ms/step - loss: 0.0102 - accuracy: 0.9979 - val_loss: 0.0330 - val_accuracy: 0.9962\n",
      "Epoch 13/1000\n",
      "8/8 [==============================] - 0s 22ms/step - loss: 0.0101 - accuracy: 0.9982 - val_loss: 0.0330 - val_accuracy: 0.9962\n",
      "Epoch 14/1000\n",
      "8/8 [==============================] - 0s 15ms/step - loss: 0.0100 - accuracy: 0.9982 - val_loss: 0.0332 - val_accuracy: 0.9954\n",
      "Epoch 15/1000\n",
      "8/8 [==============================] - 0s 15ms/step - loss: 0.0100 - accuracy: 0.9982 - val_loss: 0.0332 - val_accuracy: 0.9954\n",
      "Epoch 16/1000\n",
      "8/8 [==============================] - 0s 21ms/step - loss: 0.0099 - accuracy: 0.9982 - val_loss: 0.0330 - val_accuracy: 0.9962\n",
      "Epoch 17/1000\n",
      "8/8 [==============================] - 0s 21ms/step - loss: 0.0098 - accuracy: 0.9982 - val_loss: 0.0329 - val_accuracy: 0.9962\n",
      "Epoch 18/1000\n",
      "8/8 [==============================] - 0s 22ms/step - loss: 0.0097 - accuracy: 0.9982 - val_loss: 0.0329 - val_accuracy: 0.9962\n",
      "Epoch 19/1000\n",
      "8/8 [==============================] - 0s 16ms/step - loss: 0.0097 - accuracy: 0.9982 - val_loss: 0.0332 - val_accuracy: 0.9954\n",
      "Epoch 20/1000\n",
      "8/8 [==============================] - 0s 14ms/step - loss: 0.0095 - accuracy: 0.9982 - val_loss: 0.0331 - val_accuracy: 0.9954\n",
      "Epoch 21/1000\n",
      "8/8 [==============================] - 0s 15ms/step - loss: 0.0095 - accuracy: 0.9982 - val_loss: 0.0330 - val_accuracy: 0.9954\n",
      "Epoch 22/1000\n",
      "8/8 [==============================] - 0s 14ms/step - loss: 0.0094 - accuracy: 0.9982 - val_loss: 0.0329 - val_accuracy: 0.9962\n",
      "Epoch 23/1000\n",
      "8/8 [==============================] - 0s 15ms/step - loss: 0.0093 - accuracy: 0.9982 - val_loss: 0.0331 - val_accuracy: 0.9954\n",
      "Epoch 24/1000\n",
      "8/8 [==============================] - 0s 14ms/step - loss: 0.0093 - accuracy: 0.9982 - val_loss: 0.0329 - val_accuracy: 0.9954\n",
      "Epoch 25/1000\n",
      "8/8 [==============================] - 0s 14ms/step - loss: 0.0092 - accuracy: 0.9982 - val_loss: 0.0330 - val_accuracy: 0.9954\n",
      "Epoch 26/1000\n",
      "8/8 [==============================] - 0s 15ms/step - loss: 0.0091 - accuracy: 0.9985 - val_loss: 0.0331 - val_accuracy: 0.9954\n",
      "Epoch 27/1000\n",
      "8/8 [==============================] - 0s 14ms/step - loss: 0.0090 - accuracy: 0.9985 - val_loss: 0.0329 - val_accuracy: 0.9962\n",
      "Epoch 28/1000\n",
      "8/8 [==============================] - 0s 15ms/step - loss: 0.0090 - accuracy: 0.9985 - val_loss: 0.0331 - val_accuracy: 0.9954\n",
      "Epoch 29/1000\n",
      "8/8 [==============================] - 0s 15ms/step - loss: 0.0089 - accuracy: 0.9985 - val_loss: 0.0330 - val_accuracy: 0.9962\n",
      "Epoch 30/1000\n",
      "8/8 [==============================] - 0s 15ms/step - loss: 0.0088 - accuracy: 0.9985 - val_loss: 0.0329 - val_accuracy: 0.9962\n",
      "Epoch 31/1000\n",
      "8/8 [==============================] - 0s 21ms/step - loss: 0.0088 - accuracy: 0.9987 - val_loss: 0.0328 - val_accuracy: 0.9962\n",
      "Epoch 32/1000\n",
      "8/8 [==============================] - 0s 15ms/step - loss: 0.0087 - accuracy: 0.9987 - val_loss: 0.0328 - val_accuracy: 0.9962\n",
      "Epoch 33/1000\n",
      "8/8 [==============================] - 0s 15ms/step - loss: 0.0086 - accuracy: 0.9987 - val_loss: 0.0329 - val_accuracy: 0.9954\n",
      "Epoch 34/1000\n",
      "8/8 [==============================] - 0s 21ms/step - loss: 0.0086 - accuracy: 0.9987 - val_loss: 0.0327 - val_accuracy: 0.9962\n",
      "Epoch 35/1000\n",
      "8/8 [==============================] - 0s 15ms/step - loss: 0.0085 - accuracy: 0.9987 - val_loss: 0.0327 - val_accuracy: 0.9962\n",
      "Epoch 36/1000\n",
      "8/8 [==============================] - 0s 15ms/step - loss: 0.0084 - accuracy: 0.9987 - val_loss: 0.0330 - val_accuracy: 0.9954\n",
      "Epoch 37/1000\n",
      "8/8 [==============================] - 0s 14ms/step - loss: 0.0084 - accuracy: 0.9987 - val_loss: 0.0330 - val_accuracy: 0.9954\n",
      "Epoch 38/1000\n",
      "8/8 [==============================] - 0s 14ms/step - loss: 0.0083 - accuracy: 0.9987 - val_loss: 0.0327 - val_accuracy: 0.9962\n",
      "Epoch 39/1000\n",
      "8/8 [==============================] - 0s 22ms/step - loss: 0.0082 - accuracy: 0.9987 - val_loss: 0.0326 - val_accuracy: 0.9962\n",
      "Epoch 40/1000\n",
      "8/8 [==============================] - 0s 16ms/step - loss: 0.0082 - accuracy: 0.9987 - val_loss: 0.0326 - val_accuracy: 0.9962\n",
      "Epoch 41/1000\n",
      "8/8 [==============================] - 0s 16ms/step - loss: 0.0082 - accuracy: 0.9987 - val_loss: 0.0331 - val_accuracy: 0.9954\n",
      "Epoch 42/1000\n",
      "8/8 [==============================] - 0s 15ms/step - loss: 0.0081 - accuracy: 0.9987 - val_loss: 0.0328 - val_accuracy: 0.9962\n",
      "Epoch 43/1000\n",
      "8/8 [==============================] - 0s 15ms/step - loss: 0.0080 - accuracy: 0.9987 - val_loss: 0.0326 - val_accuracy: 0.9962\n",
      "Epoch 44/1000\n",
      "8/8 [==============================] - 0s 14ms/step - loss: 0.0079 - accuracy: 0.9987 - val_loss: 0.0329 - val_accuracy: 0.9954\n",
      "Epoch 45/1000\n",
      "8/8 [==============================] - 0s 15ms/step - loss: 0.0079 - accuracy: 0.9987 - val_loss: 0.0330 - val_accuracy: 0.9954\n",
      "Epoch 46/1000\n",
      "8/8 [==============================] - 0s 14ms/step - loss: 0.0079 - accuracy: 0.9987 - val_loss: 0.0331 - val_accuracy: 0.9954\n",
      "Epoch 47/1000\n",
      "8/8 [==============================] - 0s 15ms/step - loss: 0.0078 - accuracy: 0.9987 - val_loss: 0.0329 - val_accuracy: 0.9962\n",
      "Epoch 48/1000\n",
      "8/8 [==============================] - 0s 21ms/step - loss: 0.0077 - accuracy: 0.9987 - val_loss: 0.0325 - val_accuracy: 0.9962\n",
      "Epoch 49/1000\n",
      "8/8 [==============================] - 0s 15ms/step - loss: 0.0077 - accuracy: 0.9987 - val_loss: 0.0326 - val_accuracy: 0.9962\n",
      "Epoch 50/1000\n",
      "8/8 [==============================] - 0s 15ms/step - loss: 0.0076 - accuracy: 0.9987 - val_loss: 0.0326 - val_accuracy: 0.9962\n",
      "Epoch 51/1000\n",
      "8/8 [==============================] - 0s 14ms/step - loss: 0.0075 - accuracy: 0.9987 - val_loss: 0.0327 - val_accuracy: 0.9962\n",
      "Epoch 52/1000\n",
      "8/8 [==============================] - 0s 15ms/step - loss: 0.0075 - accuracy: 0.9987 - val_loss: 0.0327 - val_accuracy: 0.9962\n",
      "Epoch 53/1000\n",
      "8/8 [==============================] - 0s 16ms/step - loss: 0.0074 - accuracy: 0.9987 - val_loss: 0.0326 - val_accuracy: 0.9962\n",
      "Epoch 54/1000\n",
      "8/8 [==============================] - 0s 15ms/step - loss: 0.0074 - accuracy: 0.9987 - val_loss: 0.0327 - val_accuracy: 0.9962\n",
      "Epoch 55/1000\n",
      "8/8 [==============================] - 0s 15ms/step - loss: 0.0073 - accuracy: 0.9987 - val_loss: 0.0327 - val_accuracy: 0.9962\n",
      "Epoch 56/1000\n",
      "8/8 [==============================] - 0s 15ms/step - loss: 0.0073 - accuracy: 0.9987 - val_loss: 0.0326 - val_accuracy: 0.9962\n",
      "Epoch 57/1000\n",
      "8/8 [==============================] - 0s 14ms/step - loss: 0.0072 - accuracy: 0.9987 - val_loss: 0.0327 - val_accuracy: 0.9962\n",
      "Epoch 58/1000\n",
      "8/8 [==============================] - 0s 14ms/step - loss: 0.0072 - accuracy: 0.9987 - val_loss: 0.0327 - val_accuracy: 0.9962\n"
     ]
    },
    {
     "name": "stdout",
     "output_type": "stream",
     "text": [
      "Epoch 59/1000\n",
      "8/8 [==============================] - 0s 15ms/step - loss: 0.0071 - accuracy: 0.9987 - val_loss: 0.0329 - val_accuracy: 0.9962\n",
      "Epoch 60/1000\n",
      "8/8 [==============================] - 0s 14ms/step - loss: 0.0071 - accuracy: 0.9987 - val_loss: 0.0326 - val_accuracy: 0.9962\n",
      "Epoch 61/1000\n",
      "8/8 [==============================] - 0s 21ms/step - loss: 0.0071 - accuracy: 0.9987 - val_loss: 0.0325 - val_accuracy: 0.9962\n",
      "Epoch 62/1000\n",
      "8/8 [==============================] - 0s 15ms/step - loss: 0.0070 - accuracy: 0.9987 - val_loss: 0.0328 - val_accuracy: 0.9962\n",
      "Epoch 63/1000\n",
      "8/8 [==============================] - 0s 15ms/step - loss: 0.0069 - accuracy: 0.9987 - val_loss: 0.0328 - val_accuracy: 0.9962\n",
      "Epoch 64/1000\n",
      "8/8 [==============================] - 0s 15ms/step - loss: 0.0069 - accuracy: 0.9987 - val_loss: 0.0326 - val_accuracy: 0.9962\n",
      "Epoch 65/1000\n",
      "8/8 [==============================] - 0s 15ms/step - loss: 0.0069 - accuracy: 0.9987 - val_loss: 0.0328 - val_accuracy: 0.9962\n",
      "Epoch 66/1000\n",
      "8/8 [==============================] - 0s 21ms/step - loss: 0.0068 - accuracy: 0.9987 - val_loss: 0.0324 - val_accuracy: 0.9962\n",
      "Epoch 67/1000\n",
      "8/8 [==============================] - 0s 15ms/step - loss: 0.0067 - accuracy: 0.9987 - val_loss: 0.0326 - val_accuracy: 0.9962\n",
      "Epoch 68/1000\n",
      "8/8 [==============================] - 0s 15ms/step - loss: 0.0067 - accuracy: 0.9987 - val_loss: 0.0326 - val_accuracy: 0.9962\n",
      "Epoch 69/1000\n",
      "8/8 [==============================] - 0s 15ms/step - loss: 0.0066 - accuracy: 0.9987 - val_loss: 0.0325 - val_accuracy: 0.9962\n",
      "Epoch 70/1000\n",
      "8/8 [==============================] - 0s 15ms/step - loss: 0.0066 - accuracy: 0.9987 - val_loss: 0.0326 - val_accuracy: 0.9962\n",
      "Epoch 71/1000\n",
      "8/8 [==============================] - 0s 15ms/step - loss: 0.0065 - accuracy: 0.9987 - val_loss: 0.0328 - val_accuracy: 0.9962\n",
      "Epoch 72/1000\n",
      "8/8 [==============================] - 0s 15ms/step - loss: 0.0065 - accuracy: 0.9987 - val_loss: 0.0327 - val_accuracy: 0.9962\n",
      "Epoch 73/1000\n",
      "8/8 [==============================] - 0s 15ms/step - loss: 0.0064 - accuracy: 0.9987 - val_loss: 0.0327 - val_accuracy: 0.9962\n",
      "Epoch 74/1000\n",
      "8/8 [==============================] - 0s 15ms/step - loss: 0.0064 - accuracy: 0.9987 - val_loss: 0.0326 - val_accuracy: 0.9962\n",
      "Epoch 75/1000\n",
      "8/8 [==============================] - 0s 15ms/step - loss: 0.0063 - accuracy: 0.9987 - val_loss: 0.0327 - val_accuracy: 0.9962\n",
      "Epoch 76/1000\n",
      "8/8 [==============================] - 0s 15ms/step - loss: 0.0063 - accuracy: 0.9987 - val_loss: 0.0325 - val_accuracy: 0.9962\n",
      "Epoch 77/1000\n",
      "8/8 [==============================] - 0s 15ms/step - loss: 0.0063 - accuracy: 0.9987 - val_loss: 0.0328 - val_accuracy: 0.9962\n",
      "Epoch 78/1000\n",
      "8/8 [==============================] - 0s 15ms/step - loss: 0.0062 - accuracy: 0.9987 - val_loss: 0.0327 - val_accuracy: 0.9962\n",
      "Epoch 79/1000\n",
      "8/8 [==============================] - 0s 14ms/step - loss: 0.0062 - accuracy: 0.9987 - val_loss: 0.0330 - val_accuracy: 0.9962\n",
      "Epoch 80/1000\n",
      "8/8 [==============================] - 0s 15ms/step - loss: 0.0062 - accuracy: 0.9987 - val_loss: 0.0327 - val_accuracy: 0.9962\n",
      "Epoch 81/1000\n",
      "8/8 [==============================] - 0s 15ms/step - loss: 0.0061 - accuracy: 0.9987 - val_loss: 0.0329 - val_accuracy: 0.9962\n",
      "Epoch 82/1000\n",
      "8/8 [==============================] - 0s 15ms/step - loss: 0.0060 - accuracy: 0.9987 - val_loss: 0.0328 - val_accuracy: 0.9962\n",
      "Epoch 83/1000\n",
      "8/8 [==============================] - 0s 15ms/step - loss: 0.0060 - accuracy: 0.9987 - val_loss: 0.0328 - val_accuracy: 0.9962\n",
      "Epoch 84/1000\n",
      "8/8 [==============================] - 0s 15ms/step - loss: 0.0059 - accuracy: 0.9987 - val_loss: 0.0329 - val_accuracy: 0.9962\n",
      "Epoch 85/1000\n",
      "8/8 [==============================] - 0s 14ms/step - loss: 0.0059 - accuracy: 0.9987 - val_loss: 0.0330 - val_accuracy: 0.9962\n",
      "Epoch 86/1000\n",
      "8/8 [==============================] - 0s 15ms/step - loss: 0.0059 - accuracy: 0.9987 - val_loss: 0.0329 - val_accuracy: 0.9962\n",
      "Epoch 87/1000\n",
      "8/8 [==============================] - 0s 15ms/step - loss: 0.0058 - accuracy: 0.9987 - val_loss: 0.0326 - val_accuracy: 0.9962\n",
      "Epoch 88/1000\n",
      "8/8 [==============================] - 0s 15ms/step - loss: 0.0058 - accuracy: 0.9987 - val_loss: 0.0328 - val_accuracy: 0.9962\n",
      "Epoch 89/1000\n",
      "8/8 [==============================] - 0s 14ms/step - loss: 0.0057 - accuracy: 0.9987 - val_loss: 0.0330 - val_accuracy: 0.9962\n",
      "Epoch 90/1000\n",
      "8/8 [==============================] - 0s 15ms/step - loss: 0.0057 - accuracy: 0.9987 - val_loss: 0.0331 - val_accuracy: 0.9962\n",
      "Epoch 91/1000\n",
      "8/8 [==============================] - 0s 15ms/step - loss: 0.0056 - accuracy: 0.9987 - val_loss: 0.0329 - val_accuracy: 0.9962\n",
      "Epoch 92/1000\n",
      "8/8 [==============================] - 0s 15ms/step - loss: 0.0056 - accuracy: 0.9987 - val_loss: 0.0330 - val_accuracy: 0.9962\n",
      "Epoch 93/1000\n",
      "8/8 [==============================] - 0s 16ms/step - loss: 0.0056 - accuracy: 0.9987 - val_loss: 0.0331 - val_accuracy: 0.9962\n",
      "Epoch 94/1000\n",
      "8/8 [==============================] - 0s 14ms/step - loss: 0.0055 - accuracy: 0.9987 - val_loss: 0.0332 - val_accuracy: 0.9962\n",
      "Epoch 95/1000\n",
      "8/8 [==============================] - 0s 15ms/step - loss: 0.0055 - accuracy: 0.9987 - val_loss: 0.0331 - val_accuracy: 0.9962\n",
      "Epoch 96/1000\n",
      "8/8 [==============================] - 0s 14ms/step - loss: 0.0055 - accuracy: 0.9987 - val_loss: 0.0330 - val_accuracy: 0.9962\n",
      "Epoch 97/1000\n",
      "8/8 [==============================] - 0s 14ms/step - loss: 0.0054 - accuracy: 0.9987 - val_loss: 0.0330 - val_accuracy: 0.9962\n",
      "Epoch 98/1000\n",
      "8/8 [==============================] - 0s 14ms/step - loss: 0.0054 - accuracy: 0.9987 - val_loss: 0.0333 - val_accuracy: 0.9962\n",
      "Epoch 99/1000\n",
      "8/8 [==============================] - 0s 15ms/step - loss: 0.0053 - accuracy: 0.9987 - val_loss: 0.0333 - val_accuracy: 0.9962\n",
      "Epoch 100/1000\n",
      "8/8 [==============================] - 0s 14ms/step - loss: 0.0053 - accuracy: 0.9987 - val_loss: 0.0333 - val_accuracy: 0.9962\n",
      "Epoch 101/1000\n",
      "8/8 [==============================] - 0s 14ms/step - loss: 0.0053 - accuracy: 0.9987 - val_loss: 0.0335 - val_accuracy: 0.9962\n",
      "Epoch 102/1000\n",
      "8/8 [==============================] - 0s 15ms/step - loss: 0.0053 - accuracy: 0.9987 - val_loss: 0.0335 - val_accuracy: 0.9962\n",
      "Epoch 103/1000\n",
      "8/8 [==============================] - 0s 14ms/step - loss: 0.0052 - accuracy: 0.9987 - val_loss: 0.0333 - val_accuracy: 0.9962\n",
      "Epoch 104/1000\n",
      "8/8 [==============================] - 0s 15ms/step - loss: 0.0052 - accuracy: 0.9987 - val_loss: 0.0335 - val_accuracy: 0.9962\n",
      "Epoch 105/1000\n",
      "8/8 [==============================] - 0s 14ms/step - loss: 0.0051 - accuracy: 0.9987 - val_loss: 0.0336 - val_accuracy: 0.9962\n",
      "Epoch 106/1000\n",
      "8/8 [==============================] - 0s 15ms/step - loss: 0.0051 - accuracy: 0.9987 - val_loss: 0.0337 - val_accuracy: 0.9962\n",
      "Epoch 107/1000\n",
      "8/8 [==============================] - 0s 14ms/step - loss: 0.0050 - accuracy: 0.9987 - val_loss: 0.0335 - val_accuracy: 0.9962\n",
      "Epoch 108/1000\n",
      "8/8 [==============================] - 0s 14ms/step - loss: 0.0050 - accuracy: 0.9987 - val_loss: 0.0337 - val_accuracy: 0.9962\n",
      "Epoch 109/1000\n",
      "8/8 [==============================] - 0s 15ms/step - loss: 0.0050 - accuracy: 0.9987 - val_loss: 0.0336 - val_accuracy: 0.9962\n",
      "Epoch 110/1000\n",
      "8/8 [==============================] - 0s 15ms/step - loss: 0.0050 - accuracy: 0.9987 - val_loss: 0.0337 - val_accuracy: 0.9962\n",
      "Epoch 111/1000\n",
      "8/8 [==============================] - 0s 15ms/step - loss: 0.0049 - accuracy: 0.9987 - val_loss: 0.0336 - val_accuracy: 0.9962\n",
      "Epoch 112/1000\n",
      "8/8 [==============================] - 0s 15ms/step - loss: 0.0049 - accuracy: 0.9987 - val_loss: 0.0337 - val_accuracy: 0.9962\n",
      "Epoch 113/1000\n",
      "8/8 [==============================] - 0s 14ms/step - loss: 0.0049 - accuracy: 0.9987 - val_loss: 0.0340 - val_accuracy: 0.9962\n",
      "Epoch 114/1000\n",
      "8/8 [==============================] - 0s 14ms/step - loss: 0.0048 - accuracy: 0.9987 - val_loss: 0.0339 - val_accuracy: 0.9962\n",
      "Epoch 115/1000\n",
      "8/8 [==============================] - 0s 15ms/step - loss: 0.0048 - accuracy: 0.9987 - val_loss: 0.0338 - val_accuracy: 0.9962\n",
      "Epoch 116/1000\n"
     ]
    },
    {
     "name": "stdout",
     "output_type": "stream",
     "text": [
      "8/8 [==============================] - 0s 15ms/step - loss: 0.0047 - accuracy: 0.9987 - val_loss: 0.0339 - val_accuracy: 0.9962\n"
     ]
    }
   ],
   "source": [
    "history = model.fit(X_train, y_train, epochs=1000, batch_size=500, validation_data=(X_valid, y_valid), \n",
    "                   callbacks=[early_stopping_callback, checkpointer])"
   ]
  },
  {
   "cell_type": "markdown",
   "id": "32b7790f",
   "metadata": {},
   "source": [
    "# 저장된 베스트 모델을 불러와서 테스트 하기"
   ]
  },
  {
   "cell_type": "code",
   "execution_count": 23,
   "id": "a33e4706",
   "metadata": {},
   "outputs": [],
   "source": [
    "from tensorflow.keras.models import load_model"
   ]
  },
  {
   "cell_type": "code",
   "execution_count": 24,
   "id": "3120afa6",
   "metadata": {},
   "outputs": [
    {
     "ename": "OSError",
     "evalue": "No file or directory found at ./model/001--0.0356.keras",
     "output_type": "error",
     "traceback": [
      "\u001b[0;31m---------------------------------------------------------------------------\u001b[0m",
      "\u001b[0;31mOSError\u001b[0m                                   Traceback (most recent call last)",
      "Cell \u001b[0;32mIn[24], line 1\u001b[0m\n\u001b[0;32m----> 1\u001b[0m best_model \u001b[38;5;241m=\u001b[39m \u001b[43mload_model\u001b[49m\u001b[43m(\u001b[49m\u001b[38;5;124;43m\"\u001b[39;49m\u001b[38;5;124;43m./model/001--0.0356.keras\u001b[39;49m\u001b[38;5;124;43m\"\u001b[39;49m\u001b[43m)\u001b[49m  \u001b[38;5;66;03m# .h5\u001b[39;00m\n",
      "File \u001b[0;32m~/miniforge3/envs/dml/lib/python3.9/site-packages/keras/utils/traceback_utils.py:70\u001b[0m, in \u001b[0;36mfilter_traceback.<locals>.error_handler\u001b[0;34m(*args, **kwargs)\u001b[0m\n\u001b[1;32m     67\u001b[0m     filtered_tb \u001b[38;5;241m=\u001b[39m _process_traceback_frames(e\u001b[38;5;241m.\u001b[39m__traceback__)\n\u001b[1;32m     68\u001b[0m     \u001b[38;5;66;03m# To get the full stack trace, call:\u001b[39;00m\n\u001b[1;32m     69\u001b[0m     \u001b[38;5;66;03m# `tf.debugging.disable_traceback_filtering()`\u001b[39;00m\n\u001b[0;32m---> 70\u001b[0m     \u001b[38;5;28;01mraise\u001b[39;00m e\u001b[38;5;241m.\u001b[39mwith_traceback(filtered_tb) \u001b[38;5;28;01mfrom\u001b[39;00m \u001b[38;5;28;01mNone\u001b[39;00m\n\u001b[1;32m     71\u001b[0m \u001b[38;5;28;01mfinally\u001b[39;00m:\n\u001b[1;32m     72\u001b[0m     \u001b[38;5;28;01mdel\u001b[39;00m filtered_tb\n",
      "File \u001b[0;32m~/miniforge3/envs/dml/lib/python3.9/site-packages/keras/saving/save.py:226\u001b[0m, in \u001b[0;36mload_model\u001b[0;34m(filepath, custom_objects, compile, options)\u001b[0m\n\u001b[1;32m    224\u001b[0m \u001b[38;5;28;01mif\u001b[39;00m \u001b[38;5;28misinstance\u001b[39m(filepath_str, \u001b[38;5;28mstr\u001b[39m):\n\u001b[1;32m    225\u001b[0m     \u001b[38;5;28;01mif\u001b[39;00m \u001b[38;5;129;01mnot\u001b[39;00m tf\u001b[38;5;241m.\u001b[39mio\u001b[38;5;241m.\u001b[39mgfile\u001b[38;5;241m.\u001b[39mexists(filepath_str):\n\u001b[0;32m--> 226\u001b[0m         \u001b[38;5;28;01mraise\u001b[39;00m \u001b[38;5;167;01mIOError\u001b[39;00m(\n\u001b[1;32m    227\u001b[0m             \u001b[38;5;124mf\u001b[39m\u001b[38;5;124m\"\u001b[39m\u001b[38;5;124mNo file or directory found at \u001b[39m\u001b[38;5;132;01m{\u001b[39;00mfilepath_str\u001b[38;5;132;01m}\u001b[39;00m\u001b[38;5;124m\"\u001b[39m\n\u001b[1;32m    228\u001b[0m         )\n\u001b[1;32m    230\u001b[0m     \u001b[38;5;28;01mif\u001b[39;00m tf\u001b[38;5;241m.\u001b[39mio\u001b[38;5;241m.\u001b[39mgfile\u001b[38;5;241m.\u001b[39misdir(filepath_str):\n\u001b[1;32m    231\u001b[0m         \u001b[38;5;28;01mreturn\u001b[39;00m saved_model_load\u001b[38;5;241m.\u001b[39mload(\n\u001b[1;32m    232\u001b[0m             filepath_str, \u001b[38;5;28mcompile\u001b[39m, options\n\u001b[1;32m    233\u001b[0m         )\n",
      "\u001b[0;31mOSError\u001b[0m: No file or directory found at ./model/001--0.0356.keras"
     ]
    }
   ],
   "source": [
    "best_model = load_model(\"./model/001--0.0356.keras\")  # .h5"
   ]
  },
  {
   "cell_type": "code",
   "execution_count": null,
   "id": "fe24fdc9",
   "metadata": {},
   "outputs": [],
   "source": [
    "best_pred = best_model.predict(X_test)\n",
    "best_pred = pd.DataFrame(best_pred)\n",
    "best_pred = best_pred[0].apply(lambda x: 1 if x > 0.5 else 0)\n",
    "print(classification_report(y_test, best_pred))"
   ]
  },
  {
   "cell_type": "code",
   "execution_count": null,
   "id": "889ae643",
   "metadata": {},
   "outputs": [],
   "source": []
  },
  {
   "cell_type": "markdown",
   "id": "d0949640",
   "metadata": {},
   "source": [
    "============================================================================================================="
   ]
  },
  {
   "cell_type": "code",
   "execution_count": null,
   "id": "8ce6652a",
   "metadata": {},
   "outputs": [],
   "source": [
    "import pandas as pd\n",
    "import numpy as np\n",
    "import matplotlib.pyplot as plt\n",
    "import seaborn as sns"
   ]
  },
  {
   "cell_type": "code",
   "execution_count": null,
   "id": "0f09593e",
   "metadata": {},
   "outputs": [],
   "source": [
    "wine = pd.read_csv(\"../06machine_learning/data/winequality-white.csv\", sep=\";\")\n",
    "wine.head()"
   ]
  },
  {
   "cell_type": "code",
   "execution_count": null,
   "id": "b3361084",
   "metadata": {
    "scrolled": true
   },
   "outputs": [],
   "source": [
    "wine['quality'].value_counts()"
   ]
  },
  {
   "cell_type": "code",
   "execution_count": null,
   "id": "0e4c612e",
   "metadata": {},
   "outputs": [],
   "source": [
    "wine['quality'].nunique()"
   ]
  },
  {
   "cell_type": "code",
   "execution_count": null,
   "id": "f316f41a",
   "metadata": {},
   "outputs": [],
   "source": [
    "wine.info()"
   ]
  },
  {
   "cell_type": "code",
   "execution_count": null,
   "id": "2110f494",
   "metadata": {},
   "outputs": [],
   "source": [
    "sns.boxplot(wine.iloc[:,2:3])"
   ]
  },
  {
   "cell_type": "code",
   "execution_count": null,
   "id": "d7a1902f",
   "metadata": {},
   "outputs": [],
   "source": [
    "from sklearn.preprocessing import RobustScaler"
   ]
  },
  {
   "cell_type": "code",
   "execution_count": null,
   "id": "2dea8133",
   "metadata": {},
   "outputs": [],
   "source": [
    "X = wine.drop('quality', axis=1).copy()\n",
    "y = wine['quality'].copy()\n",
    "y2 = wine['quality'].copy()"
   ]
  },
  {
   "cell_type": "code",
   "execution_count": null,
   "id": "42d0e8e0",
   "metadata": {},
   "outputs": [],
   "source": [
    "X.head()"
   ]
  },
  {
   "cell_type": "code",
   "execution_count": null,
   "id": "9d4bc6e1",
   "metadata": {},
   "outputs": [],
   "source": [
    "y.head()"
   ]
  },
  {
   "cell_type": "code",
   "execution_count": null,
   "id": "441fdadf",
   "metadata": {},
   "outputs": [],
   "source": [
    "rbs = RobustScaler()\n",
    "X_scaled = rbs.fit_transform(X)\n"
   ]
  },
  {
   "cell_type": "code",
   "execution_count": null,
   "id": "2fdee19c",
   "metadata": {},
   "outputs": [],
   "source": [
    "y = pd.get_dummies(y)\n",
    "y"
   ]
  },
  {
   "cell_type": "code",
   "execution_count": null,
   "id": "dac84769",
   "metadata": {},
   "outputs": [],
   "source": [
    "from sklearn.model_selection import train_test_split"
   ]
  },
  {
   "cell_type": "code",
   "execution_count": null,
   "id": "dbdd39ec",
   "metadata": {},
   "outputs": [],
   "source": [
    "X_train, X_valid, y_train, y_valid = train_test_split(X_scaled, y, test_size=0.4, stratify=y, random_state=10)\n",
    "X_valid, X_test, y_valid, y_test = train_test_split(X_valid, y_valid, test_size=0.5, stratify=y_valid, random_state=10)"
   ]
  },
  {
   "cell_type": "code",
   "execution_count": null,
   "id": "2ece8259",
   "metadata": {},
   "outputs": [],
   "source": [
    "print(X_train.shape, X_valid.shape, X_test.shape)"
   ]
  },
  {
   "cell_type": "code",
   "execution_count": null,
   "id": "2d30503e",
   "metadata": {},
   "outputs": [],
   "source": [
    "from tensorflow.keras.models import Sequential, Model, load_model\n",
    "from tensorflow.keras.layers import Dense, Input\n",
    "from tensorflow.keras.callbacks import EarlyStopping, ModelCheckpoint"
   ]
  },
  {
   "cell_type": "code",
   "execution_count": null,
   "id": "9e7b77fb",
   "metadata": {},
   "outputs": [],
   "source": [
    "model = Sequential()\n",
    "model.add(Dense(32, input_dim=X_train.shape[1], activation='relu'))\n",
    "model.add(Dense(64, activation='relu'))\n",
    "model.add(Dense(32, activation='relu'))\n",
    "model.add(Dense(16, activation='relu'))\n",
    "model.add(Dense(7, activation='softmax'))\n",
    "model.summary()"
   ]
  },
  {
   "cell_type": "code",
   "execution_count": null,
   "id": "f5033d38",
   "metadata": {},
   "outputs": [],
   "source": [
    "model.compile(loss=\"categorical_crossentropy\", optimizer='adam', metrics=['accuracy'])\n",
    "early_stop = EarlyStopping(patience=200) \n",
    "filepath = \"./model/white_wine{epoch:04d}__{val_loss:.4f}.keras\"\n",
    "model_save = ModelCheckpoint(filepath=filepath, save_best_only=True)\n",
    "history = model.fit(X_train, y_train, epochs=10000, batch_size=500, validation_data=(X_valid, y_valid),\n",
    "                   callbacks=[early_stop, model_save])"
   ]
  },
  {
   "cell_type": "code",
   "execution_count": null,
   "id": "c8985709",
   "metadata": {
    "scrolled": true
   },
   "outputs": [],
   "source": [
    "wine_best_model = load_model(\"./model/white_wine0080__1.0441.keras\")\n",
    "wine_pred = wine_best_model.predict(X_test)\n",
    "wine_pred = pd.DataFrame(wine_pred, columns=y.columns)"
   ]
  },
  {
   "cell_type": "code",
   "execution_count": null,
   "id": "eedd45a4",
   "metadata": {},
   "outputs": [],
   "source": [
    "wine_pred"
   ]
  },
  {
   "cell_type": "code",
   "execution_count": null,
   "id": "5d94df4e",
   "metadata": {
    "scrolled": true
   },
   "outputs": [],
   "source": [
    "y_test_class = y_test.idxmax(axis=1)\n",
    "y_test_class = y_test_class.reset_index(drop=True)\n",
    "y_test_class"
   ]
  },
  {
   "cell_type": "code",
   "execution_count": null,
   "id": "5a2c8723",
   "metadata": {
    "scrolled": true
   },
   "outputs": [],
   "source": [
    "wine_pred_class = wine_pred.idxmax(axis=1)\n",
    "wine_pred_class"
   ]
  },
  {
   "cell_type": "code",
   "execution_count": null,
   "id": "b9f7e3bc",
   "metadata": {},
   "outputs": [],
   "source": [
    "y.value_counts()"
   ]
  },
  {
   "cell_type": "code",
   "execution_count": null,
   "id": "6aa3cd66",
   "metadata": {
    "scrolled": true
   },
   "outputs": [],
   "source": [
    "print(classification_report(y_test_class, wine_pred_class))"
   ]
  },
  {
   "cell_type": "code",
   "execution_count": null,
   "id": "ae909a27",
   "metadata": {},
   "outputs": [],
   "source": [
    "from sklearn.preprocessing import LabelEncoder"
   ]
  },
  {
   "cell_type": "code",
   "execution_count": null,
   "id": "339801f1",
   "metadata": {
    "scrolled": true
   },
   "outputs": [],
   "source": [
    "le = LabelEncoder()\n",
    "y2_labeled = le.fit_transform(y2)\n",
    "y2_labeled"
   ]
  },
  {
   "cell_type": "markdown",
   "id": "74aa7541",
   "metadata": {},
   "source": [
    "XGB로 비교분석"
   ]
  },
  {
   "cell_type": "code",
   "execution_count": null,
   "id": "4599382c",
   "metadata": {},
   "outputs": [],
   "source": [
    "X_train2, X_valid2, y_train2, y_valid2 = train_test_split(X_scaled, y2_labeled, test_size=0.4, stratify=y2_labeled, random_state=10)\n",
    "X_valid2, X_test2, y_valid2, y_test2 = train_test_split(X_valid2, y_valid2, test_size=0.5, stratify=y_valid2, random_state=10)"
   ]
  },
  {
   "cell_type": "code",
   "execution_count": null,
   "id": "506df56c",
   "metadata": {},
   "outputs": [],
   "source": [
    "# !pip install xgboost"
   ]
  },
  {
   "cell_type": "code",
   "execution_count": null,
   "id": "58ab6927",
   "metadata": {},
   "outputs": [],
   "source": [
    "from xgboost import XGBClassifier"
   ]
  },
  {
   "cell_type": "code",
   "execution_count": null,
   "id": "26cd5b67",
   "metadata": {},
   "outputs": [],
   "source": [
    "xgb = XGBClassifier(max_depth= 5, n_estimators=1000, random_state=10, n_jobs=-1)\n",
    "xgb.fit(X_train2, y_train2)\n",
    "xgb_pred = xgb.predict(X_valid2)\n",
    "print(classification_report(le.inverse_transform(y_valid2), le.inverse_transform(xgb_pred)))"
   ]
  },
  {
   "cell_type": "code",
   "execution_count": null,
   "id": "8cdfbcd4",
   "metadata": {},
   "outputs": [],
   "source": []
  },
  {
   "cell_type": "code",
   "execution_count": null,
   "id": "04a5a7fd",
   "metadata": {},
   "outputs": [],
   "source": []
  },
  {
   "cell_type": "code",
   "execution_count": null,
   "id": "807a2ef2",
   "metadata": {},
   "outputs": [],
   "source": []
  },
  {
   "cell_type": "code",
   "execution_count": null,
   "id": "4a1bd2e3",
   "metadata": {},
   "outputs": [],
   "source": []
  },
  {
   "cell_type": "code",
   "execution_count": null,
   "id": "6aa7c419",
   "metadata": {
    "scrolled": false
   },
   "outputs": [],
   "source": [
    "wine.info()"
   ]
  },
  {
   "cell_type": "code",
   "execution_count": null,
   "id": "c9c720bd",
   "metadata": {},
   "outputs": [],
   "source": [
    "X = wine.drop('quality', axis=1).copy()\n",
    "y = wine['quality'].copy()\n",
    "y2 = wine['quality'].copy()"
   ]
  },
  {
   "cell_type": "code",
   "execution_count": null,
   "id": "2917b8ba",
   "metadata": {},
   "outputs": [],
   "source": [
    "y = pd.get_dummies(y)"
   ]
  },
  {
   "cell_type": "code",
   "execution_count": null,
   "id": "f52d6467",
   "metadata": {},
   "outputs": [],
   "source": [
    "y"
   ]
  },
  {
   "cell_type": "code",
   "execution_count": null,
   "id": "1ceababf",
   "metadata": {},
   "outputs": [],
   "source": [
    "from sklearn.preprocessing import RobustScaler"
   ]
  },
  {
   "cell_type": "code",
   "execution_count": null,
   "id": "ffccb7e2",
   "metadata": {},
   "outputs": [],
   "source": [
    "rs = RobustScaler()\n",
    "X_scaled = rs.fit_transform(X)"
   ]
  },
  {
   "cell_type": "code",
   "execution_count": null,
   "id": "92ccf6ba",
   "metadata": {},
   "outputs": [],
   "source": [
    "from sklearn.model_selection import train_test_split"
   ]
  },
  {
   "cell_type": "code",
   "execution_count": null,
   "id": "bcd4e768",
   "metadata": {},
   "outputs": [],
   "source": [
    "X_train, X_valid, y_train, y_valid = train_test_split(X_scaled, y, test_size=0.4, stratify=y ,random_state=10)\n",
    "X_valid, X_test, y_valid, y_test = train_test_split(X_valid, y_valid, test_size=0.5, stratify=y_valid, random_state=10)"
   ]
  },
  {
   "cell_type": "code",
   "execution_count": null,
   "id": "4e54f012",
   "metadata": {},
   "outputs": [],
   "source": [
    "X_train.dtype"
   ]
  },
  {
   "cell_type": "code",
   "execution_count": null,
   "id": "7fab3f85",
   "metadata": {
    "scrolled": true
   },
   "outputs": [],
   "source": [
    "print(X_train.shape, X_valid.shape, X_test.shape)"
   ]
  },
  {
   "cell_type": "code",
   "execution_count": null,
   "id": "ac86ea0e",
   "metadata": {},
   "outputs": [],
   "source": [
    "from tensorflow.keras.models import Sequential, Model, load_model\n",
    "from tensorflow.keras.layers import Dense, Input\n",
    "from tensorflow.keras.callbacks import ModelCheckpoint, EarlyStopping\n",
    "from sklearn.metrics import classification_report"
   ]
  },
  {
   "cell_type": "code",
   "execution_count": null,
   "id": "3df4f0d6",
   "metadata": {},
   "outputs": [],
   "source": [
    "model1 = Sequential()\n",
    "model1.add(Dense(64, input_dim=11, activation='relu'))\n",
    "model1.add(Dense(32, activation='relu'))\n",
    "model1.add(Dense(64, activation='relu'))\n",
    "model1.add(Dense(32, activation='relu'))\n",
    "model1.add(Dense(16, activation='relu'))\n",
    "model1.add(Dense(7, activation='softmax'))"
   ]
  },
  {
   "cell_type": "code",
   "execution_count": null,
   "id": "31235ec2",
   "metadata": {},
   "outputs": [],
   "source": [
    "model1.summary()"
   ]
  },
  {
   "cell_type": "code",
   "execution_count": null,
   "id": "7a7582cc",
   "metadata": {},
   "outputs": [],
   "source": [
    "print(X_train.shape, y_train.shape)"
   ]
  },
  {
   "cell_type": "code",
   "execution_count": null,
   "id": "d029f0c0",
   "metadata": {},
   "outputs": [],
   "source": [
    "model1.compile(loss=\"categorical_crossentropy\", optimizer='adam', metrics=['accuracy'])\n",
    "early_stop = EarlyStopping(monitor='val_loss', patience=1000)\n",
    "modelpath = \"./model/wine_model{epoch:0003d}__{val_loss:.4f}.keras\"\n",
    "checkpointer = ModelCheckpoint(filepath=modelpath, monitor='val_loss', verbose=0, save_best_only=True)\n",
    "history = model1.fit(X_train, y_train, epochs=10000, batch_size=500, validation_data=(X_valid, y_valid), callbacks=[early_stop, checkpointer])"
   ]
  },
  {
   "cell_type": "code",
   "execution_count": null,
   "id": "ec6010fc",
   "metadata": {},
   "outputs": [],
   "source": [
    "wine_best_model = load_model(\"./model/wine_model019__1.0356.keras\")\n",
    "pred = wine_best_model.predict(X_test)\n",
    "pred = pd.DataFrame(pred)\n",
    "pred\n"
   ]
  },
  {
   "cell_type": "code",
   "execution_count": null,
   "id": "e5d18cf7",
   "metadata": {},
   "outputs": [],
   "source": [
    "# 각 행에서 확률이 가장 높은 클래스의 인덱스를 찾기\n",
    "predicted_classes = pred.idxmax(axis=1)\n",
    "\n",
    "# 결과 출력\n",
    "print(predicted_classes)"
   ]
  },
  {
   "cell_type": "code",
   "execution_count": null,
   "id": "23b9f624",
   "metadata": {},
   "outputs": [],
   "source": [
    "# 각 행에서 확률이 가장 높은 클래스의 인덱스를 찾기\n",
    "y_classes = y_test.idxmax(axis=1)\n",
    "\n",
    "# 결과 출력\n",
    "print(y_classes)"
   ]
  },
  {
   "cell_type": "code",
   "execution_count": null,
   "id": "dbaa8b1f",
   "metadata": {
    "scrolled": true
   },
   "outputs": [],
   "source": [
    "y_test"
   ]
  },
  {
   "cell_type": "code",
   "execution_count": null,
   "id": "f8cea310",
   "metadata": {},
   "outputs": [],
   "source": [
    "print(classification_report(y_classes, predicted_classes))"
   ]
  },
  {
   "cell_type": "code",
   "execution_count": null,
   "id": "295c4bd4",
   "metadata": {},
   "outputs": [],
   "source": [
    "plt.figure(figsize=(8,4))\n",
    "plt.plot(history.history['loss'])\n",
    "plt.plot(history.history['val_loss'])\n",
    "plt.xlabel('epoch')\n",
    "plt.ylabel('loss')\n",
    "plt.legend(['train', 'val'])\n",
    "plt.show()"
   ]
  },
  {
   "cell_type": "code",
   "execution_count": null,
   "id": "3651c3e3",
   "metadata": {},
   "outputs": [],
   "source": [
    "from sklearn.preprocessing import LabelEncoder"
   ]
  },
  {
   "cell_type": "code",
   "execution_count": null,
   "id": "8aa24902",
   "metadata": {},
   "outputs": [],
   "source": [
    "le = LabelEncoder()\n",
    "y_labeled = le.fit_transform(y2)\n",
    "y_labeled"
   ]
  },
  {
   "cell_type": "code",
   "execution_count": null,
   "id": "258a6142",
   "metadata": {},
   "outputs": [],
   "source": []
  },
  {
   "cell_type": "code",
   "execution_count": null,
   "id": "131bd93f",
   "metadata": {},
   "outputs": [],
   "source": [
    "X_train2, X_valid2, y_train2, y_valid2 = train_test_split(X_scaled, y_labeled, test_size=0.4, stratify=y_labeled ,random_state=10)\n",
    "X_valid2, X_test2, y_valid2, y_test2 = train_test_split(X_valid2, y_valid2, test_size=0.5, stratify=y_valid2, random_state=10)"
   ]
  },
  {
   "cell_type": "code",
   "execution_count": null,
   "id": "f101f8ec",
   "metadata": {},
   "outputs": [],
   "source": [
    "# !pip install xgboost"
   ]
  },
  {
   "cell_type": "code",
   "execution_count": null,
   "id": "86c20e76",
   "metadata": {
    "scrolled": true
   },
   "outputs": [],
   "source": [
    "from xgboost import XGBClassifier"
   ]
  },
  {
   "cell_type": "code",
   "execution_count": null,
   "id": "b80df151",
   "metadata": {},
   "outputs": [],
   "source": []
  },
  {
   "cell_type": "code",
   "execution_count": null,
   "id": "398565c1",
   "metadata": {
    "scrolled": false
   },
   "outputs": [],
   "source": [
    "xgb = XGBClassifier(max_depth=5, n_estimators=1000, n_jobs=-1, random_state=10)\n",
    "xgb.fit(X_train2, y_train2)\n",
    "xgb_pred = xgb.predict(X_valid2)\n",
    "print(classification_report(le.inverse_transform(y_test2), le.inverse_transform(xgb_pred)))"
   ]
  },
  {
   "cell_type": "code",
   "execution_count": null,
   "id": "221865d6",
   "metadata": {},
   "outputs": [],
   "source": []
  },
  {
   "cell_type": "code",
   "execution_count": null,
   "id": "7528f23d",
   "metadata": {},
   "outputs": [],
   "source": []
  }
 ],
 "metadata": {
  "kernelspec": {
   "display_name": "Python 3 (ipykernel)",
   "language": "python",
   "name": "python3"
  },
  "language_info": {
   "codemirror_mode": {
    "name": "ipython",
    "version": 3
   },
   "file_extension": ".py",
   "mimetype": "text/x-python",
   "name": "python",
   "nbconvert_exporter": "python",
   "pygments_lexer": "ipython3",
   "version": "3.9.19"
  }
 },
 "nbformat": 4,
 "nbformat_minor": 5
}
