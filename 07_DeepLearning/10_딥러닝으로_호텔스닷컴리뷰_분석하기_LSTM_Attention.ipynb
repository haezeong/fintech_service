{
 "cells": [
  {
   "cell_type": "code",
   "execution_count": 1,
   "id": "18e3a9a8",
   "metadata": {},
   "outputs": [
    {
     "name": "stderr",
     "output_type": "stream",
     "text": [
      "2024-09-13 16:25:44.651578: I tensorflow/core/platform/cpu_feature_guard.cc:193] This TensorFlow binary is optimized with oneAPI Deep Neural Network Library (oneDNN) to use the following CPU instructions in performance-critical operations:  AVX2 FMA\n",
      "To enable them in other operations, rebuild TensorFlow with the appropriate compiler flags.\n",
      "2024-09-13 16:25:46.535582: I tensorflow/c/logging.cc:34] Successfully opened dynamic library libdirectml.d6f03b303ac3c4f2eeb8ca631688c9757b361310.so\n",
      "2024-09-13 16:25:46.535779: I tensorflow/c/logging.cc:34] Successfully opened dynamic library libdxcore.so\n",
      "2024-09-13 16:25:46.540688: I tensorflow/c/logging.cc:34] Successfully opened dynamic library libd3d12.so\n",
      "2024-09-13 16:25:46.832110: I tensorflow/c/logging.cc:34] DirectML device enumeration: found 1 compatible adapters.\n"
     ]
    }
   ],
   "source": [
    "import pandas as pd\n",
    "import numpy as np\n",
    "import matplotlib.pyplot as plt\n",
    "import seaborn as sns\n",
    "from tensorflow.keras.preprocessing.text import Tokenizer, text_to_word_sequence\n",
    "from tensorflow.keras.preprocessing.sequence import pad_sequences\n",
    "from tensorflow.keras.models import Sequential\n",
    "from tensorflow.keras.layers import Dense,Flatten, Embedding\n",
    "from tensorflow.keras.utils import to_categorical\n",
    "import koreanize_matplotlib\n",
    "from konlpy.tag import Okt"
   ]
  },
  {
   "cell_type": "code",
   "execution_count": 2,
   "id": "ba66875d",
   "metadata": {},
   "outputs": [],
   "source": [
    "train_data =  pd.read_csv(\"https://raw.githubusercontent.com/haram4th/data4mdai/main/hotelscom_review_train.csv\")\n",
    "test_data =pd.read_csv(\"../07_DeepLearning/hotelscom_review_test.csv\")"
   ]
  },
  {
   "cell_type": "code",
   "execution_count": 3,
   "id": "edb8768a",
   "metadata": {},
   "outputs": [
    {
     "data": {
      "text/html": [
       "<div>\n",
       "<style scoped>\n",
       "    .dataframe tbody tr th:only-of-type {\n",
       "        vertical-align: middle;\n",
       "    }\n",
       "\n",
       "    .dataframe tbody tr th {\n",
       "        vertical-align: top;\n",
       "    }\n",
       "\n",
       "    .dataframe thead th {\n",
       "        text-align: right;\n",
       "    }\n",
       "</style>\n",
       "<table border=\"1\" class=\"dataframe\">\n",
       "  <thead>\n",
       "    <tr style=\"text-align: right;\">\n",
       "      <th></th>\n",
       "      <th>description</th>\n",
       "      <th>isgood</th>\n",
       "    </tr>\n",
       "  </thead>\n",
       "  <tbody>\n",
       "    <tr>\n",
       "      <th>0</th>\n",
       "      <td>사람이 너무 많고 작은 수영장과 조식 수용한계로 모두 포기하고 옆의 아이파크몰에서 ...</td>\n",
       "      <td>0</td>\n",
       "    </tr>\n",
       "    <tr>\n",
       "      <th>1</th>\n",
       "      <td>방도크고 깨끗하여 아주 좋았어요</td>\n",
       "      <td>1</td>\n",
       "    </tr>\n",
       "    <tr>\n",
       "      <th>2</th>\n",
       "      <td>매년여름휴가철마다 찾는곳이예요 너무 좋아요 점점 더 좋아지는듯 직원분들도 너무 친절...</td>\n",
       "      <td>1</td>\n",
       "    </tr>\n",
       "    <tr>\n",
       "      <th>3</th>\n",
       "      <td>여수에서는 제일 유명한 호텔이래요 호텔 stay 가 필요하다면 소노캄 여수도 괜찮은...</td>\n",
       "      <td>1</td>\n",
       "    </tr>\n",
       "    <tr>\n",
       "      <th>4</th>\n",
       "      <td>가격대비 훌륭하지만 아무래도 오래된 느낌이 많이 드네요겉이불은 세탁하니까 깨끗히나 ...</td>\n",
       "      <td>1</td>\n",
       "    </tr>\n",
       "  </tbody>\n",
       "</table>\n",
       "</div>"
      ],
      "text/plain": [
       "                                         description  isgood\n",
       "0  사람이 너무 많고 작은 수영장과 조식 수용한계로 모두 포기하고 옆의 아이파크몰에서 ...       0\n",
       "1                                  방도크고 깨끗하여 아주 좋았어요       1\n",
       "2  매년여름휴가철마다 찾는곳이예요 너무 좋아요 점점 더 좋아지는듯 직원분들도 너무 친절...       1\n",
       "3  여수에서는 제일 유명한 호텔이래요 호텔 stay 가 필요하다면 소노캄 여수도 괜찮은...       1\n",
       "4  가격대비 훌륭하지만 아무래도 오래된 느낌이 많이 드네요겉이불은 세탁하니까 깨끗히나 ...       1"
      ]
     },
     "execution_count": 3,
     "metadata": {},
     "output_type": "execute_result"
    }
   ],
   "source": [
    "train_data.head()"
   ]
  },
  {
   "cell_type": "code",
   "execution_count": 4,
   "id": "0da4081f",
   "metadata": {},
   "outputs": [
    {
     "name": "stdout",
     "output_type": "stream",
     "text": [
      "<class 'pandas.core.frame.DataFrame'>\n",
      "RangeIndex: 53964 entries, 0 to 53963\n",
      "Data columns (total 2 columns):\n",
      " #   Column       Non-Null Count  Dtype \n",
      "---  ------       --------------  ----- \n",
      " 0   description  53964 non-null  object\n",
      " 1   isgood       53964 non-null  int64 \n",
      "dtypes: int64(1), object(1)\n",
      "memory usage: 843.3+ KB\n"
     ]
    }
   ],
   "source": [
    "train_data.info()"
   ]
  },
  {
   "cell_type": "code",
   "execution_count": 5,
   "id": "1f9b58f4",
   "metadata": {},
   "outputs": [
    {
     "name": "stdout",
     "output_type": "stream",
     "text": [
      "<class 'pandas.core.frame.DataFrame'>\n",
      "RangeIndex: 35977 entries, 0 to 35976\n",
      "Data columns (total 2 columns):\n",
      " #   Column       Non-Null Count  Dtype \n",
      "---  ------       --------------  ----- \n",
      " 0   description  35977 non-null  object\n",
      " 1   isgood       35977 non-null  int64 \n",
      "dtypes: int64(1), object(1)\n",
      "memory usage: 562.3+ KB\n"
     ]
    }
   ],
   "source": [
    "test_data.info()"
   ]
  },
  {
   "cell_type": "code",
   "execution_count": 6,
   "id": "0dc712e3",
   "metadata": {},
   "outputs": [],
   "source": [
    "#토크나이징 -> 원핫 인코딩"
   ]
  },
  {
   "cell_type": "markdown",
   "id": "aefa935b",
   "metadata": {},
   "source": [
    "# 토큰화"
   ]
  },
  {
   "cell_type": "code",
   "execution_count": 7,
   "id": "84f4f466",
   "metadata": {},
   "outputs": [],
   "source": [
    "docs = train_data['description']\n"
   ]
  },
  {
   "cell_type": "code",
   "execution_count": 8,
   "id": "b27d4f3a",
   "metadata": {},
   "outputs": [],
   "source": [
    "#텐서플로우는 띄어쓰기로만 초큰화를 하기에 otk를 사용한다"
   ]
  },
  {
   "cell_type": "code",
   "execution_count": 9,
   "id": "18e0f945",
   "metadata": {
    "scrolled": true
   },
   "outputs": [
    {
     "data": {
      "text/plain": [
       "['사람',\n",
       " '이',\n",
       " '너무',\n",
       " '많고',\n",
       " '작은',\n",
       " '수영장',\n",
       " '과',\n",
       " '조식',\n",
       " '수',\n",
       " '용한',\n",
       " '계',\n",
       " '로',\n",
       " '모두',\n",
       " '포기',\n",
       " '하고',\n",
       " '옆',\n",
       " '의',\n",
       " '아이파크몰',\n",
       " '에서',\n",
       " '그냥',\n",
       " '식사',\n",
       " '함']"
      ]
     },
     "execution_count": 9,
     "metadata": {},
     "output_type": "execute_result"
    }
   ],
   "source": [
    "okt =Okt()\n",
    "okt.morphs(docs[0])"
   ]
  },
  {
   "cell_type": "code",
   "execution_count": 10,
   "id": "711c037b",
   "metadata": {},
   "outputs": [],
   "source": [
    "#맥캡과 다르게 okt를 사용하ㅐ서 시간이 쫌 느리다\n",
    "#토크나이징한 후 다시 저장"
   ]
  },
  {
   "cell_type": "code",
   "execution_count": 11,
   "id": "83fefef1",
   "metadata": {},
   "outputs": [
    {
     "data": {
      "text/plain": [
       "pandas.core.series.Series"
      ]
     },
     "execution_count": 11,
     "metadata": {},
     "output_type": "execute_result"
    }
   ],
   "source": [
    "type(docs)"
   ]
  },
  {
   "cell_type": "code",
   "execution_count": 12,
   "id": "301d555a",
   "metadata": {},
   "outputs": [],
   "source": [
    "# 전체 문장을 토큰화 후 tokenized_docs에 저장\n",
    "#시리즈니까 apply쓸 수 있음\n",
    "tokenized_docs = docs.apply(okt.morphs)"
   ]
  },
  {
   "cell_type": "code",
   "execution_count": 13,
   "id": "9ea3ed50",
   "metadata": {},
   "outputs": [
    {
     "name": "stdout",
     "output_type": "stream",
     "text": [
      "63571\n"
     ]
    }
   ],
   "source": [
    "# 단어 인덱스 생\n",
    "token =Tokenizer(lower =False)\n",
    "token.fit_on_texts(tokenized_docs)\n",
    "print(len(token.word_index))"
   ]
  },
  {
   "cell_type": "code",
   "execution_count": 14,
   "id": "6285ccf5",
   "metadata": {},
   "outputs": [
    {
     "name": "stdout",
     "output_type": "stream",
     "text": [
      "[147, 1, 10, 362, 381, 124, 24, 22, 39, 8795, 2621, 20, 126, 2252, 36, 179, 13, 3939, 12, 145, 258, 190]\n"
     ]
    }
   ],
   "source": [
    "# 문장 벡터화\n",
    "X = token.texts_to_sequences(tokenized_docs)\n",
    "print(X[0])"
   ]
  },
  {
   "cell_type": "code",
   "execution_count": 20,
   "id": "4a1527d7",
   "metadata": {},
   "outputs": [
    {
     "data": {
      "text/plain": [
       "0        0\n",
       "1        1\n",
       "2        1\n",
       "3        1\n",
       "4        1\n",
       "        ..\n",
       "53959    1\n",
       "53960    1\n",
       "53961    1\n",
       "53962    1\n",
       "53963    1\n",
       "Name: isgood, Length: 53964, dtype: int64"
      ]
     },
     "execution_count": 20,
     "metadata": {},
     "output_type": "execute_result"
    }
   ],
   "source": [
    "y= train_data['isgood']\n",
    "y"
   ]
  },
  {
   "cell_type": "code",
   "execution_count": 15,
   "id": "55766a65",
   "metadata": {},
   "outputs": [
    {
     "name": "stdout",
     "output_type": "stream",
     "text": [
      "가장 긴 문장의 길이(패딩에 사용):  554\n"
     ]
    }
   ],
   "source": [
    "#가장 긴 문장의 길이 구하기 \n",
    "max_len = max(len(i) for i in X)\n",
    "print(\"가장 긴 문장의 길이(패딩에 사용): \", max_len)"
   ]
  },
  {
   "cell_type": "code",
   "execution_count": 16,
   "id": "15a14c7b",
   "metadata": {},
   "outputs": [],
   "source": [
    "#특이하게 긴 케이스에는 0이 많이 들어가는 문제도 있음.\n",
    "#하지만 지금은 그냥진행\n"
   ]
  },
  {
   "cell_type": "code",
   "execution_count": 17,
   "id": "2aa8a798",
   "metadata": {},
   "outputs": [
    {
     "name": "stdout",
     "output_type": "stream",
     "text": [
      "[ 147    1   10  362  381  124   24   22   39 8795 2621   20  126 2252\n",
      "   36  179   13 3939   12  145  258  190    0    0    0    0    0    0\n",
      "    0    0    0    0    0    0    0    0    0    0    0    0    0    0\n",
      "    0    0    0    0    0    0    0    0    0    0    0    0    0    0\n",
      "    0    0    0    0    0    0    0    0    0    0    0    0    0    0\n",
      "    0    0    0    0    0    0    0    0    0    0    0    0    0    0\n",
      "    0    0    0    0    0    0    0    0    0    0    0    0    0    0\n",
      "    0    0    0    0    0    0    0    0    0    0    0    0    0    0\n",
      "    0    0    0    0    0    0    0    0    0    0    0    0    0    0\n",
      "    0    0    0    0    0    0    0    0    0    0    0    0    0    0\n",
      "    0    0    0    0    0    0    0    0    0    0    0    0    0    0\n",
      "    0    0    0    0    0    0    0    0    0    0    0    0    0    0\n",
      "    0    0    0    0    0    0    0    0    0    0    0    0    0    0\n",
      "    0    0    0    0    0    0    0    0    0    0    0    0    0    0\n",
      "    0    0    0    0    0    0    0    0    0    0    0    0    0    0\n",
      "    0    0    0    0    0    0    0    0    0    0    0    0    0    0\n",
      "    0    0    0    0    0    0    0    0    0    0    0    0    0    0\n",
      "    0    0    0    0    0    0    0    0    0    0    0    0    0    0\n",
      "    0    0    0    0    0    0    0    0    0    0    0    0    0    0\n",
      "    0    0    0    0    0    0    0    0    0    0    0    0    0    0\n",
      "    0    0    0    0    0    0    0    0    0    0    0    0    0    0\n",
      "    0    0    0    0    0    0    0    0    0    0    0    0    0    0\n",
      "    0    0    0    0    0    0    0    0    0    0    0    0    0    0\n",
      "    0    0    0    0    0    0    0    0    0    0    0    0    0    0\n",
      "    0    0    0    0    0    0    0    0    0    0    0    0    0    0\n",
      "    0    0    0    0    0    0    0    0    0    0    0    0    0    0\n",
      "    0    0    0    0    0    0    0    0    0    0    0    0    0    0\n",
      "    0    0    0    0    0    0    0    0    0    0    0    0    0    0\n",
      "    0    0    0    0    0    0    0    0    0    0    0    0    0    0\n",
      "    0    0    0    0    0    0    0    0    0    0    0    0    0    0\n",
      "    0    0    0    0    0    0    0    0    0    0    0    0    0    0\n",
      "    0    0    0    0    0    0    0    0    0    0    0    0    0    0\n",
      "    0    0    0    0    0    0    0    0    0    0    0    0    0    0\n",
      "    0    0    0    0    0    0    0    0    0    0    0    0    0    0\n",
      "    0    0    0    0    0    0    0    0    0    0    0    0    0    0\n",
      "    0    0    0    0    0    0    0    0    0    0    0    0    0    0\n",
      "    0    0    0    0    0    0    0    0    0    0    0    0    0    0\n",
      "    0    0    0    0    0    0    0    0    0    0    0    0    0    0\n",
      "    0    0    0    0    0    0    0    0    0    0    0    0    0    0\n",
      "    0    0    0    0    0    0    0    0]\n"
     ]
    }
   ],
   "source": [
    "#패딩\n",
    "#임베딩은 +1 안해줘도 된다\n",
    "X_padded = pad_sequences(X, maxlen = max_len, padding ='post')\n",
    "print(X_padded[0])"
   ]
  },
  {
   "cell_type": "code",
   "execution_count": 18,
   "id": "68d5c9e4",
   "metadata": {},
   "outputs": [],
   "source": [
    "#홀드아웃\n",
    "from sklearn.model_selection import train_test_split"
   ]
  },
  {
   "cell_type": "code",
   "execution_count": 22,
   "id": "f01e77fd",
   "metadata": {},
   "outputs": [],
   "source": [
    "X_train, X_valid, y_train, y_valid = train_test_split(X_padded, y, test_size=0.3, stratify=y, random_state=10 )"
   ]
  },
  {
   "cell_type": "code",
   "execution_count": 23,
   "id": "99737635",
   "metadata": {},
   "outputs": [
    {
     "name": "stdout",
     "output_type": "stream",
     "text": [
      "63572\n"
     ]
    }
   ],
   "source": [
    "#임베딩에 입력될 단어 수\n",
    "word_size=len(token.word_index)+1\n",
    "print(word_size)"
   ]
  },
  {
   "cell_type": "markdown",
   "id": "2e87e95b",
   "metadata": {},
   "source": [
    "양방향 RNN 네트워크를 이용해 텍스트 분석"
   ]
  },
  {
   "cell_type": "code",
   "execution_count": 24,
   "id": "2e03e8cf",
   "metadata": {},
   "outputs": [],
   "source": [
    "from tensorflow.keras.layers import Dense,Flatten, Embedding, Dropout, SimpleRNN, Bidirectional\n"
   ]
  },
  {
   "cell_type": "code",
   "execution_count": 26,
   "id": "dccf71b5",
   "metadata": {},
   "outputs": [
    {
     "name": "stdout",
     "output_type": "stream",
     "text": [
      "Model: \"sequential_1\"\n",
      "_________________________________________________________________\n",
      " Layer (type)                Output Shape              Param #   \n",
      "=================================================================\n",
      " embedding (Embedding)       (None, 554, 64)           4068608   \n",
      "                                                                 \n",
      " bidirectional (Bidirectiona  (None, 554, 256)         49408     \n",
      " l)                                                              \n",
      "                                                                 \n",
      " dropout (Dropout)           (None, 554, 256)          0         \n",
      "                                                                 \n",
      " simple_rnn_1 (SimpleRNN)    (None, 64)                20544     \n",
      "                                                                 \n",
      " dropout_1 (Dropout)         (None, 64)                0         \n",
      "                                                                 \n",
      " dense (Dense)               (None, 32)                2080      \n",
      "                                                                 \n",
      " dense_1 (Dense)             (None, 1)                 33        \n",
      "                                                                 \n",
      "=================================================================\n",
      "Total params: 4,140,673\n",
      "Trainable params: 4,140,673\n",
      "Non-trainable params: 0\n",
      "_________________________________________________________________\n"
     ]
    }
   ],
   "source": [
    "birnn = Sequential()\n",
    "birnn.add(Embedding(word_size, 64, input_length=max_len))\n",
    "birnn.add(Bidirectional(SimpleRNN(128, return_sequences = True, activation='tanh')))\n",
    "birnn.add(Dropout(0.5))\n",
    "birnn.add(SimpleRNN(64, activation='tanh'))\n",
    "birnn.add(Dropout(0.5))\n",
    "birnn.add(Dense(32, activation = 'relu'))\n",
    "birnn.add(Dense(1, activation='sigmoid'))\n",
    "birnn.summary()"
   ]
  },
  {
   "cell_type": "code",
   "execution_count": 28,
   "id": "b76639b4",
   "metadata": {},
   "outputs": [],
   "source": [
    "from tensorflow.keras.callbacks import EarlyStopping, ModelCheckpoint"
   ]
  },
  {
   "cell_type": "code",
   "execution_count": 29,
   "id": "e3ab7881",
   "metadata": {},
   "outputs": [],
   "source": [
    "birnn.compile(loss='binary_crossentropy', optimizer='adam', metrics = ['accuracy'])\n",
    "modelpath = \"./model/hotels_review_birnn.keras\"\n",
    "checkpoint = ModelCheckpoint(filepath=modelpath, save_best_only=True)\n",
    "earlystop = EarlyStopping(patience=10)"
   ]
  },
  {
   "cell_type": "code",
   "execution_count": null,
   "id": "baafde13",
   "metadata": {},
   "outputs": [],
   "source": []
  },
  {
   "cell_type": "code",
   "execution_count": null,
   "id": "10a31373",
   "metadata": {},
   "outputs": [],
   "source": []
  },
  {
   "cell_type": "code",
   "execution_count": null,
   "id": "65b25914",
   "metadata": {},
   "outputs": [],
   "source": []
  }
 ],
 "metadata": {
  "kernelspec": {
   "display_name": "Python 3 (ipykernel)",
   "language": "python",
   "name": "python3"
  },
  "language_info": {
   "codemirror_mode": {
    "name": "ipython",
    "version": 3
   },
   "file_extension": ".py",
   "mimetype": "text/x-python",
   "name": "python",
   "nbconvert_exporter": "python",
   "pygments_lexer": "ipython3",
   "version": "3.10.14"
  }
 },
 "nbformat": 4,
 "nbformat_minor": 5
}
