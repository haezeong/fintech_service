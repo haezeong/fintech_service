{
 "cells": [
  {
   "cell_type": "markdown",
   "id": "9bf373e4",
   "metadata": {},
   "source": [
    "# 연산자의 종류와 활용"
   ]
  },
  {
   "cell_type": "markdown",
   "id": "f65e6caa",
   "metadata": {},
   "source": [
    "## 1) 연산자의 종류\n",
    "* 산술연산자: +,-, *, /, %, //, **\n",
    "* 할당연산자: =, +=, -=, *=, /=, %=\n",
    "* 비교연산자: ==, !=, >, <, >=, <=\n",
    "* 논리연산자: and, or, not\n",
    "* 식별연산자: is, is not\n",
    "* 멤버 연산자: in, not in"
   ]
  },
  {
   "cell_type": "code",
   "execution_count": null,
   "id": "f5704dcf",
   "metadata": {},
   "outputs": [],
   "source": []
  },
  {
   "cell_type": "markdown",
   "id": "523e318d",
   "metadata": {},
   "source": [
    "### 산술연산자: +,-, *, /, %, //, **"
   ]
  },
  {
   "cell_type": "code",
   "execution_count": 1,
   "id": "ca4a8f93",
   "metadata": {},
   "outputs": [
    {
     "data": {
      "text/plain": [
       "2"
      ]
     },
     "execution_count": 1,
     "metadata": {},
     "output_type": "execute_result"
    }
   ],
   "source": [
    "1+1"
   ]
  },
  {
   "cell_type": "code",
   "execution_count": 2,
   "id": "ce027b04",
   "metadata": {},
   "outputs": [
    {
     "data": {
      "text/plain": [
       "81"
      ]
     },
     "execution_count": 2,
     "metadata": {},
     "output_type": "execute_result"
    }
   ],
   "source": [
    "9*9"
   ]
  },
  {
   "cell_type": "code",
   "execution_count": 3,
   "id": "db1bf5e5",
   "metadata": {},
   "outputs": [
    {
     "data": {
      "text/plain": [
       "199.33333333333334"
      ]
     },
     "execution_count": 3,
     "metadata": {},
     "output_type": "execute_result"
    }
   ],
   "source": [
    "598/3"
   ]
  },
  {
   "cell_type": "code",
   "execution_count": 4,
   "id": "93875fa1",
   "metadata": {},
   "outputs": [
    {
     "data": {
      "text/plain": [
       "2.0"
      ]
     },
     "execution_count": 4,
     "metadata": {},
     "output_type": "execute_result"
    }
   ],
   "source": [
    "# 정수 / 정수 = 실수\n",
    "4/2"
   ]
  },
  {
   "cell_type": "code",
   "execution_count": null,
   "id": "69b46468",
   "metadata": {},
   "outputs": [],
   "source": [
    "#파이썬은 무조건 나누기를 하면 실수가 나온다\n",
    "#타입이 변하는 것"
   ]
  },
  {
   "cell_type": "code",
   "execution_count": 7,
   "id": "fdf11cec",
   "metadata": {},
   "outputs": [
    {
     "name": "stdout",
     "output_type": "stream",
     "text": [
      "<class 'int'> 4\n",
      "<class 'int'> 2\n",
      "<class 'float'> 2.0\n"
     ]
    }
   ],
   "source": [
    "a=4\n",
    "b=2\n",
    "c=a/b\n",
    "print(type(a),a)\n",
    "print(type(b),b)\n",
    "print(type(c),c)"
   ]
  },
  {
   "cell_type": "code",
   "execution_count": 8,
   "id": "c60c3458",
   "metadata": {},
   "outputs": [
    {
     "data": {
      "text/plain": [
       "0"
      ]
     },
     "execution_count": 8,
     "metadata": {},
     "output_type": "execute_result"
    }
   ],
   "source": [
    "4%2"
   ]
  },
  {
   "cell_type": "code",
   "execution_count": 9,
   "id": "3b8bb43f",
   "metadata": {},
   "outputs": [
    {
     "data": {
      "text/plain": [
       "1"
      ]
     },
     "execution_count": 9,
     "metadata": {},
     "output_type": "execute_result"
    }
   ],
   "source": [
    "5%2"
   ]
  },
  {
   "cell_type": "code",
   "execution_count": 10,
   "id": "02b5ed6b",
   "metadata": {},
   "outputs": [
    {
     "data": {
      "text/plain": [
       "3"
      ]
     },
     "execution_count": 10,
     "metadata": {},
     "output_type": "execute_result"
    }
   ],
   "source": [
    "6//2 "
   ]
  },
  {
   "cell_type": "code",
   "execution_count": 11,
   "id": "c2057abc",
   "metadata": {},
   "outputs": [
    {
     "data": {
      "text/plain": [
       "2"
      ]
     },
     "execution_count": 11,
     "metadata": {},
     "output_type": "execute_result"
    }
   ],
   "source": [
    "5//2"
   ]
  },
  {
   "cell_type": "code",
   "execution_count": 12,
   "id": "18f5687a",
   "metadata": {},
   "outputs": [
    {
     "data": {
      "text/plain": [
       "9"
      ]
     },
     "execution_count": 12,
     "metadata": {},
     "output_type": "execute_result"
    }
   ],
   "source": [
    "3**2"
   ]
  },
  {
   "cell_type": "markdown",
   "id": "74cea2d0",
   "metadata": {},
   "source": [
    " #### 괄호를 사용해서 연산 우선순위 지정하기"
   ]
  },
  {
   "cell_type": "code",
   "execution_count": 13,
   "id": "27186c22",
   "metadata": {},
   "outputs": [
    {
     "data": {
      "text/plain": [
       "23"
      ]
     },
     "execution_count": 13,
     "metadata": {},
     "output_type": "execute_result"
    }
   ],
   "source": [
    "3+4*5"
   ]
  },
  {
   "cell_type": "code",
   "execution_count": 14,
   "id": "1f622440",
   "metadata": {},
   "outputs": [
    {
     "data": {
      "text/plain": [
       "35"
      ]
     },
     "execution_count": 14,
     "metadata": {},
     "output_type": "execute_result"
    }
   ],
   "source": [
    "(3+4)*5"
   ]
  },
  {
   "cell_type": "markdown",
   "id": "6afa1f3e",
   "metadata": {},
   "source": [
    "#### 3의 4제곱에서 100을 뺀 값의 3제곱을 5로 나눈 몫에 1을 더한 값을 구하시오."
   ]
  },
  {
   "cell_type": "code",
   "execution_count": 15,
   "id": "25f167ec",
   "metadata": {},
   "outputs": [
    {
     "data": {
      "text/plain": [
       "-1371"
      ]
     },
     "execution_count": 15,
     "metadata": {},
     "output_type": "execute_result"
    }
   ],
   "source": [
    "(3**4-100)**3//5+1"
   ]
  },
  {
   "cell_type": "markdown",
   "id": "b59118e0",
   "metadata": {},
   "source": [
    "#### 초를 입력하면 '몇 분 몇 초'로 환산해주는 코드를 다음과 같이 출력하도록 작성하시오.\n",
    "* input(\"초를 입력하세요: \")\n",
    "\n",
    "초를 입력하세요:1234 1234 초(sec)는 20 분(min) 34 초(sec)입니다"
   ]
  },
  {
   "cell_type": "markdown",
   "id": "df5ff92e",
   "metadata": {},
   "source": [
    "* int(): 데이터 타입을 int로 형변환\n",
    "* float(): 데이터 타입을 float으로 형변환\n",
    "* str(): 데이터 타입을 str로 형변환\n",
    "* list(): 데이터 타입을 list로 형변환\n",
    "* tuple(): 데이터 타입을 tuple로 형변환\n",
    "* dict(): 데이터 타입을 dict로 형변환"
   ]
  },
  {
   "cell_type": "code",
   "execution_count": 41,
   "id": "794b433c",
   "metadata": {},
   "outputs": [
    {
     "name": "stdout",
     "output_type": "stream",
     "text": [
      "초를 입력하세요: 1234\n",
      "1234 초(sec)는 20 분(min) 34 초(sec)입니다\n"
     ]
    }
   ],
   "source": [
    "sec = int(input(\"초를 입력하세요: \"))\n",
    "minute= sec//60\n",
    "restsec= sec % 60\n",
    "print(sec, \"초(sec)는\", minute, \"분(min)\", restsec, \"초(sec)입니다\")"
   ]
  },
  {
   "cell_type": "markdown",
   "id": "86f3f45d",
   "metadata": {},
   "source": [
    "#### 할당연산자\n",
    "* = 오른쪽의 자료를 왼쪽 변수에 할당"
   ]
  },
  {
   "cell_type": "code",
   "execution_count": 34,
   "id": "3b98aead",
   "metadata": {},
   "outputs": [
    {
     "data": {
      "text/plain": [
       "2"
      ]
     },
     "execution_count": 34,
     "metadata": {},
     "output_type": "execute_result"
    }
   ],
   "source": [
    "a=2\n",
    "a"
   ]
  },
  {
   "cell_type": "markdown",
   "id": "86118d47",
   "metadata": {},
   "source": [
    "  - += 왼쪽 변수 값에 오른쪽 값을 더해서 왼쪽 변수에 할당\n",
    "  - -= 왼쪽 변수 값에 오른쪽 값을 더해서 왼쪽 변수에 할당"
   ]
  },
  {
   "cell_type": "code",
   "execution_count": 35,
   "id": "66abdf86",
   "metadata": {},
   "outputs": [
    {
     "data": {
      "text/plain": [
       "3"
      ]
     },
     "execution_count": 35,
     "metadata": {},
     "output_type": "execute_result"
    }
   ],
   "source": [
    "#a=a+1\n",
    "a += 1\n",
    "a"
   ]
  },
  {
   "cell_type": "code",
   "execution_count": 36,
   "id": "287eed13",
   "metadata": {},
   "outputs": [
    {
     "data": {
      "text/plain": [
       "2"
      ]
     },
     "execution_count": 36,
     "metadata": {},
     "output_type": "execute_result"
    }
   ],
   "source": [
    "#a=a-1\n",
    "a-=1\n",
    "a"
   ]
  },
  {
   "cell_type": "code",
   "execution_count": 37,
   "id": "ae095565",
   "metadata": {},
   "outputs": [
    {
     "data": {
      "text/plain": [
       "4"
      ]
     },
     "execution_count": 37,
     "metadata": {},
     "output_type": "execute_result"
    }
   ],
   "source": [
    "a *=2\n",
    "a"
   ]
  },
  {
   "cell_type": "code",
   "execution_count": 38,
   "id": "5db243e9",
   "metadata": {},
   "outputs": [
    {
     "data": {
      "text/plain": [
       "2.0"
      ]
     },
     "execution_count": 38,
     "metadata": {},
     "output_type": "execute_result"
    }
   ],
   "source": [
    "a /=2\n",
    "a"
   ]
  },
  {
   "cell_type": "code",
   "execution_count": 39,
   "id": "73d47e06",
   "metadata": {},
   "outputs": [
    {
     "data": {
      "text/plain": [
       "0.0"
      ]
     },
     "execution_count": 39,
     "metadata": {},
     "output_type": "execute_result"
    }
   ],
   "source": [
    "a %=2\n",
    "a"
   ]
  },
  {
   "cell_type": "code",
   "execution_count": 40,
   "id": "5bbdc873",
   "metadata": {},
   "outputs": [
    {
     "data": {
      "text/plain": [
       "2.0"
      ]
     },
     "execution_count": 40,
     "metadata": {},
     "output_type": "execute_result"
    }
   ],
   "source": [
    "a +=4\n",
    "a//=2\n",
    "a"
   ]
  },
  {
   "cell_type": "markdown",
   "id": "60e1485b",
   "metadata": {},
   "source": [
    "- 비교연산자 ==, !=, >, <, >=, <="
   ]
  },
  {
   "cell_type": "code",
   "execution_count": 42,
   "id": "86467033",
   "metadata": {},
   "outputs": [],
   "source": [
    "a=3\n",
    "b=3.0\n",
    "c=5\n",
    "d=\"Python\"\n",
    "e=\"python\"\n",
    "f= True\n",
    "g= False"
   ]
  },
  {
   "cell_type": "markdown",
   "id": "c6290fe0",
   "metadata": {},
   "source": [
    "### == 같으면 True, 다르면 False"
   ]
  },
  {
   "cell_type": "code",
   "execution_count": null,
   "id": "ade2db9a",
   "metadata": {},
   "outputs": [],
   "source": [
    "#값이 같다고 같은게 아니다."
   ]
  },
  {
   "cell_type": "code",
   "execution_count": 56,
   "id": "782f96c6",
   "metadata": {},
   "outputs": [
    {
     "data": {
      "text/plain": [
       "True"
      ]
     },
     "execution_count": 56,
     "metadata": {},
     "output_type": "execute_result"
    }
   ],
   "source": [
    "a == b"
   ]
  },
  {
   "cell_type": "code",
   "execution_count": 57,
   "id": "bcc00fbd",
   "metadata": {},
   "outputs": [
    {
     "data": {
      "text/plain": [
       "False"
      ]
     },
     "execution_count": 57,
     "metadata": {},
     "output_type": "execute_result"
    }
   ],
   "source": [
    "a == c"
   ]
  },
  {
   "cell_type": "code",
   "execution_count": 58,
   "id": "a7c01927",
   "metadata": {},
   "outputs": [
    {
     "data": {
      "text/plain": [
       "False"
      ]
     },
     "execution_count": 58,
     "metadata": {},
     "output_type": "execute_result"
    }
   ],
   "source": [
    "\n",
    "d == e"
   ]
  },
  {
   "cell_type": "code",
   "execution_count": 59,
   "id": "1e9786fd",
   "metadata": {},
   "outputs": [
    {
     "data": {
      "text/plain": [
       "False"
      ]
     },
     "execution_count": 59,
     "metadata": {},
     "output_type": "execute_result"
    }
   ],
   "source": [
    "f == g"
   ]
  },
  {
   "cell_type": "markdown",
   "id": "f3166cb4",
   "metadata": {},
   "source": [
    "### != 다르면 True, 같으면 False"
   ]
  },
  {
   "cell_type": "code",
   "execution_count": null,
   "id": "dbcad48a",
   "metadata": {},
   "outputs": [],
   "source": []
  },
  {
   "cell_type": "code",
   "execution_count": null,
   "id": "771ac62c",
   "metadata": {},
   "outputs": [],
   "source": []
  },
  {
   "cell_type": "code",
   "execution_count": null,
   "id": "4c3c07b7",
   "metadata": {},
   "outputs": [],
   "source": []
  },
  {
   "cell_type": "code",
   "execution_count": null,
   "id": "9c8ade74",
   "metadata": {},
   "outputs": [],
   "source": []
  },
  {
   "cell_type": "code",
   "execution_count": null,
   "id": "80f025ef",
   "metadata": {},
   "outputs": [],
   "source": [
    "# a>b a가 b를 초과하냐?크냐?\n",
    "# a<b a가 b 미만이냐?\n",
    "# a>=b a가 b이상이냐?\n",
    "# a<=b a가 b이하냐?"
   ]
  },
  {
   "cell_type": "code",
   "execution_count": null,
   "id": "7e153772",
   "metadata": {},
   "outputs": [],
   "source": []
  },
  {
   "cell_type": "markdown",
   "id": "453306c3",
   "metadata": {},
   "source": [
    "or -> true가 한개라도 있으면 트루다, \n",
    "#두 값중 하나라도 참이면 참이고, 두값다 거짓이면 거짓이다"
   ]
  },
  {
   "cell_type": "code",
   "execution_count": null,
   "id": "c3100af3",
   "metadata": {},
   "outputs": [],
   "source": [
    "#not -> 값을 반대로 뒤집음,\n",
    "#true=>false, false=>true"
   ]
  },
  {
   "cell_type": "code",
   "execution_count": null,
   "id": "e9e2c24c",
   "metadata": {},
   "outputs": [],
   "source": []
  },
  {
   "cell_type": "markdown",
   "id": "545e25cc",
   "metadata": {},
   "source": [
    "and, or, not 논리연산자가 식 하나에 들어 있으면 \n",
    "not, and, or 순으로 판단"
   ]
  },
  {
   "cell_type": "code",
   "execution_count": 45,
   "id": "bf14ec1e",
   "metadata": {},
   "outputs": [
    {
     "data": {
      "text/plain": [
       "True"
      ]
     },
     "execution_count": 45,
     "metadata": {},
     "output_type": "execute_result"
    }
   ],
   "source": [
    "not True and False or not False"
   ]
  },
  {
   "cell_type": "markdown",
   "id": "367e9401",
   "metadata": {},
   "source": [
    "- not true and false =false\n",
    "- false or not false =true"
   ]
  },
  {
   "cell_type": "code",
   "execution_count": 46,
   "id": "51b19c5f",
   "metadata": {},
   "outputs": [
    {
     "data": {
      "text/plain": [
       "True"
      ]
     },
     "execution_count": 46,
     "metadata": {},
     "output_type": "execute_result"
    }
   ],
   "source": [
    "10 == 10 and 10 != 5"
   ]
  },
  {
   "cell_type": "code",
   "execution_count": null,
   "id": "6c4cc809",
   "metadata": {},
   "outputs": [],
   "source": [
    "10 "
   ]
  },
  {
   "cell_type": "markdown",
   "id": "00ab3d7b",
   "metadata": {},
   "source": [
    "식별 연산자ㅣ is, is not 객체(object)가 같은지 비교\n",
    "a is b: a객체와 b객체가 같은지 비교 같으면 참, 다르면 거짓\n",
    "### 자바스크립트의 ===연산자와 동일"
   ]
  },
  {
   "cell_type": "code",
   "execution_count": 47,
   "id": "2bc69566",
   "metadata": {},
   "outputs": [
    {
     "name": "stdout",
     "output_type": "stream",
     "text": [
      "3\n",
      "3.0\n",
      "5\n"
     ]
    }
   ],
   "source": [
    "print(a)\n",
    "print(b)\n",
    "print(c)"
   ]
  },
  {
   "cell_type": "code",
   "execution_count": 48,
   "id": "fa31b5b9",
   "metadata": {},
   "outputs": [
    {
     "name": "stdout",
     "output_type": "stream",
     "text": [
      "True\n",
      "False\n"
     ]
    }
   ],
   "source": [
    "print(a==b) #a는 정수, b 는 실수 값은 같다\n",
    "print(a is b)  # 값은 같지만 데이터 타입이 달라서"
   ]
  },
  {
   "cell_type": "code",
   "execution_count": 49,
   "id": "a521553c",
   "metadata": {},
   "outputs": [],
   "source": [
    "d=3"
   ]
  },
  {
   "cell_type": "code",
   "execution_count": 50,
   "id": "b917f609",
   "metadata": {},
   "outputs": [
    {
     "name": "stdout",
     "output_type": "stream",
     "text": [
      "True\n",
      "True\n"
     ]
    }
   ],
   "source": [
    "print(a==d)\n",
    "print(a is d)"
   ]
  },
  {
   "cell_type": "code",
   "execution_count": 52,
   "id": "a1384e00",
   "metadata": {},
   "outputs": [
    {
     "name": "stdout",
     "output_type": "stream",
     "text": [
      "False\n",
      "True\n"
     ]
    }
   ],
   "source": [
    "print(a!=b)\n",
    "print(a is not b)"
   ]
  },
  {
   "cell_type": "markdown",
   "id": "b2e68372",
   "metadata": {},
   "source": [
    "## 맴버 연산자"
   ]
  },
  {
   "cell_type": "markdown",
   "id": "cd7faa1f",
   "metadata": {},
   "source": [
    "- in, not in\n",
    "- 리스트나 튜플 같은 객체 내에 해당 값이 있으면 참, 없으면 거짓"
   ]
  },
  {
   "cell_type": "code",
   "execution_count": 53,
   "id": "55fdecc0",
   "metadata": {},
   "outputs": [],
   "source": [
    "member= [1,2,3,4,5]"
   ]
  },
  {
   "cell_type": "code",
   "execution_count": 54,
   "id": "313f83a4",
   "metadata": {},
   "outputs": [
    {
     "data": {
      "text/plain": [
       "True"
      ]
     },
     "execution_count": 54,
     "metadata": {},
     "output_type": "execute_result"
    }
   ],
   "source": [
    "3 in member"
   ]
  },
  {
   "cell_type": "code",
   "execution_count": 55,
   "id": "e47a4d30",
   "metadata": {},
   "outputs": [
    {
     "data": {
      "text/plain": [
       "False"
      ]
     },
     "execution_count": 55,
     "metadata": {},
     "output_type": "execute_result"
    }
   ],
   "source": [
    "3 not in member"
   ]
  },
  {
   "cell_type": "code",
   "execution_count": null,
   "id": "adcad16c",
   "metadata": {},
   "outputs": [],
   "source": []
  },
  {
   "cell_type": "code",
   "execution_count": null,
   "id": "e29dd6a3",
   "metadata": {},
   "outputs": [],
   "source": []
  },
  {
   "cell_type": "code",
   "execution_count": null,
   "id": "2ff21381",
   "metadata": {},
   "outputs": [],
   "source": []
  },
  {
   "cell_type": "code",
   "execution_count": null,
   "id": "3a152c65",
   "metadata": {},
   "outputs": [],
   "source": []
  },
  {
   "cell_type": "code",
   "execution_count": null,
   "id": "a00c0678",
   "metadata": {},
   "outputs": [],
   "source": []
  },
  {
   "cell_type": "code",
   "execution_count": null,
   "id": "a9462380",
   "metadata": {},
   "outputs": [],
   "source": []
  }
 ],
 "metadata": {
  "kernelspec": {
   "display_name": "Python 3 (ipykernel)",
   "language": "python",
   "name": "python3"
  },
  "language_info": {
   "codemirror_mode": {
    "name": "ipython",
    "version": 3
   },
   "file_extension": ".py",
   "mimetype": "text/x-python",
   "name": "python",
   "nbconvert_exporter": "python",
   "pygments_lexer": "ipython3",
   "version": "3.10.14"
  }
 },
 "nbformat": 4,
 "nbformat_minor": 5
}
