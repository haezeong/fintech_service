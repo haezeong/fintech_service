{
 "cells": [
  {
   "cell_type": "markdown",
   "id": "f3dc9cf9",
   "metadata": {},
   "source": [
    "# 리스트와 튜플 사용하기 초급편"
   ]
  },
  {
   "cell_type": "code",
   "execution_count": 1,
   "id": "cb7d7451",
   "metadata": {},
   "outputs": [],
   "source": [
    "a=1\n",
    "b=2\n",
    "c=3\n",
    "d=4\n",
    "e=5"
   ]
  },
  {
   "cell_type": "code",
   "execution_count": 2,
   "id": "9fbbd037",
   "metadata": {},
   "outputs": [],
   "source": [
    "L1 = [1,2,3,4,5]"
   ]
  },
  {
   "cell_type": "code",
   "execution_count": 3,
   "id": "8975dcee",
   "metadata": {},
   "outputs": [
    {
     "data": {
      "text/plain": [
       "['파이썬', 2, 17.2, True]"
      ]
     },
     "execution_count": 3,
     "metadata": {},
     "output_type": "execute_result"
    }
   ],
   "source": [
    "L2 = ['파이썬',2,17.2, True]\n",
    "L2"
   ]
  },
  {
   "cell_type": "code",
   "execution_count": 4,
   "id": "e1d51fe0",
   "metadata": {},
   "outputs": [
    {
     "data": {
      "text/plain": [
       "'파이썬'"
      ]
     },
     "execution_count": 4,
     "metadata": {},
     "output_type": "execute_result"
    }
   ],
   "source": [
    "L2[0]"
   ]
  },
  {
   "cell_type": "code",
   "execution_count": 5,
   "id": "65122548",
   "metadata": {},
   "outputs": [
    {
     "name": "stdout",
     "output_type": "stream",
     "text": [
      "<class 'list'>\n",
      "<class 'str'>\n",
      "<class 'int'>\n",
      "<class 'float'>\n"
     ]
    }
   ],
   "source": [
    "print(type(L2))\n",
    "print(type(L2[0]))\n",
    "print(type(L2[1]))\n",
    "print(type(L2[2]))"
   ]
  },
  {
   "cell_type": "code",
   "execution_count": null,
   "id": "89025971",
   "metadata": {},
   "outputs": [],
   "source": []
  },
  {
   "cell_type": "code",
   "execution_count": null,
   "id": "74e8dc55",
   "metadata": {},
   "outputs": [],
   "source": []
  },
  {
   "cell_type": "markdown",
   "id": "88e64b10",
   "metadata": {},
   "source": [
    "- 빈리스트 만들기"
   ]
  },
  {
   "cell_type": "code",
   "execution_count": 6,
   "id": "365a35e7",
   "metadata": {},
   "outputs": [
    {
     "data": {
      "text/plain": [
       "[]"
      ]
     },
     "execution_count": 6,
     "metadata": {},
     "output_type": "execute_result"
    }
   ],
   "source": [
    "L3= []\n",
    "L3"
   ]
  },
  {
   "cell_type": "code",
   "execution_count": 7,
   "id": "37bcade1",
   "metadata": {},
   "outputs": [],
   "source": [
    "# 빈 리스트여도, 자료를 한개만 넣어도 리스트가 됩니다"
   ]
  },
  {
   "cell_type": "code",
   "execution_count": null,
   "id": "e4e12734",
   "metadata": {},
   "outputs": [],
   "source": []
  },
  {
   "cell_type": "markdown",
   "id": "c26e28db",
   "metadata": {},
   "source": [
    "## list() 형변환 함수"
   ]
  },
  {
   "cell_type": "code",
   "execution_count": 8,
   "id": "fbc013c8",
   "metadata": {},
   "outputs": [],
   "source": [
    "#다른 자료형일때 리스트로 만들어 준다"
   ]
  },
  {
   "cell_type": "code",
   "execution_count": 9,
   "id": "f65d71fe",
   "metadata": {},
   "outputs": [
    {
     "name": "stdout",
     "output_type": "stream",
     "text": [
      "range(0, 10)\n"
     ]
    }
   ],
   "source": [
    "print(range(10))"
   ]
  },
  {
   "cell_type": "code",
   "execution_count": 10,
   "id": "0831443e",
   "metadata": {},
   "outputs": [
    {
     "name": "stdout",
     "output_type": "stream",
     "text": [
      "<class 'range'>\n"
     ]
    }
   ],
   "source": [
    "print(type(range(10)))"
   ]
  },
  {
   "cell_type": "code",
   "execution_count": 11,
   "id": "013f14ba",
   "metadata": {},
   "outputs": [
    {
     "name": "stdout",
     "output_type": "stream",
     "text": [
      "0\n",
      "1\n",
      "2\n",
      "3\n",
      "4\n",
      "5\n",
      "6\n",
      "7\n",
      "8\n",
      "9\n"
     ]
    }
   ],
   "source": [
    "for i in range(10):\n",
    "    print(i)\n",
    "    "
   ]
  },
  {
   "cell_type": "code",
   "execution_count": 42,
   "id": "1efed9d6",
   "metadata": {},
   "outputs": [
    {
     "data": {
      "text/plain": [
       "[0, 1, 2, 3, 4, 5, 6, 7, 8, 9]"
      ]
     },
     "execution_count": 42,
     "metadata": {},
     "output_type": "execute_result"
    }
   ],
   "source": [
    "L5 = list(range(10))\n",
    "L5"
   ]
  },
  {
   "cell_type": "code",
   "execution_count": null,
   "id": "1c77abdd",
   "metadata": {},
   "outputs": [],
   "source": []
  },
  {
   "cell_type": "markdown",
   "id": "ca531a95",
   "metadata": {},
   "source": [
    "# range()함수\n",
    "- range(시작,끝,증가값)"
   ]
  },
  {
   "cell_type": "code",
   "execution_count": 12,
   "id": "33fa07a4",
   "metadata": {},
   "outputs": [
    {
     "data": {
      "text/plain": [
       "[0, 1, 2, 3, 4, 5, 6, 7, 8, 9]"
      ]
     },
     "execution_count": 12,
     "metadata": {},
     "output_type": "execute_result"
    }
   ],
   "source": [
    "list(range(10)) "
   ]
  },
  {
   "cell_type": "code",
   "execution_count": 13,
   "id": "e60f92c7",
   "metadata": {},
   "outputs": [
    {
     "data": {
      "text/plain": [
       "[1, 2, 3, 4, 5, 6, 7, 8, 9, 10]"
      ]
     },
     "execution_count": 13,
     "metadata": {},
     "output_type": "execute_result"
    }
   ],
   "source": [
    "list(range(1,11))"
   ]
  },
  {
   "cell_type": "code",
   "execution_count": 43,
   "id": "f40e95a6",
   "metadata": {},
   "outputs": [
    {
     "data": {
      "text/plain": [
       "[1, 3, 5, 7, 9, 11, 13, 15, 17, 19]"
      ]
     },
     "execution_count": 43,
     "metadata": {},
     "output_type": "execute_result"
    }
   ],
   "source": [
    "list(range(1, 20, 2))"
   ]
  },
  {
   "cell_type": "code",
   "execution_count": null,
   "id": "71168cdc",
   "metadata": {},
   "outputs": [],
   "source": []
  },
  {
   "cell_type": "markdown",
   "id": "ebc6eaf8",
   "metadata": {},
   "source": [
    "# .append() 리스트의 끝에 자료 추가"
   ]
  },
  {
   "cell_type": "code",
   "execution_count": 14,
   "id": "23ed3805",
   "metadata": {},
   "outputs": [
    {
     "data": {
      "text/plain": [
       "['파이썬', 2, 17.2, True, 3]"
      ]
     },
     "execution_count": 14,
     "metadata": {},
     "output_type": "execute_result"
    }
   ],
   "source": [
    "L2.append(3)\n",
    "L2"
   ]
  },
  {
   "cell_type": "code",
   "execution_count": 15,
   "id": "8db9d019",
   "metadata": {},
   "outputs": [],
   "source": [
    "L2.append([1,2,3])"
   ]
  },
  {
   "cell_type": "code",
   "execution_count": 16,
   "id": "c25ab5e2",
   "metadata": {},
   "outputs": [
    {
     "data": {
      "text/plain": [
       "['파이썬', 2, 17.2, True, 3, [1, 2, 3]]"
      ]
     },
     "execution_count": 16,
     "metadata": {},
     "output_type": "execute_result"
    }
   ],
   "source": [
    "L2 "
   ]
  },
  {
   "cell_type": "markdown",
   "id": "5be6d35a",
   "metadata": {},
   "source": [
    "* 길이를 재는 함수 =len()"
   ]
  },
  {
   "cell_type": "code",
   "execution_count": 17,
   "id": "b2d53e34",
   "metadata": {},
   "outputs": [
    {
     "data": {
      "text/plain": [
       "6"
      ]
     },
     "execution_count": 17,
     "metadata": {},
     "output_type": "execute_result"
    }
   ],
   "source": [
    "len(L2)"
   ]
  },
  {
   "cell_type": "code",
   "execution_count": 18,
   "id": "2af42e58",
   "metadata": {},
   "outputs": [],
   "source": [
    "#리스트는 포장된 박스하나"
   ]
  },
  {
   "cell_type": "code",
   "execution_count": 20,
   "id": "1374fea2",
   "metadata": {},
   "outputs": [],
   "source": [
    "L2.append(list(range(30)))"
   ]
  },
  {
   "cell_type": "code",
   "execution_count": 21,
   "id": "104a439d",
   "metadata": {},
   "outputs": [
    {
     "data": {
      "text/plain": [
       "7"
      ]
     },
     "execution_count": 21,
     "metadata": {},
     "output_type": "execute_result"
    }
   ],
   "source": [
    "len(L2)"
   ]
  },
  {
   "cell_type": "markdown",
   "id": "f917a09e",
   "metadata": {},
   "source": [
    "# .insert()\n",
    "- .insert(추가 할 위치 인덱스,값)"
   ]
  },
  {
   "cell_type": "code",
   "execution_count": 22,
   "id": "29176641",
   "metadata": {},
   "outputs": [],
   "source": [
    "del L2[6]"
   ]
  },
  {
   "cell_type": "code",
   "execution_count": 23,
   "id": "4e58138c",
   "metadata": {},
   "outputs": [
    {
     "data": {
      "text/plain": [
       "['파이썬', 2, 17.2, True, 3, [1, 2, 3]]"
      ]
     },
     "execution_count": 23,
     "metadata": {},
     "output_type": "execute_result"
    }
   ],
   "source": [
    "L2"
   ]
  },
  {
   "cell_type": "code",
   "execution_count": 24,
   "id": "61876298",
   "metadata": {},
   "outputs": [],
   "source": [
    "L2.insert(2,\"리스트 함수\")"
   ]
  },
  {
   "cell_type": "code",
   "execution_count": 25,
   "id": "a3a285e9",
   "metadata": {},
   "outputs": [
    {
     "data": {
      "text/plain": [
       "['파이썬', 2, '리스트 함수', 17.2, True, 3, [1, 2, 3]]"
      ]
     },
     "execution_count": 25,
     "metadata": {},
     "output_type": "execute_result"
    }
   ],
   "source": [
    "L2"
   ]
  },
  {
   "cell_type": "markdown",
   "id": "bc6070e6",
   "metadata": {},
   "source": [
    "## 리스트의 자료 삭제\n",
    "* del 변수명[인덱스 번호]\n",
    "* .pop(): 리스트의 가장 오른쪽 끝 자료가 출력되고 삭제된다\n",
    "* .remove(값): 리스트의 앞부터 일치하는 값 1개를 찾아서 삭제\n"
   ]
  },
  {
   "cell_type": "code",
   "execution_count": 26,
   "id": "343232cc",
   "metadata": {},
   "outputs": [],
   "source": [
    "del L2[1]"
   ]
  },
  {
   "cell_type": "code",
   "execution_count": 27,
   "id": "27615b86",
   "metadata": {},
   "outputs": [
    {
     "data": {
      "text/plain": [
       "['파이썬', '리스트 함수', 17.2, True, 3, [1, 2, 3]]"
      ]
     },
     "execution_count": 27,
     "metadata": {},
     "output_type": "execute_result"
    }
   ],
   "source": [
    "L2 "
   ]
  },
  {
   "cell_type": "code",
   "execution_count": 29,
   "id": "0fbc4862",
   "metadata": {},
   "outputs": [
    {
     "data": {
      "text/plain": [
       "[1, 2, 3]"
      ]
     },
     "execution_count": 29,
     "metadata": {},
     "output_type": "execute_result"
    }
   ],
   "source": [
    "L2.pop()"
   ]
  },
  {
   "cell_type": "code",
   "execution_count": 30,
   "id": "9f1aa927",
   "metadata": {},
   "outputs": [
    {
     "data": {
      "text/plain": [
       "['파이썬', '리스트 함수', 17.2, True, 3]"
      ]
     },
     "execution_count": 30,
     "metadata": {},
     "output_type": "execute_result"
    }
   ],
   "source": [
    "L2"
   ]
  },
  {
   "cell_type": "code",
   "execution_count": 31,
   "id": "7a1e11b2",
   "metadata": {},
   "outputs": [],
   "source": [
    "L2.append(17.2)"
   ]
  },
  {
   "cell_type": "code",
   "execution_count": 32,
   "id": "84d062e2",
   "metadata": {},
   "outputs": [
    {
     "data": {
      "text/plain": [
       "['파이썬', '리스트 함수', 17.2, True, 3, 17.2]"
      ]
     },
     "execution_count": 32,
     "metadata": {},
     "output_type": "execute_result"
    }
   ],
   "source": [
    "L2"
   ]
  },
  {
   "cell_type": "code",
   "execution_count": 33,
   "id": "692e33ef",
   "metadata": {},
   "outputs": [],
   "source": [
    "L2.remove(17.2)"
   ]
  },
  {
   "cell_type": "code",
   "execution_count": 34,
   "id": "be7344a6",
   "metadata": {},
   "outputs": [
    {
     "data": {
      "text/plain": [
       "['파이썬', '리스트 함수', True, 3, 17.2]"
      ]
     },
     "execution_count": 34,
     "metadata": {},
     "output_type": "execute_result"
    }
   ],
   "source": [
    "L2"
   ]
  },
  {
   "cell_type": "code",
   "execution_count": 35,
   "id": "f2fdf9b3",
   "metadata": {},
   "outputs": [],
   "source": [
    "#앞에 있는 17.2가 사라진다. 여러개의 리스트를 삭제할 수 는 없다.\n",
    "# 가장 앞에 나오는 일치하는 값을 삭제한다"
   ]
  },
  {
   "cell_type": "code",
   "execution_count": 36,
   "id": "2cf7843e",
   "metadata": {},
   "outputs": [
    {
     "data": {
      "text/plain": [
       "['파이썬', '리스트 함수', [17.2, 3, '파이썬'], True, 3, 17.2]"
      ]
     },
     "execution_count": 36,
     "metadata": {},
     "output_type": "execute_result"
    }
   ],
   "source": [
    "L2.insert(2,[17.2,3,'파이썬'])\n",
    "L2"
   ]
  },
  {
   "cell_type": "code",
   "execution_count": 37,
   "id": "5c531393",
   "metadata": {},
   "outputs": [],
   "source": [
    "L2.remove(17.2)"
   ]
  },
  {
   "cell_type": "code",
   "execution_count": 39,
   "id": "9fcaec4a",
   "metadata": {},
   "outputs": [
    {
     "data": {
      "text/plain": [
       "['파이썬', '리스트 함수', [17.2, 3, '파이썬'], True, 3]"
      ]
     },
     "execution_count": 39,
     "metadata": {},
     "output_type": "execute_result"
    }
   ],
   "source": [
    "L2"
   ]
  },
  {
   "cell_type": "code",
   "execution_count": 40,
   "id": "b4e9d67e",
   "metadata": {},
   "outputs": [],
   "source": [
    "L2[2].remove(17.2)"
   ]
  },
  {
   "cell_type": "code",
   "execution_count": 41,
   "id": "0a52753b",
   "metadata": {},
   "outputs": [
    {
     "data": {
      "text/plain": [
       "['파이썬', '리스트 함수', [3, '파이썬'], True, 3]"
      ]
     },
     "execution_count": 41,
     "metadata": {},
     "output_type": "execute_result"
    }
   ],
   "source": [
    "L2 "
   ]
  },
  {
   "cell_type": "code",
   "execution_count": null,
   "id": "71ab0caa",
   "metadata": {},
   "outputs": [],
   "source": [
    "#리스트 안에 있는 애는 포장을 뜯기 전까지는 알 수 없다 \n",
    "#(안에 뭐가 들어있는 지 알 수 없다. 박스 하나로 인식)"
   ]
  }
 ],
 "metadata": {
  "kernelspec": {
   "display_name": "Python 3 (ipykernel)",
   "language": "python",
   "name": "python3"
  },
  "language_info": {
   "codemirror_mode": {
    "name": "ipython",
    "version": 3
   },
   "file_extension": ".py",
   "mimetype": "text/x-python",
   "name": "python",
   "nbconvert_exporter": "python",
   "pygments_lexer": "ipython3",
   "version": "3.10.14"
  }
 },
 "nbformat": 4,
 "nbformat_minor": 5
}
