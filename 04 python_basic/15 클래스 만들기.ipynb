{
 "cells": [
  {
   "cell_type": "markdown",
   "id": "29fda376",
   "metadata": {},
   "source": [
    "# 클래스 만들기\n",
    "* 클래스는 객체지향 프로그래밍의 핵심\n",
    "* 클래스 하나에 여러개 함수(매서드)를 가지고 있는 구조\n",
    "* 클래스 = 커피머신 공장\n",
    "* 매서드 = 커피머신의 기능 (에스프레소, 아메리카노, 카페라떼, 카푸치노)\n",
    "* "
   ]
  },
  {
   "cell_type": "markdown",
   "id": "c0f9158d",
   "metadata": {},
   "source": [
    "더하기 함수 만들기"
   ]
  },
  {
   "cell_type": "code",
   "execution_count": 1,
   "id": "56039fd2",
   "metadata": {},
   "outputs": [
    {
     "name": "stdout",
     "output_type": "stream",
     "text": [
      "9\n"
     ]
    }
   ],
   "source": [
    "def add(a, b):\n",
    "    result=a+b\n",
    "    \n",
    "    return(result)\n",
    "    \n",
    "result(3,6)"
   ]
  },
  {
   "cell_type": "code",
   "execution_count": null,
   "id": "a722fda3",
   "metadata": {},
   "outputs": [],
   "source": [
    "# 기존값을 기억하는 함수?"
   ]
  },
  {
   "cell_type": "code",
   "execution_count": null,
   "id": "f67fd23b",
   "metadata": {},
   "outputs": [],
   "source": [
    "result =0\n",
    "def add(num):\n",
    "    result+=num\n",
    "    return result"
   ]
  },
  {
   "cell_type": "code",
   "execution_count": 2,
   "id": "b51252ca",
   "metadata": {},
   "outputs": [
    {
     "data": {
      "text/plain": [
       "8"
      ]
     },
     "execution_count": 2,
     "metadata": {},
     "output_type": "execute_result"
    }
   ],
   "source": [
    "result =[]\n",
    "def add(num):\n",
    "    result.append(num)\n",
    "    a=sum(result)\n",
    "    return a\n",
    "\n",
    "add(8)"
   ]
  },
  {
   "cell_type": "code",
   "execution_count": 3,
   "id": "366038f5",
   "metadata": {},
   "outputs": [
    {
     "data": {
      "text/plain": [
       "17"
      ]
     },
     "execution_count": 3,
     "metadata": {},
     "output_type": "execute_result"
    }
   ],
   "source": [
    "add(9)"
   ]
  },
  {
   "cell_type": "code",
   "execution_count": 9,
   "id": "3cc59fad",
   "metadata": {},
   "outputs": [
    {
     "data": {
      "text/plain": [
       "27"
      ]
     },
     "execution_count": 9,
     "metadata": {},
     "output_type": "execute_result"
    }
   ],
   "source": [
    "add(10)"
   ]
  },
  {
   "cell_type": "code",
   "execution_count": null,
   "id": "90bc346e",
   "metadata": {},
   "outputs": [],
   "source": []
  },
  {
   "cell_type": "code",
   "execution_count": null,
   "id": "c5a50945",
   "metadata": {},
   "outputs": [],
   "source": [
    "#함수밖깥에 있는 것을 쓰겠다= global result -> 기억을 할 수 있다"
   ]
  },
  {
   "cell_type": "code",
   "execution_count": 4,
   "id": "84f94ad4",
   "metadata": {},
   "outputs": [
    {
     "data": {
      "text/plain": [
       "['__class__',\n",
       " '__class_getitem__',\n",
       " '__contains__',\n",
       " '__delattr__',\n",
       " '__delitem__',\n",
       " '__dir__',\n",
       " '__doc__',\n",
       " '__eq__',\n",
       " '__format__',\n",
       " '__ge__',\n",
       " '__getattribute__',\n",
       " '__getitem__',\n",
       " '__gt__',\n",
       " '__hash__',\n",
       " '__init__',\n",
       " '__init_subclass__',\n",
       " '__ior__',\n",
       " '__iter__',\n",
       " '__le__',\n",
       " '__len__',\n",
       " '__lt__',\n",
       " '__ne__',\n",
       " '__new__',\n",
       " '__or__',\n",
       " '__reduce__',\n",
       " '__reduce_ex__',\n",
       " '__repr__',\n",
       " '__reversed__',\n",
       " '__ror__',\n",
       " '__setattr__',\n",
       " '__setitem__',\n",
       " '__sizeof__',\n",
       " '__str__',\n",
       " '__subclasshook__',\n",
       " 'clear',\n",
       " 'copy',\n",
       " 'fromkeys',\n",
       " 'get',\n",
       " 'items',\n",
       " 'keys',\n",
       " 'pop',\n",
       " 'popitem',\n",
       " 'setdefault',\n",
       " 'update',\n",
       " 'values']"
      ]
     },
     "execution_count": 4,
     "metadata": {},
     "output_type": "execute_result"
    }
   ],
   "source": [
    "dir(globals())"
   ]
  },
  {
   "cell_type": "code",
   "execution_count": 19,
   "id": "f054a4ae",
   "metadata": {},
   "outputs": [],
   "source": [
    "result_cal=0 #전역변수로 쓸거야\n",
    "def add(num):\n",
    "    global result_cal\n",
    "    result_cal += num\n",
    "    return result_cal"
   ]
  },
  {
   "cell_type": "code",
   "execution_count": null,
   "id": "75d55dea",
   "metadata": {},
   "outputs": [],
   "source": [
    "#함수 만드는 목적은 반복되는 작업 재사용이 목적이었다\n",
    "#함수도 나 혼자는 괜찮은데 다같이 쓸때는 인원수에 맞게 만들어야함\n",
    "#따라서 같이 사용할때는 또만들지않고 불러와서 쓸 수 있도록\n",
    "#불러와서 사용할때마다 자동 초기화 된다면 편하겠다\n",
    "# 그역할을 해주는 것이 클래스 이다.\n"
   ]
  },
  {
   "cell_type": "markdown",
   "id": "cf3a2cfc",
   "metadata": {},
   "source": [
    "* 클래스를 이용해서 계산기 만들기"
   ]
  },
  {
   "cell_type": "markdown",
   "id": "f56b935e",
   "metadata": {},
   "source": [
    "위의 방식으로 함수를 만들면 이전 데이터를 기억하게 할 수 있지만 초기화를 하거나 여러사람이 사용하면서 각기 다른 계산을 할 수 없다.<br>\n",
    "사용자가 늘어나면 변수와 함수를 따로 만들어야 한다.<br>\n",
    "여러 사람이 각자 다른 계산을 할 수 있고 이전 값을 기억할 수 있도록 만들려면 클래스를 이용해서 만들어야 한다.<br>\n"
   ]
  },
  {
   "cell_type": "markdown",
   "id": "7b492ef8",
   "metadata": {},
   "source": [
    "### 클래스로 계산기 만들기"
   ]
  },
  {
   "cell_type": "markdown",
   "id": "9cf04951",
   "metadata": {},
   "source": [
    "class 클래스명 : <br>   #클래스명을 만들때는 대문자로 시작하고 카멜 표기법(단어시작을 대문자로)을 사용 <br>\n",
    "____def 매소드명(): <br>\n",
    "________실행할 코드 <br>\n",
    "________return <br>"
   ]
  },
  {
   "cell_type": "code",
   "execution_count": 11,
   "id": "e1c45797",
   "metadata": {},
   "outputs": [],
   "source": [
    "class Calculator():\n",
    "    def __init__(self):  #self는 Calculator()\n",
    "        self.result=0\n",
    "    def add(self, num):   #self는 Calculator.add(num)\n",
    "        self.result += num\n",
    "        return  self.result"
   ]
  },
  {
   "cell_type": "markdown",
   "id": "df70d582",
   "metadata": {},
   "source": [
    "클래스 사용방법\n",
    "* 변수에 클래스를 담아서 인스턴스 생성\n",
    "* 인스턴스 변수명 = 클래스명()으로 생성할 수 있다.\n",
    "* 인스턴스를 생성하고 나면 인스턴스.매소드 형식으로 클래스에 정의한 매소드를 사용할 수 있다."
   ]
  },
  {
   "cell_type": "code",
   "execution_count": 12,
   "id": "1ec36e70",
   "metadata": {},
   "outputs": [],
   "source": [
    "# cal1 변수에 Calculator() 클래스를 담아 인스턴스 생성\n",
    "Cal1 = Calculator()"
   ]
  },
  {
   "cell_type": "code",
   "execution_count": 13,
   "id": "867dda74",
   "metadata": {},
   "outputs": [
    {
     "name": "stdout",
     "output_type": "stream",
     "text": [
      "<__main__.Calculator object at 0x000001C8AAE741F0>\n",
      "<class '__main__.Calculator'>\n"
     ]
    }
   ],
   "source": [
    "print(Cal1)\n",
    "print(type(Cal1))"
   ]
  },
  {
   "cell_type": "code",
   "execution_count": 15,
   "id": "505050cc",
   "metadata": {},
   "outputs": [],
   "source": [
    "#비슷한것?\n",
    "calc =(lambda x :x+5)"
   ]
  },
  {
   "cell_type": "code",
   "execution_count": 17,
   "id": "8e7e31eb",
   "metadata": {},
   "outputs": [
    {
     "data": {
      "text/plain": [
       "10"
      ]
     },
     "execution_count": 17,
     "metadata": {},
     "output_type": "execute_result"
    }
   ],
   "source": [
    "calc(5)"
   ]
  },
  {
   "cell_type": "code",
   "execution_count": 21,
   "id": "5da46cea",
   "metadata": {},
   "outputs": [
    {
     "data": {
      "text/plain": [
       "5"
      ]
     },
     "execution_count": 21,
     "metadata": {},
     "output_type": "execute_result"
    }
   ],
   "source": [
    "Cal1.add(5)"
   ]
  },
  {
   "cell_type": "code",
   "execution_count": 22,
   "id": "18cb614f",
   "metadata": {},
   "outputs": [
    {
     "data": {
      "text/plain": [
       "8"
      ]
     },
     "execution_count": 22,
     "metadata": {},
     "output_type": "execute_result"
    }
   ],
   "source": [
    "Cal1.add(3)"
   ]
  },
  {
   "cell_type": "code",
   "execution_count": 24,
   "id": "e1b1d429",
   "metadata": {},
   "outputs": [],
   "source": [
    "cal2=Calculator()"
   ]
  },
  {
   "cell_type": "code",
   "execution_count": 25,
   "id": "88d2d0e7",
   "metadata": {},
   "outputs": [
    {
     "data": {
      "text/plain": [
       "1"
      ]
     },
     "execution_count": 25,
     "metadata": {},
     "output_type": "execute_result"
    }
   ],
   "source": [
    "cal2.add(1)"
   ]
  },
  {
   "cell_type": "code",
   "execution_count": 27,
   "id": "d398c7ac",
   "metadata": {},
   "outputs": [],
   "source": [
    "cal3=Calculator()"
   ]
  },
  {
   "cell_type": "code",
   "execution_count": 28,
   "id": "ae62794a",
   "metadata": {},
   "outputs": [
    {
     "data": {
      "text/plain": [
       "100"
      ]
     },
     "execution_count": 28,
     "metadata": {},
     "output_type": "execute_result"
    }
   ],
   "source": [
    "cal3.add(100)"
   ]
  },
  {
   "cell_type": "code",
   "execution_count": null,
   "id": "1e074cc5",
   "metadata": {},
   "outputs": [],
   "source": [
    "#포장한것을 인스턴스에 잘 담아서 \n",
    "#객체를 하나 만들어서 반복적으로 슬 수 있도록 만드는 것= 객체지향 프로그래밍 ->항상 나오는 것이 클래스\n",
    "#클래스는 독립적으로 동작을 한다\n",
    "#인스턴스는 객체, 오브젝트를 만든다.\n",
    "#모델은 같지만 다른사람들이 소유 (누구네 커피머신, )\n",
    "#클래스는 커핌머신 기계다\n",
    "#각자(소비자들=인스턴스 )이 각자만의 방법대로 사용"
   ]
  },
  {
   "cell_type": "markdown",
   "id": "6f54cdb1",
   "metadata": {},
   "source": [
    "* Calculator 클래스로 만들 별개의 계산기 cal1, cal2를 파이썬에서는 인스턴스(instance)혹은 객체(object)라고 부른다.\n",
    "* 각각의 인스턴스는 독립적으로 역할을 수행\n",
    "* 계산기 cal1과 cal2의 결과값은 서로 독립적으로 유지한다.\n",
    "* 클래스는 커피머신 공장에서 만든 커피머신이고, 인스턴스는 커피머신을 산 고객\n",
    "* 같은 기계를 가지고 있기 때문에 동일한 기능을 가짐\n",
    "* 사용자에 따라서 각기 다르게 사용 된다."
   ]
  },
  {
   "cell_type": "code",
   "execution_count": 34,
   "id": "b6591b9c",
   "metadata": {},
   "outputs": [],
   "source": [
    "class Calculator():\n",
    "    def __init__(self):  #self는 Calculator()\n",
    "        self.result=0\n",
    "    def add(self, num):   #self는 Calculator.add(num)\n",
    "        self.result += num\n",
    "        return  self.result\n",
    "    def sub(self, num):\n",
    "        self.result -= num\n",
    "        return self.result"
   ]
  },
  {
   "cell_type": "code",
   "execution_count": 35,
   "id": "e035522f",
   "metadata": {},
   "outputs": [],
   "source": [
    "james = Calculator()"
   ]
  },
  {
   "cell_type": "code",
   "execution_count": 36,
   "id": "f452ff28",
   "metadata": {},
   "outputs": [
    {
     "data": {
      "text/plain": [
       "5"
      ]
     },
     "execution_count": 36,
     "metadata": {},
     "output_type": "execute_result"
    }
   ],
   "source": [
    "james.add(5)"
   ]
  },
  {
   "cell_type": "code",
   "execution_count": 37,
   "id": "b8e48a50",
   "metadata": {},
   "outputs": [
    {
     "data": {
      "text/plain": [
       "-2"
      ]
     },
     "execution_count": 37,
     "metadata": {},
     "output_type": "execute_result"
    }
   ],
   "source": [
    "james.sub(7)"
   ]
  },
  {
   "cell_type": "code",
   "execution_count": 38,
   "id": "bc00be21",
   "metadata": {},
   "outputs": [],
   "source": [
    "susan = Calculator()"
   ]
  },
  {
   "cell_type": "code",
   "execution_count": 39,
   "id": "26fd2e32",
   "metadata": {},
   "outputs": [
    {
     "data": {
      "text/plain": [
       "87"
      ]
     },
     "execution_count": 39,
     "metadata": {},
     "output_type": "execute_result"
    }
   ],
   "source": [
    "susan.add(87)"
   ]
  },
  {
   "cell_type": "code",
   "execution_count": 40,
   "id": "e05ccf1e",
   "metadata": {},
   "outputs": [
    {
     "data": {
      "text/plain": [
       "13"
      ]
     },
     "execution_count": 40,
     "metadata": {},
     "output_type": "execute_result"
    }
   ],
   "source": [
    "susan.sub(74)"
   ]
  },
  {
   "cell_type": "code",
   "execution_count": null,
   "id": "714b3e88",
   "metadata": {},
   "outputs": [],
   "source": []
  },
  {
   "cell_type": "markdown",
   "id": "8793f28a",
   "metadata": {},
   "source": [
    "# 매서드(method)\n",
    "* class안에 정의하는 함수\n",
    "* 클래스에 기능을 만들어 준다.\n",
    "def 매소드명(self, 매개변수, num2) :<br>\n",
    "____self.매개변수 = 매개변수<br>\n",
    "____self.num2= num2"
   ]
  },
  {
   "cell_type": "markdown",
   "id": "e6698078",
   "metadata": {},
   "source": [
    "사칙연산이 가능한 FourCal 계산기 만들기"
   ]
  },
  {
   "cell_type": "code",
   "execution_count": 41,
   "id": "c3772426",
   "metadata": {},
   "outputs": [],
   "source": [
    "# FourCal 이라는 클래스를 만들고 숫자를 입력받는 setdata 매소드 만들기\n",
    "class FourCal():\n",
    "    def setdata(self, num1, num2): #self는 fourcal이라는 클래스를 가리킨다\n",
    "        self.num1= num1\n",
    "        self.num2= num2\n",
    "        print(\"self.num1:\", self.num1)\n",
    "        print(\"self.num2:\", self.num2)"
   ]
  },
  {
   "cell_type": "code",
   "execution_count": 42,
   "id": "84c98e9e",
   "metadata": {},
   "outputs": [],
   "source": [
    "sam= FourCal()"
   ]
  },
  {
   "cell_type": "code",
   "execution_count": 43,
   "id": "3474c58e",
   "metadata": {
    "scrolled": true
   },
   "outputs": [
    {
     "name": "stdout",
     "output_type": "stream",
     "text": [
      "self.num1: 4\n",
      "self.num2: 2\n"
     ]
    }
   ],
   "source": [
    "sam.setdata(4,2)"
   ]
  },
  {
   "cell_type": "code",
   "execution_count": 58,
   "id": "1f7c99ce",
   "metadata": {},
   "outputs": [],
   "source": [
    "# FourCal 이라는 클래스를 만들고 숫자를 입력받는 setdata 매소드 만들기\n",
    "#add 기능 추가하기\n",
    "class FourCal():\n",
    "    def setdata(self, num1, num2): #self는 fourcal이라는 클래스를 가리킨다 -무조건 써줘야함\n",
    "        self.num1= num1\n",
    "        self.num2= num2\n",
    "        print(\"self.num1:\", self.num1)\n",
    "        print(\"self.num2:\", self.num2)\n",
    "        \n",
    "    def add(self):\n",
    "        result = self.num1+self.num2  #위에서 받아서 리턴을 할 수 있다\n",
    "        return result\n",
    "    \n",
    "    def sub(self):\n",
    "        result = self.num1-self.num2  #위에서 받아서 리턴을 할 수 있다\n",
    "        return result\n",
    "    \n",
    "    def mul(self):\n",
    "        result = self.num1*self.num2  #위에서 받아서 리턴을 할 수 있다\n",
    "        return result\n",
    "    \n",
    "    def div(self):\n",
    "        result = self.num1/self.num2  #위에서 받아서 리턴을 할 수 있다\n",
    "        return result"
   ]
  },
  {
   "cell_type": "code",
   "execution_count": 59,
   "id": "fb929ded",
   "metadata": {},
   "outputs": [],
   "source": [
    "sam = FourCal()"
   ]
  },
  {
   "cell_type": "code",
   "execution_count": 60,
   "id": "b164502c",
   "metadata": {},
   "outputs": [
    {
     "name": "stdout",
     "output_type": "stream",
     "text": [
      "self.num1: 50\n",
      "self.num2: 5\n"
     ]
    }
   ],
   "source": [
    "sam.setdata(50,5)"
   ]
  },
  {
   "cell_type": "code",
   "execution_count": 61,
   "id": "fdf18ee6",
   "metadata": {},
   "outputs": [
    {
     "data": {
      "text/plain": [
       "55"
      ]
     },
     "execution_count": 61,
     "metadata": {},
     "output_type": "execute_result"
    }
   ],
   "source": [
    "sam.add()"
   ]
  },
  {
   "cell_type": "code",
   "execution_count": 62,
   "id": "31d1087f",
   "metadata": {},
   "outputs": [],
   "source": [
    "#셋데이타로 숫자를 주고 "
   ]
  },
  {
   "cell_type": "code",
   "execution_count": 63,
   "id": "708f7fad",
   "metadata": {},
   "outputs": [
    {
     "data": {
      "text/plain": [
       "45"
      ]
     },
     "execution_count": 63,
     "metadata": {},
     "output_type": "execute_result"
    }
   ],
   "source": [
    "sam.sub()"
   ]
  },
  {
   "cell_type": "code",
   "execution_count": null,
   "id": "367124b1",
   "metadata": {},
   "outputs": [],
   "source": [
    "#위위 계산기는 이전 값을 기억하는 계산기\n",
    "#셋데이터 메소드- 숫자 입력 받은 다음에 두 숫자에대한 간단한 계산을 수행하는 계산기"
   ]
  },
  {
   "cell_type": "code",
   "execution_count": 64,
   "id": "82bd5159",
   "metadata": {},
   "outputs": [
    {
     "data": {
      "text/plain": [
       "250"
      ]
     },
     "execution_count": 64,
     "metadata": {},
     "output_type": "execute_result"
    }
   ],
   "source": [
    "sam.mul()"
   ]
  },
  {
   "cell_type": "code",
   "execution_count": 65,
   "id": "d64080f9",
   "metadata": {},
   "outputs": [
    {
     "data": {
      "text/plain": [
       "10.0"
      ]
     },
     "execution_count": 65,
     "metadata": {},
     "output_type": "execute_result"
    }
   ],
   "source": [
    "sam.div()"
   ]
  },
  {
   "cell_type": "code",
   "execution_count": 66,
   "id": "6359eca6",
   "metadata": {},
   "outputs": [],
   "source": [
    "#셋데이타로 초기값을 넣어주지 않으면 입력 값이 없다, 작동이 안된다\n",
    "#반드시 셋데이타를 해줘야한다"
   ]
  },
  {
   "cell_type": "code",
   "execution_count": null,
   "id": "cede4a9d",
   "metadata": {},
   "outputs": [],
   "source": [
    "#좀 불편? 받자마자 값을 입력해서 쓸 수 있으면 좋겠는데.\n",
    "#받자마자 계산할 수 있도록 업그레이드 하고싶다\n",
    "#메소드로 값을 입력했는데 인스턴스로 값을 넣어주는 것 = 생성자!"
   ]
  },
  {
   "cell_type": "markdown",
   "id": "2329e8ad",
   "metadata": {},
   "source": [
    "## 생성자\n",
    "* 객체에 num1, num2와 같은 초기값을 설정해야 할 필요가 있을 때 setmethod와 같은 것을 호출해서 초기값을 설정하는 것보다 생성자를 만들어서 인스턴스를 생성할 때 값을 바로 받는 것이 더 좋다.\n",
    "* 생성자(constructor)란 객체(인스턴스)가 생성될 때 자동으로 호출되는 매서드\n",
    "* class내에서 매서드명으로 __init__를 사용하면 그것이 생성자가 된다."
   ]
  },
  {
   "cell_type": "code",
   "execution_count": 68,
   "id": "5280f5a8",
   "metadata": {},
   "outputs": [],
   "source": [
    "class FourCal2():\n",
    "    def __init__(self, num1, num2): # 생성자 # *args등도 넣을 수 있음-함수만들기와 같음 \n",
    "        self.num1 = num1  #self.num1 인스턴스 변수\n",
    "        \n",
    "        self.num2=num2   #self.num2 인스턴스 변수\n",
    "        \n",
    "      \n",
    "    def add(self):\n",
    "        result = self.num1+self.num2  \n",
    "        return result\n",
    "    \n",
    "    def sub(self):\n",
    "        result = self.num1-self.num2  \n",
    "        return result\n",
    "    \n",
    "    def mul(self):\n",
    "        result = self.num1*self.num2  \n",
    "        return result\n",
    "    \n",
    "    def div(self):\n",
    "        result = self.num1/self.num2  \n",
    "        return result"
   ]
  },
  {
   "cell_type": "code",
   "execution_count": 71,
   "id": "fdf301ae",
   "metadata": {},
   "outputs": [],
   "source": [
    "james = FourCal2(5,6)   #인스턴스를 생성할 때 변수를 넣어주어야한다(생성자) # 인잇에 넣어준 변수 개수에 맞춰서\n",
    "#초기값을 주고 시작하는 것"
   ]
  },
  {
   "cell_type": "code",
   "execution_count": null,
   "id": "b7c41c6b",
   "metadata": {},
   "outputs": [],
   "source": [
    "#인스턴스 생성 완료\n"
   ]
  },
  {
   "cell_type": "code",
   "execution_count": 72,
   "id": "3937d525",
   "metadata": {},
   "outputs": [
    {
     "data": {
      "text/plain": [
       "11"
      ]
     },
     "execution_count": 72,
     "metadata": {},
     "output_type": "execute_result"
    }
   ],
   "source": [
    "james.add()"
   ]
  },
  {
   "cell_type": "code",
   "execution_count": 73,
   "id": "794a4b1f",
   "metadata": {},
   "outputs": [
    {
     "data": {
      "text/plain": [
       "30"
      ]
     },
     "execution_count": 73,
     "metadata": {},
     "output_type": "execute_result"
    }
   ],
   "source": [
    "james.mul()"
   ]
  },
  {
   "cell_type": "code",
   "execution_count": 75,
   "id": "167e423e",
   "metadata": {},
   "outputs": [],
   "source": [
    "#인스턴스는 만들때 초기값을 설정해주어야함!\n",
    "#setdata따로 불러오지 않아도 인스턴스 생성할 때 지정해줘서 편하다!\n",
    "#생성자가 있는 클래스가 기본이다"
   ]
  },
  {
   "cell_type": "code",
   "execution_count": 77,
   "id": "df015d80",
   "metadata": {},
   "outputs": [],
   "source": [
    "#인잇에 기본값을 설정해두면 값을 넣지 않아도 알아서 셋팅이된다\n",
    "#우리가 만든것은 값을 알아서 넣도록 한것\n",
    "#보통 기본 값을 인잇에 세팅해둔다\n",
    "#위지인수 세팅해두면 값입력을 생략해도 된다"
   ]
  },
  {
   "cell_type": "markdown",
   "id": "12c45427",
   "metadata": {},
   "source": [
    "## 클래스의 상속\n",
    "* 클래스는 기능을 상속받을 수 있다. \n",
    "* 어떤 클래스를 만들 때 다른 클래스의 기능을 물려받는 것\n",
    "* 기존클래스 + 기능을 추가할 때\n",
    "* A클래스를 상속 받아 B클래스를 생성한다고 할때, B클래스는 A클래스의 모든 기능을 사용할 수 가 있다."
   ]
  },
  {
   "cell_type": "markdown",
   "id": "2360b3f1",
   "metadata": {},
   "source": [
    "FourCal을 상소갇아 제곱 기능을 추가한 MoreFourCal 만들기"
   ]
  },
  {
   "cell_type": "code",
   "execution_count": 78,
   "id": "af789283",
   "metadata": {},
   "outputs": [],
   "source": [
    "class MoreFourCal():\n",
    "    def pow(self):\n",
    "        result = self.num1 ** self.num2\n",
    "        return result"
   ]
  },
  {
   "cell_type": "code",
   "execution_count": 79,
   "id": "72beb7bc",
   "metadata": {},
   "outputs": [],
   "source": [
    "sally =  MoreFourCal()"
   ]
  },
  {
   "cell_type": "code",
   "execution_count": 80,
   "id": "8098a591",
   "metadata": {},
   "outputs": [
    {
     "ename": "AttributeError",
     "evalue": "'MoreFourCal' object has no attribute 'num1'",
     "output_type": "error",
     "traceback": [
      "\u001b[1;31m---------------------------------------------------------------------------\u001b[0m",
      "\u001b[1;31mAttributeError\u001b[0m                            Traceback (most recent call last)",
      "Cell \u001b[1;32mIn[80], line 1\u001b[0m\n\u001b[1;32m----> 1\u001b[0m \u001b[43msally\u001b[49m\u001b[38;5;241;43m.\u001b[39;49m\u001b[43mpow\u001b[49m\u001b[43m(\u001b[49m\u001b[43m)\u001b[49m\n",
      "Cell \u001b[1;32mIn[78], line 3\u001b[0m, in \u001b[0;36mMoreFourCal.pow\u001b[1;34m(self)\u001b[0m\n\u001b[0;32m      2\u001b[0m \u001b[38;5;28;01mdef\u001b[39;00m \u001b[38;5;21mpow\u001b[39m(\u001b[38;5;28mself\u001b[39m):\n\u001b[1;32m----> 3\u001b[0m     result \u001b[38;5;241m=\u001b[39m \u001b[38;5;28;43mself\u001b[39;49m\u001b[38;5;241;43m.\u001b[39;49m\u001b[43mnum1\u001b[49m \u001b[38;5;241m*\u001b[39m\u001b[38;5;241m*\u001b[39m \u001b[38;5;28mself\u001b[39m\u001b[38;5;241m.\u001b[39mnum2\n\u001b[0;32m      4\u001b[0m     \u001b[38;5;28;01mreturn\u001b[39;00m result\n",
      "\u001b[1;31mAttributeError\u001b[0m: 'MoreFourCal' object has no attribute 'num1'"
     ]
    }
   ],
   "source": [
    "sally.pow()  #생성자 없고, setdata없음 - 에러 발생"
   ]
  },
  {
   "cell_type": "code",
   "execution_count": 83,
   "id": "c523d2c0",
   "metadata": {},
   "outputs": [],
   "source": [
    "class MoreFourCal(FourCal2):  #상속\n",
    "    def pow(self):\n",
    "        result = self.num1 ** self.num2\n",
    "        return result"
   ]
  },
  {
   "cell_type": "code",
   "execution_count": 84,
   "id": "790e0db7",
   "metadata": {},
   "outputs": [
    {
     "ename": "TypeError",
     "evalue": "FourCal2.__init__() missing 2 required positional arguments: 'num1' and 'num2'",
     "output_type": "error",
     "traceback": [
      "\u001b[1;31m---------------------------------------------------------------------------\u001b[0m",
      "\u001b[1;31mTypeError\u001b[0m                                 Traceback (most recent call last)",
      "Cell \u001b[1;32mIn[84], line 1\u001b[0m\n\u001b[1;32m----> 1\u001b[0m sally \u001b[38;5;241m=\u001b[39m  \u001b[43mMoreFourCal\u001b[49m\u001b[43m(\u001b[49m\u001b[43m)\u001b[49m\n",
      "\u001b[1;31mTypeError\u001b[0m: FourCal2.__init__() missing 2 required positional arguments: 'num1' and 'num2'"
     ]
    }
   ],
   "source": [
    "sally =  MoreFourCal()  #FourCal2는 생성자 지정이 필요했다. 상속을 받으면 내부적으로 그안의 모든 함수들이 들어와 있는 것"
   ]
  },
  {
   "cell_type": "code",
   "execution_count": 85,
   "id": "d1b75021",
   "metadata": {},
   "outputs": [],
   "source": [
    "sally =  MoreFourCal(100, 4)"
   ]
  },
  {
   "cell_type": "code",
   "execution_count": 86,
   "id": "62e73a2a",
   "metadata": {},
   "outputs": [
    {
     "data": {
      "text/plain": [
       "100000000"
      ]
     },
     "execution_count": 86,
     "metadata": {},
     "output_type": "execute_result"
    }
   ],
   "source": [
    "sally.pow()"
   ]
  },
  {
   "cell_type": "code",
   "execution_count": 87,
   "id": "ec7ed70c",
   "metadata": {},
   "outputs": [
    {
     "data": {
      "text/plain": [
       "104"
      ]
     },
     "execution_count": 87,
     "metadata": {},
     "output_type": "execute_result"
    }
   ],
   "source": [
    "sally.add()"
   ]
  },
  {
   "cell_type": "code",
   "execution_count": 88,
   "id": "bc4bd668",
   "metadata": {},
   "outputs": [
    {
     "data": {
      "text/plain": [
       "96"
      ]
     },
     "execution_count": 88,
     "metadata": {},
     "output_type": "execute_result"
    }
   ],
   "source": [
    "sally.sub()"
   ]
  },
  {
   "cell_type": "code",
   "execution_count": 89,
   "id": "4b4fe72e",
   "metadata": {},
   "outputs": [
    {
     "data": {
      "text/plain": [
       "25.0"
      ]
     },
     "execution_count": 89,
     "metadata": {},
     "output_type": "execute_result"
    }
   ],
   "source": [
    "sally.div()"
   ]
  },
  {
   "cell_type": "markdown",
   "id": "a59ed6a1",
   "metadata": {},
   "source": [
    "클래스를 상속받으면 부모클래스의 모든 기능을 사용할 수 있다 +내가만든 기능까지"
   ]
  },
  {
   "cell_type": "code",
   "execution_count": 90,
   "id": "f21bce70",
   "metadata": {},
   "outputs": [],
   "source": [
    "sally2 = FourCal2(100, 4)"
   ]
  },
  {
   "cell_type": "code",
   "execution_count": 92,
   "id": "a77d68f1",
   "metadata": {},
   "outputs": [
    {
     "ename": "AttributeError",
     "evalue": "'FourCal2' object has no attribute 'pow'",
     "output_type": "error",
     "traceback": [
      "\u001b[1;31m---------------------------------------------------------------------------\u001b[0m",
      "\u001b[1;31mAttributeError\u001b[0m                            Traceback (most recent call last)",
      "Cell \u001b[1;32mIn[92], line 1\u001b[0m\n\u001b[1;32m----> 1\u001b[0m \u001b[43msally2\u001b[49m\u001b[38;5;241;43m.\u001b[39;49m\u001b[43mpow\u001b[49m()\n",
      "\u001b[1;31mAttributeError\u001b[0m: 'FourCal2' object has no attribute 'pow'"
     ]
    }
   ],
   "source": [
    "sally2.pow()  "
   ]
  },
  {
   "cell_type": "code",
   "execution_count": 93,
   "id": "4799fd62",
   "metadata": {},
   "outputs": [],
   "source": [
    "#클래스, 함수 만드는 목적= 재사용 -> 계속 만들지 않고 반복적으로 가져다 쓰겠다"
   ]
  },
  {
   "cell_type": "code",
   "execution_count": 95,
   "id": "8d526a83",
   "metadata": {},
   "outputs": [],
   "source": [
    "#상속 받아와서 추가하고 추가하면서 쓴다\n",
    "#객체지향 프로그래밍의 특징!  상속받아서 기능들 그냥 쓸 수 있다"
   ]
  },
  {
   "cell_type": "code",
   "execution_count": 96,
   "id": "a7ac8ff6",
   "metadata": {},
   "outputs": [],
   "source": [
    "# 상속은 대부분 기능을 추가할때 사용한다"
   ]
  },
  {
   "cell_type": "markdown",
   "id": "bf93baf7",
   "metadata": {},
   "source": [
    "## 매서드 오버라이딩\n",
    "* 오버라이드? 무시하다\n",
    "* 부모클래스에서 상속한 매서드를 자식 클래스에서 동일한 이름으로 다시 재정의 하는 것을 말한다\n",
    "* method overriding\n"
   ]
  },
  {
   "cell_type": "code",
   "execution_count": 97,
   "id": "198df074",
   "metadata": {},
   "outputs": [],
   "source": [
    "john = FourCal2(4,0)"
   ]
  },
  {
   "cell_type": "code",
   "execution_count": 98,
   "id": "9225ab14",
   "metadata": {},
   "outputs": [
    {
     "data": {
      "text/plain": [
       "4"
      ]
     },
     "execution_count": 98,
     "metadata": {},
     "output_type": "execute_result"
    }
   ],
   "source": [
    "john.add()"
   ]
  },
  {
   "cell_type": "code",
   "execution_count": 99,
   "id": "3dc75c74",
   "metadata": {},
   "outputs": [
    {
     "data": {
      "text/plain": [
       "0"
      ]
     },
     "execution_count": 99,
     "metadata": {},
     "output_type": "execute_result"
    }
   ],
   "source": [
    "john.mul()"
   ]
  },
  {
   "cell_type": "code",
   "execution_count": 101,
   "id": "6186e88e",
   "metadata": {
    "scrolled": true
   },
   "outputs": [
    {
     "ename": "ZeroDivisionError",
     "evalue": "division by zero",
     "output_type": "error",
     "traceback": [
      "\u001b[1;31m---------------------------------------------------------------------------\u001b[0m",
      "\u001b[1;31mZeroDivisionError\u001b[0m                         Traceback (most recent call last)",
      "Cell \u001b[1;32mIn[101], line 1\u001b[0m\n\u001b[1;32m----> 1\u001b[0m \u001b[43mjohn\u001b[49m\u001b[38;5;241;43m.\u001b[39;49m\u001b[43mdiv\u001b[49m\u001b[43m(\u001b[49m\u001b[43m)\u001b[49m  \u001b[38;5;66;03m#0으로 나누려고하니 에러가 난다.\u001b[39;00m\n",
      "Cell \u001b[1;32mIn[68], line 21\u001b[0m, in \u001b[0;36mFourCal2.div\u001b[1;34m(self)\u001b[0m\n\u001b[0;32m     20\u001b[0m \u001b[38;5;28;01mdef\u001b[39;00m \u001b[38;5;21mdiv\u001b[39m(\u001b[38;5;28mself\u001b[39m):\n\u001b[1;32m---> 21\u001b[0m     result \u001b[38;5;241m=\u001b[39m \u001b[38;5;28;43mself\u001b[39;49m\u001b[38;5;241;43m.\u001b[39;49m\u001b[43mnum1\u001b[49m\u001b[38;5;241;43m/\u001b[39;49m\u001b[38;5;28;43mself\u001b[39;49m\u001b[38;5;241;43m.\u001b[39;49m\u001b[43mnum2\u001b[49m  \n\u001b[0;32m     22\u001b[0m     \u001b[38;5;28;01mreturn\u001b[39;00m result\n",
      "\u001b[1;31mZeroDivisionError\u001b[0m: division by zero"
     ]
    }
   ],
   "source": [
    "john.div()  #0으로 나누려고하니 에러가 난다."
   ]
  },
  {
   "cell_type": "markdown",
   "id": "4a4efdba",
   "metadata": {},
   "source": [
    "FourCal2는 num2에 0이 입력될 경우 나눗셈시 0을 나누게 되기 때문에 에러 발생<br>\n",
    "SafeFourCal을 만들고, FourCal2를 상속받은 후 div함수를 재정의하여 에러를 없앰"
   ]
  },
  {
   "cell_type": "code",
   "execution_count": 103,
   "id": "47b5c406",
   "metadata": {},
   "outputs": [],
   "source": [
    "class SafeFourCal(FourCal2):\n",
    "    #재정의\n",
    "    def div(self):\n",
    "        if self.num2 ==0:\n",
    "            return 0\n",
    "        else :\n",
    "            return self.num1 / self.num2\n"
   ]
  },
  {
   "cell_type": "code",
   "execution_count": 105,
   "id": "c47e5dd2",
   "metadata": {},
   "outputs": [],
   "source": [
    "john = SafeFourCal(4,0)"
   ]
  },
  {
   "cell_type": "code",
   "execution_count": 106,
   "id": "9d972f79",
   "metadata": {},
   "outputs": [
    {
     "data": {
      "text/plain": [
       "0"
      ]
     },
     "execution_count": 106,
     "metadata": {},
     "output_type": "execute_result"
    }
   ],
   "source": [
    "john.div()"
   ]
  },
  {
   "cell_type": "code",
   "execution_count": null,
   "id": "f18c03ca",
   "metadata": {},
   "outputs": [],
   "source": []
  },
  {
   "cell_type": "code",
   "execution_count": null,
   "id": "0e2d4572",
   "metadata": {},
   "outputs": [],
   "source": []
  },
  {
   "cell_type": "code",
   "execution_count": null,
   "id": "8c6bad6f",
   "metadata": {},
   "outputs": [],
   "source": []
  },
  {
   "cell_type": "code",
   "execution_count": null,
   "id": "27ce6a43",
   "metadata": {},
   "outputs": [],
   "source": []
  },
  {
   "cell_type": "code",
   "execution_count": null,
   "id": "2563ebc8",
   "metadata": {},
   "outputs": [],
   "source": []
  },
  {
   "cell_type": "code",
   "execution_count": null,
   "id": "aacce230",
   "metadata": {},
   "outputs": [],
   "source": []
  },
  {
   "cell_type": "code",
   "execution_count": null,
   "id": "344374bc",
   "metadata": {},
   "outputs": [],
   "source": []
  }
 ],
 "metadata": {
  "kernelspec": {
   "display_name": "Python 3 (ipykernel)",
   "language": "python",
   "name": "python3"
  },
  "language_info": {
   "codemirror_mode": {
    "name": "ipython",
    "version": 3
   },
   "file_extension": ".py",
   "mimetype": "text/x-python",
   "name": "python",
   "nbconvert_exporter": "python",
   "pygments_lexer": "ipython3",
   "version": "3.10.14"
  }
 },
 "nbformat": 4,
 "nbformat_minor": 5
}
