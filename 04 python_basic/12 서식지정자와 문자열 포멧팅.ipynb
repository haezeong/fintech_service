{
 "cells": [
  {
   "cell_type": "markdown",
   "id": "71b407cc",
   "metadata": {},
   "source": [
    "# 서식 지정자. format 메서드\n",
    "* 서식 지정자나 format method를 사용하는 이유는 문자열로만 입력해야 하는 상황에서 같은 위치의 문자를 여러번 바꿔야할 때가 있기 때문\n",
    "* 문자의 자릿수 맞춤, 위치 정렬 등에도 사용"
   ]
  },
  {
   "cell_type": "markdown",
   "id": "98395d6b",
   "metadata": {},
   "source": [
    "# 1. 서식 지정자 %d, %s, %f, %길이 s"
   ]
  },
  {
   "cell_type": "markdown",
   "id": "43a9eea5",
   "metadata": {},
   "source": [
    "1. 문자를 입력할 때 %s"
   ]
  },
  {
   "cell_type": "code",
   "execution_count": 2,
   "id": "0d7efeef",
   "metadata": {},
   "outputs": [
    {
     "name": "stdout",
     "output_type": "stream",
     "text": [
      "이 수업의 이름은 핀테크 서비스 기획자 입니다.\n"
     ]
    }
   ],
   "source": [
    "print('이 수업의 이름은 %s 입니다.' % '핀테크 서비스 기획자')"
   ]
  },
  {
   "cell_type": "code",
   "execution_count": 3,
   "id": "58590ab1",
   "metadata": {},
   "outputs": [],
   "source": [
    "subject=['국어','영어','수학', '과학','파이썬','database']"
   ]
  },
  {
   "cell_type": "code",
   "execution_count": 4,
   "id": "39aa793a",
   "metadata": {},
   "outputs": [
    {
     "name": "stdout",
     "output_type": "stream",
     "text": [
      "이 수업의 이름은 국어 입니다.\n",
      "이 수업의 이름은 영어 입니다.\n",
      "이 수업의 이름은 수학 입니다.\n",
      "이 수업의 이름은 과학 입니다.\n",
      "이 수업의 이름은 파이썬 입니다.\n",
      "이 수업의 이름은 database 입니다.\n"
     ]
    }
   ],
   "source": [
    "for sub_name in subject: \n",
    "    print('이 수업의 이름은 %s 입니다.'% sub_name )"
   ]
  },
  {
   "cell_type": "markdown",
   "id": "4e5a00da",
   "metadata": {},
   "source": [
    "2. 정수를 입력할 때 %d"
   ]
  },
  {
   "cell_type": "code",
   "execution_count": 5,
   "id": "9dd6a7ff",
   "metadata": {},
   "outputs": [
    {
     "name": "stdout",
     "output_type": "stream",
     "text": [
      "올해는 2024년 입니다.\n"
     ]
    }
   ],
   "source": [
    "print('올해는 %d년 입니다.'%2024)"
   ]
  },
  {
   "cell_type": "code",
   "execution_count": 7,
   "id": "fd17dbf0",
   "metadata": {},
   "outputs": [
    {
     "name": "stdout",
     "output_type": "stream",
     "text": [
      "올해는 2019년 입니다.\n",
      "올해는 2020년 입니다.\n",
      "올해는 2021년 입니다.\n",
      "올해는 2022년 입니다.\n",
      "올해는 2023년 입니다.\n",
      "올해는 2024년 입니다.\n"
     ]
    }
   ],
   "source": [
    "year = [2019,2020,2021,2022,2023,2024]\n",
    "for yyyy in year:\n",
    "    print('올해는 %d년 입니다.' % yyyy)"
   ]
  },
  {
   "cell_type": "markdown",
   "id": "40aa9b5a",
   "metadata": {},
   "source": [
    "3.  실수를 입력할 때 %f"
   ]
  },
  {
   "cell_type": "code",
   "execution_count": 8,
   "id": "d421ba9d",
   "metadata": {},
   "outputs": [
    {
     "name": "stdout",
     "output_type": "stream",
     "text": [
      "사람의 정상 체온은 약 36.500000 도 입니다\n"
     ]
    }
   ],
   "source": [
    "print('사람의 정상 체온은 약 %f 도 입니다' % 36.5)"
   ]
  },
  {
   "cell_type": "markdown",
   "id": "46b12eda",
   "metadata": {},
   "source": [
    "소수점 자리수 조정하기 %.자리수f"
   ]
  },
  {
   "cell_type": "code",
   "execution_count": 9,
   "id": "ad554902",
   "metadata": {},
   "outputs": [
    {
     "name": "stdout",
     "output_type": "stream",
     "text": [
      "사람의 정상 체온은 약 36.5 도 입니다\n"
     ]
    }
   ],
   "source": [
    "print('사람의 정상 체온은 약 %.1f 도 입니다' % 36.5)"
   ]
  },
  {
   "cell_type": "code",
   "execution_count": 10,
   "id": "62a12517",
   "metadata": {},
   "outputs": [
    {
     "name": "stdout",
     "output_type": "stream",
     "text": [
      "사람의 정상 체온은 약 36.50 도 입니다\n"
     ]
    }
   ],
   "source": [
    "print('사람의 정상 체온은 약 %.2f 도 입니다' % 36.5)"
   ]
  },
  {
   "cell_type": "markdown",
   "id": "8f83288c",
   "metadata": {},
   "source": [
    "4. 서식지정자로 문자열 길이 정렬 %길이s"
   ]
  },
  {
   "cell_type": "code",
   "execution_count": 11,
   "id": "56d8a323",
   "metadata": {},
   "outputs": [
    {
     "name": "stdout",
     "output_type": "stream",
     "text": [
      "      10자리\n"
     ]
    }
   ],
   "source": [
    "print('%10s' % '10자리')"
   ]
  },
  {
   "cell_type": "markdown",
   "id": "fa8da302",
   "metadata": {},
   "source": [
    "숫자 자리수 정렬하기 %자리수d"
   ]
  },
  {
   "cell_type": "code",
   "execution_count": 13,
   "id": "fa801caf",
   "metadata": {},
   "outputs": [
    {
     "name": "stdout",
     "output_type": "stream",
     "text": [
      "  15000000\n",
      "     15000\n"
     ]
    }
   ],
   "source": [
    "print('%10d' % 15000000)\n",
    "print('%10d' % 15000)"
   ]
  },
  {
   "cell_type": "code",
   "execution_count": 15,
   "id": "1d21795b",
   "metadata": {},
   "outputs": [
    {
     "name": "stdout",
     "output_type": "stream",
     "text": [
      "가격은   15000000 입니다\n",
      "가격은      15000 입니다\n"
     ]
    }
   ],
   "source": [
    "print('가격은 %10d 입니다' % 15000000)\n",
    "print('가격은 %10d 입니다' % 15000)"
   ]
  },
  {
   "cell_type": "code",
   "execution_count": 14,
   "id": "0df0d4f1",
   "metadata": {},
   "outputs": [
    {
     "name": "stdout",
     "output_type": "stream",
     "text": [
      "15000000\n",
      "15000\n"
     ]
    }
   ],
   "source": [
    "print(15000000)\n",
    "print(15000)"
   ]
  },
  {
   "cell_type": "markdown",
   "id": "1dc28e97",
   "metadata": {},
   "source": [
    "5. 여러 항목을 동시에 넣기"
   ]
  },
  {
   "cell_type": "code",
   "execution_count": 17,
   "id": "46fdc146",
   "metadata": {},
   "outputs": [
    {
     "name": "stdout",
     "output_type": "stream",
     "text": [
      "오늘은 2024년  7월 16일 입니다.\n"
     ]
    }
   ],
   "source": [
    "print('오늘은 %4d년 %2d월 %2d일 입니다.' % (2024, 7, 16))"
   ]
  },
  {
   "cell_type": "code",
   "execution_count": 19,
   "id": "b7fab615",
   "metadata": {},
   "outputs": [],
   "source": [
    "company = ['삼성전자','LG전자','현대차', '대한항공', '하나투어']\n",
    "stock = [71800, 121000, 195000, 31900, 86600]"
   ]
  },
  {
   "cell_type": "code",
   "execution_count": 23,
   "id": "bb28d512",
   "metadata": {},
   "outputs": [
    {
     "name": "stdout",
     "output_type": "stream",
     "text": [
      "삼성전자 71800\n",
      "LG전자 121000\n",
      "현대차 195000\n",
      "대한항공 31900\n",
      "하나투어 86600\n"
     ]
    }
   ],
   "source": [
    "for a,b in zip(company, stock):\n",
    "    print(a, b)"
   ]
  },
  {
   "cell_type": "code",
   "execution_count": 26,
   "id": "6de7642d",
   "metadata": {},
   "outputs": [
    {
     "name": "stdout",
     "output_type": "stream",
     "text": [
      "('삼성전자', 71800)\n",
      "('LG전자', 121000)\n",
      "('현대차', 195000)\n",
      "('대한항공', 31900)\n",
      "('하나투어', 86600)\n"
     ]
    }
   ],
   "source": [
    "for c in zip(company, stock):\n",
    "    print(c)"
   ]
  },
  {
   "cell_type": "code",
   "execution_count": 25,
   "id": "8fe10905",
   "metadata": {},
   "outputs": [
    {
     "name": "stdout",
     "output_type": "stream",
     "text": [
      "(0, ('삼성전자', 71800))\n",
      "2\n",
      "(1, ('LG전자', 121000))\n",
      "2\n",
      "(2, ('현대차', 195000))\n",
      "2\n",
      "(3, ('대한항공', 31900))\n",
      "2\n",
      "(4, ('하나투어', 86600))\n",
      "2\n"
     ]
    }
   ],
   "source": [
    "for c in enumerate(zip(company, stock)):\n",
    "    print(c)\n",
    "    print(len(c))"
   ]
  },
  {
   "cell_type": "code",
   "execution_count": 24,
   "id": "412ce1b9",
   "metadata": {},
   "outputs": [
    {
     "name": "stdout",
     "output_type": "stream",
     "text": [
      "삼성전자 71800\n",
      "LG전자 121000\n",
      "현대차 195000\n",
      "대한항공 31900\n",
      "하나투어 86600\n"
     ]
    }
   ],
   "source": [
    "for c in zip(company, stocck):\n",
    "    print(c[0], c[1])"
   ]
  },
  {
   "cell_type": "code",
   "execution_count": 22,
   "id": "b93ac56c",
   "metadata": {},
   "outputs": [
    {
     "name": "stdout",
     "output_type": "stream",
     "text": [
      "삼성전자의 주가는 71800원 입니다\n",
      "LG전자의 주가는 121000원 입니다\n",
      "현대차의 주가는 195000원 입니다\n",
      "대한항공의 주가는 31900원 입니다\n",
      "하나투어의 주가는 86600원 입니다\n"
     ]
    }
   ],
   "source": [
    "for a,b in zip(company, stock):  #두개를 같이 묶을 때는 zip을 쓴다\n",
    "    print(\"%s의 주가는 %d원 입니다\" % (a, b))"
   ]
  },
  {
   "cell_type": "markdown",
   "id": "8c3c7f19",
   "metadata": {},
   "source": [
    "## 2. format 메서드 사용힉;, f-string 문자열 포메팅"
   ]
  },
  {
   "cell_type": "markdown",
   "id": "8c8f93af",
   "metadata": {},
   "source": [
    "1. format 메서드 사용하기 <br>\n",
    "'{인덱스}'.format(값)"
   ]
  },
  {
   "cell_type": "code",
   "execution_count": 27,
   "id": "66317b6b",
   "metadata": {},
   "outputs": [
    {
     "name": "stdout",
     "output_type": "stream",
     "text": [
      "삼성전자의 주가는 71800원 입니다.\n"
     ]
    }
   ],
   "source": [
    "print('{0}의 주가는 {1}원 입니다.'.format('삼성전자', 71800))"
   ]
  },
  {
   "cell_type": "code",
   "execution_count": 28,
   "id": "ba6f0c9c",
   "metadata": {},
   "outputs": [
    {
     "name": "stdout",
     "output_type": "stream",
     "text": [
      "삼성전자의 주가는 71.8원 입니다.\n"
     ]
    }
   ],
   "source": [
    "print('{0}의 주가는 {1}원 입니다.'.format('삼성전자', 71.80))"
   ]
  },
  {
   "cell_type": "code",
   "execution_count": null,
   "id": "95079569",
   "metadata": {},
   "outputs": [],
   "source": [
    "#인덱스로 하다보니, 바꿀 수 있다\n",
    "#형식지정을 안해도 된다"
   ]
  },
  {
   "cell_type": "code",
   "execution_count": 29,
   "id": "9986474a",
   "metadata": {},
   "outputs": [
    {
     "name": "stdout",
     "output_type": "stream",
     "text": [
      "삼성전자의 주가는 71500원 입니다. 삼성전자의 상한가는 93000, 삼성전자의 하한가는 50200입니다\n"
     ]
    }
   ],
   "source": [
    "print('{0}의 주가는 {1}원 입니다. {0}의 상한가는 {3}, {0}의 하한가는 {2}입니다'.format('삼성전자', 71500,50200,93000))\n",
    "\n",
    "#여러번 삼성전자 쓸필요없다, 여러번 반복 작성 필요없다, 인덱스에 맞춰 계속 들어감"
   ]
  },
  {
   "cell_type": "markdown",
   "id": "42be28f3",
   "metadata": {},
   "source": [
    "format 메서드에 변수로 값 넣기"
   ]
  },
  {
   "cell_type": "code",
   "execution_count": 31,
   "id": "8b96cd39",
   "metadata": {},
   "outputs": [],
   "source": [
    "drama = '오징어게임'\n",
    "ranking = 1"
   ]
  },
  {
   "cell_type": "code",
   "execution_count": 32,
   "id": "da128138",
   "metadata": {},
   "outputs": [
    {
     "name": "stdout",
     "output_type": "stream",
     "text": [
      "넷플릭스 1위 드라마는 오징어게임입니다.\n"
     ]
    }
   ],
   "source": [
    "print('넷플릭스 {0}위 드라마는 {1}입니다.'.format(ranking, drama))"
   ]
  },
  {
   "cell_type": "code",
   "execution_count": 34,
   "id": "a45b6bdb",
   "metadata": {},
   "outputs": [],
   "source": [
    "company = ['삼성전자','LG전자','현대차', '대한항공', '하나투어']\n",
    "stock = [71800, 121000, 195000, 31900, 86600]"
   ]
  },
  {
   "cell_type": "code",
   "execution_count": 36,
   "id": "5303e040",
   "metadata": {},
   "outputs": [
    {
     "name": "stdout",
     "output_type": "stream",
     "text": [
      "삼성전자의 주가는 71800원 입니다\n",
      "LG전자의 주가는 121000원 입니다\n",
      "현대차의 주가는 195000원 입니다\n",
      "대한항공의 주가는 31900원 입니다\n",
      "하나투어의 주가는 86600원 입니다\n"
     ]
    }
   ],
   "source": [
    "for a,b in zip(company, stock):\n",
    "    print(\"{0}의 주가는 {1}원 입니다\".format(a,b))"
   ]
  },
  {
   "cell_type": "code",
   "execution_count": 37,
   "id": "321c4775",
   "metadata": {},
   "outputs": [
    {
     "name": "stdout",
     "output_type": "stream",
     "text": [
      "삼성전자의 주가는 71800원 입니다\n",
      "LG전자의 주가는 121000원 입니다\n",
      "현대차의 주가는 195000원 입니다\n",
      "대한항공의 주가는 31900원 입니다\n",
      "하나투어의 주가는 86600원 입니다\n"
     ]
    }
   ],
   "source": [
    "for a,b in zip(company, stock):\n",
    "    print(\"{}의 주가는 {}원 입니다\".format(a,b))"
   ]
  },
  {
   "cell_type": "markdown",
   "id": "314df006",
   "metadata": {},
   "source": [
    "### f-string으로 값 넣기 -파이썬 3.6부터 사용 가능"
   ]
  },
  {
   "cell_type": "code",
   "execution_count": 38,
   "id": "3527a55e",
   "metadata": {},
   "outputs": [
    {
     "name": "stdout",
     "output_type": "stream",
     "text": [
      "삼성전자의 주가는 71800원 입니다.\n",
      "LG전자의 주가는 121000원 입니다.\n",
      "현대차의 주가는 195000원 입니다.\n",
      "대한항공의 주가는 31900원 입니다.\n",
      "하나투어의 주가는 86600원 입니다.\n"
     ]
    }
   ],
   "source": [
    "for a,b in zip(company, stock):\n",
    "    print(f'{a}의 주가는 {b}원 입니다.')"
   ]
  },
  {
   "cell_type": "code",
   "execution_count": null,
   "id": "7802a611",
   "metadata": {},
   "outputs": [],
   "source": [
    "#편하지만 인덱싱을해서 값을 넣어주지는 못함 #값을 직접 꽂아준다\n",
    "#.format과 달리"
   ]
  },
  {
   "cell_type": "markdown",
   "id": "66d6ac5b",
   "metadata": {},
   "source": [
    "## 3. format 메서드와 f-string으로 문자열 정렬하기, 자리수 지정해 출력하기"
   ]
  },
  {
   "cell_type": "markdown",
   "id": "bbf3a519",
   "metadata": {},
   "source": [
    "'{인덱스: <길이}'.format(값)<br>\n",
    "f'{값:<길이}'"
   ]
  },
  {
   "cell_type": "markdown",
   "id": "be1f49a9",
   "metadata": {},
   "source": [
    "< 10 :공간을 10칸 확보하고 글자를 왼쪽 정렬"
   ]
  },
  {
   "cell_type": "code",
   "execution_count": 39,
   "id": "40e4bc7b",
   "metadata": {},
   "outputs": [
    {
     "name": "stdout",
     "output_type": "stream",
     "text": [
      "삼성전자      \n"
     ]
    }
   ],
   "source": [
    "print('{0:<10}'.format('삼성전자'))"
   ]
  },
  {
   "cell_type": "code",
   "execution_count": 40,
   "id": "81d98c75",
   "metadata": {},
   "outputs": [
    {
     "data": {
      "text/plain": [
       "'삼성전자      '"
      ]
     },
     "execution_count": 40,
     "metadata": {},
     "output_type": "execute_result"
    }
   ],
   "source": [
    "'{0:<10}'.format('삼성전자')"
   ]
  },
  {
   "cell_type": "code",
   "execution_count": 44,
   "id": "cdd5a3a4",
   "metadata": {},
   "outputs": [
    {
     "data": {
      "text/plain": [
       "'      삼성전자'"
      ]
     },
     "execution_count": 44,
     "metadata": {},
     "output_type": "execute_result"
    }
   ],
   "source": [
    "'{0:>10}'.format('삼성전자')"
   ]
  },
  {
   "cell_type": "markdown",
   "id": "51ab2425",
   "metadata": {},
   "source": [
    "> 10 :공간을 10칸 확보하고 글자를 왼쪽 정렬"
   ]
  },
  {
   "cell_type": "code",
   "execution_count": 46,
   "id": "0a67c213",
   "metadata": {},
   "outputs": [
    {
     "name": "stdout",
     "output_type": "stream",
     "text": [
      "      삼성전자\n"
     ]
    }
   ],
   "source": [
    "print('{0:>10}'.format('삼성전자'))"
   ]
  },
  {
   "cell_type": "code",
   "execution_count": null,
   "id": "7d14ff8b",
   "metadata": {},
   "outputs": [],
   "source": [
    "print(f\"{'삼성전자'})'"
   ]
  },
  {
   "cell_type": "markdown",
   "id": "715a889e",
   "metadata": {},
   "source": [
    "숫자 자리수 맞추고 기본 값 지정하기 <br>\n",
    "'{인덱스:채울 숫자 길이 서식지정자}'.format(값), 단, 서식 지정자에서 %는 빼고 적는다.<br>\n",
    "f'{값:채울 숫자길이 서식지정자}'"
   ]
  },
  {
   "cell_type": "markdown",
   "id": "61d0021d",
   "metadata": {},
   "source": [
    "1자리 숫자 앞에 0 추가하기"
   ]
  },
  {
   "cell_type": "code",
   "execution_count": 48,
   "id": "8831ba89",
   "metadata": {},
   "outputs": [
    {
     "name": "stdout",
     "output_type": "stream",
     "text": [
      "1월\n"
     ]
    }
   ],
   "source": [
    "print('{0}월'.format(1))"
   ]
  },
  {
   "cell_type": "code",
   "execution_count": 47,
   "id": "6aaabdcc",
   "metadata": {},
   "outputs": [
    {
     "name": "stdout",
     "output_type": "stream",
     "text": [
      "01월\n"
     ]
    }
   ],
   "source": [
    "print('{0:02d}월'.format(1)) #0으로/두자리채워라/정수"
   ]
  },
  {
   "cell_type": "code",
   "execution_count": 49,
   "id": "61c0efd9",
   "metadata": {},
   "outputs": [
    {
     "name": "stdout",
     "output_type": "stream",
     "text": [
      "1월\n"
     ]
    }
   ],
   "source": [
    "print(f'{1}월')"
   ]
  },
  {
   "cell_type": "code",
   "execution_count": 53,
   "id": "9667361b",
   "metadata": {},
   "outputs": [
    {
     "name": "stdout",
     "output_type": "stream",
     "text": [
      "01월\n"
     ]
    }
   ],
   "source": [
    "print(f'{1:02d}월')"
   ]
  },
  {
   "cell_type": "code",
   "execution_count": 50,
   "id": "3a005002",
   "metadata": {},
   "outputs": [
    {
     "name": "stdout",
     "output_type": "stream",
     "text": [
      "12월\n"
     ]
    }
   ],
   "source": [
    "print(f'{12:02d}월')"
   ]
  },
  {
   "cell_type": "code",
   "execution_count": 51,
   "id": "45f79fda",
   "metadata": {},
   "outputs": [
    {
     "name": "stdout",
     "output_type": "stream",
     "text": [
      "012월\n"
     ]
    }
   ],
   "source": [
    "print(f'{12:03d}월')"
   ]
  },
  {
   "cell_type": "markdown",
   "id": "c96eba84",
   "metadata": {},
   "source": [
    "실수의 정수 자리수와 소수점 자리수 지정하기"
   ]
  },
  {
   "cell_type": "code",
   "execution_count": 54,
   "id": "009e4da2",
   "metadata": {},
   "outputs": [
    {
     "name": "stdout",
     "output_type": "stream",
     "text": [
      "20.246\n"
     ]
    }
   ],
   "source": [
    "print('{0:2.3f}'.format(20.245678))"
   ]
  },
  {
   "cell_type": "code",
   "execution_count": 54,
   "id": "4b327ffc",
   "metadata": {
    "scrolled": true
   },
   "outputs": [
    {
     "name": "stdout",
     "output_type": "stream",
     "text": [
      "20.246\n"
     ]
    }
   ],
   "source": [
    "print('{0:2.3f}'.format(20.245678))"
   ]
  },
  {
   "cell_type": "code",
   "execution_count": 56,
   "id": "8d186677",
   "metadata": {
    "scrolled": true
   },
   "outputs": [
    {
     "name": "stdout",
     "output_type": "stream",
     "text": [
      "0020.246\n"
     ]
    }
   ],
   "source": [
    "print('{0:08.3f}'.format(20.245678))   #소수점자리수"
   ]
  },
  {
   "cell_type": "code",
   "execution_count": 59,
   "id": "689a91e3",
   "metadata": {
    "scrolled": true
   },
   "outputs": [
    {
     "name": "stdout",
     "output_type": "stream",
     "text": [
      "020.2457\n"
     ]
    }
   ],
   "source": [
    "print('{0:08.4f}'.format(20.245678))"
   ]
  },
  {
   "cell_type": "markdown",
   "id": "e58d8bcc",
   "metadata": {},
   "source": [
    "1월1일부터 12월31일까지 출력하는데 1자리 월, 일에는 01,02식으로 0을 붙여서 출력하세요"
   ]
  },
  {
   "cell_type": "code",
   "execution_count": 64,
   "id": "058b3e6c",
   "metadata": {},
   "outputs": [
    {
     "name": "stdout",
     "output_type": "stream",
     "text": [
      "01월 01일\n",
      "01월 02일\n",
      "01월 03일\n",
      "01월 04일\n",
      "01월 05일\n",
      "01월 06일\n",
      "01월 07일\n",
      "01월 08일\n",
      "01월 09일\n",
      "01월 10일\n",
      "01월 11일\n",
      "01월 12일\n",
      "01월 13일\n",
      "01월 14일\n",
      "01월 15일\n",
      "01월 16일\n",
      "01월 17일\n",
      "01월 18일\n",
      "01월 19일\n",
      "01월 20일\n",
      "01월 21일\n",
      "01월 22일\n",
      "01월 23일\n",
      "01월 24일\n",
      "01월 25일\n",
      "01월 26일\n",
      "01월 27일\n",
      "01월 28일\n",
      "01월 29일\n",
      "01월 30일\n",
      "01월 31일\n",
      "02월 01일\n",
      "02월 02일\n",
      "02월 03일\n",
      "02월 04일\n",
      "02월 05일\n",
      "02월 06일\n",
      "02월 07일\n",
      "02월 08일\n",
      "02월 09일\n",
      "02월 10일\n",
      "02월 11일\n",
      "02월 12일\n",
      "02월 13일\n",
      "02월 14일\n",
      "02월 15일\n",
      "02월 16일\n",
      "02월 17일\n",
      "02월 18일\n",
      "02월 19일\n",
      "02월 20일\n",
      "02월 21일\n",
      "02월 22일\n",
      "02월 23일\n",
      "02월 24일\n",
      "02월 25일\n",
      "02월 26일\n",
      "02월 27일\n",
      "02월 28일\n",
      "02월 29일\n",
      "02월 30일\n",
      "02월 31일\n",
      "03월 01일\n",
      "03월 02일\n",
      "03월 03일\n",
      "03월 04일\n",
      "03월 05일\n",
      "03월 06일\n",
      "03월 07일\n",
      "03월 08일\n",
      "03월 09일\n",
      "03월 10일\n",
      "03월 11일\n",
      "03월 12일\n",
      "03월 13일\n",
      "03월 14일\n",
      "03월 15일\n",
      "03월 16일\n",
      "03월 17일\n",
      "03월 18일\n",
      "03월 19일\n",
      "03월 20일\n",
      "03월 21일\n",
      "03월 22일\n",
      "03월 23일\n",
      "03월 24일\n",
      "03월 25일\n",
      "03월 26일\n",
      "03월 27일\n",
      "03월 28일\n",
      "03월 29일\n",
      "03월 30일\n",
      "03월 31일\n",
      "04월 01일\n",
      "04월 02일\n",
      "04월 03일\n",
      "04월 04일\n",
      "04월 05일\n",
      "04월 06일\n",
      "04월 07일\n",
      "04월 08일\n",
      "04월 09일\n",
      "04월 10일\n",
      "04월 11일\n",
      "04월 12일\n",
      "04월 13일\n",
      "04월 14일\n",
      "04월 15일\n",
      "04월 16일\n",
      "04월 17일\n",
      "04월 18일\n",
      "04월 19일\n",
      "04월 20일\n",
      "04월 21일\n",
      "04월 22일\n",
      "04월 23일\n",
      "04월 24일\n",
      "04월 25일\n",
      "04월 26일\n",
      "04월 27일\n",
      "04월 28일\n",
      "04월 29일\n",
      "04월 30일\n",
      "04월 31일\n",
      "05월 01일\n",
      "05월 02일\n",
      "05월 03일\n",
      "05월 04일\n",
      "05월 05일\n",
      "05월 06일\n",
      "05월 07일\n",
      "05월 08일\n",
      "05월 09일\n",
      "05월 10일\n",
      "05월 11일\n",
      "05월 12일\n",
      "05월 13일\n",
      "05월 14일\n",
      "05월 15일\n",
      "05월 16일\n",
      "05월 17일\n",
      "05월 18일\n",
      "05월 19일\n",
      "05월 20일\n",
      "05월 21일\n",
      "05월 22일\n",
      "05월 23일\n",
      "05월 24일\n",
      "05월 25일\n",
      "05월 26일\n",
      "05월 27일\n",
      "05월 28일\n",
      "05월 29일\n",
      "05월 30일\n",
      "05월 31일\n",
      "06월 01일\n",
      "06월 02일\n",
      "06월 03일\n",
      "06월 04일\n",
      "06월 05일\n",
      "06월 06일\n",
      "06월 07일\n",
      "06월 08일\n",
      "06월 09일\n",
      "06월 10일\n",
      "06월 11일\n",
      "06월 12일\n",
      "06월 13일\n",
      "06월 14일\n",
      "06월 15일\n",
      "06월 16일\n",
      "06월 17일\n",
      "06월 18일\n",
      "06월 19일\n",
      "06월 20일\n",
      "06월 21일\n",
      "06월 22일\n",
      "06월 23일\n",
      "06월 24일\n",
      "06월 25일\n",
      "06월 26일\n",
      "06월 27일\n",
      "06월 28일\n",
      "06월 29일\n",
      "06월 30일\n",
      "06월 31일\n",
      "07월 01일\n",
      "07월 02일\n",
      "07월 03일\n",
      "07월 04일\n",
      "07월 05일\n",
      "07월 06일\n",
      "07월 07일\n",
      "07월 08일\n",
      "07월 09일\n",
      "07월 10일\n",
      "07월 11일\n",
      "07월 12일\n",
      "07월 13일\n",
      "07월 14일\n",
      "07월 15일\n",
      "07월 16일\n",
      "07월 17일\n",
      "07월 18일\n",
      "07월 19일\n",
      "07월 20일\n",
      "07월 21일\n",
      "07월 22일\n",
      "07월 23일\n",
      "07월 24일\n",
      "07월 25일\n",
      "07월 26일\n",
      "07월 27일\n",
      "07월 28일\n",
      "07월 29일\n",
      "07월 30일\n",
      "07월 31일\n",
      "08월 01일\n",
      "08월 02일\n",
      "08월 03일\n",
      "08월 04일\n",
      "08월 05일\n",
      "08월 06일\n",
      "08월 07일\n",
      "08월 08일\n",
      "08월 09일\n",
      "08월 10일\n",
      "08월 11일\n",
      "08월 12일\n",
      "08월 13일\n",
      "08월 14일\n",
      "08월 15일\n",
      "08월 16일\n",
      "08월 17일\n",
      "08월 18일\n",
      "08월 19일\n",
      "08월 20일\n",
      "08월 21일\n",
      "08월 22일\n",
      "08월 23일\n",
      "08월 24일\n",
      "08월 25일\n",
      "08월 26일\n",
      "08월 27일\n",
      "08월 28일\n",
      "08월 29일\n",
      "08월 30일\n",
      "08월 31일\n",
      "09월 01일\n",
      "09월 02일\n",
      "09월 03일\n",
      "09월 04일\n",
      "09월 05일\n",
      "09월 06일\n",
      "09월 07일\n",
      "09월 08일\n",
      "09월 09일\n",
      "09월 10일\n",
      "09월 11일\n",
      "09월 12일\n",
      "09월 13일\n",
      "09월 14일\n",
      "09월 15일\n",
      "09월 16일\n",
      "09월 17일\n",
      "09월 18일\n",
      "09월 19일\n",
      "09월 20일\n",
      "09월 21일\n",
      "09월 22일\n",
      "09월 23일\n",
      "09월 24일\n",
      "09월 25일\n",
      "09월 26일\n",
      "09월 27일\n",
      "09월 28일\n",
      "09월 29일\n",
      "09월 30일\n",
      "09월 31일\n",
      "10월 01일\n",
      "10월 02일\n",
      "10월 03일\n",
      "10월 04일\n",
      "10월 05일\n",
      "10월 06일\n",
      "10월 07일\n",
      "10월 08일\n",
      "10월 09일\n",
      "10월 10일\n",
      "10월 11일\n",
      "10월 12일\n",
      "10월 13일\n",
      "10월 14일\n",
      "10월 15일\n",
      "10월 16일\n",
      "10월 17일\n",
      "10월 18일\n",
      "10월 19일\n",
      "10월 20일\n",
      "10월 21일\n",
      "10월 22일\n",
      "10월 23일\n",
      "10월 24일\n",
      "10월 25일\n",
      "10월 26일\n",
      "10월 27일\n",
      "10월 28일\n",
      "10월 29일\n",
      "10월 30일\n",
      "10월 31일\n",
      "11월 01일\n",
      "11월 02일\n",
      "11월 03일\n",
      "11월 04일\n",
      "11월 05일\n",
      "11월 06일\n",
      "11월 07일\n",
      "11월 08일\n",
      "11월 09일\n",
      "11월 10일\n",
      "11월 11일\n",
      "11월 12일\n",
      "11월 13일\n",
      "11월 14일\n",
      "11월 15일\n",
      "11월 16일\n",
      "11월 17일\n",
      "11월 18일\n",
      "11월 19일\n",
      "11월 20일\n",
      "11월 21일\n",
      "11월 22일\n",
      "11월 23일\n",
      "11월 24일\n",
      "11월 25일\n",
      "11월 26일\n",
      "11월 27일\n",
      "11월 28일\n",
      "11월 29일\n",
      "11월 30일\n",
      "11월 31일\n",
      "12월 01일\n",
      "12월 02일\n",
      "12월 03일\n",
      "12월 04일\n",
      "12월 05일\n",
      "12월 06일\n",
      "12월 07일\n",
      "12월 08일\n",
      "12월 09일\n",
      "12월 10일\n",
      "12월 11일\n",
      "12월 12일\n",
      "12월 13일\n",
      "12월 14일\n",
      "12월 15일\n",
      "12월 16일\n",
      "12월 17일\n",
      "12월 18일\n",
      "12월 19일\n",
      "12월 20일\n",
      "12월 21일\n",
      "12월 22일\n",
      "12월 23일\n",
      "12월 24일\n",
      "12월 25일\n",
      "12월 26일\n",
      "12월 27일\n",
      "12월 28일\n",
      "12월 29일\n",
      "12월 30일\n",
      "12월 31일\n"
     ]
    }
   ],
   "source": [
    "for a in range(1,13):\n",
    "    for b in range(1,32):\n",
    "\n",
    "        print('{0:02d}월 {1:02d}일'.format(a,b))"
   ]
  },
  {
   "cell_type": "code",
   "execution_count": 65,
   "id": "77afdd52",
   "metadata": {},
   "outputs": [
    {
     "name": "stdout",
     "output_type": "stream",
     "text": [
      "01월 01일\n",
      "01월 02일\n",
      "01월 03일\n",
      "01월 04일\n",
      "01월 05일\n",
      "01월 06일\n",
      "01월 07일\n",
      "01월 08일\n",
      "01월 09일\n",
      "01월 10일\n",
      "01월 11일\n",
      "01월 12일\n",
      "01월 13일\n",
      "01월 14일\n",
      "01월 15일\n",
      "01월 16일\n",
      "01월 17일\n",
      "01월 18일\n",
      "01월 19일\n",
      "01월 20일\n",
      "01월 21일\n",
      "01월 22일\n",
      "01월 23일\n",
      "01월 24일\n",
      "01월 25일\n",
      "01월 26일\n",
      "01월 27일\n",
      "01월 28일\n",
      "01월 29일\n",
      "01월 30일\n",
      "01월 31일\n",
      "02월 01일\n",
      "02월 02일\n",
      "02월 03일\n",
      "02월 04일\n",
      "02월 05일\n",
      "02월 06일\n",
      "02월 07일\n",
      "02월 08일\n",
      "02월 09일\n",
      "02월 10일\n",
      "02월 11일\n",
      "02월 12일\n",
      "02월 13일\n",
      "02월 14일\n",
      "02월 15일\n",
      "02월 16일\n",
      "02월 17일\n",
      "02월 18일\n",
      "02월 19일\n",
      "02월 20일\n",
      "02월 21일\n",
      "02월 22일\n",
      "02월 23일\n",
      "02월 24일\n",
      "02월 25일\n",
      "02월 26일\n",
      "02월 27일\n",
      "02월 28일\n",
      "02월 29일\n",
      "02월 30일\n",
      "02월 31일\n",
      "03월 01일\n",
      "03월 02일\n",
      "03월 03일\n",
      "03월 04일\n",
      "03월 05일\n",
      "03월 06일\n",
      "03월 07일\n",
      "03월 08일\n",
      "03월 09일\n",
      "03월 10일\n",
      "03월 11일\n",
      "03월 12일\n",
      "03월 13일\n",
      "03월 14일\n",
      "03월 15일\n",
      "03월 16일\n",
      "03월 17일\n",
      "03월 18일\n",
      "03월 19일\n",
      "03월 20일\n",
      "03월 21일\n",
      "03월 22일\n",
      "03월 23일\n",
      "03월 24일\n",
      "03월 25일\n",
      "03월 26일\n",
      "03월 27일\n",
      "03월 28일\n",
      "03월 29일\n",
      "03월 30일\n",
      "03월 31일\n",
      "04월 01일\n",
      "04월 02일\n",
      "04월 03일\n",
      "04월 04일\n",
      "04월 05일\n",
      "04월 06일\n",
      "04월 07일\n",
      "04월 08일\n",
      "04월 09일\n",
      "04월 10일\n",
      "04월 11일\n",
      "04월 12일\n",
      "04월 13일\n",
      "04월 14일\n",
      "04월 15일\n",
      "04월 16일\n",
      "04월 17일\n",
      "04월 18일\n",
      "04월 19일\n",
      "04월 20일\n",
      "04월 21일\n",
      "04월 22일\n",
      "04월 23일\n",
      "04월 24일\n",
      "04월 25일\n",
      "04월 26일\n",
      "04월 27일\n",
      "04월 28일\n",
      "04월 29일\n",
      "04월 30일\n",
      "04월 31일\n",
      "05월 01일\n",
      "05월 02일\n",
      "05월 03일\n",
      "05월 04일\n",
      "05월 05일\n",
      "05월 06일\n",
      "05월 07일\n",
      "05월 08일\n",
      "05월 09일\n",
      "05월 10일\n",
      "05월 11일\n",
      "05월 12일\n",
      "05월 13일\n",
      "05월 14일\n",
      "05월 15일\n",
      "05월 16일\n",
      "05월 17일\n",
      "05월 18일\n",
      "05월 19일\n",
      "05월 20일\n",
      "05월 21일\n",
      "05월 22일\n",
      "05월 23일\n",
      "05월 24일\n",
      "05월 25일\n",
      "05월 26일\n",
      "05월 27일\n",
      "05월 28일\n",
      "05월 29일\n",
      "05월 30일\n",
      "05월 31일\n",
      "06월 01일\n",
      "06월 02일\n",
      "06월 03일\n",
      "06월 04일\n",
      "06월 05일\n",
      "06월 06일\n",
      "06월 07일\n",
      "06월 08일\n",
      "06월 09일\n",
      "06월 10일\n",
      "06월 11일\n",
      "06월 12일\n",
      "06월 13일\n",
      "06월 14일\n",
      "06월 15일\n",
      "06월 16일\n",
      "06월 17일\n",
      "06월 18일\n",
      "06월 19일\n",
      "06월 20일\n",
      "06월 21일\n",
      "06월 22일\n",
      "06월 23일\n",
      "06월 24일\n",
      "06월 25일\n",
      "06월 26일\n",
      "06월 27일\n",
      "06월 28일\n",
      "06월 29일\n",
      "06월 30일\n",
      "06월 31일\n",
      "07월 01일\n",
      "07월 02일\n",
      "07월 03일\n",
      "07월 04일\n",
      "07월 05일\n",
      "07월 06일\n",
      "07월 07일\n",
      "07월 08일\n",
      "07월 09일\n",
      "07월 10일\n",
      "07월 11일\n",
      "07월 12일\n",
      "07월 13일\n",
      "07월 14일\n",
      "07월 15일\n",
      "07월 16일\n",
      "07월 17일\n",
      "07월 18일\n",
      "07월 19일\n",
      "07월 20일\n",
      "07월 21일\n",
      "07월 22일\n",
      "07월 23일\n",
      "07월 24일\n",
      "07월 25일\n",
      "07월 26일\n",
      "07월 27일\n",
      "07월 28일\n",
      "07월 29일\n",
      "07월 30일\n",
      "07월 31일\n",
      "08월 01일\n",
      "08월 02일\n",
      "08월 03일\n",
      "08월 04일\n",
      "08월 05일\n",
      "08월 06일\n",
      "08월 07일\n",
      "08월 08일\n",
      "08월 09일\n",
      "08월 10일\n",
      "08월 11일\n",
      "08월 12일\n",
      "08월 13일\n",
      "08월 14일\n",
      "08월 15일\n",
      "08월 16일\n",
      "08월 17일\n",
      "08월 18일\n",
      "08월 19일\n",
      "08월 20일\n",
      "08월 21일\n",
      "08월 22일\n",
      "08월 23일\n",
      "08월 24일\n",
      "08월 25일\n",
      "08월 26일\n",
      "08월 27일\n",
      "08월 28일\n",
      "08월 29일\n",
      "08월 30일\n",
      "08월 31일\n",
      "09월 01일\n",
      "09월 02일\n",
      "09월 03일\n",
      "09월 04일\n",
      "09월 05일\n",
      "09월 06일\n",
      "09월 07일\n",
      "09월 08일\n",
      "09월 09일\n",
      "09월 10일\n",
      "09월 11일\n",
      "09월 12일\n",
      "09월 13일\n",
      "09월 14일\n",
      "09월 15일\n",
      "09월 16일\n",
      "09월 17일\n",
      "09월 18일\n",
      "09월 19일\n",
      "09월 20일\n",
      "09월 21일\n",
      "09월 22일\n",
      "09월 23일\n",
      "09월 24일\n",
      "09월 25일\n",
      "09월 26일\n",
      "09월 27일\n",
      "09월 28일\n",
      "09월 29일\n",
      "09월 30일\n",
      "09월 31일\n",
      "10월 01일\n",
      "10월 02일\n",
      "10월 03일\n",
      "10월 04일\n",
      "10월 05일\n",
      "10월 06일\n",
      "10월 07일\n",
      "10월 08일\n",
      "10월 09일\n",
      "10월 10일\n",
      "10월 11일\n",
      "10월 12일\n",
      "10월 13일\n",
      "10월 14일\n",
      "10월 15일\n",
      "10월 16일\n",
      "10월 17일\n",
      "10월 18일\n",
      "10월 19일\n",
      "10월 20일\n",
      "10월 21일\n",
      "10월 22일\n",
      "10월 23일\n",
      "10월 24일\n",
      "10월 25일\n",
      "10월 26일\n",
      "10월 27일\n",
      "10월 28일\n",
      "10월 29일\n",
      "10월 30일\n",
      "10월 31일\n",
      "11월 01일\n",
      "11월 02일\n",
      "11월 03일\n",
      "11월 04일\n",
      "11월 05일\n",
      "11월 06일\n",
      "11월 07일\n",
      "11월 08일\n",
      "11월 09일\n",
      "11월 10일\n",
      "11월 11일\n",
      "11월 12일\n",
      "11월 13일\n",
      "11월 14일\n",
      "11월 15일\n",
      "11월 16일\n",
      "11월 17일\n",
      "11월 18일\n",
      "11월 19일\n",
      "11월 20일\n",
      "11월 21일\n",
      "11월 22일\n",
      "11월 23일\n",
      "11월 24일\n",
      "11월 25일\n",
      "11월 26일\n",
      "11월 27일\n",
      "11월 28일\n",
      "11월 29일\n",
      "11월 30일\n",
      "11월 31일\n",
      "12월 01일\n",
      "12월 02일\n",
      "12월 03일\n",
      "12월 04일\n",
      "12월 05일\n",
      "12월 06일\n",
      "12월 07일\n",
      "12월 08일\n",
      "12월 09일\n",
      "12월 10일\n",
      "12월 11일\n",
      "12월 12일\n",
      "12월 13일\n",
      "12월 14일\n",
      "12월 15일\n",
      "12월 16일\n",
      "12월 17일\n",
      "12월 18일\n",
      "12월 19일\n",
      "12월 20일\n",
      "12월 21일\n",
      "12월 22일\n",
      "12월 23일\n",
      "12월 24일\n",
      "12월 25일\n",
      "12월 26일\n",
      "12월 27일\n",
      "12월 28일\n",
      "12월 29일\n",
      "12월 30일\n",
      "12월 31일\n"
     ]
    }
   ],
   "source": [
    "for a in range(1,13):\n",
    "    for b in range(1,32):\n",
    "\n",
    "        print(f'{a:02d}월 {b:02d}일')"
   ]
  },
  {
   "cell_type": "markdown",
   "id": "f032c056",
   "metadata": {},
   "source": [
    "공백을 원하는 문자로 채우고 자리수 맞추기\n",
    "* '{인덱스:원하는 숫자><자리수}'.format(값)"
   ]
  },
  {
   "cell_type": "code",
   "execution_count": 66,
   "id": "7a9d094a",
   "metadata": {},
   "outputs": [
    {
     "data": {
      "text/plain": [
       "'3331'"
      ]
     },
     "execution_count": 66,
     "metadata": {},
     "output_type": "execute_result"
    }
   ],
   "source": [
    "'{0:3>4}'.format(1)"
   ]
  },
  {
   "cell_type": "code",
   "execution_count": 67,
   "id": "06c62b62",
   "metadata": {},
   "outputs": [
    {
     "data": {
      "text/plain": [
       "'1000'"
      ]
     },
     "execution_count": 67,
     "metadata": {},
     "output_type": "execute_result"
    }
   ],
   "source": [
    "'{0:0<4}'.format(1)"
   ]
  },
  {
   "cell_type": "code",
   "execution_count": 68,
   "id": "28dafb39",
   "metadata": {},
   "outputs": [
    {
     "data": {
      "text/plain": [
       "'1$$$'"
      ]
     },
     "execution_count": 68,
     "metadata": {},
     "output_type": "execute_result"
    }
   ],
   "source": [
    "'{0:$<4}'.format(1)"
   ]
  },
  {
   "cell_type": "code",
   "execution_count": 69,
   "id": "672a4dff",
   "metadata": {},
   "outputs": [
    {
     "data": {
      "text/plain": [
       "'1000'"
      ]
     },
     "execution_count": 69,
     "metadata": {},
     "output_type": "execute_result"
    }
   ],
   "source": [
    "f'{1:0<4}'"
   ]
  },
  {
   "cell_type": "code",
   "execution_count": 70,
   "id": "79f2e9d9",
   "metadata": {},
   "outputs": [
    {
     "data": {
      "text/plain": [
       "'1$$$'"
      ]
     },
     "execution_count": 70,
     "metadata": {},
     "output_type": "execute_result"
    }
   ],
   "source": [
    "f'{1:$<4}'"
   ]
  },
  {
   "cell_type": "code",
   "execution_count": 71,
   "id": "bfcc38dd",
   "metadata": {},
   "outputs": [
    {
     "data": {
      "text/plain": [
       "'0$$$'"
      ]
     },
     "execution_count": 71,
     "metadata": {},
     "output_type": "execute_result"
    }
   ],
   "source": [
    "f'{0:$<4}'"
   ]
  },
  {
   "cell_type": "code",
   "execution_count": null,
   "id": "d9c0a451",
   "metadata": {},
   "outputs": [],
   "source": []
  },
  {
   "cell_type": "code",
   "execution_count": null,
   "id": "e80dc5bf",
   "metadata": {},
   "outputs": [],
   "source": [
    "url = \"https://finance.naver.com/sise/sise_trans_style.naver?sosok=01\""
   ]
  },
  {
   "cell_type": "code",
   "execution_count": 74,
   "id": "24229268",
   "metadata": {},
   "outputs": [
    {
     "name": "stdout",
     "output_type": "stream",
     "text": [
      "https://finance.naver.com/sise/sise_trans_style.naver?sosok=01\n",
      "https://finance.naver.com/sise/sise_trans_style.naver?sosok=02\n",
      "https://finance.naver.com/sise/sise_trans_style.naver?sosok=03\n",
      "https://finance.naver.com/sise/sise_trans_style.naver?sosok=04\n",
      "https://finance.naver.com/sise/sise_trans_style.naver?sosok=05\n",
      "https://finance.naver.com/sise/sise_trans_style.naver?sosok=06\n",
      "https://finance.naver.com/sise/sise_trans_style.naver?sosok=07\n",
      "https://finance.naver.com/sise/sise_trans_style.naver?sosok=08\n",
      "https://finance.naver.com/sise/sise_trans_style.naver?sosok=09\n",
      "https://finance.naver.com/sise/sise_trans_style.naver?sosok=10\n"
     ]
    }
   ],
   "source": [
    "for i in range(1,11):\n",
    "     print(f'https://finance.naver.com/sise/sise_trans_style.naver?sosok={i:02d}')"
   ]
  },
  {
   "cell_type": "code",
   "execution_count": 75,
   "id": "b0066c08",
   "metadata": {},
   "outputs": [
    {
     "name": "stdout",
     "output_type": "stream",
     "text": [
      "https://finance.naver.com/sise/sise_trans_style.naver?sosok=01\n",
      "https://finance.naver.com/sise/sise_trans_style.naver?sosok=02\n",
      "https://finance.naver.com/sise/sise_trans_style.naver?sosok=03\n",
      "https://finance.naver.com/sise/sise_trans_style.naver?sosok=04\n",
      "https://finance.naver.com/sise/sise_trans_style.naver?sosok=05\n",
      "https://finance.naver.com/sise/sise_trans_style.naver?sosok=06\n",
      "https://finance.naver.com/sise/sise_trans_style.naver?sosok=07\n",
      "https://finance.naver.com/sise/sise_trans_style.naver?sosok=08\n",
      "https://finance.naver.com/sise/sise_trans_style.naver?sosok=09\n",
      "https://finance.naver.com/sise/sise_trans_style.naver?sosok=10\n"
     ]
    }
   ],
   "source": [
    "for i in range(1,11):\n",
    "     print('https://finance.naver.com/sise/sise_trans_style.naver?sosok={0:02d}'.format(i))"
   ]
  },
  {
   "cell_type": "markdown",
   "id": "e9be4cee",
   "metadata": {},
   "source": [
    "파일 이름을 한 번에 바꾸기 <br>\n",
    "숫자로 되어 있는 1자리 혹은 2자리 수 파일 이름을 앞을 0으로 채우는 3자리수 숫자로 이름을 변경"
   ]
  },
  {
   "cell_type": "code",
   "execution_count": 77,
   "id": "71e6c039",
   "metadata": {},
   "outputs": [],
   "source": [
    "img_list = ['1.jpg','10.jpg','11.jpg','2.jpg','3.png']"
   ]
  },
  {
   "cell_type": "code",
   "execution_count": 87,
   "id": "981f78bd",
   "metadata": {},
   "outputs": [
    {
     "name": "stdout",
     "output_type": "stream",
     "text": [
      "['001.jpg', '010.jpg', '011.jpg', '002.jpg', '003.png']\n"
     ]
    }
   ],
   "source": [
    "img_list2=[]\n",
    "for i in img_list:\n",
    "    img_list2.append('{0:0>7}'.format(i))\n",
    "print(img_list2)"
   ]
  },
  {
   "cell_type": "code",
   "execution_count": 90,
   "id": "a6328014",
   "metadata": {},
   "outputs": [
    {
     "data": {
      "text/plain": [
       "['001.jpg', '010.jpg', '011.jpg', '002.jpg', '003.png']"
      ]
     },
     "execution_count": 90,
     "metadata": {},
     "output_type": "execute_result"
    }
   ],
   "source": [
    "img_list2=['{0:0>7}'.format(i) for i in img_list]\n",
    "\n",
    "img_list2"
   ]
  },
  {
   "cell_type": "code",
   "execution_count": 90,
   "id": "c75e6b6f",
   "metadata": {},
   "outputs": [
    {
     "data": {
      "text/plain": [
       "['001.jpg', '010.jpg', '011.jpg', '002.jpg', '003.png']"
      ]
     },
     "execution_count": 90,
     "metadata": {},
     "output_type": "execute_result"
    }
   ],
   "source": [
    "img_list2=[f'{i:0>7}' for i in img_list]\n",
    "\n",
    "img_list2"
   ]
  },
  {
   "cell_type": "code",
   "execution_count": null,
   "id": "01c54a9a",
   "metadata": {},
   "outputs": [],
   "source": [
    "#문자열 전체 자리수를 7자리로하고 나머지 자리를 0으로 채우라는 말."
   ]
  },
  {
   "cell_type": "code",
   "execution_count": null,
   "id": "734c72b6",
   "metadata": {},
   "outputs": [],
   "source": []
  },
  {
   "cell_type": "code",
   "execution_count": null,
   "id": "78d50867",
   "metadata": {},
   "outputs": [],
   "source": []
  },
  {
   "cell_type": "code",
   "execution_count": null,
   "id": "d7bf21a8",
   "metadata": {},
   "outputs": [],
   "source": []
  },
  {
   "cell_type": "code",
   "execution_count": null,
   "id": "7a521c3e",
   "metadata": {},
   "outputs": [],
   "source": []
  },
  {
   "cell_type": "code",
   "execution_count": null,
   "id": "1d4ba846",
   "metadata": {},
   "outputs": [],
   "source": []
  },
  {
   "cell_type": "code",
   "execution_count": null,
   "id": "e4d343ef",
   "metadata": {},
   "outputs": [],
   "source": []
  },
  {
   "cell_type": "code",
   "execution_count": null,
   "id": "adaf19f8",
   "metadata": {},
   "outputs": [],
   "source": []
  },
  {
   "cell_type": "code",
   "execution_count": null,
   "id": "87b695b8",
   "metadata": {},
   "outputs": [],
   "source": []
  },
  {
   "cell_type": "code",
   "execution_count": null,
   "id": "dd1438a4",
   "metadata": {},
   "outputs": [],
   "source": []
  },
  {
   "cell_type": "code",
   "execution_count": null,
   "id": "10fdf5f7",
   "metadata": {},
   "outputs": [],
   "source": []
  }
 ],
 "metadata": {
  "kernelspec": {
   "display_name": "Python 3 (ipykernel)",
   "language": "python",
   "name": "python3"
  },
  "language_info": {
   "codemirror_mode": {
    "name": "ipython",
    "version": 3
   },
   "file_extension": ".py",
   "mimetype": "text/x-python",
   "name": "python",
   "nbconvert_exporter": "python",
   "pygments_lexer": "ipython3",
   "version": "3.10.14"
  }
 },
 "nbformat": 4,
 "nbformat_minor": 5
}
