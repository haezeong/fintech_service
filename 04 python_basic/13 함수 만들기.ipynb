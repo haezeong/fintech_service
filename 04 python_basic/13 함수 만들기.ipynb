{
 "cells": [
  {
   "cell_type": "markdown",
   "id": "7b1a02ec",
   "metadata": {},
   "source": [
    "# 함수 만들기"
   ]
  },
  {
   "cell_type": "markdown",
   "id": "53d46e4d",
   "metadata": {},
   "source": [
    "### print(), split(), input() => 함수\n",
    "* 함수의 괄호 안에 값을 넣으면 출력을 해주거나 입력을 받거나 변환을 해 줌\n",
    "* 도구\n",
    "* function() -> 기능\n",
    "* 자주 사용하는 기능을 미리 만들어서 **반복 재사용**할 수 있게 만드는 것"
   ]
  },
  {
   "cell_type": "code",
   "execution_count": 1,
   "id": "a862c504",
   "metadata": {},
   "outputs": [
    {
     "name": "stdout",
     "output_type": "stream",
     "text": [
      "1\n",
      "2\n",
      "3\n",
      "4\n",
      "5\n"
     ]
    }
   ],
   "source": [
    "L =[1,2,3,4,5]\n",
    "for i in L:\n",
    "    print(i)"
   ]
  },
  {
   "cell_type": "code",
   "execution_count": 2,
   "id": "239ca88d",
   "metadata": {},
   "outputs": [
    {
     "data": {
      "text/plain": [
       "[10, 20, 30, 40, 50]"
      ]
     },
     "execution_count": 2,
     "metadata": {},
     "output_type": "execute_result"
    }
   ],
   "source": [
    "L =[1,2,3,4,5]\n",
    "result = []\n",
    "for i in L:\n",
    "    result.append(i*10)\n",
    "result"
   ]
  },
  {
   "cell_type": "markdown",
   "id": "c5b17cdf",
   "metadata": {},
   "source": [
    "## 1) 함수 만드는 법\n",
    "def 함수이름(): <br>\n",
    "____실행코드 <br>\n",
    "____return 리턴 값"
   ]
  },
  {
   "cell_type": "code",
   "execution_count": 3,
   "id": "3a2f94ff",
   "metadata": {},
   "outputs": [],
   "source": [
    "def hello():\n",
    "    print(\"hello 파이썬 함수 만들기\")"
   ]
  },
  {
   "cell_type": "code",
   "execution_count": 4,
   "id": "dd11c70c",
   "metadata": {},
   "outputs": [
    {
     "name": "stdout",
     "output_type": "stream",
     "text": [
      "hello 파이썬 함수 만들기\n"
     ]
    }
   ],
   "source": [
    "hello()"
   ]
  },
  {
   "cell_type": "code",
   "execution_count": 5,
   "id": "9aea1b90",
   "metadata": {},
   "outputs": [],
   "source": [
    "#우리가 만들었지만 아무것도 하지 않는다. 불러야 실행한다. 부르기만하면 계속 실행"
   ]
  },
  {
   "cell_type": "markdown",
   "id": "4a0d305e",
   "metadata": {},
   "source": [
    "## 2) 함수 호출순서\n",
    "* 함수는 호출하기 전에 반드시 먼저 정의되어야 하고(만들어 놓아야 함)\n",
    "* 함수 정의가 함수 실행보다 위에 있어야 한다."
   ]
  },
  {
   "cell_type": "code",
   "execution_count": 6,
   "id": "216c2f7d",
   "metadata": {},
   "outputs": [
    {
     "name": "stdout",
     "output_type": "stream",
     "text": [
      "hello2 파이썬 함수 만들기\n"
     ]
    }
   ],
   "source": [
    "def hello2():\n",
    "    print(\"hello2 파이썬 함수 만들기\")\n",
    "    \n",
    "hello2()"
   ]
  },
  {
   "cell_type": "markdown",
   "id": "776119bc",
   "metadata": {},
   "source": [
    "## 3) 함수의 매개변수\n",
    "함수의 ()안에 받는 값 <br>\n",
    "()안에 값을 받아서 함수 내에서 처리할 때 사용<br>\n",
    "print(\"hello\") => hello"
   ]
  },
  {
   "cell_type": "markdown",
   "id": "b0eadfe7",
   "metadata": {},
   "source": [
    "매개변수 1개짜리 함수"
   ]
  },
  {
   "cell_type": "code",
   "execution_count": 7,
   "id": "3c03655f",
   "metadata": {},
   "outputs": [],
   "source": [
    "# 원의 넓이를 구하는 함수 - 반지름 * 반지름 * 3.14\n",
    "def circle(c):\n",
    "    print(\"원의 넓이는: \", c * c * 3.14, \"입니다.\")\n",
    "    return c * c * 3.14"
   ]
  },
  {
   "cell_type": "code",
   "execution_count": 8,
   "id": "cac06b56",
   "metadata": {},
   "outputs": [
    {
     "name": "stdout",
     "output_type": "stream",
     "text": [
      "원의 넓이는:  28.26 입니다.\n",
      "result: 28.26\n"
     ]
    }
   ],
   "source": [
    "result = circle(3)\n",
    "print(\"result:\", result)"
   ]
  },
  {
   "cell_type": "code",
   "execution_count": 9,
   "id": "d81baae9",
   "metadata": {},
   "outputs": [],
   "source": [
    "def circle(c):\n",
    "    print(\"원의 넓이는: \", c*c*3.14, \"입니다.\")"
   ]
  },
  {
   "cell_type": "markdown",
   "id": "96b22725",
   "metadata": {},
   "source": [
    "매개변수 2개짜리 함수 - 덧셈 함수 만들기"
   ]
  },
  {
   "cell_type": "code",
   "execution_count": 10,
   "id": "050653c2",
   "metadata": {},
   "outputs": [],
   "source": [
    "def add(a,b):\n",
    "    return a+b"
   ]
  },
  {
   "cell_type": "code",
   "execution_count": 11,
   "id": "7853d47c",
   "metadata": {},
   "outputs": [
    {
     "name": "stdout",
     "output_type": "stream",
     "text": [
      "result:  13\n"
     ]
    }
   ],
   "source": [
    "result = add(10,3)\n",
    "print(\"result: \", result)"
   ]
  },
  {
   "cell_type": "code",
   "execution_count": 12,
   "id": "63e57b98",
   "metadata": {},
   "outputs": [
    {
     "data": {
      "text/plain": [
       "123457788"
      ]
     },
     "execution_count": 12,
     "metadata": {},
     "output_type": "execute_result"
    }
   ],
   "source": [
    "add (999, 123456789)"
   ]
  },
  {
   "cell_type": "markdown",
   "id": "ec5ec098",
   "metadata": {},
   "source": [
    "매개 변수 3개짜리 함수 - a: 시작, b: 끝, c: 증감 <br>\n",
    "interval이라는 이름의 함수를 만드세요 <br>\n",
    "숫자를 입력받아 시작, 끝, 증감이 반영되게 출력하세요. <br>\n",
    "interval(1,10,2) <br>\n",
    "1,3,5,7,9"
   ]
  },
  {
   "cell_type": "code",
   "execution_count": 13,
   "id": "e82162f0",
   "metadata": {},
   "outputs": [],
   "source": [
    "def num_maker(a,b,c):\n",
    "    print([i for i in range(a,b,c)])"
   ]
  },
  {
   "cell_type": "code",
   "execution_count": 14,
   "id": "fe5fc293",
   "metadata": {
    "scrolled": true
   },
   "outputs": [
    {
     "name": "stdout",
     "output_type": "stream",
     "text": [
      "[1, 3, 5, 7, 9]\n",
      "None\n",
      "<class 'NoneType'>\n"
     ]
    }
   ],
   "source": [
    "result = num_maker(1, 10, 2)\n",
    "print(result)\n",
    "print(type(result))"
   ]
  },
  {
   "cell_type": "code",
   "execution_count": 15,
   "id": "6f25b198",
   "metadata": {},
   "outputs": [
    {
     "ename": "TypeError",
     "evalue": "num_maker() missing 1 required positional argument: 'c'",
     "output_type": "error",
     "traceback": [
      "\u001b[1;31m---------------------------------------------------------------------------\u001b[0m",
      "\u001b[1;31mTypeError\u001b[0m                                 Traceback (most recent call last)",
      "Cell \u001b[1;32mIn[15], line 1\u001b[0m\n\u001b[1;32m----> 1\u001b[0m \u001b[43mnum_maker\u001b[49m\u001b[43m(\u001b[49m\u001b[38;5;241;43m2\u001b[39;49m\u001b[43m,\u001b[49m\u001b[43m \u001b[49m\u001b[38;5;241;43m500\u001b[39;49m\u001b[43m)\u001b[49m\n",
      "\u001b[1;31mTypeError\u001b[0m: num_maker() missing 1 required positional argument: 'c'"
     ]
    }
   ],
   "source": [
    "num_maker(2, 500)"
   ]
  },
  {
   "cell_type": "code",
   "execution_count": 16,
   "id": "bcac1a37",
   "metadata": {},
   "outputs": [
    {
     "name": "stdout",
     "output_type": "stream",
     "text": [
      "[1, 3, 5, 7, 9]\n"
     ]
    }
   ],
   "source": [
    "num_maker(1,10,2)"
   ]
  },
  {
   "cell_type": "code",
   "execution_count": 17,
   "id": "12f28e76",
   "metadata": {},
   "outputs": [
    {
     "name": "stdout",
     "output_type": "stream",
     "text": [
      "[1, 3, 5, 7, 9]\n",
      "None\n"
     ]
    }
   ],
   "source": [
    "result = num_maker(1,10,2)\n",
    "print(result)\n",
    "#리턴이 없으면 result에 입력 받지 못해"
   ]
  },
  {
   "cell_type": "code",
   "execution_count": 18,
   "id": "e5c23908",
   "metadata": {},
   "outputs": [],
   "source": [
    "def num_maker(a,b,c):\n",
    "    result=[i for i in range(a,b,c)]\n",
    "    return result"
   ]
  },
  {
   "cell_type": "code",
   "execution_count": 19,
   "id": "17323754",
   "metadata": {},
   "outputs": [
    {
     "name": "stdout",
     "output_type": "stream",
     "text": [
      "[1, 3, 5, 7, 9]\n",
      "<class 'list'>\n"
     ]
    }
   ],
   "source": [
    "result = num_maker(1,10,2)\n",
    "print(result)\n",
    "print(type(result))"
   ]
  },
  {
   "cell_type": "markdown",
   "id": "4787ce64",
   "metadata": {},
   "source": [
    "리턴값이 여러개인 함수"
   ]
  },
  {
   "cell_type": "code",
   "execution_count": 20,
   "id": "1acc3359",
   "metadata": {},
   "outputs": [],
   "source": [
    "def add_sub(a,b) :\n",
    "    add = a+b\n",
    "    sub = a-b\n",
    "    return add, sub"
   ]
  },
  {
   "cell_type": "code",
   "execution_count": 21,
   "id": "2476f0d4",
   "metadata": {},
   "outputs": [
    {
     "name": "stdout",
     "output_type": "stream",
     "text": [
      "<class 'tuple'>\n"
     ]
    }
   ],
   "source": [
    "result = add_sub(7,3)\n",
    "print(type(result))"
   ]
  },
  {
   "cell_type": "code",
   "execution_count": 22,
   "id": "c7300b64",
   "metadata": {},
   "outputs": [],
   "source": [
    "#여러개를 리턴할 경우에는 한나의 튜플로 묶어서 나온다"
   ]
  },
  {
   "cell_type": "code",
   "execution_count": 23,
   "id": "b98eb813",
   "metadata": {},
   "outputs": [],
   "source": [
    "#결과값이 정수가 아니라 리스트와 같은 여러개의 값으로 나올 수 도 있다.\n",
    "# 따라서 데이터 타입이 바뀔 수 있음 주의"
   ]
  },
  {
   "cell_type": "code",
   "execution_count": 24,
   "id": "38657710",
   "metadata": {},
   "outputs": [],
   "source": [
    "def num_maker(a,b,c):\n",
    "    result=[i for i in range(a,b,c)]\n",
    "    return result, result"
   ]
  },
  {
   "cell_type": "code",
   "execution_count": 25,
   "id": "6380d241",
   "metadata": {},
   "outputs": [
    {
     "name": "stdout",
     "output_type": "stream",
     "text": [
      "([1, 3, 5, 7, 9], [1, 3, 5, 7, 9])\n",
      "<class 'tuple'>\n"
     ]
    }
   ],
   "source": [
    "result = num_maker(1,10,2)\n",
    "print(result)\n",
    "print(type(result))  #괄호로 묶어서 튜플로 내보내지 않아도 알아서 튜플로 묶어서 나온다"
   ]
  },
  {
   "cell_type": "code",
   "execution_count": 26,
   "id": "494b5999",
   "metadata": {},
   "outputs": [
    {
     "ename": "NameError",
     "evalue": "name 'muls2' is not defined",
     "output_type": "error",
     "traceback": [
      "\u001b[1;31m---------------------------------------------------------------------------\u001b[0m",
      "\u001b[1;31mNameError\u001b[0m                                 Traceback (most recent call last)",
      "Cell \u001b[1;32mIn[26], line 1\u001b[0m\n\u001b[1;32m----> 1\u001b[0m \u001b[43mmuls2\u001b[49m(\u001b[38;5;241m*\u001b[39mL2, \u001b[38;5;241m3\u001b[39m)\n",
      "\u001b[1;31mNameError\u001b[0m: name 'muls2' is not defined"
     ]
    }
   ],
   "source": [
    "\n",
    "muls2(*L2, 3)"
   ]
  },
  {
   "cell_type": "code",
   "execution_count": 27,
   "id": "cfd9a8d5",
   "metadata": {},
   "outputs": [],
   "source": [
    "a=1\n",
    "b=3"
   ]
  },
  {
   "cell_type": "code",
   "execution_count": 28,
   "id": "5e71d76d",
   "metadata": {},
   "outputs": [],
   "source": [
    "t=a,b"
   ]
  },
  {
   "cell_type": "code",
   "execution_count": 29,
   "id": "f4661e5b",
   "metadata": {},
   "outputs": [
    {
     "data": {
      "text/plain": [
       "(1, 3)"
      ]
     },
     "execution_count": 29,
     "metadata": {},
     "output_type": "execute_result"
    }
   ],
   "source": [
    "t"
   ]
  },
  {
   "cell_type": "code",
   "execution_count": null,
   "id": "67f0ebf9",
   "metadata": {},
   "outputs": [],
   "source": []
  },
  {
   "cell_type": "code",
   "execution_count": 30,
   "id": "6164349c",
   "metadata": {},
   "outputs": [
    {
     "name": "stdout",
     "output_type": "stream",
     "text": [
      "<class 'tuple'> (0, 1)\n",
      "<class 'tuple'> (1, 2)\n",
      "<class 'tuple'> (2, 3)\n",
      "<class 'tuple'> (3, 4)\n",
      "<class 'tuple'> (4, 5)\n",
      "<class 'tuple'> (5, 6)\n",
      "<class 'tuple'> (6, 7)\n",
      "<class 'tuple'> (7, 8)\n",
      "<class 'tuple'> (8, 9)\n",
      "<class 'tuple'> (9, 10)\n"
     ]
    }
   ],
   "source": [
    "for i in enumerate(range(1,11)):\n",
    "    print(type(i),i)"
   ]
  },
  {
   "cell_type": "markdown",
   "id": "9d71c737",
   "metadata": {},
   "source": [
    "num_maker2- 정방향, 역방향 리스트 출력"
   ]
  },
  {
   "cell_type": "code",
   "execution_count": 31,
   "id": "21b914cd",
   "metadata": {},
   "outputs": [],
   "source": [
    "def num_maker2(a,b,c):\n",
    "    asc = [i for i in range(a,b,c)]\n",
    "    desc = [i for i in range(a,b,c)][::-1]\n",
    "    return asc, desc"
   ]
  },
  {
   "cell_type": "code",
   "execution_count": 32,
   "id": "4b2dcee2",
   "metadata": {},
   "outputs": [
    {
     "data": {
      "text/plain": [
       "([1, 3, 5, 7, 9], [9, 7, 5, 3, 1])"
      ]
     },
     "execution_count": 32,
     "metadata": {},
     "output_type": "execute_result"
    }
   ],
   "source": [
    "num_maker2(1,10,2)"
   ]
  },
  {
   "cell_type": "code",
   "execution_count": 33,
   "id": "cc481f45",
   "metadata": {},
   "outputs": [],
   "source": [
    "#여러개를 반환할 수 있는데, 사실 결국엔 튜플 한개이다! 튜플 한개로 반환되는 것.\n",
    "#리스트 두개가 튜플 한개로 묶여서 나온다"
   ]
  },
  {
   "cell_type": "markdown",
   "id": "a81c8890",
   "metadata": {},
   "source": [
    "## 4) 중간에 함수를 종료시키기 위한 용도의 return\n",
    "* 반복문에서 break로 반복을 중지시키는 것처럼 함수에서 return이 실행되면 함수는 종료\n"
   ]
  },
  {
   "cell_type": "markdown",
   "id": "9a6e944b",
   "metadata": {},
   "source": []
  },
  {
   "cell_type": "markdown",
   "id": "b4357258",
   "metadata": {},
   "source": [
    "1-10까지 숫자중에 짝수만 출력하다가 7이상이 되면 종료하기"
   ]
  },
  {
   "cell_type": "code",
   "execution_count": 34,
   "id": "25437db1",
   "metadata": {},
   "outputs": [],
   "source": [
    "age= range(1,11)"
   ]
  },
  {
   "cell_type": "code",
   "execution_count": 35,
   "id": "adccbeaa",
   "metadata": {},
   "outputs": [],
   "source": [
    "def even(a):\n",
    "    for i in a:\n",
    "        if i%2 == 0:\n",
    "            print(i, end = \" \")\n",
    "        elif i >=7:\n",
    "            break\n",
    "            "
   ]
  },
  {
   "cell_type": "code",
   "execution_count": 36,
   "id": "d486afc0",
   "metadata": {},
   "outputs": [],
   "source": [
    "def even2(a):\n",
    "    for i in a:\n",
    "        if i%2 == 0:\n",
    "            print(i, end = \" \")\n",
    "        elif i >=7:\n",
    "            return\n",
    "            "
   ]
  },
  {
   "cell_type": "code",
   "execution_count": 37,
   "id": "c4cc5e62",
   "metadata": {},
   "outputs": [
    {
     "name": "stdout",
     "output_type": "stream",
     "text": [
      "2 4 6 "
     ]
    }
   ],
   "source": [
    "even(age)"
   ]
  },
  {
   "cell_type": "code",
   "execution_count": 38,
   "id": "51d622a9",
   "metadata": {},
   "outputs": [
    {
     "name": "stdout",
     "output_type": "stream",
     "text": [
      "2 4 6 "
     ]
    }
   ],
   "source": [
    "even2(age)"
   ]
  },
  {
   "cell_type": "markdown",
   "id": "0e9504be",
   "metadata": {},
   "source": [
    "1-100까지 숫자 중에 홀수만 출력하다가 51번째에 종료하는 odd 함수를 만드세요."
   ]
  },
  {
   "cell_type": "code",
   "execution_count": 39,
   "id": "f9007bb8",
   "metadata": {},
   "outputs": [],
   "source": [
    "def odd(a):\n",
    "    print(\"a: \",a)\n",
    "    for i in a:\n",
    "        if i %2==1:\n",
    "            print(i, end = \" \")\n",
    "        elif i>=51:\n",
    "            return\n",
    "            "
   ]
  },
  {
   "cell_type": "code",
   "execution_count": 40,
   "id": "fb2b9a90",
   "metadata": {},
   "outputs": [
    {
     "name": "stdout",
     "output_type": "stream",
     "text": [
      "a:  range(1, 101)\n",
      "1 3 5 7 9 11 13 15 17 19 21 23 25 27 29 31 33 35 37 39 41 43 45 47 49 51 "
     ]
    }
   ],
   "source": [
    "a=range(1,101)\n",
    "odd(a)"
   ]
  },
  {
   "cell_type": "code",
   "execution_count": 41,
   "id": "bfef030a",
   "metadata": {},
   "outputs": [
    {
     "name": "stdout",
     "output_type": "stream",
     "text": [
      "a:  [1, 2, 3, 4, 5, 6, 7, 8, 9, 10, 11, 12, 13, 14, 15, 16, 17, 18, 19, 20, 21, 22, 23, 24, 25, 26, 27, 28, 29, 30, 31, 32, 33, 34, 35, 36, 37, 38, 39, 40, 41, 42, 43, 44, 45, 46, 47, 48, 49, 50, 51, 52, 53, 54, 55, 56, 57, 58, 59, 60, 61, 62, 63, 64, 65, 66, 67, 68, 69, 70, 71, 72, 73, 74, 75, 76, 77, 78, 79, 80, 81, 82, 83, 84, 85, 86, 87, 88, 89, 90, 91, 92, 93, 94, 95, 96, 97, 98, 99, 100]\n",
      "1 3 5 7 9 11 13 15 17 19 21 23 25 27 29 31 33 35 37 39 41 43 45 47 49 51 "
     ]
    }
   ],
   "source": [
    "h=list(range(1,101))\n",
    "odd(h)"
   ]
  },
  {
   "cell_type": "markdown",
   "id": "907c88b1",
   "metadata": {},
   "source": [
    "## 5) 함수에서 위치 인수와 키워드 인수 사용하기\n",
    "* 위치인수(positional argument)\n",
    "* 함수에 인수를 순서대로 넣는 방식\n",
    "* 인수의 위치가 정해져 있음\n"
   ]
  },
  {
   "cell_type": "raw",
   "id": "a777832d",
   "metadata": {},
   "source": []
  },
  {
   "cell_type": "code",
   "execution_count": 42,
   "id": "f379c46d",
   "metadata": {},
   "outputs": [],
   "source": [
    "#매개변수를 위치인수라고 함 값을 순서대로 넣어주어야함 (위치가 정해져 있음)\n",
    "#개수가 정해져 있을 때 인수 개수를 다르게 입력하면 오류 발생\n",
    "#위치인수가 정해져있는 함수에 리스트를 넣으면 에러가 난다"
   ]
  },
  {
   "cell_type": "code",
   "execution_count": 43,
   "id": "58fce7e3",
   "metadata": {},
   "outputs": [],
   "source": [
    "def print_nums(a,b,c):\n",
    "    print(a,b,c)"
   ]
  },
  {
   "cell_type": "code",
   "execution_count": 44,
   "id": "4a99fc6c",
   "metadata": {},
   "outputs": [
    {
     "name": "stdout",
     "output_type": "stream",
     "text": [
      "10 20 30\n"
     ]
    }
   ],
   "source": [
    "print_nums(10,20,30)"
   ]
  },
  {
   "cell_type": "markdown",
   "id": "57b96192",
   "metadata": {},
   "source": [
    "리스트, 튜플과 같은 자료형을 1개의 위치인수(매개변수)로 받을 때 위치 인수와 개수가 같으면 <br>\n",
    "'*' 로 언패킹 가능"
   ]
  },
  {
   "cell_type": "code",
   "execution_count": 45,
   "id": "c3bd5bed",
   "metadata": {},
   "outputs": [],
   "source": [
    "p= [10,20,30]"
   ]
  },
  {
   "cell_type": "code",
   "execution_count": 46,
   "id": "548ae430",
   "metadata": {},
   "outputs": [
    {
     "ename": "TypeError",
     "evalue": "print_nums() missing 2 required positional arguments: 'b' and 'c'",
     "output_type": "error",
     "traceback": [
      "\u001b[1;31m---------------------------------------------------------------------------\u001b[0m",
      "\u001b[1;31mTypeError\u001b[0m                                 Traceback (most recent call last)",
      "Cell \u001b[1;32mIn[46], line 1\u001b[0m\n\u001b[1;32m----> 1\u001b[0m \u001b[43mprint_nums\u001b[49m\u001b[43m(\u001b[49m\u001b[43mp\u001b[49m\u001b[43m)\u001b[49m\n",
      "\u001b[1;31mTypeError\u001b[0m: print_nums() missing 2 required positional arguments: 'b' and 'c'"
     ]
    }
   ],
   "source": [
    "print_nums(p)"
   ]
  },
  {
   "cell_type": "code",
   "execution_count": 47,
   "id": "026ccc3d",
   "metadata": {},
   "outputs": [],
   "source": [
    "#그대로 넣으면 에러가 나니까 요소 하나하나 풀어서 넣어줘야 함\n",
    "#3개를 받아야하는데, 한개만 들어와서 에러 발생\n",
    "# 리스트를 쪼개서 넣어주는 방법\n",
    "#개수가 정확하게 같을 경우에 별을 붙여주면 풀어서 요소만 넣어줌"
   ]
  },
  {
   "cell_type": "code",
   "execution_count": 48,
   "id": "d208e3d3",
   "metadata": {},
   "outputs": [
    {
     "name": "stdout",
     "output_type": "stream",
     "text": [
      "10 20 30\n"
     ]
    }
   ],
   "source": [
    "print_nums(p[0],p[1],p[2])"
   ]
  },
  {
   "cell_type": "code",
   "execution_count": 49,
   "id": "1e75368c",
   "metadata": {},
   "outputs": [
    {
     "name": "stdout",
     "output_type": "stream",
     "text": [
      "10 20 30\n"
     ]
    }
   ],
   "source": [
    "print_nums(*p) # 리스트 요소개수와 인수 개수가 맞으면 *사용해서 풀어 넣어줄 수 있다."
   ]
  },
  {
   "cell_type": "code",
   "execution_count": 50,
   "id": "8f7c04a7",
   "metadata": {},
   "outputs": [
    {
     "name": "stdout",
     "output_type": "stream",
     "text": [
      "10 20 30\n"
     ]
    }
   ],
   "source": [
    "print(*p)   #리스트가 아니라 각각의 요소가 풀어져서 나온다"
   ]
  },
  {
   "cell_type": "markdown",
   "id": "deddb72c",
   "metadata": {},
   "source": [
    "## 가변인수\n",
    "* 여러 개의 자료를 한 번에 입력 받음\n",
    "* *args => *변수명    -> 박스를 풀어라(통상적으로 변수이름 args 사용한다(arguments)"
   ]
  },
  {
   "cell_type": "code",
   "execution_count": 51,
   "id": "0bdfcd10",
   "metadata": {},
   "outputs": [],
   "source": [
    "#위치인수는 입력받는 개수가 정해져 있어서 반드시 맞춰서 넣어주어야함\n",
    "#하지만 가변 인수는 매개변수가 있는데도 불구하고 개수 상관없이 넣어도 다 값이 나온다\n",
    "#가변인수를 쓰기 때문에 가능\n",
    "#"
   ]
  },
  {
   "cell_type": "code",
   "execution_count": 52,
   "id": "3377e0f2",
   "metadata": {},
   "outputs": [
    {
     "name": "stdout",
     "output_type": "stream",
     "text": [
      "a b c d\n"
     ]
    }
   ],
   "source": [
    "print(\"a\", \"b\",\"c\",\"d\")"
   ]
  },
  {
   "cell_type": "code",
   "execution_count": 53,
   "id": "9e099622",
   "metadata": {},
   "outputs": [],
   "source": [
    "def my_print(*args):\n",
    "    for i in args:\n",
    "        print(i, end=\" \")"
   ]
  },
  {
   "cell_type": "code",
   "execution_count": 54,
   "id": "ab3014ac",
   "metadata": {},
   "outputs": [
    {
     "name": "stdout",
     "output_type": "stream",
     "text": [
      "2 4 5 1 파이썬 2 4 5 1 파이썬 <class 'NoneType'>\n"
     ]
    }
   ],
   "source": [
    "my_print(\"2\",\"4\",\"5\",1, '파이썬')\n",
    "print(type(my_print(\"2\",\"4\",\"5\",1, '파이썬')))"
   ]
  },
  {
   "cell_type": "markdown",
   "id": "3f098481",
   "metadata": {},
   "source": [
    "여러 개의 숫자를 입력받아 더하는 함수 (입력 개수가 정해져 있지 X)"
   ]
  },
  {
   "cell_type": "code",
   "execution_count": 55,
   "id": "5e01559b",
   "metadata": {},
   "outputs": [],
   "source": [
    "#입력 개수 제한 두지 않으려고 args사용\n",
    "#"
   ]
  },
  {
   "cell_type": "code",
   "execution_count": 56,
   "id": "12b8e7b7",
   "metadata": {},
   "outputs": [],
   "source": [
    "def sum(*args): \n",
    "    print(\"args:\", args)\n",
    "    print(type(args))\n",
    "    hap =0\n",
    "    for i in args:\n",
    "        hap += i\n",
    "    return hap"
   ]
  },
  {
   "cell_type": "code",
   "execution_count": 57,
   "id": "d5be8255",
   "metadata": {},
   "outputs": [],
   "source": [
    "def sum2(*args): \n",
    "    print(\"args:\", args)\n",
    "    print(type(args))\n",
    "#     hap =0\n",
    "#     for i in args:\n",
    "#         hap += i\n",
    "#     return hap"
   ]
  },
  {
   "cell_type": "code",
   "execution_count": 58,
   "id": "6f6c8776",
   "metadata": {},
   "outputs": [
    {
     "name": "stdout",
     "output_type": "stream",
     "text": [
      "args: (1, 1, 4, 6, 7, 8, 9, 2, 5, 6, 2, 2, 6, 4, 2, 6, 2, 2)\n",
      "<class 'tuple'>\n"
     ]
    }
   ],
   "source": [
    "sum2(1,1,4,6,7,8,9,2,5,6,2,2,6,4,2,6,2,2) #튜플로 변환이 된다 #반복가능 -> 반복문안에 넣어 하나씩 꺼낸다음"
   ]
  },
  {
   "cell_type": "code",
   "execution_count": 59,
   "id": "2b9cbfb0",
   "metadata": {},
   "outputs": [
    {
     "name": "stdout",
     "output_type": "stream",
     "text": [
      "args: (1, 1, 4, 6, 7, 8, 9, 2, 5, 6, 2, 2, 6, 4, 2, 6, 2, 2)\n",
      "<class 'tuple'>\n"
     ]
    },
    {
     "data": {
      "text/plain": [
       "75"
      ]
     },
     "execution_count": 59,
     "metadata": {},
     "output_type": "execute_result"
    }
   ],
   "source": [
    "sum(1, 1, 4, 6, 7, 8, 9, 2, 5, 6, 2, 2, 6, 4, 2, 6, 2, 2)"
   ]
  },
  {
   "cell_type": "code",
   "execution_count": 60,
   "id": "5a98e186",
   "metadata": {},
   "outputs": [
    {
     "name": "stdout",
     "output_type": "stream",
     "text": [
      "args: (1, 9, 8, 7)\n",
      "<class 'tuple'>\n"
     ]
    }
   ],
   "source": [
    "sum2(1,9,8,7)"
   ]
  },
  {
   "cell_type": "code",
   "execution_count": 61,
   "id": "cb614eb1",
   "metadata": {},
   "outputs": [
    {
     "name": "stdout",
     "output_type": "stream",
     "text": [
      "args: (1, 9)\n",
      "<class 'tuple'>\n"
     ]
    }
   ],
   "source": [
    "sum2(1,9)"
   ]
  },
  {
   "cell_type": "code",
   "execution_count": 62,
   "id": "1c6789b3",
   "metadata": {},
   "outputs": [
    {
     "name": "stdout",
     "output_type": "stream",
     "text": [
      "args: (1, 8, 8, 8, 8, 8, 8, 89)\n",
      "<class 'tuple'>\n"
     ]
    }
   ],
   "source": [
    "sum2(1,8,8,8,8,8,8,89)"
   ]
  },
  {
   "cell_type": "code",
   "execution_count": 63,
   "id": "c32ab047",
   "metadata": {},
   "outputs": [],
   "source": [
    "# 어떻게 가능할까?"
   ]
  },
  {
   "cell_type": "code",
   "execution_count": 1,
   "id": "b9aa29de",
   "metadata": {},
   "outputs": [],
   "source": [
    "def sum3(*nums):\n",
    "    return sum(nums)  #튜플도 썸함수 가능"
   ]
  },
  {
   "cell_type": "code",
   "execution_count": 2,
   "id": "5fa03fa6",
   "metadata": {},
   "outputs": [
    {
     "data": {
      "text/plain": [
       "75"
      ]
     },
     "execution_count": 2,
     "metadata": {},
     "output_type": "execute_result"
    }
   ],
   "source": [
    "sum3(1,1,4,6,7,8,9,2,5,6,2,2,6,4,2,6,2,2)"
   ]
  },
  {
   "cell_type": "code",
   "execution_count": 3,
   "id": "2c99572c",
   "metadata": {},
   "outputs": [],
   "source": [
    "L1=[1,1,4,5,6,7,5,8,99,4]  #형변환이 된게 아니라 겉에 하나 더 싼 것\n",
    "#안쪽에 숫자가 아니라 리스트가 나와버리니까 오류가 난 것\n",
    "#튜플에 들어갈땐 문제 없지만 계산에서 오류\n",
    "#가변함수에서 여러개 데이터 같이 받으려면 숫자 그대로 넣어주거나\n",
    "#리스트일경우에는 풀어서 넣어줘라\n",
    "#리스트푸는 방법? = 리스트 앞에 별을 붙여서 풀어라ㅠ"
   ]
  },
  {
   "cell_type": "code",
   "execution_count": 4,
   "id": "64be22de-3dab-4067-9efd-9d083891db0b",
   "metadata": {},
   "outputs": [],
   "source": [
    "\n",
    "def sum3(*nums):\n",
    "    print(type(nums))\n",
    "    print(\"nums: \", nums)\n",
    "    print(\"nums[0]: \", nums[0])\n",
    "    return sum(nums)"
   ]
  },
  {
   "cell_type": "code",
   "execution_count": 5,
   "id": "896ff330-cc13-4eae-aedc-51096526e2ed",
   "metadata": {
    "scrolled": true
   },
   "outputs": [
    {
     "name": "stdout",
     "output_type": "stream",
     "text": [
      "<class 'tuple'>\n",
      "nums:  ([1, 1, 4, 5, 6, 7, 5, 8, 99, 4],)\n",
      "nums[0]:  [1, 1, 4, 5, 6, 7, 5, 8, 99, 4]\n"
     ]
    },
    {
     "ename": "TypeError",
     "evalue": "unsupported operand type(s) for +: 'int' and 'list'",
     "output_type": "error",
     "traceback": [
      "\u001b[1;31m---------------------------------------------------------------------------\u001b[0m",
      "\u001b[1;31mTypeError\u001b[0m                                 Traceback (most recent call last)",
      "Cell \u001b[1;32mIn[5], line 1\u001b[0m\n\u001b[1;32m----> 1\u001b[0m sum3(L1)\n",
      "Cell \u001b[1;32mIn[4], line 5\u001b[0m, in \u001b[0;36msum3\u001b[1;34m(*nums)\u001b[0m\n\u001b[0;32m      3\u001b[0m \u001b[38;5;28mprint\u001b[39m(\u001b[38;5;124m\"\u001b[39m\u001b[38;5;124mnums: \u001b[39m\u001b[38;5;124m\"\u001b[39m, nums)\n\u001b[0;32m      4\u001b[0m \u001b[38;5;28mprint\u001b[39m(\u001b[38;5;124m\"\u001b[39m\u001b[38;5;124mnums[0]: \u001b[39m\u001b[38;5;124m\"\u001b[39m, nums[\u001b[38;5;241m0\u001b[39m])\n\u001b[1;32m----> 5\u001b[0m \u001b[38;5;28;01mreturn\u001b[39;00m \u001b[38;5;28msum\u001b[39m(nums)\n",
      "\u001b[1;31mTypeError\u001b[0m: unsupported operand type(s) for +: 'int' and 'list'"
     ]
    }
   ],
   "source": [
    "sum3(L1)"
   ]
  },
  {
   "cell_type": "code",
   "execution_count": 6,
   "id": "c83d31b4-a8ce-43f5-9983-6d830bb2b7ee",
   "metadata": {},
   "outputs": [
    {
     "name": "stdout",
     "output_type": "stream",
     "text": [
      "<class 'tuple'>\n",
      "nums:  (1, 1, 4, 5, 6, 7, 5, 8, 99, 4)\n",
      "nums[0]:  1\n"
     ]
    },
    {
     "data": {
      "text/plain": [
       "140"
      ]
     },
     "execution_count": 6,
     "metadata": {},
     "output_type": "execute_result"
    }
   ],
   "source": [
    "\n",
    "# sum3(1, 1, 4, 6, 7, 8, 9, 2, 5, 6, 2, 2, 6, 4, 2, 6, 2, 2)\n",
    "sum3(*L1)"
   ]
  },
  {
   "cell_type": "code",
   "execution_count": 67,
   "id": "af597023",
   "metadata": {},
   "outputs": [
    {
     "name": "stdout",
     "output_type": "stream",
     "text": [
      "1 1 4 5 6 7 5 8 99 4\n"
     ]
    }
   ],
   "source": [
    "print(*L1)"
   ]
  },
  {
   "cell_type": "code",
   "execution_count": 68,
   "id": "83a86825",
   "metadata": {},
   "outputs": [
    {
     "name": "stdout",
     "output_type": "stream",
     "text": [
      "1 1 4 6 7 8 9 2 5 6 2 2 6 4 2 6 2 2\n"
     ]
    }
   ],
   "source": [
    "print(*[1, 1, 4, 6, 7, 8, 9, 2, 5, 6, 2, 2, 6, 4, 2, 6, 2, 2])"
   ]
  },
  {
   "cell_type": "code",
   "execution_count": 69,
   "id": "d42f8312",
   "metadata": {},
   "outputs": [
    {
     "name": "stdout",
     "output_type": "stream",
     "text": [
      "([1, 1, 4, 5, 6, 7, 5, 8, 99, 4],)\n",
      "<class 'tuple'>\n",
      "args: (([1, 1, 4, 5, 6, 7, 5, 8, 99, 4],),)\n",
      "<class 'tuple'>\n"
     ]
    },
    {
     "ename": "TypeError",
     "evalue": "unsupported operand type(s) for +=: 'int' and 'tuple'",
     "output_type": "error",
     "traceback": [
      "\u001b[1;31m---------------------------------------------------------------------------\u001b[0m",
      "\u001b[1;31mTypeError\u001b[0m                                 Traceback (most recent call last)",
      "Cell \u001b[1;32mIn[69], line 1\u001b[0m\n\u001b[1;32m----> 1\u001b[0m \u001b[43msum3\u001b[49m\u001b[43m(\u001b[49m\u001b[43mL1\u001b[49m\u001b[43m)\u001b[49m  \u001b[38;5;66;03m#별 args로 받은게 아니기때문에 반복문에 넣을 수 있고, 썸함수도 가능\u001b[39;00m\n\u001b[0;32m      2\u001b[0m \u001b[38;5;66;03m# 하지만 가변인수는 들어가는 순간 튜플로 바뀌기 때문에 썸함수를 바로 슬 수 없다 -> 튜플 +튜플이 되어버리니까 계산이 되지 않는다\u001b[39;00m\n\u001b[0;32m      3\u001b[0m \u001b[38;5;66;03m#계산이 되게 하려면 함수를 고치는 방법 뿐\u001b[39;00m\n",
      "Cell \u001b[1;32mIn[64], line 4\u001b[0m, in \u001b[0;36msum3\u001b[1;34m(*nums)\u001b[0m\n\u001b[0;32m      2\u001b[0m \u001b[38;5;28mprint\u001b[39m(nums)\n\u001b[0;32m      3\u001b[0m \u001b[38;5;28mprint\u001b[39m(\u001b[38;5;28mtype\u001b[39m(nums))\n\u001b[1;32m----> 4\u001b[0m \u001b[38;5;28;01mreturn\u001b[39;00m \u001b[38;5;28;43msum\u001b[39;49m\u001b[43m(\u001b[49m\u001b[43mnums\u001b[49m\u001b[43m)\u001b[49m\n",
      "Cell \u001b[1;32mIn[56], line 6\u001b[0m, in \u001b[0;36msum\u001b[1;34m(*args)\u001b[0m\n\u001b[0;32m      4\u001b[0m hap \u001b[38;5;241m=\u001b[39m\u001b[38;5;241m0\u001b[39m\n\u001b[0;32m      5\u001b[0m \u001b[38;5;28;01mfor\u001b[39;00m i \u001b[38;5;129;01min\u001b[39;00m args:\n\u001b[1;32m----> 6\u001b[0m     hap \u001b[38;5;241m+\u001b[39m\u001b[38;5;241m=\u001b[39m i\n\u001b[0;32m      7\u001b[0m \u001b[38;5;28;01mreturn\u001b[39;00m hap\n",
      "\u001b[1;31mTypeError\u001b[0m: unsupported operand type(s) for +=: 'int' and 'tuple'"
     ]
    }
   ],
   "source": [
    "sum3(L1)  #별 args로 받은게 아니기때문에 반복문에 넣을 수 있고, 썸함수도 가능\n",
    "# 하지만 가변인수는 들어가는 순간 튜플로 바뀌기 때문에 썸함수를 바로 슬 수 없다 -> 튜플 +튜플이 되어버리니까 계산이 되지 않는다\n",
    "#계산이 되게 하려면 함수를 고치는 방법 뿐"
   ]
  },
  {
   "cell_type": "code",
   "execution_count": 70,
   "id": "6d96aa87",
   "metadata": {},
   "outputs": [],
   "source": [
    "L1=[1,1,4,5,6,7,5,8,99,4] "
   ]
  },
  {
   "cell_type": "code",
   "execution_count": 74,
   "id": "72699402",
   "metadata": {},
   "outputs": [],
   "source": [
    "#리스트는 더할 수 없어서 에러 발생"
   ]
  },
  {
   "cell_type": "code",
   "execution_count": 75,
   "id": "46fcef0b",
   "metadata": {},
   "outputs": [],
   "source": [
    "def list_tuple_func(*args):\n",
    "    print(args)\n",
    "    print(type(args))"
   ]
  },
  {
   "cell_type": "code",
   "execution_count": 76,
   "id": "f44a83a2",
   "metadata": {},
   "outputs": [
    {
     "name": "stdout",
     "output_type": "stream",
     "text": [
      "(1, 2, 3, 4, 5)\n",
      "<class 'tuple'>\n"
     ]
    }
   ],
   "source": [
    "list_tuple_func(1,2,3,4,5)"
   ]
  },
  {
   "cell_type": "code",
   "execution_count": 77,
   "id": "434f7f05",
   "metadata": {},
   "outputs": [
    {
     "name": "stdout",
     "output_type": "stream",
     "text": [
      "(1.1, 2.2, 3.3, 4.4, 5.5)\n",
      "<class 'tuple'>\n"
     ]
    }
   ],
   "source": [
    "list_tuple_func(1.1,2.2,3.3,4.4,5.5)"
   ]
  },
  {
   "cell_type": "code",
   "execution_count": 78,
   "id": "aa336eff",
   "metadata": {},
   "outputs": [
    {
     "name": "stdout",
     "output_type": "stream",
     "text": [
      "([1, 2, 3], [4, 5, 6], [7, 8, 9])\n",
      "<class 'tuple'>\n"
     ]
    }
   ],
   "source": [
    "list_tuple_func([1,2,3],[4,5,6],[7,8,9])"
   ]
  },
  {
   "cell_type": "code",
   "execution_count": 79,
   "id": "316f90ce",
   "metadata": {},
   "outputs": [
    {
     "name": "stdout",
     "output_type": "stream",
     "text": [
      "({'a': 1, 'b': 2, 'c': 3},)\n",
      "<class 'tuple'>\n"
     ]
    }
   ],
   "source": [
    "list_tuple_func(dict (a=1, b=2, c=3))"
   ]
  },
  {
   "cell_type": "code",
   "execution_count": null,
   "id": "950e9f30",
   "metadata": {},
   "outputs": [],
   "source": [
    "#args로 받을때는 인수로 어떤 타입을 받는지 확인하고 그에 맞는 조치를 해야한다"
   ]
  },
  {
   "cell_type": "markdown",
   "id": "51533181",
   "metadata": {},
   "source": [
    "## 고정인수와 가변인수 함께 사용하기"
   ]
  },
  {
   "cell_type": "markdown",
   "id": "e9524b9c",
   "metadata": {},
   "source": [
    "* 고정인수와 가변인수를 함께 사용할 때는 반드시\n",
    "* 고정인수, 가변인수 순으로 넣고 가변인수는 항상 가장 마지막에 넣는다.\n",
    "\n",
    "def sum(a, *args): 0 <br>\n",
    "der sum(*args, a): X"
   ]
  },
  {
   "cell_type": "markdown",
   "id": "cbc65416",
   "metadata": {},
   "source": [
    "정수와 리스트를 입력받아 리스트의 요소에 <br>\n",
    "입력받은 정수를 곱한 값의 리스트를 반환하는 함수 <br>\n",
    "3, [1,2,3,4,5] => [3,6,9,12,15]"
   ]
  },
  {
   "cell_type": "code",
   "execution_count": 80,
   "id": "83090779",
   "metadata": {},
   "outputs": [],
   "source": [
    "def muls(a, *args) :\n",
    "    result = []\n",
    "    for num in args:\n",
    "        print(a * num, end= \" \")\n",
    "        result.append(a *num)\n",
    "    return result\n",
    "        "
   ]
  },
  {
   "cell_type": "code",
   "execution_count": 81,
   "id": "3d4274e1",
   "metadata": {},
   "outputs": [],
   "source": [
    "L2 =[1,2,3,4,5]"
   ]
  },
  {
   "cell_type": "code",
   "execution_count": 82,
   "id": "42103040",
   "metadata": {},
   "outputs": [
    {
     "name": "stdout",
     "output_type": "stream",
     "text": [
      "3 6 9 12 15 "
     ]
    },
    {
     "data": {
      "text/plain": [
       "[3, 6, 9, 12, 15]"
      ]
     },
     "execution_count": 82,
     "metadata": {},
     "output_type": "execute_result"
    }
   ],
   "source": [
    "muls(3, *L2)"
   ]
  },
  {
   "cell_type": "code",
   "execution_count": 83,
   "id": "9891a644",
   "metadata": {},
   "outputs": [
    {
     "name": "stdout",
     "output_type": "stream",
     "text": [
      "3 6 9 12 15 "
     ]
    },
    {
     "data": {
      "text/plain": [
       "[3, 6, 9, 12, 15]"
      ]
     },
     "execution_count": 83,
     "metadata": {},
     "output_type": "execute_result"
    }
   ],
   "source": [
    "muls(3, *[1,2,3,4,5])"
   ]
  },
  {
   "cell_type": "code",
   "execution_count": 84,
   "id": "a76c01eb",
   "metadata": {},
   "outputs": [
    {
     "name": "stdout",
     "output_type": "stream",
     "text": [
      "[1, 2, 3, 4, 5, 1, 2, 3, 4, 5, 1, 2, 3, 4, 5] "
     ]
    },
    {
     "data": {
      "text/plain": [
       "[[1, 2, 3, 4, 5, 1, 2, 3, 4, 5, 1, 2, 3, 4, 5]]"
      ]
     },
     "execution_count": 84,
     "metadata": {},
     "output_type": "execute_result"
    }
   ],
   "source": [
    "muls(3, [1,2,3,4,5])"
   ]
  },
  {
   "cell_type": "code",
   "execution_count": 85,
   "id": "618e6f86",
   "metadata": {},
   "outputs": [
    {
     "name": "stdout",
     "output_type": "stream",
     "text": [
      "3 6 9 12 15 "
     ]
    },
    {
     "data": {
      "text/plain": [
       "[3, 6, 9, 12, 15]"
      ]
     },
     "execution_count": 85,
     "metadata": {},
     "output_type": "execute_result"
    }
   ],
   "source": [
    "muls(3, 1,2,3,4,5)"
   ]
  },
  {
   "cell_type": "markdown",
   "id": "e170a285",
   "metadata": {},
   "source": [
    "가변인수는 함수의 젤 끝에 넣어야 한다 # 가변인수가 앞에오면 에러"
   ]
  },
  {
   "cell_type": "code",
   "execution_count": 86,
   "id": "d2325bba",
   "metadata": {},
   "outputs": [],
   "source": [
    "def muls2(*args, a):\n",
    "    result = []\n",
    "    for num in args:\n",
    "        print(a * num, end=\" \")\n",
    "        result.append(a * num)\n",
    "    return result"
   ]
  },
  {
   "cell_type": "code",
   "execution_count": 87,
   "id": "a59177f0",
   "metadata": {},
   "outputs": [
    {
     "ename": "TypeError",
     "evalue": "muls2() missing 1 required keyword-only argument: 'a'",
     "output_type": "error",
     "traceback": [
      "\u001b[1;31m---------------------------------------------------------------------------\u001b[0m",
      "\u001b[1;31mTypeError\u001b[0m                                 Traceback (most recent call last)",
      "Cell \u001b[1;32mIn[87], line 1\u001b[0m\n\u001b[1;32m----> 1\u001b[0m \u001b[43mmuls2\u001b[49m\u001b[43m(\u001b[49m\u001b[38;5;241;43m*\u001b[39;49m\u001b[43mL2\u001b[49m\u001b[43m,\u001b[49m\u001b[43m \u001b[49m\u001b[38;5;241;43m3\u001b[39;49m\u001b[43m)\u001b[49m\n",
      "\u001b[1;31mTypeError\u001b[0m: muls2() missing 1 required keyword-only argument: 'a'"
     ]
    }
   ],
   "source": [
    "muls2(*L2, 3)"
   ]
  },
  {
   "cell_type": "code",
   "execution_count": null,
   "id": "89e4e415",
   "metadata": {},
   "outputs": [],
   "source": []
  },
  {
   "cell_type": "markdown",
   "id": "a8559642-4557-453f-ad3c-1b368c4725db",
   "metadata": {},
   "source": [
    "## 키워드 인수"
   ]
  },
  {
   "cell_type": "markdown",
   "id": "2a9febc3",
   "metadata": {},
   "source": [
    "### 개인정보를 출력하는 함수"
   ]
  },
  {
   "cell_type": "code",
   "execution_count": 88,
   "id": "ea69e660",
   "metadata": {},
   "outputs": [],
   "source": [
    "def personal_info(name, age, address):\n",
    "    print('이름: ', name)\n",
    "    print('나이: ', age)\n",
    "    print('주소: ', address)"
   ]
  },
  {
   "cell_type": "code",
   "execution_count": 89,
   "id": "019db3d7",
   "metadata": {},
   "outputs": [
    {
     "name": "stdout",
     "output_type": "stream",
     "text": [
      "이름:  홍길동\n",
      "나이:  30\n",
      "주소:  서울시 강남구\n"
     ]
    }
   ],
   "source": [
    "personal_info('홍길동', 30, '서울시 강남구')"
   ]
  },
  {
   "cell_type": "code",
   "execution_count": 90,
   "id": "a39c6a07",
   "metadata": {},
   "outputs": [],
   "source": [
    "#변수 기억해서 맞춰 넣는 것이 까다롭기에 keyword argument를 사용한다"
   ]
  },
  {
   "cell_type": "markdown",
   "id": "8354df00",
   "metadata": {},
   "source": [
    "* 위의 함수는 인수의 순서를 모두 기억해야 하기 때문에 사용하기 어려움\n",
    "* 인수의 순서와 용도를 매번 기억하지 않도록 하기 위해서 키워드 인수(keyword argument)사용\n",
    "*  예) print(\"python\", sep=\" \", end=\"\\n\")  -> sep, end => 키워드 인수"
   ]
  },
  {
   "cell_type": "code",
   "execution_count": 91,
   "id": "4330abbc",
   "metadata": {},
   "outputs": [
    {
     "data": {
      "text/plain": [
       "{'key': 'value'}"
      ]
     },
     "execution_count": 91,
     "metadata": {},
     "output_type": "execute_result"
    }
   ],
   "source": [
    "dict(key='value')"
   ]
  },
  {
   "cell_type": "markdown",
   "id": "d6c605ea",
   "metadata": {},
   "source": [
    "personal_info 함수를 키워드 인수 방식으로 호출"
   ]
  },
  {
   "cell_type": "code",
   "execution_count": 92,
   "id": "613dbe5a",
   "metadata": {},
   "outputs": [
    {
     "name": "stdout",
     "output_type": "stream",
     "text": [
      "이름:  홍길동\n",
      "나이:  30\n",
      "주소:  서울시 강남구\n"
     ]
    }
   ],
   "source": [
    "personal_info(name='홍길동', age=30, address =\"서울시 강남구\")"
   ]
  },
  {
   "cell_type": "markdown",
   "id": "69a1e9ee",
   "metadata": {},
   "source": [
    "키워드 인수 방식으로 함수를 호출하면 인수 순서나 위치가 바뀌어도 동작"
   ]
  },
  {
   "cell_type": "code",
   "execution_count": 93,
   "id": "c681809c",
   "metadata": {},
   "outputs": [
    {
     "name": "stdout",
     "output_type": "stream",
     "text": [
      "python : hello\t"
     ]
    }
   ],
   "source": [
    "print(\"python\",\"hello\", end =\"\\t\", sep=\" : \")"
   ]
  },
  {
   "cell_type": "code",
   "execution_count": 94,
   "id": "4585d6e6",
   "metadata": {},
   "outputs": [
    {
     "data": {
      "text/plain": [
       "{'address': '서울시 강남구', 'name': '홍길동', 'age': 30}"
      ]
     },
     "execution_count": 94,
     "metadata": {},
     "output_type": "execute_result"
    }
   ],
   "source": [
    "dict(address=\"서울시 강남구\", name='홍길동', age=30)"
   ]
  },
  {
   "cell_type": "code",
   "execution_count": 96,
   "id": "8519476a",
   "metadata": {},
   "outputs": [],
   "source": [
    "def my_print2( end, sep, *args):\n",
    "    print(args)\n",
    "    pass"
   ]
  },
  {
   "cell_type": "code",
   "execution_count": 97,
   "id": "2049cee4",
   "metadata": {},
   "outputs": [
    {
     "name": "stdout",
     "output_type": "stream",
     "text": [
      "(3, 4)\n"
     ]
    }
   ],
   "source": [
    "my_print2(1,2,3,4)"
   ]
  },
  {
   "cell_type": "code",
   "execution_count": 98,
   "id": "4d17fb3c",
   "metadata": {},
   "outputs": [],
   "source": [
    "#딕셔너리 언패킹 -> 별두개주기 -> 키와 벨류 두개이니까 **"
   ]
  },
  {
   "cell_type": "markdown",
   "id": "732430e6",
   "metadata": {},
   "source": [
    "키워드, 인수를 사용하는 가변인수 함수 만들기 <br>\n",
    "def 함수이름(**kwargs):   keysord arguments<br>\n",
    "____코드 <br>\n",
    "____return"
   ]
  },
  {
   "cell_type": "code",
   "execution_count": 8,
   "id": "d4c0b0de",
   "metadata": {},
   "outputs": [],
   "source": [
    "def personal_info2(**kwargs):\n",
    "    print(\"kwargs:\", kwargs)\n",
    "    print(\"kwargs type:\", type(kwargs))"
   ]
  },
  {
   "cell_type": "code",
   "execution_count": 9,
   "id": "063c4145",
   "metadata": {},
   "outputs": [
    {
     "name": "stdout",
     "output_type": "stream",
     "text": [
      "kwargs: {'name': '홍길동'}\n",
      "kwargs type: <class 'dict'>\n"
     ]
    }
   ],
   "source": [
    "personal_info2(name='홍길동')"
   ]
  },
  {
   "cell_type": "code",
   "execution_count": 10,
   "id": "b2dd2e99",
   "metadata": {
    "scrolled": true
   },
   "outputs": [
    {
     "name": "stdout",
     "output_type": "stream",
     "text": [
      "kwargs: {'name': '홍길동', 'age': 30, 'address': '서울시 강남구', 'school': '강남 고등학교'}\n",
      "kwargs type: <class 'dict'>\n"
     ]
    }
   ],
   "source": [
    "personal_info2(name='홍길동', age=30, address='서울시 강남구', school=\"강남 고등학교\")"
   ]
  },
  {
   "cell_type": "code",
   "execution_count": 11,
   "id": "929ef25e",
   "metadata": {},
   "outputs": [
    {
     "name": "stdout",
     "output_type": "stream",
     "text": [
      "kwargs: {'name': '홍길동', 'age': 30, 'address': '서울시 강남구', 'school': '강남 고등학교'}\n",
      "kwargs type: <class 'dict'>\n"
     ]
    }
   ],
   "source": [
    "d=personal_info2(name='홍길동', age=30, address='서울시 강남구', school=\"강남 고등학교\")\n",
    "d"
   ]
  },
  {
   "cell_type": "code",
   "execution_count": 13,
   "id": "d2c664a0",
   "metadata": {},
   "outputs": [
    {
     "ename": "TypeError",
     "evalue": "__main__.personal_info2() argument after ** must be a mapping, not NoneType",
     "output_type": "error",
     "traceback": [
      "\u001b[1;31m---------------------------------------------------------------------------\u001b[0m",
      "\u001b[1;31mTypeError\u001b[0m                                 Traceback (most recent call last)",
      "Cell \u001b[1;32mIn[13], line 1\u001b[0m\n\u001b[1;32m----> 1\u001b[0m personal_info2(\u001b[38;5;241m*\u001b[39m\u001b[38;5;241m*\u001b[39md)\n",
      "\u001b[1;31mTypeError\u001b[0m: __main__.personal_info2() argument after ** must be a mapping, not NoneType"
     ]
    }
   ],
   "source": [
    "\n",
    "personal_info2(**d)"
   ]
  },
  {
   "cell_type": "code",
   "execution_count": 14,
   "id": "fb5bc686",
   "metadata": {},
   "outputs": [],
   "source": [
    "\n",
    "def personal_info3(**kwargs):\n",
    "    print(\"kwargs:\", kwargs)\n",
    "    print(\"kwargs type:\", type(kwargs))\n",
    "    for key, value in kwargs.items():\n",
    "        print(key, value)"
   ]
  },
  {
   "cell_type": "code",
   "execution_count": 17,
   "id": "e36f111e",
   "metadata": {},
   "outputs": [
    {
     "ename": "TypeError",
     "evalue": "__main__.personal_info3() argument after ** must be a mapping, not NoneType",
     "output_type": "error",
     "traceback": [
      "\u001b[1;31m---------------------------------------------------------------------------\u001b[0m",
      "\u001b[1;31mTypeError\u001b[0m                                 Traceback (most recent call last)",
      "Cell \u001b[1;32mIn[17], line 1\u001b[0m\n\u001b[1;32m----> 1\u001b[0m personal_info3(\u001b[38;5;241m*\u001b[39m\u001b[38;5;241m*\u001b[39md)\n",
      "\u001b[1;31mTypeError\u001b[0m: __main__.personal_info3() argument after ** must be a mapping, not NoneType"
     ]
    }
   ],
   "source": [
    "personal_info3(**d)"
   ]
  },
  {
   "cell_type": "markdown",
   "id": "3d00c369",
   "metadata": {},
   "source": [
    "고정인수와 키워드 가변인수 함께 사용하기\n",
    "* 고정인수, **킹워드 인수 순으로 와야함"
   ]
  },
  {
   "cell_type": "code",
   "execution_count": 110,
   "id": "c8db62cf",
   "metadata": {},
   "outputs": [],
   "source": [
    "def personal_info4 (name,**kwargs):\n",
    "    print(\"name:\",name)\n",
    "    print(\"kwargs:\", kwargs)"
   ]
  },
  {
   "cell_type": "code",
   "execution_count": 111,
   "id": "6ed9d085",
   "metadata": {},
   "outputs": [
    {
     "name": "stdout",
     "output_type": "stream",
     "text": [
      "name: 홍길동\n",
      "kwargs: {}\n"
     ]
    }
   ],
   "source": [
    "personal_info4('홍길동') #고정인수만 넣어준것"
   ]
  },
  {
   "cell_type": "code",
   "execution_count": 112,
   "id": "303e6bc3",
   "metadata": {},
   "outputs": [
    {
     "name": "stdout",
     "output_type": "stream",
     "text": [
      "name: 홍길동\n",
      "kwargs: {'age': 30, 'address': '서울시 강남구'}\n"
     ]
    }
   ],
   "source": [
    "personal_info4('홍길동', age=30, address='서울시 강남구') #고정인수, 키워드인수 둘다 넣어준것"
   ]
  },
  {
   "cell_type": "code",
   "execution_count": 113,
   "id": "c61e2c22",
   "metadata": {},
   "outputs": [
    {
     "ename": "TypeError",
     "evalue": "personal_info4() missing 1 required positional argument: 'name'",
     "output_type": "error",
     "traceback": [
      "\u001b[1;31m---------------------------------------------------------------------------\u001b[0m",
      "\u001b[1;31mTypeError\u001b[0m                                 Traceback (most recent call last)",
      "Cell \u001b[1;32mIn[113], line 1\u001b[0m\n\u001b[1;32m----> 1\u001b[0m \u001b[43mpersonal_info4\u001b[49m\u001b[43m(\u001b[49m\u001b[43maddress\u001b[49m\u001b[38;5;241;43m=\u001b[39;49m\u001b[38;5;124;43m'\u001b[39;49m\u001b[38;5;124;43m서울시 강남구\u001b[39;49m\u001b[38;5;124;43m'\u001b[39;49m\u001b[43m)\u001b[49m\n",
      "\u001b[1;31mTypeError\u001b[0m: personal_info4() missing 1 required positional argument: 'name'"
     ]
    }
   ],
   "source": [
    "personal_info4(address='서울시 강남구') # 고정인수빼고 넣으면 에러가 난다 #무조건 넣어 주어야 한다\n",
    "#키워드인수는 안넣어도 문제되지 않는다."
   ]
  },
  {
   "cell_type": "code",
   "execution_count": null,
   "id": "df1616bb",
   "metadata": {},
   "outputs": [],
   "source": [
    "#고정이누로 들어갔지만 키워드 인수처럼 홏출해서 넣을수 있다?"
   ]
  },
  {
   "cell_type": "code",
   "execution_count": 114,
   "id": "fd084079",
   "metadata": {},
   "outputs": [
    {
     "name": "stdout",
     "output_type": "stream",
     "text": [
      "name: 홍길동\n",
      "kwargs: {'age': 30, 'address': '서울시 강남구'}\n"
     ]
    }
   ],
   "source": [
    "personal_info4(name='홍길동', age=30, address='서울시 강남구') "
   ]
  },
  {
   "cell_type": "code",
   "execution_count": null,
   "id": "754c3a15",
   "metadata": {},
   "outputs": [],
   "source": [
    "#고정인수로 넣었지만 딕트로 만들어 넣은 다음에 퍼스널인포4에 그대로 넣어 언패킹해도 작동 된다"
   ]
  },
  {
   "cell_type": "code",
   "execution_count": 117,
   "id": "01e179fe",
   "metadata": {},
   "outputs": [
    {
     "data": {
      "text/plain": [
       "{'name': '홍길동', 'age': 30, 'address': '서울시 강남구'}"
      ]
     },
     "execution_count": 117,
     "metadata": {},
     "output_type": "execute_result"
    }
   ],
   "source": [
    "d2=dict(name='홍길동', age=30, address='서울시 강남구')\n",
    "d2"
   ]
  },
  {
   "cell_type": "code",
   "execution_count": 118,
   "id": "6be9db6f",
   "metadata": {},
   "outputs": [
    {
     "name": "stdout",
     "output_type": "stream",
     "text": [
      "name: 홍길동\n",
      "kwargs: {'age': 30, 'address': '서울시 강남구'}\n"
     ]
    }
   ],
   "source": [
    "personal_info4(**d2)"
   ]
  },
  {
   "cell_type": "markdown",
   "id": "0635ef6f",
   "metadata": {},
   "source": [
    "#가변인수와 가변키워드인수를 함께쓰기\n",
    "* def 함수명 (*args, **kwargs):\n",
    "* def 함수명(고정인자, *args, **kwargs):"
   ]
  },
  {
   "cell_type": "code",
   "execution_count": 18,
   "id": "4038d1e6-2d60-412b-abcd-f789d33f55fe",
   "metadata": {},
   "outputs": [
    {
     "name": "stdout",
     "output_type": "stream",
     "text": [
      "(1, 2, 3) {'sep': ' !! ', 'end': ''}\n",
      "1 !! 2 !! 3"
     ]
    }
   ],
   "source": [
    "\n",
    "def custom_print(*args, **kwargs):\n",
    "    print(args, kwargs)\n",
    "    print(*args, **kwargs)\n",
    "custom_print(1,2,3, sep=\" !! \", end=\"\")"
   ]
  },
  {
   "cell_type": "code",
   "execution_count": 120,
   "id": "578a2a02",
   "metadata": {},
   "outputs": [
    {
     "name": "stdout",
     "output_type": "stream",
     "text": [
      "1 !! 2 !! 3"
     ]
    }
   ],
   "source": [
    "def custom_print(*args, **kwargs):\n",
    "    print(*args, **kwargs)\n",
    "custom_print(1,2,3, sep=\" !! \", end=\"\")"
   ]
  },
  {
   "cell_type": "code",
   "execution_count": 19,
   "id": "cbe5934d",
   "metadata": {},
   "outputs": [
    {
     "ename": "SyntaxError",
     "evalue": "arguments cannot follow var-keyword argument (3960988667.py, line 1)",
     "output_type": "error",
     "traceback": [
      "\u001b[1;36m  Cell \u001b[1;32mIn[19], line 1\u001b[1;36m\u001b[0m\n\u001b[1;33m    def custom_print(**kwargs, *args):\u001b[0m\n\u001b[1;37m                               ^\u001b[0m\n\u001b[1;31mSyntaxError\u001b[0m\u001b[1;31m:\u001b[0m arguments cannot follow var-keyword argument\n"
     ]
    }
   ],
   "source": [
    "\n",
    "def custom_print(**kwargs, *args):\n",
    "    print(args, kwargs)\n",
    "    print(*args, **kwargs)\n",
    "custom_print(sep=\" !! \", end=\"\", 1,2,3, )"
   ]
  },
  {
   "cell_type": "code",
   "execution_count": null,
   "id": "70ced0c4",
   "metadata": {},
   "outputs": [],
   "source": []
  },
  {
   "cell_type": "markdown",
   "id": "f1b0d700",
   "metadata": {},
   "source": [
    "매개변수 = 함수 내에서 사용되는 변수\n",
    "* 위치인수 : 위치가 고정된 , 위치인수는 키워드 인수로 사용가능(변수명=값)\n",
    "* 가변 인수: 여러 개의 자료를 동시에 받을 수 있는  => 받고나면 튜플로 들어옴\n",
    "* 키워드 가변인수: 여러개의 자료를 동시에 받을 수 있는데 key=value 형태로 받는 매개변수 -> dict로 들어옴\n"
   ]
  },
  {
   "cell_type": "markdown",
   "id": "d2966ace",
   "metadata": {},
   "source": [
    "매개변수에 초기값 지정하기\n",
    "* 초기값이 지정된 매개변수는 반드시 가장 마지막에 와야 함\n",
    "* "
   ]
  },
  {
   "cell_type": "code",
   "execution_count": 125,
   "id": "ef529e6c",
   "metadata": {},
   "outputs": [],
   "source": [
    "def personal_info5(name, age,address=\"비공개\") :\n",
    "    print('이름: ', name)\n",
    "    print('나이: ', age)\n",
    "    print('주소: ', address)"
   ]
  },
  {
   "cell_type": "code",
   "execution_count": 127,
   "id": "d5b46b6a",
   "metadata": {},
   "outputs": [
    {
     "name": "stdout",
     "output_type": "stream",
     "text": [
      "이름:  홍길동\n",
      "나이:  30\n",
      "주소:  서울시 강남구\n"
     ]
    }
   ],
   "source": [
    "personal_info5('홍길동', 30, '서울시 강남구')"
   ]
  },
  {
   "cell_type": "code",
   "execution_count": 128,
   "id": "ccea4161",
   "metadata": {},
   "outputs": [
    {
     "name": "stdout",
     "output_type": "stream",
     "text": [
      "이름:  홍길동\n",
      "나이:  30\n",
      "주소:  비공개\n"
     ]
    }
   ],
   "source": [
    "personal_info5('홍길동', 30) #자료를 안 넣어도 기본값으로 등록되어있어"
   ]
  },
  {
   "cell_type": "code",
   "execution_count": 129,
   "id": "ed2b211d",
   "metadata": {},
   "outputs": [
    {
     "ename": "SyntaxError",
     "evalue": "non-default argument follows default argument (3583390063.py, line 1)",
     "output_type": "error",
     "traceback": [
      "\u001b[1;36m  Cell \u001b[1;32mIn[129], line 1\u001b[1;36m\u001b[0m\n\u001b[1;33m    def personal_info6(name, address=\"비공개\", age) :\u001b[0m\n\u001b[1;37m                                            ^\u001b[0m\n\u001b[1;31mSyntaxError\u001b[0m\u001b[1;31m:\u001b[0m non-default argument follows default argument\n"
     ]
    }
   ],
   "source": [
    "def personal_info6(name, address=\"비공개\", age) :\n",
    "    print('이름: ', name)\n",
    "    print('나이: ', age)\n",
    "    print('주소: ', address)"
   ]
  },
  {
   "cell_type": "code",
   "execution_count": null,
   "id": "23f6e730",
   "metadata": {},
   "outputs": [],
   "source": [
    "# 기본값이 있는 변수는 제일 뒤로 보내야한다. 아니면 에러"
   ]
  },
  {
   "cell_type": "code",
   "execution_count": 132,
   "id": "44209d1f",
   "metadata": {},
   "outputs": [
    {
     "ename": "SyntaxError",
     "evalue": "invalid syntax (1793752091.py, line 2)",
     "output_type": "error",
     "traceback": [
      "\u001b[1;36m  Cell \u001b[1;32mIn[132], line 2\u001b[1;36m\u001b[0m\n\u001b[1;33m    def personal_info6(name, **kwargs, address=\"비공개\") :\u001b[0m\n\u001b[1;37m                                       ^\u001b[0m\n\u001b[1;31mSyntaxError\u001b[0m\u001b[1;31m:\u001b[0m invalid syntax\n"
     ]
    }
   ],
   "source": [
    "#가변인수랑 같이 넣을때 순서는?\n",
    "def personal_info6(name, **kwargs, address=\"비공개\") :\n",
    "    print('args: ', args)\n",
    "    print('kwargs: ', kwargs)\n",
    "    print('주소: ', address)"
   ]
  },
  {
   "cell_type": "code",
   "execution_count": 138,
   "id": "468ee135",
   "metadata": {},
   "outputs": [],
   "source": [
    "#가변인수랑 같이 넣을때 순서는?\n",
    "def personal_info6(name, address=\"비공개\", **kwargs) :\n",
    "    print('args: ', args)\n",
    "    print('kwargs: ', kwargs)\n",
    "    print('주소: ', address)"
   ]
  },
  {
   "cell_type": "code",
   "execution_count": 135,
   "id": "94f3b341",
   "metadata": {},
   "outputs": [],
   "source": [
    "#가변인수랑 같이 넣을때 순서는?\n",
    "def personal_info6(address=\"비공개\", *args, **kwargs) :\n",
    "    print('args: ', args)\n",
    "    print('kwargs: ', kwargs)\n",
    "    print('주소: ', address)"
   ]
  },
  {
   "cell_type": "markdown",
   "id": "d2a0b167",
   "metadata": {},
   "source": [
    "매개변수의 종류에 따른 순서\n",
    "* 위치 인수, 위치인수 = 기본값, *args, **kwargs"
   ]
  },
  {
   "cell_type": "code",
   "execution_count": 139,
   "id": "72d200ab",
   "metadata": {},
   "outputs": [],
   "source": [
    "#가변인수랑 같이 넣을때 순서는?\n",
    "def personal_info6(*args, address=\"비공개\", **kwargs) :\n",
    "    print('args: ', args)\n",
    "    print('kwargs: ', kwargs)\n",
    "    print('주소: ', address)"
   ]
  },
  {
   "cell_type": "code",
   "execution_count": 140,
   "id": "e0aa54c1",
   "metadata": {
    "scrolled": true
   },
   "outputs": [
    {
     "name": "stdout",
     "output_type": "stream",
     "text": [
      "args:  ('홍길동', 1, 2, 3, 4)\n",
      "kwargs:  {'name': '홍길동', 'age': 30}\n",
      "주소:  비공개\n"
     ]
    }
   ],
   "source": [
    "personal_info6(\"홍길동\", 1,2,3,4, name=\"홍길동\", age=30)"
   ]
  },
  {
   "cell_type": "code",
   "execution_count": 141,
   "id": "7823dfc4",
   "metadata": {
    "scrolled": true
   },
   "outputs": [
    {
     "name": "stdout",
     "output_type": "stream",
     "text": [
      "args:  (1, 2, 3, 4)\n",
      "kwargs:  {'name': '홍길동', 'age': 30}\n",
      "주소:  비공개\n"
     ]
    }
   ],
   "source": [
    "personal_info6( 1,2,3,4, name=\"홍길동\", age=30)"
   ]
  },
  {
   "cell_type": "markdown",
   "id": "7f150349",
   "metadata": {},
   "source": [
    "함수 Doc 스트링 사용하기\n",
    "* 함수의 기능을 설명하거나 사용법을 함수 내에 적어 놓는 것\n",
    "def 함수이름(매개변수):<br>\n",
    "____\"\"\"독스트링으로 설명 적기 \"\"\"<br>\n",
    "____ 실행코드<br>\n",
    "____return\n",
    "* 독스트링은 함수 실행시에는 출력되지 않음\n",
    "* print(함수이름, doc)\n",
    "* help(함수이름)"
   ]
  },
  {
   "cell_type": "code",
   "execution_count": 22,
   "id": "fbf069e1",
   "metadata": {},
   "outputs": [
    {
     "name": "stdout",
     "output_type": "stream",
     "text": [
      "\n"
     ]
    }
   ],
   "source": [
    "print()"
   ]
  },
  {
   "cell_type": "code",
   "execution_count": 23,
   "id": "c5ac574a",
   "metadata": {},
   "outputs": [],
   "source": [
    "def add(a,b):\n",
    "    \"\"\"\n",
    "    독스트링- 이 함수는 a와 b를 더한 뒤 결과를 반환하는 함수입니다.\n",
    "    \"\"\"\n",
    "    return a+b"
   ]
  },
  {
   "cell_type": "code",
   "execution_count": 24,
   "id": "ef0626b1",
   "metadata": {},
   "outputs": [
    {
     "data": {
      "text/plain": [
       "15"
      ]
     },
     "execution_count": 24,
     "metadata": {},
     "output_type": "execute_result"
    }
   ],
   "source": [
    "add(10,5)"
   ]
  },
  {
   "cell_type": "code",
   "execution_count": 25,
   "id": "816e0bd3",
   "metadata": {},
   "outputs": [
    {
     "ename": "TypeError",
     "evalue": "add() missing 2 required positional arguments: 'a' and 'b'",
     "output_type": "error",
     "traceback": [
      "\u001b[1;31m---------------------------------------------------------------------------\u001b[0m",
      "\u001b[1;31mTypeError\u001b[0m                                 Traceback (most recent call last)",
      "Cell \u001b[1;32mIn[25], line 1\u001b[0m\n\u001b[1;32m----> 1\u001b[0m add()\n",
      "\u001b[1;31mTypeError\u001b[0m: add() missing 2 required positional arguments: 'a' and 'b'"
     ]
    }
   ],
   "source": [
    "add()# shift + tap  =(help) ->내가만든 함수 설명 보여줌"
   ]
  },
  {
   "cell_type": "code",
   "execution_count": 20,
   "id": "a804ea0c",
   "metadata": {},
   "outputs": [
    {
     "name": "stdout",
     "output_type": "stream",
     "text": [
      "Help on built-in function print in module builtins:\n",
      "\n",
      "print(*args, sep=' ', end='\\n', file=None, flush=False)\n",
      "    Prints the values to a stream, or to sys.stdout by default.\n",
      "    \n",
      "    sep\n",
      "      string inserted between values, default a space.\n",
      "    end\n",
      "      string appended after the last value, default a newline.\n",
      "    file\n",
      "      a file-like object (stream); defaults to the current sys.stdout.\n",
      "    flush\n",
      "      whether to forcibly flush the stream.\n",
      "\n"
     ]
    }
   ],
   "source": [
    "\n",
    "help(print)"
   ]
  },
  {
   "cell_type": "code",
   "execution_count": 26,
   "id": "48362c1e-e33e-435f-a5a1-e3f3a7c6b6a9",
   "metadata": {},
   "outputs": [
    {
     "name": "stdout",
     "output_type": "stream",
     "text": [
      "Help on function add in module __main__:\n",
      "\n",
      "add(a, b)\n",
      "    독스트링- 이 함수는 a와 b를 더한 뒤 결과를 반환하는 함수입니다.\n",
      "\n"
     ]
    }
   ],
   "source": [
    "\n",
    "help(add)"
   ]
  },
  {
   "cell_type": "code",
   "execution_count": 144,
   "id": "90141a89",
   "metadata": {},
   "outputs": [
    {
     "name": "stdout",
     "output_type": "stream",
     "text": [
      "\n",
      "    독스트링- 이 함수는 a와 b를 더한 뒤 결과를 반환하는 함수입니다.\n",
      "    \n"
     ]
    }
   ],
   "source": [
    "print(add.__doc__)"
   ]
  },
  {
   "cell_type": "code",
   "execution_count": 146,
   "id": "3b2c2749",
   "metadata": {},
   "outputs": [
    {
     "name": "stdout",
     "output_type": "stream",
     "text": [
      "print(value, ..., sep=' ', end='\\n', file=sys.stdout, flush=False)\n",
      "\n",
      "Prints the values to a stream, or to sys.stdout by default.\n",
      "Optional keyword arguments:\n",
      "file:  a file-like object (stream); defaults to the current sys.stdout.\n",
      "sep:   string inserted between values, default a space.\n",
      "end:   string appended after the last value, default a newline.\n",
      "flush: whether to forcibly flush the stream.\n"
     ]
    }
   ],
   "source": [
    "print(print.__doc__)"
   ]
  },
  {
   "cell_type": "code",
   "execution_count": 147,
   "id": "8d07b41a",
   "metadata": {},
   "outputs": [
    {
     "data": {
      "text/plain": [
       "['__add__',\n",
       " '__class__',\n",
       " '__class_getitem__',\n",
       " '__contains__',\n",
       " '__delattr__',\n",
       " '__delitem__',\n",
       " '__dir__',\n",
       " '__doc__',\n",
       " '__eq__',\n",
       " '__format__',\n",
       " '__ge__',\n",
       " '__getattribute__',\n",
       " '__getitem__',\n",
       " '__gt__',\n",
       " '__hash__',\n",
       " '__iadd__',\n",
       " '__imul__',\n",
       " '__init__',\n",
       " '__init_subclass__',\n",
       " '__iter__',\n",
       " '__le__',\n",
       " '__len__',\n",
       " '__lt__',\n",
       " '__mul__',\n",
       " '__ne__',\n",
       " '__new__',\n",
       " '__reduce__',\n",
       " '__reduce_ex__',\n",
       " '__repr__',\n",
       " '__reversed__',\n",
       " '__rmul__',\n",
       " '__setattr__',\n",
       " '__setitem__',\n",
       " '__sizeof__',\n",
       " '__str__',\n",
       " '__subclasshook__',\n",
       " 'append',\n",
       " 'clear',\n",
       " 'copy',\n",
       " 'count',\n",
       " 'extend',\n",
       " 'index',\n",
       " 'insert',\n",
       " 'pop',\n",
       " 'remove',\n",
       " 'reverse',\n",
       " 'sort']"
      ]
     },
     "execution_count": 147,
     "metadata": {},
     "output_type": "execute_result"
    }
   ],
   "source": [
    "dir(list)"
   ]
  },
  {
   "cell_type": "code",
   "execution_count": 27,
   "id": "57dc51d1-4ec4-46ab-9f1f-d0a4f5fcc57a",
   "metadata": {},
   "outputs": [
    {
     "data": {
      "text/plain": [
       "['__add__',\n",
       " '__class__',\n",
       " '__class_getitem__',\n",
       " '__contains__',\n",
       " '__delattr__',\n",
       " '__delitem__',\n",
       " '__dir__',\n",
       " '__doc__',\n",
       " '__eq__',\n",
       " '__format__',\n",
       " '__ge__',\n",
       " '__getattribute__',\n",
       " '__getitem__',\n",
       " '__getstate__',\n",
       " '__gt__',\n",
       " '__hash__',\n",
       " '__iadd__',\n",
       " '__imul__',\n",
       " '__init__',\n",
       " '__init_subclass__',\n",
       " '__iter__',\n",
       " '__le__',\n",
       " '__len__',\n",
       " '__lt__',\n",
       " '__mul__',\n",
       " '__ne__',\n",
       " '__new__',\n",
       " '__reduce__',\n",
       " '__reduce_ex__',\n",
       " '__repr__',\n",
       " '__reversed__',\n",
       " '__rmul__',\n",
       " '__setattr__',\n",
       " '__setitem__',\n",
       " '__sizeof__',\n",
       " '__str__',\n",
       " '__subclasshook__',\n",
       " 'append',\n",
       " 'clear',\n",
       " 'copy',\n",
       " 'count',\n",
       " 'extend',\n",
       " 'index',\n",
       " 'insert',\n",
       " 'pop',\n",
       " 'remove',\n",
       " 'reverse',\n",
       " 'sort']"
      ]
     },
     "execution_count": 27,
     "metadata": {},
     "output_type": "execute_result"
    }
   ],
   "source": [
    "dir(list)"
   ]
  },
  {
   "cell_type": "code",
   "execution_count": 151,
   "id": "022a03c0",
   "metadata": {},
   "outputs": [
    {
     "data": {
      "text/plain": [
       "['__add__',\n",
       " '__class__',\n",
       " '__class_getitem__',\n",
       " '__contains__',\n",
       " '__delattr__',\n",
       " '__delitem__',\n",
       " '__dir__',\n",
       " '__doc__',\n",
       " '__eq__',\n",
       " '__format__',\n",
       " '__ge__',\n",
       " '__getattribute__',\n",
       " '__getitem__',\n",
       " '__gt__',\n",
       " '__hash__',\n",
       " '__iadd__',\n",
       " '__imul__',\n",
       " '__init__',\n",
       " '__init_subclass__',\n",
       " '__iter__',\n",
       " '__le__',\n",
       " '__len__',\n",
       " '__lt__',\n",
       " '__mul__',\n",
       " '__ne__',\n",
       " '__new__',\n",
       " '__reduce__',\n",
       " '__reduce_ex__',\n",
       " '__repr__',\n",
       " '__reversed__',\n",
       " '__rmul__',\n",
       " '__setattr__',\n",
       " '__setitem__',\n",
       " '__sizeof__',\n",
       " '__str__',\n",
       " '__subclasshook__',\n",
       " 'append',\n",
       " 'clear',\n",
       " 'copy',\n",
       " 'count',\n",
       " 'extend',\n",
       " 'index',\n",
       " 'insert',\n",
       " 'pop',\n",
       " 'remove',\n",
       " 'reverse',\n",
       " 'sort']"
      ]
     },
     "execution_count": 151,
     "metadata": {},
     "output_type": "execute_result"
    }
   ],
   "source": [
    "dir([1,2,3,4]) #'__iter__',라는 함수가 들어있는 경우에만 반복사용 가능하다는것 알고있음 좋음"
   ]
  },
  {
   "cell_type": "markdown",
   "id": "516e4f08-7eb7-419a-9565-cdeef7519afa",
   "metadata": {},
   "source": [
    "# 람다 표현식\n",
    "* 간단한 함수를 작성하거나 다른 함수의 인수로 함수를 넣을 때 사용\r",
    "* \n",
    "익명함수(함수명이 없음)* \r\n",
    "사용 후 메모리에서 삭제"
   ]
  },
  {
   "cell_type": "code",
   "execution_count": 152,
   "id": "1d58b39c",
   "metadata": {},
   "outputs": [],
   "source": [
    "#자료 1개를 입력받아 10을 더해 리턴하는 함수\n",
    "def plus_ten(x):\n",
    "    return x +10"
   ]
  },
  {
   "cell_type": "code",
   "execution_count": 153,
   "id": "16378967",
   "metadata": {},
   "outputs": [
    {
     "data": {
      "text/plain": [
       "15"
      ]
     },
     "execution_count": 153,
     "metadata": {},
     "output_type": "execute_result"
    }
   ],
   "source": [
    "plus_ten(5)"
   ]
  },
  {
   "cell_type": "markdown",
   "id": "f88ca952",
   "metadata": {},
   "source": [
    "람다 함수에 괄호를 씌우고 뒤에인수를 넣어서 직접 호출"
   ]
  },
  {
   "cell_type": "code",
   "execution_count": null,
   "id": "b5878cd3",
   "metadata": {},
   "outputs": [],
   "source": []
  },
  {
   "cell_type": "code",
   "execution_count": 155,
   "id": "11a5764f",
   "metadata": {},
   "outputs": [
    {
     "data": {
      "text/plain": [
       "15"
      ]
     },
     "execution_count": 155,
     "metadata": {},
     "output_type": "execute_result"
    }
   ],
   "source": [
    "# def lambda():\n",
    "(lambda x : x+10)(5)"
   ]
  },
  {
   "cell_type": "code",
   "execution_count": null,
   "id": "cf8ac8c1",
   "metadata": {},
   "outputs": [],
   "source": [
    "#일회성으로 슬 수 있고, 변수에 저장해서 쓸 수 있음"
   ]
  },
  {
   "cell_type": "markdown",
   "id": "c5a2009a",
   "metadata": {},
   "source": [
    "람다 함수를 변수에 넣고 변수에 인수를 넣어서 호출"
   ]
  },
  {
   "cell_type": "code",
   "execution_count": 156,
   "id": "509ae54d",
   "metadata": {},
   "outputs": [],
   "source": [
    "plus_five = lambda x: x+5"
   ]
  },
  {
   "cell_type": "code",
   "execution_count": 157,
   "id": "d6d6527c",
   "metadata": {},
   "outputs": [
    {
     "data": {
      "text/plain": [
       "10"
      ]
     },
     "execution_count": 157,
     "metadata": {},
     "output_type": "execute_result"
    }
   ],
   "source": [
    "plus_five(5)"
   ]
  },
  {
   "cell_type": "markdown",
   "id": "18a2e1c3",
   "metadata": {},
   "source": [
    "map(함수, 리스트자료)"
   ]
  },
  {
   "cell_type": "code",
   "execution_count": 161,
   "id": "dfcd986d",
   "metadata": {},
   "outputs": [],
   "source": [
    "a,b,c,d =map(int,[\"1\",\"2\",\"4\",\"5\"])"
   ]
  },
  {
   "cell_type": "code",
   "execution_count": 162,
   "id": "57732ce5",
   "metadata": {},
   "outputs": [
    {
     "name": "stdout",
     "output_type": "stream",
     "text": [
      "1 2 4 5\n",
      "<class 'int'> 2 4 5\n"
     ]
    }
   ],
   "source": [
    "print(a,b,c,d)\n",
    "print(type(a),b,c,d)"
   ]
  },
  {
   "cell_type": "code",
   "execution_count": null,
   "id": "57461083",
   "metadata": {},
   "outputs": [],
   "source": [
    "#람다함수에 넣어서 5를 더해서 나오도록 할 수 있음"
   ]
  },
  {
   "cell_type": "code",
   "execution_count": 164,
   "id": "8630e41f",
   "metadata": {},
   "outputs": [
    {
     "name": "stdout",
     "output_type": "stream",
     "text": [
      "[6, 7, 8, 9, 10]\n"
     ]
    }
   ],
   "source": [
    "# plus_five = lambda x : x+5\n",
    "# plus_five (값)\n",
    "result = map(plus_five,[1,2,3,4,5])\n",
    "print(list(result))"
   ]
  },
  {
   "cell_type": "code",
   "execution_count": 165,
   "id": "ad5eec8c",
   "metadata": {},
   "outputs": [],
   "source": [
    "#맵이라는 함수내부에 람다함수 넣어서 손쉽게 만들 수 있다"
   ]
  },
  {
   "cell_type": "code",
   "execution_count": 166,
   "id": "3872d0c5",
   "metadata": {},
   "outputs": [
    {
     "data": {
      "text/plain": [
       "[11, 12, 13, 14, 15]"
      ]
     },
     "execution_count": 166,
     "metadata": {},
     "output_type": "execute_result"
    }
   ],
   "source": [
    "list(map(lambda x : x+10, [1,2,3,4,5]))\n",
    "#람다함수는 임시함수기 때문에 한번 사용되고 나면 사라진다."
   ]
  },
  {
   "cell_type": "code",
   "execution_count": 167,
   "id": "30164983",
   "metadata": {},
   "outputs": [
    {
     "name": "stdout",
     "output_type": "stream",
     "text": [
      "[11, 12, 13, 14, 15]\n"
     ]
    }
   ],
   "source": [
    "hap=[]\n",
    "for i in [1,2,3,4,5]:\n",
    "    hap.append(i+10)\n",
    "print(hap)"
   ]
  },
  {
   "cell_type": "code",
   "execution_count": 171,
   "id": "e1e55e77",
   "metadata": {},
   "outputs": [
    {
     "name": "stdout",
     "output_type": "stream",
     "text": [
      "[11, 12, 13, 14, 15]\n"
     ]
    },
    {
     "data": {
      "text/plain": [
       "[11, 12, 13, 14, 15]"
      ]
     },
     "execution_count": 171,
     "metadata": {},
     "output_type": "execute_result"
    }
   ],
   "source": [
    "x= [1,2,3,4,5]\n",
    "def plus_10(x):\n",
    "    hap=[]\n",
    "    for i in [1,2,3,4,5]:\n",
    "        hap.append(i+10)\n",
    "    print(hap)\n",
    "    return hap\n",
    "\n",
    "plus_10(x)"
   ]
  },
  {
   "cell_type": "code",
   "execution_count": 171,
   "id": "5e162d47",
   "metadata": {},
   "outputs": [
    {
     "name": "stdout",
     "output_type": "stream",
     "text": [
      "[11, 12, 13, 14, 15]\n"
     ]
    },
    {
     "data": {
      "text/plain": [
       "[11, 12, 13, 14, 15]"
      ]
     },
     "execution_count": 171,
     "metadata": {},
     "output_type": "execute_result"
    }
   ],
   "source": [
    "x= [1,2,3,4,5]\n",
    "def plus_10(x):\n",
    "    hap=[i+10  for i in x]\n",
    "    \n",
    "    print(hap)\n",
    "    return hap\n",
    "\n",
    "plus_10(x)"
   ]
  },
  {
   "cell_type": "code",
   "execution_count": 172,
   "id": "399cccea",
   "metadata": {},
   "outputs": [
    {
     "data": {
      "text/plain": [
       "[11, 12, 13, 14, 15]"
      ]
     },
     "execution_count": 172,
     "metadata": {},
     "output_type": "execute_result"
    }
   ],
   "source": [
    "x= [1,2,3,4,5]\n",
    "def plus_10(x):\n",
    "    return [i+10  for i in x]\n",
    "\n",
    "\n",
    "plus_10(x)"
   ]
  },
  {
   "cell_type": "code",
   "execution_count": null,
   "id": "71a56bde",
   "metadata": {},
   "outputs": [],
   "source": [
    "#하지만 위 함수는 람다함수와 달리 메모리에서 바로 삭제되지 않고 계속 남아 있음\n",
    "#하지만 결과는 같다\n"
   ]
  },
  {
   "cell_type": "markdown",
   "id": "7308bad6",
   "metadata": {},
   "source": [
    "람다 표현식에 조건부 표현식 사용하기\n"
   ]
  },
  {
   "cell_type": "code",
   "execution_count": 180,
   "id": "21242ef4",
   "metadata": {},
   "outputs": [
    {
     "data": {
      "text/plain": [
       "[1, 2, 3, 4, 5, 6, 7, 8, 9, 10]"
      ]
     },
     "execution_count": 180,
     "metadata": {},
     "output_type": "execute_result"
    }
   ],
   "source": [
    "# 3의 배수만 문자열로 바꾸기\n",
    "a = list(range(1,11))\n",
    "a"
   ]
  },
  {
   "cell_type": "code",
   "execution_count": 182,
   "id": "4cefe86a",
   "metadata": {},
   "outputs": [],
   "source": [
    "#조건이 3ㅇ,ㅣ 배수만 문자열로 바꾸기\n",
    "a = list(range(1,11))\n",
    "def tostr3(a):\n",
    "    b=[]\n",
    "    for i in a:\n",
    "        if i%3==0:\n",
    "            b.append(str(i))\n",
    "        else:\n",
    "            b.append(i)\n",
    "        \n",
    "    return b"
   ]
  },
  {
   "cell_type": "code",
   "execution_count": 183,
   "id": "1f908974",
   "metadata": {},
   "outputs": [],
   "source": [
    "#조건이 3ㅇ,ㅣ 배수만 문자열로 바꾸기\n",
    "#조건문 부분을 조건 표현식으로 변환할 수 있다\n",
    "a = list(range(1,11))\n",
    "def tostr3(a):\n",
    "    b=[]\n",
    "    for i in a:\n",
    "        b.append(str(i)) if i%3==0  else b.append(i)\n",
    "            \n",
    "        \n",
    "    return b"
   ]
  },
  {
   "cell_type": "code",
   "execution_count": 184,
   "id": "93e34ee5",
   "metadata": {},
   "outputs": [
    {
     "data": {
      "text/plain": [
       "[1, 2, '3', 4, 5, '6', 7, 8, '9', 10]"
      ]
     },
     "execution_count": 184,
     "metadata": {},
     "output_type": "execute_result"
    }
   ],
   "source": [
    "tostr3(a)"
   ]
  },
  {
   "cell_type": "code",
   "execution_count": 185,
   "id": "b2fbb6eb",
   "metadata": {},
   "outputs": [],
   "source": [
    "#조건이 3ㅇ,ㅣ 배수만 문자열로 바꾸기\n",
    "#조건문 부분을 조건 표현식으로 변환할 수 있다\n",
    "#리스트+포문 -> 리스트 표현식으로 변환\n",
    "\n",
    "a = list(range(1,11))\n",
    "def tostr3(a):\n",
    "    \n",
    "    return[str(i) if i%3==0  else i for i in a]\n"
   ]
  },
  {
   "cell_type": "code",
   "execution_count": 186,
   "id": "977b43a0",
   "metadata": {},
   "outputs": [
    {
     "data": {
      "text/plain": [
       "[1, 2, '3', 4, 5, '6', 7, 8, '9', 10]"
      ]
     },
     "execution_count": 186,
     "metadata": {},
     "output_type": "execute_result"
    }
   ],
   "source": [
    "tostr3(a)"
   ]
  },
  {
   "cell_type": "code",
   "execution_count": 190,
   "id": "9f1a7119",
   "metadata": {},
   "outputs": [
    {
     "data": {
      "text/plain": [
       "[1, 2, '3', 4, 5, '6', 7, 8, '9', 10]"
      ]
     },
     "execution_count": 190,
     "metadata": {},
     "output_type": "execute_result"
    }
   ],
   "source": [
    "list(map(lambda x :str(x) if x%3==0  else x,a))  #전처리 할때 엄청 많이 사용\n",
    "#apply()함수가 map함수와 비슷\n",
    "#행하나씩 꺼내서 집어 넣어주는 "
   ]
  },
  {
   "cell_type": "code",
   "execution_count": null,
   "id": "c83d0f5a",
   "metadata": {},
   "outputs": [],
   "source": [
    "apply(lambda x :str(x) if x%3==0  else x)"
   ]
  },
  {
   "cell_type": "code",
   "execution_count": null,
   "id": "c8487581",
   "metadata": {},
   "outputs": [],
   "source": [
    "apply(lambda x :int(x) if type(x)=='o'  else x)"
   ]
  },
  {
   "cell_type": "code",
   "execution_count": 191,
   "id": "a0730b40",
   "metadata": {},
   "outputs": [],
   "source": [
    "#전처리할때 많이 사용하니까 눈에 익혀두자"
   ]
  },
  {
   "cell_type": "code",
   "execution_count": null,
   "id": "70bb58ae",
   "metadata": {},
   "outputs": [],
   "source": [
    "#람다함수 맵함수 같이 써서 작업하는 또다른 경우"
   ]
  },
  {
   "cell_type": "code",
   "execution_count": 192,
   "id": "b9862733",
   "metadata": {},
   "outputs": [],
   "source": [
    "a= [1,2,3,4,5]\n",
    "b=[2,4,6,8,10]\n",
    "c=[3,6,9,12,15]"
   ]
  },
  {
   "cell_type": "code",
   "execution_count": null,
   "id": "e6533db0",
   "metadata": {},
   "outputs": [],
   "source": [
    "#리스트 세개에서 자리수 같으 ㄴ애들 다 곱하는 것"
   ]
  },
  {
   "cell_type": "code",
   "execution_count": 193,
   "id": "6748386e",
   "metadata": {},
   "outputs": [
    {
     "data": {
      "text/plain": [
       "[6, 48, 162, 384, 750]"
      ]
     },
     "execution_count": 193,
     "metadata": {},
     "output_type": "execute_result"
    }
   ],
   "source": [
    "list(map(lambda x,y,z: x*y*z, a,b,c))"
   ]
  },
  {
   "cell_type": "code",
   "execution_count": 195,
   "id": "0ebcb5f3",
   "metadata": {},
   "outputs": [
    {
     "data": {
      "text/plain": [
       "[6, 48, 162, 384, 750]"
      ]
     },
     "execution_count": 195,
     "metadata": {},
     "output_type": "execute_result"
    }
   ],
   "source": [
    "#리스트에 있는 애들 하나식 꺼내지 않아도 계산 가능하다!\n",
    "#원래대로 하려면 포문에 넣어\n",
    "result=[]\n",
    "for x,y,z in zip(a,b,c):\n",
    "    result.append(x*y*z)\n",
    "result"
   ]
  },
  {
   "cell_type": "code",
   "execution_count": null,
   "id": "86f08103",
   "metadata": {},
   "outputs": [],
   "source": []
  },
  {
   "cell_type": "code",
   "execution_count": null,
   "id": "9c248252",
   "metadata": {},
   "outputs": [],
   "source": []
  },
  {
   "cell_type": "code",
   "execution_count": null,
   "id": "89342d7e",
   "metadata": {},
   "outputs": [],
   "source": []
  },
  {
   "cell_type": "code",
   "execution_count": null,
   "id": "5e98f51e",
   "metadata": {},
   "outputs": [],
   "source": []
  },
  {
   "cell_type": "code",
   "execution_count": null,
   "id": "936ce72e",
   "metadata": {},
   "outputs": [],
   "source": []
  },
  {
   "cell_type": "code",
   "execution_count": null,
   "id": "aadab9a1",
   "metadata": {},
   "outputs": [],
   "source": []
  },
  {
   "cell_type": "code",
   "execution_count": null,
   "id": "0f4c3686",
   "metadata": {},
   "outputs": [],
   "source": []
  },
  {
   "cell_type": "code",
   "execution_count": null,
   "id": "3dc5f203",
   "metadata": {},
   "outputs": [],
   "source": []
  },
  {
   "cell_type": "code",
   "execution_count": null,
   "id": "8d9d1a56",
   "metadata": {},
   "outputs": [],
   "source": []
  }
 ],
 "metadata": {
  "kernelspec": {
   "display_name": "Python 3 (ipykernel)",
   "language": "python",
   "name": "python3"
  },
  "language_info": {
   "codemirror_mode": {
    "name": "ipython",
    "version": 3
   },
   "file_extension": ".py",
   "mimetype": "text/x-python",
   "name": "python",
   "nbconvert_exporter": "python",
   "pygments_lexer": "ipython3",
   "version": "3.11.7"
  }
 },
 "nbformat": 4,
 "nbformat_minor": 5
}
