{
 "cells": [
  {
   "cell_type": "markdown",
   "id": "38514e92",
   "metadata": {},
   "source": [
    "마크다운 "
   ]
  },
  {
   "cell_type": "markdown",
   "id": "0037856e",
   "metadata": {},
   "source": [
    "# h1\n",
    "## h2\n",
    "* h1태그\n",
    "  * h2\n",
    "  \n",
    "### h3"
   ]
  },
  {
   "cell_type": "markdown",
   "id": "403ef767",
   "metadata": {},
   "source": [
    "# 주피터 노트북 사용법\n",
    "## 셀모드: 셀 왼쪽 빈 공간 클릭 => 파란색으로 활성화\n",
    "* **위에 셀 추가:** a\n",
    "* **아래 셀 추가:** b\n",
    "* **셀 복사:** c\n",
    "* **셀 잘라내기:** x\n",
    "* **셀 붙여넣기:** v\n",
    "* **마크다운 모드:** m\n",
    "* **코딩모드:** y\n",
    "\n",
    "## 코딩모드: 셀 안쪽 클릭 => 녹색으로 활성화 -셀 왼쪽에 In []:가 있음\n",
    "## 마크다운 모드\n",
    "* **수식 넣기:** $$ tex $$\n",
    "* 집합 넣으려면\n"
   ]
  },
  {
   "cell_type": "markdown",
   "id": "740b133d",
   "metadata": {},
   "source": [
    "* 링크걸기 <br>\n",
    "[네이버링크](https://naver.com)\n",
    "* 이미지 넣기\n",
    "![파이썬이미지](https://search.pstatic.net/sunny/?src=https%3A%2F%2Fvelog.velcdn.com%2Fimages%2Froo333%2Fpost%2F18effc66-33dc-4d6f-b485-2bacafb12269%2Fimage.jpg&type=sc960_832)\n",
    "\n",
    "* 내 컴퓨터에 있는 이미지를 넣고싶다면?\n",
    "* 이미지 넣기2 <br>\n",
    "![내컴이미지](C:\\\\fintech_service\\\\03 html_css_javascript\\\\15942e5beec4b.jpg)"
   ]
  },
  {
   "cell_type": "markdown",
   "id": "083a26d8",
   "metadata": {},
   "source": [
    "# 파이썬 기초 문법\n",
    "* 파이썬은 세미콜론을 쓰지 않는다.\n",
    "* 한 줄에 여러 명령을 쓸때 사용.\n",
    "* 파이썬의 주석은 문장 앞에 #을 붙인다. cntrl + /\n",
    "* 파이썬은 기본이 들여쓰기4칸, 스페이스 4번이므로 주의 (탭사용하지 말것 )\n",
    "* 구글 코랩은 두칸이다.\n",
    "* 변수를 만들때 스네이크 표기법을 사용한다. ex)user_name\n",
    "* 클래스를 만들때는 카멜 표기법을 사용한다. (클래스에서만 사용) ex)UserName\n",
    "빅분기시험장은 자동완성기가 안되어서 클래스이름을 다 외우고 가야한다.\n",
    "ex) 클래스명은 앞이 무조건 대문자이다. ex) RandomForestClassifier()"
   ]
  },
  {
   "attachments": {
    "%EB%8B%A4%EC%9A%B4%EB%A1%9C%EB%93%9C.jpg": {
     "image/jpeg": "[encoded data removed]"
    }
   },
   "cell_type": "markdown",
   "id": "460740f9",
   "metadata": {},
   "source": [
    "![%EB%8B%A4%EC%9A%B4%EB%A1%9C%EB%93%9C.jpg](attachment:%EB%8B%A4%EC%9A%B4%EB%A1%9C%EB%93%9C.jpg)"
   ]
  },
  {
   "cell_type": "markdown",
   "id": "a8d25035",
   "metadata": {},
   "source": [
    "## print문"
   ]
  },
  {
   "cell_type": "code",
   "execution_count": 2,
   "id": "dc2227c0",
   "metadata": {},
   "outputs": [
    {
     "name": "stdout",
     "output_type": "stream",
     "text": [
      "Hello. python\n"
     ]
    }
   ],
   "source": [
    "print('Hello. python')"
   ]
  },
  {
   "cell_type": "code",
   "execution_count": 3,
   "id": "2e7283ea",
   "metadata": {},
   "outputs": [
    {
     "name": "stdout",
     "output_type": "stream",
     "text": [
      "Hello. python Hello. world\n"
     ]
    }
   ],
   "source": [
    "print('Hello. python', 'Hello. world')"
   ]
  },
  {
   "cell_type": "code",
   "execution_count": 6,
   "id": "05d3cf49",
   "metadata": {},
   "outputs": [
    {
     "name": "stdout",
     "output_type": "stream",
     "text": [
      "Hello. python--Hello. world\n",
      "Hello. python, Hello. world\n",
      "Hello. python vs Hello. world\n"
     ]
    }
   ],
   "source": [
    "#사이 옵션 줄 수 있음\n",
    "#sep\n",
    "#옵션 기본값은 공백\n",
    "print('Hello. python', 'Hello. world', sep=\"--\")\n",
    "print('Hello. python', 'Hello. world', sep=\", \")\n",
    "print('Hello. python', 'Hello. world', sep=\" vs \")"
   ]
  },
  {
   "cell_type": "code",
   "execution_count": null,
   "id": "718593e6",
   "metadata": {},
   "outputs": [],
   "source": [
    "#end옵션 = 프린트 끝난 다음에 무엇을 해줄거냐\n",
    "#기본옵션 \n",
    "print('Hello. python', sep=\" \", end=\"\\n\")\n",
    "print('Hello. python', end=\" \")\n",
    "print('Hello. world', sep=\" \")"
   ]
  },
  {
   "cell_type": "code",
   "execution_count": 7,
   "id": "03f8bead",
   "metadata": {},
   "outputs": [
    {
     "name": "stdout",
     "output_type": "stream",
     "text": [
      "Hello. python\tHello. python\r",
      "Hello. python,"
     ]
    }
   ],
   "source": [
    "print('Hello. python', sep=\" \", end=\"\\t\")\n",
    "print('Hello. python', sep=\" \", end=\"\\r\")\n",
    "print('Hello. python', sep=\" \", end=\",\")"
   ]
  },
  {
   "cell_type": "code",
   "execution_count": null,
   "id": "d9c6db2a",
   "metadata": {},
   "outputs": [],
   "source": [
    "#반복문일경우 보기 편하도록 변경\n",
    "for i in range(1,100):\n",
    "    print(i, end=\" \")"
   ]
  },
  {
   "cell_type": "code",
   "execution_count": null,
   "id": "269dfac8",
   "metadata": {},
   "outputs": [],
   "source": [
    "for i in range(1,100):\n",
    "    print(i, end=\"\\r\")"
   ]
  },
  {
   "cell_type": "code",
   "execution_count": null,
   "id": "e5e91db6",
   "metadata": {},
   "outputs": [],
   "source": [
    "import time\n",
    "for i in range(1,100):\n",
    "    time.sleep(1)\n",
    "    print(i, end=\"\\r\")"
   ]
  },
  {
   "cell_type": "code",
   "execution_count": 8,
   "id": "622a4aa9",
   "metadata": {},
   "outputs": [
    {
     "name": "stdout",
     "output_type": "stream",
     "text": [
      "Hello. python\n",
      "\n",
      "Hello. world\n"
     ]
    }
   ],
   "source": [
    "print('Hello. python', sep=\" \", end=\"\\n\")\n",
    "print()\n",
    "print('Hello. world')"
   ]
  },
  {
   "cell_type": "markdown",
   "id": "0a9639f8",
   "metadata": {},
   "source": [
    "# 변수\n",
    "* 영문, 숫자를 조합해서 만들수 있다.\n",
    "* 문자부터 시작해야 하며 숫자부터 시작하면 안된다.\n",
    "* 대소문자를 구분한다.\n",
    "* _(언더바)로 시작할 수 있다. -(대쉬)는 안된다\n",
    "* 특수문자 사용안됨\n",
    "* 파이썬의 키워드(예약어) if, for while, str은 사용할 수 없다\n",
    "* 변수는 스네이크 표기법으로 명명한다\n",
    "* "
   ]
  },
  {
   "cell_type": "markdown",
   "id": "0bd661c5",
   "metadata": {},
   "source": [
    "str은 자료형이고\n",
    "int , str은 형변환함수이다\n",
    "id 이런거에 데이터를 실수로 넣는 경우 발생\n",
    "오류메세지 뜬다 -> 주의 -> str, ont, id등을 변수로 명명하지 말자\n",
    "#str = 10\n",
    "#int = 20\n",
    "#id = 30\n",
    "-> 오류가 안떠서 문제\n",
    "\n",
    "위에서 잘못 지정해두면\n",
    "a = int(\"20\")\n",
    "a\n",
    "출력되지 않고 오류가 뜬다"
   ]
  },
  {
   "cell_type": "code",
   "execution_count": null,
   "id": "572ebc57",
   "metadata": {},
   "outputs": [],
   "source": []
  },
  {
   "cell_type": "code",
   "execution_count": 10,
   "id": "45b3935f",
   "metadata": {},
   "outputs": [],
   "source": [
    "a = 10\n",
    "b = 3.14\n",
    "c = \"문자열\"\n"
   ]
  },
  {
   "cell_type": "code",
   "execution_count": 11,
   "id": "a5d6ba47",
   "metadata": {},
   "outputs": [
    {
     "data": {
      "text/plain": [
       "10"
      ]
     },
     "execution_count": 11,
     "metadata": {},
     "output_type": "execute_result"
    }
   ],
   "source": [
    "a"
   ]
  },
  {
   "cell_type": "code",
   "execution_count": 12,
   "id": "bc26fde2",
   "metadata": {},
   "outputs": [
    {
     "data": {
      "text/plain": [
       "'문자열'"
      ]
     },
     "execution_count": 12,
     "metadata": {},
     "output_type": "execute_result"
    }
   ],
   "source": [
    "c"
   ]
  },
  {
   "cell_type": "code",
   "execution_count": 13,
   "id": "8e0ec60c",
   "metadata": {},
   "outputs": [
    {
     "name": "stdout",
     "output_type": "stream",
     "text": [
      "문자열\n"
     ]
    }
   ],
   "source": [
    "print (c)"
   ]
  },
  {
   "cell_type": "markdown",
   "id": "17ab795c",
   "metadata": {},
   "source": [
    "프린트로 출력한거랑 결과가 다르게 나온다\n",
    "꼭 프린트에 안 넣고 인쇄하는 것도 좋은 방법\n",
    "주피터노트북은 변수명만 적어도 그냥 출력된다\n",
    "문자열인지 숫자인지 헷갈릴 때 그냥 변수만 넣고 출력하면 쉽게 파악 가능하다\n",
    "vs코드는 꼭 ㅍprint해서 출력하지만 주피터 노트북은 괜춘"
   ]
  },
  {
   "cell_type": "code",
   "execution_count": 16,
   "id": "177882d9",
   "metadata": {},
   "outputs": [
    {
     "name": "stdout",
     "output_type": "stream",
     "text": [
      "10\n",
      "10\n"
     ]
    },
    {
     "data": {
      "text/plain": [
       "'10'"
      ]
     },
     "execution_count": 16,
     "metadata": {},
     "output_type": "execute_result"
    }
   ],
   "source": [
    "aa=10\n",
    "bb='10'\n",
    "print(aa)\n",
    "print(bb)\n",
    "bb"
   ]
  },
  {
   "cell_type": "markdown",
   "id": "840eb4e4",
   "metadata": {},
   "source": [
    "# 키보드 입력 받기 input()\n",
    "\n",
    " * input() 함수로 입력받는 모든 값은 문자열로 저장된다.\n",
    " * 반드시 형변환이 필요"
   ]
  },
  {
   "cell_type": "code",
   "execution_count": 17,
   "id": "1a3bb245",
   "metadata": {},
   "outputs": [
    {
     "name": "stdout",
     "output_type": "stream",
     "text": [
      "10\n",
      "20\n",
      "30\n"
     ]
    }
   ],
   "source": [
    "num = input()\n",
    "num2= input()\n",
    "print(int(num)+int(num2))"
   ]
  },
  {
   "cell_type": "code",
   "execution_count": 20,
   "id": "248d7cc8",
   "metadata": {},
   "outputs": [
    {
     "name": "stdout",
     "output_type": "stream",
     "text": [
      "10 20\n",
      "30\n"
     ]
    }
   ],
   "source": [
    "num, num2 = input().split()\n",
    "#split()을 써주자\n",
    "print(int(num)+int(num2))"
   ]
  },
  {
   "cell_type": "markdown",
   "id": "74e3183f",
   "metadata": {},
   "source": [
    "# 변수 여러개를 한 번에 만들기\n",
    "* 변수 개수와 데이터 개수는 일치시켜야 함"
   ]
  },
  {
   "cell_type": "code",
   "execution_count": 23,
   "id": "a66736a3",
   "metadata": {},
   "outputs": [],
   "source": [
    "x, y, z = 10, 20, 30"
   ]
  },
  {
   "cell_type": "code",
   "execution_count": 24,
   "id": "cd61f23e",
   "metadata": {},
   "outputs": [
    {
     "name": "stdout",
     "output_type": "stream",
     "text": [
      "10 20 30\n"
     ]
    }
   ],
   "source": [
    "print(x, y, z)"
   ]
  },
  {
   "cell_type": "markdown",
   "id": "db14ee32",
   "metadata": {},
   "source": [
    "# 변수 삭제하기 del 변수명"
   ]
  },
  {
   "cell_type": "code",
   "execution_count": null,
   "id": "6ef0b7e1",
   "metadata": {},
   "outputs": [],
   "source": []
  },
  {
   "cell_type": "code",
   "execution_count": null,
   "id": "e0d90e43",
   "metadata": {},
   "outputs": [],
   "source": []
  },
  {
   "cell_type": "code",
   "execution_count": null,
   "id": "b0bd3ff4",
   "metadata": {},
   "outputs": [],
   "source": []
  },
  {
   "cell_type": "code",
   "execution_count": null,
   "id": "fef22511",
   "metadata": {},
   "outputs": [],
   "source": []
  },
  {
   "cell_type": "code",
   "execution_count": null,
   "id": "b20540e1",
   "metadata": {},
   "outputs": [],
   "source": []
  }
 ],
 "metadata": {
  "kernelspec": {
   "display_name": "Python 3 (ipykernel)",
   "language": "python",
   "name": "python3"
  },
  "language_info": {
   "codemirror_mode": {
    "name": "ipython",
    "version": 3
   },
   "file_extension": ".py",
   "mimetype": "text/x-python",
   "name": "python",
   "nbconvert_exporter": "python",
   "pygments_lexer": "ipython3",
   "version": "3.10.14"
  }
 },
 "nbformat": 4,
 "nbformat_minor": 5
}
