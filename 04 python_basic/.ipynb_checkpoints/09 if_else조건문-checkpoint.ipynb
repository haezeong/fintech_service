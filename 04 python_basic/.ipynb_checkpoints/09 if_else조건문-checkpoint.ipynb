{
 "cells": [
  {
   "cell_type": "markdown",
   "id": "f5f22bbc",
   "metadata": {},
   "source": [
    "# if else 조건문"
   ]
  },
  {
   "cell_type": "markdown",
   "id": "1271cfdc",
   "metadata": {},
   "source": [
    "## 1. 조건문이란 특정 조건을 실행하는 문법\n",
    "if 조건식:\n",
    "____조건식이 참일 때 실행할 코드 <br>\n",
    "else:\n",
    "    조건식이 거짓일 때 실행할 코드"
   ]
  },
  {
   "cell_type": "code",
   "execution_count": 1,
   "id": "a67dd484",
   "metadata": {},
   "outputs": [],
   "source": [
    "x=11"
   ]
  },
  {
   "cell_type": "code",
   "execution_count": 2,
   "id": "8de32e5c",
   "metadata": {},
   "outputs": [
    {
     "name": "stdout",
     "output_type": "stream",
     "text": [
      "x는 10이 아닌 11 입니다.\n"
     ]
    }
   ],
   "source": [
    "if x ==10:\n",
    "    print('x는', x, '입니다')\n",
    "else:\n",
    "    \n",
    "    print('x는 10이 아닌', x, '입니다.')"
   ]
  },
  {
   "cell_type": "code",
   "execution_count": 3,
   "id": "556918e0",
   "metadata": {},
   "outputs": [],
   "source": [
    "L1 = ['파이썬','조건문',10, 15.3, True, [1,2,3], (4,5,6),{'key':'value'}]"
   ]
  },
  {
   "cell_type": "code",
   "execution_count": 4,
   "id": "13f9e1fc",
   "metadata": {},
   "outputs": [
    {
     "name": "stdout",
     "output_type": "stream",
     "text": [
      "L1안에 파이썬이 있습니다.\n"
     ]
    }
   ],
   "source": [
    "if '파이썬' in L1:\n",
    "    print('L1안에 파이썬이 있습니다.')"
   ]
  },
  {
   "cell_type": "code",
   "execution_count": 5,
   "id": "9b4aa010",
   "metadata": {},
   "outputs": [
    {
     "name": "stdout",
     "output_type": "stream",
     "text": [
      "L1안에 hello가 없습니다.\n"
     ]
    }
   ],
   "source": [
    "if 'hello' in L1:\n",
    "    print('L1안에 hello가 있습니다.')\n",
    "else:\n",
    "    print('L1안에 hello가 없습니다.')"
   ]
  },
  {
   "cell_type": "markdown",
   "id": "f3b3f8e0",
   "metadata": {},
   "source": [
    "* 숫자값을 입력받아 홀수인지 짝수인지 판단하는 프로그램"
   ]
  },
  {
   "cell_type": "code",
   "execution_count": 7,
   "id": "446c13eb",
   "metadata": {},
   "outputs": [
    {
     "name": "stdout",
     "output_type": "stream",
     "text": [
      "숫자를 입력하세요:5\n",
      "입력한 숫자 5 는 홀수 입니다.\n"
     ]
    }
   ],
   "source": [
    "x=int(input(\"숫자를 입력하세요:\"))\n",
    "if x%2==0:\n",
    "    print('입력한 숫자', x, '는 짝수 입니다.')\n",
    "else:\n",
    "    print('입력한 숫자', x, '는 홀수 입니다.')"
   ]
  },
  {
   "cell_type": "code",
   "execution_count": 7,
   "id": "b478488c",
   "metadata": {},
   "outputs": [
    {
     "name": "stdout",
     "output_type": "stream",
     "text": [
      "숫자를 입력하세요:5\n",
      "입력한 숫자 5 는 홀수 입니다.\n"
     ]
    }
   ],
   "source": [
    "x=input(\"숫자를 입력하세요\")\n",
    "if int(x)%2==0:\n",
    "    print('입력한 숫자', x, '는 짝수 입니다.')\n",
    "else:\n",
    "    print('입력한 숫자', x, '는 홀수 입니다.')"
   ]
  },
  {
   "cell_type": "markdown",
   "id": "426e05ce",
   "metadata": {},
   "source": [
    "## 2.다중 조건문 사용하기 elif"
   ]
  },
  {
   "cell_type": "markdown",
   "id": "e484797f",
   "metadata": {},
   "source": [
    "if 조건식:\n",
    "    조건식이 참일 때 실행할 코드\n",
    "elif 조건식2:\n",
    "    조건식2가 참일 때 실행할 코드\n",
    "elif 조건식3:\n",
    "    조건식3이 참일 때 실행할 코드\n",
    "else:\n",
    "    조건식 1,2,3이 모두 아닐 경우"
   ]
  },
  {
   "cell_type": "code",
   "execution_count": null,
   "id": "f609a7fd",
   "metadata": {},
   "outputs": [],
   "source": [
    "점수 학점이 "
   ]
  },
  {
   "cell_type": "markdown",
   "id": "1df86fc2",
   "metadata": {},
   "source": [
    "점수를 입력받아서 학점을 출력하는 프로그램"
   ]
  },
  {
   "cell_type": "code",
   "execution_count": null,
   "id": "4418e177",
   "metadata": {},
   "outputs": [],
   "source": [
    "score=int(input(\"점수를 입력하세요: \"))\n",
    "if 81 <=  score <= 100:\n",
    "    print('학점: A')\n",
    "elif 61 <=  score <= 80:\n",
    "    print('학점: A')\n",
    "elif 41 <=  score <= 60:\n",
    "    print('학점: A')\n",
    "elif 21 <=  score <= 40:\n",
    "    print('학점: A')\n",
    "elif 0 <=  score <= 20:\n",
    "    print('학점: A')\n",
    "else:\n",
    "    print(\"점수를 0-100점 사이로 입력하세요\")"
   ]
  },
  {
   "cell_type": "markdown",
   "id": "600c00df",
   "metadata": {},
   "source": [
    "국어, 영어, 수학, 과학 점수를 입력해서 평균 80점 이상이면 합격, 미만이면 불합격 단, 과목당 60점 미만이 있으면 과락으로 불합격\n",
    "입력 범위는 0-100이며 범위를 벗어나면 '입력범위 초과'를 출력"
   ]
  },
  {
   "cell_type": "code",
   "execution_count": 12,
   "id": "51d7020a",
   "metadata": {},
   "outputs": [
    {
     "name": "stdout",
     "output_type": "stream",
     "text": [
      "점수를 입력하세요: 100 60 50 80\n",
      "불합격\n"
     ]
    }
   ],
   "source": [
    "ko, en, ma, sc =input(\"점수를 입력하세요: \").split()\n",
    "av= (int(ko)+int(en)+int(ma)+int(sc))/4\n",
    "\n",
    "if 60<=int(ko)<=100 and 60<=int(en)<=100 and 60<=int(ma)<=100 and 60<=int(sc)<=100 :\n",
    "    \n",
    "        if 80 <=  av :\n",
    "            print('합격')\n",
    "        else: \n",
    "            print('불합격')\n",
    "            \n",
    "elif 0<=int(ko)<60 or 0<=int(en)<60 or 0<=int(ma)<60 or 0<=int(sc)<60 :\n",
    "        print(\"불합격\")\n",
    "        \n",
    "else:\n",
    "    print(\"입력범위 초과\")"
   ]
  },
  {
   "cell_type": "code",
   "execution_count": 15,
   "id": "337327bb",
   "metadata": {},
   "outputs": [
    {
     "name": "stdout",
     "output_type": "stream",
     "text": [
      "점수를 입력하세요: 1 2 3 4\n",
      "1\n"
     ]
    },
    {
     "data": {
      "text/plain": [
       "int"
      ]
     },
     "execution_count": 15,
     "metadata": {},
     "output_type": "execute_result"
    }
   ],
   "source": [
    "#맵이라는 함수를 사용하면 한번에 형변환이 가능하다!\n",
    "ko, en, ma, sc =list(map(int,input(\"점수를 입력하세요: \").split()))\n",
    "print(ko)\n",
    "type(ko)"
   ]
  },
  {
   "cell_type": "code",
   "execution_count": null,
   "id": "74721342",
   "metadata": {},
   "outputs": [],
   "source": []
  },
  {
   "cell_type": "code",
   "execution_count": null,
   "id": "443b9b14",
   "metadata": {},
   "outputs": [],
   "source": []
  },
  {
   "cell_type": "code",
   "execution_count": null,
   "id": "c516e52a",
   "metadata": {},
   "outputs": [],
   "source": []
  },
  {
   "cell_type": "code",
   "execution_count": null,
   "id": "46bfdf16",
   "metadata": {},
   "outputs": [],
   "source": []
  },
  {
   "cell_type": "code",
   "execution_count": null,
   "id": "3701856f",
   "metadata": {},
   "outputs": [],
   "source": []
  }
 ],
 "metadata": {
  "kernelspec": {
   "display_name": "Python 3 (ipykernel)",
   "language": "python",
   "name": "python3"
  },
  "language_info": {
   "codemirror_mode": {
    "name": "ipython",
    "version": 3
   },
   "file_extension": ".py",
   "mimetype": "text/x-python",
   "name": "python",
   "nbconvert_exporter": "python",
   "pygments_lexer": "ipython3",
   "version": "3.10.14"
  }
 },
 "nbformat": 4,
 "nbformat_minor": 5
}
