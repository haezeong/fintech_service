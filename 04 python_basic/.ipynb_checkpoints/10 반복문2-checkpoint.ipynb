{
 "cells": [
  {
   "cell_type": "code",
   "execution_count": null,
   "id": "06558454",
   "metadata": {},
   "outputs": [],
   "source": [
    "#시계 만들기\n",
    "for si in range(0,24): #시침\n",
    "    for bun in range(0,60): #분침\n",
    "        print(si, \"시, bun, \"분\")"
   ]
  }
 ],
 "metadata": {
  "kernelspec": {
   "display_name": "Python 3 (ipykernel)",
   "language": "python",
   "name": "python3"
  },
  "language_info": {
   "codemirror_mode": {
    "name": "ipython",
    "version": 3
   },
   "file_extension": ".py",
   "mimetype": "text/x-python",
   "name": "python",
   "nbconvert_exporter": "python",
   "pygments_lexer": "ipython3",
   "version": "3.10.14"
  }
 },
 "nbformat": 4,
 "nbformat_minor": 5
}
