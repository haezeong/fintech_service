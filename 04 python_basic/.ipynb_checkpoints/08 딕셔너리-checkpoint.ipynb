{
 "cells": [
  {
   "cell_type": "markdown",
   "id": "3cbf176f",
   "metadata": {},
   "source": [
    "# 딕셔너리 dict 사용하기"
   ]
  },
  {
   "cell_type": "markdown",
   "id": "116f9c3b",
   "metadata": {},
   "source": [
    "* 딕셔너리형 (dictionary) JSON형 이라고도 함.\n",
    "* 웹상에서 가장 많이 사용되는 자료형\n",
    "* 딕셔너리를 잘 이해하면 pandas도 쉽게 이해 가능\n",
    "* key : value로 이루어진 자료형\n",
    "* key를 호출하면 value가 나온다.\n"
   ]
  },
  {
   "cell_type": "markdown",
   "id": "40b40aff",
   "metadata": {},
   "source": [
    "## 딕셔너리 만들기: {key: value, key:value} "
   ]
  },
  {
   "cell_type": "code",
   "execution_count": 1,
   "id": "5eba9a1b",
   "metadata": {},
   "outputs": [],
   "source": [
    "d ={'년월' : '20240710', '국가': '미국', '방문자수':1000}"
   ]
  },
  {
   "cell_type": "code",
   "execution_count": 2,
   "id": "91c969ee",
   "metadata": {},
   "outputs": [],
   "source": [
    "# 딕셔너리 안에 모든 자료형 다 들어갈 수 있다.\n",
    "#딕셔너리도 중괄호로 포장되어있기 때문에 키이름 적어주면 벨류가 나온다"
   ]
  },
  {
   "cell_type": "code",
   "execution_count": 3,
   "id": "87fbdb9c",
   "metadata": {},
   "outputs": [
    {
     "data": {
      "text/plain": [
       "'20240710'"
      ]
     },
     "execution_count": 3,
     "metadata": {},
     "output_type": "execute_result"
    }
   ],
   "source": [
    "d['년월']"
   ]
  },
  {
   "cell_type": "code",
   "execution_count": 4,
   "id": "9c8ab9c1",
   "metadata": {},
   "outputs": [
    {
     "data": {
      "text/plain": [
       "1000"
      ]
     },
     "execution_count": 4,
     "metadata": {},
     "output_type": "execute_result"
    }
   ],
   "source": [
    "d['방문자수']"
   ]
  },
  {
   "cell_type": "markdown",
   "id": "b4f76e82",
   "metadata": {},
   "source": [
    "## 딕셔너리 key의 자료형\n",
    "* 문자열, 정수, 실수, 불린(True, False), tuple\n",
    "* list, dict 는 key가 될 수 없다.\n",
    "* 튜플은 가능"
   ]
  },
  {
   "cell_type": "code",
   "execution_count": 5,
   "id": "4b017093",
   "metadata": {},
   "outputs": [],
   "source": [
    "e= {'백':100, 100 : '백', 3.5:[3.6,3.7], False: 0, (0, '서울'):'종로구'}"
   ]
  },
  {
   "cell_type": "code",
   "execution_count": 6,
   "id": "9ed12550",
   "metadata": {},
   "outputs": [
    {
     "data": {
      "text/plain": [
       "{'백': 100, 100: '백', 3.5: [3.6, 3.7], False: 0, (0, '서울'): '종로구'}"
      ]
     },
     "execution_count": 6,
     "metadata": {},
     "output_type": "execute_result"
    }
   ],
   "source": [
    "e"
   ]
  },
  {
   "cell_type": "code",
   "execution_count": 7,
   "id": "d076dd75",
   "metadata": {},
   "outputs": [
    {
     "data": {
      "text/plain": [
       "100"
      ]
     },
     "execution_count": 7,
     "metadata": {},
     "output_type": "execute_result"
    }
   ],
   "source": [
    "e['백']"
   ]
  },
  {
   "cell_type": "code",
   "execution_count": 8,
   "id": "6a902b12",
   "metadata": {},
   "outputs": [
    {
     "data": {
      "text/plain": [
       "[3.6, 3.7]"
      ]
     },
     "execution_count": 8,
     "metadata": {},
     "output_type": "execute_result"
    }
   ],
   "source": [
    "e[3.5]"
   ]
  },
  {
   "cell_type": "code",
   "execution_count": 9,
   "id": "326e2076",
   "metadata": {},
   "outputs": [
    {
     "data": {
      "text/plain": [
       "0"
      ]
     },
     "execution_count": 9,
     "metadata": {},
     "output_type": "execute_result"
    }
   ],
   "source": [
    "e[False]"
   ]
  },
  {
   "cell_type": "code",
   "execution_count": 10,
   "id": "2241b3ae",
   "metadata": {},
   "outputs": [
    {
     "data": {
      "text/plain": [
       "'종로구'"
      ]
     },
     "execution_count": 10,
     "metadata": {},
     "output_type": "execute_result"
    }
   ],
   "source": [
    "e[(0, '서울')]"
   ]
  },
  {
   "cell_type": "markdown",
   "id": "37355294",
   "metadata": {},
   "source": [
    "## 딕셔너리 value의 자료형\n",
    "* value는 모든 자료형이 올 수 있다\n",
    "* 리스트, 튜플등 다른 박스들"
   ]
  },
  {
   "cell_type": "code",
   "execution_count": 11,
   "id": "fda2c079",
   "metadata": {},
   "outputs": [],
   "source": [
    "f= {'정수':100, '실수':13.5,'문자열':'딕셔너리의 값','리스트':[1,2,3,4],'튜플':(1,2,3,4),'딕셔너리':{'key':'value'},'불린':True}"
   ]
  },
  {
   "cell_type": "code",
   "execution_count": 12,
   "id": "69518a66",
   "metadata": {},
   "outputs": [
    {
     "data": {
      "text/plain": [
       "{'정수': 100,\n",
       " '실수': 13.5,\n",
       " '문자열': '딕셔너리의 값',\n",
       " '리스트': [1, 2, 3, 4],\n",
       " '튜플': (1, 2, 3, 4),\n",
       " '딕셔너리': {'key': 'value'},\n",
       " '불린': True}"
      ]
     },
     "execution_count": 12,
     "metadata": {},
     "output_type": "execute_result"
    }
   ],
   "source": [
    "f"
   ]
  },
  {
   "cell_type": "code",
   "execution_count": 13,
   "id": "eac955fe",
   "metadata": {},
   "outputs": [
    {
     "data": {
      "text/plain": [
       "[1, 2, 3, 4]"
      ]
     },
     "execution_count": 13,
     "metadata": {},
     "output_type": "execute_result"
    }
   ],
   "source": [
    "f['리스트']"
   ]
  },
  {
   "cell_type": "code",
   "execution_count": 14,
   "id": "0298649e",
   "metadata": {},
   "outputs": [
    {
     "data": {
      "text/plain": [
       "3"
      ]
     },
     "execution_count": 14,
     "metadata": {},
     "output_type": "execute_result"
    }
   ],
   "source": [
    "f['리스트'][2]"
   ]
  },
  {
   "cell_type": "code",
   "execution_count": null,
   "id": "ad8dfa8b",
   "metadata": {},
   "outputs": [],
   "source": [
    "#무조건 박스가 나오면 대괄호로 풀면 된다"
   ]
  },
  {
   "cell_type": "code",
   "execution_count": 15,
   "id": "f7420b06",
   "metadata": {},
   "outputs": [
    {
     "data": {
      "text/plain": [
       "'value'"
      ]
     },
     "execution_count": 15,
     "metadata": {},
     "output_type": "execute_result"
    }
   ],
   "source": [
    "f['딕셔너리']['key']"
   ]
  },
  {
   "cell_type": "markdown",
   "id": "0c77be24",
   "metadata": {},
   "source": [
    "## 빈 딕셔너리 만들기\n",
    "* {}\n",
    "* dict()\n",
    "* "
   ]
  },
  {
   "cell_type": "code",
   "execution_count": 16,
   "id": "30049fc3",
   "metadata": {},
   "outputs": [
    {
     "data": {
      "text/plain": [
       "{}"
      ]
     },
     "execution_count": 16,
     "metadata": {},
     "output_type": "execute_result"
    }
   ],
   "source": [
    "g = {}\n",
    "g"
   ]
  },
  {
   "cell_type": "code",
   "execution_count": 17,
   "id": "33bfb686",
   "metadata": {},
   "outputs": [
    {
     "data": {
      "text/plain": [
       "{}"
      ]
     },
     "execution_count": 17,
     "metadata": {},
     "output_type": "execute_result"
    }
   ],
   "source": [
    "h = dict()\n",
    "h"
   ]
  },
  {
   "cell_type": "markdown",
   "id": "dde094bc",
   "metadata": {},
   "source": [
    "## 딕셔너리에 자료 추가하기\n",
    "* 변수['key'] =value"
   ]
  },
  {
   "cell_type": "code",
   "execution_count": 19,
   "id": "36334116",
   "metadata": {},
   "outputs": [
    {
     "data": {
      "text/plain": [
       "{'번호': 0}"
      ]
     },
     "execution_count": 19,
     "metadata": {},
     "output_type": "execute_result"
    }
   ],
   "source": [
    "g['번호']=0\n",
    "g"
   ]
  },
  {
   "cell_type": "code",
   "execution_count": 21,
   "id": "07251187",
   "metadata": {},
   "outputs": [
    {
     "data": {
      "text/plain": [
       "{'번호': 0, '이름': '홍길동'}"
      ]
     },
     "execution_count": 21,
     "metadata": {},
     "output_type": "execute_result"
    }
   ],
   "source": [
    "g['이름']= '홍길동'\n",
    "g"
   ]
  },
  {
   "cell_type": "code",
   "execution_count": null,
   "id": "3d5de4cc",
   "metadata": {},
   "outputs": [],
   "source": [
    "# 딕셔너리의 value를 수정할때?"
   ]
  },
  {
   "cell_type": "markdown",
   "id": "d78a7fe2",
   "metadata": {},
   "source": [
    "## 딕셔너리의 value 수정하기\n",
    "* g['key'] = 새 value"
   ]
  },
  {
   "cell_type": "code",
   "execution_count": 22,
   "id": "8042ad4a",
   "metadata": {},
   "outputs": [
    {
     "data": {
      "text/plain": [
       "{'번호': 2, '이름': '홍길동'}"
      ]
     },
     "execution_count": 22,
     "metadata": {},
     "output_type": "execute_result"
    }
   ],
   "source": [
    "g['번호']=2\n",
    "g"
   ]
  },
  {
   "cell_type": "code",
   "execution_count": 23,
   "id": "5c630aed",
   "metadata": {},
   "outputs": [
    {
     "data": {
      "text/plain": [
       "{'번호': 2, '이름': '김삼순'}"
      ]
     },
     "execution_count": 23,
     "metadata": {},
     "output_type": "execute_result"
    }
   ],
   "source": [
    "g['이름']= '김삼순'\n",
    "g"
   ]
  },
  {
   "cell_type": "markdown",
   "id": "2d8e749e",
   "metadata": {},
   "source": [
    " ## dict()로 딕셔너리 만들기"
   ]
  },
  {
   "cell_type": "markdown",
   "id": "df4258fd",
   "metadata": {},
   "source": [
    "### 1) dict(key1 = value1, key2='value2')\n",
    "* key에 '',\"\"를 사용하지 않는다.\n",
    "* key는 모두 문자로 변환된다.\n",
    "* value가 문자형 자료하면 반드시 \"\",\"가 필요하다."
   ]
  },
  {
   "cell_type": "code",
   "execution_count": 24,
   "id": "8e619e2b",
   "metadata": {},
   "outputs": [
    {
     "data": {
      "text/plain": [
       "{'정수': 100,\n",
       " '실수': 13.5,\n",
       " '문자': '문자열',\n",
       " '리스트': [1, 2, 3],\n",
       " '튜플': (4, 5, 6),\n",
       " '딕셔너리는': {'key': 'value'}}"
      ]
     },
     "execution_count": 24,
     "metadata": {},
     "output_type": "execute_result"
    }
   ],
   "source": [
    "d= dict(정수=100, 실수=13.5, 문자='문자열', 리스트=[1,2,3], 튜플=(4,5,6), 딕셔너리는={'key':'value'})\n",
    "d"
   ]
  },
  {
   "cell_type": "code",
   "execution_count": 25,
   "id": "4afe57da",
   "metadata": {},
   "outputs": [],
   "source": [
    "#키를 문자로만 만들 경우에 자동으로 문자형으로 만들어줌 -콜론x, 따옴표 x"
   ]
  },
  {
   "cell_type": "markdown",
   "id": "a5d676b0",
   "metadata": {},
   "source": [
    "### 2) dict([(key1, value1),(key2,value2)]) 형식으로 만들기\n",
    "* 리스트 안에 튜플을 나열해서 만듬"
   ]
  },
  {
   "cell_type": "code",
   "execution_count": 26,
   "id": "f2914ed1",
   "metadata": {},
   "outputs": [
    {
     "data": {
      "text/plain": [
       "{'key1': 100, '실수': 3.14, '리스트': [1, 2, 3]}"
      ]
     },
     "execution_count": 26,
     "metadata": {},
     "output_type": "execute_result"
    }
   ],
   "source": [
    "d2 = dict([('key1',100),('실수',3.14),('리스트',[1,2,3])])\n",
    "d2"
   ]
  },
  {
   "cell_type": "markdown",
   "id": "e7e1a581",
   "metadata": {},
   "source": [
    "### 3) dict(zip([key1,key2],[value1, value2])) 형식으로 만들기\n",
    "* key 묶음 리스트와 value 묶음 리스트를 zip함수로 합친 후 dict로 만듬\n",
    "* key 묶음과 value 묶음은 요소의 개수가 같아야 함"
   ]
  },
  {
   "cell_type": "code",
   "execution_count": 30,
   "id": "065a0d66",
   "metadata": {},
   "outputs": [
    {
     "data": {
      "text/plain": [
       "{'문자열': '딕셔너리의 값',\n",
       " '리스트': [1, 2, 3, 4],\n",
       " '튜플': (5, 6, 7, 8),\n",
       " '딕셔너리': {'key': 'value'},\n",
       " '불린': True}"
      ]
     },
     "execution_count": 30,
     "metadata": {},
     "output_type": "execute_result"
    }
   ],
   "source": [
    "d3 =dict(zip(['문자열','리스트','튜플','딕셔너리','불린'],['딕셔너리의 값',[1,2,3,4], (5,6,7,8),{'key':'value'}, True]))\n",
    "d3"
   ]
  },
  {
   "cell_type": "markdown",
   "id": "3a2b7e54",
   "metadata": {},
   "source": [
    "### 딕셔너리에서 값 삭제하기"
   ]
  },
  {
   "cell_type": "code",
   "execution_count": 31,
   "id": "2524a3a3",
   "metadata": {},
   "outputs": [
    {
     "data": {
      "text/plain": [
       "{'문자열': '딕셔너리의 값',\n",
       " '리스트': [1, 2, 3, 4],\n",
       " '튜플': (5, 6, 7, 8),\n",
       " '딕셔너리': {'key': 'value'},\n",
       " '불린': True}"
      ]
     },
     "execution_count": 31,
     "metadata": {},
     "output_type": "execute_result"
    }
   ],
   "source": [
    "d3"
   ]
  },
  {
   "cell_type": "code",
   "execution_count": 32,
   "id": "f37ad489",
   "metadata": {},
   "outputs": [],
   "source": [
    "d3['믄자열'] ='오타가 난 키값'"
   ]
  },
  {
   "cell_type": "code",
   "execution_count": 33,
   "id": "0a3e4454",
   "metadata": {},
   "outputs": [
    {
     "data": {
      "text/plain": [
       "{'문자열': '딕셔너리의 값',\n",
       " '리스트': [1, 2, 3, 4],\n",
       " '튜플': (5, 6, 7, 8),\n",
       " '딕셔너리': {'key': 'value'},\n",
       " '불린': True,\n",
       " '믄자열': '오타가 난 키값'}"
      ]
     },
     "execution_count": 33,
     "metadata": {},
     "output_type": "execute_result"
    }
   ],
   "source": [
    "d3"
   ]
  },
  {
   "cell_type": "markdown",
   "id": "8bed7d28",
   "metadata": {},
   "source": [
    "#### del 변수명['key']key와 value가 동시 삭제"
   ]
  },
  {
   "cell_type": "code",
   "execution_count": 34,
   "id": "d4b28c08",
   "metadata": {},
   "outputs": [
    {
     "data": {
      "text/plain": [
       "{'문자열': '딕셔너리의 값',\n",
       " '리스트': [1, 2, 3, 4],\n",
       " '튜플': (5, 6, 7, 8),\n",
       " '딕셔너리': {'key': 'value'},\n",
       " '불린': True}"
      ]
     },
     "execution_count": 34,
     "metadata": {},
     "output_type": "execute_result"
    }
   ],
   "source": [
    "del d3['믄자열']\n",
    "d3"
   ]
  },
  {
   "cell_type": "code",
   "execution_count": 36,
   "id": "56aade45",
   "metadata": {},
   "outputs": [],
   "source": [
    "del d3['리스트'][1]"
   ]
  },
  {
   "cell_type": "code",
   "execution_count": 37,
   "id": "8257bceb",
   "metadata": {},
   "outputs": [
    {
     "data": {
      "text/plain": [
       "{'문자열': '딕셔너리의 값',\n",
       " '리스트': [1, 3, 4],\n",
       " '튜플': (5, 6, 7, 8),\n",
       " '딕셔너리': {'key': 'value'},\n",
       " '불린': True}"
      ]
     },
     "execution_count": 37,
     "metadata": {},
     "output_type": "execute_result"
    }
   ],
   "source": [
    "d3"
   ]
  },
  {
   "cell_type": "code",
   "execution_count": 38,
   "id": "600130e4",
   "metadata": {},
   "outputs": [
    {
     "data": {
      "text/plain": [
       "[1, 3, 4]"
      ]
     },
     "execution_count": 38,
     "metadata": {},
     "output_type": "execute_result"
    }
   ],
   "source": [
    "d3['리스트']"
   ]
  },
  {
   "cell_type": "code",
   "execution_count": 40,
   "id": "c0cc66ce",
   "metadata": {},
   "outputs": [
    {
     "data": {
      "text/plain": [
       "4"
      ]
     },
     "execution_count": 40,
     "metadata": {},
     "output_type": "execute_result"
    }
   ],
   "source": [
    "d3['리스트'].pop()"
   ]
  },
  {
   "cell_type": "code",
   "execution_count": 41,
   "id": "b10dcb6e",
   "metadata": {},
   "outputs": [
    {
     "data": {
      "text/plain": [
       "{'문자열': '딕셔너리의 값',\n",
       " '리스트': [1, 2, 3],\n",
       " '튜플': (5, 6, 7, 8),\n",
       " '딕셔너리': {'key': 'value'},\n",
       " '불린': True}"
      ]
     },
     "execution_count": 41,
     "metadata": {},
     "output_type": "execute_result"
    }
   ],
   "source": [
    "d3['리스트'].insert(1,2)\n",
    "d3"
   ]
  },
  {
   "cell_type": "markdown",
   "id": "a9ffb13b",
   "metadata": {},
   "source": [
    "### 딕셔너리 안에 특정 key가 있는지 확인하기\n",
    "* in, not in 연산자 사용"
   ]
  },
  {
   "cell_type": "code",
   "execution_count": 43,
   "id": "7c154740",
   "metadata": {},
   "outputs": [
    {
     "data": {
      "text/plain": [
       "True"
      ]
     },
     "execution_count": 43,
     "metadata": {},
     "output_type": "execute_result"
    }
   ],
   "source": [
    "'리스트' in d3"
   ]
  },
  {
   "cell_type": "code",
   "execution_count": 44,
   "id": "946f1e68",
   "metadata": {},
   "outputs": [
    {
     "data": {
      "text/plain": [
       "True"
      ]
     },
     "execution_count": 44,
     "metadata": {},
     "output_type": "execute_result"
    }
   ],
   "source": [
    "'이름' not in d3"
   ]
  },
  {
   "cell_type": "markdown",
   "id": "b620ce36",
   "metadata": {},
   "source": [
    "### len()로 딕셔너리 key의 개수 구하기"
   ]
  },
  {
   "cell_type": "code",
   "execution_count": 45,
   "id": "703f0732",
   "metadata": {},
   "outputs": [
    {
     "data": {
      "text/plain": [
       "5"
      ]
     },
     "execution_count": 45,
     "metadata": {},
     "output_type": "execute_result"
    }
   ],
   "source": [
    "len(d3)"
   ]
  },
  {
   "cell_type": "code",
   "execution_count": null,
   "id": "1e2fa203",
   "metadata": {},
   "outputs": [],
   "source": [
    "#딕셔너리의 키의 개수만 찾아준다-가장 밖에있는 키의 개수만 센다. 안에있는 박스는 열어야 셀수있다"
   ]
  },
  {
   "cell_type": "markdown",
   "id": "94196829",
   "metadata": {},
   "source": [
    "## 딕셔너리 함수 사용하기"
   ]
  },
  {
   "cell_type": "markdown",
   "id": "9d0845d4",
   "metadata": {},
   "source": [
    "### 1) setdefault(key, value)\n",
    "* 딕셔너리에 key와 value를 추가\n",
    "* key만 지정하면 value는 'None'으로 입력 됨"
   ]
  },
  {
   "cell_type": "code",
   "execution_count": 47,
   "id": "b60ec3fb",
   "metadata": {},
   "outputs": [
    {
     "data": {
      "text/plain": [
       "{'문자열': '딕셔너리의 값',\n",
       " '리스트': [1, 2, 3],\n",
       " '튜플': (5, 6, 7, 8),\n",
       " '딕셔너리': {'key': 'value'},\n",
       " '불린': True,\n",
       " 'd': None}"
      ]
     },
     "execution_count": 47,
     "metadata": {},
     "output_type": "execute_result"
    }
   ],
   "source": [
    "d3.setdefault('d')\n",
    "d3"
   ]
  },
  {
   "cell_type": "code",
   "execution_count": 48,
   "id": "52d67080",
   "metadata": {},
   "outputs": [
    {
     "data": {
      "text/plain": [
       "{'문자열': '딕셔너리의 값',\n",
       " '리스트': [1, 2, 3],\n",
       " '튜플': (5, 6, 7, 8),\n",
       " '딕셔너리': {'key': 'value'},\n",
       " '불린': True,\n",
       " 'd': None,\n",
       " 'e': 123}"
      ]
     },
     "execution_count": 48,
     "metadata": {},
     "output_type": "execute_result"
    }
   ],
   "source": [
    "d3.setdefault('e',123)\n",
    "d3"
   ]
  },
  {
   "cell_type": "code",
   "execution_count": 51,
   "id": "879e9351",
   "metadata": {},
   "outputs": [
    {
     "data": {
      "text/plain": [
       "{'문자열': '딕셔너리의 값',\n",
       " '리스트': '리스트지',\n",
       " '튜플': (5, 6, 7, 8),\n",
       " '딕셔너리': {'key': 'value'},\n",
       " '불린': True,\n",
       " 'd': None,\n",
       " 'e': 123}"
      ]
     },
     "execution_count": 51,
     "metadata": {},
     "output_type": "execute_result"
    }
   ],
   "source": [
    "d4={'문자열': '딕셔너리의 값',\n",
    " '리스트': [1, 2, 3],\n",
    " '튜플': (5, 6, 7, 8),\n",
    " '딕셔너리': {'key': 'value'},\n",
    " '불린': True,\n",
    " 'd': None,\n",
    " 'e': 123,\n",
    "   '리스트':'리스트지'}\n",
    "d4"
   ]
  },
  {
   "cell_type": "code",
   "execution_count": null,
   "id": "98e0677e",
   "metadata": {},
   "outputs": [],
   "source": [
    "#앞에있는 123이 없어지고 마지막의 리스트키가 들어감\n",
    "#딕셔너리 안에서는 키가 중복될 수 없다\n",
    "#만약 키가 중복되면 뒤에 할당한 값으로 덮어씌워진다.\n",
    "#재할당"
   ]
  },
  {
   "cell_type": "code",
   "execution_count": 50,
   "id": "170ca0eb",
   "metadata": {},
   "outputs": [
    {
     "data": {
      "text/plain": [
       "{'문자열': '딕셔너리의 값',\n",
       " '리스트': '샐운 값',\n",
       " '튜플': (5, 6, 7, 8),\n",
       " '딕셔너리': {'key': 'value'},\n",
       " '불린': True,\n",
       " 'd': None,\n",
       " 'e': 123}"
      ]
     },
     "execution_count": 50,
     "metadata": {},
     "output_type": "execute_result"
    }
   ],
   "source": [
    "d4['리스트']= '샐운 값'\n",
    "d4"
   ]
  },
  {
   "cell_type": "code",
   "execution_count": null,
   "id": "5149f655",
   "metadata": {},
   "outputs": [],
   "source": [
    "#키가 중복되면 오류가 나진 않고, 새로운 값으로'업데이트'로 받아들여집 -> 키가 중복되면 안된다\n",
    "#업데이트 하고 싶을때, 직접할당하는 것은 적절한 방법이 아니다.\n",
    "#이럴때는 setdefault이용해서 나타냄\n",
    "#안전하게 자료를 지키면서 업데이트 할 수 있다"
   ]
  },
  {
   "cell_type": "markdown",
   "id": "1581b6f4",
   "metadata": {},
   "source": [
    "- setdefault는 기존에 key가 있는 경우 value를 업데이트 하지 않음."
   ]
  },
  {
   "cell_type": "code",
   "execution_count": 52,
   "id": "95c91f85",
   "metadata": {},
   "outputs": [
    {
     "data": {
      "text/plain": [
       "{'문자열': '딕셔너리의 값',\n",
       " '리스트': '리스트지',\n",
       " '튜플': (5, 6, 7, 8),\n",
       " '딕셔너리': {'key': 'value'},\n",
       " '불린': True,\n",
       " 'd': None,\n",
       " 'e': 123}"
      ]
     },
     "execution_count": 52,
     "metadata": {},
     "output_type": "execute_result"
    }
   ],
   "source": [
    "d4.setdefault('e','eeee')\n",
    "d4"
   ]
  },
  {
   "cell_type": "markdown",
   "id": "b8a1de7d",
   "metadata": {},
   "source": [
    "### 2) update(key=value)\n",
    "- key는 문자형 key라도 \",\"를 사용하지x\n",
    "- key를 문자형이 아니라 정수, 실수, 튜플로 넣은 경우에는 {key:value}형식으로 넣는다"
   ]
  },
  {
   "cell_type": "code",
   "execution_count": 55,
   "id": "ffd556a2",
   "metadata": {},
   "outputs": [
    {
     "data": {
      "text/plain": [
       "{'문자열': '딕셔너리의 값',\n",
       " '리스트': '리스트지',\n",
       " '튜플': (5, 6, 7, 8),\n",
       " '딕셔너리': {'key': 'value'},\n",
       " '불린': True,\n",
       " 'd': None,\n",
       " 'e': 'eee'}"
      ]
     },
     "execution_count": 55,
     "metadata": {},
     "output_type": "execute_result"
    }
   ],
   "source": [
    "d4.update(e='eee')\n",
    "d4"
   ]
  },
  {
   "cell_type": "code",
   "execution_count": 58,
   "id": "29e44a58",
   "metadata": {},
   "outputs": [
    {
     "data": {
      "text/plain": [
       "{'문자열': '딕셔너리의 값',\n",
       " '리스트': '리스트지',\n",
       " '튜플': (5, 6, 7, 8),\n",
       " '딕셔너리': {'key': 'value'},\n",
       " '불린': True,\n",
       " 'd': None,\n",
       " 'e': 'eee',\n",
       " 13: '십삼'}"
      ]
     },
     "execution_count": 58,
     "metadata": {},
     "output_type": "execute_result"
    }
   ],
   "source": [
    "d4.update({13:'십삼'})\n",
    "d4"
   ]
  },
  {
   "cell_type": "code",
   "execution_count": 55,
   "id": "04c23441",
   "metadata": {
    "scrolled": true
   },
   "outputs": [
    {
     "data": {
      "text/plain": [
       "{'문자열': '딕셔너리의 값',\n",
       " '리스트': '리스트지',\n",
       " '튜플': (5, 6, 7, 8),\n",
       " '딕셔너리': {'key': 'value'},\n",
       " '불린': True,\n",
       " 'd': None,\n",
       " 'e': 'eee'}"
      ]
     },
     "execution_count": 55,
     "metadata": {},
     "output_type": "execute_result"
    }
   ],
   "source": [
    "d4.update()\n",
    "d4"
   ]
  },
  {
   "cell_type": "code",
   "execution_count": 63,
   "id": "9ee57d4d",
   "metadata": {
    "scrolled": true
   },
   "outputs": [
    {
     "data": {
      "text/plain": [
       "{'문자열': '딕셔너리의 값',\n",
       " '리스트': '리스트지',\n",
       " '튜플': (5, 6, 7, 8),\n",
       " '딕셔너리': {'key': 'value'},\n",
       " '불린': True,\n",
       " 'd': None,\n",
       " 'e': 'eee',\n",
       " 13: '십삼',\n",
       " 'a': '십',\n",
       " 'b': '이십',\n",
       " 'c': '삼십'}"
      ]
     },
     "execution_count": 63,
     "metadata": {},
     "output_type": "execute_result"
    }
   ],
   "source": [
    "#리스트안에 리스트가 있는 다중 리스트\n",
    "d4.update([['a','십'],['b','이십'],['c','삼십']])\n",
    "d4"
   ]
  },
  {
   "cell_type": "code",
   "execution_count": 64,
   "id": "655e79eb",
   "metadata": {
    "scrolled": true
   },
   "outputs": [
    {
     "data": {
      "text/plain": [
       "{'문자열': '딕셔너리의 값',\n",
       " '리스트': '리스트지',\n",
       " '튜플': (5, 6, 7, 8),\n",
       " '딕셔너리': {'key': 'value'},\n",
       " '불린': True,\n",
       " 'd': '사십',\n",
       " 'e': '오십',\n",
       " 13: '십삼',\n",
       " 'a': '십',\n",
       " 'b': '이십',\n",
       " 'c': '삼십',\n",
       " 'f': '육십'}"
      ]
     },
     "execution_count": 64,
     "metadata": {},
     "output_type": "execute_result"
    }
   ],
   "source": [
    "#튜플안에 튜플이 있는 다중 튜플\n",
    "d4.update([['d','사십'],['e','오십'],['f','육십']])\n",
    "d4"
   ]
  },
  {
   "cell_type": "code",
   "execution_count": null,
   "id": "e1570506",
   "metadata": {},
   "outputs": [],
   "source": [
    "#처음 할당하는 경우는 그냥\n",
    "#중괄호 써서 업데이트 해야해"
   ]
  },
  {
   "cell_type": "code",
   "execution_count": null,
   "id": "c881640c",
   "metadata": {},
   "outputs": [],
   "source": [
    "#딕셔너리에서 삭제할 때 특정 문자가 없어도 오류내지 않고 맨 뒤에 있는 것을 반환한다\n",
    "#del로 삭제하는 경우에는 중간에 중지되고 멈춰서 다시 실행해야해\n",
    "#pop은 코드가 안멈추고 끝까지 진행가능하다\n",
    "#set디폴트, 팝, 겟 -> 코드가 멈추지 않고 계속 진행되기 대문에 이런 함수들을 사용한다\n"
   ]
  },
  {
   "cell_type": "code",
   "execution_count": null,
   "id": "65eff851",
   "metadata": {},
   "outputs": [],
   "source": []
  },
  {
   "cell_type": "markdown",
   "id": "dd310036",
   "metadata": {},
   "source": [
    "### 딕셔너리에서 value 가져오는 함수 .get()\n",
    "- .get(key, key가 없을때 가져오는 기본값)\n",
    "\n",
    "#키를 바로써서 가져오지 않고, get을 사용하여 가져오는 것이 좋다\n",
    "#업데이트할때는 직접하는 것보다 업데이트 함수쓰거나, 키있을때 업데이트 하지 않으려면 셋티폴트써서 방지해야한다\n",
    "#del 보다는 pop\n",
    "#앞으로 반복문 돌리다보면 안에 내용이 어떻게 될지 모른다\n",
    "#문제없이 코드가 돌아가기위해서는 직접 가져오려고하는 것보다 관련 함수 사용해줘야 오류가 없다\n",
    "#오류 방지를 위해서 위의 함수들을 쓰는 것이다"
   ]
  },
  {
   "cell_type": "code",
   "execution_count": null,
   "id": "7ef17757",
   "metadata": {},
   "outputs": [],
   "source": []
  },
  {
   "cell_type": "markdown",
   "id": "9011150c",
   "metadata": {},
   "source": [
    "### 진짜 많이쓰는 함수 ** 진짜 중요\n",
    "## 딕셔너리에서 key와 value, key, value를 가져오는 함수\n",
    "* items(): dict(key, value)\n",
    "* keys() : .[key1, key2, key3]\n",
    "* values(): [value1, value2, value3]"
   ]
  },
  {
   "cell_type": "code",
   "execution_count": null,
   "id": "5367f1e3",
   "metadata": {},
   "outputs": [],
   "source": []
  },
  {
   "cell_type": "code",
   "execution_count": null,
   "id": "0d9126d9",
   "metadata": {},
   "outputs": [],
   "source": [
    "#생긴건 딕셔너리처럼 생겨서"
   ]
  },
  {
   "cell_type": "code",
   "execution_count": 65,
   "id": "1e6625f7",
   "metadata": {},
   "outputs": [],
   "source": [
    "d4_items =d4.items()"
   ]
  },
  {
   "cell_type": "code",
   "execution_count": 66,
   "id": "37ad3050",
   "metadata": {},
   "outputs": [
    {
     "name": "stdout",
     "output_type": "stream",
     "text": [
      "<class 'dict_items'>\n"
     ]
    }
   ],
   "source": [
    "print(type(d4_items))   #리스트가 아니다\n",
    "#객체로 나온다"
   ]
  },
  {
   "cell_type": "code",
   "execution_count": 67,
   "id": "95baf27b",
   "metadata": {
    "scrolled": true
   },
   "outputs": [
    {
     "name": "stdout",
     "output_type": "stream",
     "text": [
      "dict_items([('문자열', '딕셔너리의 값'), ('리스트', '리스트지'), ('튜플', (5, 6, 7, 8)), ('딕셔너리', {'key': 'value'}), ('불린', True), ('d', '사십'), ('e', '오십'), (13, '십삼'), ('a', '십'), ('b', '이십'), ('c', '삼십'), ('f', '육십')])\n"
     ]
    }
   ],
   "source": [
    "print(d4_items) #그냥쓸수는 없고 리스트로쓸거면 형변화, 반복문사용해서 튜플로 사용가능"
   ]
  },
  {
   "cell_type": "code",
   "execution_count": null,
   "id": "cdeb7a90",
   "metadata": {},
   "outputs": [],
   "source": [
    "d4_items_list = list("
   ]
  },
  {
   "cell_type": "code",
   "execution_count": null,
   "id": "ce4a21ea",
   "metadata": {},
   "outputs": [],
   "source": [
    "for i in d4_items :  #또 반복문에서보면 시퀀스 객체라는 것을 알 수 있다 - 형변환 가능\n",
    "    print(i)"
   ]
  },
  {
   "cell_type": "code",
   "execution_count": null,
   "id": "a8d069fe",
   "metadata": {},
   "outputs": [],
   "source": [
    "#포장지를 딕트 아이템즈에서 리스트로 바꾸었기때문에\n",
    "#생긴게 리스트니까 형변환하면 다시 리스트가돼서 리스트처럼 사용할 수 있다\n",
    "#데이터 타입이 자유자재로 변화한다\n",
    "\n",
    "#반복문으로 돌려보면 잘 나온다\n",
    "#바로 쓸수는 없고 한번 변환해서 ㅆㅇ써야하는 타입들이 있다.\n",
    "#파이썬에서는 타입 확인을 꼭 해주자"
   ]
  },
  {
   "cell_type": "code",
   "execution_count": null,
   "id": "12abf580",
   "metadata": {},
   "outputs": [],
   "source": []
  },
  {
   "cell_type": "code",
   "execution_count": null,
   "id": "13f5bd57",
   "metadata": {},
   "outputs": [],
   "source": [
    "\n",
    "#반복문에 집어 넣으면 키만 나온다\n",
    "#딕셔너리를 반복문에 그냥 쓸 수 없다\n",
    "#한번에 키와 발류를 같이 출력할 수 있다- 반복문 사용해서\n",
    "for key, value in"
   ]
  },
  {
   "cell_type": "markdown",
   "id": "033de852",
   "metadata": {},
   "source": [
    "* keys(): key만 출력"
   ]
  },
  {
   "cell_type": "markdown",
   "id": "bce308ac",
   "metadata": {},
   "source": [
    "d4.keys() "
   ]
  },
  {
   "cell_type": "code",
   "execution_count": null,
   "id": "fd4861f1",
   "metadata": {},
   "outputs": [],
   "source": [
    "#타입확인은 반드시"
   ]
  },
  {
   "cell_type": "code",
   "execution_count": null,
   "id": "79167b05",
   "metadata": {},
   "outputs": [],
   "source": []
  },
  {
   "cell_type": "code",
   "execution_count": null,
   "id": "438cb5e7",
   "metadata": {},
   "outputs": [],
   "source": []
  },
  {
   "cell_type": "code",
   "execution_count": null,
   "id": "f7be27fb",
   "metadata": {},
   "outputs": [],
   "source": []
  },
  {
   "cell_type": "code",
   "execution_count": null,
   "id": "c1732998",
   "metadata": {},
   "outputs": [],
   "source": []
  },
  {
   "cell_type": "code",
   "execution_count": null,
   "id": "530a81ad",
   "metadata": {},
   "outputs": [],
   "source": []
  }
 ],
 "metadata": {
  "kernelspec": {
   "display_name": "Python 3 (ipykernel)",
   "language": "python",
   "name": "python3"
  },
  "language_info": {
   "codemirror_mode": {
    "name": "ipython",
    "version": 3
   },
   "file_extension": ".py",
   "mimetype": "text/x-python",
   "name": "python",
   "nbconvert_exporter": "python",
   "pygments_lexer": "ipython3",
   "version": "3.10.14"
  }
 },
 "nbformat": 4,
 "nbformat_minor": 5
}
