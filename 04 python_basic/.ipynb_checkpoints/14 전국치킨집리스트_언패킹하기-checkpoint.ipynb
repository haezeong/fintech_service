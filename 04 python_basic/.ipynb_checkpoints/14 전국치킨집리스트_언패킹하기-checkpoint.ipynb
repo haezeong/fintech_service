{
 "cells": [
  {
   "cell_type": "code",
   "execution_count": 3,
   "id": "10b48244",
   "metadata": {
    "scrolled": true
   },
   "outputs": [
    {
     "name": "stdout",
     "output_type": "stream",
     "text": [
      "<class 'str'>\n"
     ]
    }
   ],
   "source": [
    "with open(\"./data/전국치킨집리스트.json\",'r', encoding='utf-8') as f:\n",
    "    chicken_data=f.read()\n",
    "\n",
    "#print(chicken_data)\n",
    "print(type(chicken_data))"
   ]
  },
  {
   "cell_type": "code",
   "execution_count": 4,
   "id": "2b71cc02",
   "metadata": {},
   "outputs": [
    {
     "data": {
      "text/plain": [
       "'[{\"header\": {\"description\": \"\\\\uc18c\\\\uc0c1\\\\uacf5\\\\uc778\\\\uc2dc\\\\uc7a5\\\\uc9c4\\\\ud765\\\\uacf5\\\\ub2e8 \\\\uc8fc\\\\uc6'"
      ]
     },
     "execution_count": 4,
     "metadata": {},
     "output_type": "execute_result"
    }
   ],
   "source": [
    "chicken_data[:100]"
   ]
  },
  {
   "cell_type": "code",
   "execution_count": null,
   "id": "e66522db",
   "metadata": {},
   "outputs": [],
   "source": []
  },
  {
   "cell_type": "code",
   "execution_count": null,
   "id": "a7a5fa20",
   "metadata": {},
   "outputs": [],
   "source": [
    "#파일을 불러왔는데 열리지 않음\n",
    "#공공데이터 사만건(44메가바이트) - 여는데 문제 발생\n",
    "#해결 과정에서 배우는 것\n",
    "#vs code보다 약하다\n",
    "#로딩해서 프린트하면 바로 다운되니까 프린트를 쓰지말자\n",
    "#파일 받는데 용량이 좀 크다보면 전체 프린트보다 잘라서 보자"
   ]
  }
 ],
 "metadata": {
  "kernelspec": {
   "display_name": "Python 3 (ipykernel)",
   "language": "python",
   "name": "python3"
  },
  "language_info": {
   "codemirror_mode": {
    "name": "ipython",
    "version": 3
   },
   "file_extension": ".py",
   "mimetype": "text/x-python",
   "name": "python",
   "nbconvert_exporter": "python",
   "pygments_lexer": "ipython3",
   "version": "3.10.14"
  }
 },
 "nbformat": 4,
 "nbformat_minor": 5
}
