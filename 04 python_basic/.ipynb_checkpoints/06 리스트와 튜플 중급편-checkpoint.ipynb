{
 "cells": [
  {
   "cell_type": "markdown",
   "id": "49e9d09d",
   "metadata": {},
   "source": [
    "# 리스트와 튜플 중급편, 시퀀스 자료형 사용하기"
   ]
  },
  {
   "cell_type": "markdown",
   "id": "2901920b",
   "metadata": {},
   "source": [
    "* 리스트와 튜플, 문자열의 공통점은 연속된 값이 들어 있다는 점.\n",
    "*  이런 연속적인 자료형을 시퀀스(sequence)자료형 이라고 한다.\n",
    "* 모두 순서가 있고, 인덱스 번호가 부여 되며, 인덱싱, 슬라이싱이 가능하다.\n",
    "* 반복문에 시퀀스 자료형을 그대로 넣어서 반복시키는 것이 가능하다."
   ]
  },
  {
   "cell_type": "markdown",
   "id": "32248e03",
   "metadata": {},
   "source": [
    "## 1.특정 값이 있는지 확인하기\n",
    "* 값 in 시퀀스 객체\n",
    "* 값 not in 객체"
   ]
  },
  {
   "cell_type": "code",
   "execution_count": 1,
   "id": "21126c35",
   "metadata": {},
   "outputs": [
    {
     "data": {
      "text/plain": [
       "[0, 10, 20, 30, 40, 50, 60, 70, 80, 90]"
      ]
     },
     "execution_count": 1,
     "metadata": {},
     "output_type": "execute_result"
    }
   ],
   "source": [
    "a=[0,10,20,30,40,50,60,70,80,90]\n",
    "a"
   ]
  },
  {
   "cell_type": "code",
   "execution_count": 2,
   "id": "d9599762",
   "metadata": {},
   "outputs": [
    {
     "data": {
      "text/plain": [
       "True"
      ]
     },
     "execution_count": 2,
     "metadata": {},
     "output_type": "execute_result"
    }
   ],
   "source": [
    "30 in a"
   ]
  },
  {
   "cell_type": "code",
   "execution_count": 3,
   "id": "ff0d5079",
   "metadata": {},
   "outputs": [
    {
     "data": {
      "text/plain": [
       "False"
      ]
     },
     "execution_count": 3,
     "metadata": {},
     "output_type": "execute_result"
    }
   ],
   "source": [
    "100 in a"
   ]
  },
  {
   "cell_type": "code",
   "execution_count": 4,
   "id": "efdbdd09",
   "metadata": {},
   "outputs": [
    {
     "data": {
      "text/plain": [
       "True"
      ]
     },
     "execution_count": 4,
     "metadata": {},
     "output_type": "execute_result"
    }
   ],
   "source": [
    "100 not in a"
   ]
  },
  {
   "cell_type": "code",
   "execution_count": 5,
   "id": "e24b9622",
   "metadata": {},
   "outputs": [
    {
     "data": {
      "text/plain": [
       "(0, 10, 20, 30, 40, 50, 60, 70, 80, 90)"
      ]
     },
     "execution_count": 5,
     "metadata": {},
     "output_type": "execute_result"
    }
   ],
   "source": [
    "b= tuple(a)\n",
    "b"
   ]
  },
  {
   "cell_type": "code",
   "execution_count": 6,
   "id": "36e0d38e",
   "metadata": {},
   "outputs": [
    {
     "data": {
      "text/plain": [
       "True"
      ]
     },
     "execution_count": 6,
     "metadata": {},
     "output_type": "execute_result"
    }
   ],
   "source": [
    "50 in b"
   ]
  },
  {
   "cell_type": "code",
   "execution_count": 7,
   "id": "9ed8c360",
   "metadata": {},
   "outputs": [
    {
     "data": {
      "text/plain": [
       "'python is easier than other languages'"
      ]
     },
     "execution_count": 7,
     "metadata": {},
     "output_type": "execute_result"
    }
   ],
   "source": [
    "s =\"python is easier than other languages\"\n",
    "s"
   ]
  },
  {
   "cell_type": "code",
   "execution_count": 9,
   "id": "bb1f780d",
   "metadata": {},
   "outputs": [
    {
     "data": {
      "text/plain": [
       "True"
      ]
     },
     "execution_count": 9,
     "metadata": {},
     "output_type": "execute_result"
    }
   ],
   "source": [
    "\"other\" in s"
   ]
  },
  {
   "cell_type": "code",
   "execution_count": 10,
   "id": "b134ae4b",
   "metadata": {},
   "outputs": [
    {
     "data": {
      "text/plain": [
       "True"
      ]
     },
     "execution_count": 10,
     "metadata": {},
     "output_type": "execute_result"
    }
   ],
   "source": [
    "'p' in s  #한글자도, 여러글자도 모두 찾기 가능"
   ]
  },
  {
   "cell_type": "code",
   "execution_count": 11,
   "id": "28cd81ea",
   "metadata": {},
   "outputs": [
    {
     "data": {
      "text/plain": [
       "True"
      ]
     },
     "execution_count": 11,
     "metadata": {},
     "output_type": "execute_result"
    }
   ],
   "source": [
    "'n ' in s"
   ]
  },
  {
   "cell_type": "code",
   "execution_count": 12,
   "id": "22a20001",
   "metadata": {},
   "outputs": [
    {
     "data": {
      "text/plain": [
       "True"
      ]
     },
     "execution_count": 12,
     "metadata": {},
     "output_type": "execute_result"
    }
   ],
   "source": [
    "'java' not in s"
   ]
  },
  {
   "cell_type": "markdown",
   "id": "58dca589",
   "metadata": {},
   "source": [
    "## 2. 시퀀스 객체 연결하기 +연산자 사용 "
   ]
  },
  {
   "cell_type": "code",
   "execution_count": 13,
   "id": "af354a7c",
   "metadata": {},
   "outputs": [
    {
     "name": "stdout",
     "output_type": "stream",
     "text": [
      "python hello\n"
     ]
    }
   ],
   "source": [
    "a= \"python\"\n",
    "b= \"hello\"\n",
    "print (a,b)"
   ]
  },
  {
   "cell_type": "code",
   "execution_count": 14,
   "id": "316fd4cd",
   "metadata": {},
   "outputs": [
    {
     "name": "stdout",
     "output_type": "stream",
     "text": [
      "[0, 1, 2, 3, 4, 5, 6, 7, 8, 9] [11, 12, 13, 14, 15, 16, 17, 18, 19, 20]\n"
     ]
    }
   ],
   "source": [
    "c= list(range(10))\n",
    "d= list(range(11,21))\n",
    "print(c,d)"
   ]
  },
  {
   "cell_type": "code",
   "execution_count": 15,
   "id": "f2456efe",
   "metadata": {},
   "outputs": [
    {
     "data": {
      "text/plain": [
       "[0, 1, 2, 3, 4, 5, 6, 7, 8, 9, 11, 12, 13, 14, 15, 16, 17, 18, 19, 20]"
      ]
     },
     "execution_count": 15,
     "metadata": {},
     "output_type": "execute_result"
    }
   ],
   "source": [
    "#extend\n",
    "c+d\n",
    "#리스트를 더하면 extend와 같은 효과가 나서 합쳐진다"
   ]
  },
  {
   "cell_type": "code",
   "execution_count": 16,
   "id": "e5e095b0",
   "metadata": {},
   "outputs": [
    {
     "data": {
      "text/plain": [
       "[0, 1, 2, 3, 4, 5, 6, 7, 8, 9]"
      ]
     },
     "execution_count": 16,
     "metadata": {},
     "output_type": "execute_result"
    }
   ],
   "source": [
    "c"
   ]
  },
  {
   "cell_type": "code",
   "execution_count": 17,
   "id": "f954d0bf",
   "metadata": {},
   "outputs": [
    {
     "data": {
      "text/plain": [
       "[0, 1, 2, 3, 4, 5, 6, 7, 8, 9, 11, 12, 13, 14, 15, 16, 17, 18, 19, 20]"
      ]
     },
     "execution_count": 17,
     "metadata": {},
     "output_type": "execute_result"
    }
   ],
   "source": [
    "e=c+d\n",
    "e"
   ]
  },
  {
   "cell_type": "code",
   "execution_count": 18,
   "id": "0686bfdf",
   "metadata": {},
   "outputs": [
    {
     "data": {
      "text/plain": [
       "[0, 1, 2, 3, 4, 5, 6, 7, 8, 9, 11, 12, 13, 14, 15, 16, 17, 18, 19, 20]"
      ]
     },
     "execution_count": 18,
     "metadata": {},
     "output_type": "execute_result"
    }
   ],
   "source": [
    "e"
   ]
  },
  {
   "cell_type": "code",
   "execution_count": 22,
   "id": "bc7242bc",
   "metadata": {},
   "outputs": [
    {
     "name": "stdout",
     "output_type": "stream",
     "text": [
      "(0, 1, 2, 3, 4, 5, 6, 7, 8, 9, 10) (11, 12, 13, 14, 15, 16, 17, 18, 19, 20)\n"
     ]
    }
   ],
   "source": [
    "f= tuple(range(11))\n",
    "g= tuple(range(11,21))\n",
    "print(f,g)"
   ]
  },
  {
   "cell_type": "code",
   "execution_count": 23,
   "id": "8cdbf3a6",
   "metadata": {},
   "outputs": [
    {
     "data": {
      "text/plain": [
       "(0, 1, 2, 3, 4, 5, 6, 7, 8, 9, 10, 11, 12, 13, 14, 15, 16, 17, 18, 19, 20)"
      ]
     },
     "execution_count": 23,
     "metadata": {},
     "output_type": "execute_result"
    }
   ],
   "source": [
    "f+g"
   ]
  },
  {
   "cell_type": "code",
   "execution_count": 24,
   "id": "f263e703",
   "metadata": {},
   "outputs": [],
   "source": [
    "h=(1,2,3,\"튜플\",[4,5,6])"
   ]
  },
  {
   "cell_type": "code",
   "execution_count": 25,
   "id": "7db31646",
   "metadata": {},
   "outputs": [
    {
     "data": {
      "text/plain": [
       "(0,\n",
       " 1,\n",
       " 2,\n",
       " 3,\n",
       " 4,\n",
       " 5,\n",
       " 6,\n",
       " 7,\n",
       " 8,\n",
       " 9,\n",
       " 10,\n",
       " 11,\n",
       " 12,\n",
       " 13,\n",
       " 14,\n",
       " 15,\n",
       " 16,\n",
       " 17,\n",
       " 18,\n",
       " 19,\n",
       " 20,\n",
       " 1,\n",
       " 2,\n",
       " 3,\n",
       " '튜플',\n",
       " [4, 5, 6])"
      ]
     },
     "execution_count": 25,
     "metadata": {},
     "output_type": "execute_result"
    }
   ],
   "source": [
    "f+g+h"
   ]
  },
  {
   "cell_type": "code",
   "execution_count": null,
   "id": "28da0019",
   "metadata": {},
   "outputs": [],
   "source": [
    "#튜플을 합치고 싶을때 덧셈사용하면 바로 합쳐진다.\n",
    "#굳이 리스트로 변경하고 합칠 필요 없음"
   ]
  },
  {
   "cell_type": "markdown",
   "id": "84ce59a7",
   "metadata": {},
   "source": [
    "## 3. 시퀀스 객체 반복하기: * 연산자 사용 단, range는 불가"
   ]
  },
  {
   "cell_type": "code",
   "execution_count": 27,
   "id": "ad64ad16",
   "metadata": {},
   "outputs": [
    {
     "data": {
      "text/plain": [
       "'pythonpythonpython'"
      ]
     },
     "execution_count": 27,
     "metadata": {},
     "output_type": "execute_result"
    }
   ],
   "source": [
    "a*3"
   ]
  },
  {
   "cell_type": "code",
   "execution_count": 31,
   "id": "0a82c46f",
   "metadata": {},
   "outputs": [
    {
     "data": {
      "text/plain": [
       "'====================문자열===================='"
      ]
     },
     "execution_count": 31,
     "metadata": {},
     "output_type": "execute_result"
    }
   ],
   "source": [
    "\"=\"*20 +\"문자열\" +\"=\"*20"
   ]
  },
  {
   "cell_type": "code",
   "execution_count": null,
   "id": "9d83f35f",
   "metadata": {},
   "outputs": [],
   "source": [
    "#빅분기 시험은 주피터처럼 바로바로 확인 불가하고 vs코드처럼 한번에 찍힌다. -> 반복복사로 표시해주면서 결과 확인하는 방법 이용하면 한눈에 확인 편리하다\n"
   ]
  },
  {
   "cell_type": "code",
   "execution_count": 32,
   "id": "a8b37148",
   "metadata": {},
   "outputs": [
    {
     "data": {
      "text/plain": [
       "[0, 1, 2, 3, 4, 5, 6, 7, 8, 9, 0, 1, 2, 3, 4, 5, 6, 7, 8, 9]"
      ]
     },
     "execution_count": 32,
     "metadata": {},
     "output_type": "execute_result"
    }
   ],
   "source": [
    "#리스트 안의 요소가 2배로 복사 됨\n",
    "c*2"
   ]
  },
  {
   "cell_type": "code",
   "execution_count": 33,
   "id": "f2d877e2",
   "metadata": {},
   "outputs": [
    {
     "data": {
      "text/plain": [
       "(1, 2, 3, '튜플', [4, 5, 6], 1, 2, 3, '튜플', [4, 5, 6])"
      ]
     },
     "execution_count": 33,
     "metadata": {},
     "output_type": "execute_result"
    }
   ],
   "source": [
    "h*2"
   ]
  },
  {
   "cell_type": "code",
   "execution_count": null,
   "id": "c596fca7",
   "metadata": {},
   "outputs": [],
   "source": [
    "#튜플도 튜플안의 요소가 두배로 복사 됨"
   ]
  },
  {
   "cell_type": "code",
   "execution_count": null,
   "id": "9c8e81fd",
   "metadata": {},
   "outputs": [],
   "source": [
    "#시퀀스 객체의 특징 = 복사가 된다"
   ]
  },
  {
   "cell_type": "markdown",
   "id": "fbb1125e",
   "metadata": {},
   "source": [
    "## 4.시퀀스 객체는 길이를 계산할 수 있다 .len()"
   ]
  },
  {
   "cell_type": "code",
   "execution_count": 34,
   "id": "e7aa56b3",
   "metadata": {},
   "outputs": [
    {
     "data": {
      "text/plain": [
       "5"
      ]
     },
     "execution_count": 34,
     "metadata": {},
     "output_type": "execute_result"
    }
   ],
   "source": [
    "len(h)"
   ]
  },
  {
   "cell_type": "markdown",
   "id": "fdf8a9fe",
   "metadata": {},
   "source": [
    "## 5. 인덱스를 사용할 수 있다.\n",
    "* 인덱싱을 통한 자료 변경은 list만 가능하다"
   ]
  },
  {
   "cell_type": "code",
   "execution_count": 35,
   "id": "71643cd9",
   "metadata": {},
   "outputs": [
    {
     "data": {
      "text/plain": [
       "'python'"
      ]
     },
     "execution_count": 35,
     "metadata": {},
     "output_type": "execute_result"
    }
   ],
   "source": [
    "a"
   ]
  },
  {
   "cell_type": "code",
   "execution_count": 36,
   "id": "7de99fbd",
   "metadata": {},
   "outputs": [
    {
     "data": {
      "text/plain": [
       "'h'"
      ]
     },
     "execution_count": 36,
     "metadata": {},
     "output_type": "execute_result"
    }
   ],
   "source": [
    "a[3]"
   ]
  },
  {
   "cell_type": "code",
   "execution_count": 37,
   "id": "2e8cf6dd",
   "metadata": {},
   "outputs": [
    {
     "data": {
      "text/plain": [
       "'pyt'"
      ]
     },
     "execution_count": 37,
     "metadata": {},
     "output_type": "execute_result"
    }
   ],
   "source": [
    "a[:3]"
   ]
  },
  {
   "cell_type": "code",
   "execution_count": 38,
   "id": "6daa8dac",
   "metadata": {},
   "outputs": [
    {
     "data": {
      "text/plain": [
       "'th'"
      ]
     },
     "execution_count": 38,
     "metadata": {},
     "output_type": "execute_result"
    }
   ],
   "source": [
    "a[2:4]"
   ]
  },
  {
   "cell_type": "code",
   "execution_count": 40,
   "id": "2ef6d36f",
   "metadata": {},
   "outputs": [
    {
     "data": {
      "text/plain": [
       "[0, 1, 2, 3, 4, 5, 6, 7, 8, 9]"
      ]
     },
     "execution_count": 40,
     "metadata": {},
     "output_type": "execute_result"
    }
   ],
   "source": [
    "# 리스트\n",
    "c"
   ]
  },
  {
   "cell_type": "code",
   "execution_count": 41,
   "id": "14522e1f",
   "metadata": {},
   "outputs": [
    {
     "data": {
      "text/plain": [
       "[4, 5, 6]"
      ]
     },
     "execution_count": 41,
     "metadata": {},
     "output_type": "execute_result"
    }
   ],
   "source": [
    "c[4:7]"
   ]
  },
  {
   "cell_type": "code",
   "execution_count": 42,
   "id": "a0545ad2",
   "metadata": {},
   "outputs": [
    {
     "data": {
      "text/plain": [
       "0"
      ]
     },
     "execution_count": 42,
     "metadata": {},
     "output_type": "execute_result"
    }
   ],
   "source": [
    "c[0]"
   ]
  },
  {
   "cell_type": "code",
   "execution_count": 43,
   "id": "448575af",
   "metadata": {},
   "outputs": [],
   "source": [
    "c[0]=7"
   ]
  },
  {
   "cell_type": "code",
   "execution_count": 44,
   "id": "5650a518",
   "metadata": {},
   "outputs": [
    {
     "data": {
      "text/plain": [
       "[7, 1, 2, 3, 4, 5, 6, 7, 8, 9]"
      ]
     },
     "execution_count": 44,
     "metadata": {},
     "output_type": "execute_result"
    }
   ],
   "source": [
    "c #변경 가능"
   ]
  },
  {
   "cell_type": "code",
   "execution_count": 45,
   "id": "1a0b1476",
   "metadata": {},
   "outputs": [
    {
     "data": {
      "text/plain": [
       "9"
      ]
     },
     "execution_count": 45,
     "metadata": {},
     "output_type": "execute_result"
    }
   ],
   "source": [
    "c.index(9)"
   ]
  },
  {
   "cell_type": "code",
   "execution_count": 47,
   "id": "6c8c09e5",
   "metadata": {},
   "outputs": [
    {
     "data": {
      "text/plain": [
       "[7, 1, 2, 3, 4, 5, 6, 7, 8, 90]"
      ]
     },
     "execution_count": 47,
     "metadata": {},
     "output_type": "execute_result"
    }
   ],
   "source": [
    "c[9]=90\n",
    "c"
   ]
  },
  {
   "cell_type": "code",
   "execution_count": null,
   "id": "756baecc",
   "metadata": {},
   "outputs": [],
   "source": [
    "#특정요소의 인덱스를 찾아낸 다음에 인덱싱-다른값을 덮어씌우면 변경가능\n",
    "#값을 덮어씌우거나 사용하기위해 인덱싱을 사용한다\n"
   ]
  },
  {
   "cell_type": "code",
   "execution_count": 48,
   "id": "0f13fd95",
   "metadata": {},
   "outputs": [
    {
     "ename": "TypeError",
     "evalue": "'str' object does not support item assignment",
     "output_type": "error",
     "traceback": [
      "\u001b[1;31m---------------------------------------------------------------------------\u001b[0m",
      "\u001b[1;31mTypeError\u001b[0m                                 Traceback (most recent call last)",
      "Cell \u001b[1;32mIn[48], line 3\u001b[0m\n\u001b[0;32m      1\u001b[0m \u001b[38;5;66;03m#문자열은 인덱싱이 '안'된다\u001b[39;00m\n\u001b[0;32m      2\u001b[0m \u001b[38;5;66;03m#오직 리스트만 가능하다!!!\u001b[39;00m\n\u001b[1;32m----> 3\u001b[0m \u001b[43ma\u001b[49m\u001b[43m[\u001b[49m\u001b[38;5;241;43m0\u001b[39;49m\u001b[43m]\u001b[49m \u001b[38;5;241m=\u001b[39m\u001b[38;5;124m'\u001b[39m\u001b[38;5;124mP\u001b[39m\u001b[38;5;124m'\u001b[39m\n\u001b[0;32m      4\u001b[0m a\n",
      "\u001b[1;31mTypeError\u001b[0m: 'str' object does not support item assignment"
     ]
    }
   ],
   "source": [
    "#문자열은 인덱싱이 '안'된다\n",
    "#오직 리스트만 가능하다!!!\n",
    "a[0] ='P'\n",
    "a"
   ]
  },
  {
   "cell_type": "code",
   "execution_count": null,
   "id": "150254ec",
   "metadata": {},
   "outputs": [],
   "source": [
    "#하지만 바꿀 수 있는 트릭이 있다.\n",
    "#파이썬 문자열에서 대문자 P로 바꿀 수 있는 트릭?\n",
    "#파이썬 형변환을 이용해서 대문자로 바꿀 수 있음"
   ]
  },
  {
   "cell_type": "code",
   "execution_count": 49,
   "id": "a6f73c67",
   "metadata": {},
   "outputs": [
    {
     "data": {
      "text/plain": [
       "['p', 'y', 't', 'h', 'o', 'n']"
      ]
     },
     "execution_count": 49,
     "metadata": {},
     "output_type": "execute_result"
    }
   ],
   "source": [
    "a=list(a)\n",
    "a"
   ]
  },
  {
   "cell_type": "code",
   "execution_count": 50,
   "id": "b5825954",
   "metadata": {},
   "outputs": [
    {
     "data": {
      "text/plain": [
       "['P', 'y', 't', 'h', 'o', 'n']"
      ]
     },
     "execution_count": 50,
     "metadata": {},
     "output_type": "execute_result"
    }
   ],
   "source": [
    "a[0] ='P'\n",
    "a"
   ]
  },
  {
   "cell_type": "code",
   "execution_count": 51,
   "id": "4647ce5f",
   "metadata": {},
   "outputs": [],
   "source": [
    "a=\"\".join(a)"
   ]
  },
  {
   "cell_type": "code",
   "execution_count": 52,
   "id": "ee1dd69d",
   "metadata": {},
   "outputs": [
    {
     "data": {
      "text/plain": [
       "'Python'"
      ]
     },
     "execution_count": 52,
     "metadata": {},
     "output_type": "execute_result"
    }
   ],
   "source": [
    "a"
   ]
  },
  {
   "cell_type": "code",
   "execution_count": null,
   "id": "c15806c8",
   "metadata": {},
   "outputs": [],
   "source": [
    "#replace로도 변경가능하겠지만 한개가 아닐경우 전부 바뀔 수 있기에 조인이용함\n",
    "#다른 자료형으로 바꾼다음에 리스트 특성을 이용해서 인덱싱을 이용해서 바뚠다든지 조작을 이용해서 작업가능하다"
   ]
  },
  {
   "cell_type": "code",
   "execution_count": null,
   "id": "ed96acb6",
   "metadata": {},
   "outputs": [],
   "source": []
  },
  {
   "cell_type": "code",
   "execution_count": null,
   "id": "9f4e501e",
   "metadata": {},
   "outputs": [],
   "source": []
  }
 ],
 "metadata": {
  "kernelspec": {
   "display_name": "Python 3 (ipykernel)",
   "language": "python",
   "name": "python3"
  },
  "language_info": {
   "codemirror_mode": {
    "name": "ipython",
    "version": 3
   },
   "file_extension": ".py",
   "mimetype": "text/x-python",
   "name": "python",
   "nbconvert_exporter": "python",
   "pygments_lexer": "ipython3",
   "version": "3.10.14"
  }
 },
 "nbformat": 4,
 "nbformat_minor": 5
}
