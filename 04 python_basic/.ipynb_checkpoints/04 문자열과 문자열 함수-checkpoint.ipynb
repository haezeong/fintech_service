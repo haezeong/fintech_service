{
 "cells": [
  {
   "cell_type": "markdown",
   "id": "627a0fb6",
   "metadata": {},
   "source": [
    "# 문자열 사용하기, 문자열 함수"
   ]
  },
  {
   "cell_type": "markdown",
   "id": "2ec8fbb8",
   "metadata": {},
   "source": [
    "1. 문자열 사용하기의 기본"
   ]
  },
  {
   "cell_type": "markdown",
   "id": "2ee9f171",
   "metadata": {},
   "source": [
    "\" 따옴표 안에 문자를 넣어서 문자열을 만든다.\n",
    "' 도 가능"
   ]
  },
  {
   "cell_type": "code",
   "execution_count": 1,
   "id": "7eea3231",
   "metadata": {},
   "outputs": [
    {
     "data": {
      "text/plain": [
       "'hello, world'"
      ]
     },
     "execution_count": 1,
     "metadata": {},
     "output_type": "execute_result"
    }
   ],
   "source": [
    "hello ='hello, world'\n",
    "hello"
   ]
  },
  {
   "cell_type": "code",
   "execution_count": 2,
   "id": "ce10fc52",
   "metadata": {},
   "outputs": [
    {
     "data": {
      "text/plain": [
       "'hello, world'"
      ]
     },
     "execution_count": 2,
     "metadata": {},
     "output_type": "execute_result"
    }
   ],
   "source": [
    "hello2 =\"hello, world\"\n",
    "hello2"
   ]
  },
  {
   "cell_type": "code",
   "execution_count": 3,
   "id": "e3d6ea4c",
   "metadata": {},
   "outputs": [
    {
     "data": {
      "text/plain": [
       "\"hello, 'world'\""
      ]
     },
     "execution_count": 3,
     "metadata": {},
     "output_type": "execute_result"
    }
   ],
   "source": [
    "hello3 =\"hello, 'world'\"\n",
    "hello3"
   ]
  },
  {
   "cell_type": "code",
   "execution_count": null,
   "id": "60b0b8c2",
   "metadata": {},
   "outputs": [],
   "source": [
    "#홀따옴표 안에 쌍따옴, 쌍따옴표안에 홀따옴표 가능"
   ]
  },
  {
   "cell_type": "markdown",
   "id": "f26b9265",
   "metadata": {},
   "source": [
    "여러 줄로 된 문자열 사용하기\n",
    "'''내용'''\n",
    "\"\"\"내용\"\"\""
   ]
  },
  {
   "cell_type": "code",
   "execution_count": 4,
   "id": "a27ef26d",
   "metadata": {},
   "outputs": [
    {
     "data": {
      "text/plain": [
       "'\\n안녕하세요.\\n파이썬 수업입니다.\\n'"
      ]
     },
     "execution_count": 4,
     "metadata": {},
     "output_type": "execute_result"
    }
   ],
   "source": [
    "hello5= '''\n",
    "안녕하세요.\n",
    "파이썬 수업입니다.\n",
    "'''\n",
    "hello5"
   ]
  },
  {
   "cell_type": "code",
   "execution_count": 5,
   "id": "d63b57d5",
   "metadata": {},
   "outputs": [
    {
     "name": "stdout",
     "output_type": "stream",
     "text": [
      "\n",
      "안녕하세요.\n",
      "파이썬 수업입니다.\n",
      "\n"
     ]
    }
   ],
   "source": [
    "print(hello5)"
   ]
  },
  {
   "cell_type": "code",
   "execution_count": 6,
   "id": "3d562825",
   "metadata": {},
   "outputs": [
    {
     "data": {
      "text/plain": [
       "'\\n안녕하세요.\\n파이썬 수업입니다.\\n'"
      ]
     },
     "execution_count": 6,
     "metadata": {},
     "output_type": "execute_result"
    }
   ],
   "source": [
    "hello6= \"\"\"\n",
    "안녕하세요.\n",
    "파이썬 수업입니다.\n",
    "\"\"\"\n",
    "hello6"
   ]
  },
  {
   "cell_type": "code",
   "execution_count": 7,
   "id": "c4c3f9d6",
   "metadata": {},
   "outputs": [
    {
     "name": "stdout",
     "output_type": "stream",
     "text": [
      "\n",
      "안녕하세요.\n",
      "파이썬 수업입니다.\n",
      "\n"
     ]
    }
   ],
   "source": [
    "print(hello6)"
   ]
  },
  {
   "cell_type": "markdown",
   "id": "32e03b3b",
   "metadata": {},
   "source": [
    "문자열에서 이스케이프문자(\\n,\\t,\\r) <br>\n",
    "\\n: 줄바꿈 (new line) <br>\n",
    "\\t: 탭 tap  4~8칸 공백<br>\n",
    "\\r: 캐리지리턴 현재 줄의 제일 왼쪽 끝으로 커서 이동"
   ]
  },
  {
   "cell_type": "code",
   "execution_count": 9,
   "id": "512f0b34",
   "metadata": {},
   "outputs": [
    {
     "name": "stdout",
     "output_type": "stream",
     "text": [
      "파이썬에서 줄바꿈은 \\n으로 합니다. \n",
      "\n",
      "\n",
      "3줄 줄바꿈 끝\n"
     ]
    }
   ],
   "source": [
    "h1 = \"파이썬에서 줄바꿈은 \\\\n으로 합니다. \\n\\n\\n3줄 줄바꿈 끝\"\n",
    "print(h1)"
   ]
  },
  {
   "cell_type": "code",
   "execution_count": 11,
   "id": "7e75fe08",
   "metadata": {},
   "outputs": [
    {
     "name": "stdout",
     "output_type": "stream",
     "text": [
      "탭으로 공간을 띄우는 것은 \\t \t로 합니다.\n"
     ]
    }
   ],
   "source": [
    "h2 =\"탭으로 공간을 띄우는 것은 \\\\t \\t로 합니다.\"\n",
    "print(h2)"
   ]
  },
  {
   "cell_type": "code",
   "execution_count": 14,
   "id": "035078b3",
   "metadata": {},
   "outputs": [
    {
     "name": "stdout",
     "output_type": "stream",
     "text": [
      "캐리지 리턴은 \\r입니다. \n",
      "커서가 같은 줄 가장 앞으로 이동하기 때문에 \r",
      "글자가 겹쳐져서 지워졌습니다\n"
     ]
    }
   ],
   "source": [
    "h3= \"캐리지 리턴은 \\\\r입니다. \\n커서가 같은 줄 가장 앞으로 이동하기 때문에 \\r글자가 겹쳐져서 지워졌습니다\"\n",
    "print(h3)"
   ]
  },
  {
   "cell_type": "markdown",
   "id": "1df794b1",
   "metadata": {},
   "source": [
    "# 인덱스와 문자열\n",
    "* 문자: 문자는 글자 1개\n",
    "* 문자열: 문자열은 글자가 여러개, 순서, 번호, 인덱스가 있다. \n",
    "문자하나하나마다 순서가 부여되어 있다. 리스트와 튜플처럼"
   ]
  },
  {
   "cell_type": "code",
   "execution_count": 16,
   "id": "4057a866",
   "metadata": {},
   "outputs": [
    {
     "name": "stdout",
     "output_type": "stream",
     "text": [
      "문자열은 왼쪽부터 번호를 매길 수 있으며 시작은 0번부터 입니다.\n"
     ]
    }
   ],
   "source": [
    "h4= \"문자열은 왼쪽부터 번호를 매길 수 있으며 시작은 0번부터 입니다.\"\n",
    "print(h4)"
   ]
  },
  {
   "cell_type": "code",
   "execution_count": null,
   "id": "91f7b5d1",
   "metadata": {},
   "outputs": [],
   "source": [
    "# 문자열은 왼쪽부터 순서가 매겨져 있다\n",
    "# 따옴표로 묶어서 문자열이 된거고, 한글자가 아니라 여러글자가 들어있는것.\n",
    "# 인덱스로 꺼내 쓸 수 있다 !"
   ]
  },
  {
   "cell_type": "code",
   "execution_count": 17,
   "id": "9d5dfac6",
   "metadata": {},
   "outputs": [
    {
     "data": {
      "text/plain": [
       "'문자열은 '"
      ]
     },
     "execution_count": 17,
     "metadata": {},
     "output_type": "execute_result"
    }
   ],
   "source": [
    "h4[0:5] #0번부터4번까지"
   ]
  },
  {
   "cell_type": "code",
   "execution_count": 19,
   "id": "c734328f",
   "metadata": {},
   "outputs": [
    {
     "data": {
      "text/plain": [
       "'번호를 매길 수 있으며'"
      ]
     },
     "execution_count": 19,
     "metadata": {},
     "output_type": "execute_result"
    }
   ],
   "source": [
    "h4[10:22]"
   ]
  },
  {
   "cell_type": "code",
   "execution_count": 20,
   "id": "fd006215",
   "metadata": {},
   "outputs": [
    {
     "data": {
      "text/plain": [
       "'.'"
      ]
     },
     "execution_count": 20,
     "metadata": {},
     "output_type": "execute_result"
    }
   ],
   "source": [
    "h4[-1]"
   ]
  },
  {
   "cell_type": "code",
   "execution_count": 21,
   "id": "f2194ad2",
   "metadata": {},
   "outputs": [
    {
     "data": {
      "text/plain": [
       "' 입니다.'"
      ]
     },
     "execution_count": 21,
     "metadata": {},
     "output_type": "execute_result"
    }
   ],
   "source": [
    "h4[-5:]"
   ]
  },
  {
   "cell_type": "code",
   "execution_count": null,
   "id": "a6bf9025",
   "metadata": {},
   "outputs": [],
   "source": [
    "#앞을 생략하면 앞을 다가져오는것, 뒤를 생략하면 뒤를 다 가져 오라는 것"
   ]
  },
  {
   "cell_type": "code",
   "execution_count": 22,
   "id": "7598de42",
   "metadata": {},
   "outputs": [
    {
     "data": {
      "text/plain": [
       "'부터 번호를 매길 수 있으며 시작은 0번부터 입니다.'"
      ]
     },
     "execution_count": 22,
     "metadata": {},
     "output_type": "execute_result"
    }
   ],
   "source": [
    "h4[7:] #7번부터 끝까지"
   ]
  },
  {
   "cell_type": "code",
   "execution_count": 25,
   "id": "fcf8e9cc",
   "metadata": {},
   "outputs": [
    {
     "data": {
      "text/plain": [
       "'문자열은 왼쪽부터 번호를 매길 수 있으며 시작은 0번부터 입니다.'"
      ]
     },
     "execution_count": 25,
     "metadata": {},
     "output_type": "execute_result"
    }
   ],
   "source": [
    "h4[:] #전체"
   ]
  },
  {
   "cell_type": "code",
   "execution_count": 24,
   "id": "7d12a445",
   "metadata": {},
   "outputs": [
    {
     "data": {
      "text/plain": [
       "'자은왼부 '"
      ]
     },
     "execution_count": 24,
     "metadata": {},
     "output_type": "execute_result"
    }
   ],
   "source": [
    "h4[1:11:2]# 시작:끝:스텝\n",
    "#처음부터 끝까지 두칸씩 뜨"
   ]
  },
  {
   "cell_type": "code",
   "execution_count": 26,
   "id": "766fabf7",
   "metadata": {},
   "outputs": [
    {
     "data": {
      "text/plain": [
       "'.다니입 터부번0 은작시 며으있 수 길매 를호번 터부쪽왼 은열자문'"
      ]
     },
     "execution_count": 26,
     "metadata": {},
     "output_type": "execute_result"
    }
   ],
   "source": [
    "h4[::-1]"
   ]
  },
  {
   "cell_type": "code",
   "execution_count": 27,
   "id": "0a761e2e",
   "metadata": {},
   "outputs": [],
   "source": [
    "#인덱싱의 주의할점은 [시작:끝:스텝] ->시작~끝-1까지 가져오는데 스텝을 가지며"
   ]
  },
  {
   "cell_type": "markdown",
   "id": "5c6a85e4",
   "metadata": {},
   "source": [
    "## 문자열 함수\n",
    "* .replace()\n",
    "* . split()\n",
    "* .join()\n",
    "* .strip()\n",
    "* "
   ]
  },
  {
   "cell_type": "markdown",
   "id": "fd293213",
   "metadata": {},
   "source": [
    "1."
   ]
  },
  {
   "cell_type": "markdown",
   "id": "4d0fa3c6",
   "metadata": {},
   "source": [
    "    1. 문자열 바꾸기\n",
    "     - replace함수는 사용 후 결과를 재할당 해야 함."
   ]
  },
  {
   "cell_type": "code",
   "execution_count": 28,
   "id": "bee15165",
   "metadata": {},
   "outputs": [
    {
     "data": {
      "text/plain": [
       "'Hello, Python'"
      ]
     },
     "execution_count": 28,
     "metadata": {},
     "output_type": "execute_result"
    }
   ],
   "source": [
    "h5 = \"Hello, Python\"\n",
    "h5"
   ]
  },
  {
   "cell_type": "code",
   "execution_count": 29,
   "id": "90ad8461",
   "metadata": {},
   "outputs": [
    {
     "data": {
      "text/plain": [
       "'Hello, world'"
      ]
     },
     "execution_count": 29,
     "metadata": {},
     "output_type": "execute_result"
    }
   ],
   "source": [
    "h5.replace('Python', 'world')  #결과만 바꾸고 원본은 바뀌지 않는다"
   ]
  },
  {
   "cell_type": "code",
   "execution_count": 30,
   "id": "dbb07782",
   "metadata": {},
   "outputs": [
    {
     "data": {
      "text/plain": [
       "'Hello, Python'"
      ]
     },
     "execution_count": 30,
     "metadata": {},
     "output_type": "execute_result"
    }
   ],
   "source": [
    "h5"
   ]
  },
  {
   "cell_type": "code",
   "execution_count": 31,
   "id": "d4d1ceff",
   "metadata": {},
   "outputs": [
    {
     "data": {
      "text/plain": [
       "'Hello, world'"
      ]
     },
     "execution_count": 31,
     "metadata": {},
     "output_type": "execute_result"
    }
   ],
   "source": [
    "h5= h5.replace('Python', 'world') \n",
    "h5"
   ]
  },
  {
   "cell_type": "code",
   "execution_count": null,
   "id": "f82c0a9b",
   "metadata": {},
   "outputs": [],
   "source": []
  },
  {
   "cell_type": "code",
   "execution_count": null,
   "id": "fb3824d5",
   "metadata": {},
   "outputs": [],
   "source": [
    "#두가지 종류의 함수\n",
    "#함수사용하자마자 원본바뀌는애들\n",
    "#결과값은 출력되는데 원본은 바뀌지 않는 애들"
   ]
  },
  {
   "cell_type": "code",
   "execution_count": null,
   "id": "f66f7ec2",
   "metadata": {},
   "outputs": [],
   "source": [
    "sort #사용하자마자 재할당할필요없이 바로 바뀐다\n",
    "sorted "
   ]
  },
  {
   "cell_type": "markdown",
   "id": "ed1988c3",
   "metadata": {},
   "source": [
    "* str .maketrans('찾을문자', '바꿀문자', '추가로 없앨문자')로 변환 테이블 생성\n",
    "* translate로 문자를 찾아서 바꿈"
   ]
  },
  {
   "cell_type": "code",
   "execution_count": 32,
   "id": "7357e9f8",
   "metadata": {},
   "outputs": [],
   "source": [
    "table = str.maketrans('abcdefg', '1234567')"
   ]
  },
  {
   "cell_type": "code",
   "execution_count": 33,
   "id": "a74b6924",
   "metadata": {},
   "outputs": [
    {
     "data": {
      "text/plain": [
       "'H5llo, worl4'"
      ]
     },
     "execution_count": 33,
     "metadata": {},
     "output_type": "execute_result"
    }
   ],
   "source": [
    "h5.translate(table)"
   ]
  },
  {
   "cell_type": "code",
   "execution_count": 35,
   "id": "9d3545ae",
   "metadata": {},
   "outputs": [],
   "source": [
    "table = str.maketrans('abcdefg', '1234567','lor')"
   ]
  },
  {
   "cell_type": "code",
   "execution_count": 36,
   "id": "b9ecc772",
   "metadata": {},
   "outputs": [
    {
     "data": {
      "text/plain": [
       "'H5, w4'"
      ]
     },
     "execution_count": 36,
     "metadata": {},
     "output_type": "execute_result"
    }
   ],
   "source": [
    "h5.translate(table)"
   ]
  },
  {
   "cell_type": "code",
   "execution_count": 37,
   "id": "ccc58ccc",
   "metadata": {},
   "outputs": [
    {
     "data": {
      "text/plain": [
       "'H5, w4'"
      ]
     },
     "execution_count": 37,
     "metadata": {},
     "output_type": "execute_result"
    }
   ],
   "source": [
    "h5.translate( str.maketrans('abcdefg', '1234567','lor'))"
   ]
  },
  {
   "cell_type": "code",
   "execution_count": 38,
   "id": "96190ff4",
   "metadata": {},
   "outputs": [
    {
     "data": {
      "text/plain": [
       "'He, wd'"
      ]
     },
     "execution_count": 38,
     "metadata": {},
     "output_type": "execute_result"
    }
   ],
   "source": [
    "h5.translate( str.maketrans('', '','lor'))"
   ]
  },
  {
   "cell_type": "code",
   "execution_count": 39,
   "id": "da10e1f0",
   "metadata": {},
   "outputs": [
    {
     "data": {
      "text/plain": [
       "'문자열은 왼쪽부터 번호를 매길 수 있으며 시작은 0번부터 입니다.'"
      ]
     },
     "execution_count": 39,
     "metadata": {},
     "output_type": "execute_result"
    }
   ],
   "source": [
    "h4"
   ]
  },
  {
   "cell_type": "code",
   "execution_count": 40,
   "id": "3c13e170",
   "metadata": {},
   "outputs": [
    {
     "data": {
      "text/plain": [
       "'문자열은 왼쪽부터 번호를 매길 수 있으며 시작은 번부터 입니다'"
      ]
     },
     "execution_count": 40,
     "metadata": {},
     "output_type": "execute_result"
    }
   ],
   "source": [
    "h4.translate( str.maketrans('', '','0.'))"
   ]
  },
  {
   "cell_type": "code",
   "execution_count": 41,
   "id": "01ec093b",
   "metadata": {},
   "outputs": [
    {
     "data": {
      "text/plain": [
       "'문자열은왼쪽부터번호를매길수있으며시작은번부터입니다'"
      ]
     },
     "execution_count": 41,
     "metadata": {},
     "output_type": "execute_result"
    }
   ],
   "source": [
    "h4.translate( str.maketrans('', '','0. '))  #공백도 문자이기때문에 공백을 하나 넣어주면 공백도 없어진다"
   ]
  },
  {
   "cell_type": "markdown",
   "id": "84881fa2",
   "metadata": {},
   "source": [
    "2. 문자열 분리하기 .split()\n",
    "* 스플릿은 기본이 공백을 기준으로 문자열을 분리해 **리스트**로 만들어 줌."
   ]
  },
  {
   "cell_type": "code",
   "execution_count": 42,
   "id": "cde97494",
   "metadata": {},
   "outputs": [
    {
     "data": {
      "text/plain": [
       "'문자열은 왼쪽부터 번호를 매길 수 있으며 시작은 0번부터 입니다.'"
      ]
     },
     "execution_count": 42,
     "metadata": {},
     "output_type": "execute_result"
    }
   ],
   "source": [
    "h4"
   ]
  },
  {
   "cell_type": "code",
   "execution_count": 45,
   "id": "305cc37a",
   "metadata": {},
   "outputs": [],
   "source": [
    "h4_1=h4.split()"
   ]
  },
  {
   "cell_type": "code",
   "execution_count": 46,
   "id": "967e1d68",
   "metadata": {},
   "outputs": [
    {
     "data": {
      "text/plain": [
       "['문자열은', '왼쪽부터', '번호를', '매길', '수', '있으며', '시작은', '0번부터', '입니다.']"
      ]
     },
     "execution_count": 46,
     "metadata": {},
     "output_type": "execute_result"
    }
   ],
   "source": [
    "h4_1 "
   ]
  },
  {
   "cell_type": "code",
   "execution_count": 47,
   "id": "1752ed82",
   "metadata": {},
   "outputs": [
    {
     "name": "stdout",
     "output_type": "stream",
     "text": [
      "<class 'list'>\n"
     ]
    }
   ],
   "source": [
    "print(type(h4_1))"
   ]
  },
  {
   "cell_type": "code",
   "execution_count": 48,
   "id": "fc47fe2a",
   "metadata": {},
   "outputs": [
    {
     "data": {
      "text/plain": [
       "['문자열은', '왼쪽부터', '번호를', '매길', '수', '있으며', '시작은', '0번부터', '입니다.']"
      ]
     },
     "execution_count": 48,
     "metadata": {},
     "output_type": "execute_result"
    }
   ],
   "source": [
    "h4.split() #기본 구분자는 공백이다."
   ]
  },
  {
   "cell_type": "code",
   "execution_count": 49,
   "id": "261cb044",
   "metadata": {},
   "outputs": [
    {
     "name": "stdout",
     "output_type": "stream",
     "text": [
      "'문자열은', '왼쪽부터', '번호를', '매길', '수', '있으며', '시작은', '0번부터', '입니다.'\n"
     ]
    },
    {
     "data": {
      "text/plain": [
       "str"
      ]
     },
     "execution_count": 49,
     "metadata": {},
     "output_type": "execute_result"
    }
   ],
   "source": [
    "h6=\"'문자열은', '왼쪽부터', '번호를', '매길', '수', '있으며', '시작은', '0번부터', '입니다.'\"\n",
    "print(h6)\n",
    "type(h6)"
   ]
  },
  {
   "cell_type": "code",
   "execution_count": 50,
   "id": "3dd8908a",
   "metadata": {},
   "outputs": [
    {
     "data": {
      "text/plain": [
       "[\"'문자열은',\",\n",
       " \"'왼쪽부터',\",\n",
       " \"'번호를',\",\n",
       " \"'매길',\",\n",
       " \"'수',\",\n",
       " \"'있으며',\",\n",
       " \"'시작은',\",\n",
       " \"'0번부터',\",\n",
       " \"'입니다.'\"]"
      ]
     },
     "execution_count": 50,
     "metadata": {},
     "output_type": "execute_result"
    }
   ],
   "source": [
    "h6.split()"
   ]
  },
  {
   "cell_type": "code",
   "execution_count": null,
   "id": "26e5cb62",
   "metadata": {},
   "outputs": [],
   "source": [
    "#공백으로 구분 안하고 콤마로 잘라서 리스트로 만들고 싶다면?\n",
    "#split괄호안에다가 콤마쓰기"
   ]
  },
  {
   "cell_type": "code",
   "execution_count": 51,
   "id": "33cc5057",
   "metadata": {},
   "outputs": [
    {
     "data": {
      "text/plain": [
       "\"'문자열은'\""
      ]
     },
     "execution_count": 51,
     "metadata": {},
     "output_type": "execute_result"
    }
   ],
   "source": [
    "h6.split(\",\")[0]   #h6.split(\",\") ->리스트이다 ->순서존재 ->인덱싱, 슬라이스 가능"
   ]
  },
  {
   "cell_type": "code",
   "execution_count": null,
   "id": "8814ea9c",
   "metadata": {},
   "outputs": [],
   "source": [
    "#앞 결과에 따라서 뒷 계산 - 앞결과가 리스트이니까 뒷 계산 가능"
   ]
  },
  {
   "cell_type": "code",
   "execution_count": 52,
   "id": "42b0d043",
   "metadata": {},
   "outputs": [
    {
     "data": {
      "text/plain": [
       "[\"'문자열은'\",\n",
       " \" '왼쪽부터'\",\n",
       " \" '번호를'\",\n",
       " \" '매길'\",\n",
       " \" '수'\",\n",
       " \" '있으며'\",\n",
       " \" '시작은'\",\n",
       " \" '0번부터'\",\n",
       " \" '입니다.'\"]"
      ]
     },
     "execution_count": 52,
     "metadata": {},
     "output_type": "execute_result"
    }
   ],
   "source": [
    "h6.split(\",\")"
   ]
  },
  {
   "cell_type": "code",
   "execution_count": 53,
   "id": "74a4647a",
   "metadata": {},
   "outputs": [],
   "source": [
    "# 공백도 깔끔하게 빼고 싶다면"
   ]
  },
  {
   "cell_type": "code",
   "execution_count": 54,
   "id": "7252c531",
   "metadata": {},
   "outputs": [
    {
     "data": {
      "text/plain": [
       "[\"'문자열은'\",\n",
       " \"'왼쪽부터'\",\n",
       " \"'번호를'\",\n",
       " \"'매길'\",\n",
       " \"'수'\",\n",
       " \"'있으며'\",\n",
       " \"'시작은'\",\n",
       " \"'0번부터'\",\n",
       " \"'입니다.'\"]"
      ]
     },
     "execution_count": 54,
     "metadata": {},
     "output_type": "execute_result"
    }
   ],
   "source": [
    "h6.split(\", \")"
   ]
  },
  {
   "cell_type": "code",
   "execution_count": 55,
   "id": "a1a86153",
   "metadata": {},
   "outputs": [],
   "source": [
    "h7=\"사과, 배, 포도, 파인애플, 망고, 오렌지\"  #리스트로 만들고 싶다면?"
   ]
  },
  {
   "cell_type": "code",
   "execution_count": 56,
   "id": "f98aa810",
   "metadata": {},
   "outputs": [
    {
     "data": {
      "text/plain": [
       "['사과', '배', '포도', '파인애플', '망고', '오렌지']"
      ]
     },
     "execution_count": 56,
     "metadata": {},
     "output_type": "execute_result"
    }
   ],
   "source": [
    "h7_1= h7.split(\", \")\n",
    "h7_1"
   ]
  },
  {
   "cell_type": "markdown",
   "id": "df362c3d",
   "metadata": {},
   "source": [
    "3. 리스트를 1개의 문자열로 합치기<br>\n",
    "합칠 기준 -> .join(list)"
   ]
  },
  {
   "cell_type": "code",
   "execution_count": 57,
   "id": "aa00d79a",
   "metadata": {},
   "outputs": [
    {
     "data": {
      "text/plain": [
       "['사과', '배', '포도', '파인애플', '망고', '오렌지']"
      ]
     },
     "execution_count": 57,
     "metadata": {},
     "output_type": "execute_result"
    }
   ],
   "source": [
    "h7_1"
   ]
  },
  {
   "cell_type": "code",
   "execution_count": 61,
   "id": "a2fa64e3",
   "metadata": {},
   "outputs": [],
   "source": [
    "h8= \", \".join(h7_1)"
   ]
  },
  {
   "cell_type": "code",
   "execution_count": 62,
   "id": "6d0704b6",
   "metadata": {},
   "outputs": [
    {
     "data": {
      "text/plain": [
       "'사과, 배, 포도, 파인애플, 망고, 오렌지'"
      ]
     },
     "execution_count": 62,
     "metadata": {},
     "output_type": "execute_result"
    }
   ],
   "source": [
    "h8 "
   ]
  },
  {
   "cell_type": "markdown",
   "id": "de7e9894",
   "metadata": {},
   "source": [
    "split : 리스트로 변경! <br>\n",
    ".join : 문자열로 변경!"
   ]
  },
  {
   "cell_type": "code",
   "execution_count": 63,
   "id": "6063d9bf",
   "metadata": {},
   "outputs": [],
   "source": [
    "h9 = ['iron man', 'spider-man', 'black widow', 'hulk']"
   ]
  },
  {
   "cell_type": "code",
   "execution_count": 66,
   "id": "06887754",
   "metadata": {},
   "outputs": [],
   "source": [
    "# \"vs\"를 넣어서 리스트를 문자열로 만드세요\n",
    "h9_1 = \" vs \".join(h9)"
   ]
  },
  {
   "cell_type": "code",
   "execution_count": 65,
   "id": "5983ae70",
   "metadata": {},
   "outputs": [
    {
     "data": {
      "text/plain": [
       "'iron man vs spider-man vs black widow vs hulk'"
      ]
     },
     "execution_count": 65,
     "metadata": {},
     "output_type": "execute_result"
    }
   ],
   "source": [
    "h9_1"
   ]
  },
  {
   "cell_type": "code",
   "execution_count": null,
   "id": "9697b59c",
   "metadata": {},
   "outputs": [],
   "source": []
  },
  {
   "cell_type": "markdown",
   "id": "72ea33c4",
   "metadata": {},
   "source": [
    "4. 소문자를 대문자로, 대문자를 소문자로 바꾸는 함수 <br>\n",
    "- .upper(), .lower()"
   ]
  },
  {
   "cell_type": "code",
   "execution_count": 67,
   "id": "f76004c4",
   "metadata": {},
   "outputs": [
    {
     "data": {
      "text/plain": [
       "'IRON MAN VS SPIDER-MAN VS BLACK WIDOW VS HULK'"
      ]
     },
     "execution_count": 67,
     "metadata": {},
     "output_type": "execute_result"
    }
   ],
   "source": [
    "h10= h9_1.upper()\n",
    "h10"
   ]
  },
  {
   "cell_type": "code",
   "execution_count": 68,
   "id": "f1fc46bc",
   "metadata": {},
   "outputs": [
    {
     "data": {
      "text/plain": [
       "'iron man vs spider-man vs black widow vs hulk'"
      ]
     },
     "execution_count": 68,
     "metadata": {},
     "output_type": "execute_result"
    }
   ],
   "source": [
    "h10= h9_1.lower()\n",
    "h10"
   ]
  },
  {
   "cell_type": "markdown",
   "id": "821f6793",
   "metadata": {},
   "source": [
    "5. 왼쪽, 오른쪽, 양쪽 공백/특정 문자 삭제하기\n",
    "- .Istrip(): 왼쪽\n",
    "- .rstrip(): 오른쪽\n",
    "- .strip()"
   ]
  },
  {
   "cell_type": "code",
   "execution_count": 69,
   "id": "d2117be0",
   "metadata": {},
   "outputs": [],
   "source": [
    "h11 = \" 공백이 있는 문자열     \""
   ]
  },
  {
   "cell_type": "code",
   "execution_count": 70,
   "id": "d1dbe4ab",
   "metadata": {},
   "outputs": [
    {
     "data": {
      "text/plain": [
       "' 공백이 있는 문자열     '"
      ]
     },
     "execution_count": 70,
     "metadata": {},
     "output_type": "execute_result"
    }
   ],
   "source": [
    "h11"
   ]
  },
  {
   "cell_type": "code",
   "execution_count": 71,
   "id": "0b614169",
   "metadata": {},
   "outputs": [
    {
     "data": {
      "text/plain": [
       "' 공백이 있는 문자열'"
      ]
     },
     "execution_count": 71,
     "metadata": {},
     "output_type": "execute_result"
    }
   ],
   "source": [
    "h11.rstrip()"
   ]
  },
  {
   "cell_type": "code",
   "execution_count": 77,
   "id": "da76c771",
   "metadata": {},
   "outputs": [
    {
     "data": {
      "text/plain": [
       "'  ... , 공백과 특수문자가 같이 있는 문자열 !!  ^^ ....  '"
      ]
     },
     "execution_count": 77,
     "metadata": {},
     "output_type": "execute_result"
    }
   ],
   "source": [
    "h12 = \"  ... , 공백과 특수문자가 같이 있는 문자열 !!  ^^ ....  \"\n",
    "h12"
   ]
  },
  {
   "cell_type": "code",
   "execution_count": 78,
   "id": "34d2fbd6",
   "metadata": {
    "scrolled": true
   },
   "outputs": [
    {
     "data": {
      "text/plain": [
       "'... , 공백과 특수문자가 같이 있는 문자열 !!  ^^ ....  '"
      ]
     },
     "execution_count": 78,
     "metadata": {},
     "output_type": "execute_result"
    }
   ],
   "source": [
    "h12.lstrip()"
   ]
  },
  {
   "cell_type": "code",
   "execution_count": 79,
   "id": "78259d71",
   "metadata": {},
   "outputs": [
    {
     "data": {
      "text/plain": [
       "'  ... , 공백과 특수문자가 같이 있는 문자열 !!  ^^ ....'"
      ]
     },
     "execution_count": 79,
     "metadata": {},
     "output_type": "execute_result"
    }
   ],
   "source": [
    "h12.rstrip()"
   ]
  },
  {
   "cell_type": "code",
   "execution_count": 80,
   "id": "30a17996",
   "metadata": {},
   "outputs": [
    {
     "data": {
      "text/plain": [
       "'... , 공백과 특수문자가 같이 있는 문자열 !!  ^^ ....'"
      ]
     },
     "execution_count": 80,
     "metadata": {},
     "output_type": "execute_result"
    }
   ],
   "source": [
    "h12.strip()"
   ]
  },
  {
   "cell_type": "code",
   "execution_count": 81,
   "id": "21229e95",
   "metadata": {
    "scrolled": true
   },
   "outputs": [
    {
     "data": {
      "text/plain": [
       "', 공백과 특수문자가 같이 있는 문자열 !!  ^^ ....  '"
      ]
     },
     "execution_count": 81,
     "metadata": {},
     "output_type": "execute_result"
    }
   ],
   "source": [
    "h12.lstrip(\".. \")  #점과 공백을 넣어 없앤다"
   ]
  },
  {
   "cell_type": "code",
   "execution_count": 82,
   "id": "65ddebac",
   "metadata": {},
   "outputs": [
    {
     "data": {
      "text/plain": [
       "'  ... , 공백과 특수문자가 같이 있는 문자열'"
      ]
     },
     "execution_count": 82,
     "metadata": {},
     "output_type": "execute_result"
    }
   ],
   "source": [
    "h12.rstrip(\" .^!\")"
   ]
  },
  {
   "cell_type": "code",
   "execution_count": 83,
   "id": "321efaa0",
   "metadata": {},
   "outputs": [
    {
     "data": {
      "text/plain": [
       "'공백과 특수문자가 같이 있는 문자열'"
      ]
     },
     "execution_count": 83,
     "metadata": {},
     "output_type": "execute_result"
    }
   ],
   "source": [
    "h12.strip(\" .,!^\")"
   ]
  },
  {
   "cell_type": "code",
   "execution_count": null,
   "id": "a89b6bd1",
   "metadata": {},
   "outputs": [],
   "source": [
    "# 제일 바깥쪽 공백만 없어지고 중간에 있는 공백은 없애지 않는다.\n",
    "# 특수문자도 없애지 않는다."
   ]
  },
  {
   "cell_type": "code",
   "execution_count": null,
   "id": "26926c46",
   "metadata": {},
   "outputs": [],
   "source": []
  },
  {
   "cell_type": "code",
   "execution_count": 85,
   "id": "de5a67f0",
   "metadata": {},
   "outputs": [
    {
     "name": "stdout",
     "output_type": "stream",
     "text": [
      "  ... , 공백과 특수   문자가\n",
      " ^^ 같이 있는 \t문자열 !!  ^^ ....  \n"
     ]
    }
   ],
   "source": [
    "h13= \"  ... , 공백과 특수   문자가\\n ^^ 같이 있는 \\t문자열 !!  ^^ ....  \"\n",
    "print(h13)"
   ]
  },
  {
   "cell_type": "code",
   "execution_count": null,
   "id": "425cf3f7",
   "metadata": {},
   "outputs": [],
   "source": []
  },
  {
   "cell_type": "code",
   "execution_count": null,
   "id": "8f17d60e",
   "metadata": {},
   "outputs": [],
   "source": []
  },
  {
   "cell_type": "markdown",
   "id": "c3cd7870",
   "metadata": {},
   "source": [
    "    6. 메서드 체이닝(method(함수) chaining)으로 여러함수 동시에 사용하기"
   ]
  },
  {
   "cell_type": "code",
   "execution_count": 86,
   "id": "7b6a9b92",
   "metadata": {},
   "outputs": [
    {
     "data": {
      "text/plain": [
       "'공백과 특수   문자가\\n ^^ 같이 있는 \\t문자열'"
      ]
     },
     "execution_count": 86,
     "metadata": {},
     "output_type": "execute_result"
    }
   ],
   "source": [
    "#문자열 깨끗하게 만들 수 있어야 나중에 리뷰같은 데이터 깔끔하게 뽑아낼 수 있음\n",
    "h13.strip(\" ,.!^\")"
   ]
  },
  {
   "cell_type": "code",
   "execution_count": 89,
   "id": "844d9269",
   "metadata": {},
   "outputs": [
    {
     "data": {
      "text/plain": [
       "'공백과 특수   문자가\\n  같이 있는 \\t문자열'"
      ]
     },
     "execution_count": 89,
     "metadata": {},
     "output_type": "execute_result"
    }
   ],
   "source": [
    "h13.strip(\" ,.!^\").replace(\"^\",\"\")"
   ]
  },
  {
   "cell_type": "code",
   "execution_count": 93,
   "id": "99a708c9",
   "metadata": {},
   "outputs": [
    {
     "data": {
      "text/plain": [
       "'공백과 특수 문자가같이 있는 문자열'"
      ]
     },
     "execution_count": 93,
     "metadata": {},
     "output_type": "execute_result"
    }
   ],
   "source": [
    "h13.strip(\" ,.!^\").replace(\"^\",\"\").replace(\"\\n\",\"\").replace(\"\\t\",\"\").replace(\"  \",\"\")"
   ]
  },
  {
   "cell_type": "code",
   "execution_count": 94,
   "id": "c6a367a8",
   "metadata": {},
   "outputs": [
    {
     "data": {
      "text/plain": [
       "'    공백과 특수   문자가  같이 있는 문자열      '"
      ]
     },
     "execution_count": 94,
     "metadata": {},
     "output_type": "execute_result"
    }
   ],
   "source": [
    "h13.translate( str.maketrans('', '',',.^!\\n\\t'))"
   ]
  },
  {
   "cell_type": "code",
   "execution_count": 97,
   "id": "84918590",
   "metadata": {},
   "outputs": [
    {
     "data": {
      "text/plain": [
       "'공백과 특수 문자가같이 있는 문자열'"
      ]
     },
     "execution_count": 97,
     "metadata": {},
     "output_type": "execute_result"
    }
   ],
   "source": [
    "h13.translate( str.maketrans('', '',',.^!\\n\\t')).replace(\"  \",\"\")"
   ]
  },
  {
   "cell_type": "markdown",
   "id": "a4512a9f",
   "metadata": {},
   "source": [
    "* string.punctuation을 이용해 특수문자 제거하기"
   ]
  },
  {
   "cell_type": "code",
   "execution_count": 98,
   "id": "da5ba236",
   "metadata": {},
   "outputs": [],
   "source": [
    "import string"
   ]
  },
  {
   "cell_type": "code",
   "execution_count": 99,
   "id": "7c5599c7",
   "metadata": {},
   "outputs": [
    {
     "data": {
      "text/plain": [
       "'!\"#$%&\\'()*+,-./:;<=>?@[\\\\]^_`{|}~'"
      ]
     },
     "execution_count": 99,
     "metadata": {},
     "output_type": "execute_result"
    }
   ],
   "source": [
    "string.punctuation"
   ]
  },
  {
   "cell_type": "code",
   "execution_count": 100,
   "id": "ad737673",
   "metadata": {},
   "outputs": [
    {
     "data": {
      "text/plain": [
       "'  ... , 공백과 특수   문자가\\n ^^ 같이 있는 \\t문자열 !!  ^^ ....  '"
      ]
     },
     "execution_count": 100,
     "metadata": {},
     "output_type": "execute_result"
    }
   ],
   "source": [
    "h13"
   ]
  },
  {
   "cell_type": "code",
   "execution_count": 101,
   "id": "6708f0fd",
   "metadata": {},
   "outputs": [
    {
     "data": {
      "text/plain": [
       "'    공백과 특수   문자가\\n  같이 있는 \\t문자열      '"
      ]
     },
     "execution_count": 101,
     "metadata": {},
     "output_type": "execute_result"
    }
   ],
   "source": [
    "# 특수문자 제외한 값들만 깔끔하게 보고 싶을때\n",
    "h13.translate( str.maketrans('', '',string.punctuation))"
   ]
  },
  {
   "cell_type": "code",
   "execution_count": 103,
   "id": "02e3b954",
   "metadata": {},
   "outputs": [
    {
     "data": {
      "text/plain": [
       "'공백과 특수   문자가  같이 있는 문자열'"
      ]
     },
     "execution_count": 103,
     "metadata": {},
     "output_type": "execute_result"
    }
   ],
   "source": [
    "h13.translate( str.maketrans('', '',string.punctuation)).replace(\"\\n\",\"\").replace(\"\\t\",\"\").strip()"
   ]
  },
  {
   "cell_type": "code",
   "execution_count": null,
   "id": "6877aaf2",
   "metadata": {},
   "outputs": [],
   "source": []
  },
  {
   "cell_type": "code",
   "execution_count": 110,
   "id": "c7c3cbc0",
   "metadata": {
    "scrolled": true
   },
   "outputs": [],
   "source": [
    "test1 = '''344,622642,더 호텔 수 (THE HOTEL SOO),family,1박 가족 여행,2018년 5월 21일,8.0,\"위치 : 이순신 광장과는 반대편이라 차량으로 이동해야 합니다. 루프탑에서의\n",
    "바다 경치는 좋습니다.\n",
    "시설 : 깔끔하고 좋습니다. 패밀리룸을 사용 했는데 저녁6시쯤 갔더니 마지막 방이라며 2층을 배정 받았습니다. 창문을 여니 약간 쓰레기 냄새가 났고 바다가 보이지 않습니다.        \n",
    "루프탑 : 바베큐 세트가 저렴 했던거 같고 경치가 좋습니다. 수영장도 있었는데 계절이 아닌지.... \n",
    "    하지만 여름이면 좋을것 같습니다. 주차장은 장소가 넓지 않았던거 같고, 저녁에 나갔다 왔더니 야외 공터에 차를 대라고 하였습니다.    \n",
    "주말 저녁이라 그런지 가격을 제법 비싸게 준거 같은데... 2층이라 마음에 들지 않았습니다. 옆에 조선소 같은게 있어 쫌 보기에 좋지 않았습니다......................................'''"
   ]
  },
  {
   "cell_type": "code",
   "execution_count": 122,
   "id": "56254e9c",
   "metadata": {
    "scrolled": true
   },
   "outputs": [
    {
     "data": {
      "text/plain": [
       "['344',\n",
       " '622642',\n",
       " '더 호텔 수 (THE HOTEL SOO)',\n",
       " 'family',\n",
       " '1박 가족 여행',\n",
       " '2018년 5월 21일',\n",
       " '8.0',\n",
       " '\"위치 : 이순신 광장과는 반대편이라 차량으로 이동해야 합니다. 루프탑에서의\\n바다 경치는 좋습니다.\\n시설 : 깔끔하고 좋습니다. 패밀리룸을 사용 했는데 저녁6시쯤 갔더니 마지막 방이라며 2층을 배정 받았습니다. 창문을 여니 약간 쓰레기 냄새가 났고 바다가 보이지 않습니다.        \\n루프탑 : 바베큐 세트가 저렴 했던거 같고 경치가 좋습니다. 수영장도 있었는데 계절이 아닌지.... \\n    하지만 여름이면 좋을것 같습니다. 주차장은 장소가 넓지 않았던거 같고',\n",
       " ' 저녁에 나갔다 왔더니 야외 공터에 차를 대라고 하였습니다.    \\n주말 저녁이라 그런지 가격을 제법 비싸게 준거 같은데... 2층이라 마음에 들지 않았습니다. 옆에 조선소 같은게 있어 쫌 보기에 좋지 않았습니다......................................']"
      ]
     },
     "execution_count": 122,
     "metadata": {},
     "output_type": "execute_result"
    }
   ],
   "source": [
    "r1=test1.split(\",\")\n",
    "r1"
   ]
  },
  {
   "cell_type": "code",
   "execution_count": 128,
   "id": "99dc8ad0",
   "metadata": {},
   "outputs": [
    {
     "name": "stdout",
     "output_type": "stream",
     "text": [
      "hid:  344622642\n"
     ]
    }
   ],
   "source": [
    "hid= r1[0]+r1[1]\n",
    "print(\"hid: \",hid)"
   ]
  },
  {
   "cell_type": "code",
   "execution_count": 181,
   "id": "bc076332",
   "metadata": {},
   "outputs": [
    {
     "name": "stdout",
     "output_type": "stream",
     "text": [
      "hid:  344,622642\n"
     ]
    }
   ],
   "source": [
    "hid= r1[:2]\n",
    "print(\"hid: \",\",\".join(hid))"
   ]
  },
  {
   "cell_type": "code",
   "execution_count": 131,
   "id": "8ba3d0e7",
   "metadata": {},
   "outputs": [
    {
     "name": "stdout",
     "output_type": "stream",
     "text": [
      "hotel_name_k:  더 호텔 수\n"
     ]
    }
   ],
   "source": [
    "hotel_name_k=r1[2].split(\" (\")\n",
    "print(\"hotel_name_k: \",hotel_name_k[0])"
   ]
  },
  {
   "cell_type": "code",
   "execution_count": 133,
   "id": "dd8ce266",
   "metadata": {},
   "outputs": [
    {
     "name": "stdout",
     "output_type": "stream",
     "text": [
      "hotel_name_e:  THE HOTEL SOO\n"
     ]
    }
   ],
   "source": [
    "hotel_name_e=r1[2].split(\" (\")\n",
    "print(\"hotel_name_e: \",hotel_name_k[1].rstrip(\")\"))"
   ]
  },
  {
   "cell_type": "code",
   "execution_count": 135,
   "id": "ec6c9ac5",
   "metadata": {},
   "outputs": [
    {
     "name": "stdout",
     "output_type": "stream",
     "text": [
      "trip_type:  family\n"
     ]
    }
   ],
   "source": [
    "print(\"trip_type: \",r1[3])"
   ]
  },
  {
   "cell_type": "code",
   "execution_count": 136,
   "id": "4bf9fb1c",
   "metadata": {},
   "outputs": [
    {
     "name": "stdout",
     "output_type": "stream",
     "text": [
      "trip_type2:  1박 가족 여행\n"
     ]
    }
   ],
   "source": [
    "print(\"trip_type2: \",r1[4])"
   ]
  },
  {
   "cell_type": "code",
   "execution_count": 137,
   "id": "f6f2c8bf",
   "metadata": {},
   "outputs": [
    {
     "name": "stdout",
     "output_type": "stream",
     "text": [
      "trip_date:  2018년 5월 21일\n"
     ]
    }
   ],
   "source": [
    "print(\"trip_date: \",r1[5])"
   ]
  },
  {
   "cell_type": "code",
   "execution_count": 138,
   "id": "ac8ef4d5",
   "metadata": {},
   "outputs": [
    {
     "name": "stdout",
     "output_type": "stream",
     "text": [
      "rating:  8.0\n"
     ]
    }
   ],
   "source": [
    "print(\"rating: \",r1[6])"
   ]
  },
  {
   "cell_type": "code",
   "execution_count": 161,
   "id": "d0c4c0da",
   "metadata": {},
   "outputs": [
    {
     "name": "stdout",
     "output_type": "stream",
     "text": [
      "review: \n"
     ]
    },
    {
     "data": {
      "text/plain": [
       "'위치이순신 광장과는 반대편이라 차량으로 이동해야 합니다 루프탑에서의바다 경치는 좋습니다시설깔끔하고 좋습니다 패밀리룸을 사용 했는데 저녁6시쯤 갔더니 마지막 방이라며 2층을 배정 받았습니다 창문을 여니 약간 쓰레기 냄새가 났고 바다가 보이지 않습니다루프탑바베큐 세트가 저렴 했던거 같고 경치가 좋습니다 수영장도 있었는데 계절이 아닌지 하지만 여름이면 좋을것 같습니다 주차장은 장소가 넓지 않았던거 같고저녁에 나갔다 왔더니 야외 공터에 차를 대라고 하였습니다주말 저녁이라 그런지 가격을 제법 비싸게 준거 같은데 2층이라 마음에 들지 않았습니다 옆에 조선소 같은게 있어 쫌 보기에 좋지 않았습니다'"
      ]
     },
     "execution_count": 161,
     "metadata": {},
     "output_type": "execute_result"
    }
   ],
   "source": [
    "print(\"review: \")\n",
    "rel=r1[7:]\n",
    "aaa = \", \".join(rel)\n",
    "aaa.translate( str.maketrans('', '',string.punctuation)).replace(\"  \",\"\").replace(\"\\n\",\"\").strip()"
   ]
  },
  {
   "cell_type": "code",
   "execution_count": null,
   "id": "28f2b04c",
   "metadata": {},
   "outputs": [],
   "source": []
  },
  {
   "cell_type": "code",
   "execution_count": 166,
   "id": "9fb58def",
   "metadata": {},
   "outputs": [],
   "source": [
    "test2= \"18062,427535,파크 하얏트 부산 (Park Hyatt Busan),family,2박 가족 여행,2019년 12월 29일,10.0,결혼 1주년 기념으로 아이랑 신랑이랑 다녀왔어요~ 룸컨디션 너무 좋았고 뷰가 최고였습니다! 2박 머물렀는데 청소도 깔끔하게 해주시고 애기가 이불에 살짝 토했는데도 바로 갈아주시고 좋았습니다~ 대신 창가쪽 커튼 한쪽이 떨어져있어서 조금 거슬렸구요... 창가에 침실이 있다보니 암막커튼을 치지 않으면 조금 쌀쌀한 느낌은 있었어요! 아 그리고 아기때문에 침대에 가드를 부탁드렸는데 가드가 너무 별로였습니다... 가드 구실을 못하고 넘 허술하게 매트리스 아래 그냥 끼워진거라 아기가 밤새 두번이나 가드사이에 빠졌습니다... 이점 좀 아쉬워요 ! 그 외에는 다이닝룸 리빙룸, 바까지 모두 이용했는데 서비스 좋았습니다~~!\""
   ]
  },
  {
   "cell_type": "code",
   "execution_count": 167,
   "id": "80772105",
   "metadata": {},
   "outputs": [
    {
     "data": {
      "text/plain": [
       "['18062',\n",
       " '427535',\n",
       " '파크 하얏트 부산 (Park Hyatt Busan)',\n",
       " 'family',\n",
       " '2박 가족 여행',\n",
       " '2019년 12월 29일',\n",
       " '10.0',\n",
       " '결혼 1주년 기념으로 아이랑 신랑이랑 다녀왔어요~ 룸컨디션 너무 좋았고 뷰가 최고였습니다! 2박 머물렀는데 청소도 깔끔하게 해주시고 애기가 이불에 살짝 토했는데도 바로 갈아주시고 좋았습니다~ 대신 창가쪽 커튼 한쪽이 떨어져있어서 조금 거슬렸구요... 창가에 침실이 있다보니 암막커튼을 치지 않으면 조금 쌀쌀한 느낌은 있었어요! 아 그리고 아기때문에 침대에 가드를 부탁드렸는데 가드가 너무 별로였습니다... 가드 구실을 못하고 넘 허술하게 매트리스 아래 그냥 끼워진거라 아기가 밤새 두번이나 가드사이에 빠졌습니다... 이점 좀 아쉬워요 ! 그 외에는 다이닝룸 리빙룸',\n",
       " ' 바까지 모두 이용했는데 서비스 좋았습니다~~!']"
      ]
     },
     "execution_count": 167,
     "metadata": {},
     "output_type": "execute_result"
    }
   ],
   "source": [
    "r2=test2.split(\",\")\n",
    "r2"
   ]
  },
  {
   "cell_type": "code",
   "execution_count": 178,
   "id": "53294b10",
   "metadata": {},
   "outputs": [
    {
     "name": "stdout",
     "output_type": "stream",
     "text": [
      "review: \n"
     ]
    },
    {
     "data": {
      "text/plain": [
       "'결혼 1주년 기념으로 아이랑 신랑이랑 다녀왔어요 룸컨디션 너무 좋았고 뷰가 최고였습니다 2박 머물렀는데 청소도 깔끔하게 해주시고 애기가 이불에 살짝 토했는데도 바로 갈아주시고 좋았습니다 대신 창가쪽 커튼 한쪽이 떨어져있어서 조금 거슬렸구요 창가에 침실이 있다보니 암막커튼을 치지 않으면 조금 쌀쌀한 느낌은 있었어요 아 그리고 아기때문에 침대에 가드를 부탁드렸는데 가드가 너무 별로였습니다 가드 구실을 못하고 넘 허술하게 매트리스 아래 그냥 끼워진거라 아기가 밤새 두번이나 가드사이에 빠졌습니다 이점 좀 아쉬워요그 외에는 다이닝룸 리빙룸바까지 모두 이용했는데 서비스 좋았습니다'"
      ]
     },
     "execution_count": 178,
     "metadata": {},
     "output_type": "execute_result"
    }
   ],
   "source": [
    "print(\"review: \")\n",
    "rel2=r2[7:]\n",
    "bbb = \", \".join(rel2)\n",
    "bbb.translate( str.maketrans('', '',string.punctuation)).replace(\"  \",\"\")"
   ]
  },
  {
   "cell_type": "code",
   "execution_count": 174,
   "id": "e0021003",
   "metadata": {},
   "outputs": [],
   "source": [
    "test3 = \"\"\"112731,239840,서귀포 칼 호텔 (Seogwipo KAL Hotel),family,3박 가족 여행,2020년 11월 19일,8.0,넓디넓은 정원과 산책로 덕분에 코로나 시대 언택트 여행에 좋았구요. 조용하고 한적하게 잘 쉬었어요.\n",
    "아무래도 서귀포가 제주시쪽보단 사람도 적어서 오히려 편하면서, 주변에 식당이나 까페, 편의점 갈때도 걸어서도 다녀올 입지라 좋습니다.\n",
    "실내 수영장은 생각만큼? 작은 규모라 오히려 사람 없이 잘 놀았어요ㅎㅎ \n",
    "라운지바가 넓고 층고도 높아서 커피나 맥주 먹으며 쉬기에 좋고요.\n",
    "매일 주시는 1.5리터 생수ㅎㅎ별거 아닐수 있지만 매우 감사했구요.\n",
    "다만 층수가 낮은 방이어서 그런가 모기가 있었어요^^;; 그외에는 다 깨끗했구요. \n",
    "매트리스가 오래됐는지 묘하게 불편해서 허리가 아프긴 하더라고요;; 다행히? 세미온돌이라 바닥에서 자는게 오히려 나았고요\n",
    "조식은...최근 후기가 다 별로라길래 하루만 가봤는데 역시;;ㅎ 뭐 저렴하기도 하지만.. 저는 나가서 먹었습니다.\"\"\""
   ]
  },
  {
   "cell_type": "code",
   "execution_count": 175,
   "id": "df5b9b6d",
   "metadata": {},
   "outputs": [
    {
     "data": {
      "text/plain": [
       "['112731',\n",
       " '239840',\n",
       " '서귀포 칼 호텔 (Seogwipo KAL Hotel)',\n",
       " 'family',\n",
       " '3박 가족 여행',\n",
       " '2020년 11월 19일',\n",
       " '8.0',\n",
       " '넓디넓은 정원과 산책로 덕분에 코로나 시대 언택트 여행에 좋았구요. 조용하고 한적하게 잘 쉬었어요.\\n아무래도 서귀포가 제주시쪽보단 사람도 적어서 오히려 편하면서',\n",
       " ' 주변에 식당이나 까페',\n",
       " ' 편의점 갈때도 걸어서도 다녀올 입지라 좋습니다.\\n실내 수영장은 생각만큼? 작은 규모라 오히려 사람 없이 잘 놀았어요ㅎㅎ \\n라운지바가 넓고 층고도 높아서 커피나 맥주 먹으며 쉬기에 좋고요.\\n매일 주시는 1.5리터 생수ㅎㅎ별거 아닐수 있지만 매우 감사했구요.\\n다만 층수가 낮은 방이어서 그런가 모기가 있었어요^^;; 그외에는 다 깨끗했구요. \\n매트리스가 오래됐는지 묘하게 불편해서 허리가 아프긴 하더라고요;; 다행히? 세미온돌이라 바닥에서 자는게 오히려 나았고요\\n조식은...최근 후기가 다 별로라길래 하루만 가봤는데 역시;;ㅎ 뭐 저렴하기도 하지만.. 저는 나가서 먹었습니다.']"
      ]
     },
     "execution_count": 175,
     "metadata": {},
     "output_type": "execute_result"
    }
   ],
   "source": [
    "r3=test3.split(\",\")\n",
    "r3"
   ]
  },
  {
   "cell_type": "code",
   "execution_count": 177,
   "id": "5be6d1ce",
   "metadata": {},
   "outputs": [
    {
     "name": "stdout",
     "output_type": "stream",
     "text": [
      "review: \n"
     ]
    },
    {
     "data": {
      "text/plain": [
       "'넓디넓은 정원과 산책로 덕분에 코로나 시대 언택트 여행에 좋았구요 조용하고 한적하게 잘 쉬었어요아무래도 서귀포가 제주시쪽보단 사람도 적어서 오히려 편하면서주변에 식당이나 까페편의점 갈때도 걸어서도 다녀올 입지라 좋습니다실내 수영장은 생각만큼 작은 규모라 오히려 사람 없이 잘 놀았어요 라운지바가 넓고 층고도 높아서 커피나 맥주 먹으며 쉬기에 좋고요매일 주시는 1.5리터 생수별거 아닐수 있지만 매우 감사했구요다만 층수가 낮은 방이어서 그런가 모기가 있었어요 그외에는 다 깨끗했구요 매트리스가 오래됐는지 묘하게 불편해서 허리가 아프긴 하더라고요 다행히 세미온돌이라 바닥에서 자는게 오히려 나았고요조식은최근 후기가 다 별로라길래 하루만 가봤는데 역시 뭐 저렴하기도 하지만 저는 나가서 먹었습니다'"
      ]
     },
     "execution_count": 177,
     "metadata": {},
     "output_type": "execute_result"
    }
   ],
   "source": [
    "print(\"review: \")\n",
    "rel3=r3[7:]\n",
    "ccc = \", \".join(rel3)\n",
    "ccc.translate( str.maketrans('', '',string.punctuation)).replace(\"  \",\"\").replace(\"ㅎ\",\"\").replace(\"15\",\"1.5\").replace(\"\\n\",\"\").strip()"
   ]
  },
  {
   "cell_type": "code",
   "execution_count": null,
   "id": "2a0e4d62",
   "metadata": {},
   "outputs": [],
   "source": []
  },
  {
   "cell_type": "code",
   "execution_count": null,
   "id": "7ccafd80",
   "metadata": {},
   "outputs": [],
   "source": []
  }
 ],
 "metadata": {
  "kernelspec": {
   "display_name": "Python 3 (ipykernel)",
   "language": "python",
   "name": "python3"
  },
  "language_info": {
   "codemirror_mode": {
    "name": "ipython",
    "version": 3
   },
   "file_extension": ".py",
   "mimetype": "text/x-python",
   "name": "python",
   "nbconvert_exporter": "python",
   "pygments_lexer": "ipython3",
   "version": "3.10.14"
  }
 },
 "nbformat": 4,
 "nbformat_minor": 5
}
