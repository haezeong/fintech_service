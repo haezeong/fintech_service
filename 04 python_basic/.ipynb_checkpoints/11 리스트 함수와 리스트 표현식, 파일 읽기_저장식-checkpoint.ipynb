{
 "cells": [
  {
   "cell_type": "markdown",
   "id": "313b695c",
   "metadata": {},
   "source": [
    "# 리스트함수와 리스트 표현식, 파일 읽기_저장하기"
   ]
  },
  {
   "cell_type": "markdown",
   "id": "a2796b07",
   "metadata": {},
   "source": [
    "## 리스트 함수 \n",
    "* min(): 리스트 내에서 최소값을 찾아주는 함수\n",
    "* max(): 리스트 내에서 최대값을 찾아주는 함수\n",
    "* sum(): 리스트 내의 요소를 더해 합계를 구해주는 함수"
   ]
  },
  {
   "cell_type": "code",
   "execution_count": 2,
   "id": "50f57018",
   "metadata": {},
   "outputs": [],
   "source": [
    "a=[38, 21, 53, 62, 19, 5, 78, 55, 42, 33]\n",
    "b=[77, 65, 48, 79, 5, 4, 35, 3, 99, 105]"
   ]
  },
  {
   "cell_type": "markdown",
   "id": "a6a6dd6c",
   "metadata": {},
   "source": [
    "### 제일 작은 애 찾으려면?\n",
    "* 정렬해서 가장 앞에 있는 숫자 추출 -> sorted\n",
    "* 모든 요소를 꺼내서 비교"
   ]
  },
  {
   "cell_type": "code",
   "execution_count": 3,
   "id": "0677f986",
   "metadata": {},
   "outputs": [
    {
     "data": {
      "text/plain": [
       "[5, 19, 21, 33, 38, 42, 53, 55, 62, 78]"
      ]
     },
     "execution_count": 3,
     "metadata": {},
     "output_type": "execute_result"
    }
   ],
   "source": [
    "sorted(a) #인덱스 0번이 최솟값, -1번이 최대값"
   ]
  },
  {
   "cell_type": "code",
   "execution_count": 4,
   "id": "d095ddbe",
   "metadata": {},
   "outputs": [
    {
     "data": {
      "text/plain": [
       "[78, 62, 55, 53, 42, 38, 33, 21, 19, 5]"
      ]
     },
     "execution_count": 4,
     "metadata": {},
     "output_type": "execute_result"
    }
   ],
   "source": [
    "sorted(a, reverse =True)"
   ]
  },
  {
   "cell_type": "code",
   "execution_count": 5,
   "id": "d2b94361",
   "metadata": {},
   "outputs": [
    {
     "data": {
      "text/plain": [
       "78"
      ]
     },
     "execution_count": 5,
     "metadata": {},
     "output_type": "execute_result"
    }
   ],
   "source": [
    "sorted(a)[-1] #인덱스 0번이 최솟값, -1번이 최대값"
   ]
  },
  {
   "cell_type": "code",
   "execution_count": 8,
   "id": "ae55c0ce",
   "metadata": {},
   "outputs": [
    {
     "name": "stdout",
     "output_type": "stream",
     "text": [
      "78\n"
     ]
    }
   ],
   "source": [
    "# 리스트 내에서 가장 큰 값을 찾는 코드\n",
    "temp = a[0]\n",
    "for i in a:\n",
    "    if temp <= i:\n",
    "        temp=i\n",
    "    \n",
    "print(temp)"
   ]
  },
  {
   "cell_type": "code",
   "execution_count": 9,
   "id": "3f063543",
   "metadata": {},
   "outputs": [
    {
     "name": "stdout",
     "output_type": "stream",
     "text": [
      "5\n"
     ]
    }
   ],
   "source": [
    "# 리스트 내에서 가장 작은 값을 찾는 코드\n",
    "temp = a[0]\n",
    "for i in a:\n",
    "    if temp >= i:\n",
    "        temp=i\n",
    "    \n",
    "print(temp)"
   ]
  },
  {
   "cell_type": "code",
   "execution_count": 14,
   "id": "e4cf4d18",
   "metadata": {},
   "outputs": [
    {
     "name": "stdout",
     "output_type": "stream",
     "text": [
      "5\n",
      "78\n"
     ]
    }
   ],
   "source": [
    "print(min(a))\n",
    "print(max(a))"
   ]
  },
  {
   "cell_type": "markdown",
   "id": "b8e9a995",
   "metadata": {},
   "source": [
    "리스트 내의 모든 요소 더하기"
   ]
  },
  {
   "cell_type": "code",
   "execution_count": 12,
   "id": "232e4845",
   "metadata": {},
   "outputs": [
    {
     "data": {
      "text/plain": [
       "[38, 21, 53, 62, 19, 5, 78, 55, 42, 33]"
      ]
     },
     "execution_count": 12,
     "metadata": {},
     "output_type": "execute_result"
    }
   ],
   "source": [
    "a"
   ]
  },
  {
   "cell_type": "code",
   "execution_count": 13,
   "id": "b7d93235",
   "metadata": {},
   "outputs": [
    {
     "name": "stdout",
     "output_type": "stream",
     "text": [
      "406\n"
     ]
    }
   ],
   "source": [
    "hap =0\n",
    "for i in a:\n",
    "    hap += i\n",
    "print(hap)"
   ]
  },
  {
   "cell_type": "code",
   "execution_count": 16,
   "id": "a7abbea1",
   "metadata": {},
   "outputs": [
    {
     "data": {
      "text/plain": [
       "406"
      ]
     },
     "execution_count": 16,
     "metadata": {},
     "output_type": "execute_result"
    }
   ],
   "source": [
    "sum(a)"
   ]
  },
  {
   "cell_type": "markdown",
   "id": "72c7458f",
   "metadata": {},
   "source": [
    "## 리스트 표현식(list comprehension)사용하기\n",
    "* 리스트 안에 for반복문과 if else 조건문을 한번에 적는 방법\n",
    "* 여러 줄의 코드를 1줄로 줄일 수 있고\n",
    "* for, if else 문을 쓸 때 보다 처리 속도가 빠르다\n",
    "* [실행할 명령 for 변수 in list, tuple]\n"
   ]
  },
  {
   "cell_type": "code",
   "execution_count": 17,
   "id": "3bfe0bbe",
   "metadata": {},
   "outputs": [
    {
     "data": {
      "text/plain": [
       "[1, 2, 3, 4, 5, 6, 7, 8, 9, 10]"
      ]
     },
     "execution_count": 17,
     "metadata": {},
     "output_type": "execute_result"
    }
   ],
   "source": [
    "list(range(1,11))"
   ]
  },
  {
   "cell_type": "code",
   "execution_count": 18,
   "id": "7ee78935",
   "metadata": {},
   "outputs": [
    {
     "data": {
      "text/plain": [
       "[1, 2, 3, 4, 5, 6, 7, 8, 9, 10]"
      ]
     },
     "execution_count": 18,
     "metadata": {},
     "output_type": "execute_result"
    }
   ],
   "source": [
    "a= []\n",
    "for i in range (1,11):\n",
    "    a.append(i)\n",
    "    \n",
    "a"
   ]
  },
  {
   "cell_type": "code",
   "execution_count": 19,
   "id": "0dd6e402",
   "metadata": {},
   "outputs": [
    {
     "data": {
      "text/plain": [
       "[1, 2, 3, 4, 5, 6, 7, 8, 9, 10]"
      ]
     },
     "execution_count": 19,
     "metadata": {},
     "output_type": "execute_result"
    }
   ],
   "source": [
    "[i for i in range(1,11)]"
   ]
  },
  {
   "cell_type": "code",
   "execution_count": 23,
   "id": "c4aaf35c",
   "metadata": {},
   "outputs": [
    {
     "name": "stdout",
     "output_type": "stream",
     "text": [
      "[6, 7, 8, 9, 10, 11, 12, 13, 14, 15]\n",
      "코드 실행 시간:  3.102698802947998\n"
     ]
    }
   ],
   "source": [
    "import time\n",
    "start = time.time()\n",
    "\n",
    "a=[]\n",
    "for i in range(1, 20000000):\n",
    "    a.append(i +5)\n",
    "print(a[:10])\n",
    "print('코드 실행 시간: ', time.time()-start)"
   ]
  },
  {
   "cell_type": "code",
   "execution_count": 24,
   "id": "5836728d",
   "metadata": {},
   "outputs": [
    {
     "name": "stdout",
     "output_type": "stream",
     "text": [
      "[6, 7, 8, 9, 10, 11, 12, 13, 14, 15]\n",
      "코드 실행 시간:  1.4093167781829834\n"
     ]
    }
   ],
   "source": [
    "start = time.time()\n",
    "\n",
    "b=[i+5 for i in range(1, 20000000)]\n",
    "\n",
    "print(b[:10])\n",
    "print('코드 실행 시간: ', time.time()-start)"
   ]
  },
  {
   "cell_type": "code",
   "execution_count": null,
   "id": "d6e59516",
   "metadata": {},
   "outputs": [],
   "source": [
    "#딥러닝할|때 어레이로 다뤄진\n",
    "#순수 파이썬으로 돌리면 오래 걸리지만\n",
    "#c언어로 짠애로 돌리면 1초도 안걸린다\n",
    "#파이썬이 얼마나 느린지 알 수 있음\n",
    "# 넘파이는 c언어로 짜여진 코드"
   ]
  },
  {
   "cell_type": "code",
   "execution_count": 27,
   "id": "d97e4222",
   "metadata": {},
   "outputs": [
    {
     "name": "stdout",
     "output_type": "stream",
     "text": [
      "[ 6  7  8  9 10 11 12 13 14 15]\n",
      "코드 실행 시간:  0.06801509857177734\n"
     ]
    }
   ],
   "source": [
    "import numpy as np\n",
    "\n",
    "start = time.time()\n",
    "\n",
    "c=np.arange(1, 20000000)\n",
    "c=c+5\n",
    "print(c[:10])\n",
    "\n",
    "print('코드 실행 시간: ', time.time()-start)"
   ]
  },
  {
   "cell_type": "code",
   "execution_count": null,
   "id": "dd903233",
   "metadata": {},
   "outputs": [],
   "source": []
  },
  {
   "cell_type": "code",
   "execution_count": null,
   "id": "a8c26a1d",
   "metadata": {},
   "outputs": [],
   "source": []
  },
  {
   "cell_type": "code",
   "execution_count": null,
   "id": "f8031262",
   "metadata": {},
   "outputs": [],
   "source": []
  },
  {
   "cell_type": "code",
   "execution_count": null,
   "id": "d52d23d6",
   "metadata": {},
   "outputs": [],
   "source": []
  },
  {
   "cell_type": "code",
   "execution_count": null,
   "id": "e4dcc811",
   "metadata": {},
   "outputs": [],
   "source": []
  },
  {
   "cell_type": "code",
   "execution_count": null,
   "id": "8a14eddb",
   "metadata": {},
   "outputs": [],
   "source": []
  }
 ],
 "metadata": {
  "kernelspec": {
   "display_name": "Python 3 (ipykernel)",
   "language": "python",
   "name": "python3"
  },
  "language_info": {
   "codemirror_mode": {
    "name": "ipython",
    "version": 3
   },
   "file_extension": ".py",
   "mimetype": "text/x-python",
   "name": "python",
   "nbconvert_exporter": "python",
   "pygments_lexer": "ipython3",
   "version": "3.10.14"
  }
 },
 "nbformat": 4,
 "nbformat_minor": 5
}
