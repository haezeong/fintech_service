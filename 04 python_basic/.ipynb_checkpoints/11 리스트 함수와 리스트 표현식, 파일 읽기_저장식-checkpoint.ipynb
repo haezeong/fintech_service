{
 "cells": [
  {
   "cell_type": "markdown",
   "id": "313b695c",
   "metadata": {},
   "source": [
    "# 리스트함수와 리스트 표현식, 파일 읽기_저장하기"
   ]
  },
  {
   "cell_type": "markdown",
   "id": "a2796b07",
   "metadata": {},
   "source": [
    "## 리스트 함수 \n",
    "* min(): 리스트 내에서 최소값을 찾아주는 함수\n",
    "* max(): 리스트 내에서 최대값을 찾아주는 함수\n",
    "* sum(): 리스트 내의 요소를 더해 합계를 구해주는 함수"
   ]
  },
  {
   "cell_type": "code",
   "execution_count": 2,
   "id": "50f57018",
   "metadata": {},
   "outputs": [],
   "source": [
    "a=[38, 21, 53, 62, 19, 5, 78, 55, 42, 33]\n",
    "b=[77, 65, 48, 79, 5, 4, 35, 3, 99, 105]"
   ]
  },
  {
   "cell_type": "markdown",
   "id": "a6a6dd6c",
   "metadata": {},
   "source": [
    "### 제일 작은 애 찾으려면?\n",
    "* 정렬해서 가장 앞에 있는 숫자 추출 -> sorted\n",
    "* 모든 요소를 꺼내서 비교"
   ]
  },
  {
   "cell_type": "code",
   "execution_count": 3,
   "id": "0677f986",
   "metadata": {},
   "outputs": [
    {
     "data": {
      "text/plain": [
       "[5, 19, 21, 33, 38, 42, 53, 55, 62, 78]"
      ]
     },
     "execution_count": 3,
     "metadata": {},
     "output_type": "execute_result"
    }
   ],
   "source": [
    "sorted(a) #인덱스 0번이 최솟값, -1번이 최대값"
   ]
  },
  {
   "cell_type": "code",
   "execution_count": 4,
   "id": "d095ddbe",
   "metadata": {},
   "outputs": [
    {
     "data": {
      "text/plain": [
       "[78, 62, 55, 53, 42, 38, 33, 21, 19, 5]"
      ]
     },
     "execution_count": 4,
     "metadata": {},
     "output_type": "execute_result"
    }
   ],
   "source": [
    "sorted(a, reverse =True)"
   ]
  },
  {
   "cell_type": "code",
   "execution_count": 5,
   "id": "d2b94361",
   "metadata": {},
   "outputs": [
    {
     "data": {
      "text/plain": [
       "78"
      ]
     },
     "execution_count": 5,
     "metadata": {},
     "output_type": "execute_result"
    }
   ],
   "source": [
    "sorted(a)[-1] #인덱스 0번이 최솟값, -1번이 최대값"
   ]
  },
  {
   "cell_type": "code",
   "execution_count": 8,
   "id": "ae55c0ce",
   "metadata": {},
   "outputs": [
    {
     "name": "stdout",
     "output_type": "stream",
     "text": [
      "78\n"
     ]
    }
   ],
   "source": [
    "# 리스트 내에서 가장 큰 값을 찾는 코드\n",
    "temp = a[0]\n",
    "for i in a:\n",
    "    if temp <= i:\n",
    "        temp=i\n",
    "    \n",
    "print(temp)"
   ]
  },
  {
   "cell_type": "code",
   "execution_count": 9,
   "id": "3f063543",
   "metadata": {},
   "outputs": [
    {
     "name": "stdout",
     "output_type": "stream",
     "text": [
      "5\n"
     ]
    }
   ],
   "source": [
    "# 리스트 내에서 가장 작은 값을 찾는 코드\n",
    "temp = a[0]\n",
    "for i in a:\n",
    "    if temp >= i:\n",
    "        temp=i\n",
    "    \n",
    "print(temp)"
   ]
  },
  {
   "cell_type": "code",
   "execution_count": 14,
   "id": "e4cf4d18",
   "metadata": {},
   "outputs": [
    {
     "name": "stdout",
     "output_type": "stream",
     "text": [
      "5\n",
      "78\n"
     ]
    }
   ],
   "source": [
    "print(min(a))\n",
    "print(max(a))"
   ]
  },
  {
   "cell_type": "markdown",
   "id": "b8e9a995",
   "metadata": {},
   "source": [
    "리스트 내의 모든 요소 더하기"
   ]
  },
  {
   "cell_type": "code",
   "execution_count": 12,
   "id": "232e4845",
   "metadata": {},
   "outputs": [
    {
     "data": {
      "text/plain": [
       "[38, 21, 53, 62, 19, 5, 78, 55, 42, 33]"
      ]
     },
     "execution_count": 12,
     "metadata": {},
     "output_type": "execute_result"
    }
   ],
   "source": [
    "a"
   ]
  },
  {
   "cell_type": "code",
   "execution_count": 13,
   "id": "b7d93235",
   "metadata": {},
   "outputs": [
    {
     "name": "stdout",
     "output_type": "stream",
     "text": [
      "406\n"
     ]
    }
   ],
   "source": [
    "hap =0\n",
    "for i in a:\n",
    "    hap += i\n",
    "print(hap)"
   ]
  },
  {
   "cell_type": "code",
   "execution_count": 16,
   "id": "a7abbea1",
   "metadata": {},
   "outputs": [
    {
     "data": {
      "text/plain": [
       "406"
      ]
     },
     "execution_count": 16,
     "metadata": {},
     "output_type": "execute_result"
    }
   ],
   "source": [
    "sum(a)"
   ]
  },
  {
   "cell_type": "markdown",
   "id": "72c7458f",
   "metadata": {},
   "source": [
    "## 리스트 표현식(list comprehension)사용하기\n",
    "* 리스트 안에 for반복문과 if else 조건문을 한번에 적는 방법\n",
    "* 여러 줄의 코드를 1줄로 줄일 수 있고\n",
    "* for, if else 문을 쓸 때 보다 처리 속도가 빠르다\n",
    "* [실행할 명령 for 변수 in list, tuple]\n"
   ]
  },
  {
   "cell_type": "code",
   "execution_count": 17,
   "id": "3bfe0bbe",
   "metadata": {},
   "outputs": [
    {
     "data": {
      "text/plain": [
       "[1, 2, 3, 4, 5, 6, 7, 8, 9, 10]"
      ]
     },
     "execution_count": 17,
     "metadata": {},
     "output_type": "execute_result"
    }
   ],
   "source": [
    "list(range(1,11))"
   ]
  },
  {
   "cell_type": "code",
   "execution_count": 18,
   "id": "7ee78935",
   "metadata": {},
   "outputs": [
    {
     "data": {
      "text/plain": [
       "[1, 2, 3, 4, 5, 6, 7, 8, 9, 10]"
      ]
     },
     "execution_count": 18,
     "metadata": {},
     "output_type": "execute_result"
    }
   ],
   "source": [
    "a= []\n",
    "for i in range (1,11):\n",
    "    a.append(i)\n",
    "    \n",
    "a"
   ]
  },
  {
   "cell_type": "code",
   "execution_count": 19,
   "id": "0dd6e402",
   "metadata": {},
   "outputs": [
    {
     "data": {
      "text/plain": [
       "[1, 2, 3, 4, 5, 6, 7, 8, 9, 10]"
      ]
     },
     "execution_count": 19,
     "metadata": {},
     "output_type": "execute_result"
    }
   ],
   "source": [
    "[i for i in range(1,11)]"
   ]
  },
  {
   "cell_type": "code",
   "execution_count": 23,
   "id": "c4aaf35c",
   "metadata": {},
   "outputs": [
    {
     "name": "stdout",
     "output_type": "stream",
     "text": [
      "[6, 7, 8, 9, 10, 11, 12, 13, 14, 15]\n",
      "코드 실행 시간:  3.102698802947998\n"
     ]
    }
   ],
   "source": [
    "import time\n",
    "start = time.time()\n",
    "\n",
    "a=[]\n",
    "for i in range(1, 20000000):\n",
    "    a.append(i +5)\n",
    "print(a[:10])\n",
    "print('코드 실행 시간: ', time.time()-start)"
   ]
  },
  {
   "cell_type": "code",
   "execution_count": 24,
   "id": "5836728d",
   "metadata": {},
   "outputs": [
    {
     "name": "stdout",
     "output_type": "stream",
     "text": [
      "[6, 7, 8, 9, 10, 11, 12, 13, 14, 15]\n",
      "코드 실행 시간:  1.4093167781829834\n"
     ]
    }
   ],
   "source": [
    "start = time.time()\n",
    "\n",
    "b=[i+5 for i in range(1, 20000000)]\n",
    "\n",
    "print(b[:10])\n",
    "print('코드 실행 시간: ', time.time()-start)"
   ]
  },
  {
   "cell_type": "code",
   "execution_count": null,
   "id": "d6e59516",
   "metadata": {},
   "outputs": [],
   "source": [
    "#딥러닝할|때 어레이로 다뤄진\n",
    "#순수 파이썬으로 돌리면 오래 걸리지만\n",
    "#c언어로 짠애로 돌리면 1초도 안걸린다\n",
    "#파이썬이 얼마나 느린지 알 수 있음\n",
    "# 넘파이는 c언어로 짜여진 코드"
   ]
  },
  {
   "cell_type": "code",
   "execution_count": 27,
   "id": "d97e4222",
   "metadata": {},
   "outputs": [
    {
     "name": "stdout",
     "output_type": "stream",
     "text": [
      "[ 6  7  8  9 10 11 12 13 14 15]\n",
      "코드 실행 시간:  0.06801509857177734\n"
     ]
    }
   ],
   "source": [
    "import numpy as np\n",
    "\n",
    "start = time.time()\n",
    "\n",
    "c = np.arange(1, 200000000)\n",
    "c = c + 5\n",
    "print(c[:10])\n",
    "\n",
    "print('코드 실행 시간: ', time.time() - start)"
   ]
  },
  {
   "cell_type": "markdown",
   "id": "887ed4fe",
   "metadata": {},
   "source": [
    "# 파일 읽기, 쓰기 open(), with open()"
   ]
  },
  {
   "cell_type": "markdown",
   "id": "00bb67e4",
   "metadata": {},
   "source": [
    "## 1) 파일에 문자열을 쓸 때는 open 함수로 파일을 열어서 파일 객체(file object)를 얻은 뒤에 write 메서드를 사용해 저장"
   ]
  },
  {
   "cell_type": "markdown",
   "id": "f6287e53",
   "metadata": {},
   "source": [
    "* (1)파일 저장하기\n",
    "변수명= open(파일 이름, 파일모드(w:쓰기, r:읽기)<br>\n",
    "변수명, write('저장할 문자열') <br>\n",
    "변수명.close() * close()를 안하면 계속 열려 있음./시스템 과부화 우려/"
   ]
  },
  {
   "cell_type": "markdown",
   "id": "43c3a9b1",
   "metadata": {},
   "source": [
    "* file = open('test.txt', 'w') # test.txt로 파일 만들기 copy con test.txt\n",
    "* file.write('파일 만들기 연습') #test.txt에 .write('내용')으로 내용 쓰기\n",
    "* file.close() #test.txt 파일 저장하고 닫기"
   ]
  },
  {
   "cell_type": "code",
   "execution_count": 1,
   "id": "e4dcc811",
   "metadata": {},
   "outputs": [],
   "source": [
    "file = open('test.txt', 'w') # test.txt로 파일 만들기 copy con test.txt\n",
    "file.write('파일 만들기 연습') #test.txt에 .write('내용')으로 내용 쓰기\n",
    "file.close() #test.txt 파일 저장하고 닫기  =:cntrl+c (저장)-닫아주기를 해야함"
   ]
  },
  {
   "cell_type": "markdown",
   "id": "6c673348",
   "metadata": {},
   "source": [
    "* (2)파일 읽기\n",
    "변수명 = open(파일이름, 파일모드('r'읽기) <br>\n",
    "변수명2=변수명.read()<br>\n",
    "변수명.close()"
   ]
  },
  {
   "cell_type": "code",
   "execution_count": 2,
   "id": "dfc83d07",
   "metadata": {},
   "outputs": [
    {
     "name": "stdout",
     "output_type": "stream",
     "text": [
      "파일 만들기 연습\n"
     ]
    }
   ],
   "source": [
    "file2= open('test.txt','r')\n",
    "my_file=file2.read()\n",
    "file2.close()\n",
    "print(my_file)"
   ]
  },
  {
   "cell_type": "markdown",
   "id": "f8f0180e",
   "metadata": {},
   "source": [
    "## with 문으로 파일 자동으로 닫기\n",
    "* 파일을 만들려면 파일 만들기 => 내용 적기 => 파일 닫기(저장)\n",
    "* 이때 close()를 안하면 오류 발생\n",
    "* 이런 실수를 줄이기 위해서는 파일을 자동으로 닫아주는 with문을 사용하면 편리"
   ]
  },
  {
   "cell_type": "code",
   "execution_count": 3,
   "id": "a462adde",
   "metadata": {},
   "outputs": [],
   "source": [
    "with open('test_with.txt','w') as file3:\n",
    "    file3.write('with open을 사용하면 파일을 자동으로 닫아주어 편리하다.')"
   ]
  },
  {
   "cell_type": "code",
   "execution_count": 4,
   "id": "bcfd0b0d",
   "metadata": {},
   "outputs": [
    {
     "name": "stdout",
     "output_type": "stream",
     "text": [
      "with open을 사용하면 파일을 자동으로 닫아주어 편리하다.\n"
     ]
    }
   ],
   "source": [
    "with open( 'test_with.txt','r') as file4:\n",
    "    text = file4.read()\n",
    "print(text)"
   ]
  },
  {
   "cell_type": "markdown",
   "id": "c83c6a52",
   "metadata": {},
   "source": [
    "## 윈도우에서 인코딩문제로 파일 안열리는 경우가 있다- encoding에 따른 읽기 오류\n",
    "* 운영체제나 (windows, linux, macOS), 한글/영어 윈도우에 따라서 인코딩 되는 포멧이 달라짐 <br>\n",
    "* 인코딩에 따른 오류가 발생할 수 있음.\n",
    "* web 표준은 utf-8이므로 인코딩은 utf-8로 하는 것이 좋다.\n",
    "* windows의 경우 인코딩은 보통 cp949로 되므로 주의"
   ]
  },
  {
   "cell_type": "code",
   "execution_count": 5,
   "id": "0fdb78a0",
   "metadata": {},
   "outputs": [],
   "source": [
    "with open('test_with2.txt','w', encoding='utf-8' ) as file5:\n",
    "    file5.write(\"이것은 with open으로 만든 텍스트 파일이고 utf-8로 인코딩 함\")"
   ]
  },
  {
   "cell_type": "code",
   "execution_count": 6,
   "id": "a5988491",
   "metadata": {},
   "outputs": [
    {
     "ename": "UnicodeDecodeError",
     "evalue": "'cp949' codec can't decode byte 0xec in position 0: illegal multibyte sequence",
     "output_type": "error",
     "traceback": [
      "\u001b[1;31m---------------------------------------------------------------------------\u001b[0m",
      "\u001b[1;31mUnicodeDecodeError\u001b[0m                        Traceback (most recent call last)",
      "Cell \u001b[1;32mIn[6], line 2\u001b[0m\n\u001b[0;32m      1\u001b[0m \u001b[38;5;28;01mwith\u001b[39;00m \u001b[38;5;28mopen\u001b[39m(\u001b[38;5;124m'\u001b[39m\u001b[38;5;124mtest_with2.txt\u001b[39m\u001b[38;5;124m'\u001b[39m,\u001b[38;5;124m'\u001b[39m\u001b[38;5;124mr\u001b[39m\u001b[38;5;124m'\u001b[39m) \u001b[38;5;28;01mas\u001b[39;00m file6:\n\u001b[1;32m----> 2\u001b[0m     file6_text\u001b[38;5;241m=\u001b[39m \u001b[43mfile6\u001b[49m\u001b[38;5;241;43m.\u001b[39;49m\u001b[43mread\u001b[49m\u001b[43m(\u001b[49m\u001b[43m)\u001b[49m\n\u001b[0;32m      3\u001b[0m \u001b[38;5;28mprint\u001b[39m(file6_text)\n",
      "\u001b[1;31mUnicodeDecodeError\u001b[0m: 'cp949' codec can't decode byte 0xec in position 0: illegal multibyte sequence"
     ]
    }
   ],
   "source": [
    "with open('test_with2.txt','r') as file6:\n",
    "    file6_text= file6.read()\n",
    "print(file6_text)"
   ]
  },
  {
   "cell_type": "code",
   "execution_count": null,
   "id": "9dac7fe8",
   "metadata": {},
   "outputs": [],
   "source": [
    "#우리가 윈도우에서 주피터를 사용하고 있기에 기본적으로 (리눅스, 맥은 기본적으로 유티에프8사용한다) 저장을 cp949(ANSI)로 하기에\n",
    "#파일 코덱이 맞지 않기때문에 발생한 오류\n",
    "#읽으려면 따로 인코딩 옵션을 주어야 한다\n",
    "# 당황하지말고 메모장으로 열어서 저장 파일 확인해보자\n",
    "#euckr, utf-8"
   ]
  },
  {
   "cell_type": "code",
   "execution_count": 7,
   "id": "2baf2e64",
   "metadata": {},
   "outputs": [
    {
     "name": "stdout",
     "output_type": "stream",
     "text": [
      "이것은 with open으로 만든 텍스트 파일이고 utf-8로 인코딩 함\n"
     ]
    }
   ],
   "source": [
    "with open('test_with2.txt','r',encoding='utf-8') as file6:\n",
    "    file6_text= file6.read()\n",
    "print(file6_text)"
   ]
  },
  {
   "cell_type": "code",
   "execution_count": null,
   "id": "881e0ad6",
   "metadata": {},
   "outputs": [],
   "source": []
  },
  {
   "cell_type": "code",
   "execution_count": null,
   "id": "b05f06c2",
   "metadata": {},
   "outputs": [],
   "source": []
  },
  {
   "cell_type": "code",
   "execution_count": null,
   "id": "0f84202b",
   "metadata": {},
   "outputs": [],
   "source": []
  },
  {
   "cell_type": "code",
   "execution_count": null,
   "id": "9666caf9",
   "metadata": {},
   "outputs": [],
   "source": []
  },
  {
   "cell_type": "code",
   "execution_count": null,
   "id": "965ee502",
   "metadata": {},
   "outputs": [],
   "source": []
  },
  {
   "cell_type": "code",
   "execution_count": null,
   "id": "8f3ad204",
   "metadata": {},
   "outputs": [],
   "source": []
  },
  {
   "cell_type": "code",
   "execution_count": null,
   "id": "61dc1b98",
   "metadata": {},
   "outputs": [],
   "source": []
  }
 ],
 "metadata": {
  "kernelspec": {
   "display_name": "Python 3 (ipykernel)",
   "language": "python",
   "name": "python3"
  },
  "language_info": {
   "codemirror_mode": {
    "name": "ipython",
    "version": 3
   },
   "file_extension": ".py",
   "mimetype": "text/x-python",
   "name": "python",
   "nbconvert_exporter": "python",
   "pygments_lexer": "ipython3",
   "version": "3.10.14"
  }
 },
 "nbformat": 4,
 "nbformat_minor": 5
}
