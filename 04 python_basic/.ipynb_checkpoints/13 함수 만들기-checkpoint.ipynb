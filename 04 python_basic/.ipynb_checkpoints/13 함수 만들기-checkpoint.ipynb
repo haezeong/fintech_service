{
 "cells": [
  {
   "cell_type": "markdown",
   "id": "7b1a02ec",
   "metadata": {},
   "source": [
    "# 함수 만들기"
   ]
  },
  {
   "cell_type": "markdown",
   "id": "53d46e4d",
   "metadata": {},
   "source": [
    "### print(), split(), input() => 함수\n",
    "* 함수의 괄호 안에 값을 넣으면 출력을 해주거나 입력을 받거나 변환을 해 줌\n",
    "* 도구\n",
    "* function() -> 기능\n",
    "* 자주 사용하는 기능을 미리 만들어서 **반복 재사용**할 수 있게 만드는 것"
   ]
  },
  {
   "cell_type": "code",
   "execution_count": 1,
   "id": "a862c504",
   "metadata": {},
   "outputs": [
    {
     "name": "stdout",
     "output_type": "stream",
     "text": [
      "1\n",
      "2\n",
      "3\n",
      "4\n",
      "5\n"
     ]
    }
   ],
   "source": [
    "L =[1,2,3,4,5]\n",
    "for i in L:\n",
    "    print(i)"
   ]
  },
  {
   "cell_type": "code",
   "execution_count": 3,
   "id": "239ca88d",
   "metadata": {},
   "outputs": [
    {
     "data": {
      "text/plain": [
       "[10, 20, 30, 40, 50]"
      ]
     },
     "execution_count": 3,
     "metadata": {},
     "output_type": "execute_result"
    }
   ],
   "source": [
    "L =[1,2,3,4,5]\n",
    "result = []\n",
    "for i in L:\n",
    "    result.append(i*10)\n",
    "result"
   ]
  },
  {
   "cell_type": "markdown",
   "id": "c5b17cdf",
   "metadata": {},
   "source": [
    "## 1) 함수 만드는 법\n",
    "def 함수이름(): <br>\n",
    "____실행코드 <br>\n",
    "____return 리턴 값"
   ]
  },
  {
   "cell_type": "code",
   "execution_count": 4,
   "id": "3a2f94ff",
   "metadata": {},
   "outputs": [],
   "source": [
    "def hello():\n",
    "    print(\"hello 파이썬 함수 만들기\")"
   ]
  },
  {
   "cell_type": "code",
   "execution_count": 5,
   "id": "dd11c70c",
   "metadata": {},
   "outputs": [
    {
     "name": "stdout",
     "output_type": "stream",
     "text": [
      "hello 파이썬 함수 만들기\n"
     ]
    }
   ],
   "source": [
    "hello()"
   ]
  },
  {
   "cell_type": "code",
   "execution_count": 6,
   "id": "9aea1b90",
   "metadata": {},
   "outputs": [],
   "source": [
    "#우리가 만들었지만 아무것도 하지 않는다. 불러야 실행한다. 부르기만하면 계속 실행"
   ]
  },
  {
   "cell_type": "markdown",
   "id": "4a0d305e",
   "metadata": {},
   "source": [
    "## 2) 함수 호출순서\n",
    "* 함수는 호출하기 전에 반드시 먼저 정의되어야 하고(만들어 놓아야 함)\n",
    "* 함수 정의가 함수 실행보다 위에 있어야 한다."
   ]
  },
  {
   "cell_type": "code",
   "execution_count": null,
   "id": "d81baae9",
   "metadata": {},
   "outputs": [],
   "source": [
    "def circle(c):\n",
    "    print(\"원의 넓이는: \", c*c*3.14, \"입니다.\")"
   ]
  },
  {
   "cell_type": "markdown",
   "id": "96b22725",
   "metadata": {},
   "source": [
    "매개변수 2개짜리 함수 - 덧셈 함수 만들기"
   ]
  },
  {
   "cell_type": "code",
   "execution_count": 8,
   "id": "050653c2",
   "metadata": {},
   "outputs": [],
   "source": [
    "def add(a,b):\n",
    "    return a+b"
   ]
  },
  {
   "cell_type": "code",
   "execution_count": 9,
   "id": "7853d47c",
   "metadata": {},
   "outputs": [
    {
     "name": "stdout",
     "output_type": "stream",
     "text": [
      "result:  13\n"
     ]
    }
   ],
   "source": [
    "result = add(10,3)\n",
    "print(\"result: \", result)"
   ]
  },
  {
   "cell_type": "code",
   "execution_count": 10,
   "id": "63e57b98",
   "metadata": {},
   "outputs": [
    {
     "data": {
      "text/plain": [
       "123457788"
      ]
     },
     "execution_count": 10,
     "metadata": {},
     "output_type": "execute_result"
    }
   ],
   "source": [
    "add (999, 123456789)"
   ]
  },
  {
   "cell_type": "markdown",
   "id": "ec5ec098",
   "metadata": {},
   "source": [
    "매개 변수 3개짜리 함수 - a: 시작, b: 끝, c: 증감 <br>\n",
    "interval이라는 이름의 함수를 만드세요 <br>\n",
    "숫자를 입력받아 시작, 끝, 증감이 반영되게 출력하세요. <br>\n",
    "interval(1,10,2) <br>\n",
    "1,3,5,7,9"
   ]
  },
  {
   "cell_type": "code",
   "execution_count": 11,
   "id": "e82162f0",
   "metadata": {},
   "outputs": [],
   "source": [
    "def num_maker(a,b,c):\n",
    "    print([i for i in range(a,b,c)])"
   ]
  },
  {
   "cell_type": "code",
   "execution_count": 12,
   "id": "bcac1a37",
   "metadata": {},
   "outputs": [
    {
     "name": "stdout",
     "output_type": "stream",
     "text": [
      "[1, 3, 5, 7, 9]\n"
     ]
    }
   ],
   "source": [
    "num_maker(1,10,2)"
   ]
  },
  {
   "cell_type": "code",
   "execution_count": 15,
   "id": "12f28e76",
   "metadata": {},
   "outputs": [
    {
     "name": "stdout",
     "output_type": "stream",
     "text": [
      "[1, 3, 5, 7, 9]\n",
      "None\n"
     ]
    }
   ],
   "source": [
    "result = num_maker(1,10,2)\n",
    "print(result)\n",
    "#리턴이 없으면 result에 입력 받지 못해"
   ]
  },
  {
   "cell_type": "code",
   "execution_count": 16,
   "id": "e5c23908",
   "metadata": {},
   "outputs": [],
   "source": [
    "def num_maker(a,b,c):\n",
    "    result=[i for i in range(a,b,c)]\n",
    "    return result"
   ]
  },
  {
   "cell_type": "code",
   "execution_count": 17,
   "id": "17323754",
   "metadata": {},
   "outputs": [
    {
     "name": "stdout",
     "output_type": "stream",
     "text": [
      "[1, 3, 5, 7, 9]\n"
     ]
    }
   ],
   "source": [
    "result = num_maker(1,10,2)\n",
    "print(result)"
   ]
  },
  {
   "cell_type": "markdown",
   "id": "4787ce64",
   "metadata": {},
   "source": [
    "리턴값이 여러개인 함수"
   ]
  },
  {
   "cell_type": "code",
   "execution_count": 20,
   "id": "1acc3359",
   "metadata": {},
   "outputs": [],
   "source": [
    "def add_sub(a,b) :\n",
    "    add = a+b\n",
    "    sub = a-b\n",
    "    return add, sub"
   ]
  },
  {
   "cell_type": "code",
   "execution_count": 22,
   "id": "2476f0d4",
   "metadata": {},
   "outputs": [
    {
     "name": "stdout",
     "output_type": "stream",
     "text": [
      "<class 'tuple'>\n"
     ]
    }
   ],
   "source": [
    "result = add_sub(7,3)\n",
    "print(type(result))"
   ]
  },
  {
   "cell_type": "code",
   "execution_count": 23,
   "id": "c7300b64",
   "metadata": {},
   "outputs": [],
   "source": [
    "#여러개를 리턴할 경우에는 튜플로 나온다"
   ]
  },
  {
   "cell_type": "code",
   "execution_count": 24,
   "id": "cfd9a8d5",
   "metadata": {},
   "outputs": [],
   "source": [
    "a=1\n",
    "b=3"
   ]
  },
  {
   "cell_type": "code",
   "execution_count": 25,
   "id": "5e71d76d",
   "metadata": {},
   "outputs": [],
   "source": [
    "t=a,b"
   ]
  },
  {
   "cell_type": "code",
   "execution_count": 26,
   "id": "f4661e5b",
   "metadata": {},
   "outputs": [
    {
     "data": {
      "text/plain": [
       "(1, 3)"
      ]
     },
     "execution_count": 26,
     "metadata": {},
     "output_type": "execute_result"
    }
   ],
   "source": [
    "t"
   ]
  },
  {
   "cell_type": "code",
   "execution_count": null,
   "id": "67f0ebf9",
   "metadata": {},
   "outputs": [],
   "source": []
  },
  {
   "cell_type": "code",
   "execution_count": 28,
   "id": "6164349c",
   "metadata": {},
   "outputs": [
    {
     "name": "stdout",
     "output_type": "stream",
     "text": [
      "<class 'tuple'> (0, 1)\n",
      "<class 'tuple'> (1, 2)\n",
      "<class 'tuple'> (2, 3)\n",
      "<class 'tuple'> (3, 4)\n",
      "<class 'tuple'> (4, 5)\n",
      "<class 'tuple'> (5, 6)\n",
      "<class 'tuple'> (6, 7)\n",
      "<class 'tuple'> (7, 8)\n",
      "<class 'tuple'> (8, 9)\n",
      "<class 'tuple'> (9, 10)\n"
     ]
    }
   ],
   "source": [
    "for i in enumerate(range(1,11)):\n",
    "    print(type(i),i)"
   ]
  },
  {
   "cell_type": "markdown",
   "id": "9d71c737",
   "metadata": {},
   "source": [
    "num_maker2- 정방향, 역방향 리스트 출력"
   ]
  },
  {
   "cell_type": "code",
   "execution_count": 31,
   "id": "21b914cd",
   "metadata": {},
   "outputs": [],
   "source": [
    "def num_maker2(a,b,c):\n",
    "    asc = [i for i in range(a,b,c)]\n",
    "    desc = [i for i in range(a,b,c)][::-1]\n",
    "    return asc, desc"
   ]
  },
  {
   "cell_type": "code",
   "execution_count": 32,
   "id": "4b2dcee2",
   "metadata": {},
   "outputs": [
    {
     "data": {
      "text/plain": [
       "([1, 3, 5, 7, 9], [9, 7, 5, 3, 1])"
      ]
     },
     "execution_count": 32,
     "metadata": {},
     "output_type": "execute_result"
    }
   ],
   "source": [
    "num_maker2(1,10,2)"
   ]
  },
  {
   "cell_type": "code",
   "execution_count": 33,
   "id": "cc481f45",
   "metadata": {},
   "outputs": [],
   "source": [
    "#여러개를 반환할 수 있는데, 사실 결국엔 튜플 한개이다! 튜플 한개로 반환되는 것.\n",
    "#리스트 두개가 튜플 한개로 묶여서 나온다"
   ]
  },
  {
   "cell_type": "markdown",
   "id": "a81c8890",
   "metadata": {},
   "source": [
    "## 4) 중간에 함수를 종료시키기 위한 용도의 return\n",
    "* 반복문에서 break로 반복을 중지시키는 것처럼 함수에서 return이 실행되면 함수는 종료\n"
   ]
  },
  {
   "cell_type": "markdown",
   "id": "b4357258",
   "metadata": {},
   "source": [
    "1-10까지 숫자중에 짝수만 출력하다가 7이상이 되면 종료하기"
   ]
  },
  {
   "cell_type": "code",
   "execution_count": 45,
   "id": "25437db1",
   "metadata": {},
   "outputs": [],
   "source": [
    "age= range(1,11)"
   ]
  },
  {
   "cell_type": "code",
   "execution_count": 51,
   "id": "adccbeaa",
   "metadata": {},
   "outputs": [],
   "source": [
    "def even(a):\n",
    "    for i in a:\n",
    "        if i%2 == 0:\n",
    "            print(i, end = \" \")\n",
    "        elif i >=7:\n",
    "            break\n",
    "            "
   ]
  },
  {
   "cell_type": "code",
   "execution_count": 52,
   "id": "d486afc0",
   "metadata": {},
   "outputs": [],
   "source": [
    "def even2(a):\n",
    "    for i in a:\n",
    "        if i%2 == 0:\n",
    "            print(i, end = \" \")\n",
    "        elif i >=7:\n",
    "            return\n",
    "            "
   ]
  },
  {
   "cell_type": "code",
   "execution_count": 53,
   "id": "c4cc5e62",
   "metadata": {},
   "outputs": [
    {
     "name": "stdout",
     "output_type": "stream",
     "text": [
      "2 4 6 "
     ]
    }
   ],
   "source": [
    "even(age)"
   ]
  },
  {
   "cell_type": "code",
   "execution_count": 54,
   "id": "51d622a9",
   "metadata": {},
   "outputs": [
    {
     "name": "stdout",
     "output_type": "stream",
     "text": [
      "2 4 6 "
     ]
    }
   ],
   "source": [
    "even2(age)"
   ]
  },
  {
   "cell_type": "markdown",
   "id": "0e9504be",
   "metadata": {},
   "source": [
    "1-100까지 숫자 중에 홀수만 출력하다가 51번째에 종료하는 odd 함수를 만드세요."
   ]
  },
  {
   "cell_type": "code",
   "execution_count": 63,
   "id": "f9007bb8",
   "metadata": {},
   "outputs": [],
   "source": [
    "def odd(a):\n",
    "    print(\"a: \",a)\n",
    "    for i in a:\n",
    "        if i %2==1:\n",
    "            print(i, end = \" \")\n",
    "        elif i>=51:\n",
    "            return\n",
    "            "
   ]
  },
  {
   "cell_type": "code",
   "execution_count": 64,
   "id": "fb2b9a90",
   "metadata": {},
   "outputs": [
    {
     "name": "stdout",
     "output_type": "stream",
     "text": [
      "a:  range(1, 101)\n",
      "1 3 5 7 9 11 13 15 17 19 21 23 25 27 29 31 33 35 37 39 41 43 45 47 49 51 "
     ]
    }
   ],
   "source": [
    "a=range(1,101)\n",
    "odd(a)"
   ]
  },
  {
   "cell_type": "code",
   "execution_count": 65,
   "id": "bfef030a",
   "metadata": {},
   "outputs": [
    {
     "name": "stdout",
     "output_type": "stream",
     "text": [
      "a:  [1, 2, 3, 4, 5, 6, 7, 8, 9, 10, 11, 12, 13, 14, 15, 16, 17, 18, 19, 20, 21, 22, 23, 24, 25, 26, 27, 28, 29, 30, 31, 32, 33, 34, 35, 36, 37, 38, 39, 40, 41, 42, 43, 44, 45, 46, 47, 48, 49, 50, 51, 52, 53, 54, 55, 56, 57, 58, 59, 60, 61, 62, 63, 64, 65, 66, 67, 68, 69, 70, 71, 72, 73, 74, 75, 76, 77, 78, 79, 80, 81, 82, 83, 84, 85, 86, 87, 88, 89, 90, 91, 92, 93, 94, 95, 96, 97, 98, 99, 100]\n",
      "1 3 5 7 9 11 13 15 17 19 21 23 25 27 29 31 33 35 37 39 41 43 45 47 49 51 "
     ]
    }
   ],
   "source": [
    "h=list(range(1,101))\n",
    "odd(h)"
   ]
  },
  {
   "cell_type": "markdown",
   "id": "907c88b1",
   "metadata": {},
   "source": [
    "## 5) 함수에서 위치 인수와 키워드 인수 사용하기\n",
    "* 위치인수(positional argument)\n",
    "* 함수에 인수를 순서대로 넣는 방식\n",
    "* 인수의 위치가 정해져 있음\n"
   ]
  },
  {
   "cell_type": "code",
   "execution_count": 67,
   "id": "58fce7e3",
   "metadata": {},
   "outputs": [],
   "source": [
    "def print_nums(a,b,c):\n",
    "    print(a,b,c)"
   ]
  },
  {
   "cell_type": "code",
   "execution_count": 68,
   "id": "4a99fc6c",
   "metadata": {},
   "outputs": [
    {
     "name": "stdout",
     "output_type": "stream",
     "text": [
      "10 20 30\n"
     ]
    }
   ],
   "source": [
    "print_nums(10,20,30)"
   ]
  },
  {
   "cell_type": "markdown",
   "id": "57b96192",
   "metadata": {},
   "source": [
    "리스트, 튜플과 같은 자료형을 1개의 위치인수(매개변수)로 받을 때 위치 인수와 개수가 같으면 <br>\n",
    "'*' 로 언패킹 가능"
   ]
  },
  {
   "cell_type": "code",
   "execution_count": 71,
   "id": "c3bd5bed",
   "metadata": {},
   "outputs": [],
   "source": [
    "p= [10,20,30]"
   ]
  },
  {
   "cell_type": "code",
   "execution_count": 72,
   "id": "548ae430",
   "metadata": {},
   "outputs": [
    {
     "ename": "TypeError",
     "evalue": "print_nums() missing 2 required positional arguments: 'b' and 'c'",
     "output_type": "error",
     "traceback": [
      "\u001b[1;31m---------------------------------------------------------------------------\u001b[0m",
      "\u001b[1;31mTypeError\u001b[0m                                 Traceback (most recent call last)",
      "Cell \u001b[1;32mIn[72], line 1\u001b[0m\n\u001b[1;32m----> 1\u001b[0m \u001b[43mprint_nums\u001b[49m\u001b[43m(\u001b[49m\u001b[43mp\u001b[49m\u001b[43m)\u001b[49m\n",
      "\u001b[1;31mTypeError\u001b[0m: print_nums() missing 2 required positional arguments: 'b' and 'c'"
     ]
    }
   ],
   "source": [
    "print_nums(p)"
   ]
  },
  {
   "cell_type": "code",
   "execution_count": 73,
   "id": "026ccc3d",
   "metadata": {},
   "outputs": [],
   "source": [
    "#그대로 넣으면 에러가 나니까 요소 하나하나 풀어서 넣어줘야 함"
   ]
  },
  {
   "cell_type": "code",
   "execution_count": 74,
   "id": "d208e3d3",
   "metadata": {},
   "outputs": [
    {
     "name": "stdout",
     "output_type": "stream",
     "text": [
      "10 20 30\n"
     ]
    }
   ],
   "source": [
    "print_nums(p[0],p[1],p[2])"
   ]
  },
  {
   "cell_type": "code",
   "execution_count": 75,
   "id": "1e75368c",
   "metadata": {},
   "outputs": [
    {
     "name": "stdout",
     "output_type": "stream",
     "text": [
      "10 20 30\n"
     ]
    }
   ],
   "source": [
    "print_nums(*p) # 리스트 요소개수와 인수 개수가 맞으면 *사용해서 풀어 넣어줄 수 있다."
   ]
  },
  {
   "cell_type": "code",
   "execution_count": 77,
   "id": "8f7c04a7",
   "metadata": {},
   "outputs": [
    {
     "name": "stdout",
     "output_type": "stream",
     "text": [
      "10 20 30\n"
     ]
    }
   ],
   "source": [
    "print(*p)   #리스트가 아니라 각각의 요소가 풀어져서 나온다"
   ]
  },
  {
   "cell_type": "markdown",
   "id": "deddb72c",
   "metadata": {},
   "source": [
    "가변인수\n",
    "* 여러 개의 자료를 한 번에 입력 받음\n",
    "* *args => *변수명"
   ]
  },
  {
   "cell_type": "code",
   "execution_count": 78,
   "id": "3377e0f2",
   "metadata": {},
   "outputs": [
    {
     "name": "stdout",
     "output_type": "stream",
     "text": [
      "a b c d\n"
     ]
    }
   ],
   "source": [
    "print(\"a\", \"b\",\"c\",\"d\")"
   ]
  },
  {
   "cell_type": "markdown",
   "id": "3f098481",
   "metadata": {},
   "source": [
    "여러 개의 숫자를 입력받아 더하는 함수 (입력 개수가 정해져 있지 X)"
   ]
  },
  {
   "cell_type": "code",
   "execution_count": 96,
   "id": "12b8e7b7",
   "metadata": {},
   "outputs": [],
   "source": [
    "def sum2(*args): \n",
    "    print(args)\n",
    "    print(type(args))\n",
    "    hap =0\n",
    "    for i in args:\n",
    "        hap += i\n",
    "    return hap"
   ]
  },
  {
   "cell_type": "code",
   "execution_count": 97,
   "id": "51ffced7",
   "metadata": {},
   "outputs": [],
   "source": [
    "def sum3(*nums): \n",
    "    hap =0\n",
    "    for i in nums:\n",
    "        hap += i\n",
    "    return hap"
   ]
  },
  {
   "cell_type": "code",
   "execution_count": 98,
   "id": "5a98e186",
   "metadata": {},
   "outputs": [
    {
     "name": "stdout",
     "output_type": "stream",
     "text": [
      "(1, 9, 8, 7)\n",
      "<class 'tuple'>\n"
     ]
    },
    {
     "data": {
      "text/plain": [
       "25"
      ]
     },
     "execution_count": 98,
     "metadata": {},
     "output_type": "execute_result"
    }
   ],
   "source": [
    "sum2(1,9,8,7)"
   ]
  },
  {
   "cell_type": "code",
   "execution_count": 99,
   "id": "cb614eb1",
   "metadata": {},
   "outputs": [
    {
     "name": "stdout",
     "output_type": "stream",
     "text": [
      "(1, 9)\n",
      "<class 'tuple'>\n"
     ]
    },
    {
     "data": {
      "text/plain": [
       "10"
      ]
     },
     "execution_count": 99,
     "metadata": {},
     "output_type": "execute_result"
    }
   ],
   "source": [
    "sum2(1,9)"
   ]
  },
  {
   "cell_type": "code",
   "execution_count": 100,
   "id": "1c6789b3",
   "metadata": {},
   "outputs": [
    {
     "name": "stdout",
     "output_type": "stream",
     "text": [
      "(1, 8, 8, 8, 8, 8, 8, 89)\n",
      "<class 'tuple'>\n"
     ]
    },
    {
     "data": {
      "text/plain": [
       "138"
      ]
     },
     "execution_count": 100,
     "metadata": {},
     "output_type": "execute_result"
    }
   ],
   "source": [
    "sum2(1,8,8,8,8,8,8,89)"
   ]
  },
  {
   "cell_type": "code",
   "execution_count": 94,
   "id": "c32ab047",
   "metadata": {},
   "outputs": [],
   "source": [
    "# 어떻게 가능할까?"
   ]
  },
  {
   "cell_type": "code",
   "execution_count": 101,
   "id": "b9aa29de",
   "metadata": {},
   "outputs": [],
   "source": [
    "def sum3(*nums):\n",
    "    print(nums)\n",
    "    return sum(nums)  #튜플도 썸함수 가능"
   ]
  },
  {
   "cell_type": "code",
   "execution_count": 104,
   "id": "5fa03fa6",
   "metadata": {},
   "outputs": [
    {
     "data": {
      "text/plain": [
       "75"
      ]
     },
     "execution_count": 104,
     "metadata": {},
     "output_type": "execute_result"
    }
   ],
   "source": [
    "sum3(1,1,4,6,7,8,9,2,5,6,2,2,6,4,2,6,2,2)"
   ]
  },
  {
   "cell_type": "code",
   "execution_count": 105,
   "id": "2c99572c",
   "metadata": {},
   "outputs": [],
   "source": [
    "L1=[1,1,4,5,6,7,5,8,99,4]  #형변환이 된게 아니라 겉에 하나 더 싼 것\n",
    "#안쪽에 숫자가 아니라 리스트가 나와버리니까 오류가 난 것\n",
    "#튜플에 들어갈땐 문제 없지만 계산에서 오류\n",
    "#가변함수에서 여러개 데이터 같이 받으려면 숫자 그대로 넣어주거나\n",
    "#리스트일경우에는 풀어서 넣어줘라\n",
    "#리스트푸는 방법? = 리스트 앞에 별을 붙여서 풀어라ㅠ"
   ]
  },
  {
   "cell_type": "code",
   "execution_count": 108,
   "id": "af597023",
   "metadata": {},
   "outputs": [
    {
     "name": "stdout",
     "output_type": "stream",
     "text": [
      "1 1 4 5 6 7 5 8 99 4\n"
     ]
    }
   ],
   "source": [
    "print(*L1)"
   ]
  },
  {
   "cell_type": "code",
   "execution_count": 106,
   "id": "d42f8312",
   "metadata": {},
   "outputs": [
    {
     "ename": "TypeError",
     "evalue": "unsupported operand type(s) for +: 'int' and 'list'",
     "output_type": "error",
     "traceback": [
      "\u001b[1;31m---------------------------------------------------------------------------\u001b[0m",
      "\u001b[1;31mTypeError\u001b[0m                                 Traceback (most recent call last)",
      "Cell \u001b[1;32mIn[106], line 1\u001b[0m\n\u001b[1;32m----> 1\u001b[0m \u001b[43msum3\u001b[49m\u001b[43m(\u001b[49m\u001b[43mL1\u001b[49m\u001b[43m)\u001b[49m\n",
      "Cell \u001b[1;32mIn[101], line 2\u001b[0m, in \u001b[0;36msum3\u001b[1;34m(*nums)\u001b[0m\n\u001b[0;32m      1\u001b[0m \u001b[38;5;28;01mdef\u001b[39;00m \u001b[38;5;21msum3\u001b[39m(\u001b[38;5;241m*\u001b[39mnums):\n\u001b[1;32m----> 2\u001b[0m     \u001b[38;5;28;01mreturn\u001b[39;00m \u001b[38;5;28;43msum\u001b[39;49m\u001b[43m(\u001b[49m\u001b[43mnums\u001b[49m\u001b[43m)\u001b[49m\n",
      "\u001b[1;31mTypeError\u001b[0m: unsupported operand type(s) for +: 'int' and 'list'"
     ]
    }
   ],
   "source": [
    "sum3(L1)"
   ]
  },
  {
   "cell_type": "code",
   "execution_count": 107,
   "id": "42227ac6",
   "metadata": {},
   "outputs": [
    {
     "data": {
      "text/plain": [
       "140"
      ]
     },
     "execution_count": 107,
     "metadata": {},
     "output_type": "execute_result"
    }
   ],
   "source": [
    "sum3(*L1)"
   ]
  },
  {
   "cell_type": "code",
   "execution_count": null,
   "id": "72699402",
   "metadata": {},
   "outputs": [],
   "source": [
    "#리스트는 더할 수 없어서 에러 발생"
   ]
  },
  {
   "cell_type": "code",
   "execution_count": 109,
   "id": "46fcef0b",
   "metadata": {},
   "outputs": [],
   "source": [
    "def list_tuple_func(*args):\n",
    "    print(args)\n",
    "    print(type(args))"
   ]
  },
  {
   "cell_type": "code",
   "execution_count": 110,
   "id": "f44a83a2",
   "metadata": {},
   "outputs": [
    {
     "name": "stdout",
     "output_type": "stream",
     "text": [
      "(1, 2, 3, 4, 5)\n",
      "<class 'tuple'>\n"
     ]
    }
   ],
   "source": [
    "list_tuple_func(1,2,3,4,5)"
   ]
  },
  {
   "cell_type": "code",
   "execution_count": 111,
   "id": "434f7f05",
   "metadata": {},
   "outputs": [
    {
     "name": "stdout",
     "output_type": "stream",
     "text": [
      "(1.1, 2.2, 3.3, 4.4, 5.5)\n",
      "<class 'tuple'>\n"
     ]
    }
   ],
   "source": [
    "list_tuple_func(1.1,2.2,3.3,4.4,5.5)"
   ]
  },
  {
   "cell_type": "code",
   "execution_count": 113,
   "id": "aa336eff",
   "metadata": {},
   "outputs": [
    {
     "name": "stdout",
     "output_type": "stream",
     "text": [
      "([1, 2, 3], [4, 5, 6], [7, 8, 9])\n",
      "<class 'tuple'>\n"
     ]
    }
   ],
   "source": [
    "list_tuple_func([1,2,3],[4,5,6],[7,8,9])"
   ]
  },
  {
   "cell_type": "code",
   "execution_count": 114,
   "id": "316f90ce",
   "metadata": {},
   "outputs": [
    {
     "name": "stdout",
     "output_type": "stream",
     "text": [
      "({'a': 1, 'b': 2, 'c': 3},)\n",
      "<class 'tuple'>\n"
     ]
    }
   ],
   "source": [
    "list_tuple_func(dict (a=1, b=2, c=3))"
   ]
  },
  {
   "cell_type": "code",
   "execution_count": null,
   "id": "950e9f30",
   "metadata": {},
   "outputs": [],
   "source": [
    "#args로 받을때는 인수로 어떤 타입을 받는지 확인하고 그에 맞는 조치를 해야한다"
   ]
  },
  {
   "cell_type": "markdown",
   "id": "51533181",
   "metadata": {},
   "source": [
    "## 고정인수와 가변인수 함께 사용하기"
   ]
  },
  {
   "cell_type": "markdown",
   "id": "e9524b9c",
   "metadata": {},
   "source": [
    "* 고정인수와 가변인수를 함께 사용할 때는 반드시\n",
    "* 고정인수, 가변인수 순으로 넣고 가변인수는 항상 가장 마지막에 넣는다.\n",
    "\n",
    "def sum(a, *args): 0 <br>\n",
    "der sum(*args, a): X"
   ]
  },
  {
   "cell_type": "markdown",
   "id": "cbc65416",
   "metadata": {},
   "source": [
    "정수와 리스트를 입력받아 리스트의 요소에 <br>\n",
    "입력받은 정수를 곱한 값의 리스트를 반환하는 함수 <br>\n",
    "3, [1,2,3,4,5] => [3,6,9,12,15]"
   ]
  },
  {
   "cell_type": "code",
   "execution_count": 115,
   "id": "83090779",
   "metadata": {},
   "outputs": [],
   "source": [
    "def muls(a, *args) :\n",
    "    result = []\n",
    "    for num in args:\n",
    "        print(a * num, end= \" \")\n",
    "        result.append(a *num)\n",
    "    return result\n",
    "        "
   ]
  },
  {
   "cell_type": "code",
   "execution_count": 116,
   "id": "9891a644",
   "metadata": {},
   "outputs": [
    {
     "name": "stdout",
     "output_type": "stream",
     "text": [
      "3 6 9 12 15 "
     ]
    },
    {
     "data": {
      "text/plain": [
       "[3, 6, 9, 12, 15]"
      ]
     },
     "execution_count": 116,
     "metadata": {},
     "output_type": "execute_result"
    }
   ],
   "source": [
    "muls(3, *[1,2,3,4,5])"
   ]
  },
  {
   "cell_type": "code",
   "execution_count": 117,
   "id": "a76c01eb",
   "metadata": {},
   "outputs": [
    {
     "name": "stdout",
     "output_type": "stream",
     "text": [
      "[1, 2, 3, 4, 5, 1, 2, 3, 4, 5, 1, 2, 3, 4, 5] "
     ]
    },
    {
     "data": {
      "text/plain": [
       "[[1, 2, 3, 4, 5, 1, 2, 3, 4, 5, 1, 2, 3, 4, 5]]"
      ]
     },
     "execution_count": 117,
     "metadata": {},
     "output_type": "execute_result"
    }
   ],
   "source": [
    "muls(3, [1,2,3,4,5])"
   ]
  },
  {
   "cell_type": "code",
   "execution_count": 118,
   "id": "618e6f86",
   "metadata": {},
   "outputs": [
    {
     "name": "stdout",
     "output_type": "stream",
     "text": [
      "3 6 9 12 15 "
     ]
    },
    {
     "data": {
      "text/plain": [
       "[3, 6, 9, 12, 15]"
      ]
     },
     "execution_count": 118,
     "metadata": {},
     "output_type": "execute_result"
    }
   ],
   "source": [
    "muls(3, 1,2,3,4,5)"
   ]
  },
  {
   "cell_type": "markdown",
   "id": "e170a285",
   "metadata": {},
   "source": [
    "가변인수는 함수의 젤 끝에 넣어야 한다 # 가변인수가 앞에오면 에러"
   ]
  },
  {
   "cell_type": "code",
   "execution_count": null,
   "id": "d2325bba",
   "metadata": {},
   "outputs": [],
   "source": []
  },
  {
   "cell_type": "code",
   "execution_count": null,
   "id": "a59177f0",
   "metadata": {},
   "outputs": [],
   "source": []
  },
  {
   "cell_type": "code",
   "execution_count": null,
   "id": "89e4e415",
   "metadata": {},
   "outputs": [],
   "source": []
  },
  {
   "cell_type": "code",
   "execution_count": null,
   "id": "6586e3e2",
   "metadata": {},
   "outputs": [],
   "source": []
  },
  {
   "cell_type": "code",
   "execution_count": null,
   "id": "4d17fb3c",
   "metadata": {},
   "outputs": [],
   "source": []
  },
  {
   "cell_type": "code",
   "execution_count": null,
   "id": "f92fa226",
   "metadata": {},
   "outputs": [],
   "source": []
  },
  {
   "cell_type": "code",
   "execution_count": null,
   "id": "d4c0b0de",
   "metadata": {},
   "outputs": [],
   "source": []
  },
  {
   "cell_type": "code",
   "execution_count": null,
   "id": "1d58b39c",
   "metadata": {},
   "outputs": [],
   "source": []
  }
 ],
 "metadata": {
  "kernelspec": {
   "display_name": "Python 3 (ipykernel)",
   "language": "python",
   "name": "python3"
  },
  "language_info": {
   "codemirror_mode": {
    "name": "ipython",
    "version": 3
   },
   "file_extension": ".py",
   "mimetype": "text/x-python",
   "name": "python",
   "nbconvert_exporter": "python",
   "pygments_lexer": "ipython3",
   "version": "3.10.14"
  }
 },
 "nbformat": 4,
 "nbformat_minor": 5
}
