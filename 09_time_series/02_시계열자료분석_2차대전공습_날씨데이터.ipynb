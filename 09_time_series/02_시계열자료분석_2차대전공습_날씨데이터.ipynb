{
 "cells": [
  {
   "cell_type": "markdown",
   "id": "923fe843",
   "metadata": {},
   "source": [
    "## 시계열 데이터의 속성\n",
    "* 종단면 시계열 데이터 : 시간의 흐름에 따라 한 변수에 대한 자료를 수집\n",
    "* 횡단면 시계열 데이터 : 한 시점에 여러 변수에 대한 자료를 수집"
   ]
  },
  {
   "cell_type": "markdown",
   "id": "72801b3e",
   "metadata": {},
   "source": [
    "## 시계열 데이터의 특징\n",
    "* 계절성\n",
    "* 추세성\n",
    "* 반복성\n",
    "* 순환성\n",
    "\n",
    "## 시계열 데이터의 특징을 없애고 정상성 시계열로 만드는 방법\n",
    "* decompose : 가법 모형 / 승법 모형\n",
    "* 정상성(stationarity) 테스트 : 일정하여 늘 한곁같은 성질\n",
    "    - KPSS(Kwiatkowski-Phillips-Schmidt-Shin Test) 검정: (H0) 정상성이 존재한다. p-value가 0.05 이상인 경우 정상 시계열\n",
    "    - ADF(Augmented Dickey-Fuller Test) 검정: (H0) 정상성이 존재하지 않는다. p-value가 0.05 이하인 경우 정상 시계열"
   ]
  },
  {
   "cell_type": "markdown",
   "id": "7e4f467a",
   "metadata": {},
   "source": [
    "## 데이터 가정에 따른 시계열 모형\n",
    "\n",
    "- 시계열 자료는 추세변동, 계절변동 등 다양한 변동요인이 다중적으로 중첩되어 있음.\n",
    "    - 내포된 요인이 고정적 패턴을 보이는 경우(진폭 없음): 요소분해법\n",
    "    - 다양한 변동요인이 고정적 패턴을 보이지 않는 경우: (지수)평활법"
   ]
  },
  {
   "cell_type": "markdown",
   "id": "55e72b6a",
   "metadata": {},
   "source": [
    "## 시계열 데이터 분석시 사용하는 확률모형(Stochastic Model) 분석 4단계\n",
    "\n",
    "- 모형설정: ACF, PACF 같은 지표와 Aoto.arima 같은 프로그램을 이용해서 시계열 자료에 적합한 모형 선택\n",
    "- 모수추정: 설정한 모형에 따라 모수를 추정하고 적합성 검토\n",
    "- 분석결과 검정: 모형적합도에 따른 잔차의 정상성 및 분석결과 검정 수행\n",
    "- 예측(forecasting): 시계열 자료와 분석모형을 토대로 미래 값 예측"
   ]
  },
  {
   "cell_type": "markdown",
   "id": "1fc399d8",
   "metadata": {},
   "source": [
    "# 불안정 시계열 or 비정상 시계열 (non-stationary)\n",
    "* 자기 회귀 누적 이동 평균 모형(Autoregressive Integrated Moving Averate, ARIMA)"
   ]
  },
  {
   "cell_type": "markdown",
   "id": "a84a686b",
   "metadata": {},
   "source": [
    "# 자기 상관 함수( Auto Correlation Function, ACF)\n",
    "* 동일한 변수를 시점을 달리해서 관측했을 때 시점에 따라 다른 값 사이의 상호 연관관계를 나타내는 척도\n",
    "* 연속적인 관측값 사이의 상호 연관관계\n",
    "\n",
    "# 부분 자기 상관 함수 (Partial ACF, PACF)\n",
    "* 산정하고자 하는 연속적인 2개의 시계열 자료에서 상관계수 구함.\n",
    "* 산정하고자 하는 두 변수를 제외한 모든 변수의 영향을 제거한 상태에서 두 변수간에 존재하는 순수한 상관계수를 산정해서 정상성 검정"
   ]
  },
  {
   "cell_type": "code",
   "execution_count": 1,
   "id": "cf3daad2",
   "metadata": {},
   "outputs": [
    {
     "name": "stdout",
     "output_type": "stream",
     "text": [
      "Collecting chart-studio\n",
      "  Using cached chart_studio-1.1.0-py3-none-any.whl.metadata (1.3 kB)\n",
      "Requirement already satisfied: plotly in c:\\users\\5-06\\miniforge3\\envs\\fintech\\lib\\site-packages (from chart-studio) (5.24.1)\n",
      "Requirement already satisfied: requests in c:\\users\\5-06\\miniforge3\\envs\\fintech\\lib\\site-packages (from chart-studio) (2.32.3)\n",
      "Requirement already satisfied: retrying>=1.3.3 in c:\\users\\5-06\\miniforge3\\envs\\fintech\\lib\\site-packages (from chart-studio) (1.3.4)\n",
      "Requirement already satisfied: six in c:\\users\\5-06\\miniforge3\\envs\\fintech\\lib\\site-packages (from chart-studio) (1.16.0)\n",
      "Requirement already satisfied: tenacity>=6.2.0 in c:\\users\\5-06\\miniforge3\\envs\\fintech\\lib\\site-packages (from plotly->chart-studio) (9.0.0)\n",
      "Requirement already satisfied: packaging in c:\\users\\5-06\\miniforge3\\envs\\fintech\\lib\\site-packages (from plotly->chart-studio) (24.1)\n",
      "Requirement already satisfied: charset-normalizer<4,>=2 in c:\\users\\5-06\\miniforge3\\envs\\fintech\\lib\\site-packages (from requests->chart-studio) (3.3.2)\n",
      "Requirement already satisfied: idna<4,>=2.5 in c:\\users\\5-06\\miniforge3\\envs\\fintech\\lib\\site-packages (from requests->chart-studio) (3.7)\n",
      "Requirement already satisfied: urllib3<3,>=1.21.1 in c:\\users\\5-06\\miniforge3\\envs\\fintech\\lib\\site-packages (from requests->chart-studio) (2.2.2)\n",
      "Requirement already satisfied: certifi>=2017.4.17 in c:\\users\\5-06\\miniforge3\\envs\\fintech\\lib\\site-packages (from requests->chart-studio) (2024.8.30)\n",
      "Using cached chart_studio-1.1.0-py3-none-any.whl (64 kB)\n",
      "Installing collected packages: chart-studio\n",
      "Successfully installed chart-studio-1.1.0\n"
     ]
    }
   ],
   "source": [
    "!pip install chart-studio"
   ]
  },
  {
   "cell_type": "code",
   "execution_count": 2,
   "id": "6955afdd",
   "metadata": {},
   "outputs": [
    {
     "data": {
      "text/html": [
       "        <script type=\"text/javascript\">\n",
       "        window.PlotlyConfig = {MathJaxConfig: 'local'};\n",
       "        if (window.MathJax && window.MathJax.Hub && window.MathJax.Hub.Config) {window.MathJax.Hub.Config({SVG: {font: \"STIX-Web\"}});}\n",
       "        if (typeof require !== 'undefined') {\n",
       "        require.undef(\"plotly\");\n",
       "        requirejs.config({\n",
       "            paths: {\n",
       "                'plotly': ['https://cdn.plot.ly/plotly-2.35.2.min']\n",
       "            }\n",
       "        });\n",
       "        require(['plotly'], function(Plotly) {\n",
       "            window._Plotly = Plotly;\n",
       "        });\n",
       "        }\n",
       "        </script>\n",
       "        "
      ]
     },
     "metadata": {},
     "output_type": "display_data"
    }
   ],
   "source": [
    "import pandas as pd\n",
    "import numpy as np\n",
    "import matplotlib.pyplot as plt\n",
    "import seaborn as sns\n",
    "import os\n",
    "import warnings\n",
    "warnings.filterwarnings(\"ignore\")\n",
    "import chart_studio.plotly as py\n",
    "from plotly.offline import init_notebook_mode, iplot\n",
    "init_notebook_mode(connected=True)\n",
    "import plotly.graph_objs as go\n"
   ]
  },
  {
   "cell_type": "code",
   "execution_count": 5,
   "id": "57f9202c",
   "metadata": {},
   "outputs": [
    {
     "ename": "FileNotFoundError",
     "evalue": "[Errno 2] No such file or directory: './06_machine_learning/data/Summary.csv'",
     "output_type": "error",
     "traceback": [
      "\u001b[1;31m---------------------------------------------------------------------------\u001b[0m",
      "\u001b[1;31mFileNotFoundError\u001b[0m                         Traceback (most recent call last)",
      "Cell \u001b[1;32mIn[5], line 1\u001b[0m\n\u001b[1;32m----> 1\u001b[0m summary \u001b[38;5;241m=\u001b[39m \u001b[43mpd\u001b[49m\u001b[38;5;241;43m.\u001b[39;49m\u001b[43mread_csv\u001b[49m\u001b[43m(\u001b[49m\u001b[38;5;124;43m\"\u001b[39;49m\u001b[38;5;124;43m./06_machine_learning/data/Summary.csv\u001b[39;49m\u001b[38;5;124;43m\"\u001b[39;49m\u001b[43m)\u001b[49m\n\u001b[0;32m      2\u001b[0m summary\n",
      "File \u001b[1;32m~\\miniforge3\\envs\\fintech\\lib\\site-packages\\pandas\\io\\parsers\\readers.py:1026\u001b[0m, in \u001b[0;36mread_csv\u001b[1;34m(filepath_or_buffer, sep, delimiter, header, names, index_col, usecols, dtype, engine, converters, true_values, false_values, skipinitialspace, skiprows, skipfooter, nrows, na_values, keep_default_na, na_filter, verbose, skip_blank_lines, parse_dates, infer_datetime_format, keep_date_col, date_parser, date_format, dayfirst, cache_dates, iterator, chunksize, compression, thousands, decimal, lineterminator, quotechar, quoting, doublequote, escapechar, comment, encoding, encoding_errors, dialect, on_bad_lines, delim_whitespace, low_memory, memory_map, float_precision, storage_options, dtype_backend)\u001b[0m\n\u001b[0;32m   1013\u001b[0m kwds_defaults \u001b[38;5;241m=\u001b[39m _refine_defaults_read(\n\u001b[0;32m   1014\u001b[0m     dialect,\n\u001b[0;32m   1015\u001b[0m     delimiter,\n\u001b[1;32m   (...)\u001b[0m\n\u001b[0;32m   1022\u001b[0m     dtype_backend\u001b[38;5;241m=\u001b[39mdtype_backend,\n\u001b[0;32m   1023\u001b[0m )\n\u001b[0;32m   1024\u001b[0m kwds\u001b[38;5;241m.\u001b[39mupdate(kwds_defaults)\n\u001b[1;32m-> 1026\u001b[0m \u001b[38;5;28;01mreturn\u001b[39;00m \u001b[43m_read\u001b[49m\u001b[43m(\u001b[49m\u001b[43mfilepath_or_buffer\u001b[49m\u001b[43m,\u001b[49m\u001b[43m \u001b[49m\u001b[43mkwds\u001b[49m\u001b[43m)\u001b[49m\n",
      "File \u001b[1;32m~\\miniforge3\\envs\\fintech\\lib\\site-packages\\pandas\\io\\parsers\\readers.py:620\u001b[0m, in \u001b[0;36m_read\u001b[1;34m(filepath_or_buffer, kwds)\u001b[0m\n\u001b[0;32m    617\u001b[0m _validate_names(kwds\u001b[38;5;241m.\u001b[39mget(\u001b[38;5;124m\"\u001b[39m\u001b[38;5;124mnames\u001b[39m\u001b[38;5;124m\"\u001b[39m, \u001b[38;5;28;01mNone\u001b[39;00m))\n\u001b[0;32m    619\u001b[0m \u001b[38;5;66;03m# Create the parser.\u001b[39;00m\n\u001b[1;32m--> 620\u001b[0m parser \u001b[38;5;241m=\u001b[39m TextFileReader(filepath_or_buffer, \u001b[38;5;241m*\u001b[39m\u001b[38;5;241m*\u001b[39mkwds)\n\u001b[0;32m    622\u001b[0m \u001b[38;5;28;01mif\u001b[39;00m chunksize \u001b[38;5;129;01mor\u001b[39;00m iterator:\n\u001b[0;32m    623\u001b[0m     \u001b[38;5;28;01mreturn\u001b[39;00m parser\n",
      "File \u001b[1;32m~\\miniforge3\\envs\\fintech\\lib\\site-packages\\pandas\\io\\parsers\\readers.py:1620\u001b[0m, in \u001b[0;36mTextFileReader.__init__\u001b[1;34m(self, f, engine, **kwds)\u001b[0m\n\u001b[0;32m   1617\u001b[0m     \u001b[38;5;28mself\u001b[39m\u001b[38;5;241m.\u001b[39moptions[\u001b[38;5;124m\"\u001b[39m\u001b[38;5;124mhas_index_names\u001b[39m\u001b[38;5;124m\"\u001b[39m] \u001b[38;5;241m=\u001b[39m kwds[\u001b[38;5;124m\"\u001b[39m\u001b[38;5;124mhas_index_names\u001b[39m\u001b[38;5;124m\"\u001b[39m]\n\u001b[0;32m   1619\u001b[0m \u001b[38;5;28mself\u001b[39m\u001b[38;5;241m.\u001b[39mhandles: IOHandles \u001b[38;5;241m|\u001b[39m \u001b[38;5;28;01mNone\u001b[39;00m \u001b[38;5;241m=\u001b[39m \u001b[38;5;28;01mNone\u001b[39;00m\n\u001b[1;32m-> 1620\u001b[0m \u001b[38;5;28mself\u001b[39m\u001b[38;5;241m.\u001b[39m_engine \u001b[38;5;241m=\u001b[39m \u001b[38;5;28;43mself\u001b[39;49m\u001b[38;5;241;43m.\u001b[39;49m\u001b[43m_make_engine\u001b[49m\u001b[43m(\u001b[49m\u001b[43mf\u001b[49m\u001b[43m,\u001b[49m\u001b[43m \u001b[49m\u001b[38;5;28;43mself\u001b[39;49m\u001b[38;5;241;43m.\u001b[39;49m\u001b[43mengine\u001b[49m\u001b[43m)\u001b[49m\n",
      "File \u001b[1;32m~\\miniforge3\\envs\\fintech\\lib\\site-packages\\pandas\\io\\parsers\\readers.py:1880\u001b[0m, in \u001b[0;36mTextFileReader._make_engine\u001b[1;34m(self, f, engine)\u001b[0m\n\u001b[0;32m   1878\u001b[0m     \u001b[38;5;28;01mif\u001b[39;00m \u001b[38;5;124m\"\u001b[39m\u001b[38;5;124mb\u001b[39m\u001b[38;5;124m\"\u001b[39m \u001b[38;5;129;01mnot\u001b[39;00m \u001b[38;5;129;01min\u001b[39;00m mode:\n\u001b[0;32m   1879\u001b[0m         mode \u001b[38;5;241m+\u001b[39m\u001b[38;5;241m=\u001b[39m \u001b[38;5;124m\"\u001b[39m\u001b[38;5;124mb\u001b[39m\u001b[38;5;124m\"\u001b[39m\n\u001b[1;32m-> 1880\u001b[0m \u001b[38;5;28mself\u001b[39m\u001b[38;5;241m.\u001b[39mhandles \u001b[38;5;241m=\u001b[39m \u001b[43mget_handle\u001b[49m\u001b[43m(\u001b[49m\n\u001b[0;32m   1881\u001b[0m \u001b[43m    \u001b[49m\u001b[43mf\u001b[49m\u001b[43m,\u001b[49m\n\u001b[0;32m   1882\u001b[0m \u001b[43m    \u001b[49m\u001b[43mmode\u001b[49m\u001b[43m,\u001b[49m\n\u001b[0;32m   1883\u001b[0m \u001b[43m    \u001b[49m\u001b[43mencoding\u001b[49m\u001b[38;5;241;43m=\u001b[39;49m\u001b[38;5;28;43mself\u001b[39;49m\u001b[38;5;241;43m.\u001b[39;49m\u001b[43moptions\u001b[49m\u001b[38;5;241;43m.\u001b[39;49m\u001b[43mget\u001b[49m\u001b[43m(\u001b[49m\u001b[38;5;124;43m\"\u001b[39;49m\u001b[38;5;124;43mencoding\u001b[39;49m\u001b[38;5;124;43m\"\u001b[39;49m\u001b[43m,\u001b[49m\u001b[43m \u001b[49m\u001b[38;5;28;43;01mNone\u001b[39;49;00m\u001b[43m)\u001b[49m\u001b[43m,\u001b[49m\n\u001b[0;32m   1884\u001b[0m \u001b[43m    \u001b[49m\u001b[43mcompression\u001b[49m\u001b[38;5;241;43m=\u001b[39;49m\u001b[38;5;28;43mself\u001b[39;49m\u001b[38;5;241;43m.\u001b[39;49m\u001b[43moptions\u001b[49m\u001b[38;5;241;43m.\u001b[39;49m\u001b[43mget\u001b[49m\u001b[43m(\u001b[49m\u001b[38;5;124;43m\"\u001b[39;49m\u001b[38;5;124;43mcompression\u001b[39;49m\u001b[38;5;124;43m\"\u001b[39;49m\u001b[43m,\u001b[49m\u001b[43m \u001b[49m\u001b[38;5;28;43;01mNone\u001b[39;49;00m\u001b[43m)\u001b[49m\u001b[43m,\u001b[49m\n\u001b[0;32m   1885\u001b[0m \u001b[43m    \u001b[49m\u001b[43mmemory_map\u001b[49m\u001b[38;5;241;43m=\u001b[39;49m\u001b[38;5;28;43mself\u001b[39;49m\u001b[38;5;241;43m.\u001b[39;49m\u001b[43moptions\u001b[49m\u001b[38;5;241;43m.\u001b[39;49m\u001b[43mget\u001b[49m\u001b[43m(\u001b[49m\u001b[38;5;124;43m\"\u001b[39;49m\u001b[38;5;124;43mmemory_map\u001b[39;49m\u001b[38;5;124;43m\"\u001b[39;49m\u001b[43m,\u001b[49m\u001b[43m \u001b[49m\u001b[38;5;28;43;01mFalse\u001b[39;49;00m\u001b[43m)\u001b[49m\u001b[43m,\u001b[49m\n\u001b[0;32m   1886\u001b[0m \u001b[43m    \u001b[49m\u001b[43mis_text\u001b[49m\u001b[38;5;241;43m=\u001b[39;49m\u001b[43mis_text\u001b[49m\u001b[43m,\u001b[49m\n\u001b[0;32m   1887\u001b[0m \u001b[43m    \u001b[49m\u001b[43merrors\u001b[49m\u001b[38;5;241;43m=\u001b[39;49m\u001b[38;5;28;43mself\u001b[39;49m\u001b[38;5;241;43m.\u001b[39;49m\u001b[43moptions\u001b[49m\u001b[38;5;241;43m.\u001b[39;49m\u001b[43mget\u001b[49m\u001b[43m(\u001b[49m\u001b[38;5;124;43m\"\u001b[39;49m\u001b[38;5;124;43mencoding_errors\u001b[39;49m\u001b[38;5;124;43m\"\u001b[39;49m\u001b[43m,\u001b[49m\u001b[43m \u001b[49m\u001b[38;5;124;43m\"\u001b[39;49m\u001b[38;5;124;43mstrict\u001b[39;49m\u001b[38;5;124;43m\"\u001b[39;49m\u001b[43m)\u001b[49m\u001b[43m,\u001b[49m\n\u001b[0;32m   1888\u001b[0m \u001b[43m    \u001b[49m\u001b[43mstorage_options\u001b[49m\u001b[38;5;241;43m=\u001b[39;49m\u001b[38;5;28;43mself\u001b[39;49m\u001b[38;5;241;43m.\u001b[39;49m\u001b[43moptions\u001b[49m\u001b[38;5;241;43m.\u001b[39;49m\u001b[43mget\u001b[49m\u001b[43m(\u001b[49m\u001b[38;5;124;43m\"\u001b[39;49m\u001b[38;5;124;43mstorage_options\u001b[39;49m\u001b[38;5;124;43m\"\u001b[39;49m\u001b[43m,\u001b[49m\u001b[43m \u001b[49m\u001b[38;5;28;43;01mNone\u001b[39;49;00m\u001b[43m)\u001b[49m\u001b[43m,\u001b[49m\n\u001b[0;32m   1889\u001b[0m \u001b[43m\u001b[49m\u001b[43m)\u001b[49m\n\u001b[0;32m   1890\u001b[0m \u001b[38;5;28;01massert\u001b[39;00m \u001b[38;5;28mself\u001b[39m\u001b[38;5;241m.\u001b[39mhandles \u001b[38;5;129;01mis\u001b[39;00m \u001b[38;5;129;01mnot\u001b[39;00m \u001b[38;5;28;01mNone\u001b[39;00m\n\u001b[0;32m   1891\u001b[0m f \u001b[38;5;241m=\u001b[39m \u001b[38;5;28mself\u001b[39m\u001b[38;5;241m.\u001b[39mhandles\u001b[38;5;241m.\u001b[39mhandle\n",
      "File \u001b[1;32m~\\miniforge3\\envs\\fintech\\lib\\site-packages\\pandas\\io\\common.py:873\u001b[0m, in \u001b[0;36mget_handle\u001b[1;34m(path_or_buf, mode, encoding, compression, memory_map, is_text, errors, storage_options)\u001b[0m\n\u001b[0;32m    868\u001b[0m \u001b[38;5;28;01melif\u001b[39;00m \u001b[38;5;28misinstance\u001b[39m(handle, \u001b[38;5;28mstr\u001b[39m):\n\u001b[0;32m    869\u001b[0m     \u001b[38;5;66;03m# Check whether the filename is to be opened in binary mode.\u001b[39;00m\n\u001b[0;32m    870\u001b[0m     \u001b[38;5;66;03m# Binary mode does not support 'encoding' and 'newline'.\u001b[39;00m\n\u001b[0;32m    871\u001b[0m     \u001b[38;5;28;01mif\u001b[39;00m ioargs\u001b[38;5;241m.\u001b[39mencoding \u001b[38;5;129;01mand\u001b[39;00m \u001b[38;5;124m\"\u001b[39m\u001b[38;5;124mb\u001b[39m\u001b[38;5;124m\"\u001b[39m \u001b[38;5;129;01mnot\u001b[39;00m \u001b[38;5;129;01min\u001b[39;00m ioargs\u001b[38;5;241m.\u001b[39mmode:\n\u001b[0;32m    872\u001b[0m         \u001b[38;5;66;03m# Encoding\u001b[39;00m\n\u001b[1;32m--> 873\u001b[0m         handle \u001b[38;5;241m=\u001b[39m \u001b[38;5;28;43mopen\u001b[39;49m\u001b[43m(\u001b[49m\n\u001b[0;32m    874\u001b[0m \u001b[43m            \u001b[49m\u001b[43mhandle\u001b[49m\u001b[43m,\u001b[49m\n\u001b[0;32m    875\u001b[0m \u001b[43m            \u001b[49m\u001b[43mioargs\u001b[49m\u001b[38;5;241;43m.\u001b[39;49m\u001b[43mmode\u001b[49m\u001b[43m,\u001b[49m\n\u001b[0;32m    876\u001b[0m \u001b[43m            \u001b[49m\u001b[43mencoding\u001b[49m\u001b[38;5;241;43m=\u001b[39;49m\u001b[43mioargs\u001b[49m\u001b[38;5;241;43m.\u001b[39;49m\u001b[43mencoding\u001b[49m\u001b[43m,\u001b[49m\n\u001b[0;32m    877\u001b[0m \u001b[43m            \u001b[49m\u001b[43merrors\u001b[49m\u001b[38;5;241;43m=\u001b[39;49m\u001b[43merrors\u001b[49m\u001b[43m,\u001b[49m\n\u001b[0;32m    878\u001b[0m \u001b[43m            \u001b[49m\u001b[43mnewline\u001b[49m\u001b[38;5;241;43m=\u001b[39;49m\u001b[38;5;124;43m\"\u001b[39;49m\u001b[38;5;124;43m\"\u001b[39;49m\u001b[43m,\u001b[49m\n\u001b[0;32m    879\u001b[0m \u001b[43m        \u001b[49m\u001b[43m)\u001b[49m\n\u001b[0;32m    880\u001b[0m     \u001b[38;5;28;01melse\u001b[39;00m:\n\u001b[0;32m    881\u001b[0m         \u001b[38;5;66;03m# Binary mode\u001b[39;00m\n\u001b[0;32m    882\u001b[0m         handle \u001b[38;5;241m=\u001b[39m \u001b[38;5;28mopen\u001b[39m(handle, ioargs\u001b[38;5;241m.\u001b[39mmode)\n",
      "\u001b[1;31mFileNotFoundError\u001b[0m: [Errno 2] No such file or directory: './06_machine_learning/data/Summary.csv'"
     ]
    }
   ],
   "source": [
    "summary = pd.read_csv(\"./06_machine_learning/data/Summary.csv\")\n",
    "summary\n"
   ]
  },
  {
   "cell_type": "markdown",
   "id": "a376b99d",
   "metadata": {},
   "source": [
    "Aerial Bombing Data (operations.csv)\n",
    "* Mission Date: 임무 날짜\n",
    "* Theater of Operations: 군사 작전이 진행 중인 지역\n",
    "* Country: 임무나 작전을 수행한 국가 (예: 미국)\n",
    "* Air Force: 공군 부대의 이름 또는 ID (예: 5AF)\n",
    "* Aircraft Series: 항공기 모델 또는 유형 (예: B24)\n",
    "* Callsign: 폭격 전에 라디오로 방송되는 메시지, 코드, 공지 또는 신호\n",
    "* Takeoff Base: 이륙 공항 이름 (예: Ponte Olivo Airfield)\n",
    "* Takeoff Location: 이륙 지역 (예: 시칠리아)\n",
    "* Takeoff Latitude: 이륙 지역의 위도\n",
    "* Takeoff Longitude: 이륙 지역의 경도\n",
    "* Target Country: 목표 국가 (예: 독일)\n",
    "* Target City: 목표 도시 (예: 베를린)\n",
    "* Target Type: 목표 유형 (예: 도시 지역)\n",
    "* Target Industry: 목표 산업 (예: 도시 또는 마을)\n",
    "* Target Priority: 목표 우선순위 (예: 1 – 가장 중요함)\n",
    "* Target Latitude: 목표 지점의 위도\n",
    "* Target Longitude: 목표 지점의 경도\n",
    "* \n",
    "* Weather Condition Data\n",
    "* Weather Station Locations (Locations.csv)\n",
    "* WBAN: 기상 관측소 번호\n",
    "* NAME: 기상 관측소 이름\n",
    "* STATE/COUNTRY ID: 국가의 약어\n",
    "* Latitude: 기상 관측소의 위도\n",
    "* Longitude: 기상 관측소의 경도\n",
    "* \n",
    "* Weather Summary (Summary.csv)\n",
    "* STA: 기상 관측소 번호 (WBAN)\n",
    "* Date: 기온 측정 날짜\n",
    "* MeanTemp: 평균 기온"
   ]
  },
  {
   "cell_type": "code",
   "execution_count": null,
   "id": "5e9cbb50",
   "metadata": {},
   "outputs": [],
   "source": [
    "locations = pd.read_csv(\"./data/\")"
   ]
  },
  {
   "cell_type": "code",
   "execution_count": null,
   "id": "3eaf0e3a",
   "metadata": {},
   "outputs": [],
   "source": []
  },
  {
   "cell_type": "code",
   "execution_count": null,
   "id": "8cc6638d",
   "metadata": {},
   "outputs": [],
   "source": []
  },
  {
   "cell_type": "code",
   "execution_count": null,
   "id": "3ddb1d4c",
   "metadata": {},
   "outputs": [],
   "source": []
  },
  {
   "cell_type": "code",
   "execution_count": null,
   "id": "07103e93",
   "metadata": {},
   "outputs": [],
   "source": []
  },
  {
   "cell_type": "code",
   "execution_count": null,
   "id": "a7e34a15",
   "metadata": {},
   "outputs": [],
   "source": []
  },
  {
   "cell_type": "code",
   "execution_count": null,
   "id": "889b10fc",
   "metadata": {},
   "outputs": [],
   "source": []
  }
 ],
 "metadata": {
  "kernelspec": {
   "display_name": "Python 3 (ipykernel)",
   "language": "python",
   "name": "python3"
  },
  "language_info": {
   "codemirror_mode": {
    "name": "ipython",
    "version": 3
   },
   "file_extension": ".py",
   "mimetype": "text/x-python",
   "name": "python",
   "nbconvert_exporter": "python",
   "pygments_lexer": "ipython3",
   "version": "3.10.14"
  }
 },
 "nbformat": 4,
 "nbformat_minor": 5
}
