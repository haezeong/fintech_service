{
 "cells": [
  {
   "cell_type": "code",
   "execution_count": 1,
   "id": "bc5a51e8",
   "metadata": {},
   "outputs": [
    {
     "name": "stderr",
     "output_type": "stream",
     "text": [
      "'quadprog', 'fracdiff', 'lmtest', 'tseries', 'urca', 'RcppArmadillo'(들)을 또한 설치합니다.\n",
      "\n",
      "\n"
     ]
    },
    {
     "name": "stdout",
     "output_type": "stream",
     "text": [
      "\n",
      "  There are binary versions available but the source versions are later:\n",
      "                  binary   source needs_compilation\n",
      "fracdiff           1.5-2    1.5-3              TRUE\n",
      "tseries          0.10-53  0.10-58              TRUE\n",
      "urca               1.3-3    1.3-4              TRUE\n",
      "RcppArmadillo 0.12.2.0.0 14.0.2-1              TRUE\n",
      "forecast            8.21   8.23.0              TRUE\n",
      "\n",
      "  Binaries will be installed\n",
      "package 'quadprog' successfully unpacked and MD5 sums checked\n",
      "package 'fracdiff' successfully unpacked and MD5 sums checked\n",
      "package 'lmtest' successfully unpacked and MD5 sums checked\n",
      "package 'tseries' successfully unpacked and MD5 sums checked\n",
      "package 'urca' successfully unpacked and MD5 sums checked\n",
      "package 'RcppArmadillo' successfully unpacked and MD5 sums checked\n",
      "package 'forecast' successfully unpacked and MD5 sums checked\n",
      "\n",
      "The downloaded binary packages are in\n",
      "\tC:\\Users\\5-06\\AppData\\Local\\Temp\\RtmpugRdAs\\downloaded_packages\n"
     ]
    },
    {
     "name": "stderr",
     "output_type": "stream",
     "text": [
      "'leaps', 'locfit'(들)을 또한 설치합니다.\n",
      "\n",
      "\n"
     ]
    },
    {
     "name": "stdout",
     "output_type": "stream",
     "text": [
      "\n",
      "  There are binary versions available but the source versions are later:\n",
      "        binary   source needs_compilation\n",
      "leaps      3.1      3.2              TRUE\n",
      "locfit 1.5-9.7 1.5-9.10              TRUE\n",
      "\n",
      "  Binaries will be installed\n",
      "package 'leaps' successfully unpacked and MD5 sums checked\n",
      "package 'locfit' successfully unpacked and MD5 sums checked\n",
      "package 'TSA' successfully unpacked and MD5 sums checked\n",
      "\n",
      "The downloaded binary packages are in\n",
      "\tC:\\Users\\5-06\\AppData\\Local\\Temp\\RtmpugRdAs\\downloaded_packages\n"
     ]
    },
    {
     "name": "stderr",
     "output_type": "stream",
     "text": [
      "Registered S3 method overwritten by 'quantmod':\n",
      "  method            from\n",
      "  as.zoo.data.frame zoo \n",
      "\n",
      "Registered S3 methods overwritten by 'TSA':\n",
      "  method       from    \n",
      "  fitted.Arima forecast\n",
      "  plot.Arima   forecast\n",
      "\n",
      "\n",
      "다음의 패키지를 부착합니다: 'TSA'\n",
      "\n",
      "\n",
      "The following objects are masked from 'package:stats':\n",
      "\n",
      "    acf, arima\n",
      "\n",
      "\n",
      "The following object is masked from 'package:utils':\n",
      "\n",
      "    tar\n",
      "\n",
      "\n"
     ]
    }
   ],
   "source": [
    "install.packages('forecast')\n",
    "install.packages('TSA')\n",
    "library(forecast)\n",
    "library(TSA)"
   ]
  },
  {
   "cell_type": "code",
   "execution_count": 2,
   "id": "5cec6c23",
   "metadata": {},
   "outputs": [
    {
     "data": {
      "image/png": "[encoded data removed]",
      "text/plain": [
       "Plot with title \"Milk Sales -- Seasonal Adjustment\""
      ]
     },
     "metadata": {
      "image/png": {
       "height": 420,
       "width": 420
      }
     },
     "output_type": "display_data"
    }
   ],
   "source": [
    "data(milk)\n",
    "plot(milk, main='Milk Sales -- Seasonal Adjustment')\n",
    "lines (seasadj(decompose(milk)),col=2, lwd=2)"
   ]
  },
  {
   "cell_type": "markdown",
   "id": "90f2b120",
   "metadata": {},
   "source": []
  },
  {
   "cell_type": "code",
   "execution_count": 3,
   "id": "d34bd172",
   "metadata": {},
   "outputs": [],
   "source": [
    "mm3 <- filter(milk, f=rep(1/3,3))\n",
    "mm6 <- filter(milk, f=rep(1/6,6))\n",
    "mm12 <- filter(milk, f=rep(1/12,12))"
   ]
  },
  {
   "cell_type": "code",
   "execution_count": 4,
   "id": "5cec3565",
   "metadata": {},
   "outputs": [
    {
     "data": {
      "image/png": "[encoded data removed]",
      "text/plain": [
       "Plot with title \"12-points moving average\""
      ]
     },
     "metadata": {
      "image/png": {
       "height": 420,
       "width": 420
      }
     },
     "output_type": "display_data"
    }
   ],
   "source": [
    "par(mfcol=c(4,1))\n",
    "plot(milk, main='Milk: original data')\n",
    "plot(mm3, main='3-points moving average')\n",
    "plot(mm6, main='6-points moving average')\n",
    "plot(mm12, main='12-points moving average')"
   ]
  },
  {
   "cell_type": "code",
   "execution_count": 5,
   "id": "2303d1bd",
   "metadata": {},
   "outputs": [],
   "source": [
    "# install.packages('forecast')\n",
    "library(forecast)\n"
   ]
  },
  {
   "cell_type": "code",
   "execution_count": 6,
   "id": "193021bd",
   "metadata": {},
   "outputs": [],
   "source": [
    "dd1 <- matrix(c(1342, 1442, 1252, 1343,\n",
    "                1425, 1362, 1256, 1272,\n",
    "                  1243, 1359, 1412, 1253,\n",
    "                1201, 1478, 1322, 1406,\n",
    "                1254, 1289, 1497, 1208))"
   ]
  },
  {
   "cell_type": "code",
   "execution_count": 7,
   "id": "a8eb7898",
   "metadata": {},
   "outputs": [
    {
     "data": {
      "text/html": [
       "<table class=\"dataframe\">\n",
       "<caption>A Time Series: 5 × 4</caption>\n",
       "<thead>\n",
       "\t<tr><th></th><th scope=col>Qtr1</th><th scope=col>Qtr2</th><th scope=col>Qtr3</th><th scope=col>Qtr4</th></tr>\n",
       "</thead>\n",
       "<tbody>\n",
       "\t<tr><th scope=row>2016</th><td>1342</td><td>1442</td><td>1252</td><td>1343</td></tr>\n",
       "\t<tr><th scope=row>2017</th><td>1425</td><td>1362</td><td>1256</td><td>1272</td></tr>\n",
       "\t<tr><th scope=row>2018</th><td>1243</td><td>1359</td><td>1412</td><td>1253</td></tr>\n",
       "\t<tr><th scope=row>2019</th><td>1201</td><td>1478</td><td>1322</td><td>1406</td></tr>\n",
       "\t<tr><th scope=row>2020</th><td>1254</td><td>1289</td><td>1497</td><td>1208</td></tr>\n",
       "</tbody>\n",
       "</table>\n"
      ],
      "text/latex": [
       "A Time Series: 5 × 4\n",
       "\\begin{tabular}{r|llll}\n",
       "  & Qtr1 & Qtr2 & Qtr3 & Qtr4\\\\\n",
       "\\hline\n",
       "\t2016 & 1342 & 1442 & 1252 & 1343\\\\\n",
       "\t2017 & 1425 & 1362 & 1256 & 1272\\\\\n",
       "\t2018 & 1243 & 1359 & 1412 & 1253\\\\\n",
       "\t2019 & 1201 & 1478 & 1322 & 1406\\\\\n",
       "\t2020 & 1254 & 1289 & 1497 & 1208\\\\\n",
       "\\end{tabular}\n"
      ],
      "text/markdown": [
       "\n",
       "A Time Series: 5 × 4\n",
       "\n",
       "| <!--/--> | Qtr1 | Qtr2 | Qtr3 | Qtr4 |\n",
       "|---|---|---|---|---|\n",
       "| 2016 | 1342 | 1442 | 1252 | 1343 |\n",
       "| 2017 | 1425 | 1362 | 1256 | 1272 |\n",
       "| 2018 | 1243 | 1359 | 1412 | 1253 |\n",
       "| 2019 | 1201 | 1478 | 1322 | 1406 |\n",
       "| 2020 | 1254 | 1289 | 1497 | 1208 |\n",
       "\n"
      ],
      "text/plain": [
       "     Qtr1 Qtr2 Qtr3 Qtr4\n",
       "2016 1342 1442 1252 1343\n",
       "2017 1425 1362 1256 1272\n",
       "2018 1243 1359 1412 1253\n",
       "2019 1201 1478 1322 1406\n",
       "2020 1254 1289 1497 1208"
      ]
     },
     "metadata": {},
     "output_type": "display_data"
    }
   ],
   "source": [
    "dd1.ts <- ts(data=dd1, start=c(2016,1), frequency=4)\n",
    "dd1.ts\n"
   ]
  },
  {
   "cell_type": "code",
   "execution_count": 8,
   "id": "56b4161b",
   "metadata": {},
   "outputs": [],
   "source": [
    "ff <- filter(dd1.ts, filter=rep(1, 4)/4, method=\"convolution\", sides=1)\n",
    "#합성곱 필터링 신경망과 같은것"
   ]
  },
  {
   "cell_type": "code",
   "execution_count": 9,
   "id": "dea56902",
   "metadata": {},
   "outputs": [
    {
     "data": {
      "text/html": [
       "<table class=\"dataframe\">\n",
       "<caption>A Time Series: 5 × 4</caption>\n",
       "<thead>\n",
       "\t<tr><th></th><th scope=col>Qtr1</th><th scope=col>Qtr2</th><th scope=col>Qtr3</th><th scope=col>Qtr4</th></tr>\n",
       "</thead>\n",
       "<tbody>\n",
       "\t<tr><th scope=row>2016</th><td>     NA</td><td>     NA</td><td>     NA</td><td>1344.75</td></tr>\n",
       "\t<tr><th scope=row>2017</th><td>1365.50</td><td>1345.50</td><td>1346.50</td><td>1328.75</td></tr>\n",
       "\t<tr><th scope=row>2018</th><td>1283.25</td><td>1282.50</td><td>1321.50</td><td>1316.75</td></tr>\n",
       "\t<tr><th scope=row>2019</th><td>1306.25</td><td>1336.00</td><td>1313.50</td><td>1351.75</td></tr>\n",
       "\t<tr><th scope=row>2020</th><td>1365.00</td><td>1317.75</td><td>1361.50</td><td>1312.00</td></tr>\n",
       "</tbody>\n",
       "</table>\n"
      ],
      "text/latex": [
       "A Time Series: 5 × 4\n",
       "\\begin{tabular}{r|llll}\n",
       "  & Qtr1 & Qtr2 & Qtr3 & Qtr4\\\\\n",
       "\\hline\n",
       "\t2016 &      NA &      NA &      NA & 1344.75\\\\\n",
       "\t2017 & 1365.50 & 1345.50 & 1346.50 & 1328.75\\\\\n",
       "\t2018 & 1283.25 & 1282.50 & 1321.50 & 1316.75\\\\\n",
       "\t2019 & 1306.25 & 1336.00 & 1313.50 & 1351.75\\\\\n",
       "\t2020 & 1365.00 & 1317.75 & 1361.50 & 1312.00\\\\\n",
       "\\end{tabular}\n"
      ],
      "text/markdown": [
       "\n",
       "A Time Series: 5 × 4\n",
       "\n",
       "| <!--/--> | Qtr1 | Qtr2 | Qtr3 | Qtr4 |\n",
       "|---|---|---|---|---|\n",
       "| 2016 |      NA |      NA |      NA | 1344.75 |\n",
       "| 2017 | 1365.50 | 1345.50 | 1346.50 | 1328.75 |\n",
       "| 2018 | 1283.25 | 1282.50 | 1321.50 | 1316.75 |\n",
       "| 2019 | 1306.25 | 1336.00 | 1313.50 | 1351.75 |\n",
       "| 2020 | 1365.00 | 1317.75 | 1361.50 | 1312.00 |\n",
       "\n"
      ],
      "text/plain": [
       "     Qtr1    Qtr2    Qtr3    Qtr4   \n",
       "2016      NA      NA      NA 1344.75\n",
       "2017 1365.50 1345.50 1346.50 1328.75\n",
       "2018 1283.25 1282.50 1321.50 1316.75\n",
       "2019 1306.25 1336.00 1313.50 1351.75\n",
       "2020 1365.00 1317.75 1361.50 1312.00"
      ]
     },
     "metadata": {},
     "output_type": "display_data"
    }
   ],
   "source": [
    "ff"
   ]
  },
  {
   "cell_type": "code",
   "execution_count": 10,
   "id": "5ff718f0",
   "metadata": {},
   "outputs": [
    {
     "data": {
      "image/png": "[encoded data removed]",
      "text/plain": [
       "Plot with title \"Simple Moving Average Smoothing: dd1\""
      ]
     },
     "metadata": {
      "image/png": {
       "height": 420,
       "width": 420
      }
     },
     "output_type": "display_data"
    }
   ],
   "source": [
    "plot(dd1.ts, main=\"Simple Moving Average Smoothing: dd1\")\n",
    "lines(ff, col=\"red\", lty=2, lwd=2)\n",
    "abline(h=mean(dd1.ts), col='red')\n"
   ]
  },
  {
   "cell_type": "code",
   "execution_count": null,
   "id": "f4b58463",
   "metadata": {},
   "outputs": [],
   "source": [
    "#진행위치, 시작위치가 조금 밀리게 된다.(이동평활을 하게되면)\n",
    "#원본 데이터의 특징, 변동특징은 어느정도 유지하면서 줄어드는 것을 알 수 있다"
   ]
  },
  {
   "cell_type": "markdown",
   "id": "d4a4310f",
   "metadata": {},
   "source": [
    "### Box-Pierce test\n",
    "* 귀무가설은 독립적이다.\n",
    "* 대립가설은 자기상관이 있다\n",
    "* p-value가 0.05보다 크면 독립성 획득, 0.05보다 작으면 자기 상관성 유지"
   ]
  },
  {
   "cell_type": "code",
   "execution_count": 11,
   "id": "b6f90633",
   "metadata": {},
   "outputs": [
    {
     "data": {
      "text/plain": [
       "\n",
       "\tBox-Pierce test\n",
       "\n",
       "data:  res\n",
       "X-squared = 0.68668, df = 1, p-value = 0.4073\n"
      ]
     },
     "metadata": {},
     "output_type": "display_data"
    }
   ],
   "source": [
    "res <- ff[-1:-3, ] - dd1.ts[-1:-3, ]\n",
    "Box.test(res)\n"
   ]
  },
  {
   "cell_type": "markdown",
   "id": "ca1341da",
   "metadata": {},
   "source": [
    "## 2. 이중 이동평균 평활법 (Double Moving Average Smoothing)\n"
   ]
  },
  {
   "cell_type": "code",
   "execution_count": 12,
   "id": "b81c6f1b",
   "metadata": {},
   "outputs": [],
   "source": [
    "ff1 <- filter(dd1.ts, filter=rep(1,3)/3, method=\"convolution\", sides=1)\n",
    "ff2 <- filter(ff1, filter=rep(1,3)/3, method=\"convolution\", sides=1)\n"
   ]
  },
  {
   "cell_type": "code",
   "execution_count": 13,
   "id": "3818a4a8",
   "metadata": {},
   "outputs": [
    {
     "data": {
      "text/html": [
       "<table class=\"dataframe\">\n",
       "<caption>A Time Series: 5 × 4</caption>\n",
       "<thead>\n",
       "\t<tr><th></th><th scope=col>Qtr1</th><th scope=col>Qtr2</th><th scope=col>Qtr3</th><th scope=col>Qtr4</th></tr>\n",
       "</thead>\n",
       "<tbody>\n",
       "\t<tr><th scope=row>2016</th><td>      NA</td><td>      NA</td><td>1345.333</td><td>1345.667</td></tr>\n",
       "\t<tr><th scope=row>2017</th><td>1340.000</td><td>1376.667</td><td>1347.667</td><td>1296.667</td></tr>\n",
       "\t<tr><th scope=row>2018</th><td>1257.000</td><td>1291.333</td><td>1338.000</td><td>1341.333</td></tr>\n",
       "\t<tr><th scope=row>2019</th><td>1288.667</td><td>1310.667</td><td>1333.667</td><td>1402.000</td></tr>\n",
       "\t<tr><th scope=row>2020</th><td>1327.333</td><td>1316.333</td><td>1346.667</td><td>1331.333</td></tr>\n",
       "</tbody>\n",
       "</table>\n"
      ],
      "text/latex": [
       "A Time Series: 5 × 4\n",
       "\\begin{tabular}{r|llll}\n",
       "  & Qtr1 & Qtr2 & Qtr3 & Qtr4\\\\\n",
       "\\hline\n",
       "\t2016 &       NA &       NA & 1345.333 & 1345.667\\\\\n",
       "\t2017 & 1340.000 & 1376.667 & 1347.667 & 1296.667\\\\\n",
       "\t2018 & 1257.000 & 1291.333 & 1338.000 & 1341.333\\\\\n",
       "\t2019 & 1288.667 & 1310.667 & 1333.667 & 1402.000\\\\\n",
       "\t2020 & 1327.333 & 1316.333 & 1346.667 & 1331.333\\\\\n",
       "\\end{tabular}\n"
      ],
      "text/markdown": [
       "\n",
       "A Time Series: 5 × 4\n",
       "\n",
       "| <!--/--> | Qtr1 | Qtr2 | Qtr3 | Qtr4 |\n",
       "|---|---|---|---|---|\n",
       "| 2016 |       NA |       NA | 1345.333 | 1345.667 |\n",
       "| 2017 | 1340.000 | 1376.667 | 1347.667 | 1296.667 |\n",
       "| 2018 | 1257.000 | 1291.333 | 1338.000 | 1341.333 |\n",
       "| 2019 | 1288.667 | 1310.667 | 1333.667 | 1402.000 |\n",
       "| 2020 | 1327.333 | 1316.333 | 1346.667 | 1331.333 |\n",
       "\n"
      ],
      "text/plain": [
       "     Qtr1     Qtr2     Qtr3     Qtr4    \n",
       "2016       NA       NA 1345.333 1345.667\n",
       "2017 1340.000 1376.667 1347.667 1296.667\n",
       "2018 1257.000 1291.333 1338.000 1341.333\n",
       "2019 1288.667 1310.667 1333.667 1402.000\n",
       "2020 1327.333 1316.333 1346.667 1331.333"
      ]
     },
     "metadata": {},
     "output_type": "display_data"
    }
   ],
   "source": [
    "ff1"
   ]
  },
  {
   "cell_type": "code",
   "execution_count": 14,
   "id": "ee2b05cd",
   "metadata": {},
   "outputs": [
    {
     "data": {
      "text/html": [
       "<table class=\"dataframe\">\n",
       "<caption>A Time Series: 5 × 4</caption>\n",
       "<thead>\n",
       "\t<tr><th></th><th scope=col>Qtr1</th><th scope=col>Qtr2</th><th scope=col>Qtr3</th><th scope=col>Qtr4</th></tr>\n",
       "</thead>\n",
       "<tbody>\n",
       "\t<tr><th scope=row>2016</th><td>      NA</td><td>      NA</td><td>      NA</td><td>      NA</td></tr>\n",
       "\t<tr><th scope=row>2017</th><td>1343.667</td><td>1354.111</td><td>1354.778</td><td>1340.333</td></tr>\n",
       "\t<tr><th scope=row>2018</th><td>1300.444</td><td>1281.667</td><td>1295.444</td><td>1323.556</td></tr>\n",
       "\t<tr><th scope=row>2019</th><td>1322.667</td><td>1313.556</td><td>1311.000</td><td>1348.778</td></tr>\n",
       "\t<tr><th scope=row>2020</th><td>1354.333</td><td>1348.556</td><td>1330.111</td><td>1331.444</td></tr>\n",
       "</tbody>\n",
       "</table>\n"
      ],
      "text/latex": [
       "A Time Series: 5 × 4\n",
       "\\begin{tabular}{r|llll}\n",
       "  & Qtr1 & Qtr2 & Qtr3 & Qtr4\\\\\n",
       "\\hline\n",
       "\t2016 &       NA &       NA &       NA &       NA\\\\\n",
       "\t2017 & 1343.667 & 1354.111 & 1354.778 & 1340.333\\\\\n",
       "\t2018 & 1300.444 & 1281.667 & 1295.444 & 1323.556\\\\\n",
       "\t2019 & 1322.667 & 1313.556 & 1311.000 & 1348.778\\\\\n",
       "\t2020 & 1354.333 & 1348.556 & 1330.111 & 1331.444\\\\\n",
       "\\end{tabular}\n"
      ],
      "text/markdown": [
       "\n",
       "A Time Series: 5 × 4\n",
       "\n",
       "| <!--/--> | Qtr1 | Qtr2 | Qtr3 | Qtr4 |\n",
       "|---|---|---|---|---|\n",
       "| 2016 |       NA |       NA |       NA |       NA |\n",
       "| 2017 | 1343.667 | 1354.111 | 1354.778 | 1340.333 |\n",
       "| 2018 | 1300.444 | 1281.667 | 1295.444 | 1323.556 |\n",
       "| 2019 | 1322.667 | 1313.556 | 1311.000 | 1348.778 |\n",
       "| 2020 | 1354.333 | 1348.556 | 1330.111 | 1331.444 |\n",
       "\n"
      ],
      "text/plain": [
       "     Qtr1     Qtr2     Qtr3     Qtr4    \n",
       "2016       NA       NA       NA       NA\n",
       "2017 1343.667 1354.111 1354.778 1340.333\n",
       "2018 1300.444 1281.667 1295.444 1323.556\n",
       "2019 1322.667 1313.556 1311.000 1348.778\n",
       "2020 1354.333 1348.556 1330.111 1331.444"
      ]
     },
     "metadata": {},
     "output_type": "display_data"
    }
   ],
   "source": [
    "ff2"
   ]
  },
  {
   "cell_type": "code",
   "execution_count": 15,
   "id": "dac9e1a5",
   "metadata": {},
   "outputs": [
    {
     "data": {
      "image/png": "[encoded data removed]",
      "text/plain": [
       "Plot with title \"Double Moving Average Smoothing: dd1\""
      ]
     },
     "metadata": {
      "image/png": {
       "height": 420,
       "width": 420
      }
     },
     "output_type": "display_data"
    }
   ],
   "source": [
    "plot(dd1.ts, main=\"Double Moving Average Smoothing: dd1\")\n",
    "lines(ff2, col=\"red\", lty=2, lwd=2)\n",
    "abline(h=mean(dd1.ts), col='red')\n"
   ]
  },
  {
   "cell_type": "code",
   "execution_count": 16,
   "id": "e9a8a47d",
   "metadata": {},
   "outputs": [
    {
     "data": {
      "text/plain": [
       "\n",
       "\tBox-Pierce test\n",
       "\n",
       "data:  res\n",
       "X-squared = 0.737, df = 1, p-value = 0.3906\n"
      ]
     },
     "metadata": {},
     "output_type": "display_data"
    }
   ],
   "source": [
    "res <- ff2[-1:-3, ] - dd1.ts[-1:-3, ]\n",
    "Box.test(res)\n"
   ]
  },
  {
   "cell_type": "markdown",
   "id": "e185ad2d",
   "metadata": {},
   "source": [
    "### 3. 가중 이동평균 평활법 (Weighted Moving Average Smoothing)\n",
    "* 최근 트렌드에 가중치를 두고 평활\n"
   ]
  },
  {
   "cell_type": "code",
   "execution_count": 17,
   "id": "6fdc2906",
   "metadata": {},
   "outputs": [],
   "source": [
    "w1 <- c(0.4, 0.3, 0.2, 0.1)  # 직전 시간에 40%, 전전시간 30%\n",
    "ff3 <- filter(dd1.ts, filter=w1, method=\"convolution\", sides=1)\n"
   ]
  },
  {
   "cell_type": "code",
   "execution_count": 18,
   "id": "71f42918",
   "metadata": {},
   "outputs": [
    {
     "data": {
      "image/png": "[encoded data removed]",
      "text/plain": [
       "Plot with title \"Weighted Moving Average Smoothing: dd1\""
      ]
     },
     "metadata": {
      "image/png": {
       "height": 420,
       "width": 420
      }
     },
     "output_type": "display_data"
    }
   ],
   "source": [
    "plot(dd1.ts, main=\"Weighted Moving Average Smoothing: dd1\")\n",
    "lines(ff3, col=\"red\", lty=2, lwd=2)\n",
    "abline(h=mean(dd1.ts), col='red')\n"
   ]
  },
  {
   "cell_type": "code",
   "execution_count": 19,
   "id": "73c715c8",
   "metadata": {},
   "outputs": [
    {
     "data": {
      "text/plain": [
       "\n",
       "\tBox-Pierce test\n",
       "\n",
       "data:  res\n",
       "X-squared = 1.2749, df = 1, p-value = 0.2588\n"
      ]
     },
     "metadata": {},
     "output_type": "display_data"
    }
   ],
   "source": [
    "res <- ff3[-1:-3, ] - dd1.ts[-1:-3, ]\n",
    "Box.test(res)"
   ]
  },
  {
   "cell_type": "markdown",
   "id": "6eb10b92",
   "metadata": {},
   "source": [
    "4. 이중 가중 이동평균 평활법 (Double Weight Moving Average Smoothing)\n"
   ]
  },
  {
   "cell_type": "code",
   "execution_count": 20,
   "id": "9ec148c9",
   "metadata": {},
   "outputs": [
    {
     "data": {
      "text/html": [
       "<table class=\"dataframe\">\n",
       "<caption>A Time Series: 5 × 4</caption>\n",
       "<thead>\n",
       "\t<tr><th></th><th scope=col>Qtr1</th><th scope=col>Qtr2</th><th scope=col>Qtr3</th><th scope=col>Qtr4</th></tr>\n",
       "</thead>\n",
       "<tbody>\n",
       "\t<tr><th scope=row>2016</th><td>     NA</td><td>     NA</td><td>     NA</td><td>     NA</td></tr>\n",
       "\t<tr><th scope=row>2017</th><td>     NA</td><td>     NA</td><td>1348.99</td><td>1329.26</td></tr>\n",
       "\t<tr><th scope=row>2018</th><td>1299.30</td><td>1291.59</td><td>1311.56</td><td>1318.77</td></tr>\n",
       "\t<tr><th scope=row>2019</th><td>1305.42</td><td>1318.71</td><td>1325.08</td><td>1347.31</td></tr>\n",
       "\t<tr><th scope=row>2020</th><td>1348.52</td><td>1331.47</td><td>1346.91</td><td>1333.87</td></tr>\n",
       "</tbody>\n",
       "</table>\n"
      ],
      "text/latex": [
       "A Time Series: 5 × 4\n",
       "\\begin{tabular}{r|llll}\n",
       "  & Qtr1 & Qtr2 & Qtr3 & Qtr4\\\\\n",
       "\\hline\n",
       "\t2016 &      NA &      NA &      NA &      NA\\\\\n",
       "\t2017 &      NA &      NA & 1348.99 & 1329.26\\\\\n",
       "\t2018 & 1299.30 & 1291.59 & 1311.56 & 1318.77\\\\\n",
       "\t2019 & 1305.42 & 1318.71 & 1325.08 & 1347.31\\\\\n",
       "\t2020 & 1348.52 & 1331.47 & 1346.91 & 1333.87\\\\\n",
       "\\end{tabular}\n"
      ],
      "text/markdown": [
       "\n",
       "A Time Series: 5 × 4\n",
       "\n",
       "| <!--/--> | Qtr1 | Qtr2 | Qtr3 | Qtr4 |\n",
       "|---|---|---|---|---|\n",
       "| 2016 |      NA |      NA |      NA |      NA |\n",
       "| 2017 |      NA |      NA | 1348.99 | 1329.26 |\n",
       "| 2018 | 1299.30 | 1291.59 | 1311.56 | 1318.77 |\n",
       "| 2019 | 1305.42 | 1318.71 | 1325.08 | 1347.31 |\n",
       "| 2020 | 1348.52 | 1331.47 | 1346.91 | 1333.87 |\n",
       "\n"
      ],
      "text/plain": [
       "     Qtr1    Qtr2    Qtr3    Qtr4   \n",
       "2016      NA      NA      NA      NA\n",
       "2017      NA      NA 1348.99 1329.26\n",
       "2018 1299.30 1291.59 1311.56 1318.77\n",
       "2019 1305.42 1318.71 1325.08 1347.31\n",
       "2020 1348.52 1331.47 1346.91 1333.87"
      ]
     },
     "metadata": {},
     "output_type": "display_data"
    }
   ],
   "source": [
    "w1 <- c(0.4, 0.3, 0.2, 0.1)  # 직전 시간에 40%, 전전시간 30%\n",
    "ff3 <- filter(dd1.ts, filter=w1, method=\"convolution\", sides=1)\n",
    "ff4 <- filter(ff3, filter=w1, method=\"convolution\", sides=1)\n",
    "ff4"
   ]
  },
  {
   "cell_type": "code",
   "execution_count": 21,
   "id": "dd406d0b",
   "metadata": {},
   "outputs": [
    {
     "data": {
      "image/png": "[encoded data removed]",
      "text/plain": [
       "Plot with title \"Double Weight Moving Average Smoothing\""
      ]
     },
     "metadata": {
      "image/png": {
       "height": 420,
       "width": 420
      }
     },
     "output_type": "display_data"
    }
   ],
   "source": [
    "plot(dd1.ts, main=\"Double Weight Moving Average Smoothing\")\n",
    "lines(ff4, col=\"red\", lty=2, lwd=2)\n",
    "abline(h=mean(dd1.ts), col='red')\n"
   ]
  },
  {
   "cell_type": "code",
   "execution_count": null,
   "id": "9bf5d3ab",
   "metadata": {},
   "outputs": [],
   "source": [
    "# 평활작업을했으니 미래값이 어떻게 될지 예측할 수 있다"
   ]
  },
  {
   "cell_type": "code",
   "execution_count": 22,
   "id": "06589c45",
   "metadata": {},
   "outputs": [
    {
     "name": "stderr",
     "output_type": "stream",
     "text": [
      "Warning message in ets(object, lambda = lambda, biasadj = biasadj, allow.multiplicative.trend = allow.multiplicative.trend, :\n",
      "\"Missing values encountered. Using longest contiguous portion of time series\"\n",
      "Warning message in ets(object, lambda = lambda, biasadj = biasadj, allow.multiplicative.trend = allow.multiplicative.trend, :\n",
      "\"Missing values encountered. Using longest contiguous portion of time series\"\n",
      "Warning message in ets(object, lambda = lambda, biasadj = biasadj, allow.multiplicative.trend = allow.multiplicative.trend, :\n",
      "\"Missing values encountered. Using longest contiguous portion of time series\"\n",
      "Warning message in ets(object, lambda = lambda, biasadj = biasadj, allow.multiplicative.trend = allow.multiplicative.trend, :\n",
      "\"Missing values encountered. Using longest contiguous portion of time series\"\n"
     ]
    }
   ],
   "source": [
    "f1 <- forecast(ff, h=1)  # 1시점 미래 값 예측\n",
    "f2 <- forecast(ff2, h=1)\n",
    "f3 <- forecast(ff3, h=1)\n",
    "f4 <- forecast(ff4, h=1)\n"
   ]
  },
  {
   "cell_type": "code",
   "execution_count": 23,
   "id": "b9102e4a",
   "metadata": {},
   "outputs": [
    {
     "data": {
      "text/plain": [
       "        Point Forecast    Lo 80    Hi 80    Lo 95   Hi 95\n",
       "2021 Q1       1330.823 1295.575 1366.071 1276.916 1384.73"
      ]
     },
     "metadata": {},
     "output_type": "display_data"
    }
   ],
   "source": [
    "f1"
   ]
  },
  {
   "cell_type": "markdown",
   "id": "f77c437c",
   "metadata": {},
   "source": [
    "우유값 데이터를 가지고 예측을 한건데 2021년 1분기 예측값은  1330.823이 될것 신뢰구간 80퍼 안에서 가격과, 신뢰구간 95 안에서의 가격은 이렇게 된다라는 의미"
   ]
  },
  {
   "cell_type": "code",
   "execution_count": 25,
   "id": "f0f3bb08",
   "metadata": {},
   "outputs": [
    {
     "data": {
      "text/plain": [
       "        Point Forecast    Lo 80    Hi 80   Lo 95    Hi 95\n",
       "2021 Q1       1331.444 1306.824 1356.065 1293.79 1369.098"
      ]
     },
     "metadata": {},
     "output_type": "display_data"
    }
   ],
   "source": [
    "f2"
   ]
  },
  {
   "cell_type": "code",
   "execution_count": 26,
   "id": "535592a4",
   "metadata": {},
   "outputs": [
    {
     "data": {
      "text/plain": [
       "        Point Forecast    Lo 80    Hi 80    Lo 95    Hi 95\n",
       "2021 Q1       1329.126 1285.268 1372.984 1262.051 1396.201"
      ]
     },
     "metadata": {},
     "output_type": "display_data"
    }
   ],
   "source": [
    "f3"
   ]
  },
  {
   "cell_type": "code",
   "execution_count": 27,
   "id": "7e2c6b9d",
   "metadata": {},
   "outputs": [
    {
     "data": {
      "text/plain": [
       "        Point Forecast   Lo 80    Hi 80    Lo 95    Hi 95\n",
       "2021 Q1       1333.871 1312.34 1355.403 1300.942 1366.801"
      ]
     },
     "metadata": {},
     "output_type": "display_data"
    }
   ],
   "source": [
    "f4"
   ]
  },
  {
   "cell_type": "markdown",
   "id": "8e722354",
   "metadata": {},
   "source": [
    "# 요소분해\n",
    "* 계절성, 추세성, 주기변동 등 다양한 변동 성분이 있는데 그것을 분해해서 정상 시계열로 만들어주는 것\n",
    "* 선형적으로 구성되는 가법모형(Additive)\n",
    "* 비선형적으로 구성되는 승법모형(Multiplicative)\n"
   ]
  },
  {
   "cell_type": "markdown",
   "id": "e49ac91b",
   "metadata": {},
   "source": [
    "시계열 자료의 분해 decompose (가법모형)\n"
   ]
  },
  {
   "cell_type": "code",
   "execution_count": 28,
   "id": "99988af9",
   "metadata": {},
   "outputs": [],
   "source": [
    "# 기본 시계열 자료\n",
    "dd <- matrix( c(1342, 1442, 1252, 1343,\n",
    "                1425, 1362, 1256, 1272,\n",
    "                  1243, 1359, 1412, 1253,\n",
    "                1201, 1478, 1322, 1406,\n",
    "                1254, 1289, 1497, 1208))\n",
    "\n",
    "dd.ts <- ts(data=dd, start=c(2016, 1), frequency=4)\n",
    "\n",
    "# 계절변동 자료\n",
    "dd2 <- matrix( c(1142, 1242, 1452, 1543,\n",
    "                1125, 1262, 1456, 1572,\n",
    "                  1143, 1259, 1412, 1553,\n",
    "                1121, 1258, 1472, 1546,\n",
    "                1154, 1249, 1477, 1548))\n",
    "\n",
    "# 계절추세변동 자료\n",
    "dd4 <- matrix( c(1142, 1242, 1452, 1543,\n",
    "                1225, 1362, 1556, 1672,\n",
    "                  1343, 1459, 1662, 1753,\n",
    "                1421, 1558, 1772, 1846,\n",
    "                1554, 1649, 1877, 1948))\n"
   ]
  },
  {
   "cell_type": "code",
   "execution_count": 29,
   "id": "078b1296",
   "metadata": {},
   "outputs": [],
   "source": [
    "dd.ts <- ts(data=dd, start=c(2016, 1), frequency=4)\n",
    "dd2.ts <- ts(data=dd2, start=c(2016, 1), frequency=4)\n",
    "dd4.ts <- ts(data=dd4, start=c(2016, 1), frequency=4)\n"
   ]
  },
  {
   "cell_type": "code",
   "execution_count": 30,
   "id": "4c784bb1",
   "metadata": {},
   "outputs": [
    {
     "data": {
      "text/html": [
       "<table class=\"dataframe\">\n",
       "<caption>A Time Series: 5 × 4</caption>\n",
       "<thead>\n",
       "\t<tr><th></th><th scope=col>Qtr1</th><th scope=col>Qtr2</th><th scope=col>Qtr3</th><th scope=col>Qtr4</th></tr>\n",
       "</thead>\n",
       "<tbody>\n",
       "\t<tr><th scope=row>2016</th><td>1342</td><td>1442</td><td>1252</td><td>1343</td></tr>\n",
       "\t<tr><th scope=row>2017</th><td>1425</td><td>1362</td><td>1256</td><td>1272</td></tr>\n",
       "\t<tr><th scope=row>2018</th><td>1243</td><td>1359</td><td>1412</td><td>1253</td></tr>\n",
       "\t<tr><th scope=row>2019</th><td>1201</td><td>1478</td><td>1322</td><td>1406</td></tr>\n",
       "\t<tr><th scope=row>2020</th><td>1254</td><td>1289</td><td>1497</td><td>1208</td></tr>\n",
       "</tbody>\n",
       "</table>\n"
      ],
      "text/latex": [
       "A Time Series: 5 × 4\n",
       "\\begin{tabular}{r|llll}\n",
       "  & Qtr1 & Qtr2 & Qtr3 & Qtr4\\\\\n",
       "\\hline\n",
       "\t2016 & 1342 & 1442 & 1252 & 1343\\\\\n",
       "\t2017 & 1425 & 1362 & 1256 & 1272\\\\\n",
       "\t2018 & 1243 & 1359 & 1412 & 1253\\\\\n",
       "\t2019 & 1201 & 1478 & 1322 & 1406\\\\\n",
       "\t2020 & 1254 & 1289 & 1497 & 1208\\\\\n",
       "\\end{tabular}\n"
      ],
      "text/markdown": [
       "\n",
       "A Time Series: 5 × 4\n",
       "\n",
       "| <!--/--> | Qtr1 | Qtr2 | Qtr3 | Qtr4 |\n",
       "|---|---|---|---|---|\n",
       "| 2016 | 1342 | 1442 | 1252 | 1343 |\n",
       "| 2017 | 1425 | 1362 | 1256 | 1272 |\n",
       "| 2018 | 1243 | 1359 | 1412 | 1253 |\n",
       "| 2019 | 1201 | 1478 | 1322 | 1406 |\n",
       "| 2020 | 1254 | 1289 | 1497 | 1208 |\n",
       "\n"
      ],
      "text/plain": [
       "     Qtr1 Qtr2 Qtr3 Qtr4\n",
       "2016 1342 1442 1252 1343\n",
       "2017 1425 1362 1256 1272\n",
       "2018 1243 1359 1412 1253\n",
       "2019 1201 1478 1322 1406\n",
       "2020 1254 1289 1497 1208"
      ]
     },
     "metadata": {},
     "output_type": "display_data"
    }
   ],
   "source": [
    "dd.ts "
   ]
  },
  {
   "cell_type": "code",
   "execution_count": 31,
   "id": "41f91f95",
   "metadata": {},
   "outputs": [
    {
     "data": {
      "text/html": [
       "<table class=\"dataframe\">\n",
       "<caption>A Time Series: 5 × 4</caption>\n",
       "<thead>\n",
       "\t<tr><th></th><th scope=col>Qtr1</th><th scope=col>Qtr2</th><th scope=col>Qtr3</th><th scope=col>Qtr4</th></tr>\n",
       "</thead>\n",
       "<tbody>\n",
       "\t<tr><th scope=row>2016</th><td>1142</td><td>1242</td><td>1452</td><td>1543</td></tr>\n",
       "\t<tr><th scope=row>2017</th><td>1125</td><td>1262</td><td>1456</td><td>1572</td></tr>\n",
       "\t<tr><th scope=row>2018</th><td>1143</td><td>1259</td><td>1412</td><td>1553</td></tr>\n",
       "\t<tr><th scope=row>2019</th><td>1121</td><td>1258</td><td>1472</td><td>1546</td></tr>\n",
       "\t<tr><th scope=row>2020</th><td>1154</td><td>1249</td><td>1477</td><td>1548</td></tr>\n",
       "</tbody>\n",
       "</table>\n"
      ],
      "text/latex": [
       "A Time Series: 5 × 4\n",
       "\\begin{tabular}{r|llll}\n",
       "  & Qtr1 & Qtr2 & Qtr3 & Qtr4\\\\\n",
       "\\hline\n",
       "\t2016 & 1142 & 1242 & 1452 & 1543\\\\\n",
       "\t2017 & 1125 & 1262 & 1456 & 1572\\\\\n",
       "\t2018 & 1143 & 1259 & 1412 & 1553\\\\\n",
       "\t2019 & 1121 & 1258 & 1472 & 1546\\\\\n",
       "\t2020 & 1154 & 1249 & 1477 & 1548\\\\\n",
       "\\end{tabular}\n"
      ],
      "text/markdown": [
       "\n",
       "A Time Series: 5 × 4\n",
       "\n",
       "| <!--/--> | Qtr1 | Qtr2 | Qtr3 | Qtr4 |\n",
       "|---|---|---|---|---|\n",
       "| 2016 | 1142 | 1242 | 1452 | 1543 |\n",
       "| 2017 | 1125 | 1262 | 1456 | 1572 |\n",
       "| 2018 | 1143 | 1259 | 1412 | 1553 |\n",
       "| 2019 | 1121 | 1258 | 1472 | 1546 |\n",
       "| 2020 | 1154 | 1249 | 1477 | 1548 |\n",
       "\n"
      ],
      "text/plain": [
       "     Qtr1 Qtr2 Qtr3 Qtr4\n",
       "2016 1142 1242 1452 1543\n",
       "2017 1125 1262 1456 1572\n",
       "2018 1143 1259 1412 1553\n",
       "2019 1121 1258 1472 1546\n",
       "2020 1154 1249 1477 1548"
      ]
     },
     "metadata": {},
     "output_type": "display_data"
    }
   ],
   "source": [
    "dd2.ts "
   ]
  },
  {
   "cell_type": "code",
   "execution_count": 32,
   "id": "5c8ba69b",
   "metadata": {},
   "outputs": [
    {
     "data": {
      "text/html": [
       "<table class=\"dataframe\">\n",
       "<caption>A Time Series: 5 × 4</caption>\n",
       "<thead>\n",
       "\t<tr><th></th><th scope=col>Qtr1</th><th scope=col>Qtr2</th><th scope=col>Qtr3</th><th scope=col>Qtr4</th></tr>\n",
       "</thead>\n",
       "<tbody>\n",
       "\t<tr><th scope=row>2016</th><td>1142</td><td>1242</td><td>1452</td><td>1543</td></tr>\n",
       "\t<tr><th scope=row>2017</th><td>1225</td><td>1362</td><td>1556</td><td>1672</td></tr>\n",
       "\t<tr><th scope=row>2018</th><td>1343</td><td>1459</td><td>1662</td><td>1753</td></tr>\n",
       "\t<tr><th scope=row>2019</th><td>1421</td><td>1558</td><td>1772</td><td>1846</td></tr>\n",
       "\t<tr><th scope=row>2020</th><td>1554</td><td>1649</td><td>1877</td><td>1948</td></tr>\n",
       "</tbody>\n",
       "</table>\n"
      ],
      "text/latex": [
       "A Time Series: 5 × 4\n",
       "\\begin{tabular}{r|llll}\n",
       "  & Qtr1 & Qtr2 & Qtr3 & Qtr4\\\\\n",
       "\\hline\n",
       "\t2016 & 1142 & 1242 & 1452 & 1543\\\\\n",
       "\t2017 & 1225 & 1362 & 1556 & 1672\\\\\n",
       "\t2018 & 1343 & 1459 & 1662 & 1753\\\\\n",
       "\t2019 & 1421 & 1558 & 1772 & 1846\\\\\n",
       "\t2020 & 1554 & 1649 & 1877 & 1948\\\\\n",
       "\\end{tabular}\n"
      ],
      "text/markdown": [
       "\n",
       "A Time Series: 5 × 4\n",
       "\n",
       "| <!--/--> | Qtr1 | Qtr2 | Qtr3 | Qtr4 |\n",
       "|---|---|---|---|---|\n",
       "| 2016 | 1142 | 1242 | 1452 | 1543 |\n",
       "| 2017 | 1225 | 1362 | 1556 | 1672 |\n",
       "| 2018 | 1343 | 1459 | 1662 | 1753 |\n",
       "| 2019 | 1421 | 1558 | 1772 | 1846 |\n",
       "| 2020 | 1554 | 1649 | 1877 | 1948 |\n",
       "\n"
      ],
      "text/plain": [
       "     Qtr1 Qtr2 Qtr3 Qtr4\n",
       "2016 1142 1242 1452 1543\n",
       "2017 1225 1362 1556 1672\n",
       "2018 1343 1459 1662 1753\n",
       "2019 1421 1558 1772 1846\n",
       "2020 1554 1649 1877 1948"
      ]
     },
     "metadata": {},
     "output_type": "display_data"
    }
   ],
   "source": [
    "dd4.ts"
   ]
  },
  {
   "cell_type": "code",
   "execution_count": 33,
   "id": "b59bb20b",
   "metadata": {},
   "outputs": [
    {
     "data": {
      "image/png": "[encoded data removed]",
      "text/plain": [
       "plot without title"
      ]
     },
     "metadata": {
      "image/png": {
       "height": 420,
       "width": 420
      }
     },
     "output_type": "display_data"
    }
   ],
   "source": [
    "plot(dd.ts)\n"
   ]
  },
  {
   "cell_type": "code",
   "execution_count": 34,
   "id": "4c6922ec",
   "metadata": {},
   "outputs": [
    {
     "data": {
      "image/png": "[encoded data removed]",
      "text/plain": [
       "plot without title"
      ]
     },
     "metadata": {
      "image/png": {
       "height": 420,
       "width": 420
      }
     },
     "output_type": "display_data"
    }
   ],
   "source": [
    "plot(dd2.ts)\n"
   ]
  },
  {
   "cell_type": "code",
   "execution_count": 35,
   "id": "64576889",
   "metadata": {},
   "outputs": [
    {
     "data": {
      "image/png": "[encoded data removed]",
      "text/plain": [
       "plot without title"
      ]
     },
     "metadata": {
      "image/png": {
       "height": 420,
       "width": 420
      }
     },
     "output_type": "display_data"
    }
   ],
   "source": [
    "plot(dd4.ts)\n"
   ]
  },
  {
   "cell_type": "code",
   "execution_count": 37,
   "id": "9dd23247",
   "metadata": {},
   "outputs": [],
   "source": [
    "#디컴포즈로 정상을 분해하면 랜덤한 모형 가지게 된다"
   ]
  },
  {
   "cell_type": "code",
   "execution_count": 39,
   "id": "699ce08e",
   "metadata": {},
   "outputs": [
    {
     "data": {
      "image/png": "[encoded data removed]",
      "text/plain": [
       "plot without title"
      ]
     },
     "metadata": {
      "image/png": {
       "height": 420,
       "width": 420
      }
     },
     "output_type": "display_data"
    }
   ],
   "source": [
    "plot(decompose(dd.ts, type='additive'))  # 차분\n"
   ]
  },
  {
   "cell_type": "code",
   "execution_count": 36,
   "id": "068a254c",
   "metadata": {},
   "outputs": [
    {
     "data": {
      "image/png": "[encoded data removed]",
      "text/plain": [
       "plot without title"
      ]
     },
     "metadata": {
      "image/png": {
       "height": 420,
       "width": 420
      }
     },
     "output_type": "display_data"
    }
   ],
   "source": [
    "plot(decompose(dd2.ts, type='additive'))  # 차분\n"
   ]
  },
  {
   "cell_type": "code",
   "execution_count": 38,
   "id": "330bac69",
   "metadata": {},
   "outputs": [
    {
     "data": {
      "image/png": "[encoded data removed]",
      "text/plain": [
       "plot without title"
      ]
     },
     "metadata": {
      "image/png": {
       "height": 420,
       "width": 420
      }
     },
     "output_type": "display_data"
    }
   ],
   "source": [
    "plot(decompose(dd4.ts, type='additive'))  # 차분\n",
    "#추세랑 계절성 모두 가지고 있는 =dd4"
   ]
  },
  {
   "cell_type": "code",
   "execution_count": 41,
   "id": "95d077c6",
   "metadata": {},
   "outputs": [
    {
     "data": {
      "text/plain": [
       "$x\n",
       "     Qtr1 Qtr2 Qtr3 Qtr4\n",
       "2016 1142 1242 1452 1543\n",
       "2017 1225 1362 1556 1672\n",
       "2018 1343 1459 1662 1753\n",
       "2019 1421 1558 1772 1846\n",
       "2020 1554 1649 1877 1948\n",
       "\n",
       "$seasonal\n",
       "           Qtr1       Qtr2       Qtr3       Qtr4\n",
       "2016 -178.85156  -83.53906   97.49219  164.89844\n",
       "2017 -178.85156  -83.53906   97.49219  164.89844\n",
       "2018 -178.85156  -83.53906   97.49219  164.89844\n",
       "2019 -178.85156  -83.53906   97.49219  164.89844\n",
       "2020 -178.85156  -83.53906   97.49219  164.89844\n",
       "\n",
       "$trend\n",
       "         Qtr1     Qtr2     Qtr3     Qtr4\n",
       "2016       NA       NA 1355.125 1380.500\n",
       "2017 1408.500 1437.625 1468.500 1495.375\n",
       "2018 1520.750 1544.125 1564.000 1586.125\n",
       "2019 1612.250 1637.625 1665.875 1693.875\n",
       "2020 1718.375 1744.250       NA       NA\n",
       "\n",
       "$random\n",
       "            Qtr1        Qtr2        Qtr3        Qtr4\n",
       "2016          NA          NA  -0.6171875  -2.3984375\n",
       "2017  -4.6484375   7.9140625  -9.9921875  11.7265625\n",
       "2018   1.1015625  -1.5859375   0.5078125   1.9765625\n",
       "2019 -12.3984375   3.9140625   8.6328125 -12.7734375\n",
       "2020  14.4765625 -11.7109375          NA          NA\n",
       "\n",
       "$figure\n",
       "[1] -178.85156  -83.53906   97.49219  164.89844\n",
       "\n",
       "$type\n",
       "[1] \"additive\"\n",
       "\n",
       "attr(,\"class\")\n",
       "[1] \"decomposed.ts\""
      ]
     },
     "metadata": {},
     "output_type": "display_data"
    }
   ],
   "source": [
    "dd4_a <- decompose(dd4.ts, type='a')\n",
    "dd4_a "
   ]
  },
  {
   "cell_type": "code",
   "execution_count": 42,
   "id": "1ec1ad54",
   "metadata": {},
   "outputs": [
    {
     "data": {
      "text/html": [
       "<table class=\"dataframe\">\n",
       "<caption>A Time Series: 5 × 4</caption>\n",
       "<thead>\n",
       "\t<tr><th></th><th scope=col>Qtr1</th><th scope=col>Qtr2</th><th scope=col>Qtr3</th><th scope=col>Qtr4</th></tr>\n",
       "</thead>\n",
       "<tbody>\n",
       "\t<tr><th scope=row>2016</th><td>-178.85156</td><td> -83.53906</td><td>  97.49219</td><td> 164.89844</td></tr>\n",
       "\t<tr><th scope=row>2017</th><td>-178.85156</td><td> -83.53906</td><td>  97.49219</td><td> 164.89844</td></tr>\n",
       "\t<tr><th scope=row>2018</th><td>-178.85156</td><td> -83.53906</td><td>  97.49219</td><td> 164.89844</td></tr>\n",
       "\t<tr><th scope=row>2019</th><td>-178.85156</td><td> -83.53906</td><td>  97.49219</td><td> 164.89844</td></tr>\n",
       "\t<tr><th scope=row>2020</th><td>-178.85156</td><td> -83.53906</td><td>  97.49219</td><td> 164.89844</td></tr>\n",
       "</tbody>\n",
       "</table>\n"
      ],
      "text/latex": [
       "A Time Series: 5 × 4\n",
       "\\begin{tabular}{r|llll}\n",
       "  & Qtr1 & Qtr2 & Qtr3 & Qtr4\\\\\n",
       "\\hline\n",
       "\t2016 & -178.85156 &  -83.53906 &   97.49219 &  164.89844\\\\\n",
       "\t2017 & -178.85156 &  -83.53906 &   97.49219 &  164.89844\\\\\n",
       "\t2018 & -178.85156 &  -83.53906 &   97.49219 &  164.89844\\\\\n",
       "\t2019 & -178.85156 &  -83.53906 &   97.49219 &  164.89844\\\\\n",
       "\t2020 & -178.85156 &  -83.53906 &   97.49219 &  164.89844\\\\\n",
       "\\end{tabular}\n"
      ],
      "text/markdown": [
       "\n",
       "A Time Series: 5 × 4\n",
       "\n",
       "| <!--/--> | Qtr1 | Qtr2 | Qtr3 | Qtr4 |\n",
       "|---|---|---|---|---|\n",
       "| 2016 | -178.85156 |  -83.53906 |   97.49219 |  164.89844 |\n",
       "| 2017 | -178.85156 |  -83.53906 |   97.49219 |  164.89844 |\n",
       "| 2018 | -178.85156 |  -83.53906 |   97.49219 |  164.89844 |\n",
       "| 2019 | -178.85156 |  -83.53906 |   97.49219 |  164.89844 |\n",
       "| 2020 | -178.85156 |  -83.53906 |   97.49219 |  164.89844 |\n",
       "\n"
      ],
      "text/plain": [
       "     Qtr1       Qtr2       Qtr3       Qtr4      \n",
       "2016 -178.85156  -83.53906   97.49219  164.89844\n",
       "2017 -178.85156  -83.53906   97.49219  164.89844\n",
       "2018 -178.85156  -83.53906   97.49219  164.89844\n",
       "2019 -178.85156  -83.53906   97.49219  164.89844\n",
       "2020 -178.85156  -83.53906   97.49219  164.89844"
      ]
     },
     "metadata": {},
     "output_type": "display_data"
    }
   ],
   "source": [
    "dd4_a$seasonal # 계절 변동 분석결과"
   ]
  },
  {
   "cell_type": "code",
   "execution_count": 43,
   "id": "8a80f3ab",
   "metadata": {
    "scrolled": true
   },
   "outputs": [
    {
     "data": {
      "text/html": [
       "<table class=\"dataframe\">\n",
       "<caption>A Time Series: 5 × 4</caption>\n",
       "<thead>\n",
       "\t<tr><th></th><th scope=col>Qtr1</th><th scope=col>Qtr2</th><th scope=col>Qtr3</th><th scope=col>Qtr4</th></tr>\n",
       "</thead>\n",
       "<tbody>\n",
       "\t<tr><th scope=row>2016</th><td>      NA</td><td>      NA</td><td>1355.125</td><td>1380.500</td></tr>\n",
       "\t<tr><th scope=row>2017</th><td>1408.500</td><td>1437.625</td><td>1468.500</td><td>1495.375</td></tr>\n",
       "\t<tr><th scope=row>2018</th><td>1520.750</td><td>1544.125</td><td>1564.000</td><td>1586.125</td></tr>\n",
       "\t<tr><th scope=row>2019</th><td>1612.250</td><td>1637.625</td><td>1665.875</td><td>1693.875</td></tr>\n",
       "\t<tr><th scope=row>2020</th><td>1718.375</td><td>1744.250</td><td>      NA</td><td>      NA</td></tr>\n",
       "</tbody>\n",
       "</table>\n"
      ],
      "text/latex": [
       "A Time Series: 5 × 4\n",
       "\\begin{tabular}{r|llll}\n",
       "  & Qtr1 & Qtr2 & Qtr3 & Qtr4\\\\\n",
       "\\hline\n",
       "\t2016 &       NA &       NA & 1355.125 & 1380.500\\\\\n",
       "\t2017 & 1408.500 & 1437.625 & 1468.500 & 1495.375\\\\\n",
       "\t2018 & 1520.750 & 1544.125 & 1564.000 & 1586.125\\\\\n",
       "\t2019 & 1612.250 & 1637.625 & 1665.875 & 1693.875\\\\\n",
       "\t2020 & 1718.375 & 1744.250 &       NA &       NA\\\\\n",
       "\\end{tabular}\n"
      ],
      "text/markdown": [
       "\n",
       "A Time Series: 5 × 4\n",
       "\n",
       "| <!--/--> | Qtr1 | Qtr2 | Qtr3 | Qtr4 |\n",
       "|---|---|---|---|---|\n",
       "| 2016 |       NA |       NA | 1355.125 | 1380.500 |\n",
       "| 2017 | 1408.500 | 1437.625 | 1468.500 | 1495.375 |\n",
       "| 2018 | 1520.750 | 1544.125 | 1564.000 | 1586.125 |\n",
       "| 2019 | 1612.250 | 1637.625 | 1665.875 | 1693.875 |\n",
       "| 2020 | 1718.375 | 1744.250 |       NA |       NA |\n",
       "\n"
      ],
      "text/plain": [
       "     Qtr1     Qtr2     Qtr3     Qtr4    \n",
       "2016       NA       NA 1355.125 1380.500\n",
       "2017 1408.500 1437.625 1468.500 1495.375\n",
       "2018 1520.750 1544.125 1564.000 1586.125\n",
       "2019 1612.250 1637.625 1665.875 1693.875\n",
       "2020 1718.375 1744.250       NA       NA"
      ]
     },
     "metadata": {},
     "output_type": "display_data"
    }
   ],
   "source": [
    "dd4_a$trend  #추세변동 분석 결과"
   ]
  },
  {
   "cell_type": "code",
   "execution_count": 45,
   "id": "ab308251",
   "metadata": {},
   "outputs": [
    {
     "data": {
      "text/html": [
       "<table class=\"dataframe\">\n",
       "<caption>A Time Series: 5 × 4</caption>\n",
       "<thead>\n",
       "\t<tr><th></th><th scope=col>Qtr1</th><th scope=col>Qtr2</th><th scope=col>Qtr3</th><th scope=col>Qtr4</th></tr>\n",
       "</thead>\n",
       "<tbody>\n",
       "\t<tr><th scope=row>2016</th><td>1142</td><td>1242</td><td>1452</td><td>1543</td></tr>\n",
       "\t<tr><th scope=row>2017</th><td>1225</td><td>1362</td><td>1556</td><td>1672</td></tr>\n",
       "\t<tr><th scope=row>2018</th><td>1343</td><td>1459</td><td>1662</td><td>1753</td></tr>\n",
       "\t<tr><th scope=row>2019</th><td>1421</td><td>1558</td><td>1772</td><td>1846</td></tr>\n",
       "\t<tr><th scope=row>2020</th><td>1554</td><td>1649</td><td>1877</td><td>1948</td></tr>\n",
       "</tbody>\n",
       "</table>\n"
      ],
      "text/latex": [
       "A Time Series: 5 × 4\n",
       "\\begin{tabular}{r|llll}\n",
       "  & Qtr1 & Qtr2 & Qtr3 & Qtr4\\\\\n",
       "\\hline\n",
       "\t2016 & 1142 & 1242 & 1452 & 1543\\\\\n",
       "\t2017 & 1225 & 1362 & 1556 & 1672\\\\\n",
       "\t2018 & 1343 & 1459 & 1662 & 1753\\\\\n",
       "\t2019 & 1421 & 1558 & 1772 & 1846\\\\\n",
       "\t2020 & 1554 & 1649 & 1877 & 1948\\\\\n",
       "\\end{tabular}\n"
      ],
      "text/markdown": [
       "\n",
       "A Time Series: 5 × 4\n",
       "\n",
       "| <!--/--> | Qtr1 | Qtr2 | Qtr3 | Qtr4 |\n",
       "|---|---|---|---|---|\n",
       "| 2016 | 1142 | 1242 | 1452 | 1543 |\n",
       "| 2017 | 1225 | 1362 | 1556 | 1672 |\n",
       "| 2018 | 1343 | 1459 | 1662 | 1753 |\n",
       "| 2019 | 1421 | 1558 | 1772 | 1846 |\n",
       "| 2020 | 1554 | 1649 | 1877 | 1948 |\n",
       "\n"
      ],
      "text/plain": [
       "     Qtr1 Qtr2 Qtr3 Qtr4\n",
       "2016 1142 1242 1452 1543\n",
       "2017 1225 1362 1556 1672\n",
       "2018 1343 1459 1662 1753\n",
       "2019 1421 1558 1772 1846\n",
       "2020 1554 1649 1877 1948"
      ]
     },
     "metadata": {},
     "output_type": "display_data"
    }
   ],
   "source": [
    "dd4.ts"
   ]
  },
  {
   "cell_type": "code",
   "execution_count": 44,
   "id": "aea0b633",
   "metadata": {},
   "outputs": [
    {
     "data": {
      "text/html": [
       "<table class=\"dataframe\">\n",
       "<caption>A Time Series: 5 × 4</caption>\n",
       "<thead>\n",
       "\t<tr><th></th><th scope=col>Qtr1</th><th scope=col>Qtr2</th><th scope=col>Qtr3</th><th scope=col>Qtr4</th></tr>\n",
       "</thead>\n",
       "<tbody>\n",
       "\t<tr><th scope=row>2016</th><td>1320.852</td><td>1325.539</td><td>1354.508</td><td>1378.102</td></tr>\n",
       "\t<tr><th scope=row>2017</th><td>1403.852</td><td>1445.539</td><td>1458.508</td><td>1507.102</td></tr>\n",
       "\t<tr><th scope=row>2018</th><td>1521.852</td><td>1542.539</td><td>1564.508</td><td>1588.102</td></tr>\n",
       "\t<tr><th scope=row>2019</th><td>1599.852</td><td>1641.539</td><td>1674.508</td><td>1681.102</td></tr>\n",
       "\t<tr><th scope=row>2020</th><td>1732.852</td><td>1732.539</td><td>1779.508</td><td>1783.102</td></tr>\n",
       "</tbody>\n",
       "</table>\n"
      ],
      "text/latex": [
       "A Time Series: 5 × 4\n",
       "\\begin{tabular}{r|llll}\n",
       "  & Qtr1 & Qtr2 & Qtr3 & Qtr4\\\\\n",
       "\\hline\n",
       "\t2016 & 1320.852 & 1325.539 & 1354.508 & 1378.102\\\\\n",
       "\t2017 & 1403.852 & 1445.539 & 1458.508 & 1507.102\\\\\n",
       "\t2018 & 1521.852 & 1542.539 & 1564.508 & 1588.102\\\\\n",
       "\t2019 & 1599.852 & 1641.539 & 1674.508 & 1681.102\\\\\n",
       "\t2020 & 1732.852 & 1732.539 & 1779.508 & 1783.102\\\\\n",
       "\\end{tabular}\n"
      ],
      "text/markdown": [
       "\n",
       "A Time Series: 5 × 4\n",
       "\n",
       "| <!--/--> | Qtr1 | Qtr2 | Qtr3 | Qtr4 |\n",
       "|---|---|---|---|---|\n",
       "| 2016 | 1320.852 | 1325.539 | 1354.508 | 1378.102 |\n",
       "| 2017 | 1403.852 | 1445.539 | 1458.508 | 1507.102 |\n",
       "| 2018 | 1521.852 | 1542.539 | 1564.508 | 1588.102 |\n",
       "| 2019 | 1599.852 | 1641.539 | 1674.508 | 1681.102 |\n",
       "| 2020 | 1732.852 | 1732.539 | 1779.508 | 1783.102 |\n",
       "\n"
      ],
      "text/plain": [
       "     Qtr1     Qtr2     Qtr3     Qtr4    \n",
       "2016 1320.852 1325.539 1354.508 1378.102\n",
       "2017 1403.852 1445.539 1458.508 1507.102\n",
       "2018 1521.852 1542.539 1564.508 1588.102\n",
       "2019 1599.852 1641.539 1674.508 1681.102\n",
       "2020 1732.852 1732.539 1779.508 1783.102"
      ]
     },
     "metadata": {},
     "output_type": "display_data"
    }
   ],
   "source": [
    "ddd1 <- dd4 - dd4_a$seasonal  # 계절 변동 제거\n",
    "ddd1\n"
   ]
  },
  {
   "cell_type": "code",
   "execution_count": 46,
   "id": "fcc47b98",
   "metadata": {},
   "outputs": [
    {
     "data": {
      "image/png": "[encoded data removed]",
      "text/plain": [
       "Plot with title \"계절변동 제거 시계열\""
      ]
     },
     "metadata": {
      "image/png": {
       "height": 420,
       "width": 420
      }
     },
     "output_type": "display_data"
    }
   ],
   "source": [
    "plot(ddd1, main=\"계절변동 제거 시계열\")\n"
   ]
  },
  {
   "cell_type": "code",
   "execution_count": 47,
   "id": "19e9f8d9",
   "metadata": {},
   "outputs": [
    {
     "data": {
      "text/html": [
       "<table class=\"dataframe\">\n",
       "<caption>A Time Series: 5 × 4</caption>\n",
       "<thead>\n",
       "\t<tr><th></th><th scope=col>Qtr1</th><th scope=col>Qtr2</th><th scope=col>Qtr3</th><th scope=col>Qtr4</th></tr>\n",
       "</thead>\n",
       "<tbody>\n",
       "\t<tr><th scope=row>2016</th><td>      NA</td><td>      NA</td><td>  96.875</td><td> 162.500</td></tr>\n",
       "\t<tr><th scope=row>2017</th><td>-183.500</td><td> -75.625</td><td>  87.500</td><td> 176.625</td></tr>\n",
       "\t<tr><th scope=row>2018</th><td>-177.750</td><td> -85.125</td><td>  98.000</td><td> 166.875</td></tr>\n",
       "\t<tr><th scope=row>2019</th><td>-191.250</td><td> -79.625</td><td> 106.125</td><td> 152.125</td></tr>\n",
       "\t<tr><th scope=row>2020</th><td>-164.375</td><td> -95.250</td><td>      NA</td><td>      NA</td></tr>\n",
       "</tbody>\n",
       "</table>\n"
      ],
      "text/latex": [
       "A Time Series: 5 × 4\n",
       "\\begin{tabular}{r|llll}\n",
       "  & Qtr1 & Qtr2 & Qtr3 & Qtr4\\\\\n",
       "\\hline\n",
       "\t2016 &       NA &       NA &   96.875 &  162.500\\\\\n",
       "\t2017 & -183.500 &  -75.625 &   87.500 &  176.625\\\\\n",
       "\t2018 & -177.750 &  -85.125 &   98.000 &  166.875\\\\\n",
       "\t2019 & -191.250 &  -79.625 &  106.125 &  152.125\\\\\n",
       "\t2020 & -164.375 &  -95.250 &       NA &       NA\\\\\n",
       "\\end{tabular}\n"
      ],
      "text/markdown": [
       "\n",
       "A Time Series: 5 × 4\n",
       "\n",
       "| <!--/--> | Qtr1 | Qtr2 | Qtr3 | Qtr4 |\n",
       "|---|---|---|---|---|\n",
       "| 2016 |       NA |       NA |   96.875 |  162.500 |\n",
       "| 2017 | -183.500 |  -75.625 |   87.500 |  176.625 |\n",
       "| 2018 | -177.750 |  -85.125 |   98.000 |  166.875 |\n",
       "| 2019 | -191.250 |  -79.625 |  106.125 |  152.125 |\n",
       "| 2020 | -164.375 |  -95.250 |       NA |       NA |\n",
       "\n"
      ],
      "text/plain": [
       "     Qtr1     Qtr2     Qtr3     Qtr4    \n",
       "2016       NA       NA   96.875  162.500\n",
       "2017 -183.500  -75.625   87.500  176.625\n",
       "2018 -177.750  -85.125   98.000  166.875\n",
       "2019 -191.250  -79.625  106.125  152.125\n",
       "2020 -164.375  -95.250       NA       NA"
      ]
     },
     "metadata": {},
     "output_type": "display_data"
    }
   ],
   "source": [
    "ddd2 <- dd4 - dd4_a$trend  # 추세 변동 제거\n",
    "ddd2\n"
   ]
  },
  {
   "cell_type": "code",
   "execution_count": 48,
   "id": "1e9486a0",
   "metadata": {},
   "outputs": [
    {
     "data": {
      "image/png": "[encoded data removed]",
      "text/plain": [
       "Plot with title \"추세 변동 제거\""
      ]
     },
     "metadata": {
      "image/png": {
       "height": 420,
       "width": 420
      }
     },
     "output_type": "display_data"
    }
   ],
   "source": [
    "plot(ddd2, main=\"추세 변동 제거\")"
   ]
  },
  {
   "cell_type": "code",
   "execution_count": null,
   "id": "dd1a5476",
   "metadata": {},
   "outputs": [],
   "source": []
  }
 ],
 "metadata": {
  "kernelspec": {
   "display_name": "R",
   "language": "R",
   "name": "ir"
  },
  "language_info": {
   "codemirror_mode": "r",
   "file_extension": ".r",
   "mimetype": "text/x-r-source",
   "name": "R",
   "pygments_lexer": "r",
   "version": "4.1.3"
  }
 },
 "nbformat": 4,
 "nbformat_minor": 5
}
