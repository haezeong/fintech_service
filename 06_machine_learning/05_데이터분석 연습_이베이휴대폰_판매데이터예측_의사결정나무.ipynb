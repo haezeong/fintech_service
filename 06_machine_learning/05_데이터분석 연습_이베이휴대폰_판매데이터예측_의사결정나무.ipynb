{
 "cells": [
  {
   "cell_type": "code",
   "execution_count": 1,
   "id": "08bda544",
   "metadata": {},
   "outputs": [],
   "source": [
    "import pandas as pd\n",
    "import numpy as np\n",
    "import matplotlib.pyplot as plt\n",
    "import seaborn as sns"
   ]
  },
  {
   "cell_type": "markdown",
   "id": "81e408ad",
   "metadata": {},
   "source": [
    "# 데이터 로딩"
   ]
  },
  {
   "cell_type": "code",
   "execution_count": 2,
   "id": "9cf374f6",
   "metadata": {},
   "outputs": [],
   "source": [
    "data= pd.read_csv(\"https://raw.githubusercontent.com/haram4th/ablearn/main/galaxy.csv\")"
   ]
  },
  {
   "cell_type": "code",
   "execution_count": 3,
   "id": "3ec41458",
   "metadata": {},
   "outputs": [
    {
     "data": {
      "text/html": [
       "<div>\n",
       "<style scoped>\n",
       "    .dataframe tbody tr th:only-of-type {\n",
       "        vertical-align: middle;\n",
       "    }\n",
       "\n",
       "    .dataframe tbody tr th {\n",
       "        vertical-align: top;\n",
       "    }\n",
       "\n",
       "    .dataframe thead th {\n",
       "        text-align: right;\n",
       "    }\n",
       "</style>\n",
       "<table border=\"1\" class=\"dataframe\">\n",
       "  <thead>\n",
       "    <tr style=\"text-align: right;\">\n",
       "      <th></th>\n",
       "      <th>BuyItNow</th>\n",
       "      <th>startprice</th>\n",
       "      <th>carrier</th>\n",
       "      <th>color</th>\n",
       "      <th>productline</th>\n",
       "      <th>noDescription</th>\n",
       "      <th>charCountDescription</th>\n",
       "      <th>upperCaseDescription</th>\n",
       "      <th>sold</th>\n",
       "    </tr>\n",
       "  </thead>\n",
       "  <tbody>\n",
       "    <tr>\n",
       "      <th>0</th>\n",
       "      <td>0</td>\n",
       "      <td>199.99</td>\n",
       "      <td>NaN</td>\n",
       "      <td>White</td>\n",
       "      <td>Galaxy_S9</td>\n",
       "      <td>contains description</td>\n",
       "      <td>0</td>\n",
       "      <td>0</td>\n",
       "      <td>1</td>\n",
       "    </tr>\n",
       "    <tr>\n",
       "      <th>1</th>\n",
       "      <td>0</td>\n",
       "      <td>235.00</td>\n",
       "      <td>NaN</td>\n",
       "      <td>NaN</td>\n",
       "      <td>Galaxy_Note9</td>\n",
       "      <td>contains description</td>\n",
       "      <td>0</td>\n",
       "      <td>0</td>\n",
       "      <td>0</td>\n",
       "    </tr>\n",
       "    <tr>\n",
       "      <th>2</th>\n",
       "      <td>0</td>\n",
       "      <td>199.99</td>\n",
       "      <td>NaN</td>\n",
       "      <td>NaN</td>\n",
       "      <td>Unknown</td>\n",
       "      <td>no description</td>\n",
       "      <td>100</td>\n",
       "      <td>2</td>\n",
       "      <td>0</td>\n",
       "    </tr>\n",
       "    <tr>\n",
       "      <th>3</th>\n",
       "      <td>1</td>\n",
       "      <td>175.00</td>\n",
       "      <td>AT&amp;T</td>\n",
       "      <td>Space Gray</td>\n",
       "      <td>Galaxy_Note9</td>\n",
       "      <td>contains description</td>\n",
       "      <td>0</td>\n",
       "      <td>0</td>\n",
       "      <td>1</td>\n",
       "    </tr>\n",
       "    <tr>\n",
       "      <th>4</th>\n",
       "      <td>1</td>\n",
       "      <td>100.00</td>\n",
       "      <td>NaN</td>\n",
       "      <td>Space Gray</td>\n",
       "      <td>Galaxy_S8</td>\n",
       "      <td>contains description</td>\n",
       "      <td>0</td>\n",
       "      <td>0</td>\n",
       "      <td>1</td>\n",
       "    </tr>\n",
       "  </tbody>\n",
       "</table>\n",
       "</div>"
      ],
      "text/plain": [
       "   BuyItNow  startprice carrier       color   productline  \\\n",
       "0         0      199.99     NaN       White     Galaxy_S9   \n",
       "1         0      235.00     NaN         NaN  Galaxy_Note9   \n",
       "2         0      199.99     NaN         NaN       Unknown   \n",
       "3         1      175.00    AT&T  Space Gray  Galaxy_Note9   \n",
       "4         1      100.00     NaN  Space Gray     Galaxy_S8   \n",
       "\n",
       "          noDescription  charCountDescription  upperCaseDescription  sold  \n",
       "0  contains description                     0                     0     1  \n",
       "1  contains description                     0                     0     0  \n",
       "2        no description                   100                     2     0  \n",
       "3  contains description                     0                     0     1  \n",
       "4  contains description                     0                     0     1  "
      ]
     },
     "execution_count": 3,
     "metadata": {},
     "output_type": "execute_result"
    }
   ],
   "source": [
    "data.head()"
   ]
  },
  {
   "cell_type": "code",
   "execution_count": 4,
   "id": "2d37460b",
   "metadata": {},
   "outputs": [],
   "source": [
    "#바이잇나우 구매자가 산다고누른것, 근데 판매자가 거부할 수도있기에 반드시 팔리는것 아님"
   ]
  },
  {
   "cell_type": "code",
   "execution_count": 4,
   "id": "e922b5b6",
   "metadata": {},
   "outputs": [
    {
     "data": {
      "text/plain": [
       "carrier\n",
       "AT&T               177\n",
       "Verizon             87\n",
       "Sprint/T-Mobile     52\n",
       "Name: count, dtype: int64"
      ]
     },
     "execution_count": 4,
     "metadata": {},
     "output_type": "execute_result"
    }
   ],
   "source": [
    "data['carrier'].value_counts()"
   ]
  },
  {
   "cell_type": "code",
   "execution_count": 5,
   "id": "58a50d64",
   "metadata": {},
   "outputs": [
    {
     "data": {
      "text/plain": [
       "carrier\n",
       "AT&T               177\n",
       "Verizon             87\n",
       "Sprint/T-Mobile     52\n",
       "Name: count, dtype: int64"
      ]
     },
     "execution_count": 5,
     "metadata": {},
     "output_type": "execute_result"
    }
   ],
   "source": [
    "data['carrier'].value_counts()"
   ]
  },
  {
   "cell_type": "code",
   "execution_count": 6,
   "id": "060adcbe",
   "metadata": {
    "scrolled": false
   },
   "outputs": [
    {
     "data": {
      "text/plain": [
       "color\n",
       "White             328\n",
       "Midnight Black    274\n",
       "Space Gray        180\n",
       "Gold               52\n",
       "Black              38\n",
       "Aura Black         19\n",
       "Prism Black         1\n",
       "Name: count, dtype: int64"
      ]
     },
     "execution_count": 6,
     "metadata": {},
     "output_type": "execute_result"
    }
   ],
   "source": [
    "data['color'].value_counts()"
   ]
  },
  {
   "cell_type": "code",
   "execution_count": 7,
   "id": "5b90c496",
   "metadata": {
    "scrolled": true
   },
   "outputs": [
    {
     "data": {
      "text/plain": [
       "productline    color         \n",
       "Galaxy_Note10  Aura Black         19\n",
       "               Gold               46\n",
       "               Space Gray         91\n",
       "               White              76\n",
       "Galaxy_Note8   Gold                1\n",
       "               Midnight Black     58\n",
       "               Space Gray          2\n",
       "               White              44\n",
       "Galaxy_Note9   Black              10\n",
       "               Space Gray         27\n",
       "               White              37\n",
       "Galaxy_S10     Gold                1\n",
       "               Prism Black         1\n",
       "               Space Gray          1\n",
       "               White               5\n",
       "Galaxy_S7      Midnight Black    111\n",
       "               Space Gray          3\n",
       "               White              21\n",
       "Galaxy_S8      Midnight Black     59\n",
       "               Space Gray         38\n",
       "               White              55\n",
       "Galaxy_S9      Midnight Black     46\n",
       "               Space Gray          1\n",
       "               White              51\n",
       "Unknown        Black              28\n",
       "               Gold                4\n",
       "               Space Gray         17\n",
       "               White              39\n",
       "Name: count, dtype: int64"
      ]
     },
     "execution_count": 7,
     "metadata": {},
     "output_type": "execute_result"
    }
   ],
   "source": [
    "#블랙도 이름이 다양하다\n",
    "#하나로 묶어도 될듯?\n",
    "# 기종별로 색깔 그룹바이 실행해보자\n",
    "data[['color','productline']].groupby('productline').value_counts(sort=False)"
   ]
  },
  {
   "cell_type": "code",
   "execution_count": 9,
   "id": "5333e56b",
   "metadata": {},
   "outputs": [],
   "source": [
    "data_no_color= data.copy()"
   ]
  },
  {
   "cell_type": "markdown",
   "id": "ed58aab1",
   "metadata": {},
   "source": [
    "#기종알고있으면 그 기종에서 최빈값 넣어주기?\n",
    "* 기종별로 색상"
   ]
  },
  {
   "cell_type": "code",
   "execution_count": 12,
   "id": "6ddebabb",
   "metadata": {
    "scrolled": true
   },
   "outputs": [
    {
     "data": {
      "text/plain": [
       "productline    color         \n",
       "Galaxy_Note10  Space Gray         91\n",
       "               White              76\n",
       "               Gold               46\n",
       "               Aura Black         19\n",
       "Galaxy_Note8   Midnight Black     58\n",
       "               White              44\n",
       "               Space Gray          2\n",
       "               Gold                1\n",
       "Galaxy_Note9   White              37\n",
       "               Space Gray         27\n",
       "               Black              10\n",
       "Galaxy_S10     White               5\n",
       "               Gold                1\n",
       "               Prism Black         1\n",
       "               Space Gray          1\n",
       "Galaxy_S7      Midnight Black    111\n",
       "               White              21\n",
       "               Space Gray          3\n",
       "Galaxy_S8      Midnight Black     59\n",
       "               White              55\n",
       "               Space Gray         38\n",
       "Galaxy_S9      White              51\n",
       "               Midnight Black     46\n",
       "               Space Gray          1\n",
       "Unknown        White              39\n",
       "               Black              28\n",
       "               Space Gray         17\n",
       "               Gold                4\n",
       "Name: count, dtype: int64"
      ]
     },
     "execution_count": 12,
     "metadata": {},
     "output_type": "execute_result"
    }
   ],
   "source": [
    "color_by_product=data.groupby('productline')['color'].value_counts()\n",
    "color_by_product"
   ]
  },
  {
   "cell_type": "code",
   "execution_count": null,
   "id": "d2bcce02",
   "metadata": {},
   "outputs": [],
   "source": [
    "# 가장많이 팔린 색으로 넣어주기"
   ]
  },
  {
   "cell_type": "code",
   "execution_count": 13,
   "id": "9b42d05d",
   "metadata": {},
   "outputs": [
    {
     "data": {
      "text/html": [
       "<div>\n",
       "<style scoped>\n",
       "    .dataframe tbody tr th:only-of-type {\n",
       "        vertical-align: middle;\n",
       "    }\n",
       "\n",
       "    .dataframe tbody tr th {\n",
       "        vertical-align: top;\n",
       "    }\n",
       "\n",
       "    .dataframe thead th {\n",
       "        text-align: right;\n",
       "    }\n",
       "</style>\n",
       "<table border=\"1\" class=\"dataframe\">\n",
       "  <thead>\n",
       "    <tr style=\"text-align: right;\">\n",
       "      <th></th>\n",
       "      <th>BuyItNow</th>\n",
       "      <th>startprice</th>\n",
       "      <th>carrier</th>\n",
       "      <th>color</th>\n",
       "      <th>productline</th>\n",
       "      <th>noDescription</th>\n",
       "      <th>charCountDescription</th>\n",
       "      <th>upperCaseDescription</th>\n",
       "      <th>sold</th>\n",
       "    </tr>\n",
       "  </thead>\n",
       "  <tbody>\n",
       "    <tr>\n",
       "      <th>1</th>\n",
       "      <td>0</td>\n",
       "      <td>235.00</td>\n",
       "      <td>NaN</td>\n",
       "      <td>NaN</td>\n",
       "      <td>Galaxy_Note9</td>\n",
       "      <td>contains description</td>\n",
       "      <td>0</td>\n",
       "      <td>0</td>\n",
       "      <td>0</td>\n",
       "    </tr>\n",
       "    <tr>\n",
       "      <th>2</th>\n",
       "      <td>0</td>\n",
       "      <td>199.99</td>\n",
       "      <td>NaN</td>\n",
       "      <td>NaN</td>\n",
       "      <td>Unknown</td>\n",
       "      <td>no description</td>\n",
       "      <td>100</td>\n",
       "      <td>2</td>\n",
       "      <td>0</td>\n",
       "    </tr>\n",
       "    <tr>\n",
       "      <th>21</th>\n",
       "      <td>0</td>\n",
       "      <td>84.99</td>\n",
       "      <td>AT&amp;T</td>\n",
       "      <td>NaN</td>\n",
       "      <td>Galaxy_S7</td>\n",
       "      <td>no description</td>\n",
       "      <td>16</td>\n",
       "      <td>15</td>\n",
       "      <td>1</td>\n",
       "    </tr>\n",
       "    <tr>\n",
       "      <th>22</th>\n",
       "      <td>0</td>\n",
       "      <td>249.99</td>\n",
       "      <td>NaN</td>\n",
       "      <td>NaN</td>\n",
       "      <td>Galaxy_S9</td>\n",
       "      <td>no description</td>\n",
       "      <td>101</td>\n",
       "      <td>2</td>\n",
       "      <td>0</td>\n",
       "    </tr>\n",
       "    <tr>\n",
       "      <th>25</th>\n",
       "      <td>0</td>\n",
       "      <td>185.00</td>\n",
       "      <td>NaN</td>\n",
       "      <td>NaN</td>\n",
       "      <td>Galaxy_Note8</td>\n",
       "      <td>no description</td>\n",
       "      <td>96</td>\n",
       "      <td>2</td>\n",
       "      <td>1</td>\n",
       "    </tr>\n",
       "    <tr>\n",
       "      <th>...</th>\n",
       "      <td>...</td>\n",
       "      <td>...</td>\n",
       "      <td>...</td>\n",
       "      <td>...</td>\n",
       "      <td>...</td>\n",
       "      <td>...</td>\n",
       "      <td>...</td>\n",
       "      <td>...</td>\n",
       "      <td>...</td>\n",
       "    </tr>\n",
       "    <tr>\n",
       "      <th>1467</th>\n",
       "      <td>0</td>\n",
       "      <td>87.00</td>\n",
       "      <td>NaN</td>\n",
       "      <td>NaN</td>\n",
       "      <td>Unknown</td>\n",
       "      <td>contains description</td>\n",
       "      <td>0</td>\n",
       "      <td>0</td>\n",
       "      <td>0</td>\n",
       "    </tr>\n",
       "    <tr>\n",
       "      <th>1471</th>\n",
       "      <td>0</td>\n",
       "      <td>329.99</td>\n",
       "      <td>NaN</td>\n",
       "      <td>NaN</td>\n",
       "      <td>Galaxy_Note9</td>\n",
       "      <td>contains description</td>\n",
       "      <td>0</td>\n",
       "      <td>0</td>\n",
       "      <td>0</td>\n",
       "    </tr>\n",
       "    <tr>\n",
       "      <th>1472</th>\n",
       "      <td>0</td>\n",
       "      <td>36.95</td>\n",
       "      <td>NaN</td>\n",
       "      <td>NaN</td>\n",
       "      <td>Galaxy_S7</td>\n",
       "      <td>no description</td>\n",
       "      <td>70</td>\n",
       "      <td>10</td>\n",
       "      <td>0</td>\n",
       "    </tr>\n",
       "    <tr>\n",
       "      <th>1477</th>\n",
       "      <td>0</td>\n",
       "      <td>279.00</td>\n",
       "      <td>NaN</td>\n",
       "      <td>NaN</td>\n",
       "      <td>Unknown</td>\n",
       "      <td>contains description</td>\n",
       "      <td>0</td>\n",
       "      <td>0</td>\n",
       "      <td>0</td>\n",
       "    </tr>\n",
       "    <tr>\n",
       "      <th>1480</th>\n",
       "      <td>0</td>\n",
       "      <td>89.50</td>\n",
       "      <td>AT&amp;T</td>\n",
       "      <td>NaN</td>\n",
       "      <td>Galaxy_S7</td>\n",
       "      <td>no description</td>\n",
       "      <td>96</td>\n",
       "      <td>2</td>\n",
       "      <td>0</td>\n",
       "    </tr>\n",
       "  </tbody>\n",
       "</table>\n",
       "<p>593 rows × 9 columns</p>\n",
       "</div>"
      ],
      "text/plain": [
       "      BuyItNow  startprice carrier color   productline         noDescription  \\\n",
       "1            0      235.00     NaN   NaN  Galaxy_Note9  contains description   \n",
       "2            0      199.99     NaN   NaN       Unknown        no description   \n",
       "21           0       84.99    AT&T   NaN     Galaxy_S7        no description   \n",
       "22           0      249.99     NaN   NaN     Galaxy_S9        no description   \n",
       "25           0      185.00     NaN   NaN  Galaxy_Note8        no description   \n",
       "...        ...         ...     ...   ...           ...                   ...   \n",
       "1467         0       87.00     NaN   NaN       Unknown  contains description   \n",
       "1471         0      329.99     NaN   NaN  Galaxy_Note9  contains description   \n",
       "1472         0       36.95     NaN   NaN     Galaxy_S7        no description   \n",
       "1477         0      279.00     NaN   NaN       Unknown  contains description   \n",
       "1480         0       89.50    AT&T   NaN     Galaxy_S7        no description   \n",
       "\n",
       "      charCountDescription  upperCaseDescription  sold  \n",
       "1                        0                     0     0  \n",
       "2                      100                     2     0  \n",
       "21                      16                    15     1  \n",
       "22                     101                     2     0  \n",
       "25                      96                     2     1  \n",
       "...                    ...                   ...   ...  \n",
       "1467                     0                     0     0  \n",
       "1471                     0                     0     0  \n",
       "1472                    70                    10     0  \n",
       "1477                     0                     0     0  \n",
       "1480                    96                     2     0  \n",
       "\n",
       "[593 rows x 9 columns]"
      ]
     },
     "execution_count": 13,
     "metadata": {},
     "output_type": "execute_result"
    }
   ],
   "source": [
    "data[data['color'].isna()==True]"
   ]
  },
  {
   "cell_type": "code",
   "execution_count": 14,
   "id": "fe30a4d1",
   "metadata": {},
   "outputs": [
    {
     "data": {
      "text/plain": [
       "27      False\n",
       "29      False\n",
       "30      False\n",
       "42      False\n",
       "43      False\n",
       "        ...  \n",
       "1397    False\n",
       "1416    False\n",
       "1428    False\n",
       "1429    False\n",
       "1464    False\n",
       "Name: color, Length: 119, dtype: bool"
      ]
     },
     "execution_count": 14,
     "metadata": {},
     "output_type": "execute_result"
    }
   ],
   "source": [
    "data[(data['color'].isna()==True) &(data['productline']=='Galaxy_Note10')]['color'] =='Space Gray'"
   ]
  },
  {
   "cell_type": "code",
   "execution_count": 15,
   "id": "b590b61b",
   "metadata": {},
   "outputs": [
    {
     "name": "stdout",
     "output_type": "stream",
     "text": [
      "<class 'pandas.core.frame.DataFrame'>\n",
      "RangeIndex: 1485 entries, 0 to 1484\n",
      "Data columns (total 9 columns):\n",
      " #   Column                Non-Null Count  Dtype  \n",
      "---  ------                --------------  -----  \n",
      " 0   BuyItNow              1485 non-null   int64  \n",
      " 1   startprice            1485 non-null   float64\n",
      " 2   carrier               316 non-null    object \n",
      " 3   color                 892 non-null    object \n",
      " 4   productline           1485 non-null   object \n",
      " 5   noDescription         1485 non-null   object \n",
      " 6   charCountDescription  1485 non-null   int64  \n",
      " 7   upperCaseDescription  1485 non-null   int64  \n",
      " 8   sold                  1485 non-null   int64  \n",
      "dtypes: float64(1), int64(4), object(4)\n",
      "memory usage: 104.5+ KB\n"
     ]
    }
   ],
   "source": [
    "data.info()"
   ]
  },
  {
   "cell_type": "code",
   "execution_count": 18,
   "id": "d1374d39",
   "metadata": {},
   "outputs": [],
   "source": [
    "data.loc[(data['color'].isna()==True) &(data['productline']=='Galaxy_Note10'),'color'] ='Space Gray'"
   ]
  },
  {
   "cell_type": "code",
   "execution_count": 19,
   "id": "ae5c56e1",
   "metadata": {},
   "outputs": [
    {
     "name": "stdout",
     "output_type": "stream",
     "text": [
      "<class 'pandas.core.frame.DataFrame'>\n",
      "RangeIndex: 1485 entries, 0 to 1484\n",
      "Data columns (total 9 columns):\n",
      " #   Column                Non-Null Count  Dtype  \n",
      "---  ------                --------------  -----  \n",
      " 0   BuyItNow              1485 non-null   int64  \n",
      " 1   startprice            1485 non-null   float64\n",
      " 2   carrier               316 non-null    object \n",
      " 3   color                 1011 non-null   object \n",
      " 4   productline           1485 non-null   object \n",
      " 5   noDescription         1485 non-null   object \n",
      " 6   charCountDescription  1485 non-null   int64  \n",
      " 7   upperCaseDescription  1485 non-null   int64  \n",
      " 8   sold                  1485 non-null   int64  \n",
      "dtypes: float64(1), int64(4), object(4)\n",
      "memory usage: 104.5+ KB\n"
     ]
    }
   ],
   "source": [
    "data.info()"
   ]
  },
  {
   "cell_type": "code",
   "execution_count": 20,
   "id": "9a4f5f85",
   "metadata": {},
   "outputs": [],
   "source": [
    "data.loc[(data['color'].isna()==True) &(data['productline']=='Galaxy_Note8'),'color'] ='Midnight Black'"
   ]
  },
  {
   "cell_type": "code",
   "execution_count": 21,
   "id": "7c188d8f",
   "metadata": {},
   "outputs": [],
   "source": [
    "data.loc[(data['color'].isna()==True) &(data['productline']=='Galaxy_Note9'),'color'] ='White'"
   ]
  },
  {
   "cell_type": "code",
   "execution_count": 22,
   "id": "bea0627d",
   "metadata": {},
   "outputs": [],
   "source": [
    "data.loc[(data['color'].isna()==True) &(data['productline']=='Galaxy_S10'),'color'] ='White'"
   ]
  },
  {
   "cell_type": "code",
   "execution_count": 23,
   "id": "f68b8343",
   "metadata": {},
   "outputs": [],
   "source": [
    "data.loc[(data['color'].isna()==True) &(data['productline']=='Galaxy_S7'),'color'] ='Midnight Black'"
   ]
  },
  {
   "cell_type": "code",
   "execution_count": 24,
   "id": "0123557f",
   "metadata": {},
   "outputs": [],
   "source": [
    "data.loc[(data['color'].isna()==True) &(data['productline']=='Galaxy_S8'),'color'] ='Midnight Black'"
   ]
  },
  {
   "cell_type": "code",
   "execution_count": 25,
   "id": "66f783b2",
   "metadata": {},
   "outputs": [],
   "source": [
    "data.loc[(data['color'].isna()==True) &(data['productline']=='Galaxy_S9'),'color'] ='White'"
   ]
  },
  {
   "cell_type": "code",
   "execution_count": 29,
   "id": "355d36cf",
   "metadata": {},
   "outputs": [],
   "source": [
    "data.loc[(data['color'].isna()==True) &(data['productline']=='Unknown'),'color'] ='White'"
   ]
  },
  {
   "cell_type": "code",
   "execution_count": 30,
   "id": "3c9b384a",
   "metadata": {},
   "outputs": [
    {
     "name": "stdout",
     "output_type": "stream",
     "text": [
      "<class 'pandas.core.frame.DataFrame'>\n",
      "RangeIndex: 1485 entries, 0 to 1484\n",
      "Data columns (total 9 columns):\n",
      " #   Column                Non-Null Count  Dtype  \n",
      "---  ------                --------------  -----  \n",
      " 0   BuyItNow              1485 non-null   int64  \n",
      " 1   startprice            1485 non-null   float64\n",
      " 2   carrier               316 non-null    object \n",
      " 3   color                 1485 non-null   object \n",
      " 4   productline           1485 non-null   object \n",
      " 5   noDescription         1485 non-null   object \n",
      " 6   charCountDescription  1485 non-null   int64  \n",
      " 7   upperCaseDescription  1485 non-null   int64  \n",
      " 8   sold                  1485 non-null   int64  \n",
      "dtypes: float64(1), int64(4), object(4)\n",
      "memory usage: 104.5+ KB\n"
     ]
    }
   ],
   "source": [
    "data.info()"
   ]
  },
  {
   "cell_type": "code",
   "execution_count": 31,
   "id": "54cdbe22",
   "metadata": {},
   "outputs": [
    {
     "data": {
      "text/plain": [
       "color           sold\n",
       "Aura Black      0        13\n",
       "                1         6\n",
       "Black           0        22\n",
       "                1        16\n",
       "Gold            0        34\n",
       "                1        18\n",
       "Midnight Black  0       257\n",
       "                1       282\n",
       "Prism Black     0         1\n",
       "Space Gray      0       165\n",
       "                1       134\n",
       "White           0       307\n",
       "                1       230\n",
       "Name: count, dtype: int64"
      ]
     },
     "execution_count": 31,
     "metadata": {},
     "output_type": "execute_result"
    }
   ],
   "source": [
    "data.groupby('color')['sold'].value_counts(sort=False)"
   ]
  },
  {
   "cell_type": "code",
   "execution_count": null,
   "id": "9e9b6eaa",
   "metadata": {},
   "outputs": [],
   "source": [
    "#컬러가 판매에 크게 영향 X??\n",
    "#결측값은 기종에따른 최빈값으로 대치해줬지만 컬러가 큰 영향이 있어보이진 않는다는 결과\n"
   ]
  },
  {
   "cell_type": "code",
   "execution_count": 32,
   "id": "4bebaa28",
   "metadata": {},
   "outputs": [
    {
     "data": {
      "text/plain": [
       "array(['White', 'Space Gray', 'Midnight Black', 'Aura Black', 'Gold',\n",
       "       'Black', 'Prism Black'], dtype=object)"
      ]
     },
     "execution_count": 32,
     "metadata": {},
     "output_type": "execute_result"
    }
   ],
   "source": [
    "#컬러 작업 더 해주기\n",
    "data['color'].unique()"
   ]
  },
  {
   "cell_type": "code",
   "execution_count": 33,
   "id": "328c8839",
   "metadata": {},
   "outputs": [],
   "source": [
    "data_no_color= data.copy()"
   ]
  },
  {
   "cell_type": "code",
   "execution_count": 2,
   "id": "a4985175",
   "metadata": {},
   "outputs": [
    {
     "ename": "NameError",
     "evalue": "name 'data' is not defined",
     "output_type": "error",
     "traceback": [
      "\u001b[1;31m---------------------------------------------------------------------------\u001b[0m",
      "\u001b[1;31mNameError\u001b[0m                                 Traceback (most recent call last)",
      "Cell \u001b[1;32mIn[2], line 2\u001b[0m\n\u001b[0;32m      1\u001b[0m \u001b[38;5;66;03m#컬러 통일 작업\u001b[39;00m\n\u001b[1;32m----> 2\u001b[0m \u001b[38;5;28;01mfor\u001b[39;00m i \u001b[38;5;129;01min\u001b[39;00m \u001b[38;5;28mlist\u001b[39m(\u001b[43mdata\u001b[49m[\u001b[38;5;124m'\u001b[39m\u001b[38;5;124mcolor\u001b[39m\u001b[38;5;124m'\u001b[39m]\u001b[38;5;241m.\u001b[39munique()):\n\u001b[0;32m      3\u001b[0m     \u001b[38;5;28;01mif\u001b[39;00m \u001b[38;5;124m\"\u001b[39m\u001b[38;5;124mBlack\u001b[39m\u001b[38;5;124m\"\u001b[39m \u001b[38;5;129;01min\u001b[39;00m i:\n\u001b[0;32m      4\u001b[0m         \u001b[38;5;28mprint\u001b[39m(\u001b[38;5;124m\"\u001b[39m\u001b[38;5;124mBlack\u001b[39m\u001b[38;5;124m\"\u001b[39m)\n",
      "\u001b[1;31mNameError\u001b[0m: name 'data' is not defined"
     ]
    }
   ],
   "source": [
    "#컬러 통일 작업\n",
    "for i in list(data['color'].unique()):\n",
    "    if \"Black\" in i:\n",
    "        print(\"Black\")\n",
    "    else:\n",
    "        print(i)\n",
    "               "
   ]
  },
  {
   "cell_type": "code",
   "execution_count": null,
   "id": "363bf7d2",
   "metadata": {},
   "outputs": [],
   "source": []
  },
  {
   "cell_type": "code",
   "execution_count": null,
   "id": "469a3af4",
   "metadata": {},
   "outputs": [],
   "source": []
  },
  {
   "cell_type": "code",
   "execution_count": null,
   "id": "b92040d1",
   "metadata": {},
   "outputs": [],
   "source": [
    "#노트9의 가격 describe\n",
    "# 품명==언노운&색==블랙 의 ? 블랙색상으로 품명 유추가능?\n",
    "#color애매해서 일단 보류. -블랙은 같은 블랙으로 묶어?"
   ]
  },
  {
   "cell_type": "markdown",
   "id": "e35696c8",
   "metadata": {},
   "source": [
    "# 전처리"
   ]
  },
  {
   "cell_type": "code",
   "execution_count": 7,
   "id": "a9ec440f",
   "metadata": {
    "scrolled": true
   },
   "outputs": [
    {
     "name": "stdout",
     "output_type": "stream",
     "text": [
      "<class 'pandas.core.frame.DataFrame'>\n",
      "RangeIndex: 1485 entries, 0 to 1484\n",
      "Data columns (total 9 columns):\n",
      " #   Column                Non-Null Count  Dtype  \n",
      "---  ------                --------------  -----  \n",
      " 0   BuyItNow              1485 non-null   int64  \n",
      " 1   startprice            1485 non-null   float64\n",
      " 2   carrier               316 non-null    object \n",
      " 3   color                 892 non-null    object \n",
      " 4   productline           1485 non-null   object \n",
      " 5   noDescription         1485 non-null   object \n",
      " 6   charCountDescription  1485 non-null   int64  \n",
      " 7   upperCaseDescription  1485 non-null   int64  \n",
      " 8   sold                  1485 non-null   int64  \n",
      "dtypes: float64(1), int64(4), object(4)\n",
      "memory usage: 104.5+ KB\n"
     ]
    }
   ],
   "source": [
    "data.info()"
   ]
  },
  {
   "cell_type": "code",
   "execution_count": 8,
   "id": "cad871cb",
   "metadata": {
    "scrolled": true
   },
   "outputs": [
    {
     "data": {
      "text/plain": [
       "BuyItNow                   0\n",
       "startprice                 0\n",
       "carrier                 1169\n",
       "color                    593\n",
       "productline                0\n",
       "noDescription              0\n",
       "charCountDescription       0\n",
       "upperCaseDescription       0\n",
       "sold                       0\n",
       "dtype: int64"
      ]
     },
     "execution_count": 8,
     "metadata": {},
     "output_type": "execute_result"
    }
   ],
   "source": [
    "data.isna().sum()"
   ]
  },
  {
   "cell_type": "code",
   "execution_count": 9,
   "id": "65bb212f",
   "metadata": {
    "scrolled": true
   },
   "outputs": [
    {
     "data": {
      "text/plain": [
       "BuyItNow                 0.000000\n",
       "startprice               0.000000\n",
       "carrier                 78.720539\n",
       "color                   39.932660\n",
       "productline              0.000000\n",
       "noDescription            0.000000\n",
       "charCountDescription     0.000000\n",
       "upperCaseDescription     0.000000\n",
       "sold                     0.000000\n",
       "dtype: float64"
      ]
     },
     "execution_count": 9,
     "metadata": {},
     "output_type": "execute_result"
    }
   ],
   "source": [
    "data.isna().sum() / len(data) * 100"
   ]
  },
  {
   "cell_type": "code",
   "execution_count": 10,
   "id": "35955cd5",
   "metadata": {},
   "outputs": [],
   "source": [
    "data['carrier'] = data['carrier'].fillna('unknown')"
   ]
  },
  {
   "cell_type": "code",
   "execution_count": 11,
   "id": "7f7ec906",
   "metadata": {},
   "outputs": [
    {
     "name": "stdout",
     "output_type": "stream",
     "text": [
      "<class 'pandas.core.frame.DataFrame'>\n",
      "RangeIndex: 1485 entries, 0 to 1484\n",
      "Data columns (total 9 columns):\n",
      " #   Column                Non-Null Count  Dtype  \n",
      "---  ------                --------------  -----  \n",
      " 0   BuyItNow              1485 non-null   int64  \n",
      " 1   startprice            1485 non-null   float64\n",
      " 2   carrier               1485 non-null   object \n",
      " 3   color                 892 non-null    object \n",
      " 4   productline           1485 non-null   object \n",
      " 5   noDescription         1485 non-null   object \n",
      " 6   charCountDescription  1485 non-null   int64  \n",
      " 7   upperCaseDescription  1485 non-null   int64  \n",
      " 8   sold                  1485 non-null   int64  \n",
      "dtypes: float64(1), int64(4), object(4)\n",
      "memory usage: 104.5+ KB\n"
     ]
    }
   ],
   "source": [
    "data.info()"
   ]
  },
  {
   "cell_type": "code",
   "execution_count": 12,
   "id": "fa9cdfc3",
   "metadata": {
    "scrolled": false
   },
   "outputs": [
    {
     "data": {
      "text/plain": [
       "color\n",
       "White             328\n",
       "Midnight Black    274\n",
       "Space Gray        180\n",
       "Gold               52\n",
       "Black              38\n",
       "Aura Black         19\n",
       "Prism Black         1\n",
       "Name: count, dtype: int64"
      ]
     },
     "execution_count": 12,
     "metadata": {},
     "output_type": "execute_result"
    }
   ],
   "source": [
    "data['color'].value_counts()"
   ]
  },
  {
   "cell_type": "code",
   "execution_count": 13,
   "id": "814d8605",
   "metadata": {},
   "outputs": [],
   "source": [
    "data['color'] = data['color'].fillna('unknown')"
   ]
  },
  {
   "cell_type": "code",
   "execution_count": 14,
   "id": "bd6ea515",
   "metadata": {},
   "outputs": [
    {
     "name": "stdout",
     "output_type": "stream",
     "text": [
      "<class 'pandas.core.frame.DataFrame'>\n",
      "RangeIndex: 1485 entries, 0 to 1484\n",
      "Data columns (total 9 columns):\n",
      " #   Column                Non-Null Count  Dtype  \n",
      "---  ------                --------------  -----  \n",
      " 0   BuyItNow              1485 non-null   int64  \n",
      " 1   startprice            1485 non-null   float64\n",
      " 2   carrier               1485 non-null   object \n",
      " 3   color                 1485 non-null   object \n",
      " 4   productline           1485 non-null   object \n",
      " 5   noDescription         1485 non-null   object \n",
      " 6   charCountDescription  1485 non-null   int64  \n",
      " 7   upperCaseDescription  1485 non-null   int64  \n",
      " 8   sold                  1485 non-null   int64  \n",
      "dtypes: float64(1), int64(4), object(4)\n",
      "memory usage: 104.5+ KB\n"
     ]
    }
   ],
   "source": [
    "data.info()"
   ]
  },
  {
   "cell_type": "code",
   "execution_count": 15,
   "id": "b6e3fcaf",
   "metadata": {
    "scrolled": true
   },
   "outputs": [
    {
     "data": {
      "text/html": [
       "<div>\n",
       "<style scoped>\n",
       "    .dataframe tbody tr th:only-of-type {\n",
       "        vertical-align: middle;\n",
       "    }\n",
       "\n",
       "    .dataframe tbody tr th {\n",
       "        vertical-align: top;\n",
       "    }\n",
       "\n",
       "    .dataframe thead th {\n",
       "        text-align: right;\n",
       "    }\n",
       "</style>\n",
       "<table border=\"1\" class=\"dataframe\">\n",
       "  <thead>\n",
       "    <tr style=\"text-align: right;\">\n",
       "      <th></th>\n",
       "      <th>BuyItNow</th>\n",
       "      <th>startprice</th>\n",
       "      <th>carrier</th>\n",
       "      <th>color</th>\n",
       "      <th>productline</th>\n",
       "      <th>noDescription</th>\n",
       "      <th>charCountDescription</th>\n",
       "      <th>upperCaseDescription</th>\n",
       "      <th>sold</th>\n",
       "    </tr>\n",
       "  </thead>\n",
       "  <tbody>\n",
       "    <tr>\n",
       "      <th>0</th>\n",
       "      <td>0</td>\n",
       "      <td>199.99</td>\n",
       "      <td>unknown</td>\n",
       "      <td>White</td>\n",
       "      <td>Galaxy_S9</td>\n",
       "      <td>contains description</td>\n",
       "      <td>0</td>\n",
       "      <td>0</td>\n",
       "      <td>1</td>\n",
       "    </tr>\n",
       "    <tr>\n",
       "      <th>1</th>\n",
       "      <td>0</td>\n",
       "      <td>235.00</td>\n",
       "      <td>unknown</td>\n",
       "      <td>unknown</td>\n",
       "      <td>Galaxy_Note9</td>\n",
       "      <td>contains description</td>\n",
       "      <td>0</td>\n",
       "      <td>0</td>\n",
       "      <td>0</td>\n",
       "    </tr>\n",
       "    <tr>\n",
       "      <th>2</th>\n",
       "      <td>0</td>\n",
       "      <td>199.99</td>\n",
       "      <td>unknown</td>\n",
       "      <td>unknown</td>\n",
       "      <td>Unknown</td>\n",
       "      <td>no description</td>\n",
       "      <td>100</td>\n",
       "      <td>2</td>\n",
       "      <td>0</td>\n",
       "    </tr>\n",
       "    <tr>\n",
       "      <th>3</th>\n",
       "      <td>1</td>\n",
       "      <td>175.00</td>\n",
       "      <td>AT&amp;T</td>\n",
       "      <td>Space Gray</td>\n",
       "      <td>Galaxy_Note9</td>\n",
       "      <td>contains description</td>\n",
       "      <td>0</td>\n",
       "      <td>0</td>\n",
       "      <td>1</td>\n",
       "    </tr>\n",
       "    <tr>\n",
       "      <th>4</th>\n",
       "      <td>1</td>\n",
       "      <td>100.00</td>\n",
       "      <td>unknown</td>\n",
       "      <td>Space Gray</td>\n",
       "      <td>Galaxy_S8</td>\n",
       "      <td>contains description</td>\n",
       "      <td>0</td>\n",
       "      <td>0</td>\n",
       "      <td>1</td>\n",
       "    </tr>\n",
       "    <tr>\n",
       "      <th>5</th>\n",
       "      <td>1</td>\n",
       "      <td>0.99</td>\n",
       "      <td>unknown</td>\n",
       "      <td>White</td>\n",
       "      <td>Galaxy_S7</td>\n",
       "      <td>contains description</td>\n",
       "      <td>0</td>\n",
       "      <td>0</td>\n",
       "      <td>1</td>\n",
       "    </tr>\n",
       "    <tr>\n",
       "      <th>6</th>\n",
       "      <td>1</td>\n",
       "      <td>150.00</td>\n",
       "      <td>unknown</td>\n",
       "      <td>White</td>\n",
       "      <td>Galaxy_S9</td>\n",
       "      <td>contains description</td>\n",
       "      <td>0</td>\n",
       "      <td>0</td>\n",
       "      <td>1</td>\n",
       "    </tr>\n",
       "    <tr>\n",
       "      <th>7</th>\n",
       "      <td>0</td>\n",
       "      <td>199.99</td>\n",
       "      <td>unknown</td>\n",
       "      <td>Midnight Black</td>\n",
       "      <td>Galaxy_S9</td>\n",
       "      <td>no description</td>\n",
       "      <td>92</td>\n",
       "      <td>0</td>\n",
       "      <td>1</td>\n",
       "    </tr>\n",
       "    <tr>\n",
       "      <th>8</th>\n",
       "      <td>0</td>\n",
       "      <td>99.99</td>\n",
       "      <td>unknown</td>\n",
       "      <td>White</td>\n",
       "      <td>Galaxy_S7</td>\n",
       "      <td>contains description</td>\n",
       "      <td>0</td>\n",
       "      <td>0</td>\n",
       "      <td>0</td>\n",
       "    </tr>\n",
       "    <tr>\n",
       "      <th>9</th>\n",
       "      <td>1</td>\n",
       "      <td>20.00</td>\n",
       "      <td>AT&amp;T</td>\n",
       "      <td>Midnight Black</td>\n",
       "      <td>Galaxy_S7</td>\n",
       "      <td>no description</td>\n",
       "      <td>96</td>\n",
       "      <td>41</td>\n",
       "      <td>1</td>\n",
       "    </tr>\n",
       "    <tr>\n",
       "      <th>10</th>\n",
       "      <td>0</td>\n",
       "      <td>75.00</td>\n",
       "      <td>unknown</td>\n",
       "      <td>Midnight Black</td>\n",
       "      <td>Galaxy_S7</td>\n",
       "      <td>contains description</td>\n",
       "      <td>0</td>\n",
       "      <td>0</td>\n",
       "      <td>1</td>\n",
       "    </tr>\n",
       "    <tr>\n",
       "      <th>11</th>\n",
       "      <td>0</td>\n",
       "      <td>199.99</td>\n",
       "      <td>unknown</td>\n",
       "      <td>White</td>\n",
       "      <td>Galaxy_S9</td>\n",
       "      <td>no description</td>\n",
       "      <td>98</td>\n",
       "      <td>3</td>\n",
       "      <td>1</td>\n",
       "    </tr>\n",
       "    <tr>\n",
       "      <th>12</th>\n",
       "      <td>0</td>\n",
       "      <td>344.95</td>\n",
       "      <td>unknown</td>\n",
       "      <td>Space Gray</td>\n",
       "      <td>Galaxy_Note10</td>\n",
       "      <td>contains description</td>\n",
       "      <td>0</td>\n",
       "      <td>0</td>\n",
       "      <td>0</td>\n",
       "    </tr>\n",
       "    <tr>\n",
       "      <th>13</th>\n",
       "      <td>0</td>\n",
       "      <td>184.50</td>\n",
       "      <td>unknown</td>\n",
       "      <td>Midnight Black</td>\n",
       "      <td>Galaxy_Note8</td>\n",
       "      <td>no description</td>\n",
       "      <td>100</td>\n",
       "      <td>4</td>\n",
       "      <td>1</td>\n",
       "    </tr>\n",
       "    <tr>\n",
       "      <th>14</th>\n",
       "      <td>0</td>\n",
       "      <td>209.98</td>\n",
       "      <td>unknown</td>\n",
       "      <td>White</td>\n",
       "      <td>Galaxy_Note9</td>\n",
       "      <td>no description</td>\n",
       "      <td>100</td>\n",
       "      <td>6</td>\n",
       "      <td>0</td>\n",
       "    </tr>\n",
       "    <tr>\n",
       "      <th>15</th>\n",
       "      <td>0</td>\n",
       "      <td>375.00</td>\n",
       "      <td>unknown</td>\n",
       "      <td>White</td>\n",
       "      <td>Galaxy_Note10</td>\n",
       "      <td>contains description</td>\n",
       "      <td>0</td>\n",
       "      <td>0</td>\n",
       "      <td>1</td>\n",
       "    </tr>\n",
       "    <tr>\n",
       "      <th>16</th>\n",
       "      <td>0</td>\n",
       "      <td>95.00</td>\n",
       "      <td>unknown</td>\n",
       "      <td>Midnight Black</td>\n",
       "      <td>Galaxy_S7</td>\n",
       "      <td>contains description</td>\n",
       "      <td>0</td>\n",
       "      <td>0</td>\n",
       "      <td>0</td>\n",
       "    </tr>\n",
       "    <tr>\n",
       "      <th>17</th>\n",
       "      <td>0</td>\n",
       "      <td>187.50</td>\n",
       "      <td>unknown</td>\n",
       "      <td>Midnight Black</td>\n",
       "      <td>Galaxy_Note8</td>\n",
       "      <td>no description</td>\n",
       "      <td>84</td>\n",
       "      <td>3</td>\n",
       "      <td>0</td>\n",
       "    </tr>\n",
       "    <tr>\n",
       "      <th>18</th>\n",
       "      <td>0</td>\n",
       "      <td>329.99</td>\n",
       "      <td>unknown</td>\n",
       "      <td>Space Gray</td>\n",
       "      <td>Unknown</td>\n",
       "      <td>contains description</td>\n",
       "      <td>0</td>\n",
       "      <td>0</td>\n",
       "      <td>0</td>\n",
       "    </tr>\n",
       "    <tr>\n",
       "      <th>19</th>\n",
       "      <td>0</td>\n",
       "      <td>149.00</td>\n",
       "      <td>Sprint/T-Mobile</td>\n",
       "      <td>White</td>\n",
       "      <td>Galaxy_Note10</td>\n",
       "      <td>contains description</td>\n",
       "      <td>0</td>\n",
       "      <td>0</td>\n",
       "      <td>0</td>\n",
       "    </tr>\n",
       "  </tbody>\n",
       "</table>\n",
       "</div>"
      ],
      "text/plain": [
       "    BuyItNow  startprice          carrier           color    productline  \\\n",
       "0          0      199.99          unknown           White      Galaxy_S9   \n",
       "1          0      235.00          unknown         unknown   Galaxy_Note9   \n",
       "2          0      199.99          unknown         unknown        Unknown   \n",
       "3          1      175.00             AT&T      Space Gray   Galaxy_Note9   \n",
       "4          1      100.00          unknown      Space Gray      Galaxy_S8   \n",
       "5          1        0.99          unknown           White      Galaxy_S7   \n",
       "6          1      150.00          unknown           White      Galaxy_S9   \n",
       "7          0      199.99          unknown  Midnight Black      Galaxy_S9   \n",
       "8          0       99.99          unknown           White      Galaxy_S7   \n",
       "9          1       20.00             AT&T  Midnight Black      Galaxy_S7   \n",
       "10         0       75.00          unknown  Midnight Black      Galaxy_S7   \n",
       "11         0      199.99          unknown           White      Galaxy_S9   \n",
       "12         0      344.95          unknown      Space Gray  Galaxy_Note10   \n",
       "13         0      184.50          unknown  Midnight Black   Galaxy_Note8   \n",
       "14         0      209.98          unknown           White   Galaxy_Note9   \n",
       "15         0      375.00          unknown           White  Galaxy_Note10   \n",
       "16         0       95.00          unknown  Midnight Black      Galaxy_S7   \n",
       "17         0      187.50          unknown  Midnight Black   Galaxy_Note8   \n",
       "18         0      329.99          unknown      Space Gray        Unknown   \n",
       "19         0      149.00  Sprint/T-Mobile           White  Galaxy_Note10   \n",
       "\n",
       "           noDescription  charCountDescription  upperCaseDescription  sold  \n",
       "0   contains description                     0                     0     1  \n",
       "1   contains description                     0                     0     0  \n",
       "2         no description                   100                     2     0  \n",
       "3   contains description                     0                     0     1  \n",
       "4   contains description                     0                     0     1  \n",
       "5   contains description                     0                     0     1  \n",
       "6   contains description                     0                     0     1  \n",
       "7         no description                    92                     0     1  \n",
       "8   contains description                     0                     0     0  \n",
       "9         no description                    96                    41     1  \n",
       "10  contains description                     0                     0     1  \n",
       "11        no description                    98                     3     1  \n",
       "12  contains description                     0                     0     0  \n",
       "13        no description                   100                     4     1  \n",
       "14        no description                   100                     6     0  \n",
       "15  contains description                     0                     0     1  \n",
       "16  contains description                     0                     0     0  \n",
       "17        no description                    84                     3     0  \n",
       "18  contains description                     0                     0     0  \n",
       "19  contains description                     0                     0     0  "
      ]
     },
     "execution_count": 15,
     "metadata": {},
     "output_type": "execute_result"
    }
   ],
   "source": [
    "data.head(20)"
   ]
  },
  {
   "cell_type": "code",
   "execution_count": 16,
   "id": "445ca0ff",
   "metadata": {
    "scrolled": true
   },
   "outputs": [
    {
     "data": {
      "text/plain": [
       "<Axes: xlabel='BuyItNow,sold'>"
      ]
     },
     "execution_count": 16,
     "metadata": {},
     "output_type": "execute_result"
    },
    {
     "data": {
      "image/png": "[encoded data removed]",
      "text/plain": [
       "<Figure size 640x480 with 1 Axes>"
      ]
     },
     "metadata": {},
     "output_type": "display_data"
    }
   ],
   "source": [
    "data[['BuyItNow', 'sold']].groupby('BuyItNow').value_counts(sort=False).plot(kind='bar')"
   ]
  },
  {
   "cell_type": "code",
   "execution_count": 17,
   "id": "4c7fff06",
   "metadata": {
    "scrolled": true
   },
   "outputs": [
    {
     "data": {
      "text/plain": [
       "<Axes: xlabel='color,sold'>"
      ]
     },
     "execution_count": 17,
     "metadata": {},
     "output_type": "execute_result"
    },
    {
     "data": {
      "image/png": "[encoded data removed]",
      "text/plain": [
       "<Figure size 640x480 with 1 Axes>"
      ]
     },
     "metadata": {},
     "output_type": "display_data"
    }
   ],
   "source": [
    "data[['color', 'sold']].groupby('color').value_counts(sort=False).plot(kind='bar')"
   ]
  },
  {
   "cell_type": "code",
   "execution_count": 18,
   "id": "a09a98ac",
   "metadata": {
    "scrolled": true
   },
   "outputs": [
    {
     "data": {
      "text/plain": [
       "productline\n",
       "Galaxy_Note10    351\n",
       "Galaxy_S8        277\n",
       "Galaxy_S7        227\n",
       "Unknown          204\n",
       "Galaxy_S9        158\n",
       "Galaxy_Note8     153\n",
       "Galaxy_Note9     107\n",
       "Galaxy_S10         8\n",
       "Name: count, dtype: int64"
      ]
     },
     "execution_count": 18,
     "metadata": {},
     "output_type": "execute_result"
    }
   ],
   "source": [
    "data['productline'].value_counts()"
   ]
  },
  {
   "cell_type": "code",
   "execution_count": 19,
   "id": "a1a66e67",
   "metadata": {
    "scrolled": true
   },
   "outputs": [
    {
     "data": {
      "text/plain": [
       "sold  productline  \n",
       "0     Galaxy_Note10    202\n",
       "      Galaxy_S8        145\n",
       "      Unknown          122\n",
       "      Galaxy_S7        102\n",
       "      Galaxy_S9         93\n",
       "      Galaxy_Note8      73\n",
       "      Galaxy_Note9      58\n",
       "      Galaxy_S10         4\n",
       "1     Galaxy_Note10    149\n",
       "      Galaxy_S8        132\n",
       "      Galaxy_S7        125\n",
       "      Unknown           82\n",
       "      Galaxy_Note8      80\n",
       "      Galaxy_S9         65\n",
       "      Galaxy_Note9      49\n",
       "      Galaxy_S10         4\n",
       "Name: count, dtype: int64"
      ]
     },
     "execution_count": 19,
     "metadata": {},
     "output_type": "execute_result"
    }
   ],
   "source": [
    "data[['sold', 'productline']].groupby('sold').value_counts(sort=True)"
   ]
  },
  {
   "cell_type": "markdown",
   "id": "9c82b10b",
   "metadata": {},
   "source": [
    "* Galaxy_Note8 이 Galaxy_S9 보다 잘팔림"
   ]
  },
  {
   "cell_type": "code",
   "execution_count": 58,
   "id": "bb70553b",
   "metadata": {
    "scrolled": false
   },
   "outputs": [
    {
     "data": {
      "text/plain": [
       "carrier          sold\n",
       "AT&T             0       101\n",
       "                 1        76\n",
       "Sprint/T-Mobile  0        28\n",
       "                 1        24\n",
       "Verizon          0        41\n",
       "                 1        46\n",
       "unknown          0       629\n",
       "                 1       540\n",
       "Name: count, dtype: int64"
      ]
     },
     "execution_count": 58,
     "metadata": {},
     "output_type": "execute_result"
    }
   ],
   "source": [
    "data[['carrier', 'sold']].groupby('carrier').value_counts(sort=False)"
   ]
  },
  {
   "cell_type": "code",
   "execution_count": 59,
   "id": "07e31b04",
   "metadata": {},
   "outputs": [
    {
     "data": {
      "text/plain": [
       "0.5380667236954663"
      ]
     },
     "execution_count": 59,
     "metadata": {},
     "output_type": "execute_result"
    }
   ],
   "source": [
    "629/(629+540)"
   ]
  },
  {
   "cell_type": "code",
   "execution_count": 61,
   "id": "2e64c67b",
   "metadata": {},
   "outputs": [
    {
     "data": {
      "text/html": [
       "<div>\n",
       "<style scoped>\n",
       "    .dataframe tbody tr th:only-of-type {\n",
       "        vertical-align: middle;\n",
       "    }\n",
       "\n",
       "    .dataframe tbody tr th {\n",
       "        vertical-align: top;\n",
       "    }\n",
       "\n",
       "    .dataframe thead th {\n",
       "        text-align: right;\n",
       "    }\n",
       "</style>\n",
       "<table border=\"1\" class=\"dataframe\">\n",
       "  <thead>\n",
       "    <tr style=\"text-align: right;\">\n",
       "      <th></th>\n",
       "      <th>BuyItNow</th>\n",
       "      <th>startprice</th>\n",
       "      <th>color</th>\n",
       "      <th>productline</th>\n",
       "      <th>sold</th>\n",
       "    </tr>\n",
       "  </thead>\n",
       "  <tbody>\n",
       "    <tr>\n",
       "      <th>0</th>\n",
       "      <td>0</td>\n",
       "      <td>199.99</td>\n",
       "      <td>White</td>\n",
       "      <td>Galaxy_S9</td>\n",
       "      <td>1</td>\n",
       "    </tr>\n",
       "    <tr>\n",
       "      <th>1</th>\n",
       "      <td>0</td>\n",
       "      <td>235.00</td>\n",
       "      <td>unknown</td>\n",
       "      <td>Galaxy_Note9</td>\n",
       "      <td>0</td>\n",
       "    </tr>\n",
       "    <tr>\n",
       "      <th>2</th>\n",
       "      <td>0</td>\n",
       "      <td>199.99</td>\n",
       "      <td>unknown</td>\n",
       "      <td>Unknown</td>\n",
       "      <td>0</td>\n",
       "    </tr>\n",
       "    <tr>\n",
       "      <th>3</th>\n",
       "      <td>1</td>\n",
       "      <td>175.00</td>\n",
       "      <td>Space Gray</td>\n",
       "      <td>Galaxy_Note9</td>\n",
       "      <td>1</td>\n",
       "    </tr>\n",
       "    <tr>\n",
       "      <th>4</th>\n",
       "      <td>1</td>\n",
       "      <td>100.00</td>\n",
       "      <td>Space Gray</td>\n",
       "      <td>Galaxy_S8</td>\n",
       "      <td>1</td>\n",
       "    </tr>\n",
       "  </tbody>\n",
       "</table>\n",
       "</div>"
      ],
      "text/plain": [
       "   BuyItNow  startprice       color   productline  sold\n",
       "0         0      199.99       White     Galaxy_S9     1\n",
       "1         0      235.00     unknown  Galaxy_Note9     0\n",
       "2         0      199.99     unknown       Unknown     0\n",
       "3         1      175.00  Space Gray  Galaxy_Note9     1\n",
       "4         1      100.00  Space Gray     Galaxy_S8     1"
      ]
     },
     "execution_count": 61,
     "metadata": {},
     "output_type": "execute_result"
    }
   ],
   "source": [
    "data = data.drop('carrier', axis=1)\n",
    "data.head()"
   ]
  },
  {
   "cell_type": "code",
   "execution_count": 20,
   "id": "979fee32",
   "metadata": {},
   "outputs": [
    {
     "data": {
      "text/plain": [
       "<Axes: xlabel='carrier,sold'>"
      ]
     },
     "execution_count": 20,
     "metadata": {},
     "output_type": "execute_result"
    },
    {
     "data": {
      "image/png": "[encoded data removed]",
      "text/plain": [
       "<Figure size 640x480 with 1 Axes>"
      ]
     },
     "metadata": {},
     "output_type": "display_data"
    }
   ],
   "source": [
    "data[['carrier', 'sold']].groupby('carrier').value_counts(sort=False).plot(kind='bar')"
   ]
  },
  {
   "cell_type": "code",
   "execution_count": 21,
   "id": "b2738645",
   "metadata": {},
   "outputs": [
    {
     "data": {
      "text/plain": [
       "<Axes: xlabel='noDescription,sold'>"
      ]
     },
     "execution_count": 21,
     "metadata": {},
     "output_type": "execute_result"
    },
    {
     "data": {
      "image/png": "[encoded data removed]",
      "text/plain": [
       "<Figure size 640x480 with 1 Axes>"
      ]
     },
     "metadata": {},
     "output_type": "display_data"
    }
   ],
   "source": [
    "data[['noDescription', 'sold']].groupby('noDescription').value_counts(sort=False).plot(kind='bar')"
   ]
  },
  {
   "cell_type": "code",
   "execution_count": 22,
   "id": "a26008dc",
   "metadata": {},
   "outputs": [
    {
     "data": {
      "text/plain": [
       "upperCaseDescription  sold\n",
       "0                     0       456\n",
       "                      1       434\n",
       "1                     0        65\n",
       "                      1        61\n",
       "2                     0        71\n",
       "                             ... \n",
       "76                    1         2\n",
       "77                    0         1\n",
       "78                    0         2\n",
       "80                    0         3\n",
       "81                    0         2\n",
       "Name: count, Length: 66, dtype: int64"
      ]
     },
     "execution_count": 22,
     "metadata": {},
     "output_type": "execute_result"
    }
   ],
   "source": [
    "data[['upperCaseDescription', 'sold']].groupby('upperCaseDescription').value_counts(sort=False)"
   ]
  },
  {
   "cell_type": "code",
   "execution_count": 23,
   "id": "2a3abe4e",
   "metadata": {
    "scrolled": true
   },
   "outputs": [
    {
     "data": {
      "text/plain": [
       "charCountDescription  sold\n",
       "0                     0       443\n",
       "                      1       413\n",
       "3                     0         1\n",
       "4                     1         3\n",
       "5                     0         1\n",
       "                             ... \n",
       "106                   1         1\n",
       "108                   0         1\n",
       "                      1         1\n",
       "109                   1         1\n",
       "111                   1         1\n",
       "Name: count, Length: 175, dtype: int64"
      ]
     },
     "execution_count": 23,
     "metadata": {},
     "output_type": "execute_result"
    }
   ],
   "source": [
    "data[['charCountDescription', 'sold']].groupby('charCountDescription').value_counts(sort=False)"
   ]
  },
  {
   "cell_type": "code",
   "execution_count": 24,
   "id": "3753f434",
   "metadata": {},
   "outputs": [
    {
     "data": {
      "text/plain": [
       "np.int64(111)"
      ]
     },
     "execution_count": 24,
     "metadata": {},
     "output_type": "execute_result"
    }
   ],
   "source": [
    "data['charCountDescription'].max()"
   ]
  },
  {
   "cell_type": "code",
   "execution_count": 25,
   "id": "022df81d",
   "metadata": {},
   "outputs": [],
   "source": [
    "# def charCount(x):\n",
    "#     if x < 55:\n",
    "#         return \"under10\"\n",
    "#     else:\n",
    "#         return \"10s\"\n",
    "    \n",
    "        \n",
    "    \n",
    "# data['Age'] = data['Age'].apply(ages)"
   ]
  },
  {
   "cell_type": "code",
   "execution_count": null,
   "id": "7a371465",
   "metadata": {},
   "outputs": [],
   "source": []
  },
  {
   "cell_type": "markdown",
   "id": "13da412e",
   "metadata": {},
   "source": [
    "# EDA"
   ]
  },
  {
   "cell_type": "code",
   "execution_count": 26,
   "id": "96b67032",
   "metadata": {
    "scrolled": true
   },
   "outputs": [
    {
     "data": {
      "text/html": [
       "<div>\n",
       "<style scoped>\n",
       "    .dataframe tbody tr th:only-of-type {\n",
       "        vertical-align: middle;\n",
       "    }\n",
       "\n",
       "    .dataframe tbody tr th {\n",
       "        vertical-align: top;\n",
       "    }\n",
       "\n",
       "    .dataframe thead th {\n",
       "        text-align: right;\n",
       "    }\n",
       "</style>\n",
       "<table border=\"1\" class=\"dataframe\">\n",
       "  <thead>\n",
       "    <tr style=\"text-align: right;\">\n",
       "      <th></th>\n",
       "      <th>BuyItNow</th>\n",
       "      <th>startprice</th>\n",
       "      <th>charCountDescription</th>\n",
       "      <th>upperCaseDescription</th>\n",
       "      <th>sold</th>\n",
       "    </tr>\n",
       "  </thead>\n",
       "  <tbody>\n",
       "    <tr>\n",
       "      <th>count</th>\n",
       "      <td>1485.000000</td>\n",
       "      <td>1485.000000</td>\n",
       "      <td>1485.000000</td>\n",
       "      <td>1485.000000</td>\n",
       "      <td>1485.000000</td>\n",
       "    </tr>\n",
       "    <tr>\n",
       "      <th>mean</th>\n",
       "      <td>0.449158</td>\n",
       "      <td>216.844162</td>\n",
       "      <td>31.184512</td>\n",
       "      <td>2.863300</td>\n",
       "      <td>0.461953</td>\n",
       "    </tr>\n",
       "    <tr>\n",
       "      <th>std</th>\n",
       "      <td>0.497576</td>\n",
       "      <td>172.893308</td>\n",
       "      <td>41.744518</td>\n",
       "      <td>9.418585</td>\n",
       "      <td>0.498718</td>\n",
       "    </tr>\n",
       "    <tr>\n",
       "      <th>min</th>\n",
       "      <td>0.000000</td>\n",
       "      <td>0.010000</td>\n",
       "      <td>0.000000</td>\n",
       "      <td>0.000000</td>\n",
       "      <td>0.000000</td>\n",
       "    </tr>\n",
       "    <tr>\n",
       "      <th>25%</th>\n",
       "      <td>0.000000</td>\n",
       "      <td>80.000000</td>\n",
       "      <td>0.000000</td>\n",
       "      <td>0.000000</td>\n",
       "      <td>0.000000</td>\n",
       "    </tr>\n",
       "    <tr>\n",
       "      <th>50%</th>\n",
       "      <td>0.000000</td>\n",
       "      <td>198.000000</td>\n",
       "      <td>0.000000</td>\n",
       "      <td>0.000000</td>\n",
       "      <td>0.000000</td>\n",
       "    </tr>\n",
       "    <tr>\n",
       "      <th>75%</th>\n",
       "      <td>1.000000</td>\n",
       "      <td>310.000000</td>\n",
       "      <td>79.000000</td>\n",
       "      <td>2.000000</td>\n",
       "      <td>1.000000</td>\n",
       "    </tr>\n",
       "    <tr>\n",
       "      <th>max</th>\n",
       "      <td>1.000000</td>\n",
       "      <td>999.000000</td>\n",
       "      <td>111.000000</td>\n",
       "      <td>81.000000</td>\n",
       "      <td>1.000000</td>\n",
       "    </tr>\n",
       "  </tbody>\n",
       "</table>\n",
       "</div>"
      ],
      "text/plain": [
       "          BuyItNow   startprice  charCountDescription  upperCaseDescription  \\\n",
       "count  1485.000000  1485.000000           1485.000000           1485.000000   \n",
       "mean      0.449158   216.844162             31.184512              2.863300   \n",
       "std       0.497576   172.893308             41.744518              9.418585   \n",
       "min       0.000000     0.010000              0.000000              0.000000   \n",
       "25%       0.000000    80.000000              0.000000              0.000000   \n",
       "50%       0.000000   198.000000              0.000000              0.000000   \n",
       "75%       1.000000   310.000000             79.000000              2.000000   \n",
       "max       1.000000   999.000000            111.000000             81.000000   \n",
       "\n",
       "              sold  \n",
       "count  1485.000000  \n",
       "mean      0.461953  \n",
       "std       0.498718  \n",
       "min       0.000000  \n",
       "25%       0.000000  \n",
       "50%       0.000000  \n",
       "75%       1.000000  \n",
       "max       1.000000  "
      ]
     },
     "execution_count": 26,
     "metadata": {},
     "output_type": "execute_result"
    }
   ],
   "source": [
    "data.describe()"
   ]
  },
  {
   "cell_type": "code",
   "execution_count": null,
   "id": "7460a50b",
   "metadata": {},
   "outputs": [],
   "source": [
    "#가격 -> 평균하고 max값 많이 떨어져있다 -> 이상치가 있을것 추론\n",
    "# 디스크립션 -> 대부분 빈칸"
   ]
  },
  {
   "cell_type": "code",
   "execution_count": 27,
   "id": "7c302ec9",
   "metadata": {},
   "outputs": [
    {
     "name": "stdout",
     "output_type": "stream",
     "text": [
      "<class 'pandas.core.frame.DataFrame'>\n",
      "RangeIndex: 1485 entries, 0 to 1484\n",
      "Data columns (total 9 columns):\n",
      " #   Column                Non-Null Count  Dtype  \n",
      "---  ------                --------------  -----  \n",
      " 0   BuyItNow              1485 non-null   int64  \n",
      " 1   startprice            1485 non-null   float64\n",
      " 2   carrier               1485 non-null   object \n",
      " 3   color                 1485 non-null   object \n",
      " 4   productline           1485 non-null   object \n",
      " 5   noDescription         1485 non-null   object \n",
      " 6   charCountDescription  1485 non-null   int64  \n",
      " 7   upperCaseDescription  1485 non-null   int64  \n",
      " 8   sold                  1485 non-null   int64  \n",
      "dtypes: float64(1), int64(4), object(4)\n",
      "memory usage: 104.5+ KB\n"
     ]
    }
   ],
   "source": [
    "data.info()"
   ]
  },
  {
   "cell_type": "code",
   "execution_count": 28,
   "id": "1dc31271",
   "metadata": {},
   "outputs": [],
   "source": [
    "data1 = data.copy()\n",
    "data2 = data.copy()"
   ]
  },
  {
   "cell_type": "markdown",
   "id": "e3d884f6",
   "metadata": {},
   "source": [
    "### groupby로 독립변수와 종속변수간 규칙 찾기"
   ]
  },
  {
   "cell_type": "code",
   "execution_count": 29,
   "id": "ff121871",
   "metadata": {},
   "outputs": [
    {
     "data": {
      "text/html": [
       "<div>\n",
       "<style scoped>\n",
       "    .dataframe tbody tr th:only-of-type {\n",
       "        vertical-align: middle;\n",
       "    }\n",
       "\n",
       "    .dataframe tbody tr th {\n",
       "        vertical-align: top;\n",
       "    }\n",
       "\n",
       "    .dataframe thead th {\n",
       "        text-align: right;\n",
       "    }\n",
       "</style>\n",
       "<table border=\"1\" class=\"dataframe\">\n",
       "  <thead>\n",
       "    <tr style=\"text-align: right;\">\n",
       "      <th></th>\n",
       "      <th>BuyItNow</th>\n",
       "      <th>startprice</th>\n",
       "      <th>carrier</th>\n",
       "      <th>color</th>\n",
       "      <th>productline</th>\n",
       "      <th>noDescription</th>\n",
       "      <th>charCountDescription</th>\n",
       "      <th>upperCaseDescription</th>\n",
       "      <th>sold</th>\n",
       "    </tr>\n",
       "  </thead>\n",
       "  <tbody>\n",
       "    <tr>\n",
       "      <th>0</th>\n",
       "      <td>0</td>\n",
       "      <td>199.99</td>\n",
       "      <td>unknown</td>\n",
       "      <td>White</td>\n",
       "      <td>Galaxy_S9</td>\n",
       "      <td>contains description</td>\n",
       "      <td>0</td>\n",
       "      <td>0</td>\n",
       "      <td>1</td>\n",
       "    </tr>\n",
       "    <tr>\n",
       "      <th>1</th>\n",
       "      <td>0</td>\n",
       "      <td>235.00</td>\n",
       "      <td>unknown</td>\n",
       "      <td>unknown</td>\n",
       "      <td>Galaxy_Note9</td>\n",
       "      <td>contains description</td>\n",
       "      <td>0</td>\n",
       "      <td>0</td>\n",
       "      <td>0</td>\n",
       "    </tr>\n",
       "    <tr>\n",
       "      <th>2</th>\n",
       "      <td>0</td>\n",
       "      <td>199.99</td>\n",
       "      <td>unknown</td>\n",
       "      <td>unknown</td>\n",
       "      <td>Unknown</td>\n",
       "      <td>no description</td>\n",
       "      <td>100</td>\n",
       "      <td>2</td>\n",
       "      <td>0</td>\n",
       "    </tr>\n",
       "    <tr>\n",
       "      <th>3</th>\n",
       "      <td>1</td>\n",
       "      <td>175.00</td>\n",
       "      <td>AT&amp;T</td>\n",
       "      <td>Space Gray</td>\n",
       "      <td>Galaxy_Note9</td>\n",
       "      <td>contains description</td>\n",
       "      <td>0</td>\n",
       "      <td>0</td>\n",
       "      <td>1</td>\n",
       "    </tr>\n",
       "    <tr>\n",
       "      <th>4</th>\n",
       "      <td>1</td>\n",
       "      <td>100.00</td>\n",
       "      <td>unknown</td>\n",
       "      <td>Space Gray</td>\n",
       "      <td>Galaxy_S8</td>\n",
       "      <td>contains description</td>\n",
       "      <td>0</td>\n",
       "      <td>0</td>\n",
       "      <td>1</td>\n",
       "    </tr>\n",
       "  </tbody>\n",
       "</table>\n",
       "</div>"
      ],
      "text/plain": [
       "   BuyItNow  startprice  carrier       color   productline  \\\n",
       "0         0      199.99  unknown       White     Galaxy_S9   \n",
       "1         0      235.00  unknown     unknown  Galaxy_Note9   \n",
       "2         0      199.99  unknown     unknown       Unknown   \n",
       "3         1      175.00     AT&T  Space Gray  Galaxy_Note9   \n",
       "4         1      100.00  unknown  Space Gray     Galaxy_S8   \n",
       "\n",
       "          noDescription  charCountDescription  upperCaseDescription  sold  \n",
       "0  contains description                     0                     0     1  \n",
       "1  contains description                     0                     0     0  \n",
       "2        no description                   100                     2     0  \n",
       "3  contains description                     0                     0     1  \n",
       "4  contains description                     0                     0     1  "
      ]
     },
     "execution_count": 29,
     "metadata": {},
     "output_type": "execute_result"
    }
   ],
   "source": [
    "data.head()"
   ]
  },
  {
   "cell_type": "code",
   "execution_count": 30,
   "id": "87f3308a",
   "metadata": {
    "scrolled": true
   },
   "outputs": [
    {
     "data": {
      "text/html": [
       "<div>\n",
       "<style scoped>\n",
       "    .dataframe tbody tr th:only-of-type {\n",
       "        vertical-align: middle;\n",
       "    }\n",
       "\n",
       "    .dataframe tbody tr th {\n",
       "        vertical-align: top;\n",
       "    }\n",
       "\n",
       "    .dataframe thead th {\n",
       "        text-align: right;\n",
       "    }\n",
       "</style>\n",
       "<table border=\"1\" class=\"dataframe\">\n",
       "  <thead>\n",
       "    <tr style=\"text-align: right;\">\n",
       "      <th></th>\n",
       "      <th>BuyItNow</th>\n",
       "      <th>startprice</th>\n",
       "      <th>charCountDescription</th>\n",
       "      <th>upperCaseDescription</th>\n",
       "      <th>sold</th>\n",
       "    </tr>\n",
       "  </thead>\n",
       "  <tbody>\n",
       "    <tr>\n",
       "      <th>count</th>\n",
       "      <td>1485.000000</td>\n",
       "      <td>1485.000000</td>\n",
       "      <td>1485.000000</td>\n",
       "      <td>1485.000000</td>\n",
       "      <td>1485.000000</td>\n",
       "    </tr>\n",
       "    <tr>\n",
       "      <th>mean</th>\n",
       "      <td>0.449158</td>\n",
       "      <td>216.844162</td>\n",
       "      <td>31.184512</td>\n",
       "      <td>2.863300</td>\n",
       "      <td>0.461953</td>\n",
       "    </tr>\n",
       "    <tr>\n",
       "      <th>std</th>\n",
       "      <td>0.497576</td>\n",
       "      <td>172.893308</td>\n",
       "      <td>41.744518</td>\n",
       "      <td>9.418585</td>\n",
       "      <td>0.498718</td>\n",
       "    </tr>\n",
       "    <tr>\n",
       "      <th>min</th>\n",
       "      <td>0.000000</td>\n",
       "      <td>0.010000</td>\n",
       "      <td>0.000000</td>\n",
       "      <td>0.000000</td>\n",
       "      <td>0.000000</td>\n",
       "    </tr>\n",
       "    <tr>\n",
       "      <th>25%</th>\n",
       "      <td>0.000000</td>\n",
       "      <td>80.000000</td>\n",
       "      <td>0.000000</td>\n",
       "      <td>0.000000</td>\n",
       "      <td>0.000000</td>\n",
       "    </tr>\n",
       "    <tr>\n",
       "      <th>50%</th>\n",
       "      <td>0.000000</td>\n",
       "      <td>198.000000</td>\n",
       "      <td>0.000000</td>\n",
       "      <td>0.000000</td>\n",
       "      <td>0.000000</td>\n",
       "    </tr>\n",
       "    <tr>\n",
       "      <th>75%</th>\n",
       "      <td>1.000000</td>\n",
       "      <td>310.000000</td>\n",
       "      <td>79.000000</td>\n",
       "      <td>2.000000</td>\n",
       "      <td>1.000000</td>\n",
       "    </tr>\n",
       "    <tr>\n",
       "      <th>max</th>\n",
       "      <td>1.000000</td>\n",
       "      <td>999.000000</td>\n",
       "      <td>111.000000</td>\n",
       "      <td>81.000000</td>\n",
       "      <td>1.000000</td>\n",
       "    </tr>\n",
       "  </tbody>\n",
       "</table>\n",
       "</div>"
      ],
      "text/plain": [
       "          BuyItNow   startprice  charCountDescription  upperCaseDescription  \\\n",
       "count  1485.000000  1485.000000           1485.000000           1485.000000   \n",
       "mean      0.449158   216.844162             31.184512              2.863300   \n",
       "std       0.497576   172.893308             41.744518              9.418585   \n",
       "min       0.000000     0.010000              0.000000              0.000000   \n",
       "25%       0.000000    80.000000              0.000000              0.000000   \n",
       "50%       0.000000   198.000000              0.000000              0.000000   \n",
       "75%       1.000000   310.000000             79.000000              2.000000   \n",
       "max       1.000000   999.000000            111.000000             81.000000   \n",
       "\n",
       "              sold  \n",
       "count  1485.000000  \n",
       "mean      0.461953  \n",
       "std       0.498718  \n",
       "min       0.000000  \n",
       "25%       0.000000  \n",
       "50%       0.000000  \n",
       "75%       1.000000  \n",
       "max       1.000000  "
      ]
     },
     "execution_count": 30,
     "metadata": {},
     "output_type": "execute_result"
    }
   ],
   "source": [
    "data.describe()"
   ]
  },
  {
   "cell_type": "code",
   "execution_count": 31,
   "id": "8c7035ca",
   "metadata": {},
   "outputs": [
    {
     "data": {
      "text/plain": [
       "Index(['BuyItNow', 'startprice', 'carrier', 'color', 'productline',\n",
       "       'noDescription', 'charCountDescription', 'upperCaseDescription',\n",
       "       'sold'],\n",
       "      dtype='object')"
      ]
     },
     "execution_count": 31,
     "metadata": {},
     "output_type": "execute_result"
    }
   ],
   "source": [
    "data.columns"
   ]
  },
  {
   "cell_type": "code",
   "execution_count": 32,
   "id": "67e70759",
   "metadata": {},
   "outputs": [
    {
     "data": {
      "text/html": [
       "<div>\n",
       "<style scoped>\n",
       "    .dataframe tbody tr th:only-of-type {\n",
       "        vertical-align: middle;\n",
       "    }\n",
       "\n",
       "    .dataframe tbody tr th {\n",
       "        vertical-align: top;\n",
       "    }\n",
       "\n",
       "    .dataframe thead th {\n",
       "        text-align: right;\n",
       "    }\n",
       "</style>\n",
       "<table border=\"1\" class=\"dataframe\">\n",
       "  <thead>\n",
       "    <tr style=\"text-align: right;\">\n",
       "      <th></th>\n",
       "      <th>startprice</th>\n",
       "    </tr>\n",
       "    <tr>\n",
       "      <th>productline</th>\n",
       "      <th></th>\n",
       "    </tr>\n",
       "  </thead>\n",
       "  <tbody>\n",
       "    <tr>\n",
       "      <th>Galaxy_Note10</th>\n",
       "      <td>366.931311</td>\n",
       "    </tr>\n",
       "    <tr>\n",
       "      <th>Galaxy_Note8</th>\n",
       "      <td>176.065033</td>\n",
       "    </tr>\n",
       "    <tr>\n",
       "      <th>Galaxy_Note9</th>\n",
       "      <td>254.561402</td>\n",
       "    </tr>\n",
       "    <tr>\n",
       "      <th>Galaxy_S10</th>\n",
       "      <td>294.583750</td>\n",
       "    </tr>\n",
       "    <tr>\n",
       "      <th>Galaxy_S7</th>\n",
       "      <td>84.190000</td>\n",
       "    </tr>\n",
       "    <tr>\n",
       "      <th>Galaxy_S8</th>\n",
       "      <td>165.883321</td>\n",
       "    </tr>\n",
       "    <tr>\n",
       "      <th>Galaxy_S9</th>\n",
       "      <td>231.268101</td>\n",
       "    </tr>\n",
       "    <tr>\n",
       "      <th>Unknown</th>\n",
       "      <td>171.994265</td>\n",
       "    </tr>\n",
       "  </tbody>\n",
       "</table>\n",
       "</div>"
      ],
      "text/plain": [
       "               startprice\n",
       "productline              \n",
       "Galaxy_Note10  366.931311\n",
       "Galaxy_Note8   176.065033\n",
       "Galaxy_Note9   254.561402\n",
       "Galaxy_S10     294.583750\n",
       "Galaxy_S7       84.190000\n",
       "Galaxy_S8      165.883321\n",
       "Galaxy_S9      231.268101\n",
       "Unknown        171.994265"
      ]
     },
     "execution_count": 32,
     "metadata": {},
     "output_type": "execute_result"
    }
   ],
   "source": [
    "data[['startprice', 'productline']].groupby('productline').mean()"
   ]
  },
  {
   "cell_type": "code",
   "execution_count": 33,
   "id": "0c971cdd",
   "metadata": {
    "scrolled": true
   },
   "outputs": [
    {
     "data": {
      "text/plain": [
       "productline    BuyItNow  sold\n",
       "Galaxy_Note10  0         0       174\n",
       "                         1        37\n",
       "               1         1       112\n",
       "                         0        28\n",
       "Galaxy_Note8   0         0        59\n",
       "                         1        17\n",
       "               1         1        63\n",
       "                         0        14\n",
       "Galaxy_Note9   0         0        46\n",
       "                         1        15\n",
       "               1         1        34\n",
       "                         0        12\n",
       "Galaxy_S10     0         0         4\n",
       "                         1         3\n",
       "               1         1         1\n",
       "Galaxy_S7      0         0        80\n",
       "                         1        29\n",
       "               1         1        96\n",
       "                         0        22\n",
       "Galaxy_S8      0         0       108\n",
       "                         1        33\n",
       "               1         1        99\n",
       "                         0        37\n",
       "Galaxy_S9      0         0        74\n",
       "                         1        19\n",
       "               1         1        46\n",
       "                         0        19\n",
       "Unknown        0         0        94\n",
       "                         1        26\n",
       "               1         1        56\n",
       "                         0        28\n",
       "Name: count, dtype: int64"
      ]
     },
     "execution_count": 33,
     "metadata": {},
     "output_type": "execute_result"
    }
   ],
   "source": [
    "data[['BuyItNow', 'productline','sold']].groupby(['productline','BuyItNow']).value_counts(sort=True)"
   ]
  },
  {
   "cell_type": "code",
   "execution_count": 34,
   "id": "92e14c76",
   "metadata": {},
   "outputs": [
    {
     "data": {
      "text/plain": [
       "BuyItNow  sold\n",
       "0         0       639\n",
       "          1       179\n",
       "1         1       507\n",
       "          0       160\n",
       "Name: count, dtype: int64"
      ]
     },
     "execution_count": 34,
     "metadata": {},
     "output_type": "execute_result"
    }
   ],
   "source": [
    "data[['BuyItNow', 'sold']].groupby('BuyItNow').value_counts(sort=True)"
   ]
  },
  {
   "cell_type": "markdown",
   "id": "cc9f4b6c",
   "metadata": {},
   "source": [
    "* 바로 구매가능한지 여부 -> 팔렸는지 안팔렸는지"
   ]
  },
  {
   "cell_type": "code",
   "execution_count": 35,
   "id": "c6870e4e",
   "metadata": {},
   "outputs": [
    {
     "data": {
      "text/plain": [
       "76.01199400299849"
      ]
     },
     "execution_count": 35,
     "metadata": {},
     "output_type": "execute_result"
    }
   ],
   "source": [
    "# 바로 구매 0-> 팔림 : \n",
    "507/(507+160)*100"
   ]
  },
  {
   "cell_type": "code",
   "execution_count": 36,
   "id": "cda61c40",
   "metadata": {},
   "outputs": [
    {
     "data": {
      "text/plain": [
       "23.988005997001498"
      ]
     },
     "execution_count": 36,
     "metadata": {},
     "output_type": "execute_result"
    }
   ],
   "source": [
    "# 바로 구매 0-> 안팔림 : \n",
    "160/(507+160)*100"
   ]
  },
  {
   "cell_type": "code",
   "execution_count": 37,
   "id": "647909a7",
   "metadata": {},
   "outputs": [
    {
     "data": {
      "text/plain": [
       "78.11735941320293"
      ]
     },
     "execution_count": 37,
     "metadata": {},
     "output_type": "execute_result"
    }
   ],
   "source": [
    "# 바로 구매 X-> 안팔림 : \n",
    "639/(639+179)*100"
   ]
  },
  {
   "cell_type": "code",
   "execution_count": 38,
   "id": "d29a563e",
   "metadata": {},
   "outputs": [
    {
     "data": {
      "text/plain": [
       "21.882640586797066"
      ]
     },
     "execution_count": 38,
     "metadata": {},
     "output_type": "execute_result"
    }
   ],
   "source": [
    "# 바로 구매 X-> 팔림 : \n",
    "179/(639+179)*100"
   ]
  },
  {
   "cell_type": "code",
   "execution_count": null,
   "id": "44ad2f28",
   "metadata": {},
   "outputs": [],
   "source": []
  },
  {
   "cell_type": "code",
   "execution_count": 39,
   "id": "6d2895a6",
   "metadata": {
    "scrolled": true
   },
   "outputs": [
    {
     "data": {
      "text/plain": [
       "BuyItNow  productline  \n",
       "0         Galaxy_Note10    211\n",
       "          Galaxy_S8        141\n",
       "          Unknown          120\n",
       "          Galaxy_S7        109\n",
       "          Galaxy_S9         93\n",
       "          Galaxy_Note8      76\n",
       "          Galaxy_Note9      61\n",
       "          Galaxy_S10         7\n",
       "1         Galaxy_Note10    140\n",
       "          Galaxy_S8        136\n",
       "          Galaxy_S7        118\n",
       "          Unknown           84\n",
       "          Galaxy_Note8      77\n",
       "          Galaxy_S9         65\n",
       "          Galaxy_Note9      46\n",
       "          Galaxy_S10         1\n",
       "Name: count, dtype: int64"
      ]
     },
     "execution_count": 39,
     "metadata": {},
     "output_type": "execute_result"
    }
   ],
   "source": [
    "data[['BuyItNow', 'productline']].groupby('BuyItNow').value_counts(sort=True)"
   ]
  },
  {
   "cell_type": "code",
   "execution_count": 40,
   "id": "e1a72f42",
   "metadata": {
    "scrolled": true
   },
   "outputs": [
    {
     "data": {
      "text/plain": [
       "sold  productline  \n",
       "0     Galaxy_Note10    202\n",
       "      Galaxy_S8        145\n",
       "      Unknown          122\n",
       "      Galaxy_S7        102\n",
       "      Galaxy_S9         93\n",
       "      Galaxy_Note8      73\n",
       "      Galaxy_Note9      58\n",
       "      Galaxy_S10         4\n",
       "1     Galaxy_Note10    149\n",
       "      Galaxy_S8        132\n",
       "      Galaxy_S7        125\n",
       "      Unknown           82\n",
       "      Galaxy_Note8      80\n",
       "      Galaxy_S9         65\n",
       "      Galaxy_Note9      49\n",
       "      Galaxy_S10         4\n",
       "Name: count, dtype: int64"
      ]
     },
     "execution_count": 40,
     "metadata": {},
     "output_type": "execute_result"
    }
   ],
   "source": [
    "data[['sold', 'productline']].groupby('sold').value_counts(sort=True)"
   ]
  },
  {
   "cell_type": "markdown",
   "id": "f06bb83d",
   "metadata": {},
   "source": [
    "*  Galaxy_S10 인기 없음"
   ]
  },
  {
   "cell_type": "code",
   "execution_count": null,
   "id": "6a77a0b1",
   "metadata": {},
   "outputs": [],
   "source": []
  },
  {
   "cell_type": "code",
   "execution_count": 41,
   "id": "5e7b742e",
   "metadata": {
    "scrolled": true
   },
   "outputs": [
    {
     "data": {
      "text/html": [
       "<div>\n",
       "<style scoped>\n",
       "    .dataframe tbody tr th:only-of-type {\n",
       "        vertical-align: middle;\n",
       "    }\n",
       "\n",
       "    .dataframe tbody tr th {\n",
       "        vertical-align: top;\n",
       "    }\n",
       "\n",
       "    .dataframe thead th {\n",
       "        text-align: right;\n",
       "    }\n",
       "</style>\n",
       "<table border=\"1\" class=\"dataframe\">\n",
       "  <thead>\n",
       "    <tr style=\"text-align: right;\">\n",
       "      <th></th>\n",
       "      <th>BuyItNow</th>\n",
       "      <th>startprice</th>\n",
       "      <th>charCountDescription</th>\n",
       "      <th>upperCaseDescription</th>\n",
       "      <th>sold</th>\n",
       "    </tr>\n",
       "  </thead>\n",
       "  <tbody>\n",
       "    <tr>\n",
       "      <th>count</th>\n",
       "      <td>1485.000000</td>\n",
       "      <td>1485.000000</td>\n",
       "      <td>1485.000000</td>\n",
       "      <td>1485.000000</td>\n",
       "      <td>1485.000000</td>\n",
       "    </tr>\n",
       "    <tr>\n",
       "      <th>mean</th>\n",
       "      <td>0.449158</td>\n",
       "      <td>216.844162</td>\n",
       "      <td>31.184512</td>\n",
       "      <td>2.863300</td>\n",
       "      <td>0.461953</td>\n",
       "    </tr>\n",
       "    <tr>\n",
       "      <th>std</th>\n",
       "      <td>0.497576</td>\n",
       "      <td>172.893308</td>\n",
       "      <td>41.744518</td>\n",
       "      <td>9.418585</td>\n",
       "      <td>0.498718</td>\n",
       "    </tr>\n",
       "    <tr>\n",
       "      <th>min</th>\n",
       "      <td>0.000000</td>\n",
       "      <td>0.010000</td>\n",
       "      <td>0.000000</td>\n",
       "      <td>0.000000</td>\n",
       "      <td>0.000000</td>\n",
       "    </tr>\n",
       "    <tr>\n",
       "      <th>25%</th>\n",
       "      <td>0.000000</td>\n",
       "      <td>80.000000</td>\n",
       "      <td>0.000000</td>\n",
       "      <td>0.000000</td>\n",
       "      <td>0.000000</td>\n",
       "    </tr>\n",
       "    <tr>\n",
       "      <th>50%</th>\n",
       "      <td>0.000000</td>\n",
       "      <td>198.000000</td>\n",
       "      <td>0.000000</td>\n",
       "      <td>0.000000</td>\n",
       "      <td>0.000000</td>\n",
       "    </tr>\n",
       "    <tr>\n",
       "      <th>75%</th>\n",
       "      <td>1.000000</td>\n",
       "      <td>310.000000</td>\n",
       "      <td>79.000000</td>\n",
       "      <td>2.000000</td>\n",
       "      <td>1.000000</td>\n",
       "    </tr>\n",
       "    <tr>\n",
       "      <th>max</th>\n",
       "      <td>1.000000</td>\n",
       "      <td>999.000000</td>\n",
       "      <td>111.000000</td>\n",
       "      <td>81.000000</td>\n",
       "      <td>1.000000</td>\n",
       "    </tr>\n",
       "  </tbody>\n",
       "</table>\n",
       "</div>"
      ],
      "text/plain": [
       "          BuyItNow   startprice  charCountDescription  upperCaseDescription  \\\n",
       "count  1485.000000  1485.000000           1485.000000           1485.000000   \n",
       "mean      0.449158   216.844162             31.184512              2.863300   \n",
       "std       0.497576   172.893308             41.744518              9.418585   \n",
       "min       0.000000     0.010000              0.000000              0.000000   \n",
       "25%       0.000000    80.000000              0.000000              0.000000   \n",
       "50%       0.000000   198.000000              0.000000              0.000000   \n",
       "75%       1.000000   310.000000             79.000000              2.000000   \n",
       "max       1.000000   999.000000            111.000000             81.000000   \n",
       "\n",
       "              sold  \n",
       "count  1485.000000  \n",
       "mean      0.461953  \n",
       "std       0.498718  \n",
       "min       0.000000  \n",
       "25%       0.000000  \n",
       "50%       0.000000  \n",
       "75%       1.000000  \n",
       "max       1.000000  "
      ]
     },
     "execution_count": 41,
     "metadata": {},
     "output_type": "execute_result"
    }
   ],
   "source": [
    "data.describe()"
   ]
  },
  {
   "cell_type": "code",
   "execution_count": 42,
   "id": "e10faf0d",
   "metadata": {},
   "outputs": [
    {
     "data": {
      "text/plain": [
       "upperCaseDescription  sold\n",
       "0                     0       456\n",
       "                      1       434\n",
       "1                     0        65\n",
       "                      1        61\n",
       "2                     0        71\n",
       "                             ... \n",
       "76                    1         2\n",
       "77                    0         1\n",
       "78                    0         2\n",
       "80                    0         3\n",
       "81                    0         2\n",
       "Name: count, Length: 66, dtype: int64"
      ]
     },
     "execution_count": 42,
     "metadata": {},
     "output_type": "execute_result"
    }
   ],
   "source": [
    "data[['upperCaseDescription', 'sold']].groupby('upperCaseDescription').value_counts(sort=False)"
   ]
  },
  {
   "cell_type": "code",
   "execution_count": 43,
   "id": "11f6630b",
   "metadata": {
    "scrolled": false
   },
   "outputs": [
    {
     "data": {
      "text/plain": [
       "charCountDescription  sold\n",
       "0                     0       443\n",
       "                      1       413\n",
       "3                     0         1\n",
       "4                     1         3\n",
       "5                     0         1\n",
       "                             ... \n",
       "106                   1         1\n",
       "108                   0         1\n",
       "                      1         1\n",
       "109                   1         1\n",
       "111                   1         1\n",
       "Name: count, Length: 175, dtype: int64"
      ]
     },
     "execution_count": 43,
     "metadata": {},
     "output_type": "execute_result"
    }
   ],
   "source": [
    "data[['charCountDescription', 'sold']].groupby('charCountDescription').value_counts(sort=False)"
   ]
  },
  {
   "cell_type": "code",
   "execution_count": 44,
   "id": "d931c5f0",
   "metadata": {},
   "outputs": [],
   "source": [
    "# data = data.drop('upperCaseDescription', axis=1)\n",
    "# data.head()"
   ]
  },
  {
   "cell_type": "code",
   "execution_count": 45,
   "id": "a4c66ca3",
   "metadata": {},
   "outputs": [
    {
     "data": {
      "text/html": [
       "<div>\n",
       "<style scoped>\n",
       "    .dataframe tbody tr th:only-of-type {\n",
       "        vertical-align: middle;\n",
       "    }\n",
       "\n",
       "    .dataframe tbody tr th {\n",
       "        vertical-align: top;\n",
       "    }\n",
       "\n",
       "    .dataframe thead th {\n",
       "        text-align: right;\n",
       "    }\n",
       "</style>\n",
       "<table border=\"1\" class=\"dataframe\">\n",
       "  <thead>\n",
       "    <tr style=\"text-align: right;\">\n",
       "      <th></th>\n",
       "      <th>BuyItNow</th>\n",
       "      <th>startprice</th>\n",
       "      <th>carrier</th>\n",
       "      <th>color</th>\n",
       "      <th>productline</th>\n",
       "      <th>noDescription</th>\n",
       "      <th>charCountDescription</th>\n",
       "      <th>upperCaseDescription</th>\n",
       "      <th>sold</th>\n",
       "    </tr>\n",
       "  </thead>\n",
       "  <tbody>\n",
       "    <tr>\n",
       "      <th>0</th>\n",
       "      <td>0</td>\n",
       "      <td>199.99</td>\n",
       "      <td>unknown</td>\n",
       "      <td>White</td>\n",
       "      <td>Galaxy_S9</td>\n",
       "      <td>contains description</td>\n",
       "      <td>0</td>\n",
       "      <td>0</td>\n",
       "      <td>1</td>\n",
       "    </tr>\n",
       "    <tr>\n",
       "      <th>1</th>\n",
       "      <td>0</td>\n",
       "      <td>235.00</td>\n",
       "      <td>unknown</td>\n",
       "      <td>unknown</td>\n",
       "      <td>Galaxy_Note9</td>\n",
       "      <td>contains description</td>\n",
       "      <td>0</td>\n",
       "      <td>0</td>\n",
       "      <td>0</td>\n",
       "    </tr>\n",
       "    <tr>\n",
       "      <th>2</th>\n",
       "      <td>0</td>\n",
       "      <td>199.99</td>\n",
       "      <td>unknown</td>\n",
       "      <td>unknown</td>\n",
       "      <td>Unknown</td>\n",
       "      <td>no description</td>\n",
       "      <td>100</td>\n",
       "      <td>2</td>\n",
       "      <td>0</td>\n",
       "    </tr>\n",
       "    <tr>\n",
       "      <th>3</th>\n",
       "      <td>1</td>\n",
       "      <td>175.00</td>\n",
       "      <td>AT&amp;T</td>\n",
       "      <td>Space Gray</td>\n",
       "      <td>Galaxy_Note9</td>\n",
       "      <td>contains description</td>\n",
       "      <td>0</td>\n",
       "      <td>0</td>\n",
       "      <td>1</td>\n",
       "    </tr>\n",
       "    <tr>\n",
       "      <th>4</th>\n",
       "      <td>1</td>\n",
       "      <td>100.00</td>\n",
       "      <td>unknown</td>\n",
       "      <td>Space Gray</td>\n",
       "      <td>Galaxy_S8</td>\n",
       "      <td>contains description</td>\n",
       "      <td>0</td>\n",
       "      <td>0</td>\n",
       "      <td>1</td>\n",
       "    </tr>\n",
       "    <tr>\n",
       "      <th>5</th>\n",
       "      <td>1</td>\n",
       "      <td>0.99</td>\n",
       "      <td>unknown</td>\n",
       "      <td>White</td>\n",
       "      <td>Galaxy_S7</td>\n",
       "      <td>contains description</td>\n",
       "      <td>0</td>\n",
       "      <td>0</td>\n",
       "      <td>1</td>\n",
       "    </tr>\n",
       "    <tr>\n",
       "      <th>6</th>\n",
       "      <td>1</td>\n",
       "      <td>150.00</td>\n",
       "      <td>unknown</td>\n",
       "      <td>White</td>\n",
       "      <td>Galaxy_S9</td>\n",
       "      <td>contains description</td>\n",
       "      <td>0</td>\n",
       "      <td>0</td>\n",
       "      <td>1</td>\n",
       "    </tr>\n",
       "    <tr>\n",
       "      <th>7</th>\n",
       "      <td>0</td>\n",
       "      <td>199.99</td>\n",
       "      <td>unknown</td>\n",
       "      <td>Midnight Black</td>\n",
       "      <td>Galaxy_S9</td>\n",
       "      <td>no description</td>\n",
       "      <td>92</td>\n",
       "      <td>0</td>\n",
       "      <td>1</td>\n",
       "    </tr>\n",
       "    <tr>\n",
       "      <th>8</th>\n",
       "      <td>0</td>\n",
       "      <td>99.99</td>\n",
       "      <td>unknown</td>\n",
       "      <td>White</td>\n",
       "      <td>Galaxy_S7</td>\n",
       "      <td>contains description</td>\n",
       "      <td>0</td>\n",
       "      <td>0</td>\n",
       "      <td>0</td>\n",
       "    </tr>\n",
       "    <tr>\n",
       "      <th>9</th>\n",
       "      <td>1</td>\n",
       "      <td>20.00</td>\n",
       "      <td>AT&amp;T</td>\n",
       "      <td>Midnight Black</td>\n",
       "      <td>Galaxy_S7</td>\n",
       "      <td>no description</td>\n",
       "      <td>96</td>\n",
       "      <td>41</td>\n",
       "      <td>1</td>\n",
       "    </tr>\n",
       "    <tr>\n",
       "      <th>10</th>\n",
       "      <td>0</td>\n",
       "      <td>75.00</td>\n",
       "      <td>unknown</td>\n",
       "      <td>Midnight Black</td>\n",
       "      <td>Galaxy_S7</td>\n",
       "      <td>contains description</td>\n",
       "      <td>0</td>\n",
       "      <td>0</td>\n",
       "      <td>1</td>\n",
       "    </tr>\n",
       "    <tr>\n",
       "      <th>11</th>\n",
       "      <td>0</td>\n",
       "      <td>199.99</td>\n",
       "      <td>unknown</td>\n",
       "      <td>White</td>\n",
       "      <td>Galaxy_S9</td>\n",
       "      <td>no description</td>\n",
       "      <td>98</td>\n",
       "      <td>3</td>\n",
       "      <td>1</td>\n",
       "    </tr>\n",
       "    <tr>\n",
       "      <th>12</th>\n",
       "      <td>0</td>\n",
       "      <td>344.95</td>\n",
       "      <td>unknown</td>\n",
       "      <td>Space Gray</td>\n",
       "      <td>Galaxy_Note10</td>\n",
       "      <td>contains description</td>\n",
       "      <td>0</td>\n",
       "      <td>0</td>\n",
       "      <td>0</td>\n",
       "    </tr>\n",
       "    <tr>\n",
       "      <th>13</th>\n",
       "      <td>0</td>\n",
       "      <td>184.50</td>\n",
       "      <td>unknown</td>\n",
       "      <td>Midnight Black</td>\n",
       "      <td>Galaxy_Note8</td>\n",
       "      <td>no description</td>\n",
       "      <td>100</td>\n",
       "      <td>4</td>\n",
       "      <td>1</td>\n",
       "    </tr>\n",
       "    <tr>\n",
       "      <th>14</th>\n",
       "      <td>0</td>\n",
       "      <td>209.98</td>\n",
       "      <td>unknown</td>\n",
       "      <td>White</td>\n",
       "      <td>Galaxy_Note9</td>\n",
       "      <td>no description</td>\n",
       "      <td>100</td>\n",
       "      <td>6</td>\n",
       "      <td>0</td>\n",
       "    </tr>\n",
       "    <tr>\n",
       "      <th>15</th>\n",
       "      <td>0</td>\n",
       "      <td>375.00</td>\n",
       "      <td>unknown</td>\n",
       "      <td>White</td>\n",
       "      <td>Galaxy_Note10</td>\n",
       "      <td>contains description</td>\n",
       "      <td>0</td>\n",
       "      <td>0</td>\n",
       "      <td>1</td>\n",
       "    </tr>\n",
       "    <tr>\n",
       "      <th>16</th>\n",
       "      <td>0</td>\n",
       "      <td>95.00</td>\n",
       "      <td>unknown</td>\n",
       "      <td>Midnight Black</td>\n",
       "      <td>Galaxy_S7</td>\n",
       "      <td>contains description</td>\n",
       "      <td>0</td>\n",
       "      <td>0</td>\n",
       "      <td>0</td>\n",
       "    </tr>\n",
       "    <tr>\n",
       "      <th>17</th>\n",
       "      <td>0</td>\n",
       "      <td>187.50</td>\n",
       "      <td>unknown</td>\n",
       "      <td>Midnight Black</td>\n",
       "      <td>Galaxy_Note8</td>\n",
       "      <td>no description</td>\n",
       "      <td>84</td>\n",
       "      <td>3</td>\n",
       "      <td>0</td>\n",
       "    </tr>\n",
       "    <tr>\n",
       "      <th>18</th>\n",
       "      <td>0</td>\n",
       "      <td>329.99</td>\n",
       "      <td>unknown</td>\n",
       "      <td>Space Gray</td>\n",
       "      <td>Unknown</td>\n",
       "      <td>contains description</td>\n",
       "      <td>0</td>\n",
       "      <td>0</td>\n",
       "      <td>0</td>\n",
       "    </tr>\n",
       "    <tr>\n",
       "      <th>19</th>\n",
       "      <td>0</td>\n",
       "      <td>149.00</td>\n",
       "      <td>Sprint/T-Mobile</td>\n",
       "      <td>White</td>\n",
       "      <td>Galaxy_Note10</td>\n",
       "      <td>contains description</td>\n",
       "      <td>0</td>\n",
       "      <td>0</td>\n",
       "      <td>0</td>\n",
       "    </tr>\n",
       "  </tbody>\n",
       "</table>\n",
       "</div>"
      ],
      "text/plain": [
       "    BuyItNow  startprice          carrier           color    productline  \\\n",
       "0          0      199.99          unknown           White      Galaxy_S9   \n",
       "1          0      235.00          unknown         unknown   Galaxy_Note9   \n",
       "2          0      199.99          unknown         unknown        Unknown   \n",
       "3          1      175.00             AT&T      Space Gray   Galaxy_Note9   \n",
       "4          1      100.00          unknown      Space Gray      Galaxy_S8   \n",
       "5          1        0.99          unknown           White      Galaxy_S7   \n",
       "6          1      150.00          unknown           White      Galaxy_S9   \n",
       "7          0      199.99          unknown  Midnight Black      Galaxy_S9   \n",
       "8          0       99.99          unknown           White      Galaxy_S7   \n",
       "9          1       20.00             AT&T  Midnight Black      Galaxy_S7   \n",
       "10         0       75.00          unknown  Midnight Black      Galaxy_S7   \n",
       "11         0      199.99          unknown           White      Galaxy_S9   \n",
       "12         0      344.95          unknown      Space Gray  Galaxy_Note10   \n",
       "13         0      184.50          unknown  Midnight Black   Galaxy_Note8   \n",
       "14         0      209.98          unknown           White   Galaxy_Note9   \n",
       "15         0      375.00          unknown           White  Galaxy_Note10   \n",
       "16         0       95.00          unknown  Midnight Black      Galaxy_S7   \n",
       "17         0      187.50          unknown  Midnight Black   Galaxy_Note8   \n",
       "18         0      329.99          unknown      Space Gray        Unknown   \n",
       "19         0      149.00  Sprint/T-Mobile           White  Galaxy_Note10   \n",
       "\n",
       "           noDescription  charCountDescription  upperCaseDescription  sold  \n",
       "0   contains description                     0                     0     1  \n",
       "1   contains description                     0                     0     0  \n",
       "2         no description                   100                     2     0  \n",
       "3   contains description                     0                     0     1  \n",
       "4   contains description                     0                     0     1  \n",
       "5   contains description                     0                     0     1  \n",
       "6   contains description                     0                     0     1  \n",
       "7         no description                    92                     0     1  \n",
       "8   contains description                     0                     0     0  \n",
       "9         no description                    96                    41     1  \n",
       "10  contains description                     0                     0     1  \n",
       "11        no description                    98                     3     1  \n",
       "12  contains description                     0                     0     0  \n",
       "13        no description                   100                     4     1  \n",
       "14        no description                   100                     6     0  \n",
       "15  contains description                     0                     0     1  \n",
       "16  contains description                     0                     0     0  \n",
       "17        no description                    84                     3     0  \n",
       "18  contains description                     0                     0     0  \n",
       "19  contains description                     0                     0     0  "
      ]
     },
     "execution_count": 45,
     "metadata": {},
     "output_type": "execute_result"
    }
   ],
   "source": [
    "data.head(20)"
   ]
  },
  {
   "cell_type": "code",
   "execution_count": 47,
   "id": "944bb431",
   "metadata": {},
   "outputs": [
    {
     "data": {
      "text/plain": [
       "upperCaseDescription  charCountDescription\n",
       "0                     0                       856\n",
       "                      3                         1\n",
       "                      5                         1\n",
       "                      6                         1\n",
       "                      9                         2\n",
       "                                             ... \n",
       "78                    101                       1\n",
       "80                    98                        1\n",
       "                      100                       2\n",
       "81                    97                        1\n",
       "                      99                        1\n",
       "Name: count, Length: 344, dtype: int64"
      ]
     },
     "execution_count": 47,
     "metadata": {},
     "output_type": "execute_result"
    }
   ],
   "source": [
    "data[['upperCaseDescription', 'charCountDescription']].groupby('upperCaseDescription').value_counts(sort=False)"
   ]
  },
  {
   "cell_type": "markdown",
   "id": "cc185c83",
   "metadata": {},
   "source": [
    "* noDescription : 판매자가 설명을 썼는지 안썼는지\n",
    "* charCountDescriptio : 설명이 얼마나 긴지\n",
    "* upperCaseDescription : 몇 문장인지"
   ]
  },
  {
   "cell_type": "code",
   "execution_count": 49,
   "id": "f46738ad",
   "metadata": {
    "scrolled": true
   },
   "outputs": [
    {
     "data": {
      "text/plain": [
       "noDescription         sold\n",
       "contains description  0       443\n",
       "                      1       413\n",
       "no description        0       356\n",
       "                      1       273\n",
       "Name: count, dtype: int64"
      ]
     },
     "execution_count": 49,
     "metadata": {},
     "output_type": "execute_result"
    }
   ],
   "source": [
    "data[['noDescription', 'sold']].groupby('noDescription').value_counts(sort=False)"
   ]
  },
  {
   "cell_type": "code",
   "execution_count": 50,
   "id": "47ab810e",
   "metadata": {
    "scrolled": true
   },
   "outputs": [
    {
     "data": {
      "text/plain": [
       "<Axes: xlabel='noDescription,sold'>"
      ]
     },
     "execution_count": 50,
     "metadata": {},
     "output_type": "execute_result"
    },
    {
     "data": {
      "image/png": "[encoded data removed]",
      "text/plain": [
       "<Figure size 640x480 with 1 Axes>"
      ]
     },
     "metadata": {},
     "output_type": "display_data"
    }
   ],
   "source": [
    "data[['noDescription', 'sold']].groupby('noDescription').value_counts(sort=False).plot(kind='bar')"
   ]
  },
  {
   "cell_type": "markdown",
   "id": "e2879408",
   "metadata": {},
   "source": [
    "* 상품 설명 있든 없든 팔리는것 반반"
   ]
  },
  {
   "cell_type": "code",
   "execution_count": 51,
   "id": "921a92f5",
   "metadata": {},
   "outputs": [
    {
     "data": {
      "text/html": [
       "<div>\n",
       "<style scoped>\n",
       "    .dataframe tbody tr th:only-of-type {\n",
       "        vertical-align: middle;\n",
       "    }\n",
       "\n",
       "    .dataframe tbody tr th {\n",
       "        vertical-align: top;\n",
       "    }\n",
       "\n",
       "    .dataframe thead th {\n",
       "        text-align: right;\n",
       "    }\n",
       "</style>\n",
       "<table border=\"1\" class=\"dataframe\">\n",
       "  <thead>\n",
       "    <tr style=\"text-align: right;\">\n",
       "      <th></th>\n",
       "      <th>BuyItNow</th>\n",
       "      <th>startprice</th>\n",
       "      <th>carrier</th>\n",
       "      <th>color</th>\n",
       "      <th>productline</th>\n",
       "      <th>charCountDescription</th>\n",
       "      <th>upperCaseDescription</th>\n",
       "      <th>sold</th>\n",
       "    </tr>\n",
       "  </thead>\n",
       "  <tbody>\n",
       "    <tr>\n",
       "      <th>0</th>\n",
       "      <td>0</td>\n",
       "      <td>199.99</td>\n",
       "      <td>unknown</td>\n",
       "      <td>White</td>\n",
       "      <td>Galaxy_S9</td>\n",
       "      <td>0</td>\n",
       "      <td>0</td>\n",
       "      <td>1</td>\n",
       "    </tr>\n",
       "    <tr>\n",
       "      <th>1</th>\n",
       "      <td>0</td>\n",
       "      <td>235.00</td>\n",
       "      <td>unknown</td>\n",
       "      <td>unknown</td>\n",
       "      <td>Galaxy_Note9</td>\n",
       "      <td>0</td>\n",
       "      <td>0</td>\n",
       "      <td>0</td>\n",
       "    </tr>\n",
       "    <tr>\n",
       "      <th>2</th>\n",
       "      <td>0</td>\n",
       "      <td>199.99</td>\n",
       "      <td>unknown</td>\n",
       "      <td>unknown</td>\n",
       "      <td>Unknown</td>\n",
       "      <td>100</td>\n",
       "      <td>2</td>\n",
       "      <td>0</td>\n",
       "    </tr>\n",
       "    <tr>\n",
       "      <th>3</th>\n",
       "      <td>1</td>\n",
       "      <td>175.00</td>\n",
       "      <td>AT&amp;T</td>\n",
       "      <td>Space Gray</td>\n",
       "      <td>Galaxy_Note9</td>\n",
       "      <td>0</td>\n",
       "      <td>0</td>\n",
       "      <td>1</td>\n",
       "    </tr>\n",
       "    <tr>\n",
       "      <th>4</th>\n",
       "      <td>1</td>\n",
       "      <td>100.00</td>\n",
       "      <td>unknown</td>\n",
       "      <td>Space Gray</td>\n",
       "      <td>Galaxy_S8</td>\n",
       "      <td>0</td>\n",
       "      <td>0</td>\n",
       "      <td>1</td>\n",
       "    </tr>\n",
       "  </tbody>\n",
       "</table>\n",
       "</div>"
      ],
      "text/plain": [
       "   BuyItNow  startprice  carrier       color   productline  \\\n",
       "0         0      199.99  unknown       White     Galaxy_S9   \n",
       "1         0      235.00  unknown     unknown  Galaxy_Note9   \n",
       "2         0      199.99  unknown     unknown       Unknown   \n",
       "3         1      175.00     AT&T  Space Gray  Galaxy_Note9   \n",
       "4         1      100.00  unknown  Space Gray     Galaxy_S8   \n",
       "\n",
       "   charCountDescription  upperCaseDescription  sold  \n",
       "0                     0                     0     1  \n",
       "1                     0                     0     0  \n",
       "2                   100                     2     0  \n",
       "3                     0                     0     1  \n",
       "4                     0                     0     1  "
      ]
     },
     "execution_count": 51,
     "metadata": {},
     "output_type": "execute_result"
    }
   ],
   "source": [
    "data = data.drop('noDescription', axis=1)\n",
    "data.head()"
   ]
  },
  {
   "cell_type": "code",
   "execution_count": 52,
   "id": "82f011eb",
   "metadata": {},
   "outputs": [
    {
     "data": {
      "text/plain": [
       "sold  charCountDescription\n",
       "0     0                       443\n",
       "      3                         1\n",
       "      5                         1\n",
       "      8                         2\n",
       "      9                         2\n",
       "                             ... \n",
       "1     105                       2\n",
       "      106                       1\n",
       "      108                       1\n",
       "      109                       1\n",
       "      111                       1\n",
       "Name: count, Length: 175, dtype: int64"
      ]
     },
     "execution_count": 52,
     "metadata": {},
     "output_type": "execute_result"
    }
   ],
   "source": [
    "data[['sold' ,'charCountDescription']].groupby('sold').value_counts(sort=False)"
   ]
  },
  {
   "cell_type": "code",
   "execution_count": 53,
   "id": "360b5b41",
   "metadata": {},
   "outputs": [
    {
     "data": {
      "text/plain": [
       "sold  upperCaseDescription\n",
       "0     0                       456\n",
       "      1                        65\n",
       "      2                        71\n",
       "      3                        43\n",
       "      4                        47\n",
       "                             ... \n",
       "1     53                        1\n",
       "      58                        1\n",
       "      69                        1\n",
       "      74                        1\n",
       "      76                        2\n",
       "Name: count, Length: 66, dtype: int64"
      ]
     },
     "execution_count": 53,
     "metadata": {},
     "output_type": "execute_result"
    }
   ],
   "source": [
    "data[['sold' ,'upperCaseDescription']].groupby('sold').value_counts(sort=False)"
   ]
  },
  {
   "cell_type": "code",
   "execution_count": 54,
   "id": "0951abf8",
   "metadata": {},
   "outputs": [
    {
     "data": {
      "text/plain": [
       "Index(['BuyItNow', 'startprice', 'carrier', 'color', 'productline',\n",
       "       'charCountDescription', 'upperCaseDescription', 'sold'],\n",
       "      dtype='object')"
      ]
     },
     "execution_count": 54,
     "metadata": {},
     "output_type": "execute_result"
    }
   ],
   "source": [
    "data.columns"
   ]
  },
  {
   "cell_type": "code",
   "execution_count": 55,
   "id": "9d55e441",
   "metadata": {
    "scrolled": true
   },
   "outputs": [
    {
     "data": {
      "text/html": [
       "<div>\n",
       "<style scoped>\n",
       "    .dataframe tbody tr th:only-of-type {\n",
       "        vertical-align: middle;\n",
       "    }\n",
       "\n",
       "    .dataframe tbody tr th {\n",
       "        vertical-align: top;\n",
       "    }\n",
       "\n",
       "    .dataframe thead th {\n",
       "        text-align: right;\n",
       "    }\n",
       "</style>\n",
       "<table border=\"1\" class=\"dataframe\">\n",
       "  <thead>\n",
       "    <tr style=\"text-align: right;\">\n",
       "      <th></th>\n",
       "      <th>charCountDescription</th>\n",
       "      <th>upperCaseDescription</th>\n",
       "      <th>sold</th>\n",
       "    </tr>\n",
       "  </thead>\n",
       "  <tbody>\n",
       "    <tr>\n",
       "      <th>charCountDescription</th>\n",
       "      <td>1.000000</td>\n",
       "      <td>0.394730</td>\n",
       "      <td>-0.073461</td>\n",
       "    </tr>\n",
       "    <tr>\n",
       "      <th>upperCaseDescription</th>\n",
       "      <td>0.394730</td>\n",
       "      <td>1.000000</td>\n",
       "      <td>-0.058993</td>\n",
       "    </tr>\n",
       "    <tr>\n",
       "      <th>sold</th>\n",
       "      <td>-0.073461</td>\n",
       "      <td>-0.058993</td>\n",
       "      <td>1.000000</td>\n",
       "    </tr>\n",
       "  </tbody>\n",
       "</table>\n",
       "</div>"
      ],
      "text/plain": [
       "                      charCountDescription  upperCaseDescription      sold\n",
       "charCountDescription              1.000000              0.394730 -0.073461\n",
       "upperCaseDescription              0.394730              1.000000 -0.058993\n",
       "sold                             -0.073461             -0.058993  1.000000"
      ]
     },
     "execution_count": 55,
     "metadata": {},
     "output_type": "execute_result"
    }
   ],
   "source": [
    "data_corr = data[['charCountDescription', 'upperCaseDescription', 'sold' ]].corr()\n",
    "data_corr"
   ]
  },
  {
   "cell_type": "markdown",
   "id": "36c4a0a5",
   "metadata": {},
   "source": [
    "* -1.0 ~ -0.7 또는 0.7 ~ 1.0:    강한 상관관계\n",
    "* -0.7 ~ -0.5 또는 0.5 ~ 0.7:    보통의 상관관계\n",
    "* -0.5 ~ -0.3 또는 0.3 ~ 0.5:    약한 상관관계\n",
    "* -0.3 ~ 0.3:                    거의 없는 상관관계"
   ]
  },
  {
   "cell_type": "code",
   "execution_count": 56,
   "id": "c2c33324",
   "metadata": {},
   "outputs": [
    {
     "data": {
      "text/html": [
       "<div>\n",
       "<style scoped>\n",
       "    .dataframe tbody tr th:only-of-type {\n",
       "        vertical-align: middle;\n",
       "    }\n",
       "\n",
       "    .dataframe tbody tr th {\n",
       "        vertical-align: top;\n",
       "    }\n",
       "\n",
       "    .dataframe thead th {\n",
       "        text-align: right;\n",
       "    }\n",
       "</style>\n",
       "<table border=\"1\" class=\"dataframe\">\n",
       "  <thead>\n",
       "    <tr style=\"text-align: right;\">\n",
       "      <th></th>\n",
       "      <th>BuyItNow</th>\n",
       "      <th>startprice</th>\n",
       "      <th>carrier</th>\n",
       "      <th>color</th>\n",
       "      <th>productline</th>\n",
       "      <th>sold</th>\n",
       "    </tr>\n",
       "  </thead>\n",
       "  <tbody>\n",
       "    <tr>\n",
       "      <th>0</th>\n",
       "      <td>0</td>\n",
       "      <td>199.99</td>\n",
       "      <td>unknown</td>\n",
       "      <td>White</td>\n",
       "      <td>Galaxy_S9</td>\n",
       "      <td>1</td>\n",
       "    </tr>\n",
       "    <tr>\n",
       "      <th>1</th>\n",
       "      <td>0</td>\n",
       "      <td>235.00</td>\n",
       "      <td>unknown</td>\n",
       "      <td>unknown</td>\n",
       "      <td>Galaxy_Note9</td>\n",
       "      <td>0</td>\n",
       "    </tr>\n",
       "    <tr>\n",
       "      <th>2</th>\n",
       "      <td>0</td>\n",
       "      <td>199.99</td>\n",
       "      <td>unknown</td>\n",
       "      <td>unknown</td>\n",
       "      <td>Unknown</td>\n",
       "      <td>0</td>\n",
       "    </tr>\n",
       "    <tr>\n",
       "      <th>3</th>\n",
       "      <td>1</td>\n",
       "      <td>175.00</td>\n",
       "      <td>AT&amp;T</td>\n",
       "      <td>Space Gray</td>\n",
       "      <td>Galaxy_Note9</td>\n",
       "      <td>1</td>\n",
       "    </tr>\n",
       "    <tr>\n",
       "      <th>4</th>\n",
       "      <td>1</td>\n",
       "      <td>100.00</td>\n",
       "      <td>unknown</td>\n",
       "      <td>Space Gray</td>\n",
       "      <td>Galaxy_S8</td>\n",
       "      <td>1</td>\n",
       "    </tr>\n",
       "  </tbody>\n",
       "</table>\n",
       "</div>"
      ],
      "text/plain": [
       "   BuyItNow  startprice  carrier       color   productline  sold\n",
       "0         0      199.99  unknown       White     Galaxy_S9     1\n",
       "1         0      235.00  unknown     unknown  Galaxy_Note9     0\n",
       "2         0      199.99  unknown     unknown       Unknown     0\n",
       "3         1      175.00     AT&T  Space Gray  Galaxy_Note9     1\n",
       "4         1      100.00  unknown  Space Gray     Galaxy_S8     1"
      ]
     },
     "execution_count": 56,
     "metadata": {},
     "output_type": "execute_result"
    }
   ],
   "source": [
    "data = data.drop(['charCountDescription', 'upperCaseDescription'], axis=1)\n",
    "\n",
    "data.head()"
   ]
  },
  {
   "cell_type": "code",
   "execution_count": null,
   "id": "2d00c055",
   "metadata": {},
   "outputs": [],
   "source": []
  },
  {
   "cell_type": "markdown",
   "id": "67612f58",
   "metadata": {},
   "source": [
    "# Feature Engineering"
   ]
  },
  {
   "cell_type": "markdown",
   "id": "9d07624a",
   "metadata": {},
   "source": [
    "*  Galaxy_S10 인기 없음"
   ]
  },
  {
   "cell_type": "code",
   "execution_count": 62,
   "id": "c87a3e1f",
   "metadata": {
    "scrolled": true
   },
   "outputs": [
    {
     "name": "stdout",
     "output_type": "stream",
     "text": [
      "<class 'pandas.core.frame.DataFrame'>\n",
      "RangeIndex: 1485 entries, 0 to 1484\n",
      "Data columns (total 5 columns):\n",
      " #   Column       Non-Null Count  Dtype  \n",
      "---  ------       --------------  -----  \n",
      " 0   BuyItNow     1485 non-null   int64  \n",
      " 1   startprice   1485 non-null   float64\n",
      " 2   color        1485 non-null   object \n",
      " 3   productline  1485 non-null   object \n",
      " 4   sold         1485 non-null   int64  \n",
      "dtypes: float64(1), int64(2), object(2)\n",
      "memory usage: 58.1+ KB\n"
     ]
    }
   ],
   "source": [
    "data.info()"
   ]
  },
  {
   "cell_type": "code",
   "execution_count": 67,
   "id": "98fec006",
   "metadata": {
    "scrolled": true
   },
   "outputs": [
    {
     "data": {
      "text/plain": [
       "<Axes: xlabel='sold,color'>"
      ]
     },
     "execution_count": 67,
     "metadata": {},
     "output_type": "execute_result"
    },
    {
     "data": {
      "image/png": "[encoded data removed]",
      "text/plain": [
       "<Figure size 640x480 with 1 Axes>"
      ]
     },
     "metadata": {},
     "output_type": "display_data"
    }
   ],
   "source": [
    "data[['color','sold']].groupby('sold').value_counts(sort=True).plot(kind='bar')"
   ]
  },
  {
   "cell_type": "code",
   "execution_count": 69,
   "id": "ed0e4f48",
   "metadata": {
    "scrolled": true
   },
   "outputs": [
    {
     "data": {
      "text/plain": [
       "sold  productline  \n",
       "0     Galaxy_Note10    202\n",
       "      Galaxy_S8        145\n",
       "      Unknown          122\n",
       "      Galaxy_S7        102\n",
       "      Galaxy_S9         93\n",
       "      Galaxy_Note8      73\n",
       "      Galaxy_Note9      58\n",
       "      Galaxy_S10         4\n",
       "1     Galaxy_Note10    149\n",
       "      Galaxy_S8        132\n",
       "      Galaxy_S7        125\n",
       "      Unknown           82\n",
       "      Galaxy_Note8      80\n",
       "      Galaxy_S9         65\n",
       "      Galaxy_Note9      49\n",
       "      Galaxy_S10         4\n",
       "Name: count, dtype: int64"
      ]
     },
     "execution_count": 69,
     "metadata": {},
     "output_type": "execute_result"
    }
   ],
   "source": [
    "data[['productline','sold']].groupby('sold').value_counts(sort=True)"
   ]
  },
  {
   "cell_type": "code",
   "execution_count": 68,
   "id": "1e17b725",
   "metadata": {
    "scrolled": true
   },
   "outputs": [
    {
     "data": {
      "text/plain": [
       "<Axes: xlabel='sold,productline'>"
      ]
     },
     "execution_count": 68,
     "metadata": {},
     "output_type": "execute_result"
    },
    {
     "data": {
      "image/png": "[encoded data removed]",
      "text/plain": [
       "<Figure size 640x480 with 1 Axes>"
      ]
     },
     "metadata": {},
     "output_type": "display_data"
    }
   ],
   "source": [
    "data[['productline','sold']].groupby('sold').value_counts(sort=True).plot(kind='bar')"
   ]
  },
  {
   "cell_type": "code",
   "execution_count": 63,
   "id": "f0e74aef",
   "metadata": {
    "scrolled": true
   },
   "outputs": [
    {
     "data": {
      "text/plain": [
       "BuyItNow  productline  \n",
       "0         Galaxy_Note10    211\n",
       "          Galaxy_S8        141\n",
       "          Unknown          120\n",
       "          Galaxy_S7        109\n",
       "          Galaxy_S9         93\n",
       "          Galaxy_Note8      76\n",
       "          Galaxy_Note9      61\n",
       "          Galaxy_S10         7\n",
       "1         Galaxy_Note10    140\n",
       "          Galaxy_S8        136\n",
       "          Galaxy_S7        118\n",
       "          Unknown           84\n",
       "          Galaxy_Note8      77\n",
       "          Galaxy_S9         65\n",
       "          Galaxy_Note9      46\n",
       "          Galaxy_S10         1\n",
       "Name: count, dtype: int64"
      ]
     },
     "execution_count": 63,
     "metadata": {},
     "output_type": "execute_result"
    }
   ],
   "source": [
    "data[['BuyItNow', 'productline']].groupby('BuyItNow').value_counts(sort=True)"
   ]
  },
  {
   "cell_type": "code",
   "execution_count": 64,
   "id": "99d88181",
   "metadata": {
    "scrolled": true
   },
   "outputs": [
    {
     "data": {
      "text/plain": [
       "sold  productline  \n",
       "0     Galaxy_Note10    202\n",
       "      Galaxy_S8        145\n",
       "      Unknown          122\n",
       "      Galaxy_S7        102\n",
       "      Galaxy_S9         93\n",
       "      Galaxy_Note8      73\n",
       "      Galaxy_Note9      58\n",
       "      Galaxy_S10         4\n",
       "1     Galaxy_Note10    149\n",
       "      Galaxy_S8        132\n",
       "      Galaxy_S7        125\n",
       "      Unknown           82\n",
       "      Galaxy_Note8      80\n",
       "      Galaxy_S9         65\n",
       "      Galaxy_Note9      49\n",
       "      Galaxy_S10         4\n",
       "Name: count, dtype: int64"
      ]
     },
     "execution_count": 64,
     "metadata": {},
     "output_type": "execute_result"
    }
   ],
   "source": [
    "data[['sold', 'productline']].groupby('sold').value_counts(sort=True)"
   ]
  },
  {
   "cell_type": "markdown",
   "id": "e72150e9",
   "metadata": {},
   "source": [
    "*  Galaxy_S10 인기 없음"
   ]
  },
  {
   "cell_type": "code",
   "execution_count": null,
   "id": "eeb7b8aa",
   "metadata": {},
   "outputs": [],
   "source": []
  },
  {
   "cell_type": "code",
   "execution_count": null,
   "id": "7e2e2fbd",
   "metadata": {},
   "outputs": [],
   "source": []
  },
  {
   "cell_type": "code",
   "execution_count": null,
   "id": "fba12fd0",
   "metadata": {},
   "outputs": [],
   "source": []
  },
  {
   "cell_type": "code",
   "execution_count": null,
   "id": "2549f9f0",
   "metadata": {},
   "outputs": [],
   "source": []
  },
  {
   "cell_type": "markdown",
   "id": "4f1986d5",
   "metadata": {},
   "source": [
    "# 데이터 분리 및 분석"
   ]
  },
  {
   "cell_type": "markdown",
   "id": "80f33cdc",
   "metadata": {},
   "source": [
    "# 성능평가 및 성능 개선을 위한 튜닝"
   ]
  },
  {
   "cell_type": "code",
   "execution_count": null,
   "id": "434d6b85",
   "metadata": {},
   "outputs": [],
   "source": []
  },
  {
   "cell_type": "code",
   "execution_count": null,
   "id": "456bd2f7",
   "metadata": {},
   "outputs": [],
   "source": []
  },
  {
   "cell_type": "code",
   "execution_count": null,
   "id": "d756a384",
   "metadata": {},
   "outputs": [],
   "source": []
  },
  {
   "cell_type": "code",
   "execution_count": null,
   "id": "031d9161",
   "metadata": {},
   "outputs": [],
   "source": []
  },
  {
   "cell_type": "code",
   "execution_count": null,
   "id": "b9d2c7c9",
   "metadata": {},
   "outputs": [],
   "source": []
  },
  {
   "cell_type": "code",
   "execution_count": null,
   "id": "448a7239",
   "metadata": {},
   "outputs": [],
   "source": []
  },
  {
   "cell_type": "code",
   "execution_count": null,
   "id": "3dd8d647",
   "metadata": {},
   "outputs": [],
   "source": []
  },
  {
   "cell_type": "code",
   "execution_count": null,
   "id": "3cc5a007",
   "metadata": {},
   "outputs": [],
   "source": []
  },
  {
   "cell_type": "code",
   "execution_count": null,
   "id": "b3fc31e3",
   "metadata": {},
   "outputs": [],
   "source": []
  },
  {
   "cell_type": "code",
   "execution_count": null,
   "id": "9554b70f",
   "metadata": {},
   "outputs": [],
   "source": []
  },
  {
   "cell_type": "code",
   "execution_count": null,
   "id": "9cd609fc",
   "metadata": {},
   "outputs": [],
   "source": []
  },
  {
   "cell_type": "code",
   "execution_count": null,
   "id": "a104c380",
   "metadata": {},
   "outputs": [],
   "source": []
  },
  {
   "cell_type": "code",
   "execution_count": null,
   "id": "738da458",
   "metadata": {},
   "outputs": [],
   "source": []
  }
 ],
 "metadata": {
  "kernelspec": {
   "display_name": "Python 3 (ipykernel)",
   "language": "python",
   "name": "python3"
  },
  "language_info": {
   "codemirror_mode": {
    "name": "ipython",
    "version": 3
   },
   "file_extension": ".py",
   "mimetype": "text/x-python",
   "name": "python",
   "nbconvert_exporter": "python",
   "pygments_lexer": "ipython3",
   "version": "3.10.14"
  }
 },
 "nbformat": 4,
 "nbformat_minor": 5
}
