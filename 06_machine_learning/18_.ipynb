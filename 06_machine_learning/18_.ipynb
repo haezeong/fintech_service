{
 "cells": [
  {
   "cell_type": "code",
   "execution_count": 1,
   "id": "f498840c-1075-4911-b5b8-d7a7b65964c0",
   "metadata": {},
   "outputs": [
    {
     "name": "stdout",
     "output_type": "stream",
     "text": [
      "Collecting nltk\n",
      "  Downloading nltk-3.9.1-py3-none-any.whl.metadata (2.9 kB)\n",
      "Collecting click (from nltk)\n",
      "  Downloading click-8.1.7-py3-none-any.whl.metadata (3.0 kB)\n",
      "Requirement already satisfied: joblib in c:\\users\\5-06\\miniforge3\\envs\\fintech\\lib\\site-packages (from nltk) (1.4.2)\n",
      "Collecting regex>=2021.8.3 (from nltk)\n",
      "  Downloading regex-2024.7.24-cp310-cp310-win_amd64.whl.metadata (41 kB)\n",
      "     ---------------------------------------- 0.0/41.5 kB ? eta -:--:--\n",
      "     ------------------- -------------------- 20.5/41.5 kB ? eta -:--:--\n",
      "     -------------------------------------- 41.5/41.5 kB 666.1 kB/s eta 0:00:00\n",
      "Requirement already satisfied: tqdm in c:\\users\\5-06\\miniforge3\\envs\\fintech\\lib\\site-packages (from nltk) (4.66.4)\n",
      "Requirement already satisfied: colorama in c:\\users\\5-06\\miniforge3\\envs\\fintech\\lib\\site-packages (from click->nltk) (0.4.6)\n",
      "Downloading nltk-3.9.1-py3-none-any.whl (1.5 MB)\n",
      "   ---------------------------------------- 0.0/1.5 MB ? eta -:--:--\n",
      "   ---------------------------------------  1.5/1.5 MB 46.7 MB/s eta 0:00:01\n",
      "   ---------------------------------------- 1.5/1.5 MB 31.8 MB/s eta 0:00:00\n",
      "Downloading regex-2024.7.24-cp310-cp310-win_amd64.whl (269 kB)\n",
      "   ---------------------------------------- 0.0/269.7 kB ? eta -:--:--\n",
      "   ---------------------------------------- 269.7/269.7 kB ? eta 0:00:00\n",
      "Downloading click-8.1.7-py3-none-any.whl (97 kB)\n",
      "   ---------------------------------------- 0.0/97.9 kB ? eta -:--:--\n",
      "   ---------------------------------------- 97.9/97.9 kB ? eta 0:00:00\n",
      "Installing collected packages: regex, click, nltk\n",
      "Successfully installed click-8.1.7 nltk-3.9.1 regex-2024.7.24\n"
     ]
    }
   ],
   "source": [
    "!pip3 install nltk"
   ]
  },
  {
   "cell_type": "code",
   "execution_count": 2,
   "id": "a3e74c00-71f1-40d9-8332-3c2067f33093",
   "metadata": {},
   "outputs": [],
   "source": [
    "import pandas as pd\n",
    "import numpy as np\n",
    "import matplotlib.pyplot as plt\n",
    "import seaborn as sns"
   ]
  },
  {
   "cell_type": "code",
   "execution_count": 3,
   "id": "f80939cf-fb3b-4347-b3a1-79c007edb43f",
   "metadata": {},
   "outputs": [
    {
     "data": {
      "text/html": [
       "<div>\n",
       "<style scoped>\n",
       "    .dataframe tbody tr th:only-of-type {\n",
       "        vertical-align: middle;\n",
       "    }\n",
       "\n",
       "    .dataframe tbody tr th {\n",
       "        vertical-align: top;\n",
       "    }\n",
       "\n",
       "    .dataframe thead th {\n",
       "        text-align: right;\n",
       "    }\n",
       "</style>\n",
       "<table border=\"1\" class=\"dataframe\">\n",
       "  <thead>\n",
       "    <tr style=\"text-align: right;\">\n",
       "      <th></th>\n",
       "      <th>review_id</th>\n",
       "      <th>user_id</th>\n",
       "      <th>business_id</th>\n",
       "      <th>stars</th>\n",
       "      <th>date</th>\n",
       "      <th>text</th>\n",
       "      <th>useful</th>\n",
       "      <th>funny</th>\n",
       "      <th>cool</th>\n",
       "    </tr>\n",
       "  </thead>\n",
       "  <tbody>\n",
       "    <tr>\n",
       "      <th>2967245</th>\n",
       "      <td>aMleVK0lQcOSNCs56_gSbg</td>\n",
       "      <td>miHaLnLanDKfZqZHet0uWw</td>\n",
       "      <td>Xp_cWXY5rxDLkX-wqUg-iQ</td>\n",
       "      <td>5</td>\n",
       "      <td>2015-09-30</td>\n",
       "      <td>LOVE the cheeses here.  They are worth the pri...</td>\n",
       "      <td>0</td>\n",
       "      <td>0</td>\n",
       "      <td>1</td>\n",
       "    </tr>\n",
       "    <tr>\n",
       "      <th>4773684</th>\n",
       "      <td>Hs1f--t9JnVKW9A1U2uhKA</td>\n",
       "      <td>r_RUQSGZcd5bSgmTcS5IfQ</td>\n",
       "      <td>NuGZD3yBVqzpY1HuzT26mQ</td>\n",
       "      <td>5</td>\n",
       "      <td>2015-06-04</td>\n",
       "      <td>This has become our go-to sushi place. The sus...</td>\n",
       "      <td>0</td>\n",
       "      <td>0</td>\n",
       "      <td>0</td>\n",
       "    </tr>\n",
       "    <tr>\n",
       "      <th>1139855</th>\n",
       "      <td>i7aiPgNrNaFoM8J_j2OSyQ</td>\n",
       "      <td>zz7lojg6QdZbKFCJiHsj7w</td>\n",
       "      <td>ii8sAGBexBOJoYRFafF9XQ</td>\n",
       "      <td>1</td>\n",
       "      <td>2016-07-03</td>\n",
       "      <td>I was very disappointed with the hotel. The re...</td>\n",
       "      <td>2</td>\n",
       "      <td>1</td>\n",
       "      <td>1</td>\n",
       "    </tr>\n",
       "    <tr>\n",
       "      <th>3997153</th>\n",
       "      <td>uft6iMwNQh4I2UDpmbXggA</td>\n",
       "      <td>p_oXN3L9oi8nmmJigf8c9Q</td>\n",
       "      <td>r0j4IpUbcdC1-HfoMYae4w</td>\n",
       "      <td>5</td>\n",
       "      <td>2016-10-15</td>\n",
       "      <td>Love this place - super amazing - staff here i...</td>\n",
       "      <td>0</td>\n",
       "      <td>0</td>\n",
       "      <td>0</td>\n",
       "    </tr>\n",
       "    <tr>\n",
       "      <th>4262000</th>\n",
       "      <td>y9QmJ16mrfBZS6Td6Yqo0g</td>\n",
       "      <td>jovtGPaHAqP6XfG9BFwY7A</td>\n",
       "      <td>j6UwIfXrSkGTdVkRu7K6WA</td>\n",
       "      <td>5</td>\n",
       "      <td>2017-03-14</td>\n",
       "      <td>Thank you Dana!!!! Having dyed my hair black p...</td>\n",
       "      <td>0</td>\n",
       "      <td>0</td>\n",
       "      <td>0</td>\n",
       "    </tr>\n",
       "    <tr>\n",
       "      <th>...</th>\n",
       "      <td>...</td>\n",
       "      <td>...</td>\n",
       "      <td>...</td>\n",
       "      <td>...</td>\n",
       "      <td>...</td>\n",
       "      <td>...</td>\n",
       "      <td>...</td>\n",
       "      <td>...</td>\n",
       "      <td>...</td>\n",
       "    </tr>\n",
       "    <tr>\n",
       "      <th>1567641</th>\n",
       "      <td>t6YoK3vK6zTvodv-uAe5NA</td>\n",
       "      <td>eA-KLkSEq9RYt9-RfNZXCA</td>\n",
       "      <td>CbyXUOpH2TgFox46Be2LVQ</td>\n",
       "      <td>5</td>\n",
       "      <td>2013-08-01</td>\n",
       "      <td>I'm a sucker for places like this. Get me in f...</td>\n",
       "      <td>3</td>\n",
       "      <td>1</td>\n",
       "      <td>3</td>\n",
       "    </tr>\n",
       "    <tr>\n",
       "      <th>4910763</th>\n",
       "      <td>GFho96BYQZR7M75Qm-WHWA</td>\n",
       "      <td>KW_y5oQgAbifGQQA0cgCjQ</td>\n",
       "      <td>815I4_qtNd9Whd5joLZhAQ</td>\n",
       "      <td>1</td>\n",
       "      <td>2017-01-08</td>\n",
       "      <td>Extremely rude staff!  Was told 4 min on a lar...</td>\n",
       "      <td>0</td>\n",
       "      <td>0</td>\n",
       "      <td>0</td>\n",
       "    </tr>\n",
       "    <tr>\n",
       "      <th>1036315</th>\n",
       "      <td>TEOItriKpYAQ9UyzWgIXDA</td>\n",
       "      <td>n4E9jR6ep7hcIi2esSCmNg</td>\n",
       "      <td>5Go1tSAVqNOXgvMr_fz9Sw</td>\n",
       "      <td>5</td>\n",
       "      <td>2015-06-15</td>\n",
       "      <td>I live in NYC and went to the RTR here in the ...</td>\n",
       "      <td>1</td>\n",
       "      <td>0</td>\n",
       "      <td>0</td>\n",
       "    </tr>\n",
       "    <tr>\n",
       "      <th>555962</th>\n",
       "      <td>cNCcrb_Vc0Tlx_06l1SQSw</td>\n",
       "      <td>NWW8yE6Bt4zENt4a0Et9Sg</td>\n",
       "      <td>yh5NcT0o9W_XdqdsEkxNZQ</td>\n",
       "      <td>5</td>\n",
       "      <td>2017-03-03</td>\n",
       "      <td>If you are looking for a trainer, then look no...</td>\n",
       "      <td>0</td>\n",
       "      <td>0</td>\n",
       "      <td>0</td>\n",
       "    </tr>\n",
       "    <tr>\n",
       "      <th>838267</th>\n",
       "      <td>XqHjpFAbPl9ZV_MQgIVvbQ</td>\n",
       "      <td>SoMVvAXeNpXvoQFjzvKqFg</td>\n",
       "      <td>C7BTKAsOdk5kNdKXrtQdiA</td>\n",
       "      <td>5</td>\n",
       "      <td>2014-04-28</td>\n",
       "      <td>Awesome food. Awesome beer. Awesome service. N...</td>\n",
       "      <td>0</td>\n",
       "      <td>0</td>\n",
       "      <td>1</td>\n",
       "    </tr>\n",
       "  </tbody>\n",
       "</table>\n",
       "<p>10000 rows × 9 columns</p>\n",
       "</div>"
      ],
      "text/plain": [
       "                      review_id                 user_id  \\\n",
       "2967245  aMleVK0lQcOSNCs56_gSbg  miHaLnLanDKfZqZHet0uWw   \n",
       "4773684  Hs1f--t9JnVKW9A1U2uhKA  r_RUQSGZcd5bSgmTcS5IfQ   \n",
       "1139855  i7aiPgNrNaFoM8J_j2OSyQ  zz7lojg6QdZbKFCJiHsj7w   \n",
       "3997153  uft6iMwNQh4I2UDpmbXggA  p_oXN3L9oi8nmmJigf8c9Q   \n",
       "4262000  y9QmJ16mrfBZS6Td6Yqo0g  jovtGPaHAqP6XfG9BFwY7A   \n",
       "...                         ...                     ...   \n",
       "1567641  t6YoK3vK6zTvodv-uAe5NA  eA-KLkSEq9RYt9-RfNZXCA   \n",
       "4910763  GFho96BYQZR7M75Qm-WHWA  KW_y5oQgAbifGQQA0cgCjQ   \n",
       "1036315  TEOItriKpYAQ9UyzWgIXDA  n4E9jR6ep7hcIi2esSCmNg   \n",
       "555962   cNCcrb_Vc0Tlx_06l1SQSw  NWW8yE6Bt4zENt4a0Et9Sg   \n",
       "838267   XqHjpFAbPl9ZV_MQgIVvbQ  SoMVvAXeNpXvoQFjzvKqFg   \n",
       "\n",
       "                    business_id  stars        date  \\\n",
       "2967245  Xp_cWXY5rxDLkX-wqUg-iQ      5  2015-09-30   \n",
       "4773684  NuGZD3yBVqzpY1HuzT26mQ      5  2015-06-04   \n",
       "1139855  ii8sAGBexBOJoYRFafF9XQ      1  2016-07-03   \n",
       "3997153  r0j4IpUbcdC1-HfoMYae4w      5  2016-10-15   \n",
       "4262000  j6UwIfXrSkGTdVkRu7K6WA      5  2017-03-14   \n",
       "...                         ...    ...         ...   \n",
       "1567641  CbyXUOpH2TgFox46Be2LVQ      5  2013-08-01   \n",
       "4910763  815I4_qtNd9Whd5joLZhAQ      1  2017-01-08   \n",
       "1036315  5Go1tSAVqNOXgvMr_fz9Sw      5  2015-06-15   \n",
       "555962   yh5NcT0o9W_XdqdsEkxNZQ      5  2017-03-03   \n",
       "838267   C7BTKAsOdk5kNdKXrtQdiA      5  2014-04-28   \n",
       "\n",
       "                                                      text  useful  funny  \\\n",
       "2967245  LOVE the cheeses here.  They are worth the pri...       0      0   \n",
       "4773684  This has become our go-to sushi place. The sus...       0      0   \n",
       "1139855  I was very disappointed with the hotel. The re...       2      1   \n",
       "3997153  Love this place - super amazing - staff here i...       0      0   \n",
       "4262000  Thank you Dana!!!! Having dyed my hair black p...       0      0   \n",
       "...                                                    ...     ...    ...   \n",
       "1567641  I'm a sucker for places like this. Get me in f...       3      1   \n",
       "4910763  Extremely rude staff!  Was told 4 min on a lar...       0      0   \n",
       "1036315  I live in NYC and went to the RTR here in the ...       1      0   \n",
       "555962   If you are looking for a trainer, then look no...       0      0   \n",
       "838267   Awesome food. Awesome beer. Awesome service. N...       0      0   \n",
       "\n",
       "         cool  \n",
       "2967245     1  \n",
       "4773684     0  \n",
       "1139855     1  \n",
       "3997153     0  \n",
       "4262000     0  \n",
       "...       ...  \n",
       "1567641     3  \n",
       "4910763     0  \n",
       "1036315     0  \n",
       "555962      0  \n",
       "838267      1  \n",
       "\n",
       "[10000 rows x 9 columns]"
      ]
     },
     "execution_count": 3,
     "metadata": {},
     "output_type": "execute_result"
    }
   ],
   "source": [
    "data = pd.read_csv('https://raw.githubusercontent.com/haram4th/ablearn/main/yelp.csv', index_col = 0)\n",
    "data"
   ]
  },
  {
   "cell_type": "code",
   "execution_count": 4,
   "id": "6b4a0714-370c-4d2c-9afa-ac270dd68d0b",
   "metadata": {},
   "outputs": [],
   "source": [
    "#워드 클라우드 ->단어의 빈도 확인"
   ]
  },
  {
   "cell_type": "code",
   "execution_count": 5,
   "id": "c7074ea0-4e27-49c8-910a-214f9188c97f",
   "metadata": {},
   "outputs": [
    {
     "name": "stdout",
     "output_type": "stream",
     "text": [
      "<class 'pandas.core.frame.DataFrame'>\n",
      "Index: 10000 entries, 2967245 to 838267\n",
      "Data columns (total 9 columns):\n",
      " #   Column       Non-Null Count  Dtype \n",
      "---  ------       --------------  ----- \n",
      " 0   review_id    10000 non-null  object\n",
      " 1   user_id      10000 non-null  object\n",
      " 2   business_id  10000 non-null  object\n",
      " 3   stars        10000 non-null  int64 \n",
      " 4   date         10000 non-null  object\n",
      " 5   text         10000 non-null  object\n",
      " 6   useful       10000 non-null  int64 \n",
      " 7   funny        10000 non-null  int64 \n",
      " 8   cool         10000 non-null  int64 \n",
      "dtypes: int64(4), object(5)\n",
      "memory usage: 781.2+ KB\n"
     ]
    }
   ],
   "source": [
    "data.info()"
   ]
  },
  {
   "cell_type": "code",
   "execution_count": 6,
   "id": "83f943f4-b99c-4894-a352-e9e45eb5ac7b",
   "metadata": {},
   "outputs": [
    {
     "data": {
      "text/html": [
       "<div>\n",
       "<style scoped>\n",
       "    .dataframe tbody tr th:only-of-type {\n",
       "        vertical-align: middle;\n",
       "    }\n",
       "\n",
       "    .dataframe tbody tr th {\n",
       "        vertical-align: top;\n",
       "    }\n",
       "\n",
       "    .dataframe thead th {\n",
       "        text-align: right;\n",
       "    }\n",
       "</style>\n",
       "<table border=\"1\" class=\"dataframe\">\n",
       "  <thead>\n",
       "    <tr style=\"text-align: right;\">\n",
       "      <th></th>\n",
       "      <th>stars</th>\n",
       "      <th>useful</th>\n",
       "      <th>funny</th>\n",
       "      <th>cool</th>\n",
       "    </tr>\n",
       "  </thead>\n",
       "  <tbody>\n",
       "    <tr>\n",
       "      <th>count</th>\n",
       "      <td>10000.000000</td>\n",
       "      <td>10000.000000</td>\n",
       "      <td>10000.000000</td>\n",
       "      <td>10000.000000</td>\n",
       "    </tr>\n",
       "    <tr>\n",
       "      <th>mean</th>\n",
       "      <td>4.012800</td>\n",
       "      <td>1.498800</td>\n",
       "      <td>0.464200</td>\n",
       "      <td>0.542500</td>\n",
       "    </tr>\n",
       "    <tr>\n",
       "      <th>std</th>\n",
       "      <td>1.724684</td>\n",
       "      <td>6.339355</td>\n",
       "      <td>1.926523</td>\n",
       "      <td>2.010273</td>\n",
       "    </tr>\n",
       "    <tr>\n",
       "      <th>min</th>\n",
       "      <td>1.000000</td>\n",
       "      <td>0.000000</td>\n",
       "      <td>0.000000</td>\n",
       "      <td>0.000000</td>\n",
       "    </tr>\n",
       "    <tr>\n",
       "      <th>25%</th>\n",
       "      <td>5.000000</td>\n",
       "      <td>0.000000</td>\n",
       "      <td>0.000000</td>\n",
       "      <td>0.000000</td>\n",
       "    </tr>\n",
       "    <tr>\n",
       "      <th>50%</th>\n",
       "      <td>5.000000</td>\n",
       "      <td>0.000000</td>\n",
       "      <td>0.000000</td>\n",
       "      <td>0.000000</td>\n",
       "    </tr>\n",
       "    <tr>\n",
       "      <th>75%</th>\n",
       "      <td>5.000000</td>\n",
       "      <td>2.000000</td>\n",
       "      <td>0.000000</td>\n",
       "      <td>0.000000</td>\n",
       "    </tr>\n",
       "    <tr>\n",
       "      <th>max</th>\n",
       "      <td>5.000000</td>\n",
       "      <td>533.000000</td>\n",
       "      <td>83.000000</td>\n",
       "      <td>97.000000</td>\n",
       "    </tr>\n",
       "  </tbody>\n",
       "</table>\n",
       "</div>"
      ],
      "text/plain": [
       "              stars        useful         funny          cool\n",
       "count  10000.000000  10000.000000  10000.000000  10000.000000\n",
       "mean       4.012800      1.498800      0.464200      0.542500\n",
       "std        1.724684      6.339355      1.926523      2.010273\n",
       "min        1.000000      0.000000      0.000000      0.000000\n",
       "25%        5.000000      0.000000      0.000000      0.000000\n",
       "50%        5.000000      0.000000      0.000000      0.000000\n",
       "75%        5.000000      2.000000      0.000000      0.000000\n",
       "max        5.000000    533.000000     83.000000     97.000000"
      ]
     },
     "execution_count": 6,
     "metadata": {},
     "output_type": "execute_result"
    }
   ],
   "source": [
    "data.describe()"
   ]
  },
  {
   "cell_type": "code",
   "execution_count": 7,
   "id": "6a5b653e-2a71-4cd2-98e1-68a34a934ae3",
   "metadata": {},
   "outputs": [
    {
     "data": {
      "text/html": [
       "<div>\n",
       "<style scoped>\n",
       "    .dataframe tbody tr th:only-of-type {\n",
       "        vertical-align: middle;\n",
       "    }\n",
       "\n",
       "    .dataframe tbody tr th {\n",
       "        vertical-align: top;\n",
       "    }\n",
       "\n",
       "    .dataframe thead th {\n",
       "        text-align: right;\n",
       "    }\n",
       "</style>\n",
       "<table border=\"1\" class=\"dataframe\">\n",
       "  <thead>\n",
       "    <tr style=\"text-align: right;\">\n",
       "      <th></th>\n",
       "      <th>review_id</th>\n",
       "      <th>user_id</th>\n",
       "      <th>business_id</th>\n",
       "      <th>stars</th>\n",
       "      <th>date</th>\n",
       "      <th>text</th>\n",
       "      <th>useful</th>\n",
       "      <th>funny</th>\n",
       "      <th>cool</th>\n",
       "    </tr>\n",
       "  </thead>\n",
       "  <tbody>\n",
       "    <tr>\n",
       "      <th>2967245</th>\n",
       "      <td>aMleVK0lQcOSNCs56_gSbg</td>\n",
       "      <td>miHaLnLanDKfZqZHet0uWw</td>\n",
       "      <td>Xp_cWXY5rxDLkX-wqUg-iQ</td>\n",
       "      <td>5</td>\n",
       "      <td>2015-09-30</td>\n",
       "      <td>LOVE the cheeses here.  They are worth the pri...</td>\n",
       "      <td>0</td>\n",
       "      <td>0</td>\n",
       "      <td>1</td>\n",
       "    </tr>\n",
       "    <tr>\n",
       "      <th>4773684</th>\n",
       "      <td>Hs1f--t9JnVKW9A1U2uhKA</td>\n",
       "      <td>r_RUQSGZcd5bSgmTcS5IfQ</td>\n",
       "      <td>NuGZD3yBVqzpY1HuzT26mQ</td>\n",
       "      <td>5</td>\n",
       "      <td>2015-06-04</td>\n",
       "      <td>This has become our go-to sushi place. The sus...</td>\n",
       "      <td>0</td>\n",
       "      <td>0</td>\n",
       "      <td>0</td>\n",
       "    </tr>\n",
       "    <tr>\n",
       "      <th>1139855</th>\n",
       "      <td>i7aiPgNrNaFoM8J_j2OSyQ</td>\n",
       "      <td>zz7lojg6QdZbKFCJiHsj7w</td>\n",
       "      <td>ii8sAGBexBOJoYRFafF9XQ</td>\n",
       "      <td>1</td>\n",
       "      <td>2016-07-03</td>\n",
       "      <td>I was very disappointed with the hotel. The re...</td>\n",
       "      <td>2</td>\n",
       "      <td>1</td>\n",
       "      <td>1</td>\n",
       "    </tr>\n",
       "    <tr>\n",
       "      <th>3997153</th>\n",
       "      <td>uft6iMwNQh4I2UDpmbXggA</td>\n",
       "      <td>p_oXN3L9oi8nmmJigf8c9Q</td>\n",
       "      <td>r0j4IpUbcdC1-HfoMYae4w</td>\n",
       "      <td>5</td>\n",
       "      <td>2016-10-15</td>\n",
       "      <td>Love this place - super amazing - staff here i...</td>\n",
       "      <td>0</td>\n",
       "      <td>0</td>\n",
       "      <td>0</td>\n",
       "    </tr>\n",
       "    <tr>\n",
       "      <th>4262000</th>\n",
       "      <td>y9QmJ16mrfBZS6Td6Yqo0g</td>\n",
       "      <td>jovtGPaHAqP6XfG9BFwY7A</td>\n",
       "      <td>j6UwIfXrSkGTdVkRu7K6WA</td>\n",
       "      <td>5</td>\n",
       "      <td>2017-03-14</td>\n",
       "      <td>Thank you Dana!!!! Having dyed my hair black p...</td>\n",
       "      <td>0</td>\n",
       "      <td>0</td>\n",
       "      <td>0</td>\n",
       "    </tr>\n",
       "  </tbody>\n",
       "</table>\n",
       "</div>"
      ],
      "text/plain": [
       "                      review_id                 user_id  \\\n",
       "2967245  aMleVK0lQcOSNCs56_gSbg  miHaLnLanDKfZqZHet0uWw   \n",
       "4773684  Hs1f--t9JnVKW9A1U2uhKA  r_RUQSGZcd5bSgmTcS5IfQ   \n",
       "1139855  i7aiPgNrNaFoM8J_j2OSyQ  zz7lojg6QdZbKFCJiHsj7w   \n",
       "3997153  uft6iMwNQh4I2UDpmbXggA  p_oXN3L9oi8nmmJigf8c9Q   \n",
       "4262000  y9QmJ16mrfBZS6Td6Yqo0g  jovtGPaHAqP6XfG9BFwY7A   \n",
       "\n",
       "                    business_id  stars        date  \\\n",
       "2967245  Xp_cWXY5rxDLkX-wqUg-iQ      5  2015-09-30   \n",
       "4773684  NuGZD3yBVqzpY1HuzT26mQ      5  2015-06-04   \n",
       "1139855  ii8sAGBexBOJoYRFafF9XQ      1  2016-07-03   \n",
       "3997153  r0j4IpUbcdC1-HfoMYae4w      5  2016-10-15   \n",
       "4262000  j6UwIfXrSkGTdVkRu7K6WA      5  2017-03-14   \n",
       "\n",
       "                                                      text  useful  funny  \\\n",
       "2967245  LOVE the cheeses here.  They are worth the pri...       0      0   \n",
       "4773684  This has become our go-to sushi place. The sus...       0      0   \n",
       "1139855  I was very disappointed with the hotel. The re...       2      1   \n",
       "3997153  Love this place - super amazing - staff here i...       0      0   \n",
       "4262000  Thank you Dana!!!! Having dyed my hair black p...       0      0   \n",
       "\n",
       "         cool  \n",
       "2967245     1  \n",
       "4773684     0  \n",
       "1139855     1  \n",
       "3997153     0  \n",
       "4262000     0  "
      ]
     },
     "execution_count": 7,
     "metadata": {},
     "output_type": "execute_result"
    }
   ],
   "source": [
    "data.head()"
   ]
  },
  {
   "cell_type": "code",
   "execution_count": 8,
   "id": "b275c9b3-70b1-4e74-a028-30f489c26cab",
   "metadata": {},
   "outputs": [],
   "source": [
    "data.drop(['review_id','user_id','business_id','date'],axis=1, inplace = True)"
   ]
  },
  {
   "cell_type": "markdown",
   "id": "728bb881-eda7-49f1-9013-5752543a60aa",
   "metadata": {},
   "source": [
    "axis = 1 과 inplace = True 를 해주어야 함을 기억하자. inplace = True 는 저장을 해준다."
   ]
  },
  {
   "cell_type": "code",
   "execution_count": 9,
   "id": "b61f09ba-508a-4346-a25f-16858d50d2a6",
   "metadata": {},
   "outputs": [
    {
     "data": {
      "text/html": [
       "<div>\n",
       "<style scoped>\n",
       "    .dataframe tbody tr th:only-of-type {\n",
       "        vertical-align: middle;\n",
       "    }\n",
       "\n",
       "    .dataframe tbody tr th {\n",
       "        vertical-align: top;\n",
       "    }\n",
       "\n",
       "    .dataframe thead th {\n",
       "        text-align: right;\n",
       "    }\n",
       "</style>\n",
       "<table border=\"1\" class=\"dataframe\">\n",
       "  <thead>\n",
       "    <tr style=\"text-align: right;\">\n",
       "      <th></th>\n",
       "      <th>stars</th>\n",
       "      <th>text</th>\n",
       "      <th>useful</th>\n",
       "      <th>funny</th>\n",
       "      <th>cool</th>\n",
       "    </tr>\n",
       "  </thead>\n",
       "  <tbody>\n",
       "    <tr>\n",
       "      <th>2967245</th>\n",
       "      <td>5</td>\n",
       "      <td>LOVE the cheeses here.  They are worth the pri...</td>\n",
       "      <td>0</td>\n",
       "      <td>0</td>\n",
       "      <td>1</td>\n",
       "    </tr>\n",
       "    <tr>\n",
       "      <th>4773684</th>\n",
       "      <td>5</td>\n",
       "      <td>This has become our go-to sushi place. The sus...</td>\n",
       "      <td>0</td>\n",
       "      <td>0</td>\n",
       "      <td>0</td>\n",
       "    </tr>\n",
       "    <tr>\n",
       "      <th>1139855</th>\n",
       "      <td>1</td>\n",
       "      <td>I was very disappointed with the hotel. The re...</td>\n",
       "      <td>2</td>\n",
       "      <td>1</td>\n",
       "      <td>1</td>\n",
       "    </tr>\n",
       "    <tr>\n",
       "      <th>3997153</th>\n",
       "      <td>5</td>\n",
       "      <td>Love this place - super amazing - staff here i...</td>\n",
       "      <td>0</td>\n",
       "      <td>0</td>\n",
       "      <td>0</td>\n",
       "    </tr>\n",
       "    <tr>\n",
       "      <th>4262000</th>\n",
       "      <td>5</td>\n",
       "      <td>Thank you Dana!!!! Having dyed my hair black p...</td>\n",
       "      <td>0</td>\n",
       "      <td>0</td>\n",
       "      <td>0</td>\n",
       "    </tr>\n",
       "  </tbody>\n",
       "</table>\n",
       "</div>"
      ],
      "text/plain": [
       "         stars                                               text  useful  \\\n",
       "2967245      5  LOVE the cheeses here.  They are worth the pri...       0   \n",
       "4773684      5  This has become our go-to sushi place. The sus...       0   \n",
       "1139855      1  I was very disappointed with the hotel. The re...       2   \n",
       "3997153      5  Love this place - super amazing - staff here i...       0   \n",
       "4262000      5  Thank you Dana!!!! Having dyed my hair black p...       0   \n",
       "\n",
       "         funny  cool  \n",
       "2967245      0     1  \n",
       "4773684      0     0  \n",
       "1139855      1     1  \n",
       "3997153      0     0  \n",
       "4262000      0     0  "
      ]
     },
     "execution_count": 9,
     "metadata": {},
     "output_type": "execute_result"
    }
   ],
   "source": [
    "data.head()"
   ]
  },
  {
   "cell_type": "code",
   "execution_count": 10,
   "id": "794d8b60-135b-4ae5-b6af-a17d0c1e8212",
   "metadata": {},
   "outputs": [
    {
     "data": {
      "text/plain": [
       "'LOVE the cheeses here.  They are worth the price.  Great for finding treats for a special dinner or picnic.  Nice on sample days. Yum!!! Top quality meats. Nice selection of non brand frozen veggies.  Veggie chips are mega tasty.  Always quick and friendly check out.  Produce not as stellar as it once was, but also not finding better in Madison.'"
      ]
     },
     "execution_count": 10,
     "metadata": {},
     "output_type": "execute_result"
    }
   ],
   "source": [
    "data.iloc[0]['text']"
   ]
  },
  {
   "cell_type": "code",
   "execution_count": 11,
   "id": "c5762c82-b0fe-45e1-add0-2ba34ac50821",
   "metadata": {},
   "outputs": [
    {
     "data": {
      "text/plain": [
       "stars                                                     5\n",
       "text      LOVE the cheeses here.  They are worth the pri...\n",
       "useful                                                    0\n",
       "funny                                                     0\n",
       "cool                                                      1\n",
       "Name: 2967245, dtype: object"
      ]
     },
     "execution_count": 11,
     "metadata": {},
     "output_type": "execute_result"
    }
   ],
   "source": [
    "data.iloc[0]"
   ]
  },
  {
   "cell_type": "code",
   "execution_count": 12,
   "id": "629c9de7-2e3e-419f-a8e6-29d8d1121434",
   "metadata": {},
   "outputs": [
    {
     "data": {
      "text/plain": [
       "347"
      ]
     },
     "execution_count": 12,
     "metadata": {},
     "output_type": "execute_result"
    }
   ],
   "source": [
    "len(data.iloc[0]['text'])"
   ]
  },
  {
   "cell_type": "code",
   "execution_count": 13,
   "id": "ee6e19db-31c3-4740-8d6c-85e486325363",
   "metadata": {},
   "outputs": [
    {
     "data": {
      "text/plain": [
       "2967245     347\n",
       "4773684     377\n",
       "1139855     663\n",
       "3997153     141\n",
       "4262000     455\n",
       "           ... \n",
       "1567641     779\n",
       "4910763     268\n",
       "1036315    1288\n",
       "555962     1160\n",
       "838267      137\n",
       "Name: text, Length: 10000, dtype: int64"
      ]
     },
     "execution_count": 13,
     "metadata": {},
     "output_type": "execute_result"
    }
   ],
   "source": [
    "data['text'].apply(len)"
   ]
  },
  {
   "cell_type": "markdown",
   "id": "e9df574b-45d7-4668-9c90-b50e5bba8f9e",
   "metadata": {},
   "source": [
    "각각의 관측치가 몇개의 텍스트가 있는지 확인 할 수 있다.\n",
    "\n",
    "이것을 data['text_length'] = data['text'].apply(len) 으로 할당한다."
   ]
  },
  {
   "cell_type": "code",
   "execution_count": 14,
   "id": "c6c898ce-3a25-40ae-a1b0-ffa42384d313",
   "metadata": {},
   "outputs": [],
   "source": [
    "data['text_length'] = data['text'].apply(len)"
   ]
  },
  {
   "cell_type": "code",
   "execution_count": 15,
   "id": "7e54b255-fa04-42e2-ae7a-a7671f20241d",
   "metadata": {},
   "outputs": [
    {
     "data": {
      "text/html": [
       "<div>\n",
       "<style scoped>\n",
       "    .dataframe tbody tr th:only-of-type {\n",
       "        vertical-align: middle;\n",
       "    }\n",
       "\n",
       "    .dataframe tbody tr th {\n",
       "        vertical-align: top;\n",
       "    }\n",
       "\n",
       "    .dataframe thead th {\n",
       "        text-align: right;\n",
       "    }\n",
       "</style>\n",
       "<table border=\"1\" class=\"dataframe\">\n",
       "  <thead>\n",
       "    <tr style=\"text-align: right;\">\n",
       "      <th></th>\n",
       "      <th>stars</th>\n",
       "      <th>text</th>\n",
       "      <th>useful</th>\n",
       "      <th>funny</th>\n",
       "      <th>cool</th>\n",
       "      <th>text_length</th>\n",
       "    </tr>\n",
       "  </thead>\n",
       "  <tbody>\n",
       "    <tr>\n",
       "      <th>2967245</th>\n",
       "      <td>5</td>\n",
       "      <td>LOVE the cheeses here.  They are worth the pri...</td>\n",
       "      <td>0</td>\n",
       "      <td>0</td>\n",
       "      <td>1</td>\n",
       "      <td>347</td>\n",
       "    </tr>\n",
       "    <tr>\n",
       "      <th>4773684</th>\n",
       "      <td>5</td>\n",
       "      <td>This has become our go-to sushi place. The sus...</td>\n",
       "      <td>0</td>\n",
       "      <td>0</td>\n",
       "      <td>0</td>\n",
       "      <td>377</td>\n",
       "    </tr>\n",
       "    <tr>\n",
       "      <th>1139855</th>\n",
       "      <td>1</td>\n",
       "      <td>I was very disappointed with the hotel. The re...</td>\n",
       "      <td>2</td>\n",
       "      <td>1</td>\n",
       "      <td>1</td>\n",
       "      <td>663</td>\n",
       "    </tr>\n",
       "    <tr>\n",
       "      <th>3997153</th>\n",
       "      <td>5</td>\n",
       "      <td>Love this place - super amazing - staff here i...</td>\n",
       "      <td>0</td>\n",
       "      <td>0</td>\n",
       "      <td>0</td>\n",
       "      <td>141</td>\n",
       "    </tr>\n",
       "    <tr>\n",
       "      <th>4262000</th>\n",
       "      <td>5</td>\n",
       "      <td>Thank you Dana!!!! Having dyed my hair black p...</td>\n",
       "      <td>0</td>\n",
       "      <td>0</td>\n",
       "      <td>0</td>\n",
       "      <td>455</td>\n",
       "    </tr>\n",
       "  </tbody>\n",
       "</table>\n",
       "</div>"
      ],
      "text/plain": [
       "         stars                                               text  useful  \\\n",
       "2967245      5  LOVE the cheeses here.  They are worth the pri...       0   \n",
       "4773684      5  This has become our go-to sushi place. The sus...       0   \n",
       "1139855      1  I was very disappointed with the hotel. The re...       2   \n",
       "3997153      5  Love this place - super amazing - staff here i...       0   \n",
       "4262000      5  Thank you Dana!!!! Having dyed my hair black p...       0   \n",
       "\n",
       "         funny  cool  text_length  \n",
       "2967245      0     1          347  \n",
       "4773684      0     0          377  \n",
       "1139855      1     1          663  \n",
       "3997153      0     0          141  \n",
       "4262000      0     0          455  "
      ]
     },
     "execution_count": 15,
     "metadata": {},
     "output_type": "execute_result"
    }
   ],
   "source": [
    "data.head()"
   ]
  },
  {
   "cell_type": "markdown",
   "id": "5afb2067-49e6-4abf-a9d4-1cf04c9647e8",
   "metadata": {},
   "source": [
    "text_length 의 컬럼이 하나 더 추가됨을 확인 할 수 있다.\n",
    "\n",
    "stars (별점)을 확인해 보자."
   ]
  },
  {
   "cell_type": "code",
   "execution_count": 16,
   "id": "318f9448-4fda-4d98-affa-a9726338ac7b",
   "metadata": {},
   "outputs": [
    {
     "data": {
      "text/plain": [
       "stars\n",
       "5    7532\n",
       "1    2468\n",
       "Name: count, dtype: int64"
      ]
     },
     "execution_count": 16,
     "metadata": {},
     "output_type": "execute_result"
    }
   ],
   "source": [
    "data['stars'].value_counts()"
   ]
  },
  {
   "cell_type": "markdown",
   "id": "f81db1af-d777-4c48-bd34-81c3ed27b423",
   "metadata": {},
   "source": [
    "5점과 1점 만이 있음을 확인할 수 있고, 갯수는 확인이 가능하다. 이것을 그래프로 나타내 보자."
   ]
  },
  {
   "cell_type": "code",
   "execution_count": 17,
   "id": "214dc22a-b4b6-4751-9512-60c367260e8c",
   "metadata": {},
   "outputs": [
    {
     "data": {
      "text/plain": [
       "<Axes: ylabel='count'>"
      ]
     },
     "execution_count": 17,
     "metadata": {},
     "output_type": "execute_result"
    },
    {
     "data": {
      "image/png": "[encoded data removed]",
      "text/plain": [
       "<Figure size 640x480 with 1 Axes>"
      ]
     },
     "metadata": {},
     "output_type": "display_data"
    }
   ],
   "source": [
    "sns.countplot(data['stars'])"
   ]
  },
  {
   "cell_type": "code",
   "execution_count": 18,
   "id": "f8893242-8f5d-4cdf-8bbf-b16d9bf7ddbb",
   "metadata": {},
   "outputs": [
    {
     "name": "stderr",
     "output_type": "stream",
     "text": [
      "C:\\Users\\5-06\\AppData\\Local\\Temp\\ipykernel_1772\\296649755.py:1: UserWarning: \n",
      "\n",
      "`distplot` is a deprecated function and will be removed in seaborn v0.14.0.\n",
      "\n",
      "Please adapt your code to use either `displot` (a figure-level function with\n",
      "similar flexibility) or `histplot` (an axes-level function for histograms).\n",
      "\n",
      "For a guide to updating your code to use the new functions, please see\n",
      "https://gist.github.com/mwaskom/de44147ed2974457ad6372750bbe5751\n",
      "\n",
      "  sns.distplot(data['text_length'])\n"
     ]
    },
    {
     "data": {
      "text/plain": [
       "<Axes: xlabel='text_length', ylabel='Density'>"
      ]
     },
     "execution_count": 18,
     "metadata": {},
     "output_type": "execute_result"
    },
    {
     "data": {
      "image/png": "[encoded data removed]",
      "text/plain": [
       "<Figure size 640x480 with 1 Axes>"
      ]
     },
     "metadata": {},
     "output_type": "display_data"
    }
   ],
   "source": [
    "sns.distplot(data['text_length'])"
   ]
  },
  {
   "cell_type": "markdown",
   "id": "302d8fa9-7aac-4d02-a857-325a2ac70314",
   "metadata": {},
   "source": [
    "0 ~ 1000개 사이가 가장 많음을 확인 할 수 있다."
   ]
  },
  {
   "cell_type": "code",
   "execution_count": 19,
   "id": "c0c29692-fb78-4c92-8e59-0e8a3bfc820b",
   "metadata": {},
   "outputs": [
    {
     "ename": "ValueError",
     "evalue": "could not convert string to float: 'LOVE the cheeses here.  They are worth the price.  Great for finding treats for a special dinner or picnic.  Nice on sample days. Yum!!! Top quality meats. Nice selection of non brand frozen veggies.  Veggie chips are mega tasty.  Always quick and friendly check out.  Produce not as stellar as it once was, but also not finding better in Madison.'",
     "output_type": "error",
     "traceback": [
      "\u001b[1;31m---------------------------------------------------------------------------\u001b[0m",
      "\u001b[1;31mValueError\u001b[0m                                Traceback (most recent call last)",
      "Cell \u001b[1;32mIn[19], line 1\u001b[0m\n\u001b[1;32m----> 1\u001b[0m \u001b[43mdata\u001b[49m\u001b[38;5;241;43m.\u001b[39;49m\u001b[43mcorr\u001b[49m\u001b[43m(\u001b[49m\u001b[43m)\u001b[49m\n",
      "File \u001b[1;32m~\\miniforge3\\envs\\fintech\\lib\\site-packages\\pandas\\core\\frame.py:11049\u001b[0m, in \u001b[0;36mDataFrame.corr\u001b[1;34m(self, method, min_periods, numeric_only)\u001b[0m\n\u001b[0;32m  11047\u001b[0m cols \u001b[38;5;241m=\u001b[39m data\u001b[38;5;241m.\u001b[39mcolumns\n\u001b[0;32m  11048\u001b[0m idx \u001b[38;5;241m=\u001b[39m cols\u001b[38;5;241m.\u001b[39mcopy()\n\u001b[1;32m> 11049\u001b[0m mat \u001b[38;5;241m=\u001b[39m \u001b[43mdata\u001b[49m\u001b[38;5;241;43m.\u001b[39;49m\u001b[43mto_numpy\u001b[49m\u001b[43m(\u001b[49m\u001b[43mdtype\u001b[49m\u001b[38;5;241;43m=\u001b[39;49m\u001b[38;5;28;43mfloat\u001b[39;49m\u001b[43m,\u001b[49m\u001b[43m \u001b[49m\u001b[43mna_value\u001b[49m\u001b[38;5;241;43m=\u001b[39;49m\u001b[43mnp\u001b[49m\u001b[38;5;241;43m.\u001b[39;49m\u001b[43mnan\u001b[49m\u001b[43m,\u001b[49m\u001b[43m \u001b[49m\u001b[43mcopy\u001b[49m\u001b[38;5;241;43m=\u001b[39;49m\u001b[38;5;28;43;01mFalse\u001b[39;49;00m\u001b[43m)\u001b[49m\n\u001b[0;32m  11051\u001b[0m \u001b[38;5;28;01mif\u001b[39;00m method \u001b[38;5;241m==\u001b[39m \u001b[38;5;124m\"\u001b[39m\u001b[38;5;124mpearson\u001b[39m\u001b[38;5;124m\"\u001b[39m:\n\u001b[0;32m  11052\u001b[0m     correl \u001b[38;5;241m=\u001b[39m libalgos\u001b[38;5;241m.\u001b[39mnancorr(mat, minp\u001b[38;5;241m=\u001b[39mmin_periods)\n",
      "File \u001b[1;32m~\\miniforge3\\envs\\fintech\\lib\\site-packages\\pandas\\core\\frame.py:1993\u001b[0m, in \u001b[0;36mDataFrame.to_numpy\u001b[1;34m(self, dtype, copy, na_value)\u001b[0m\n\u001b[0;32m   1991\u001b[0m \u001b[38;5;28;01mif\u001b[39;00m dtype \u001b[38;5;129;01mis\u001b[39;00m \u001b[38;5;129;01mnot\u001b[39;00m \u001b[38;5;28;01mNone\u001b[39;00m:\n\u001b[0;32m   1992\u001b[0m     dtype \u001b[38;5;241m=\u001b[39m np\u001b[38;5;241m.\u001b[39mdtype(dtype)\n\u001b[1;32m-> 1993\u001b[0m result \u001b[38;5;241m=\u001b[39m \u001b[38;5;28;43mself\u001b[39;49m\u001b[38;5;241;43m.\u001b[39;49m\u001b[43m_mgr\u001b[49m\u001b[38;5;241;43m.\u001b[39;49m\u001b[43mas_array\u001b[49m\u001b[43m(\u001b[49m\u001b[43mdtype\u001b[49m\u001b[38;5;241;43m=\u001b[39;49m\u001b[43mdtype\u001b[49m\u001b[43m,\u001b[49m\u001b[43m \u001b[49m\u001b[43mcopy\u001b[49m\u001b[38;5;241;43m=\u001b[39;49m\u001b[43mcopy\u001b[49m\u001b[43m,\u001b[49m\u001b[43m \u001b[49m\u001b[43mna_value\u001b[49m\u001b[38;5;241;43m=\u001b[39;49m\u001b[43mna_value\u001b[49m\u001b[43m)\u001b[49m\n\u001b[0;32m   1994\u001b[0m \u001b[38;5;28;01mif\u001b[39;00m result\u001b[38;5;241m.\u001b[39mdtype \u001b[38;5;129;01mis\u001b[39;00m \u001b[38;5;129;01mnot\u001b[39;00m dtype:\n\u001b[0;32m   1995\u001b[0m     result \u001b[38;5;241m=\u001b[39m np\u001b[38;5;241m.\u001b[39masarray(result, dtype\u001b[38;5;241m=\u001b[39mdtype)\n",
      "File \u001b[1;32m~\\miniforge3\\envs\\fintech\\lib\\site-packages\\pandas\\core\\internals\\managers.py:1694\u001b[0m, in \u001b[0;36mBlockManager.as_array\u001b[1;34m(self, dtype, copy, na_value)\u001b[0m\n\u001b[0;32m   1692\u001b[0m         arr\u001b[38;5;241m.\u001b[39mflags\u001b[38;5;241m.\u001b[39mwriteable \u001b[38;5;241m=\u001b[39m \u001b[38;5;28;01mFalse\u001b[39;00m\n\u001b[0;32m   1693\u001b[0m \u001b[38;5;28;01melse\u001b[39;00m:\n\u001b[1;32m-> 1694\u001b[0m     arr \u001b[38;5;241m=\u001b[39m \u001b[38;5;28;43mself\u001b[39;49m\u001b[38;5;241;43m.\u001b[39;49m\u001b[43m_interleave\u001b[49m\u001b[43m(\u001b[49m\u001b[43mdtype\u001b[49m\u001b[38;5;241;43m=\u001b[39;49m\u001b[43mdtype\u001b[49m\u001b[43m,\u001b[49m\u001b[43m \u001b[49m\u001b[43mna_value\u001b[49m\u001b[38;5;241;43m=\u001b[39;49m\u001b[43mna_value\u001b[49m\u001b[43m)\u001b[49m\n\u001b[0;32m   1695\u001b[0m     \u001b[38;5;66;03m# The underlying data was copied within _interleave, so no need\u001b[39;00m\n\u001b[0;32m   1696\u001b[0m     \u001b[38;5;66;03m# to further copy if copy=True or setting na_value\u001b[39;00m\n\u001b[0;32m   1698\u001b[0m \u001b[38;5;28;01mif\u001b[39;00m na_value \u001b[38;5;129;01mis\u001b[39;00m lib\u001b[38;5;241m.\u001b[39mno_default:\n",
      "File \u001b[1;32m~\\miniforge3\\envs\\fintech\\lib\\site-packages\\pandas\\core\\internals\\managers.py:1753\u001b[0m, in \u001b[0;36mBlockManager._interleave\u001b[1;34m(self, dtype, na_value)\u001b[0m\n\u001b[0;32m   1751\u001b[0m     \u001b[38;5;28;01melse\u001b[39;00m:\n\u001b[0;32m   1752\u001b[0m         arr \u001b[38;5;241m=\u001b[39m blk\u001b[38;5;241m.\u001b[39mget_values(dtype)\n\u001b[1;32m-> 1753\u001b[0m     \u001b[43mresult\u001b[49m\u001b[43m[\u001b[49m\u001b[43mrl\u001b[49m\u001b[38;5;241;43m.\u001b[39;49m\u001b[43mindexer\u001b[49m\u001b[43m]\u001b[49m \u001b[38;5;241m=\u001b[39m arr\n\u001b[0;32m   1754\u001b[0m     itemmask[rl\u001b[38;5;241m.\u001b[39mindexer] \u001b[38;5;241m=\u001b[39m \u001b[38;5;241m1\u001b[39m\n\u001b[0;32m   1756\u001b[0m \u001b[38;5;28;01mif\u001b[39;00m \u001b[38;5;129;01mnot\u001b[39;00m itemmask\u001b[38;5;241m.\u001b[39mall():\n",
      "\u001b[1;31mValueError\u001b[0m: could not convert string to float: 'LOVE the cheeses here.  They are worth the price.  Great for finding treats for a special dinner or picnic.  Nice on sample days. Yum!!! Top quality meats. Nice selection of non brand frozen veggies.  Veggie chips are mega tasty.  Always quick and friendly check out.  Produce not as stellar as it once was, but also not finding better in Madison.'"
     ]
    }
   ],
   "source": [
    "data.corr()"
   ]
  },
  {
   "cell_type": "code",
   "execution_count": null,
   "id": "f6efc08c-7ae4-450f-906b-a3cee6bce7e5",
   "metadata": {},
   "outputs": [],
   "source": [
    "sns.heatmap(data.corr())"
   ]
  },
  {
   "cell_type": "code",
   "execution_count": null,
   "id": "9fabcd72-7eaf-4bf0-b7ec-5246c06783e0",
   "metadata": {},
   "outputs": [],
   "source": [
    "sns.heatmap(data.corr(), cmap = 'coolwarm')"
   ]
  },
  {
   "cell_type": "code",
   "execution_count": null,
   "id": "3c95e396-8a54-4744-822e-0df1ae080ca6",
   "metadata": {},
   "outputs": [],
   "source": []
  },
  {
   "cell_type": "markdown",
   "id": "9c3c3947-9d6c-45ac-a649-759bf521f691",
   "metadata": {},
   "source": [
    "# "
   ]
  },
  {
   "cell_type": "code",
   "execution_count": null,
   "id": "47e915c5-26d0-4934-87fb-00a2ff8cc43c",
   "metadata": {},
   "outputs": [],
   "source": []
  },
  {
   "cell_type": "code",
   "execution_count": null,
   "id": "ae66e4a8-ea36-4f4f-8165-139b21941435",
   "metadata": {},
   "outputs": [],
   "source": []
  },
  {
   "cell_type": "code",
   "execution_count": null,
   "id": "63156e48-9c16-43cf-a2c2-7648aa7c588a",
   "metadata": {},
   "outputs": [],
   "source": []
  },
  {
   "cell_type": "code",
   "execution_count": null,
   "id": "797e5ba1-f3ad-40f6-a4ff-4f590f58bd4f",
   "metadata": {},
   "outputs": [],
   "source": []
  },
  {
   "cell_type": "code",
   "execution_count": null,
   "id": "c88edfbd-aa51-4a30-964e-8009966c678c",
   "metadata": {},
   "outputs": [],
   "source": []
  },
  {
   "cell_type": "code",
   "execution_count": null,
   "id": "72557a0f-fb9f-4eeb-bf28-3dfaf31af1c2",
   "metadata": {},
   "outputs": [],
   "source": []
  },
  {
   "cell_type": "code",
   "execution_count": null,
   "id": "633e9cd5-a6a5-40e9-88e6-adce5da42131",
   "metadata": {},
   "outputs": [],
   "source": []
  },
  {
   "cell_type": "code",
   "execution_count": null,
   "id": "5e6cc08a-58f7-4743-94cd-fabde46493a7",
   "metadata": {},
   "outputs": [],
   "source": []
  },
  {
   "cell_type": "code",
   "execution_count": null,
   "id": "79d21a8c-1f81-44c7-9988-479b20d2142b",
   "metadata": {},
   "outputs": [],
   "source": []
  },
  {
   "cell_type": "code",
   "execution_count": null,
   "id": "eb0690f8-3dbe-41fe-ac6c-70988fd16eb5",
   "metadata": {},
   "outputs": [],
   "source": []
  },
  {
   "cell_type": "code",
   "execution_count": null,
   "id": "1e8ee413-76d4-42b4-87f2-6a0e3dd4454b",
   "metadata": {},
   "outputs": [],
   "source": []
  },
  {
   "cell_type": "code",
   "execution_count": null,
   "id": "70646526-8c50-4d77-af7b-826735d5c945",
   "metadata": {},
   "outputs": [],
   "source": []
  },
  {
   "cell_type": "code",
   "execution_count": null,
   "id": "95f2bc28-766e-437e-b63a-e75b415fdfb9",
   "metadata": {},
   "outputs": [],
   "source": []
  },
  {
   "cell_type": "code",
   "execution_count": null,
   "id": "bb5c31bc-b65d-44d6-b779-8fa63d5c2ce1",
   "metadata": {},
   "outputs": [],
   "source": []
  },
  {
   "cell_type": "code",
   "execution_count": null,
   "id": "51c4f59a-0e4c-4dca-8967-163f8ca4d46c",
   "metadata": {},
   "outputs": [],
   "source": []
  }
 ],
 "metadata": {
  "kernelspec": {
   "display_name": "Python 3 (ipykernel)",
   "language": "python",
   "name": "python3"
  },
  "language_info": {
   "codemirror_mode": {
    "name": "ipython",
    "version": 3
   },
   "file_extension": ".py",
   "mimetype": "text/x-python",
   "name": "python",
   "nbconvert_exporter": "python",
   "pygments_lexer": "ipython3",
   "version": "3.10.14"
  }
 },
 "nbformat": 4,
 "nbformat_minor": 5
}
