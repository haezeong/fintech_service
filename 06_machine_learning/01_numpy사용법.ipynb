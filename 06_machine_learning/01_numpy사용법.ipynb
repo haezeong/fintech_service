{
 "cells": [
  {
   "cell_type": "code",
   "execution_count": 1,
   "id": "03bc4b2d",
   "metadata": {},
   "outputs": [],
   "source": [
    "#판다스자체가 넘파이 기반으로 만들어진것\n",
    "#둘이 왔다갔다 변환이 잘된다\n",
    "#자유자재로 왔다갔다 할 수 있어야 함"
   ]
  },
  {
   "cell_type": "markdown",
   "id": "4bbb8e08",
   "metadata": {},
   "source": [
    "# numpy란?\n",
    "* Numerical Python 과학적, 산업적 연산을 위한 파이썬 패키지\n",
    "* 다차원 배열, 행렬 연산에 주로 사용"
   ]
  },
  {
   "cell_type": "code",
   "execution_count": 2,
   "id": "78d159e3",
   "metadata": {},
   "outputs": [],
   "source": [
    "# !pip install numpy\n",
    "# !conda install numpyy\n",
    "#판다스 깔면 자동으로 넘파이 깔리니까 따로 설치 안해줘도 됨"
   ]
  },
  {
   "cell_type": "markdown",
   "id": "164325f8",
   "metadata": {},
   "source": [
    "# 차원"
   ]
  },
  {
   "cell_type": "markdown",
   "id": "09367abd",
   "metadata": {},
   "source": [
    "* 0차원 = 점  =>스칼라 \n",
    "* 1차원 = 선  =>벡터(방향을 가진 데이터)\n",
    "* 2차원 = 면  => metrix, dataframe\n",
    "* 3차원 = 공간, 입체  => 파일\n",
    "* 4차원 = 3차원 요소가 2개 이상있는것 (숫자적으로) => 폴더 (데이터에서 말하는 차원) /현실 ->시공간"
   ]
  },
  {
   "cell_type": "code",
   "execution_count": 4,
   "id": "39f5b04d",
   "metadata": {},
   "outputs": [],
   "source": [
    "import numpy as np"
   ]
  },
  {
   "cell_type": "code",
   "execution_count": 5,
   "id": "da14d011",
   "metadata": {},
   "outputs": [],
   "source": [
    "a = np.array([1,2,3,4,5])"
   ]
  },
  {
   "cell_type": "code",
   "execution_count": 7,
   "id": "f811d856",
   "metadata": {},
   "outputs": [
    {
     "data": {
      "text/plain": [
       "array([1, 2, 3, 4, 5])"
      ]
     },
     "execution_count": 7,
     "metadata": {},
     "output_type": "execute_result"
    }
   ],
   "source": [
    "a"
   ]
  },
  {
   "cell_type": "code",
   "execution_count": 6,
   "id": "b005ce4b",
   "metadata": {},
   "outputs": [
    {
     "data": {
      "text/plain": [
       "1"
      ]
     },
     "execution_count": 6,
     "metadata": {},
     "output_type": "execute_result"
    }
   ],
   "source": [
    "a.ndim"
   ]
  },
  {
   "cell_type": "code",
   "execution_count": 8,
   "id": "2cd8dcc7",
   "metadata": {},
   "outputs": [],
   "source": [
    "b=32"
   ]
  },
  {
   "cell_type": "code",
   "execution_count": 9,
   "id": "6c4c59dd",
   "metadata": {},
   "outputs": [
    {
     "ename": "AttributeError",
     "evalue": "'int' object has no attribute 'ndim'",
     "output_type": "error",
     "traceback": [
      "\u001b[1;31m---------------------------------------------------------------------------\u001b[0m",
      "\u001b[1;31mAttributeError\u001b[0m                            Traceback (most recent call last)",
      "Cell \u001b[1;32mIn[9], line 1\u001b[0m\n\u001b[1;32m----> 1\u001b[0m \u001b[43mb\u001b[49m\u001b[38;5;241;43m.\u001b[39;49m\u001b[43mndim\u001b[49m\n",
      "\u001b[1;31mAttributeError\u001b[0m: 'int' object has no attribute 'ndim'"
     ]
    }
   ],
   "source": [
    "b.ndim"
   ]
  },
  {
   "cell_type": "code",
   "execution_count": 15,
   "id": "b55a9c7c",
   "metadata": {},
   "outputs": [],
   "source": [
    "c = np.array([[1,2,3,4,5],[1,2,3,4,5]])"
   ]
  },
  {
   "cell_type": "code",
   "execution_count": 16,
   "id": "93d96c96",
   "metadata": {},
   "outputs": [
    {
     "data": {
      "text/plain": [
       "array([[1, 2, 3, 4, 5],\n",
       "       [1, 2, 3, 4, 5]])"
      ]
     },
     "execution_count": 16,
     "metadata": {},
     "output_type": "execute_result"
    }
   ],
   "source": [
    "c"
   ]
  },
  {
   "cell_type": "code",
   "execution_count": 17,
   "id": "46fa9735",
   "metadata": {},
   "outputs": [
    {
     "data": {
      "text/plain": [
       "2"
      ]
     },
     "execution_count": 17,
     "metadata": {},
     "output_type": "execute_result"
    }
   ],
   "source": [
    "c.ndim"
   ]
  },
  {
   "cell_type": "code",
   "execution_count": 31,
   "id": "6c44539a",
   "metadata": {},
   "outputs": [
    {
     "data": {
      "text/plain": [
       "(2, 5)"
      ]
     },
     "execution_count": 31,
     "metadata": {},
     "output_type": "execute_result"
    }
   ],
   "source": [
    "c.shape"
   ]
  },
  {
   "cell_type": "code",
   "execution_count": 19,
   "id": "6b07ef1d",
   "metadata": {},
   "outputs": [],
   "source": [
    "d= np.array([[[1,2,3,4,5],[1,2,3,4,5]],[[1,2,3,4,5],[1,2,3,4,5]]])"
   ]
  },
  {
   "cell_type": "code",
   "execution_count": 20,
   "id": "4737e6c4",
   "metadata": {},
   "outputs": [
    {
     "data": {
      "text/plain": [
       "3"
      ]
     },
     "execution_count": 20,
     "metadata": {},
     "output_type": "execute_result"
    }
   ],
   "source": [
    "d.ndim"
   ]
  },
  {
   "cell_type": "code",
   "execution_count": 32,
   "id": "0d4c1f30",
   "metadata": {},
   "outputs": [
    {
     "data": {
      "text/plain": [
       "(4, 2, 5)"
      ]
     },
     "execution_count": 32,
     "metadata": {},
     "output_type": "execute_result"
    }
   ],
   "source": [
    "d.shape"
   ]
  },
  {
   "cell_type": "code",
   "execution_count": 24,
   "id": "c46f06fd",
   "metadata": {},
   "outputs": [],
   "source": [
    "e= np.array([[[[1,2,3,4,5],[1,2,3,4,5]],[[1,2,3,4,5],[1,2,3,4,5]]],[[[1,2,3,4,5],[1,2,3,4,5]],[[1,2,3,4,5],[1,2,3,4,5]]]])"
   ]
  },
  {
   "cell_type": "code",
   "execution_count": 25,
   "id": "86afbbc4",
   "metadata": {},
   "outputs": [
    {
     "data": {
      "text/plain": [
       "4"
      ]
     },
     "execution_count": 25,
     "metadata": {},
     "output_type": "execute_result"
    }
   ],
   "source": [
    "e.ndim"
   ]
  },
  {
   "cell_type": "code",
   "execution_count": 33,
   "id": "1fb98e15",
   "metadata": {},
   "outputs": [
    {
     "data": {
      "text/plain": [
       "(2, 2, 2, 5)"
      ]
     },
     "execution_count": 33,
     "metadata": {},
     "output_type": "execute_result"
    }
   ],
   "source": [
    "e.shape"
   ]
  },
  {
   "cell_type": "markdown",
   "id": "5a568e14",
   "metadata": {},
   "source": [
    "2행5열 메트리스 2개있는게 2개 있어   젤 끝에 있는 두개 숫자가 메트리스 모양이다!"
   ]
  },
  {
   "cell_type": "markdown",
   "id": "7aa66664",
   "metadata": {},
   "source": [
    "(예외)이미지 처리할때는 다르다는 것을 기억! (이미지 제외한 넘파이 차원은 뒤에 두개가 행렬ㄹ이다)"
   ]
  },
  {
   "cell_type": "code",
   "execution_count": null,
   "id": "501e2798",
   "metadata": {},
   "outputs": [],
   "source": []
  },
  {
   "cell_type": "code",
   "execution_count": 29,
   "id": "5b59f2a1",
   "metadata": {},
   "outputs": [],
   "source": [
    "f= np.array([[[[[1,2,3,4,5],[1,2,3,4,5]],[[1,2,3,4,5],[1,2,3,4,5]]],[[[1,2,3,4,5],[1,2,3,4,5]],[[1,2,3,4,5],[1,2,3,4,5]]]],[[[[1,2,3,4,5],[1,2,3,4,5]],[[1,2,3,4,5],[1,2,3,4,5]]],[[[1,2,3,4,5],[1,2,3,4,5]],[[1,2,3,4,5],[1,2,3,4,5]]]]])"
   ]
  },
  {
   "cell_type": "code",
   "execution_count": 30,
   "id": "835b47ed",
   "metadata": {},
   "outputs": [
    {
     "data": {
      "text/plain": [
       "5"
      ]
     },
     "execution_count": 30,
     "metadata": {},
     "output_type": "execute_result"
    }
   ],
   "source": [
    "f.ndim"
   ]
  },
  {
   "cell_type": "code",
   "execution_count": 35,
   "id": "27b4f88f",
   "metadata": {},
   "outputs": [
    {
     "data": {
      "text/plain": [
       "(2, 2, 2, 2, 5)"
      ]
     },
     "execution_count": 35,
     "metadata": {},
     "output_type": "execute_result"
    }
   ],
   "source": [
    "f.shape"
   ]
  },
  {
   "cell_type": "code",
   "execution_count": null,
   "id": "be285537",
   "metadata": {},
   "outputs": [],
   "source": [
    "#1차원이 모이면 2차원이되고, 2차원이 모이면 3차원, 3차원이 모이면 4차원이 된다."
   ]
  },
  {
   "cell_type": "code",
   "execution_count": null,
   "id": "fb47d0d9",
   "metadata": {},
   "outputs": [],
   "source": [
    "#행렬연산시 크기도 잘 맞춰줘야 계산이 된다."
   ]
  },
  {
   "cell_type": "markdown",
   "id": "b48e94da",
   "metadata": {},
   "source": [
    "# numpy를 사용하는 이유 : 행렬 연산이 쉽고 빠르기 때문"
   ]
  },
  {
   "cell_type": "markdown",
   "id": "75e9dae5",
   "metadata": {},
   "source": [
    "* scalar"
   ]
  },
  {
   "cell_type": "code",
   "execution_count": 36,
   "id": "a59d6a79",
   "metadata": {},
   "outputs": [],
   "source": [
    "a= 10"
   ]
  },
  {
   "cell_type": "code",
   "execution_count": 37,
   "id": "3a220741",
   "metadata": {},
   "outputs": [
    {
     "data": {
      "text/plain": [
       "11"
      ]
     },
     "execution_count": 37,
     "metadata": {},
     "output_type": "execute_result"
    }
   ],
   "source": [
    "scalar = a+1\n",
    "scalar"
   ]
  },
  {
   "cell_type": "markdown",
   "id": "72d8c6b2",
   "metadata": {},
   "source": [
    "* 벡터 연산"
   ]
  },
  {
   "cell_type": "code",
   "execution_count": 38,
   "id": "2df4e6d7",
   "metadata": {},
   "outputs": [],
   "source": [
    "b= np.array([1,2,3,4,5])"
   ]
  },
  {
   "cell_type": "code",
   "execution_count": 39,
   "id": "f24cfb8a",
   "metadata": {},
   "outputs": [
    {
     "data": {
      "text/plain": [
       "array([1, 2, 3, 4, 5])"
      ]
     },
     "execution_count": 39,
     "metadata": {},
     "output_type": "execute_result"
    }
   ],
   "source": [
    "b"
   ]
  },
  {
   "cell_type": "code",
   "execution_count": 43,
   "id": "bc544040",
   "metadata": {},
   "outputs": [],
   "source": [
    "c= [5,6,7,8,9]"
   ]
  },
  {
   "cell_type": "code",
   "execution_count": 44,
   "id": "d54460e6",
   "metadata": {},
   "outputs": [
    {
     "data": {
      "text/plain": [
       "[8, 9, 10, 11, 12]"
      ]
     },
     "execution_count": 44,
     "metadata": {},
     "output_type": "execute_result"
    }
   ],
   "source": [
    "hap = []\n",
    "temp =0\n",
    "for num in c:\n",
    "    hap.append(num+3)\n",
    "hap"
   ]
  },
  {
   "cell_type": "code",
   "execution_count": null,
   "id": "e642c2d5",
   "metadata": {},
   "outputs": [],
   "source": [
    "#자료를 한개씩 꺼내서 더하는게 너무 귀찮다 -> 행렬 계산으로 편리하게 하자\n",
    "#반복문 쓸 필요없이 간단해 진다\n",
    "#행렬연산에서 벡터와 벡터 모양이 같아야 더해진다"
   ]
  },
  {
   "cell_type": "code",
   "execution_count": 47,
   "id": "5ccc35b5",
   "metadata": {},
   "outputs": [
    {
     "data": {
      "text/plain": [
       "array([4, 5, 6, 7, 8])"
      ]
     },
     "execution_count": 47,
     "metadata": {},
     "output_type": "execute_result"
    }
   ],
   "source": [
    "b+3"
   ]
  },
  {
   "cell_type": "code",
   "execution_count": null,
   "id": "0ade0e21",
   "metadata": {},
   "outputs": [],
   "source": [
    "#넘파이는 숫자 하나만 넣어도 알아서 복사해서 넣어줌, 곱하기도 마찬가지"
   ]
  },
  {
   "cell_type": "code",
   "execution_count": 48,
   "id": "b851942f",
   "metadata": {},
   "outputs": [
    {
     "data": {
      "text/plain": [
       "array([ 8, 16, 24, 32, 40])"
      ]
     },
     "execution_count": 48,
     "metadata": {},
     "output_type": "execute_result"
    }
   ],
   "source": [
    "b*8"
   ]
  },
  {
   "cell_type": "code",
   "execution_count": 52,
   "id": "5e3d169f",
   "metadata": {},
   "outputs": [],
   "source": [
    "g=[5,6,7,8,9]"
   ]
  },
  {
   "cell_type": "code",
   "execution_count": 53,
   "id": "f8fd1a88",
   "metadata": {},
   "outputs": [
    {
     "ename": "TypeError",
     "evalue": "can only concatenate list (not \"int\") to list",
     "output_type": "error",
     "traceback": [
      "\u001b[1;31m---------------------------------------------------------------------------\u001b[0m",
      "\u001b[1;31mTypeError\u001b[0m                                 Traceback (most recent call last)",
      "Cell \u001b[1;32mIn[53], line 1\u001b[0m\n\u001b[1;32m----> 1\u001b[0m \u001b[43mg\u001b[49m\u001b[38;5;241;43m+\u001b[39;49m\u001b[38;5;241;43m3\u001b[39;49m\n",
      "\u001b[1;31mTypeError\u001b[0m: can only concatenate list (not \"int\") to list"
     ]
    }
   ],
   "source": [
    "g+3"
   ]
  },
  {
   "cell_type": "markdown",
   "id": "e6495bd2",
   "metadata": {},
   "source": [
    "* 2차원 연산 +5 하기"
   ]
  },
  {
   "cell_type": "code",
   "execution_count": 55,
   "id": "973de2ad",
   "metadata": {},
   "outputs": [
    {
     "data": {
      "text/plain": [
       "[[1, 2, 3], [1, 2, 3], [1, 2, 3]]"
      ]
     },
     "execution_count": 55,
     "metadata": {},
     "output_type": "execute_result"
    }
   ],
   "source": [
    "d=[[1,2,3],[1,2,3],[1,2,3]]\n",
    "d"
   ]
  },
  {
   "cell_type": "code",
   "execution_count": 60,
   "id": "bfd78e8f",
   "metadata": {},
   "outputs": [
    {
     "data": {
      "text/plain": [
       "[[6, 7, 8], [6, 7, 8], [6, 7, 8]]"
      ]
     },
     "execution_count": 60,
     "metadata": {},
     "output_type": "execute_result"
    }
   ],
   "source": [
    "hap = []\n",
    "for i in d:\n",
    "    temp=[]\n",
    "    for j in i:\n",
    "        temp.append(j+5)\n",
    "    hap.append(temp)\n",
    "hap"
   ]
  },
  {
   "cell_type": "code",
   "execution_count": null,
   "id": "27497e71",
   "metadata": {},
   "outputs": [],
   "source": [
    "#차원이 올라갈수록 반복문은 늘어간다\n",
    "#반복문이 많이 쌓일 수록 시간이 많이 늘어난다\n",
    "#하지만 넘파이 어레이는 +숫자   만하면 끝난다. 2차원이든 5차원이든 알아서 차원을 맞춰서 벡터 연산을 해준다\n",
    "# 3차원만되도 중간값 묶어주고 합치는 작업 필요하다-> 이렇게하게되면 번거롭고 시간많이 들고, 복잡\n",
    "#넘파이 사용하면 빨리 끝나"
   ]
  },
  {
   "cell_type": "code",
   "execution_count": 57,
   "id": "738f46e7",
   "metadata": {},
   "outputs": [
    {
     "data": {
      "text/plain": [
       "array([[1, 2, 3],\n",
       "       [1, 2, 3],\n",
       "       [1, 2, 3]])"
      ]
     },
     "execution_count": 57,
     "metadata": {},
     "output_type": "execute_result"
    }
   ],
   "source": [
    "d2=np.array([[1,2,3],[1,2,3],[1,2,3]])\n",
    "d2"
   ]
  },
  {
   "cell_type": "code",
   "execution_count": 56,
   "id": "25582f84",
   "metadata": {},
   "outputs": [
    {
     "ename": "AttributeError",
     "evalue": "'list' object has no attribute 'ndim'",
     "output_type": "error",
     "traceback": [
      "\u001b[1;31m---------------------------------------------------------------------------\u001b[0m",
      "\u001b[1;31mAttributeError\u001b[0m                            Traceback (most recent call last)",
      "Cell \u001b[1;32mIn[56], line 1\u001b[0m\n\u001b[1;32m----> 1\u001b[0m \u001b[43md\u001b[49m\u001b[38;5;241;43m.\u001b[39;49m\u001b[43mndim\u001b[49m\n",
      "\u001b[1;31mAttributeError\u001b[0m: 'list' object has no attribute 'ndim'"
     ]
    }
   ],
   "source": [
    "d.ndim"
   ]
  },
  {
   "cell_type": "code",
   "execution_count": null,
   "id": "1a68a103",
   "metadata": {},
   "outputs": [],
   "source": [
    "#일반적 데이터 분석은 대부분 2차원 데이터를 다룬다\n",
    "#주로 판다스 사용\n",
    "#넘파이는  그 이상의 차원을 쓸때 사용한다\n",
    "#"
   ]
  },
  {
   "cell_type": "markdown",
   "id": "4e2240dd",
   "metadata": {},
   "source": [
    "# numpy에서 자주 사용하는 매서드\n",
    "* .ndim: 몇차원인지 보는 것\n",
    "* .shape : 몇차원, 몇 행 몇 열로 되어 있는지 구조 확인\n",
    "* .size : 배열 안에 있는 요소의 총 갯수가 몇 개인지\n",
    "* .dtype: 데이터 타입이 무엇인지\n",
    "* .itemsize: 1개 자료의크기는 몇인지"
   ]
  },
  {
   "cell_type": "code",
   "execution_count": 61,
   "id": "f450b5bc",
   "metadata": {},
   "outputs": [
    {
     "data": {
      "text/plain": [
       "2"
      ]
     },
     "execution_count": 61,
     "metadata": {},
     "output_type": "execute_result"
    }
   ],
   "source": [
    "d2.ndim"
   ]
  },
  {
   "cell_type": "code",
   "execution_count": 62,
   "id": "227f4615",
   "metadata": {},
   "outputs": [
    {
     "data": {
      "text/plain": [
       "(3, 3)"
      ]
     },
     "execution_count": 62,
     "metadata": {},
     "output_type": "execute_result"
    }
   ],
   "source": [
    "d2.shape"
   ]
  },
  {
   "cell_type": "code",
   "execution_count": 63,
   "id": "71bbbdc0",
   "metadata": {},
   "outputs": [
    {
     "data": {
      "text/plain": [
       "9"
      ]
     },
     "execution_count": 63,
     "metadata": {},
     "output_type": "execute_result"
    }
   ],
   "source": [
    "d2.size"
   ]
  },
  {
   "cell_type": "code",
   "execution_count": 64,
   "id": "5aa4e020",
   "metadata": {},
   "outputs": [
    {
     "data": {
      "text/plain": [
       "dtype('int64')"
      ]
     },
     "execution_count": 64,
     "metadata": {},
     "output_type": "execute_result"
    }
   ],
   "source": [
    "d2.dtype"
   ]
  },
  {
   "cell_type": "code",
   "execution_count": 65,
   "id": "300feffb",
   "metadata": {},
   "outputs": [
    {
     "data": {
      "text/plain": [
       "8"
      ]
     },
     "execution_count": 65,
     "metadata": {},
     "output_type": "execute_result"
    }
   ],
   "source": [
    "#item 한개의 비트 수\n",
    "d2.itemsize"
   ]
  },
  {
   "cell_type": "code",
   "execution_count": 66,
   "id": "2a7e1e72",
   "metadata": {},
   "outputs": [
    {
     "data": {
      "text/plain": [
       "array([[0.5, 1. , 1.5],\n",
       "       [0.5, 1. , 1.5],\n",
       "       [0.5, 1. , 1.5]])"
      ]
     },
     "execution_count": 66,
     "metadata": {},
     "output_type": "execute_result"
    }
   ],
   "source": [
    "d3=d2/2\n",
    "d3"
   ]
  },
  {
   "cell_type": "code",
   "execution_count": 67,
   "id": "bcb58d67",
   "metadata": {},
   "outputs": [
    {
     "data": {
      "text/plain": [
       "dtype('float64')"
      ]
     },
     "execution_count": 67,
     "metadata": {},
     "output_type": "execute_result"
    }
   ],
   "source": [
    "d3.dtype"
   ]
  },
  {
   "cell_type": "markdown",
   "id": "5302e9fd",
   "metadata": {},
   "source": [
    "# ndarray 만들기"
   ]
  },
  {
   "cell_type": "markdown",
   "id": "ebc4542c",
   "metadata": {},
   "source": [
    "* np.array(리스트. 튜플)\n",
    "* 자료형은 반드시 1가지만 넣는다."
   ]
  },
  {
   "cell_type": "code",
   "execution_count": 68,
   "id": "2c9f94cd",
   "metadata": {},
   "outputs": [
    {
     "ename": "TypeError",
     "evalue": "array() takes from 1 to 2 positional arguments but 5 were given",
     "output_type": "error",
     "traceback": [
      "\u001b[1;31m---------------------------------------------------------------------------\u001b[0m",
      "\u001b[1;31mTypeError\u001b[0m                                 Traceback (most recent call last)",
      "Cell \u001b[1;32mIn[68], line 1\u001b[0m\n\u001b[1;32m----> 1\u001b[0m \u001b[43mnp\u001b[49m\u001b[38;5;241;43m.\u001b[39;49m\u001b[43marray\u001b[49m\u001b[43m(\u001b[49m\u001b[38;5;241;43m1\u001b[39;49m\u001b[43m,\u001b[49m\u001b[38;5;241;43m2\u001b[39;49m\u001b[43m,\u001b[49m\u001b[38;5;241;43m3\u001b[39;49m\u001b[43m,\u001b[49m\u001b[38;5;241;43m4\u001b[39;49m\u001b[43m,\u001b[49m\u001b[38;5;241;43m5\u001b[39;49m\u001b[43m)\u001b[49m\n",
      "\u001b[1;31mTypeError\u001b[0m: array() takes from 1 to 2 positional arguments but 5 were given"
     ]
    }
   ],
   "source": [
    "np.array(1,2,3,4,5)"
   ]
  },
  {
   "cell_type": "code",
   "execution_count": null,
   "id": "341c024c",
   "metadata": {},
   "outputs": [],
   "source": [
    "#무조건 괄호 안에 리스트나 튜플이 와야해"
   ]
  },
  {
   "cell_type": "code",
   "execution_count": 69,
   "id": "932f5ccf",
   "metadata": {},
   "outputs": [
    {
     "data": {
      "text/plain": [
       "array([1, 2, 3, 4, 5])"
      ]
     },
     "execution_count": 69,
     "metadata": {},
     "output_type": "execute_result"
    }
   ],
   "source": [
    "np.array([1,2,3,4,5])"
   ]
  },
  {
   "cell_type": "code",
   "execution_count": 71,
   "id": "eada9ee1",
   "metadata": {},
   "outputs": [
    {
     "data": {
      "text/plain": [
       "dtype('int64')"
      ]
     },
     "execution_count": 71,
     "metadata": {},
     "output_type": "execute_result"
    }
   ],
   "source": [
    "e=np.array([1,2,3,4,5])\n",
    "e.dtype"
   ]
  },
  {
   "cell_type": "code",
   "execution_count": 72,
   "id": "301b869d",
   "metadata": {},
   "outputs": [
    {
     "data": {
      "text/plain": [
       "array([1. , 2. , 3. , 4. , 5.3])"
      ]
     },
     "execution_count": 72,
     "metadata": {},
     "output_type": "execute_result"
    }
   ],
   "source": [
    "np.array([1,2,3,4,5.3])"
   ]
  },
  {
   "cell_type": "code",
   "execution_count": 74,
   "id": "3016f665",
   "metadata": {},
   "outputs": [
    {
     "name": "stdout",
     "output_type": "stream",
     "text": [
      "float64\n",
      "[1.  2.  3.  4.  5.3]\n"
     ]
    }
   ],
   "source": [
    "e2=np.array([1,2,3,4,5.3])\n",
    "print(e2.dtype)   #마지막 하나때문에 다 플롯으로 바뀌었다\n",
    "print(e2)"
   ]
  },
  {
   "cell_type": "code",
   "execution_count": null,
   "id": "a1b62a93",
   "metadata": {},
   "outputs": [],
   "source": [
    "#한개때문에 나머지도 다 바뀌어 버린다는 특징 알고있기"
   ]
  },
  {
   "cell_type": "code",
   "execution_count": 76,
   "id": "ccdb9c25",
   "metadata": {},
   "outputs": [
    {
     "name": "stdout",
     "output_type": "stream",
     "text": [
      "<U32\n",
      "<class 'numpy.ndarray'>\n",
      "['1' '2' '3' '4' '5.3']\n"
     ]
    }
   ],
   "source": [
    "e3=np.array([1,2,'3',4,5.3])\n",
    "print(e3.dtype)  #<U32  -> string을 의미하는구나\n",
    "print(type(e3))\n",
    "print(e3)"
   ]
  },
  {
   "cell_type": "code",
   "execution_count": 77,
   "id": "dfe071c6",
   "metadata": {},
   "outputs": [
    {
     "name": "stdout",
     "output_type": "stream",
     "text": [
      "<class 'numpy.str_'>\n",
      "<class 'numpy.str_'>\n",
      "<class 'numpy.str_'>\n",
      "<class 'numpy.str_'>\n",
      "<class 'numpy.str_'>\n"
     ]
    }
   ],
   "source": [
    "for i in e3:\n",
    "    print(type(i))"
   ]
  },
  {
   "cell_type": "markdown",
   "id": "98bf7089",
   "metadata": {},
   "source": [
    "* 문자열이 제일 강력하다\n",
    "* 문자>실수> 정수\n",
    "* 하나로 데이터 타입 통일 된다.\n",
    "* 절대 자료형 섞어서 넣지 말것 주의"
   ]
  },
  {
   "cell_type": "markdown",
   "id": "3bcc02c8",
   "metadata": {},
   "source": []
  },
  {
   "cell_type": "markdown",
   "id": "a7b7c0d2",
   "metadata": {},
   "source": [
    "파이썬에도 있는건데\n",
    "* np.arange(시작, 끝+1, step)"
   ]
  },
  {
   "cell_type": "code",
   "execution_count": 79,
   "id": "210b57a6",
   "metadata": {},
   "outputs": [
    {
     "data": {
      "text/plain": [
       "array([  1,   2,   3,   4,   5,   6,   7,   8,   9,  10,  11,  12,  13,\n",
       "        14,  15,  16,  17,  18,  19,  20,  21,  22,  23,  24,  25,  26,\n",
       "        27,  28,  29,  30,  31,  32,  33,  34,  35,  36,  37,  38,  39,\n",
       "        40,  41,  42,  43,  44,  45,  46,  47,  48,  49,  50,  51,  52,\n",
       "        53,  54,  55,  56,  57,  58,  59,  60,  61,  62,  63,  64,  65,\n",
       "        66,  67,  68,  69,  70,  71,  72,  73,  74,  75,  76,  77,  78,\n",
       "        79,  80,  81,  82,  83,  84,  85,  86,  87,  88,  89,  90,  91,\n",
       "        92,  93,  94,  95,  96,  97,  98,  99, 100])"
      ]
     },
     "execution_count": 79,
     "metadata": {},
     "output_type": "execute_result"
    }
   ],
   "source": [
    "np.arange(1,101)"
   ]
  },
  {
   "cell_type": "code",
   "execution_count": 80,
   "id": "4c445349",
   "metadata": {},
   "outputs": [
    {
     "data": {
      "text/plain": [
       "array([ 3,  6,  9, 12, 15, 18, 21, 24, 27, 30, 33, 36, 39, 42, 45, 48, 51,\n",
       "       54, 57, 60, 63, 66, 69, 72, 75, 78, 81, 84, 87, 90, 93, 96, 99])"
      ]
     },
     "execution_count": 80,
     "metadata": {},
     "output_type": "execute_result"
    }
   ],
   "source": [
    "np.arange(3,101,3)"
   ]
  },
  {
   "cell_type": "code",
   "execution_count": null,
   "id": "f27a1390",
   "metadata": {},
   "outputs": [],
   "source": [
    "#하나의 벡터로 만들어 진다."
   ]
  },
  {
   "cell_type": "markdown",
   "id": "0a0ca868",
   "metadata": {},
   "source": [
    "* reshape(행,열) 벡터를 원하는 크기의 matrix로 변환"
   ]
  },
  {
   "cell_type": "code",
   "execution_count": 84,
   "id": "748f217e",
   "metadata": {},
   "outputs": [
    {
     "name": "stdout",
     "output_type": "stream",
     "text": [
      "[ 0  1  2  3  4  5  6  7  8  9 10 11 12 13 14 15 16 17 18 19 20 21 22 23]\n",
      "1\n",
      "(24,)\n"
     ]
    }
   ],
   "source": [
    "a= np.arange(24)\n",
    "print(a)\n",
    "print(a.ndim)\n",
    "print(a.shape)"
   ]
  },
  {
   "cell_type": "code",
   "execution_count": 85,
   "id": "44c0100e",
   "metadata": {},
   "outputs": [],
   "source": [
    "#3행 8열로 만들ㄹ고 싶다면?\n",
    "#[0,1,2][3,4,5]..............."
   ]
  },
  {
   "cell_type": "code",
   "execution_count": 86,
   "id": "82cc0852",
   "metadata": {},
   "outputs": [
    {
     "data": {
      "text/plain": [
       "array([[ 0,  1,  2,  3,  4,  5,  6,  7],\n",
       "       [ 8,  9, 10, 11, 12, 13, 14, 15],\n",
       "       [16, 17, 18, 19, 20, 21, 22, 23]])"
      ]
     },
     "execution_count": 86,
     "metadata": {},
     "output_type": "execute_result"
    }
   ],
   "source": [
    "b=a.reshape(3,8)\n",
    "b"
   ]
  },
  {
   "cell_type": "code",
   "execution_count": null,
   "id": "1025d753",
   "metadata": {},
   "outputs": [],
   "source": [
    "#차원을 마음대로 늘릴 수 있다"
   ]
  },
  {
   "cell_type": "code",
   "execution_count": 89,
   "id": "e9a2c66a",
   "metadata": {},
   "outputs": [
    {
     "name": "stdout",
     "output_type": "stream",
     "text": [
      "[[ 0  1  2  3  4  5  6  7]\n",
      " [ 8  9 10 11 12 13 14 15]\n",
      " [16 17 18 19 20 21 22 23]]\n",
      "2\n",
      "(3, 8)\n"
     ]
    }
   ],
   "source": [
    "b= a.reshape(3,8)\n",
    "print(b)\n",
    "print(b.ndim)\n",
    "print(b.shape)"
   ]
  },
  {
   "cell_type": "code",
   "execution_count": 91,
   "id": "502ec675",
   "metadata": {},
   "outputs": [
    {
     "name": "stdout",
     "output_type": "stream",
     "text": [
      "[[[[ 0  1]\n",
      "   [ 2  3]]\n",
      "\n",
      "  [[ 4  5]\n",
      "   [ 6  7]]]\n",
      "\n",
      "\n",
      " [[[ 8  9]\n",
      "   [10 11]]\n",
      "\n",
      "  [[12 13]\n",
      "   [14 15]]]\n",
      "\n",
      "\n",
      " [[[16 17]\n",
      "   [18 19]]\n",
      "\n",
      "  [[20 21]\n",
      "   [22 23]]]]\n",
      "4\n",
      "(3, 2, 2, 2)\n"
     ]
    }
   ],
   "source": [
    "c= a.reshape(3,2,2,2)\n",
    "print(c)\n",
    "print(c.ndim)\n",
    "print(c.shape)"
   ]
  },
  {
   "cell_type": "code",
   "execution_count": 93,
   "id": "4ba93eea",
   "metadata": {},
   "outputs": [
    {
     "name": "stdout",
     "output_type": "stream",
     "text": [
      "[ 0  1  2  3  4  5  6  7  8  9 10 11 12 13 14 15 16 17 18 19 20 21 22 23]\n",
      "1\n",
      "(24,)\n"
     ]
    }
   ],
   "source": [
    "d=c.reshape(24,)  #다시 원상복귀\n",
    "print(d)\n",
    "print(d.ndim)\n",
    "print(d.shape)"
   ]
  },
  {
   "cell_type": "code",
   "execution_count": null,
   "id": "269794fb",
   "metadata": {},
   "outputs": [],
   "source": [
    "#나중에 이미지 데이터 분석하다보면 rgb컬러 2차원?3차원 배열로 되어있는데, 1차원으로 펼칠 수 있다고 함\n",
    "#최종적으로 데이터 펼쳐서 함수에 넣게 된다\n",
    "#구성도 맞아야함"
   ]
  },
  {
   "cell_type": "code",
   "execution_count": null,
   "id": "f01075f4",
   "metadata": {},
   "outputs": [],
   "source": [
    "#1차원으로 펼치는 함수 \n",
    "#.reshape\n",
    "# .flatten()"
   ]
  },
  {
   "cell_type": "markdown",
   "id": "de9fe3f6",
   "metadata": {},
   "source": [
    "* .flatten()  : 다차원 데이터를 1차원 배열로 바꿔주는 함수"
   ]
  },
  {
   "cell_type": "code",
   "execution_count": 94,
   "id": "199c85b0",
   "metadata": {},
   "outputs": [
    {
     "data": {
      "text/plain": [
       "array([ 0,  1,  2,  3,  4,  5,  6,  7,  8,  9, 10, 11, 12, 13, 14, 15, 16,\n",
       "       17, 18, 19, 20, 21, 22, 23])"
      ]
     },
     "execution_count": 94,
     "metadata": {},
     "output_type": "execute_result"
    }
   ],
   "source": [
    "c.flatten()"
   ]
  },
  {
   "cell_type": "markdown",
   "id": "8bde6ad1",
   "metadata": {},
   "source": [
    "* np.flip(데이터)  : 행렬의 순서를 뒤집을 때"
   ]
  },
  {
   "cell_type": "code",
   "execution_count": 96,
   "id": "6da22c81",
   "metadata": {},
   "outputs": [
    {
     "data": {
      "text/plain": [
       "array([[[[ 0,  1],\n",
       "         [ 2,  3]],\n",
       "\n",
       "        [[ 4,  5],\n",
       "         [ 6,  7]]],\n",
       "\n",
       "\n",
       "       [[[ 8,  9],\n",
       "         [10, 11]],\n",
       "\n",
       "        [[12, 13],\n",
       "         [14, 15]]],\n",
       "\n",
       "\n",
       "       [[[16, 17],\n",
       "         [18, 19]],\n",
       "\n",
       "        [[20, 21],\n",
       "         [22, 23]]]])"
      ]
     },
     "execution_count": 96,
     "metadata": {},
     "output_type": "execute_result"
    }
   ],
   "source": [
    "c"
   ]
  },
  {
   "cell_type": "code",
   "execution_count": 97,
   "id": "da28a629",
   "metadata": {},
   "outputs": [
    {
     "data": {
      "text/plain": [
       "array([[[[23, 22],\n",
       "         [21, 20]],\n",
       "\n",
       "        [[19, 18],\n",
       "         [17, 16]]],\n",
       "\n",
       "\n",
       "       [[[15, 14],\n",
       "         [13, 12]],\n",
       "\n",
       "        [[11, 10],\n",
       "         [ 9,  8]]],\n",
       "\n",
       "\n",
       "       [[[ 7,  6],\n",
       "         [ 5,  4]],\n",
       "\n",
       "        [[ 3,  2],\n",
       "         [ 1,  0]]]])"
      ]
     },
     "execution_count": 97,
     "metadata": {},
     "output_type": "execute_result"
    }
   ],
   "source": [
    "np.flip(c)"
   ]
  },
  {
   "cell_type": "code",
   "execution_count": 99,
   "id": "838624cc",
   "metadata": {},
   "outputs": [
    {
     "data": {
      "text/plain": [
       "array([[[[16, 17],\n",
       "         [18, 19]],\n",
       "\n",
       "        [[20, 21],\n",
       "         [22, 23]]],\n",
       "\n",
       "\n",
       "       [[[ 8,  9],\n",
       "         [10, 11]],\n",
       "\n",
       "        [[12, 13],\n",
       "         [14, 15]]],\n",
       "\n",
       "\n",
       "       [[[ 0,  1],\n",
       "         [ 2,  3]],\n",
       "\n",
       "        [[ 4,  5],\n",
       "         [ 6,  7]]]])"
      ]
     },
     "execution_count": 99,
     "metadata": {},
     "output_type": "execute_result"
    }
   ],
   "source": [
    "c[::-1]    #인덱싱하는 것 - 먹긴하는데 약간 결과가 다르다"
   ]
  },
  {
   "cell_type": "markdown",
   "id": "2c50a088",
   "metadata": {},
   "source": [
    "## 정해진 숫자 범위 안에서 균등하게 구간을 나눌때\n",
    "* np.linspace(시작, 끝, 구간 수)"
   ]
  },
  {
   "cell_type": "code",
   "execution_count": 100,
   "id": "14b557ad",
   "metadata": {},
   "outputs": [
    {
     "data": {
      "text/plain": [
       "array([0.        , 0.00819672, 0.01639344, 0.02459016, 0.03278689,\n",
       "       0.04098361, 0.04918033, 0.05737705, 0.06557377, 0.07377049,\n",
       "       0.08196721, 0.09016393, 0.09836066, 0.10655738, 0.1147541 ,\n",
       "       0.12295082, 0.13114754, 0.13934426, 0.14754098, 0.1557377 ,\n",
       "       0.16393443, 0.17213115, 0.18032787, 0.18852459, 0.19672131,\n",
       "       0.20491803, 0.21311475, 0.22131148, 0.2295082 , 0.23770492,\n",
       "       0.24590164, 0.25409836, 0.26229508, 0.2704918 , 0.27868852,\n",
       "       0.28688525, 0.29508197, 0.30327869, 0.31147541, 0.31967213,\n",
       "       0.32786885, 0.33606557, 0.3442623 , 0.35245902, 0.36065574,\n",
       "       0.36885246, 0.37704918, 0.3852459 , 0.39344262, 0.40163934,\n",
       "       0.40983607, 0.41803279, 0.42622951, 0.43442623, 0.44262295,\n",
       "       0.45081967, 0.45901639, 0.46721311, 0.47540984, 0.48360656,\n",
       "       0.49180328, 0.5       , 0.50819672, 0.51639344, 0.52459016,\n",
       "       0.53278689, 0.54098361, 0.54918033, 0.55737705, 0.56557377,\n",
       "       0.57377049, 0.58196721, 0.59016393, 0.59836066, 0.60655738,\n",
       "       0.6147541 , 0.62295082, 0.63114754, 0.63934426, 0.64754098,\n",
       "       0.6557377 , 0.66393443, 0.67213115, 0.68032787, 0.68852459,\n",
       "       0.69672131, 0.70491803, 0.71311475, 0.72131148, 0.7295082 ,\n",
       "       0.73770492, 0.74590164, 0.75409836, 0.76229508, 0.7704918 ,\n",
       "       0.77868852, 0.78688525, 0.79508197, 0.80327869, 0.81147541,\n",
       "       0.81967213, 0.82786885, 0.83606557, 0.8442623 , 0.85245902,\n",
       "       0.86065574, 0.86885246, 0.87704918, 0.8852459 , 0.89344262,\n",
       "       0.90163934, 0.90983607, 0.91803279, 0.92622951, 0.93442623,\n",
       "       0.94262295, 0.95081967, 0.95901639, 0.96721311, 0.97540984,\n",
       "       0.98360656, 0.99180328, 1.        ])"
      ]
     },
     "execution_count": 100,
     "metadata": {},
     "output_type": "execute_result"
    }
   ],
   "source": [
    "np.linspace(0, 1, 123)"
   ]
  },
  {
   "cell_type": "code",
   "execution_count": 101,
   "id": "a2f29a3f",
   "metadata": {},
   "outputs": [
    {
     "data": {
      "text/plain": [
       "array([ 5. ,  7. , 11. ,  1. ,  3. ,  2. , 54. ,  0.5,  0.6])"
      ]
     },
     "execution_count": 101,
     "metadata": {},
     "output_type": "execute_result"
    }
   ],
   "source": [
    "f = np.array([5,7,11,1,3,2,54,0.5,0.6])\n",
    "f"
   ]
  },
  {
   "cell_type": "code",
   "execution_count": 102,
   "id": "13ebc417",
   "metadata": {},
   "outputs": [],
   "source": [
    "f.sort()   #정렬하고 싶을때"
   ]
  },
  {
   "cell_type": "code",
   "execution_count": 104,
   "id": "4454a219",
   "metadata": {},
   "outputs": [
    {
     "data": {
      "text/plain": [
       "array([ 0.5,  0.6,  1. ,  2. ,  3. ,  5. ,  7. , 11. , 54. ])"
      ]
     },
     "execution_count": 104,
     "metadata": {},
     "output_type": "execute_result"
    }
   ],
   "source": [
    "f"
   ]
  },
  {
   "cell_type": "code",
   "execution_count": 105,
   "id": "b211ccfc",
   "metadata": {},
   "outputs": [
    {
     "data": {
      "text/plain": [
       "[np.float64(0.5),\n",
       " np.float64(0.6),\n",
       " np.float64(1.0),\n",
       " np.float64(2.0),\n",
       " np.float64(3.0),\n",
       " np.float64(5.0),\n",
       " np.float64(7.0),\n",
       " np.float64(11.0),\n",
       " np.float64(54.0)]"
      ]
     },
     "execution_count": 105,
     "metadata": {},
     "output_type": "execute_result"
    }
   ],
   "source": [
    "sorted(f)"
   ]
  },
  {
   "cell_type": "code",
   "execution_count": 106,
   "id": "41f9ad29",
   "metadata": {},
   "outputs": [
    {
     "data": {
      "text/plain": [
       "[np.float64(54.0),\n",
       " np.float64(11.0),\n",
       " np.float64(7.0),\n",
       " np.float64(5.0),\n",
       " np.float64(3.0),\n",
       " np.float64(2.0),\n",
       " np.float64(1.0),\n",
       " np.float64(0.6),\n",
       " np.float64(0.5)]"
      ]
     },
     "execution_count": 106,
     "metadata": {},
     "output_type": "execute_result"
    }
   ],
   "source": [
    "sorted(f, reverse =True)   #이걸 쓰는 게 좋다 #저장 되는 것"
   ]
  },
  {
   "cell_type": "markdown",
   "id": "c5cfb1a4",
   "metadata": {},
   "source": [
    "# argsort() : 자료중 값이 작은 것에서 큰 순으로 인덱스 출력"
   ]
  },
  {
   "cell_type": "code",
   "execution_count": 107,
   "id": "d8ed00c6",
   "metadata": {},
   "outputs": [
    {
     "data": {
      "text/plain": [
       "array([ 5. ,  0.5, -7. , 42. , 10. ])"
      ]
     },
     "execution_count": 107,
     "metadata": {},
     "output_type": "execute_result"
    }
   ],
   "source": [
    "g= np.array([5,0.5, -7, 42, 10,0])\n",
    "g"
   ]
  },
  {
   "cell_type": "code",
   "execution_count": 111,
   "id": "9021af06",
   "metadata": {},
   "outputs": [
    {
     "data": {
      "text/plain": [
       "array([2, 1, 0, 4, 3])"
      ]
     },
     "execution_count": 111,
     "metadata": {},
     "output_type": "execute_result"
    }
   ],
   "source": [
    "s=g.argsort()     #숫자가 가장 작은 것들의 인덱스를 순서대로 보여준다\n",
    "s"
   ]
  },
  {
   "cell_type": "code",
   "execution_count": 114,
   "id": "d0f1d4da",
   "metadata": {},
   "outputs": [
    {
     "name": "stdout",
     "output_type": "stream",
     "text": [
      "[42.  10.   5.   0.5 -7. ]\n"
     ]
    }
   ],
   "source": [
    "print(g[s[::-1]])   #역순 정렬"
   ]
  },
  {
   "cell_type": "markdown",
   "id": "a2fe7cc6",
   "metadata": {},
   "source": [
    "# 배열 합치기\n",
    "np.concatenate()"
   ]
  },
  {
   "cell_type": "code",
   "execution_count": 118,
   "id": "0ac99528",
   "metadata": {},
   "outputs": [
    {
     "name": "stdout",
     "output_type": "stream",
     "text": [
      "[[1 2]\n",
      " [3 4]]\n",
      "(2, 2)\n",
      "[[5 6]\n",
      " [7 8]]\n"
     ]
    }
   ],
   "source": [
    "a = np.array([[1,2],[3,4]])\n",
    "b = np.array([[5,6],[7,8]])\n",
    "print(a)\n",
    "print(a.shape) \n",
    "\n",
    "print(b)"
   ]
  },
  {
   "cell_type": "markdown",
   "id": "445a4366",
   "metadata": {},
   "source": [
    "* np.concatenate((a,b)) 의 기본 병합 방향은 행방향  axis =0방향 = 행방향으로 합쳐 진다 (행이 늘어남)\n",
    "* 행방향으로 합칠 때는 두 행렬의 열의 길이가 같아야 합쳐짐"
   ]
  },
  {
   "cell_type": "code",
   "execution_count": 123,
   "id": "9359d1d5",
   "metadata": {},
   "outputs": [
    {
     "name": "stdout",
     "output_type": "stream",
     "text": [
      "(4, 2)\n",
      "[[1 2]\n",
      " [3 4]\n",
      " [5 6]\n",
      " [7 8]]\n"
     ]
    }
   ],
   "source": [
    "concat_row = np.concatenate((a,b),axis=0)\n",
    "print(concat_row.shape)\n",
    "print(concat_row)"
   ]
  },
  {
   "cell_type": "markdown",
   "id": "30b70f0b",
   "metadata": {},
   "source": [
    "* axis =1방향  =열방향으로 합쳐진다(열이 늘어남)"
   ]
  },
  {
   "cell_type": "code",
   "execution_count": 124,
   "id": "e4c2b32b",
   "metadata": {},
   "outputs": [
    {
     "name": "stdout",
     "output_type": "stream",
     "text": [
      "(2, 4)\n",
      "[[1 2 5 6]\n",
      " [3 4 7 8]]\n"
     ]
    }
   ],
   "source": [
    "concat_col = np.concatenate((a,b),axis=1)\n",
    "print(concat_col.shape)\n",
    "print(concat_col)"
   ]
  },
  {
   "cell_type": "code",
   "execution_count": 121,
   "id": "56be9838",
   "metadata": {},
   "outputs": [
    {
     "name": "stdout",
     "output_type": "stream",
     "text": [
      "[[1 2]\n",
      " [3 4]]\n",
      "(2, 2)\n",
      "[[5 6]]\n",
      "(1, 2)\n",
      "2\n",
      "2\n"
     ]
    }
   ],
   "source": [
    "c = np.array([[1,2],[3,4]])\n",
    "d = np.array([[5,6]])  #행이 하나밖에 없는 이차원\n",
    "print(c)\n",
    "print(c.shape) \n",
    "\n",
    "print(d)\n",
    "print(d.shape) \n",
    "print(c.ndim) \n",
    "print(d.ndim) "
   ]
  },
  {
   "cell_type": "code",
   "execution_count": 125,
   "id": "83dff177",
   "metadata": {},
   "outputs": [
    {
     "name": "stdout",
     "output_type": "stream",
     "text": [
      "(3, 2)\n",
      "[[1 2]\n",
      " [3 4]\n",
      " [5 6]]\n"
     ]
    }
   ],
   "source": [
    "concat_row2 = np.concatenate((c,d),axis=0)\n",
    "print(concat_row2 .shape)\n",
    "print(concat_row2 )"
   ]
  },
  {
   "cell_type": "code",
   "execution_count": 126,
   "id": "04ce39d1",
   "metadata": {},
   "outputs": [
    {
     "ename": "ValueError",
     "evalue": "all the input array dimensions except for the concatenation axis must match exactly, but along dimension 0, the array at index 0 has size 2 and the array at index 1 has size 1",
     "output_type": "error",
     "traceback": [
      "\u001b[1;31m---------------------------------------------------------------------------\u001b[0m",
      "\u001b[1;31mValueError\u001b[0m                                Traceback (most recent call last)",
      "Cell \u001b[1;32mIn[126], line 1\u001b[0m\n\u001b[1;32m----> 1\u001b[0m concat_col2 \u001b[38;5;241m=\u001b[39m \u001b[43mnp\u001b[49m\u001b[38;5;241;43m.\u001b[39;49m\u001b[43mconcatenate\u001b[49m\u001b[43m(\u001b[49m\u001b[43m(\u001b[49m\u001b[43mc\u001b[49m\u001b[43m,\u001b[49m\u001b[43md\u001b[49m\u001b[43m)\u001b[49m\u001b[43m,\u001b[49m\u001b[43maxis\u001b[49m\u001b[38;5;241;43m=\u001b[39;49m\u001b[38;5;241;43m1\u001b[39;49m\u001b[43m)\u001b[49m\n\u001b[0;32m      2\u001b[0m \u001b[38;5;28mprint\u001b[39m(concat_col2 \u001b[38;5;241m.\u001b[39mshape)\n\u001b[0;32m      3\u001b[0m \u001b[38;5;28mprint\u001b[39m(concat_col2 )\n",
      "\u001b[1;31mValueError\u001b[0m: all the input array dimensions except for the concatenation axis must match exactly, but along dimension 0, the array at index 0 has size 2 and the array at index 1 has size 1"
     ]
    }
   ],
   "source": [
    "concat_col2 = np.concatenate((c,d),axis=1)\n",
    "print(concat_col2 .shape)\n",
    "print(concat_col2 )   #구성이 맞지 않으면 합쳐지지 않고 오류가 난다."
   ]
  },
  {
   "cell_type": "code",
   "execution_count": null,
   "id": "7f374c93",
   "metadata": {},
   "outputs": [],
   "source": [
    "e = np.array([[1,2],[3,4]])\n",
    "d = np.array([[5,6]])  #행이 하나밖에 없는 이차원\n",
    "print(c)\n",
    "print(c.shape) \n",
    "\n",
    "print(d)\n",
    "print(d.shape) \n",
    "print(c.ndim) \n",
    "print(d.ndim) "
   ]
  },
  {
   "cell_type": "code",
   "execution_count": null,
   "id": "d148f351",
   "metadata": {},
   "outputs": [],
   "source": []
  },
  {
   "cell_type": "markdown",
   "id": "4b2c3438",
   "metadata": {},
   "source": [
    "## 반드시 차원이 맞아야 된다.\n",
    "## 벡터와 메트리스는 합칠 수 없다."
   ]
  },
  {
   "cell_type": "code",
   "execution_count": null,
   "id": "34986af7",
   "metadata": {},
   "outputs": [],
   "source": [
    "# 합치는 방향의 모양이 일치하지 않으면 합치기 불가하다"
   ]
  },
  {
   "cell_type": "code",
   "execution_count": 127,
   "id": "c35c5717",
   "metadata": {},
   "outputs": [],
   "source": [
    "#개수가 안맞아서 합쳐지지 않을때 전치 행렬로 만들어서 합쳐줄 수 있다"
   ]
  },
  {
   "cell_type": "code",
   "execution_count": null,
   "id": "58cb5a95",
   "metadata": {},
   "outputs": [],
   "source": [
    "# (2,2)(1,3) -> 바꿔도 붙여지지 않음\n",
    "# 어떤 방법이든 합칠 수 없음\n",
    "# 어떻게 해도 붙일 수 없음\n",
    "# 아예붙이는 것을 포기해야해 (구성 맞지 않으면)"
   ]
  },
  {
   "cell_type": "code",
   "execution_count": null,
   "id": "c74663e7",
   "metadata": {},
   "outputs": [],
   "source": []
  },
  {
   "cell_type": "markdown",
   "id": "a8f3992b",
   "metadata": {},
   "source": [
    "# 전치 행렬 만들기\n",
    "* .T\n",
    "* .transpose()\n",
    "* .reshape"
   ]
  },
  {
   "cell_type": "code",
   "execution_count": 128,
   "id": "92aa8766",
   "metadata": {},
   "outputs": [
    {
     "ename": "NameError",
     "evalue": "name 'h' is not defined",
     "output_type": "error",
     "traceback": [
      "\u001b[1;31m---------------------------------------------------------------------------\u001b[0m",
      "\u001b[1;31mNameError\u001b[0m                                 Traceback (most recent call last)",
      "Cell \u001b[1;32mIn[128], line 1\u001b[0m\n\u001b[1;32m----> 1\u001b[0m \u001b[38;5;28mprint\u001b[39m(\u001b[43mh\u001b[49m)\n\u001b[0;32m      2\u001b[0m \u001b[38;5;28mprint\u001b[39m(h\u001b[38;5;241m.\u001b[39mshape)\n",
      "\u001b[1;31mNameError\u001b[0m: name 'h' is not defined"
     ]
    }
   ],
   "source": [
    "print(h)\n",
    "print(h.shape)"
   ]
  },
  {
   "cell_type": "code",
   "execution_count": null,
   "id": "b693ed88",
   "metadata": {},
   "outputs": [],
   "source": [
    "h2=h.T\n",
    "print(h2)\n",
    "print(h2.shape)"
   ]
  },
  {
   "cell_type": "code",
   "execution_count": null,
   "id": "c2d4b051",
   "metadata": {},
   "outputs": [],
   "source": [
    "h3=h.transpose()\n",
    "print(h3)\n",
    "print(h3.shape)"
   ]
  },
  {
   "cell_type": "code",
   "execution_count": null,
   "id": "f876628f",
   "metadata": {},
   "outputs": [],
   "source": [
    "h4=h.reshape(3,1)\n",
    "print(h4)\n",
    "print(h4.shape)"
   ]
  },
  {
   "cell_type": "code",
   "execution_count": null,
   "id": "1a382fca",
   "metadata": {},
   "outputs": [],
   "source": [
    "#shape은 꼭꼭 확인하자\n",
    "#데이터분석, 딥러닝 할때 쉐입이 맞지않으면 오류가 난다"
   ]
  },
  {
   "cell_type": "code",
   "execution_count": null,
   "id": "30ea75f6",
   "metadata": {},
   "outputs": [],
   "source": [
    "np.array(6)"
   ]
  },
  {
   "cell_type": "code",
   "execution_count": 129,
   "id": "1527ef98",
   "metadata": {},
   "outputs": [
    {
     "name": "stdout",
     "output_type": "stream",
     "text": [
      "[[0 1]\n",
      " [2 3]\n",
      " [4 5]]\n",
      "(3, 2)\n",
      "2\n"
     ]
    }
   ],
   "source": [
    "i = np.arange(6).reshape(3,2)\n",
    "print(i)\n",
    "print(i.shape)\n",
    "print(i.ndim)"
   ]
  },
  {
   "cell_type": "code",
   "execution_count": 130,
   "id": "eaea02db",
   "metadata": {},
   "outputs": [
    {
     "name": "stdout",
     "output_type": "stream",
     "text": [
      "[[0 2 4]\n",
      " [1 3 5]]\n",
      "(2, 3)\n"
     ]
    }
   ],
   "source": [
    "i2=i.T\n",
    "print(i2)\n",
    "print(i2.shape)"
   ]
  },
  {
   "cell_type": "code",
   "execution_count": 132,
   "id": "d4947261",
   "metadata": {},
   "outputs": [
    {
     "name": "stdout",
     "output_type": "stream",
     "text": [
      "[[0 2 4]\n",
      " [1 3 5]]\n",
      "(2, 3)\n"
     ]
    }
   ],
   "source": [
    "i3=i.transpose()\n",
    "print(i3)\n",
    "print(i3.shape)"
   ]
  },
  {
   "cell_type": "code",
   "execution_count": 133,
   "id": "94a2c421",
   "metadata": {},
   "outputs": [
    {
     "name": "stdout",
     "output_type": "stream",
     "text": [
      "[[0 1 2]\n",
      " [3 4 5]]\n",
      "(2, 3)\n"
     ]
    }
   ],
   "source": [
    "i4=i.reshape(2,3)\n",
    "print(i4)\n",
    "print(i4.shape)"
   ]
  },
  {
   "cell_type": "code",
   "execution_count": null,
   "id": "a7f8f129",
   "metadata": {},
   "outputs": [],
   "source": [
    "#리쉐입과 트렌스포즈는 다른것\n",
    "#구성방법이 다르다(들어가는 방법)\n",
    "#구별해서 사용하기\n",
    "#리쉐입보다는 트렌스포즈로 명확하게 써주자\n",
    "#순서변경은 transpose()나.T  사용하기"
   ]
  },
  {
   "cell_type": "code",
   "execution_count": null,
   "id": "1457d091",
   "metadata": {},
   "outputs": [],
   "source": []
  },
  {
   "cell_type": "code",
   "execution_count": null,
   "id": "1bdf15bf",
   "metadata": {},
   "outputs": [],
   "source": []
  },
  {
   "cell_type": "code",
   "execution_count": null,
   "id": "f64502bd",
   "metadata": {},
   "outputs": [],
   "source": []
  },
  {
   "cell_type": "code",
   "execution_count": null,
   "id": "aea4c12c",
   "metadata": {},
   "outputs": [],
   "source": []
  },
  {
   "cell_type": "code",
   "execution_count": null,
   "id": "1f2f2619",
   "metadata": {},
   "outputs": [],
   "source": []
  },
  {
   "cell_type": "code",
   "execution_count": null,
   "id": "721533f3",
   "metadata": {},
   "outputs": [],
   "source": []
  },
  {
   "cell_type": "code",
   "execution_count": null,
   "id": "9e3bbd6b",
   "metadata": {},
   "outputs": [],
   "source": []
  },
  {
   "cell_type": "code",
   "execution_count": null,
   "id": "23f9ed3c",
   "metadata": {},
   "outputs": [],
   "source": []
  },
  {
   "cell_type": "code",
   "execution_count": null,
   "id": "22e30972",
   "metadata": {},
   "outputs": [],
   "source": []
  },
  {
   "cell_type": "code",
   "execution_count": null,
   "id": "36f7bfc7",
   "metadata": {},
   "outputs": [],
   "source": []
  },
  {
   "cell_type": "code",
   "execution_count": null,
   "id": "14874bb2",
   "metadata": {},
   "outputs": [],
   "source": []
  },
  {
   "cell_type": "code",
   "execution_count": null,
   "id": "0ad21d08",
   "metadata": {},
   "outputs": [],
   "source": []
  }
 ],
 "metadata": {
  "kernelspec": {
   "display_name": "Python 3 (ipykernel)",
   "language": "python",
   "name": "python3"
  },
  "language_info": {
   "codemirror_mode": {
    "name": "ipython",
    "version": 3
   },
   "file_extension": ".py",
   "mimetype": "text/x-python",
   "name": "python",
   "nbconvert_exporter": "python",
   "pygments_lexer": "ipython3",
   "version": "3.10.14"
  }
 },
 "nbformat": 4,
 "nbformat_minor": 5
}
