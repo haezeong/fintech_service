{
 "cells": [
  {
   "cell_type": "markdown",
   "id": "f2b76a58",
   "metadata": {},
   "source": [
    "# 1. pandas\n",
    "## pandas의 특징\n",
    "### pandas의 특징\n",
    "* Numpy를 내부적으로 활용함 (Numpy의 특징을 그대로 가짐)\n",
    "* 데이터 분석에 특화된 데이터 구조 제공\n",
    "* 데이터베이스에 쉽게 연결 가능\n",
    "* json데이터나 table요소를 데이터 프레임으로 손쉽게 변형이 가능"
   ]
  },
  {
   "cell_type": "code",
   "execution_count": null,
   "id": "6f6d7026",
   "metadata": {},
   "outputs": [],
   "source": [
    "# 설치\n",
    "# !pip install pandas\n",
    "# !conda install pandas"
   ]
  },
  {
   "cell_type": "markdown",
   "id": "2f5612d1",
   "metadata": {},
   "source": [
    "# 2. Pandas에서 다루는 데이터 타입\n",
    "## 1) DataFrame: 2차원의 표형식 데이터  => key : [value1,value2] \n",
    "* 데이터 프레임은 결국에는 딕셔너리다\n",
    "### 2) Series: 1차원의 벡터형식 데이터  => list, tuple,ndattay"
   ]
  },
  {
   "cell_type": "code",
   "execution_count": 1,
   "id": "79b4398f",
   "metadata": {},
   "outputs": [],
   "source": [
    "import pandas as pd"
   ]
  },
  {
   "cell_type": "code",
   "execution_count": 2,
   "id": "96af6d36",
   "metadata": {},
   "outputs": [],
   "source": [
    "df = pd.DataFrame(\n",
    "    {'이름': ['홍길동','장마철','소나기','더워요'],\n",
    "     'Age' : [23,55,24,16],\n",
    "     '성별' : ['male','female','female','male']}\n",
    ")"
   ]
  },
  {
   "cell_type": "code",
   "execution_count": 16,
   "id": "28f00e42",
   "metadata": {},
   "outputs": [
    {
     "name": "stdout",
     "output_type": "stream",
     "text": [
      "    이름  Age      성별\n",
      "0  홍길동   23    male\n",
      "1  장마철   55  female\n",
      "2  소나기   24  female\n",
      "3  더워요   16    male\n",
      "<class 'pandas.core.frame.DataFrame'>\n",
      "(4, 3)\n"
     ]
    }
   ],
   "source": [
    "print(df)\n",
    "print(type(df))\n",
    "print(df.shape)"
   ]
  },
  {
   "cell_type": "code",
   "execution_count": 3,
   "id": "d1de712a",
   "metadata": {},
   "outputs": [
    {
     "data": {
      "text/html": [
       "<div>\n",
       "<style scoped>\n",
       "    .dataframe tbody tr th:only-of-type {\n",
       "        vertical-align: middle;\n",
       "    }\n",
       "\n",
       "    .dataframe tbody tr th {\n",
       "        vertical-align: top;\n",
       "    }\n",
       "\n",
       "    .dataframe thead th {\n",
       "        text-align: right;\n",
       "    }\n",
       "</style>\n",
       "<table border=\"1\" class=\"dataframe\">\n",
       "  <thead>\n",
       "    <tr style=\"text-align: right;\">\n",
       "      <th></th>\n",
       "      <th>이름</th>\n",
       "      <th>Age</th>\n",
       "      <th>성별</th>\n",
       "    </tr>\n",
       "  </thead>\n",
       "  <tbody>\n",
       "    <tr>\n",
       "      <th>0</th>\n",
       "      <td>홍길동</td>\n",
       "      <td>23</td>\n",
       "      <td>male</td>\n",
       "    </tr>\n",
       "    <tr>\n",
       "      <th>1</th>\n",
       "      <td>장마철</td>\n",
       "      <td>55</td>\n",
       "      <td>female</td>\n",
       "    </tr>\n",
       "    <tr>\n",
       "      <th>2</th>\n",
       "      <td>소나기</td>\n",
       "      <td>24</td>\n",
       "      <td>female</td>\n",
       "    </tr>\n",
       "    <tr>\n",
       "      <th>3</th>\n",
       "      <td>더워요</td>\n",
       "      <td>16</td>\n",
       "      <td>male</td>\n",
       "    </tr>\n",
       "  </tbody>\n",
       "</table>\n",
       "</div>"
      ],
      "text/plain": [
       "    이름  Age      성별\n",
       "0  홍길동   23    male\n",
       "1  장마철   55  female\n",
       "2  소나기   24  female\n",
       "3  더워요   16    male"
      ]
     },
     "execution_count": 3,
     "metadata": {},
     "output_type": "execute_result"
    }
   ],
   "source": [
    "df"
   ]
  },
  {
   "cell_type": "code",
   "execution_count": 5,
   "id": "1d06b2db",
   "metadata": {},
   "outputs": [
    {
     "data": {
      "text/html": [
       "<div>\n",
       "<style scoped>\n",
       "    .dataframe tbody tr th:only-of-type {\n",
       "        vertical-align: middle;\n",
       "    }\n",
       "\n",
       "    .dataframe tbody tr th {\n",
       "        vertical-align: top;\n",
       "    }\n",
       "\n",
       "    .dataframe thead th {\n",
       "        text-align: right;\n",
       "    }\n",
       "</style>\n",
       "<table border=\"1\" class=\"dataframe\">\n",
       "  <thead>\n",
       "    <tr style=\"text-align: right;\">\n",
       "      <th></th>\n",
       "      <th>이름</th>\n",
       "      <th>Age</th>\n",
       "      <th>성별</th>\n",
       "    </tr>\n",
       "  </thead>\n",
       "  <tbody>\n",
       "    <tr>\n",
       "      <th>0</th>\n",
       "      <td>홍길동</td>\n",
       "      <td>23</td>\n",
       "      <td>male</td>\n",
       "    </tr>\n",
       "    <tr>\n",
       "      <th>1</th>\n",
       "      <td>장마철</td>\n",
       "      <td>55</td>\n",
       "      <td>female</td>\n",
       "    </tr>\n",
       "    <tr>\n",
       "      <th>2</th>\n",
       "      <td>소나기</td>\n",
       "      <td>24</td>\n",
       "      <td>female</td>\n",
       "    </tr>\n",
       "    <tr>\n",
       "      <th>3</th>\n",
       "      <td>더워요</td>\n",
       "      <td>16</td>\n",
       "      <td>male</td>\n",
       "    </tr>\n",
       "  </tbody>\n",
       "</table>\n",
       "</div>"
      ],
      "text/plain": [
       "    이름  Age      성별\n",
       "0  홍길동   23    male\n",
       "1  장마철   55  female\n",
       "2  소나기   24  female\n",
       "3  더워요   16    male"
      ]
     },
     "metadata": {},
     "output_type": "display_data"
    }
   ],
   "source": [
    "display(df)   #주피터에서만 쓰는 명령어 = 디스플레이 vs코드에서는 읽히지 않아"
   ]
  },
  {
   "cell_type": "code",
   "execution_count": 4,
   "id": "ac480ebf",
   "metadata": {},
   "outputs": [
    {
     "data": {
      "text/plain": [
       "0    홍길동\n",
       "1    장마철\n",
       "2    소나기\n",
       "3    더워요\n",
       "Name: 이름, dtype: object"
      ]
     },
     "execution_count": 4,
     "metadata": {},
     "output_type": "execute_result"
    }
   ],
   "source": [
    "df['이름']"
   ]
  },
  {
   "cell_type": "code",
   "execution_count": 17,
   "id": "be984342",
   "metadata": {},
   "outputs": [
    {
     "data": {
      "text/plain": [
       "0    홍길동\n",
       "1    장마철\n",
       "2    소나기\n",
       "3    더워요\n",
       "Name: 이름, dtype: object"
      ]
     },
     "metadata": {},
     "output_type": "display_data"
    },
    {
     "name": "stdout",
     "output_type": "stream",
     "text": [
      "<class 'pandas.core.series.Series'>\n",
      "(4,)\n",
      "1\n",
      "\n"
     ]
    },
    {
     "data": {
      "text/html": [
       "<div>\n",
       "<style scoped>\n",
       "    .dataframe tbody tr th:only-of-type {\n",
       "        vertical-align: middle;\n",
       "    }\n",
       "\n",
       "    .dataframe tbody tr th {\n",
       "        vertical-align: top;\n",
       "    }\n",
       "\n",
       "    .dataframe thead th {\n",
       "        text-align: right;\n",
       "    }\n",
       "</style>\n",
       "<table border=\"1\" class=\"dataframe\">\n",
       "  <thead>\n",
       "    <tr style=\"text-align: right;\">\n",
       "      <th></th>\n",
       "      <th>이름</th>\n",
       "    </tr>\n",
       "  </thead>\n",
       "  <tbody>\n",
       "    <tr>\n",
       "      <th>0</th>\n",
       "      <td>홍길동</td>\n",
       "    </tr>\n",
       "    <tr>\n",
       "      <th>1</th>\n",
       "      <td>장마철</td>\n",
       "    </tr>\n",
       "    <tr>\n",
       "      <th>2</th>\n",
       "      <td>소나기</td>\n",
       "    </tr>\n",
       "    <tr>\n",
       "      <th>3</th>\n",
       "      <td>더워요</td>\n",
       "    </tr>\n",
       "  </tbody>\n",
       "</table>\n",
       "</div>"
      ],
      "text/plain": [
       "    이름\n",
       "0  홍길동\n",
       "1  장마철\n",
       "2  소나기\n",
       "3  더워요"
      ]
     },
     "metadata": {},
     "output_type": "display_data"
    },
    {
     "name": "stdout",
     "output_type": "stream",
     "text": [
      "<class 'pandas.core.frame.DataFrame'>\n",
      "(4, 1)\n",
      "2\n"
     ]
    }
   ],
   "source": [
    "display(df['이름'])     #열이 없는 벡터\n",
    "print(type(df['이름']))\n",
    "print(df['이름'].shape)\n",
    "print(df['이름'].ndim)\n",
    "print()\n",
    "display(df[['이름']])    #열이 생김- 2차원데이터\n",
    "print(type(df[['이름']]))\n",
    "print(df[['이름']].shape)\n",
    "print(df[['이름']].ndim)"
   ]
  },
  {
   "cell_type": "code",
   "execution_count": null,
   "id": "3338fc32",
   "metadata": {},
   "outputs": [],
   "source": [
    "#한줄짜리라도 시리즈로 출력하느냐, 데이터프레임으로 출력하느냐에따라 다르다\n",
    "#헷갈리면 shape, ndim찍어보면서 차원이랑 확인해봐라"
   ]
  },
  {
   "cell_type": "code",
   "execution_count": null,
   "id": "73ba4da2",
   "metadata": {},
   "outputs": [],
   "source": []
  },
  {
   "cell_type": "code",
   "execution_count": null,
   "id": "96244660",
   "metadata": {},
   "outputs": [],
   "source": [
    "#시리즈 만드는 법부터 하나씩 확인해보자\n",
    "#타이타닉데이터로 확인해보는 작업"
   ]
  },
  {
   "cell_type": "code",
   "execution_count": null,
   "id": "f0182764",
   "metadata": {},
   "outputs": [],
   "source": []
  },
  {
   "cell_type": "code",
   "execution_count": null,
   "id": "9cd7a30c",
   "metadata": {},
   "outputs": [],
   "source": []
  },
  {
   "cell_type": "code",
   "execution_count": null,
   "id": "3d5ca3eb",
   "metadata": {},
   "outputs": [],
   "source": []
  },
  {
   "cell_type": "code",
   "execution_count": null,
   "id": "03495ee2",
   "metadata": {},
   "outputs": [],
   "source": []
  },
  {
   "cell_type": "code",
   "execution_count": null,
   "id": "df1cd203",
   "metadata": {},
   "outputs": [],
   "source": []
  }
 ],
 "metadata": {
  "kernelspec": {
   "display_name": "Python 3 (ipykernel)",
   "language": "python",
   "name": "python3"
  },
  "language_info": {
   "codemirror_mode": {
    "name": "ipython",
    "version": 3
   },
   "file_extension": ".py",
   "mimetype": "text/x-python",
   "name": "python",
   "nbconvert_exporter": "python",
   "pygments_lexer": "ipython3",
   "version": "3.10.14"
  }
 },
 "nbformat": 4,
 "nbformat_minor": 5
}
