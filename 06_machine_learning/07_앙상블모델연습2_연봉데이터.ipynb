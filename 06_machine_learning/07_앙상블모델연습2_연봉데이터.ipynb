{
 "cells": [
  {
   "cell_type": "code",
   "execution_count": 1,
   "id": "14fc1ef6",
   "metadata": {},
   "outputs": [],
   "source": [
    "import pandas as pd\n",
    "import numpy as np\n",
    "import matplotlib.pyplot as plt\n",
    "import seaborn as sns"
   ]
  },
  {
   "cell_type": "markdown",
   "id": "3bbb06ca",
   "metadata": {},
   "source": [
    "# 연봉데이터 로딩, 전처리, EDA, Feature Engineering\n",
    "# modeling, 성능 검증, 하이퍼파라미터 튜닝"
   ]
  },
  {
   "cell_type": "markdown",
   "id": "5ee6d342",
   "metadata": {},
   "source": [
    "# 기본모델: 의사결정나무(DecisionTree )- 성능 기준\n",
    "# 배깅, 부스팅, 랜덤배깅 모델 튜닝"
   ]
  },
  {
   "cell_type": "markdown",
   "id": "2b1f03dc",
   "metadata": {},
   "source": [
    "## 분석 목적: 학력, 교육, 연수, 혼인상태, 직업정보가 있는 연봉데이터셋을 이용해 연봉 예측하기\n",
    "## 연봉이 5만달러 이상인지 아닌지"
   ]
  },
  {
   "cell_type": "code",
   "execution_count": 2,
   "id": "a8f7c9f6",
   "metadata": {},
   "outputs": [
    {
     "data": {
      "text/html": [
       "<div>\n",
       "<style scoped>\n",
       "    .dataframe tbody tr th:only-of-type {\n",
       "        vertical-align: middle;\n",
       "    }\n",
       "\n",
       "    .dataframe tbody tr th {\n",
       "        vertical-align: top;\n",
       "    }\n",
       "\n",
       "    .dataframe thead th {\n",
       "        text-align: right;\n",
       "    }\n",
       "</style>\n",
       "<table border=\"1\" class=\"dataframe\">\n",
       "  <thead>\n",
       "    <tr style=\"text-align: right;\">\n",
       "      <th></th>\n",
       "      <th>age</th>\n",
       "      <th>workclass</th>\n",
       "      <th>education</th>\n",
       "      <th>education-num</th>\n",
       "      <th>marital-status</th>\n",
       "      <th>occupation</th>\n",
       "      <th>relationship</th>\n",
       "      <th>race</th>\n",
       "      <th>sex</th>\n",
       "      <th>capital-gain</th>\n",
       "      <th>capital-loss</th>\n",
       "      <th>hours-per-week</th>\n",
       "      <th>native-country</th>\n",
       "      <th>class</th>\n",
       "    </tr>\n",
       "  </thead>\n",
       "  <tbody>\n",
       "    <tr>\n",
       "      <th>0</th>\n",
       "      <td>25</td>\n",
       "      <td>Private</td>\n",
       "      <td>11th</td>\n",
       "      <td>7</td>\n",
       "      <td>Never-married</td>\n",
       "      <td>Machine-op-inspct</td>\n",
       "      <td>Own-child</td>\n",
       "      <td>Black</td>\n",
       "      <td>Male</td>\n",
       "      <td>0</td>\n",
       "      <td>0</td>\n",
       "      <td>40</td>\n",
       "      <td>United-States</td>\n",
       "      <td>&lt;=50K</td>\n",
       "    </tr>\n",
       "    <tr>\n",
       "      <th>1</th>\n",
       "      <td>38</td>\n",
       "      <td>Private</td>\n",
       "      <td>HS-grad</td>\n",
       "      <td>9</td>\n",
       "      <td>Married-civ-spouse</td>\n",
       "      <td>Farming-fishing</td>\n",
       "      <td>Husband</td>\n",
       "      <td>White</td>\n",
       "      <td>Male</td>\n",
       "      <td>0</td>\n",
       "      <td>0</td>\n",
       "      <td>50</td>\n",
       "      <td>United-States</td>\n",
       "      <td>&lt;=50K</td>\n",
       "    </tr>\n",
       "    <tr>\n",
       "      <th>2</th>\n",
       "      <td>28</td>\n",
       "      <td>Local-gov</td>\n",
       "      <td>Assoc-acdm</td>\n",
       "      <td>12</td>\n",
       "      <td>Married-civ-spouse</td>\n",
       "      <td>Protective-serv</td>\n",
       "      <td>Husband</td>\n",
       "      <td>White</td>\n",
       "      <td>Male</td>\n",
       "      <td>0</td>\n",
       "      <td>0</td>\n",
       "      <td>40</td>\n",
       "      <td>United-States</td>\n",
       "      <td>&gt;50K</td>\n",
       "    </tr>\n",
       "    <tr>\n",
       "      <th>3</th>\n",
       "      <td>44</td>\n",
       "      <td>Private</td>\n",
       "      <td>Some-college</td>\n",
       "      <td>10</td>\n",
       "      <td>Married-civ-spouse</td>\n",
       "      <td>Machine-op-inspct</td>\n",
       "      <td>Husband</td>\n",
       "      <td>Black</td>\n",
       "      <td>Male</td>\n",
       "      <td>7688</td>\n",
       "      <td>0</td>\n",
       "      <td>40</td>\n",
       "      <td>United-States</td>\n",
       "      <td>&gt;50K</td>\n",
       "    </tr>\n",
       "    <tr>\n",
       "      <th>4</th>\n",
       "      <td>18</td>\n",
       "      <td>NaN</td>\n",
       "      <td>Some-college</td>\n",
       "      <td>10</td>\n",
       "      <td>Never-married</td>\n",
       "      <td>NaN</td>\n",
       "      <td>Own-child</td>\n",
       "      <td>White</td>\n",
       "      <td>Female</td>\n",
       "      <td>0</td>\n",
       "      <td>0</td>\n",
       "      <td>30</td>\n",
       "      <td>United-States</td>\n",
       "      <td>&lt;=50K</td>\n",
       "    </tr>\n",
       "    <tr>\n",
       "      <th>...</th>\n",
       "      <td>...</td>\n",
       "      <td>...</td>\n",
       "      <td>...</td>\n",
       "      <td>...</td>\n",
       "      <td>...</td>\n",
       "      <td>...</td>\n",
       "      <td>...</td>\n",
       "      <td>...</td>\n",
       "      <td>...</td>\n",
       "      <td>...</td>\n",
       "      <td>...</td>\n",
       "      <td>...</td>\n",
       "      <td>...</td>\n",
       "      <td>...</td>\n",
       "    </tr>\n",
       "    <tr>\n",
       "      <th>48837</th>\n",
       "      <td>27</td>\n",
       "      <td>Private</td>\n",
       "      <td>Assoc-acdm</td>\n",
       "      <td>12</td>\n",
       "      <td>Married-civ-spouse</td>\n",
       "      <td>Tech-support</td>\n",
       "      <td>Wife</td>\n",
       "      <td>White</td>\n",
       "      <td>Female</td>\n",
       "      <td>0</td>\n",
       "      <td>0</td>\n",
       "      <td>38</td>\n",
       "      <td>United-States</td>\n",
       "      <td>&lt;=50K</td>\n",
       "    </tr>\n",
       "    <tr>\n",
       "      <th>48838</th>\n",
       "      <td>40</td>\n",
       "      <td>Private</td>\n",
       "      <td>HS-grad</td>\n",
       "      <td>9</td>\n",
       "      <td>Married-civ-spouse</td>\n",
       "      <td>Machine-op-inspct</td>\n",
       "      <td>Husband</td>\n",
       "      <td>White</td>\n",
       "      <td>Male</td>\n",
       "      <td>0</td>\n",
       "      <td>0</td>\n",
       "      <td>40</td>\n",
       "      <td>United-States</td>\n",
       "      <td>&gt;50K</td>\n",
       "    </tr>\n",
       "    <tr>\n",
       "      <th>48839</th>\n",
       "      <td>58</td>\n",
       "      <td>Private</td>\n",
       "      <td>HS-grad</td>\n",
       "      <td>9</td>\n",
       "      <td>Widowed</td>\n",
       "      <td>Adm-clerical</td>\n",
       "      <td>Unmarried</td>\n",
       "      <td>White</td>\n",
       "      <td>Female</td>\n",
       "      <td>0</td>\n",
       "      <td>0</td>\n",
       "      <td>40</td>\n",
       "      <td>United-States</td>\n",
       "      <td>&lt;=50K</td>\n",
       "    </tr>\n",
       "    <tr>\n",
       "      <th>48840</th>\n",
       "      <td>22</td>\n",
       "      <td>Private</td>\n",
       "      <td>HS-grad</td>\n",
       "      <td>9</td>\n",
       "      <td>Never-married</td>\n",
       "      <td>Adm-clerical</td>\n",
       "      <td>Own-child</td>\n",
       "      <td>White</td>\n",
       "      <td>Male</td>\n",
       "      <td>0</td>\n",
       "      <td>0</td>\n",
       "      <td>20</td>\n",
       "      <td>United-States</td>\n",
       "      <td>&lt;=50K</td>\n",
       "    </tr>\n",
       "    <tr>\n",
       "      <th>48841</th>\n",
       "      <td>52</td>\n",
       "      <td>Self-emp-inc</td>\n",
       "      <td>HS-grad</td>\n",
       "      <td>9</td>\n",
       "      <td>Married-civ-spouse</td>\n",
       "      <td>Exec-managerial</td>\n",
       "      <td>Wife</td>\n",
       "      <td>White</td>\n",
       "      <td>Female</td>\n",
       "      <td>15024</td>\n",
       "      <td>0</td>\n",
       "      <td>40</td>\n",
       "      <td>United-States</td>\n",
       "      <td>&gt;50K</td>\n",
       "    </tr>\n",
       "  </tbody>\n",
       "</table>\n",
       "<p>48842 rows × 14 columns</p>\n",
       "</div>"
      ],
      "text/plain": [
       "       age      workclass      education  education-num       marital-status  \\\n",
       "0       25        Private           11th              7        Never-married   \n",
       "1       38        Private        HS-grad              9   Married-civ-spouse   \n",
       "2       28      Local-gov     Assoc-acdm             12   Married-civ-spouse   \n",
       "3       44        Private   Some-college             10   Married-civ-spouse   \n",
       "4       18            NaN   Some-college             10        Never-married   \n",
       "...    ...            ...            ...            ...                  ...   \n",
       "48837   27        Private     Assoc-acdm             12   Married-civ-spouse   \n",
       "48838   40        Private        HS-grad              9   Married-civ-spouse   \n",
       "48839   58        Private        HS-grad              9              Widowed   \n",
       "48840   22        Private        HS-grad              9        Never-married   \n",
       "48841   52   Self-emp-inc        HS-grad              9   Married-civ-spouse   \n",
       "\n",
       "               occupation relationship    race      sex  capital-gain  \\\n",
       "0       Machine-op-inspct    Own-child   Black     Male             0   \n",
       "1         Farming-fishing      Husband   White     Male             0   \n",
       "2         Protective-serv      Husband   White     Male             0   \n",
       "3       Machine-op-inspct      Husband   Black     Male          7688   \n",
       "4                     NaN    Own-child   White   Female             0   \n",
       "...                   ...          ...     ...      ...           ...   \n",
       "48837        Tech-support         Wife   White   Female             0   \n",
       "48838   Machine-op-inspct      Husband   White     Male             0   \n",
       "48839        Adm-clerical    Unmarried   White   Female             0   \n",
       "48840        Adm-clerical    Own-child   White     Male             0   \n",
       "48841     Exec-managerial         Wife   White   Female         15024   \n",
       "\n",
       "       capital-loss  hours-per-week  native-country   class  \n",
       "0                 0              40   United-States   <=50K  \n",
       "1                 0              50   United-States   <=50K  \n",
       "2                 0              40   United-States    >50K  \n",
       "3                 0              40   United-States    >50K  \n",
       "4                 0              30   United-States   <=50K  \n",
       "...             ...             ...             ...     ...  \n",
       "48837             0              38   United-States   <=50K  \n",
       "48838             0              40   United-States    >50K  \n",
       "48839             0              40   United-States   <=50K  \n",
       "48840             0              20   United-States   <=50K  \n",
       "48841             0              40   United-States    >50K  \n",
       "\n",
       "[48842 rows x 14 columns]"
      ]
     },
     "execution_count": 2,
     "metadata": {},
     "output_type": "execute_result"
    }
   ],
   "source": [
    "data = pd.read_csv(\"https://raw.githubusercontent.com/haram4th/ADsP/main/salary2.csv\")\n",
    "data"
   ]
  },
  {
   "cell_type": "markdown",
   "id": "757276e2",
   "metadata": {},
   "source": [
    "age: 나이<br>\n",
    "workclass: 직업군<br>\n",
    "education: 교육 수준<br>\n",
    "education-num: 교육 연수<br>\n",
    "marital-status: 결혼 상태<br>\n",
    "occupation: 직업<br>\n",
    "relationship: 가족 관계<br>\n",
    "race: 인종<br>\n",
    "sex: 성별<br>\n",
    "capital-gain: 자본 소득<br>\n",
    "capital-loss: 자본 손실<br>\n",
    "hours-per-week: 주당 근로 시간<br>\n",
    "native-country: 출신 국가<br>\n",
    "class: 소득 등급<br>"
   ]
  },
  {
   "cell_type": "code",
   "execution_count": 3,
   "id": "3443c1da",
   "metadata": {},
   "outputs": [
    {
     "name": "stdout",
     "output_type": "stream",
     "text": [
      "<class 'pandas.core.frame.DataFrame'>\n",
      "RangeIndex: 48842 entries, 0 to 48841\n",
      "Data columns (total 14 columns):\n",
      " #   Column          Non-Null Count  Dtype \n",
      "---  ------          --------------  ----- \n",
      " 0   age             48842 non-null  int64 \n",
      " 1   workclass       46043 non-null  object\n",
      " 2   education       48842 non-null  object\n",
      " 3   education-num   48842 non-null  int64 \n",
      " 4   marital-status  48842 non-null  object\n",
      " 5   occupation      46033 non-null  object\n",
      " 6   relationship    48842 non-null  object\n",
      " 7   race            48842 non-null  object\n",
      " 8   sex             48842 non-null  object\n",
      " 9   capital-gain    48842 non-null  int64 \n",
      " 10  capital-loss    48842 non-null  int64 \n",
      " 11  hours-per-week  48842 non-null  int64 \n",
      " 12  native-country  47985 non-null  object\n",
      " 13  class           48842 non-null  object\n",
      "dtypes: int64(5), object(9)\n",
      "memory usage: 5.2+ MB\n"
     ]
    }
   ],
   "source": [
    "data.info()"
   ]
  },
  {
   "cell_type": "code",
   "execution_count": 4,
   "id": "9430e6f6",
   "metadata": {},
   "outputs": [
    {
     "data": {
      "text/html": [
       "<div>\n",
       "<style scoped>\n",
       "    .dataframe tbody tr th:only-of-type {\n",
       "        vertical-align: middle;\n",
       "    }\n",
       "\n",
       "    .dataframe tbody tr th {\n",
       "        vertical-align: top;\n",
       "    }\n",
       "\n",
       "    .dataframe thead th {\n",
       "        text-align: right;\n",
       "    }\n",
       "</style>\n",
       "<table border=\"1\" class=\"dataframe\">\n",
       "  <thead>\n",
       "    <tr style=\"text-align: right;\">\n",
       "      <th></th>\n",
       "      <th>age</th>\n",
       "      <th>education-num</th>\n",
       "      <th>capital-gain</th>\n",
       "      <th>capital-loss</th>\n",
       "      <th>hours-per-week</th>\n",
       "    </tr>\n",
       "  </thead>\n",
       "  <tbody>\n",
       "    <tr>\n",
       "      <th>count</th>\n",
       "      <td>48842.000000</td>\n",
       "      <td>48842.000000</td>\n",
       "      <td>48842.000000</td>\n",
       "      <td>48842.000000</td>\n",
       "      <td>48842.000000</td>\n",
       "    </tr>\n",
       "    <tr>\n",
       "      <th>mean</th>\n",
       "      <td>38.643585</td>\n",
       "      <td>10.078089</td>\n",
       "      <td>1079.067626</td>\n",
       "      <td>87.502314</td>\n",
       "      <td>40.422382</td>\n",
       "    </tr>\n",
       "    <tr>\n",
       "      <th>std</th>\n",
       "      <td>13.710510</td>\n",
       "      <td>2.570973</td>\n",
       "      <td>7452.019058</td>\n",
       "      <td>403.004552</td>\n",
       "      <td>12.391444</td>\n",
       "    </tr>\n",
       "    <tr>\n",
       "      <th>min</th>\n",
       "      <td>17.000000</td>\n",
       "      <td>1.000000</td>\n",
       "      <td>0.000000</td>\n",
       "      <td>0.000000</td>\n",
       "      <td>1.000000</td>\n",
       "    </tr>\n",
       "    <tr>\n",
       "      <th>25%</th>\n",
       "      <td>28.000000</td>\n",
       "      <td>9.000000</td>\n",
       "      <td>0.000000</td>\n",
       "      <td>0.000000</td>\n",
       "      <td>40.000000</td>\n",
       "    </tr>\n",
       "    <tr>\n",
       "      <th>50%</th>\n",
       "      <td>37.000000</td>\n",
       "      <td>10.000000</td>\n",
       "      <td>0.000000</td>\n",
       "      <td>0.000000</td>\n",
       "      <td>40.000000</td>\n",
       "    </tr>\n",
       "    <tr>\n",
       "      <th>75%</th>\n",
       "      <td>48.000000</td>\n",
       "      <td>12.000000</td>\n",
       "      <td>0.000000</td>\n",
       "      <td>0.000000</td>\n",
       "      <td>45.000000</td>\n",
       "    </tr>\n",
       "    <tr>\n",
       "      <th>max</th>\n",
       "      <td>90.000000</td>\n",
       "      <td>16.000000</td>\n",
       "      <td>99999.000000</td>\n",
       "      <td>4356.000000</td>\n",
       "      <td>99.000000</td>\n",
       "    </tr>\n",
       "  </tbody>\n",
       "</table>\n",
       "</div>"
      ],
      "text/plain": [
       "                age  education-num  capital-gain  capital-loss  hours-per-week\n",
       "count  48842.000000   48842.000000  48842.000000  48842.000000    48842.000000\n",
       "mean      38.643585      10.078089   1079.067626     87.502314       40.422382\n",
       "std       13.710510       2.570973   7452.019058    403.004552       12.391444\n",
       "min       17.000000       1.000000      0.000000      0.000000        1.000000\n",
       "25%       28.000000       9.000000      0.000000      0.000000       40.000000\n",
       "50%       37.000000      10.000000      0.000000      0.000000       40.000000\n",
       "75%       48.000000      12.000000      0.000000      0.000000       45.000000\n",
       "max       90.000000      16.000000  99999.000000   4356.000000       99.000000"
      ]
     },
     "execution_count": 4,
     "metadata": {},
     "output_type": "execute_result"
    }
   ],
   "source": [
    "data.describe()"
   ]
  },
  {
   "cell_type": "code",
   "execution_count": 14,
   "id": "a965afb4",
   "metadata": {},
   "outputs": [
    {
     "data": {
      "text/plain": [
       "age                  0\n",
       "workclass         2799\n",
       "education            0\n",
       "education-num        0\n",
       "marital-status       0\n",
       "occupation        2809\n",
       "relationship         0\n",
       "race                 0\n",
       "sex                  0\n",
       "capital-gain         0\n",
       "capital-loss         0\n",
       "hours-per-week       0\n",
       "native-country     857\n",
       "class                0\n",
       "dtype: int64"
      ]
     },
     "execution_count": 14,
     "metadata": {},
     "output_type": "execute_result"
    }
   ],
   "source": [
    "data.isna().sum()"
   ]
  },
  {
   "cell_type": "code",
   "execution_count": 15,
   "id": "551017b2",
   "metadata": {},
   "outputs": [
    {
     "data": {
      "text/plain": [
       "age               0.000000\n",
       "workclass         5.730724\n",
       "education         0.000000\n",
       "education-num     0.000000\n",
       "marital-status    0.000000\n",
       "occupation        5.751198\n",
       "relationship      0.000000\n",
       "race              0.000000\n",
       "sex               0.000000\n",
       "capital-gain      0.000000\n",
       "capital-loss      0.000000\n",
       "hours-per-week    0.000000\n",
       "native-country    1.754637\n",
       "class             0.000000\n",
       "dtype: float64"
      ]
     },
     "execution_count": 15,
     "metadata": {},
     "output_type": "execute_result"
    }
   ],
   "source": [
    "data.isna().sum() / len(data) * 100"
   ]
  },
  {
   "cell_type": "code",
   "execution_count": 30,
   "id": "0d024a42",
   "metadata": {},
   "outputs": [
    {
     "data": {
      "text/plain": [
       "class  workclass    occupation       \n",
       "<=50K  Federal-gov  Adm-clerical         329\n",
       "                    Armed-Forces          10\n",
       "                    Craft-repair          59\n",
       "                    Exec-managerial      128\n",
       "                    Farming-fishing        7\n",
       "                                        ... \n",
       ">50K   State-gov    Sales                  4\n",
       "                    Tech-support          13\n",
       "                    Transport-moving       7\n",
       "       Without-pay  Handlers-cleaners      1\n",
       "                    Machine-op-inspct      1\n",
       "Name: count, Length: 159, dtype: int64"
      ]
     },
     "execution_count": 30,
     "metadata": {},
     "output_type": "execute_result"
    }
   ],
   "source": [
    "data[['workclass', 'occupation','class']].groupby('class').value_counts(sort=False)"
   ]
  },
  {
   "cell_type": "code",
   "execution_count": 35,
   "id": "37faf700",
   "metadata": {},
   "outputs": [
    {
     "data": {
      "text/plain": [
       "workclass\n",
       "Local-gov            927\n",
       "Private             7387\n",
       "Self-emp-not-inc    1077\n",
       "State-gov            530\n",
       "Self-emp-inc         938\n",
       "Federal-gov          561\n",
       "Without-pay            2\n",
       "Name: count, dtype: int64"
      ]
     },
     "execution_count": 35,
     "metadata": {},
     "output_type": "execute_result"
    }
   ],
   "source": [
    "data[data['class'] == ' >50K']['workclass'].value_counts(sort=False)"
   ]
  },
  {
   "cell_type": "code",
   "execution_count": 17,
   "id": "7773de5a",
   "metadata": {},
   "outputs": [
    {
     "data": {
      "text/plain": [
       "workclass\n",
       "Private             33906\n",
       "Local-gov            3136\n",
       "Self-emp-not-inc     3862\n",
       "Federal-gov          1432\n",
       "State-gov            1981\n",
       "Self-emp-inc         1695\n",
       "Without-pay            21\n",
       "Never-worked           10\n",
       "Name: count, dtype: int64"
      ]
     },
     "execution_count": 17,
     "metadata": {},
     "output_type": "execute_result"
    }
   ],
   "source": [
    "data['workclass'].value_counts(sort=False)"
   ]
  },
  {
   "cell_type": "code",
   "execution_count": 38,
   "id": "4406514f",
   "metadata": {},
   "outputs": [],
   "source": [
    "data['workclass'] = data['workclass'].fillna('Private')"
   ]
  },
  {
   "cell_type": "code",
   "execution_count": 39,
   "id": "9999ce34",
   "metadata": {},
   "outputs": [
    {
     "name": "stdout",
     "output_type": "stream",
     "text": [
      "<class 'pandas.core.frame.DataFrame'>\n",
      "RangeIndex: 48842 entries, 0 to 48841\n",
      "Data columns (total 14 columns):\n",
      " #   Column          Non-Null Count  Dtype \n",
      "---  ------          --------------  ----- \n",
      " 0   age             48842 non-null  int64 \n",
      " 1   workclass       48842 non-null  object\n",
      " 2   education       48842 non-null  object\n",
      " 3   education-num   48842 non-null  int64 \n",
      " 4   marital-status  48842 non-null  object\n",
      " 5   occupation      46033 non-null  object\n",
      " 6   relationship    48842 non-null  object\n",
      " 7   race            48842 non-null  object\n",
      " 8   sex             48842 non-null  object\n",
      " 9   capital-gain    48842 non-null  int64 \n",
      " 10  capital-loss    48842 non-null  int64 \n",
      " 11  hours-per-week  48842 non-null  int64 \n",
      " 12  native-country  47985 non-null  object\n",
      " 13  class           48842 non-null  object\n",
      "dtypes: int64(5), object(9)\n",
      "memory usage: 5.2+ MB\n"
     ]
    }
   ],
   "source": [
    "data.info()"
   ]
  },
  {
   "cell_type": "code",
   "execution_count": 24,
   "id": "6ec93626",
   "metadata": {},
   "outputs": [
    {
     "data": {
      "text/plain": [
       "<Axes: xlabel='workclass,class'>"
      ]
     },
     "execution_count": 24,
     "metadata": {},
     "output_type": "execute_result"
    },
    {
     "data": {
      "image/png": "[encoded data removed]",
      "text/plain": [
       "<Figure size 640x480 with 1 Axes>"
      ]
     },
     "metadata": {},
     "output_type": "display_data"
    }
   ],
   "source": [
    "data.groupby('workclass')['class'].value_counts(sort=False).plot(kind='bar')"
   ]
  },
  {
   "cell_type": "code",
   "execution_count": 21,
   "id": "3b0ff81b",
   "metadata": {},
   "outputs": [
    {
     "data": {
      "text/plain": [
       "<Axes: xlabel='workclass'>"
      ]
     },
     "execution_count": 21,
     "metadata": {},
     "output_type": "execute_result"
    },
    {
     "data": {
      "image/png": "[encoded data removed]",
      "text/plain": [
       "<Figure size 640x480 with 1 Axes>"
      ]
     },
     "metadata": {},
     "output_type": "display_data"
    }
   ],
   "source": [
    "data['workclass'].value_counts(sort=False).plot(kind='bar')"
   ]
  },
  {
   "cell_type": "code",
   "execution_count": 42,
   "id": "49405e12",
   "metadata": {},
   "outputs": [
    {
     "data": {
      "text/plain": [
       "occupation\n",
       "Machine-op-inspct    3022\n",
       "Farming-fishing      1490\n",
       "Protective-serv       983\n",
       "Other-service        4923\n",
       "Prof-specialty       6172\n",
       "Craft-repair         6112\n",
       "Adm-clerical         5611\n",
       "Exec-managerial      6086\n",
       "Tech-support         1446\n",
       "Sales                5504\n",
       "Priv-house-serv       242\n",
       "Transport-moving     2355\n",
       "Handlers-cleaners    2072\n",
       "Armed-Forces           15\n",
       "Name: count, dtype: int64"
      ]
     },
     "execution_count": 42,
     "metadata": {},
     "output_type": "execute_result"
    }
   ],
   "source": [
    "data['occupation'].value_counts(sort=False)"
   ]
  },
  {
   "cell_type": "code",
   "execution_count": 40,
   "id": "78d78eec",
   "metadata": {},
   "outputs": [
    {
     "data": {
      "text/plain": [
       "occupation\n",
       "Protective-serv       308\n",
       "Machine-op-inspct     372\n",
       "Prof-specialty       2784\n",
       "Exec-managerial      2908\n",
       "Tech-support          420\n",
       "Craft-repair         1383\n",
       "Sales                1475\n",
       "Other-service         204\n",
       "Transport-moving      481\n",
       "Adm-clerical          768\n",
       "Handlers-cleaners     138\n",
       "Farming-fishing       173\n",
       "Priv-house-serv         3\n",
       "Armed-Forces            5\n",
       "Name: count, dtype: int64"
      ]
     },
     "execution_count": 40,
     "metadata": {},
     "output_type": "execute_result"
    }
   ],
   "source": [
    "data[data['class'] == ' >50K']['occupation'].value_counts(sort=False)"
   ]
  },
  {
   "cell_type": "code",
   "execution_count": 43,
   "id": "bf58b506",
   "metadata": {},
   "outputs": [],
   "source": [
    "data['occupation'] = data['occupation'].fillna('unknown')"
   ]
  },
  {
   "cell_type": "code",
   "execution_count": 44,
   "id": "2e5fb61b",
   "metadata": {},
   "outputs": [
    {
     "name": "stdout",
     "output_type": "stream",
     "text": [
      "<class 'pandas.core.frame.DataFrame'>\n",
      "RangeIndex: 48842 entries, 0 to 48841\n",
      "Data columns (total 14 columns):\n",
      " #   Column          Non-Null Count  Dtype \n",
      "---  ------          --------------  ----- \n",
      " 0   age             48842 non-null  int64 \n",
      " 1   workclass       48842 non-null  object\n",
      " 2   education       48842 non-null  object\n",
      " 3   education-num   48842 non-null  int64 \n",
      " 4   marital-status  48842 non-null  object\n",
      " 5   occupation      48842 non-null  object\n",
      " 6   relationship    48842 non-null  object\n",
      " 7   race            48842 non-null  object\n",
      " 8   sex             48842 non-null  object\n",
      " 9   capital-gain    48842 non-null  int64 \n",
      " 10  capital-loss    48842 non-null  int64 \n",
      " 11  hours-per-week  48842 non-null  int64 \n",
      " 12  native-country  47985 non-null  object\n",
      " 13  class           48842 non-null  object\n",
      "dtypes: int64(5), object(9)\n",
      "memory usage: 5.2+ MB\n"
     ]
    }
   ],
   "source": [
    "data.info()"
   ]
  },
  {
   "cell_type": "code",
   "execution_count": null,
   "id": "e5be783b",
   "metadata": {},
   "outputs": [],
   "source": []
  },
  {
   "cell_type": "code",
   "execution_count": 22,
   "id": "a1ba5f65",
   "metadata": {},
   "outputs": [
    {
     "data": {
      "text/plain": [
       "native-country\n",
       "United-States                 43832\n",
       "Peru                             46\n",
       "Guatemala                        88\n",
       "Mexico                          951\n",
       "Dominican-Republic              103\n",
       "Ireland                          37\n",
       "Germany                         206\n",
       "Philippines                     295\n",
       "Thailand                         30\n",
       "Haiti                            75\n",
       "El-Salvador                     155\n",
       "Puerto-Rico                     184\n",
       "Vietnam                          86\n",
       "South                           115\n",
       "Columbia                         85\n",
       "Japan                            92\n",
       "India                           151\n",
       "Cambodia                         28\n",
       "Poland                           87\n",
       "Laos                             23\n",
       "England                         127\n",
       "Cuba                            138\n",
       "Taiwan                           65\n",
       "Italy                           105\n",
       "Canada                          182\n",
       "Portugal                         67\n",
       "China                           122\n",
       "Nicaragua                        49\n",
       "Honduras                         20\n",
       "Iran                             59\n",
       "Scotland                         21\n",
       "Jamaica                         106\n",
       "Ecuador                          45\n",
       "Yugoslavia                       23\n",
       "Hungary                          19\n",
       "Hong                             30\n",
       "Greece                           49\n",
       "Trinadad&Tobago                  27\n",
       "Outlying-US(Guam-USVI-etc)       23\n",
       "France                           38\n",
       "Holand-Netherlands                1\n",
       "Name: count, dtype: int64"
      ]
     },
     "execution_count": 22,
     "metadata": {},
     "output_type": "execute_result"
    }
   ],
   "source": [
    "data['native-country'].value_counts(sort=False)"
   ]
  },
  {
   "cell_type": "code",
   "execution_count": 45,
   "id": "6e251583",
   "metadata": {},
   "outputs": [
    {
     "data": {
      "text/plain": [
       "native-country\n",
       "United-States                 10694\n",
       "Ireland                          11\n",
       "El-Salvador                      11\n",
       "Japan                            32\n",
       "Poland                           17\n",
       "England                          47\n",
       "Philippines                      85\n",
       "Germany                          58\n",
       "Thailand                          5\n",
       "Puerto-Rico                      20\n",
       "Portugal                         12\n",
       "China                            36\n",
       "Canada                           63\n",
       "India                            62\n",
       "Jamaica                          15\n",
       "Honduras                          2\n",
       "South                            20\n",
       "Ecuador                           6\n",
       "Hungary                           6\n",
       "Cuba                             34\n",
       "Mexico                           47\n",
       "Greece                           18\n",
       "Yugoslavia                        8\n",
       "Dominican-Republic                5\n",
       "Nicaragua                         3\n",
       "Haiti                             9\n",
       "Italy                            34\n",
       "Columbia                          4\n",
       "Taiwan                           26\n",
       "Peru                              4\n",
       "France                           16\n",
       "Cambodia                          9\n",
       "Outlying-US(Guam-USVI-etc)        1\n",
       "Hong                              8\n",
       "Iran                             22\n",
       "Vietnam                           7\n",
       "Guatemala                         3\n",
       "Trinadad&Tobago                   2\n",
       "Scotland                          3\n",
       "Laos                              2\n",
       "Name: count, dtype: int64"
      ]
     },
     "execution_count": 45,
     "metadata": {},
     "output_type": "execute_result"
    }
   ],
   "source": [
    "data[data['class'] == ' >50K']['native-country'].value_counts(sort=False)"
   ]
  },
  {
   "cell_type": "code",
   "execution_count": 46,
   "id": "955d1f6a",
   "metadata": {},
   "outputs": [],
   "source": [
    "data['native-country'] = data['native-country'].fillna('United-States')"
   ]
  },
  {
   "cell_type": "code",
   "execution_count": null,
   "id": "ae6de254",
   "metadata": {},
   "outputs": [],
   "source": []
  },
  {
   "cell_type": "code",
   "execution_count": null,
   "id": "93520d2a",
   "metadata": {},
   "outputs": [],
   "source": []
  },
  {
   "cell_type": "markdown",
   "id": "1aca845e",
   "metadata": {},
   "source": [
    "# 결측값 처리 결과"
   ]
  },
  {
   "cell_type": "code",
   "execution_count": 47,
   "id": "16f5be16",
   "metadata": {},
   "outputs": [
    {
     "name": "stdout",
     "output_type": "stream",
     "text": [
      "<class 'pandas.core.frame.DataFrame'>\n",
      "RangeIndex: 48842 entries, 0 to 48841\n",
      "Data columns (total 14 columns):\n",
      " #   Column          Non-Null Count  Dtype \n",
      "---  ------          --------------  ----- \n",
      " 0   age             48842 non-null  int64 \n",
      " 1   workclass       48842 non-null  object\n",
      " 2   education       48842 non-null  object\n",
      " 3   education-num   48842 non-null  int64 \n",
      " 4   marital-status  48842 non-null  object\n",
      " 5   occupation      48842 non-null  object\n",
      " 6   relationship    48842 non-null  object\n",
      " 7   race            48842 non-null  object\n",
      " 8   sex             48842 non-null  object\n",
      " 9   capital-gain    48842 non-null  int64 \n",
      " 10  capital-loss    48842 non-null  int64 \n",
      " 11  hours-per-week  48842 non-null  int64 \n",
      " 12  native-country  48842 non-null  object\n",
      " 13  class           48842 non-null  object\n",
      "dtypes: int64(5), object(9)\n",
      "memory usage: 5.2+ MB\n"
     ]
    }
   ],
   "source": [
    "data.info()"
   ]
  },
  {
   "cell_type": "markdown",
   "id": "e5015f99",
   "metadata": {},
   "source": [
    "# EDA"
   ]
  },
  {
   "cell_type": "code",
   "execution_count": 50,
   "id": "9a7709b0",
   "metadata": {
    "scrolled": true
   },
   "outputs": [
    {
     "data": {
      "text/html": [
       "<div>\n",
       "<style scoped>\n",
       "    .dataframe tbody tr th:only-of-type {\n",
       "        vertical-align: middle;\n",
       "    }\n",
       "\n",
       "    .dataframe tbody tr th {\n",
       "        vertical-align: top;\n",
       "    }\n",
       "\n",
       "    .dataframe thead th {\n",
       "        text-align: right;\n",
       "    }\n",
       "</style>\n",
       "<table border=\"1\" class=\"dataframe\">\n",
       "  <thead>\n",
       "    <tr style=\"text-align: right;\">\n",
       "      <th></th>\n",
       "      <th>age</th>\n",
       "    </tr>\n",
       "  </thead>\n",
       "  <tbody>\n",
       "    <tr>\n",
       "      <th>count</th>\n",
       "      <td>48842.000000</td>\n",
       "    </tr>\n",
       "    <tr>\n",
       "      <th>mean</th>\n",
       "      <td>38.643585</td>\n",
       "    </tr>\n",
       "    <tr>\n",
       "      <th>std</th>\n",
       "      <td>13.710510</td>\n",
       "    </tr>\n",
       "    <tr>\n",
       "      <th>min</th>\n",
       "      <td>17.000000</td>\n",
       "    </tr>\n",
       "    <tr>\n",
       "      <th>25%</th>\n",
       "      <td>28.000000</td>\n",
       "    </tr>\n",
       "    <tr>\n",
       "      <th>50%</th>\n",
       "      <td>37.000000</td>\n",
       "    </tr>\n",
       "    <tr>\n",
       "      <th>75%</th>\n",
       "      <td>48.000000</td>\n",
       "    </tr>\n",
       "    <tr>\n",
       "      <th>max</th>\n",
       "      <td>90.000000</td>\n",
       "    </tr>\n",
       "  </tbody>\n",
       "</table>\n",
       "</div>"
      ],
      "text/plain": [
       "                age\n",
       "count  48842.000000\n",
       "mean      38.643585\n",
       "std       13.710510\n",
       "min       17.000000\n",
       "25%       28.000000\n",
       "50%       37.000000\n",
       "75%       48.000000\n",
       "max       90.000000"
      ]
     },
     "execution_count": 50,
     "metadata": {},
     "output_type": "execute_result"
    }
   ],
   "source": [
    "data[['age']].describe() "
   ]
  },
  {
   "cell_type": "code",
   "execution_count": 54,
   "id": "467b20c7",
   "metadata": {},
   "outputs": [
    {
     "data": {
      "text/plain": [
       "23.928176569346054"
      ]
     },
     "execution_count": 54,
     "metadata": {},
     "output_type": "execute_result"
    }
   ],
   "source": [
    "11687/48842*100"
   ]
  },
  {
   "cell_type": "code",
   "execution_count": 56,
   "id": "97aa0502",
   "metadata": {},
   "outputs": [],
   "source": [
    "\n",
    "def ages(x):\n",
    "    if 10 <= x < 20:\n",
    "        return \"10s\"\n",
    "    elif 20 <= x < 30:\n",
    "        return \"20s\"\n",
    "    elif 30 <= x < 40:\n",
    "        return \"30s\"\n",
    "    elif 40 <= x < 50:\n",
    "        return \"40s\"\n",
    "    elif 50 <= x < 60:\n",
    "        return \"50s\"\n",
    "    elif 60 <= x < 70:\n",
    "        return \"60s\"\n",
    "    elif 70 <= x < 80:\n",
    "        return \"70s\"\n",
    "    elif 80 <= x < 90:\n",
    "        return \"80s\"\n",
    "    elif 90 <= x < 100:\n",
    "        return \"90s\""
   ]
  },
  {
   "cell_type": "code",
   "execution_count": 57,
   "id": "2b40c380",
   "metadata": {},
   "outputs": [],
   "source": [
    "data['age'] = data['age'].apply(ages)"
   ]
  },
  {
   "cell_type": "code",
   "execution_count": 58,
   "id": "bf62a722",
   "metadata": {},
   "outputs": [
    {
     "data": {
      "text/html": [
       "<div>\n",
       "<style scoped>\n",
       "    .dataframe tbody tr th:only-of-type {\n",
       "        vertical-align: middle;\n",
       "    }\n",
       "\n",
       "    .dataframe tbody tr th {\n",
       "        vertical-align: top;\n",
       "    }\n",
       "\n",
       "    .dataframe thead th {\n",
       "        text-align: right;\n",
       "    }\n",
       "</style>\n",
       "<table border=\"1\" class=\"dataframe\">\n",
       "  <thead>\n",
       "    <tr style=\"text-align: right;\">\n",
       "      <th></th>\n",
       "      <th>age</th>\n",
       "      <th>workclass</th>\n",
       "      <th>education</th>\n",
       "      <th>education-num</th>\n",
       "      <th>marital-status</th>\n",
       "      <th>occupation</th>\n",
       "      <th>relationship</th>\n",
       "      <th>race</th>\n",
       "      <th>sex</th>\n",
       "      <th>capital-gain</th>\n",
       "      <th>capital-loss</th>\n",
       "      <th>hours-per-week</th>\n",
       "      <th>native-country</th>\n",
       "      <th>class</th>\n",
       "    </tr>\n",
       "  </thead>\n",
       "  <tbody>\n",
       "    <tr>\n",
       "      <th>0</th>\n",
       "      <td>20s</td>\n",
       "      <td>Private</td>\n",
       "      <td>11th</td>\n",
       "      <td>7</td>\n",
       "      <td>Never-married</td>\n",
       "      <td>Machine-op-inspct</td>\n",
       "      <td>Own-child</td>\n",
       "      <td>Black</td>\n",
       "      <td>Male</td>\n",
       "      <td>0</td>\n",
       "      <td>0</td>\n",
       "      <td>40</td>\n",
       "      <td>United-States</td>\n",
       "      <td>&lt;=50K</td>\n",
       "    </tr>\n",
       "    <tr>\n",
       "      <th>1</th>\n",
       "      <td>30s</td>\n",
       "      <td>Private</td>\n",
       "      <td>HS-grad</td>\n",
       "      <td>9</td>\n",
       "      <td>Married-civ-spouse</td>\n",
       "      <td>Farming-fishing</td>\n",
       "      <td>Husband</td>\n",
       "      <td>White</td>\n",
       "      <td>Male</td>\n",
       "      <td>0</td>\n",
       "      <td>0</td>\n",
       "      <td>50</td>\n",
       "      <td>United-States</td>\n",
       "      <td>&lt;=50K</td>\n",
       "    </tr>\n",
       "    <tr>\n",
       "      <th>2</th>\n",
       "      <td>20s</td>\n",
       "      <td>Local-gov</td>\n",
       "      <td>Assoc-acdm</td>\n",
       "      <td>12</td>\n",
       "      <td>Married-civ-spouse</td>\n",
       "      <td>Protective-serv</td>\n",
       "      <td>Husband</td>\n",
       "      <td>White</td>\n",
       "      <td>Male</td>\n",
       "      <td>0</td>\n",
       "      <td>0</td>\n",
       "      <td>40</td>\n",
       "      <td>United-States</td>\n",
       "      <td>&gt;50K</td>\n",
       "    </tr>\n",
       "    <tr>\n",
       "      <th>3</th>\n",
       "      <td>40s</td>\n",
       "      <td>Private</td>\n",
       "      <td>Some-college</td>\n",
       "      <td>10</td>\n",
       "      <td>Married-civ-spouse</td>\n",
       "      <td>Machine-op-inspct</td>\n",
       "      <td>Husband</td>\n",
       "      <td>Black</td>\n",
       "      <td>Male</td>\n",
       "      <td>7688</td>\n",
       "      <td>0</td>\n",
       "      <td>40</td>\n",
       "      <td>United-States</td>\n",
       "      <td>&gt;50K</td>\n",
       "    </tr>\n",
       "    <tr>\n",
       "      <th>4</th>\n",
       "      <td>10s</td>\n",
       "      <td>Private</td>\n",
       "      <td>Some-college</td>\n",
       "      <td>10</td>\n",
       "      <td>Never-married</td>\n",
       "      <td>unknown</td>\n",
       "      <td>Own-child</td>\n",
       "      <td>White</td>\n",
       "      <td>Female</td>\n",
       "      <td>0</td>\n",
       "      <td>0</td>\n",
       "      <td>30</td>\n",
       "      <td>United-States</td>\n",
       "      <td>&lt;=50K</td>\n",
       "    </tr>\n",
       "  </tbody>\n",
       "</table>\n",
       "</div>"
      ],
      "text/plain": [
       "   age   workclass      education  education-num       marital-status  \\\n",
       "0  20s     Private           11th              7        Never-married   \n",
       "1  30s     Private        HS-grad              9   Married-civ-spouse   \n",
       "2  20s   Local-gov     Assoc-acdm             12   Married-civ-spouse   \n",
       "3  40s     Private   Some-college             10   Married-civ-spouse   \n",
       "4  10s     Private   Some-college             10        Never-married   \n",
       "\n",
       "           occupation relationship    race      sex  capital-gain  \\\n",
       "0   Machine-op-inspct    Own-child   Black     Male             0   \n",
       "1     Farming-fishing      Husband   White     Male             0   \n",
       "2     Protective-serv      Husband   White     Male             0   \n",
       "3   Machine-op-inspct      Husband   Black     Male          7688   \n",
       "4             unknown    Own-child   White   Female             0   \n",
       "\n",
       "   capital-loss  hours-per-week  native-country   class  \n",
       "0             0              40   United-States   <=50K  \n",
       "1             0              50   United-States   <=50K  \n",
       "2             0              40   United-States    >50K  \n",
       "3             0              40   United-States    >50K  \n",
       "4             0              30   United-States   <=50K  "
      ]
     },
     "execution_count": 58,
     "metadata": {},
     "output_type": "execute_result"
    }
   ],
   "source": [
    "data.head()"
   ]
  },
  {
   "cell_type": "code",
   "execution_count": 59,
   "id": "586c1287",
   "metadata": {},
   "outputs": [
    {
     "data": {
      "text/plain": [
       "age  class\n",
       "10s  <=50K     2507\n",
       "     >50K         3\n",
       "20s  <=50K    11262\n",
       "     >50K       743\n",
       "30s  <=50K     9468\n",
       "     >50K      3461\n",
       "40s  <=50K     6738\n",
       "     >50K      3986\n",
       "50s  <=50K     4110\n",
       "     >50K      2509\n",
       "60s  <=50K     2245\n",
       "     >50K       809\n",
       "70s  <=50K      668\n",
       "     >50K       147\n",
       "80s  <=50K      115\n",
       "     >50K        16\n",
       "90s  <=50K       42\n",
       "     >50K        13\n",
       "Name: count, dtype: int64"
      ]
     },
     "execution_count": 59,
     "metadata": {},
     "output_type": "execute_result"
    }
   ],
   "source": [
    "data.groupby('age')['class'].value_counts(sort=False)"
   ]
  },
  {
   "cell_type": "code",
   "execution_count": 62,
   "id": "ad5fe288",
   "metadata": {},
   "outputs": [
    {
     "data": {
      "text/plain": [
       "age\n",
       "40s    3986\n",
       "30s    3461\n",
       "50s    2509\n",
       "60s     809\n",
       "20s     743\n",
       "70s     147\n",
       "80s      16\n",
       "90s      13\n",
       "10s       3\n",
       "Name: count, dtype: int64"
      ]
     },
     "execution_count": 62,
     "metadata": {},
     "output_type": "execute_result"
    }
   ],
   "source": [
    "data.loc[data['class'] == ' >50K', 'age'].value_counts(sort=True)"
   ]
  },
  {
   "cell_type": "code",
   "execution_count": 67,
   "id": "e9adf2be",
   "metadata": {
    "scrolled": true
   },
   "outputs": [
    {
     "data": {
      "text/plain": [
       "class  education-num\n",
       "<=50K  1                   82\n",
       "       2                  239\n",
       "       3                  482\n",
       "       4                  893\n",
       "       5                  715\n",
       "       6                 1302\n",
       "       7                 1720\n",
       "       8                  609\n",
       "       9                13281\n",
       "       10                8815\n",
       "       11                1539\n",
       "       12                1188\n",
       "       13                4712\n",
       "       14                1198\n",
       "       15                 217\n",
       "       16                 163\n",
       ">50K   1                    1\n",
       "       2                    8\n",
       "       3                   27\n",
       "       4                   62\n",
       "       5                   41\n",
       "       6                   87\n",
       "       7                   92\n",
       "       8                   48\n",
       "       9                 2503\n",
       "       10                2063\n",
       "       11                 522\n",
       "       12                 413\n",
       "       13                3313\n",
       "       14                1459\n",
       "       15                 617\n",
       "       16                 431\n",
       "Name: count, dtype: int64"
      ]
     },
     "execution_count": 67,
     "metadata": {},
     "output_type": "execute_result"
    }
   ],
   "source": [
    "data[['education-num', 'class']].groupby('class').value_counts(sort=True)"
   ]
  },
  {
   "cell_type": "code",
   "execution_count": 68,
   "id": "9917f236",
   "metadata": {},
   "outputs": [
    {
     "name": "stdout",
     "output_type": "stream",
     "text": [
      "<class 'pandas.core.frame.DataFrame'>\n",
      "RangeIndex: 48842 entries, 0 to 48841\n",
      "Data columns (total 14 columns):\n",
      " #   Column          Non-Null Count  Dtype \n",
      "---  ------          --------------  ----- \n",
      " 0   age             48842 non-null  object\n",
      " 1   workclass       48842 non-null  object\n",
      " 2   education       48842 non-null  object\n",
      " 3   education-num   48842 non-null  int64 \n",
      " 4   marital-status  48842 non-null  object\n",
      " 5   occupation      48842 non-null  object\n",
      " 6   relationship    48842 non-null  object\n",
      " 7   race            48842 non-null  object\n",
      " 8   sex             48842 non-null  object\n",
      " 9   capital-gain    48842 non-null  int64 \n",
      " 10  capital-loss    48842 non-null  int64 \n",
      " 11  hours-per-week  48842 non-null  int64 \n",
      " 12  native-country  48842 non-null  object\n",
      " 13  class           48842 non-null  object\n",
      "dtypes: int64(4), object(10)\n",
      "memory usage: 5.2+ MB\n"
     ]
    }
   ],
   "source": [
    "data.info()"
   ]
  },
  {
   "cell_type": "code",
   "execution_count": 71,
   "id": "2194df09",
   "metadata": {},
   "outputs": [
    {
     "name": "stdout",
     "output_type": "stream",
     "text": [
      "<class 'pandas.core.frame.DataFrame'>\n",
      "RangeIndex: 48842 entries, 0 to 48841\n",
      "Data columns (total 14 columns):\n",
      " #   Column          Non-Null Count  Dtype \n",
      "---  ------          --------------  ----- \n",
      " 0   age             48842 non-null  object\n",
      " 1   workclass       48842 non-null  object\n",
      " 2   education       48842 non-null  object\n",
      " 3   education-num   48842 non-null  int64 \n",
      " 4   marital-status  48842 non-null  object\n",
      " 5   occupation      48842 non-null  object\n",
      " 6   relationship    48842 non-null  object\n",
      " 7   race            48842 non-null  object\n",
      " 8   sex             48842 non-null  object\n",
      " 9   capital-gain    48842 non-null  int64 \n",
      " 10  capital-loss    48842 non-null  int64 \n",
      " 11  hours-per-week  48842 non-null  int64 \n",
      " 12  native-country  48842 non-null  object\n",
      " 13  class           48842 non-null  int32 \n",
      "dtypes: int32(1), int64(4), object(9)\n",
      "memory usage: 5.0+ MB\n"
     ]
    }
   ],
   "source": [
    "data['class'] = data['class'].str.replace(\" >50K\", '1').str.replace(\" <=50K\", '0')\n",
    "\n",
    "data['class'] = data['class'].astype('int')\n",
    "data.info()"
   ]
  },
  {
   "cell_type": "markdown",
   "id": "3fb12c0b",
   "metadata": {},
   "source": [
    "#### class\n",
    "* \" >50K\", '1' & \" <=50K\", '0'"
   ]
  },
  {
   "cell_type": "code",
   "execution_count": 72,
   "id": "06eb424a",
   "metadata": {},
   "outputs": [
    {
     "data": {
      "text/html": [
       "<div>\n",
       "<style scoped>\n",
       "    .dataframe tbody tr th:only-of-type {\n",
       "        vertical-align: middle;\n",
       "    }\n",
       "\n",
       "    .dataframe tbody tr th {\n",
       "        vertical-align: top;\n",
       "    }\n",
       "\n",
       "    .dataframe thead th {\n",
       "        text-align: right;\n",
       "    }\n",
       "</style>\n",
       "<table border=\"1\" class=\"dataframe\">\n",
       "  <thead>\n",
       "    <tr style=\"text-align: right;\">\n",
       "      <th></th>\n",
       "      <th>education-num</th>\n",
       "      <th>capital-gain</th>\n",
       "      <th>capital-loss</th>\n",
       "      <th>hours-per-week</th>\n",
       "      <th>class</th>\n",
       "    </tr>\n",
       "  </thead>\n",
       "  <tbody>\n",
       "    <tr>\n",
       "      <th>education-num</th>\n",
       "      <td>1.000000</td>\n",
       "      <td>0.125146</td>\n",
       "      <td>0.080972</td>\n",
       "      <td>0.143689</td>\n",
       "      <td>0.332613</td>\n",
       "    </tr>\n",
       "    <tr>\n",
       "      <th>capital-gain</th>\n",
       "      <td>0.125146</td>\n",
       "      <td>1.000000</td>\n",
       "      <td>-0.031441</td>\n",
       "      <td>0.082157</td>\n",
       "      <td>0.223013</td>\n",
       "    </tr>\n",
       "    <tr>\n",
       "      <th>capital-loss</th>\n",
       "      <td>0.080972</td>\n",
       "      <td>-0.031441</td>\n",
       "      <td>1.000000</td>\n",
       "      <td>0.054467</td>\n",
       "      <td>0.147554</td>\n",
       "    </tr>\n",
       "    <tr>\n",
       "      <th>hours-per-week</th>\n",
       "      <td>0.143689</td>\n",
       "      <td>0.082157</td>\n",
       "      <td>0.054467</td>\n",
       "      <td>1.000000</td>\n",
       "      <td>0.227687</td>\n",
       "    </tr>\n",
       "    <tr>\n",
       "      <th>class</th>\n",
       "      <td>0.332613</td>\n",
       "      <td>0.223013</td>\n",
       "      <td>0.147554</td>\n",
       "      <td>0.227687</td>\n",
       "      <td>1.000000</td>\n",
       "    </tr>\n",
       "  </tbody>\n",
       "</table>\n",
       "</div>"
      ],
      "text/plain": [
       "                education-num  capital-gain  capital-loss  hours-per-week  \\\n",
       "education-num        1.000000      0.125146      0.080972        0.143689   \n",
       "capital-gain         0.125146      1.000000     -0.031441        0.082157   \n",
       "capital-loss         0.080972     -0.031441      1.000000        0.054467   \n",
       "hours-per-week       0.143689      0.082157      0.054467        1.000000   \n",
       "class                0.332613      0.223013      0.147554        0.227687   \n",
       "\n",
       "                   class  \n",
       "education-num   0.332613  \n",
       "capital-gain    0.223013  \n",
       "capital-loss    0.147554  \n",
       "hours-per-week  0.227687  \n",
       "class           1.000000  "
      ]
     },
     "execution_count": 72,
     "metadata": {},
     "output_type": "execute_result"
    }
   ],
   "source": [
    "data_corr = data[['education-num', 'capital-gain','capital-loss','hours-per-week', 'class' ]].corr()\n",
    "data_corr"
   ]
  },
  {
   "cell_type": "code",
   "execution_count": null,
   "id": "f63b95b1",
   "metadata": {},
   "outputs": [],
   "source": [
    "data.deopna"
   ]
  },
  {
   "cell_type": "code",
   "execution_count": null,
   "id": "1eaee1bd",
   "metadata": {},
   "outputs": [],
   "source": []
  },
  {
   "cell_type": "code",
   "execution_count": null,
   "id": "561c0adf",
   "metadata": {},
   "outputs": [],
   "source": []
  },
  {
   "cell_type": "markdown",
   "id": "f10af558",
   "metadata": {},
   "source": [
    "# 이상치 탐지"
   ]
  },
  {
   "cell_type": "code",
   "execution_count": 74,
   "id": "faa5158f",
   "metadata": {},
   "outputs": [],
   "source": [
    "search_outlier=data.describe()"
   ]
  },
  {
   "cell_type": "code",
   "execution_count": 75,
   "id": "6fe54aab",
   "metadata": {},
   "outputs": [
    {
     "data": {
      "text/plain": [
       "education-num     21.0\n",
       "capital-gain       0.0\n",
       "capital-loss       0.0\n",
       "hours-per-week    72.5\n",
       "class              0.0\n",
       "dtype: float64"
      ]
     },
     "execution_count": 75,
     "metadata": {},
     "output_type": "execute_result"
    }
   ],
   "source": [
    "search_outlier.loc['75%',:]+(1.5*search_outlier.loc['75%', :]- search_outlier.loc['25%', :])"
   ]
  },
  {
   "cell_type": "markdown",
   "id": "29f2c091",
   "metadata": {},
   "source": [
    "## capital-gain\tcapital-loss\t  히스토그램그리기\n",
    "### hours-per-week 이상값을 가진 데이터 찾아보기"
   ]
  },
  {
   "cell_type": "code",
   "execution_count": null,
   "id": "24e05a5d",
   "metadata": {},
   "outputs": [],
   "source": []
  }
 ],
 "metadata": {
  "kernelspec": {
   "display_name": "Python 3 (ipykernel)",
   "language": "python",
   "name": "python3"
  },
  "language_info": {
   "codemirror_mode": {
    "name": "ipython",
    "version": 3
   },
   "file_extension": ".py",
   "mimetype": "text/x-python",
   "name": "python",
   "nbconvert_exporter": "python",
   "pygments_lexer": "ipython3",
   "version": "3.10.14"
  }
 },
 "nbformat": 4,
 "nbformat_minor": 5
}
