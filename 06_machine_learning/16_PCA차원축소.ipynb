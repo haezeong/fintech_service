{
 "cells": [
  {
   "cell_type": "code",
   "execution_count": 1,
   "id": "c11d38b8",
   "metadata": {},
   "outputs": [],
   "source": [
    "import pandas as pd\n",
    "import numpy as np\n",
    "import matplotlib.pyplot as plt\n",
    "import seaborn as sns"
   ]
  },
  {
   "cell_type": "code",
   "execution_count": null,
   "id": "6f30db7a",
   "metadata": {},
   "outputs": [],
   "source": []
  },
  {
   "cell_type": "code",
   "execution_count": 2,
   "id": "5a6411f4",
   "metadata": {},
   "outputs": [],
   "source": [
    "data = pd.read_csv('https://raw.githubusercontent.com/snkn1959/data_source/main/customer_pca.csv')"
   ]
  },
  {
   "cell_type": "code",
   "execution_count": 3,
   "id": "206c2739",
   "metadata": {
    "scrolled": true
   },
   "outputs": [
    {
     "data": {
      "text/html": [
       "<div>\n",
       "<style scoped>\n",
       "    .dataframe tbody tr th:only-of-type {\n",
       "        vertical-align: middle;\n",
       "    }\n",
       "\n",
       "    .dataframe tbody tr th {\n",
       "        vertical-align: top;\n",
       "    }\n",
       "\n",
       "    .dataframe thead th {\n",
       "        text-align: right;\n",
       "    }\n",
       "</style>\n",
       "<table border=\"1\" class=\"dataframe\">\n",
       "  <thead>\n",
       "    <tr style=\"text-align: right;\">\n",
       "      <th></th>\n",
       "      <th>amt</th>\n",
       "      <th>category_entertainment</th>\n",
       "      <th>category_food_dining</th>\n",
       "      <th>category_gas_transport</th>\n",
       "      <th>category_grocery</th>\n",
       "      <th>category_health_fitness</th>\n",
       "      <th>category_home</th>\n",
       "      <th>category_kids_pets</th>\n",
       "      <th>category_misc</th>\n",
       "      <th>category_personal_care</th>\n",
       "      <th>category_shopping</th>\n",
       "      <th>category_travel</th>\n",
       "      <th>label</th>\n",
       "    </tr>\n",
       "  </thead>\n",
       "  <tbody>\n",
       "    <tr>\n",
       "      <th>0</th>\n",
       "      <td>-1.402327</td>\n",
       "      <td>-1.135617</td>\n",
       "      <td>-0.971069</td>\n",
       "      <td>-1.000180</td>\n",
       "      <td>-1.118217</td>\n",
       "      <td>-1.561756</td>\n",
       "      <td>-1.145051</td>\n",
       "      <td>-1.276913</td>\n",
       "      <td>-1.124693</td>\n",
       "      <td>-1.070260</td>\n",
       "      <td>-1.141424</td>\n",
       "      <td>-0.619930</td>\n",
       "      <td>0</td>\n",
       "    </tr>\n",
       "    <tr>\n",
       "      <th>1</th>\n",
       "      <td>1.079407</td>\n",
       "      <td>0.414075</td>\n",
       "      <td>0.168880</td>\n",
       "      <td>2.090013</td>\n",
       "      <td>0.767268</td>\n",
       "      <td>1.040236</td>\n",
       "      <td>0.844969</td>\n",
       "      <td>1.127922</td>\n",
       "      <td>1.210503</td>\n",
       "      <td>1.807350</td>\n",
       "      <td>0.659967</td>\n",
       "      <td>-0.222587</td>\n",
       "      <td>3</td>\n",
       "    </tr>\n",
       "    <tr>\n",
       "      <th>2</th>\n",
       "      <td>1.200151</td>\n",
       "      <td>0.747127</td>\n",
       "      <td>1.622968</td>\n",
       "      <td>-0.606627</td>\n",
       "      <td>0.439476</td>\n",
       "      <td>1.376630</td>\n",
       "      <td>2.126364</td>\n",
       "      <td>0.378610</td>\n",
       "      <td>-0.196523</td>\n",
       "      <td>0.127825</td>\n",
       "      <td>1.299938</td>\n",
       "      <td>2.766891</td>\n",
       "      <td>1</td>\n",
       "    </tr>\n",
       "    <tr>\n",
       "      <th>3</th>\n",
       "      <td>-1.474915</td>\n",
       "      <td>-1.129427</td>\n",
       "      <td>-1.539741</td>\n",
       "      <td>-0.930355</td>\n",
       "      <td>-1.079803</td>\n",
       "      <td>-1.222903</td>\n",
       "      <td>-1.572733</td>\n",
       "      <td>-1.516610</td>\n",
       "      <td>-1.274986</td>\n",
       "      <td>-1.185705</td>\n",
       "      <td>-1.166127</td>\n",
       "      <td>-0.601675</td>\n",
       "      <td>0</td>\n",
       "    </tr>\n",
       "    <tr>\n",
       "      <th>4</th>\n",
       "      <td>0.901491</td>\n",
       "      <td>0.257905</td>\n",
       "      <td>-0.320220</td>\n",
       "      <td>2.083588</td>\n",
       "      <td>0.540547</td>\n",
       "      <td>0.705908</td>\n",
       "      <td>1.097814</td>\n",
       "      <td>0.955178</td>\n",
       "      <td>1.198524</td>\n",
       "      <td>1.640103</td>\n",
       "      <td>0.578781</td>\n",
       "      <td>-0.484796</td>\n",
       "      <td>3</td>\n",
       "    </tr>\n",
       "    <tr>\n",
       "      <th>...</th>\n",
       "      <td>...</td>\n",
       "      <td>...</td>\n",
       "      <td>...</td>\n",
       "      <td>...</td>\n",
       "      <td>...</td>\n",
       "      <td>...</td>\n",
       "      <td>...</td>\n",
       "      <td>...</td>\n",
       "      <td>...</td>\n",
       "      <td>...</td>\n",
       "      <td>...</td>\n",
       "      <td>...</td>\n",
       "      <td>...</td>\n",
       "    </tr>\n",
       "    <tr>\n",
       "      <th>95</th>\n",
       "      <td>0.965514</td>\n",
       "      <td>0.426639</td>\n",
       "      <td>0.196184</td>\n",
       "      <td>2.086544</td>\n",
       "      <td>0.727562</td>\n",
       "      <td>0.725503</td>\n",
       "      <td>0.940589</td>\n",
       "      <td>1.923480</td>\n",
       "      <td>1.086851</td>\n",
       "      <td>1.810368</td>\n",
       "      <td>0.252344</td>\n",
       "      <td>-0.401038</td>\n",
       "      <td>3</td>\n",
       "    </tr>\n",
       "    <tr>\n",
       "      <th>96</th>\n",
       "      <td>-0.839991</td>\n",
       "      <td>-0.715988</td>\n",
       "      <td>0.394918</td>\n",
       "      <td>-0.398366</td>\n",
       "      <td>-0.721701</td>\n",
       "      <td>-1.263462</td>\n",
       "      <td>-0.576780</td>\n",
       "      <td>-0.190013</td>\n",
       "      <td>-0.818620</td>\n",
       "      <td>-0.286312</td>\n",
       "      <td>-0.940283</td>\n",
       "      <td>-0.504166</td>\n",
       "      <td>0</td>\n",
       "    </tr>\n",
       "    <tr>\n",
       "      <th>97</th>\n",
       "      <td>-1.107688</td>\n",
       "      <td>-0.926597</td>\n",
       "      <td>-1.190202</td>\n",
       "      <td>-1.342390</td>\n",
       "      <td>-0.850378</td>\n",
       "      <td>-1.073294</td>\n",
       "      <td>-1.011957</td>\n",
       "      <td>-1.616986</td>\n",
       "      <td>-1.182972</td>\n",
       "      <td>-0.974736</td>\n",
       "      <td>-0.664583</td>\n",
       "      <td>0.193335</td>\n",
       "      <td>0</td>\n",
       "    </tr>\n",
       "    <tr>\n",
       "      <th>98</th>\n",
       "      <td>-0.940815</td>\n",
       "      <td>-0.807895</td>\n",
       "      <td>-1.093267</td>\n",
       "      <td>-1.342878</td>\n",
       "      <td>-0.676572</td>\n",
       "      <td>-1.287731</td>\n",
       "      <td>-1.305887</td>\n",
       "      <td>-1.463747</td>\n",
       "      <td>-1.050452</td>\n",
       "      <td>-0.895722</td>\n",
       "      <td>-0.708094</td>\n",
       "      <td>0.954537</td>\n",
       "      <td>0</td>\n",
       "    </tr>\n",
       "    <tr>\n",
       "      <th>99</th>\n",
       "      <td>0.599983</td>\n",
       "      <td>0.976691</td>\n",
       "      <td>0.611158</td>\n",
       "      <td>1.174361</td>\n",
       "      <td>-0.015887</td>\n",
       "      <td>1.530824</td>\n",
       "      <td>1.103355</td>\n",
       "      <td>0.929397</td>\n",
       "      <td>1.172695</td>\n",
       "      <td>-0.398034</td>\n",
       "      <td>-0.020631</td>\n",
       "      <td>-0.086794</td>\n",
       "      <td>3</td>\n",
       "    </tr>\n",
       "  </tbody>\n",
       "</table>\n",
       "<p>100 rows × 13 columns</p>\n",
       "</div>"
      ],
      "text/plain": [
       "         amt  category_entertainment  category_food_dining  \\\n",
       "0  -1.402327               -1.135617             -0.971069   \n",
       "1   1.079407                0.414075              0.168880   \n",
       "2   1.200151                0.747127              1.622968   \n",
       "3  -1.474915               -1.129427             -1.539741   \n",
       "4   0.901491                0.257905             -0.320220   \n",
       "..       ...                     ...                   ...   \n",
       "95  0.965514                0.426639              0.196184   \n",
       "96 -0.839991               -0.715988              0.394918   \n",
       "97 -1.107688               -0.926597             -1.190202   \n",
       "98 -0.940815               -0.807895             -1.093267   \n",
       "99  0.599983                0.976691              0.611158   \n",
       "\n",
       "    category_gas_transport  category_grocery  category_health_fitness  \\\n",
       "0                -1.000180         -1.118217                -1.561756   \n",
       "1                 2.090013          0.767268                 1.040236   \n",
       "2                -0.606627          0.439476                 1.376630   \n",
       "3                -0.930355         -1.079803                -1.222903   \n",
       "4                 2.083588          0.540547                 0.705908   \n",
       "..                     ...               ...                      ...   \n",
       "95                2.086544          0.727562                 0.725503   \n",
       "96               -0.398366         -0.721701                -1.263462   \n",
       "97               -1.342390         -0.850378                -1.073294   \n",
       "98               -1.342878         -0.676572                -1.287731   \n",
       "99                1.174361         -0.015887                 1.530824   \n",
       "\n",
       "    category_home  category_kids_pets  category_misc  category_personal_care  \\\n",
       "0       -1.145051           -1.276913      -1.124693               -1.070260   \n",
       "1        0.844969            1.127922       1.210503                1.807350   \n",
       "2        2.126364            0.378610      -0.196523                0.127825   \n",
       "3       -1.572733           -1.516610      -1.274986               -1.185705   \n",
       "4        1.097814            0.955178       1.198524                1.640103   \n",
       "..            ...                 ...            ...                     ...   \n",
       "95       0.940589            1.923480       1.086851                1.810368   \n",
       "96      -0.576780           -0.190013      -0.818620               -0.286312   \n",
       "97      -1.011957           -1.616986      -1.182972               -0.974736   \n",
       "98      -1.305887           -1.463747      -1.050452               -0.895722   \n",
       "99       1.103355            0.929397       1.172695               -0.398034   \n",
       "\n",
       "    category_shopping  category_travel  label  \n",
       "0           -1.141424        -0.619930      0  \n",
       "1            0.659967        -0.222587      3  \n",
       "2            1.299938         2.766891      1  \n",
       "3           -1.166127        -0.601675      0  \n",
       "4            0.578781        -0.484796      3  \n",
       "..                ...              ...    ...  \n",
       "95           0.252344        -0.401038      3  \n",
       "96          -0.940283        -0.504166      0  \n",
       "97          -0.664583         0.193335      0  \n",
       "98          -0.708094         0.954537      0  \n",
       "99          -0.020631        -0.086794      3  \n",
       "\n",
       "[100 rows x 13 columns]"
      ]
     },
     "execution_count": 3,
     "metadata": {},
     "output_type": "execute_result"
    }
   ],
   "source": [
    "data"
   ]
  },
  {
   "cell_type": "code",
   "execution_count": 4,
   "id": "79acdb52",
   "metadata": {},
   "outputs": [
    {
     "name": "stdout",
     "output_type": "stream",
     "text": [
      "<class 'pandas.core.frame.DataFrame'>\n",
      "RangeIndex: 100 entries, 0 to 99\n",
      "Data columns (total 13 columns):\n",
      " #   Column                   Non-Null Count  Dtype  \n",
      "---  ------                   --------------  -----  \n",
      " 0   amt                      100 non-null    float64\n",
      " 1   category_entertainment   100 non-null    float64\n",
      " 2   category_food_dining     100 non-null    float64\n",
      " 3   category_gas_transport   100 non-null    float64\n",
      " 4   category_grocery         100 non-null    float64\n",
      " 5   category_health_fitness  100 non-null    float64\n",
      " 6   category_home            100 non-null    float64\n",
      " 7   category_kids_pets       100 non-null    float64\n",
      " 8   category_misc            100 non-null    float64\n",
      " 9   category_personal_care   100 non-null    float64\n",
      " 10  category_shopping        100 non-null    float64\n",
      " 11  category_travel          100 non-null    float64\n",
      " 12  label                    100 non-null    int64  \n",
      "dtypes: float64(12), int64(1)\n",
      "memory usage: 10.3 KB\n"
     ]
    }
   ],
   "source": [
    "\n",
    "data.info()"
   ]
  },
  {
   "cell_type": "code",
   "execution_count": 5,
   "id": "c72f0992",
   "metadata": {},
   "outputs": [
    {
     "data": {
      "text/plain": [
       "label\n",
       "0    44\n",
       "3    38\n",
       "2    10\n",
       "1     8\n",
       "Name: count, dtype: int64"
      ]
     },
     "execution_count": 5,
     "metadata": {},
     "output_type": "execute_result"
    }
   ],
   "source": [
    "data['label'].value_counts()"
   ]
  },
  {
   "cell_type": "code",
   "execution_count": 6,
   "id": "957afbac",
   "metadata": {},
   "outputs": [],
   "source": [
    "X = data.drop('label', axis=1)\n",
    "y = data['label']"
   ]
  },
  {
   "cell_type": "markdown",
   "id": "510a106c",
   "metadata": {},
   "source": [
    "PCA를 이용해 11개의 변수를 2개로 축소"
   ]
  },
  {
   "cell_type": "code",
   "execution_count": 7,
   "id": "302bf219",
   "metadata": {},
   "outputs": [],
   "source": [
    "from sklearn.decomposition import PCA"
   ]
  },
  {
   "cell_type": "code",
   "execution_count": 8,
   "id": "a33e9b11",
   "metadata": {},
   "outputs": [],
   "source": [
    "\n",
    "pca = PCA(n_components=2)\n",
    "X_pca = pca.fit_transform(X)"
   ]
  },
  {
   "cell_type": "code",
   "execution_count": 9,
   "id": "1e81b62d",
   "metadata": {},
   "outputs": [
    {
     "data": {
      "text/html": [
       "<div>\n",
       "<style scoped>\n",
       "    .dataframe tbody tr th:only-of-type {\n",
       "        vertical-align: middle;\n",
       "    }\n",
       "\n",
       "    .dataframe tbody tr th {\n",
       "        vertical-align: top;\n",
       "    }\n",
       "\n",
       "    .dataframe thead th {\n",
       "        text-align: right;\n",
       "    }\n",
       "</style>\n",
       "<table border=\"1\" class=\"dataframe\">\n",
       "  <thead>\n",
       "    <tr style=\"text-align: right;\">\n",
       "      <th></th>\n",
       "      <th>amt</th>\n",
       "      <th>category_entertainment</th>\n",
       "      <th>category_food_dining</th>\n",
       "      <th>category_gas_transport</th>\n",
       "      <th>category_grocery</th>\n",
       "      <th>category_health_fitness</th>\n",
       "      <th>category_home</th>\n",
       "      <th>category_kids_pets</th>\n",
       "      <th>category_misc</th>\n",
       "      <th>category_personal_care</th>\n",
       "      <th>category_shopping</th>\n",
       "      <th>category_travel</th>\n",
       "    </tr>\n",
       "  </thead>\n",
       "  <tbody>\n",
       "    <tr>\n",
       "      <th>0</th>\n",
       "      <td>-1.402327</td>\n",
       "      <td>-1.135617</td>\n",
       "      <td>-0.971069</td>\n",
       "      <td>-1.000180</td>\n",
       "      <td>-1.118217</td>\n",
       "      <td>-1.561756</td>\n",
       "      <td>-1.145051</td>\n",
       "      <td>-1.276913</td>\n",
       "      <td>-1.124693</td>\n",
       "      <td>-1.070260</td>\n",
       "      <td>-1.141424</td>\n",
       "      <td>-0.619930</td>\n",
       "    </tr>\n",
       "    <tr>\n",
       "      <th>1</th>\n",
       "      <td>1.079407</td>\n",
       "      <td>0.414075</td>\n",
       "      <td>0.168880</td>\n",
       "      <td>2.090013</td>\n",
       "      <td>0.767268</td>\n",
       "      <td>1.040236</td>\n",
       "      <td>0.844969</td>\n",
       "      <td>1.127922</td>\n",
       "      <td>1.210503</td>\n",
       "      <td>1.807350</td>\n",
       "      <td>0.659967</td>\n",
       "      <td>-0.222587</td>\n",
       "    </tr>\n",
       "    <tr>\n",
       "      <th>2</th>\n",
       "      <td>1.200151</td>\n",
       "      <td>0.747127</td>\n",
       "      <td>1.622968</td>\n",
       "      <td>-0.606627</td>\n",
       "      <td>0.439476</td>\n",
       "      <td>1.376630</td>\n",
       "      <td>2.126364</td>\n",
       "      <td>0.378610</td>\n",
       "      <td>-0.196523</td>\n",
       "      <td>0.127825</td>\n",
       "      <td>1.299938</td>\n",
       "      <td>2.766891</td>\n",
       "    </tr>\n",
       "    <tr>\n",
       "      <th>3</th>\n",
       "      <td>-1.474915</td>\n",
       "      <td>-1.129427</td>\n",
       "      <td>-1.539741</td>\n",
       "      <td>-0.930355</td>\n",
       "      <td>-1.079803</td>\n",
       "      <td>-1.222903</td>\n",
       "      <td>-1.572733</td>\n",
       "      <td>-1.516610</td>\n",
       "      <td>-1.274986</td>\n",
       "      <td>-1.185705</td>\n",
       "      <td>-1.166127</td>\n",
       "      <td>-0.601675</td>\n",
       "    </tr>\n",
       "    <tr>\n",
       "      <th>4</th>\n",
       "      <td>0.901491</td>\n",
       "      <td>0.257905</td>\n",
       "      <td>-0.320220</td>\n",
       "      <td>2.083588</td>\n",
       "      <td>0.540547</td>\n",
       "      <td>0.705908</td>\n",
       "      <td>1.097814</td>\n",
       "      <td>0.955178</td>\n",
       "      <td>1.198524</td>\n",
       "      <td>1.640103</td>\n",
       "      <td>0.578781</td>\n",
       "      <td>-0.484796</td>\n",
       "    </tr>\n",
       "  </tbody>\n",
       "</table>\n",
       "</div>"
      ],
      "text/plain": [
       "        amt  category_entertainment  category_food_dining  \\\n",
       "0 -1.402327               -1.135617             -0.971069   \n",
       "1  1.079407                0.414075              0.168880   \n",
       "2  1.200151                0.747127              1.622968   \n",
       "3 -1.474915               -1.129427             -1.539741   \n",
       "4  0.901491                0.257905             -0.320220   \n",
       "\n",
       "   category_gas_transport  category_grocery  category_health_fitness  \\\n",
       "0               -1.000180         -1.118217                -1.561756   \n",
       "1                2.090013          0.767268                 1.040236   \n",
       "2               -0.606627          0.439476                 1.376630   \n",
       "3               -0.930355         -1.079803                -1.222903   \n",
       "4                2.083588          0.540547                 0.705908   \n",
       "\n",
       "   category_home  category_kids_pets  category_misc  category_personal_care  \\\n",
       "0      -1.145051           -1.276913      -1.124693               -1.070260   \n",
       "1       0.844969            1.127922       1.210503                1.807350   \n",
       "2       2.126364            0.378610      -0.196523                0.127825   \n",
       "3      -1.572733           -1.516610      -1.274986               -1.185705   \n",
       "4       1.097814            0.955178       1.198524                1.640103   \n",
       "\n",
       "   category_shopping  category_travel  \n",
       "0          -1.141424        -0.619930  \n",
       "1           0.659967        -0.222587  \n",
       "2           1.299938         2.766891  \n",
       "3          -1.166127        -0.601675  \n",
       "4           0.578781        -0.484796  "
      ]
     },
     "execution_count": 9,
     "metadata": {},
     "output_type": "execute_result"
    }
   ],
   "source": [
    "X.head()"
   ]
  },
  {
   "cell_type": "code",
   "execution_count": 10,
   "id": "88a93b47",
   "metadata": {},
   "outputs": [
    {
     "data": {
      "text/plain": [
       "0     0\n",
       "1     3\n",
       "2     1\n",
       "3     0\n",
       "4     3\n",
       "     ..\n",
       "95    3\n",
       "96    0\n",
       "97    0\n",
       "98    0\n",
       "99    3\n",
       "Name: label, Length: 100, dtype: int64"
      ]
     },
     "execution_count": 10,
     "metadata": {},
     "output_type": "execute_result"
    }
   ],
   "source": [
    "y"
   ]
  },
  {
   "cell_type": "code",
   "execution_count": 11,
   "id": "f71a5981",
   "metadata": {},
   "outputs": [
    {
     "ename": "TypeError",
     "evalue": "cannot concatenate object of type '<class 'numpy.ndarray'>'; only Series and DataFrame objs are valid",
     "output_type": "error",
     "traceback": [
      "\u001b[1;31m---------------------------------------------------------------------------\u001b[0m",
      "\u001b[1;31mTypeError\u001b[0m                                 Traceback (most recent call last)",
      "Cell \u001b[1;32mIn[11], line 1\u001b[0m\n\u001b[1;32m----> 1\u001b[0m customer_pca \u001b[38;5;241m=\u001b[39m \u001b[43mpd\u001b[49m\u001b[38;5;241;43m.\u001b[39;49m\u001b[43mconcat\u001b[49m\u001b[43m(\u001b[49m\u001b[43m[\u001b[49m\u001b[43mX_pca\u001b[49m\u001b[43m,\u001b[49m\u001b[43m \u001b[49m\u001b[43my\u001b[49m\u001b[43m]\u001b[49m\u001b[43m,\u001b[49m\u001b[43m \u001b[49m\u001b[43maxis\u001b[49m\u001b[38;5;241;43m=\u001b[39;49m\u001b[38;5;241;43m1\u001b[39;49m\u001b[43m)\u001b[49m\n\u001b[0;32m      2\u001b[0m customer_pca\n",
      "File \u001b[1;32m~\\miniforge3\\envs\\fintech\\lib\\site-packages\\pandas\\core\\reshape\\concat.py:382\u001b[0m, in \u001b[0;36mconcat\u001b[1;34m(objs, axis, join, ignore_index, keys, levels, names, verify_integrity, sort, copy)\u001b[0m\n\u001b[0;32m    379\u001b[0m \u001b[38;5;28;01melif\u001b[39;00m copy \u001b[38;5;129;01mand\u001b[39;00m using_copy_on_write():\n\u001b[0;32m    380\u001b[0m     copy \u001b[38;5;241m=\u001b[39m \u001b[38;5;28;01mFalse\u001b[39;00m\n\u001b[1;32m--> 382\u001b[0m op \u001b[38;5;241m=\u001b[39m \u001b[43m_Concatenator\u001b[49m\u001b[43m(\u001b[49m\n\u001b[0;32m    383\u001b[0m \u001b[43m    \u001b[49m\u001b[43mobjs\u001b[49m\u001b[43m,\u001b[49m\n\u001b[0;32m    384\u001b[0m \u001b[43m    \u001b[49m\u001b[43maxis\u001b[49m\u001b[38;5;241;43m=\u001b[39;49m\u001b[43maxis\u001b[49m\u001b[43m,\u001b[49m\n\u001b[0;32m    385\u001b[0m \u001b[43m    \u001b[49m\u001b[43mignore_index\u001b[49m\u001b[38;5;241;43m=\u001b[39;49m\u001b[43mignore_index\u001b[49m\u001b[43m,\u001b[49m\n\u001b[0;32m    386\u001b[0m \u001b[43m    \u001b[49m\u001b[43mjoin\u001b[49m\u001b[38;5;241;43m=\u001b[39;49m\u001b[43mjoin\u001b[49m\u001b[43m,\u001b[49m\n\u001b[0;32m    387\u001b[0m \u001b[43m    \u001b[49m\u001b[43mkeys\u001b[49m\u001b[38;5;241;43m=\u001b[39;49m\u001b[43mkeys\u001b[49m\u001b[43m,\u001b[49m\n\u001b[0;32m    388\u001b[0m \u001b[43m    \u001b[49m\u001b[43mlevels\u001b[49m\u001b[38;5;241;43m=\u001b[39;49m\u001b[43mlevels\u001b[49m\u001b[43m,\u001b[49m\n\u001b[0;32m    389\u001b[0m \u001b[43m    \u001b[49m\u001b[43mnames\u001b[49m\u001b[38;5;241;43m=\u001b[39;49m\u001b[43mnames\u001b[49m\u001b[43m,\u001b[49m\n\u001b[0;32m    390\u001b[0m \u001b[43m    \u001b[49m\u001b[43mverify_integrity\u001b[49m\u001b[38;5;241;43m=\u001b[39;49m\u001b[43mverify_integrity\u001b[49m\u001b[43m,\u001b[49m\n\u001b[0;32m    391\u001b[0m \u001b[43m    \u001b[49m\u001b[43mcopy\u001b[49m\u001b[38;5;241;43m=\u001b[39;49m\u001b[43mcopy\u001b[49m\u001b[43m,\u001b[49m\n\u001b[0;32m    392\u001b[0m \u001b[43m    \u001b[49m\u001b[43msort\u001b[49m\u001b[38;5;241;43m=\u001b[39;49m\u001b[43msort\u001b[49m\u001b[43m,\u001b[49m\n\u001b[0;32m    393\u001b[0m \u001b[43m\u001b[49m\u001b[43m)\u001b[49m\n\u001b[0;32m    395\u001b[0m \u001b[38;5;28;01mreturn\u001b[39;00m op\u001b[38;5;241m.\u001b[39mget_result()\n",
      "File \u001b[1;32m~\\miniforge3\\envs\\fintech\\lib\\site-packages\\pandas\\core\\reshape\\concat.py:448\u001b[0m, in \u001b[0;36m_Concatenator.__init__\u001b[1;34m(self, objs, axis, join, keys, levels, names, ignore_index, verify_integrity, copy, sort)\u001b[0m\n\u001b[0;32m    445\u001b[0m objs, keys \u001b[38;5;241m=\u001b[39m \u001b[38;5;28mself\u001b[39m\u001b[38;5;241m.\u001b[39m_clean_keys_and_objs(objs, keys)\n\u001b[0;32m    447\u001b[0m \u001b[38;5;66;03m# figure out what our result ndim is going to be\u001b[39;00m\n\u001b[1;32m--> 448\u001b[0m ndims \u001b[38;5;241m=\u001b[39m \u001b[38;5;28;43mself\u001b[39;49m\u001b[38;5;241;43m.\u001b[39;49m\u001b[43m_get_ndims\u001b[49m\u001b[43m(\u001b[49m\u001b[43mobjs\u001b[49m\u001b[43m)\u001b[49m\n\u001b[0;32m    449\u001b[0m sample, objs \u001b[38;5;241m=\u001b[39m \u001b[38;5;28mself\u001b[39m\u001b[38;5;241m.\u001b[39m_get_sample_object(objs, ndims, keys, names, levels)\n\u001b[0;32m    451\u001b[0m \u001b[38;5;66;03m# Standardize axis parameter to int\u001b[39;00m\n",
      "File \u001b[1;32m~\\miniforge3\\envs\\fintech\\lib\\site-packages\\pandas\\core\\reshape\\concat.py:489\u001b[0m, in \u001b[0;36m_Concatenator._get_ndims\u001b[1;34m(self, objs)\u001b[0m\n\u001b[0;32m    484\u001b[0m     \u001b[38;5;28;01mif\u001b[39;00m \u001b[38;5;129;01mnot\u001b[39;00m \u001b[38;5;28misinstance\u001b[39m(obj, (ABCSeries, ABCDataFrame)):\n\u001b[0;32m    485\u001b[0m         msg \u001b[38;5;241m=\u001b[39m (\n\u001b[0;32m    486\u001b[0m             \u001b[38;5;124mf\u001b[39m\u001b[38;5;124m\"\u001b[39m\u001b[38;5;124mcannot concatenate object of type \u001b[39m\u001b[38;5;124m'\u001b[39m\u001b[38;5;132;01m{\u001b[39;00m\u001b[38;5;28mtype\u001b[39m(obj)\u001b[38;5;132;01m}\u001b[39;00m\u001b[38;5;124m'\u001b[39m\u001b[38;5;124m; \u001b[39m\u001b[38;5;124m\"\u001b[39m\n\u001b[0;32m    487\u001b[0m             \u001b[38;5;124m\"\u001b[39m\u001b[38;5;124monly Series and DataFrame objs are valid\u001b[39m\u001b[38;5;124m\"\u001b[39m\n\u001b[0;32m    488\u001b[0m         )\n\u001b[1;32m--> 489\u001b[0m         \u001b[38;5;28;01mraise\u001b[39;00m \u001b[38;5;167;01mTypeError\u001b[39;00m(msg)\n\u001b[0;32m    491\u001b[0m     ndims\u001b[38;5;241m.\u001b[39madd(obj\u001b[38;5;241m.\u001b[39mndim)\n\u001b[0;32m    492\u001b[0m \u001b[38;5;28;01mreturn\u001b[39;00m ndims\n",
      "\u001b[1;31mTypeError\u001b[0m: cannot concatenate object of type '<class 'numpy.ndarray'>'; only Series and DataFrame objs are valid"
     ]
    }
   ],
   "source": [
    "\n",
    "customer_pca = pd.concat([X_pca, y], axis=1)\n",
    "customer_pca"
   ]
  },
  {
   "cell_type": "code",
   "execution_count": null,
   "id": "62a1a95c",
   "metadata": {},
   "outputs": [],
   "source": [
    "\n",
    "X_pca = pd.DataFrame(X_pca, columns=['comp1', 'comp2'])\n",
    "X_pca"
   ]
  },
  {
   "cell_type": "code",
   "execution_count": null,
   "id": "d7dc8974",
   "metadata": {},
   "outputs": [],
   "source": [
    "sns.scatterplot(x='comp1', y='comp2', data=customer_pca, hue='label', palette='rainbow')"
   ]
  },
  {
   "cell_type": "code",
   "execution_count": null,
   "id": "fad46e05",
   "metadata": {},
   "outputs": [],
   "source": []
  },
  {
   "cell_type": "code",
   "execution_count": null,
   "id": "444ff8f5",
   "metadata": {},
   "outputs": [],
   "source": [
    "#어떤애들이 합쳐져서 comp1,2가 됐는지는 알 수 없음\n",
    "#비지도학습알고리즘\n",
    "#pca가 알아서 분산 분석 한다음 합쳐진 것\n",
    "#이 두개는 데이터들의 특성 유지, 가지고 있음\n"
   ]
  },
  {
   "cell_type": "code",
   "execution_count": null,
   "id": "1ec93f02",
   "metadata": {},
   "outputs": [],
   "source": [
    "\n",
    "from sklearn.tree import DecisionTreeClassifier\n",
    "from sklearn.metrics import classification_report\n",
    "from sklearn.model_selection import train_test_split"
   ]
  },
  {
   "cell_type": "code",
   "execution_count": null,
   "id": "6ac0c3a3",
   "metadata": {},
   "outputs": [],
   "source": [
    "X_train, X_test, y_train, y_test = train_test_split(X, y, test_size=0.4, stratify=y, random_state=8)\n",
    "X_train_pca, X_test_pca, y_train_pca, y_test_pca = train_test_split(X_pca, y, test_size=0.4, stratify=y, random_state=8)"
   ]
  },
  {
   "cell_type": "code",
   "execution_count": null,
   "id": "d7929c25",
   "metadata": {},
   "outputs": [],
   "source": [
    "\n",
    "X_train.head()"
   ]
  },
  {
   "cell_type": "code",
   "execution_count": null,
   "id": "964d141c",
   "metadata": {},
   "outputs": [],
   "source": [
    "X_train_pca.head()"
   ]
  },
  {
   "cell_type": "code",
   "execution_count": null,
   "id": "6274e122",
   "metadata": {},
   "outputs": [],
   "source": [
    "dtc1 = DecisionTreeClassifier(max_depth=3, random_state=8)\n",
    "dtc1.fit(X_train, y_train)\n",
    "pred1 = dtc1.predict(X_test)\n",
    "print(classification_report(y_test, pred1))"
   ]
  },
  {
   "cell_type": "code",
   "execution_count": null,
   "id": "3dae7a11",
   "metadata": {},
   "outputs": [],
   "source": [
    "result = pd.DataFrame(dtc1.feature_importances_, index=dtc1.feature_names_in_)\n",
    "result.sort_values(by=0, ascending=False)"
   ]
  },
  {
   "cell_type": "code",
   "execution_count": null,
   "id": "88499fc0",
   "metadata": {},
   "outputs": [],
   "source": [
    "dtc2 = DecisionTreeClassifier(max_depth=3, random_state=8)\n",
    "dtc2.fit(X_train_pca, y_train_pca)\n",
    "pred2 = dtc2.predict(X_test_pca)\n",
    "print(classification_report(y_test_pca, pred2))"
   ]
  },
  {
   "cell_type": "code",
   "execution_count": null,
   "id": "9857070c",
   "metadata": {},
   "outputs": [],
   "source": []
  },
  {
   "cell_type": "markdown",
   "id": "44f66784",
   "metadata": {},
   "source": [
    "# 4297개의 컬럼 데이터를 PCA로 축소해 분석하기"
   ]
  },
  {
   "cell_type": "code",
   "execution_count": null,
   "id": "6556065e",
   "metadata": {},
   "outputs": [],
   "source": [
    "data = pd.read_csv('https://media.githubusercontent.com/media/musthave-ML10/data_source/main/anonymous.csv')"
   ]
  },
  {
   "cell_type": "code",
   "execution_count": null,
   "id": "f2c42fa5",
   "metadata": {},
   "outputs": [],
   "source": [
    "data.head()"
   ]
  },
  {
   "cell_type": "code",
   "execution_count": null,
   "id": "c016a503",
   "metadata": {},
   "outputs": [],
   "source": [
    "\n",
    "data.info()"
   ]
  },
  {
   "cell_type": "code",
   "execution_count": null,
   "id": "e453aa52",
   "metadata": {},
   "outputs": [],
   "source": [
    "(data.isna().sum() != 0).sum()"
   ]
  },
  {
   "cell_type": "code",
   "execution_count": null,
   "id": "2c4d8f48",
   "metadata": {},
   "outputs": [],
   "source": [
    "data['class'].value_counts()"
   ]
  },
  {
   "cell_type": "code",
   "execution_count": null,
   "id": "d79a079c",
   "metadata": {},
   "outputs": [],
   "source": [
    "X = data.drop('class', axis=1)\n",
    "y = data['class']"
   ]
  },
  {
   "cell_type": "code",
   "execution_count": null,
   "id": "30b6c0e5",
   "metadata": {},
   "outputs": [],
   "source": [
    "from sklearn.preprocessing import StandardScaler"
   ]
  },
  {
   "cell_type": "code",
   "execution_count": null,
   "id": "48d6af31",
   "metadata": {},
   "outputs": [],
   "source": [
    "ss = StandardScaler()\n",
    "X_scaled = ss.fit_transform(X)\n",
    "X_scaled = pd.DataFrame(X_scaled, columns=X.columns)\n",
    "X_scaled"
   ]
  },
  {
   "cell_type": "code",
   "execution_count": null,
   "id": "3686e0a3",
   "metadata": {},
   "outputs": [],
   "source": [
    "X_train, X_test, y_train, y_test = train_test_split(X_scaled, y, test_size=0.4, random_state=10)"
   ]
  },
  {
   "cell_type": "code",
   "execution_count": null,
   "id": "25c309b9",
   "metadata": {},
   "outputs": [],
   "source": [
    "\n",
    "dtc = DecisionTreeClassifier(max_depth=5, random_state=8)\n",
    "dtc.fit(X_train, y_train)\n",
    "pred = dtc.predict(X_test)\n",
    "print(classification_report(y_test, pred))"
   ]
  },
  {
   "cell_type": "code",
   "execution_count": null,
   "id": "ddb04bca",
   "metadata": {},
   "outputs": [],
   "source": [
    "result = pd.DataFrame(dtc.feature_importances_, index=dtc.feature_names_in_)\n",
    "result.sort_values(by=0, ascending=False)"
   ]
  },
  {
   "cell_type": "code",
   "execution_count": null,
   "id": "747337af",
   "metadata": {},
   "outputs": [],
   "source": [
    "\n",
    "len(result[result[0] > 0])"
   ]
  },
  {
   "cell_type": "code",
   "execution_count": null,
   "id": "74326291",
   "metadata": {},
   "outputs": [],
   "source": [
    "result[result[0] > 0]"
   ]
  },
  {
   "cell_type": "code",
   "execution_count": null,
   "id": "e1a0ef48",
   "metadata": {},
   "outputs": [],
   "source": [
    "from sklearn.decomposition import PCA"
   ]
  },
  {
   "cell_type": "code",
   "execution_count": null,
   "id": "7957ffa3",
   "metadata": {},
   "outputs": [],
   "source": [
    "pca = PCA(n_components=20)\n",
    "X_pca = pca.fit_transform(X_scaled)\n",
    "X_pca = pd.DataFrame(X_pca)"
   ]
  },
  {
   "cell_type": "code",
   "execution_count": null,
   "id": "98503cc1",
   "metadata": {},
   "outputs": [],
   "source": [
    "X_pca"
   ]
  },
  {
   "cell_type": "code",
   "execution_count": null,
   "id": "8606adeb",
   "metadata": {},
   "outputs": [],
   "source": [
    "print(pca.explained_variance_)"
   ]
  },
  {
   "cell_type": "code",
   "execution_count": null,
   "id": "65418964",
   "metadata": {},
   "outputs": [],
   "source": [
    "print(pca.explained_variance_ratio_)"
   ]
  },
  {
   "cell_type": "code",
   "execution_count": null,
   "id": "f50be9f1",
   "metadata": {},
   "outputs": [],
   "source": [
    "print(pca.explained_variance_ratio_.sum())"
   ]
  },
  {
   "cell_type": "code",
   "execution_count": null,
   "id": "cce4af74",
   "metadata": {},
   "outputs": [],
   "source": [
    "X_train_pca, X_test_pca, y_train_pca, y_test_pca = train_test_split(X_pca, y, test_size=0.4, random_state=10)"
   ]
  },
  {
   "cell_type": "code",
   "execution_count": null,
   "id": "ec211cde",
   "metadata": {},
   "outputs": [],
   "source": [
    "dtc2 = DecisionTreeClassifier(max_depth=5, random_state=8)\n",
    "dtc2.fit(X_train_pca, y_train_pca)\n",
    "pred2 = dtc2.predict(X_test_pca)\n",
    "print(classification_report(y_test_pca, pred2))"
   ]
  },
  {
   "cell_type": "code",
   "execution_count": null,
   "id": "dd88d354",
   "metadata": {},
   "outputs": [],
   "source": [
    "result2 = pd.DataFrame(dtc2.feature_importances_)\n",
    "result2.sort_values(by=0, ascending=False)"
   ]
  },
  {
   "cell_type": "code",
   "execution_count": null,
   "id": "29fa6be9",
   "metadata": {},
   "outputs": [],
   "source": [
    "len(result2[result2[0] > 0])"
   ]
  },
  {
   "cell_type": "code",
   "execution_count": null,
   "id": "185e03b6",
   "metadata": {},
   "outputs": [],
   "source": [
    "\n",
    "result2[result2[0] > 0]"
   ]
  },
  {
   "cell_type": "code",
   "execution_count": null,
   "id": "f891dd80",
   "metadata": {},
   "outputs": [],
   "source": [
    "pca = PCA(10)\n",
    "X_pca = pca.fit_transform(X_scaled)\n",
    "X_pca = pd.DataFrame(X_pca)"
   ]
  },
  {
   "cell_type": "code",
   "execution_count": null,
   "id": "51a3fea9",
   "metadata": {},
   "outputs": [],
   "source": [
    "# 주성분의 분산 비율\n",
    "explained_variance_ratio = pca.explained_variance_ratio_\n",
    "\n",
    "# Scree plot 그리기\n",
    "plt.figure(figsize=(10, 6))\n",
    "plt.plot(range(1, len(explained_variance_ratio) + 1), explained_variance_ratio, marker='o', linestyle='--')\n",
    "plt.title('Scree Plot')\n",
    "plt.xlabel('Principal Component')\n",
    "plt.ylabel('Proportion of Variance Explained')\n",
    "plt.xticks(range(1, len(explained_variance_ratio) + 1))\n",
    "plt.grid()\n",
    "plt.show()\n",
    "\n",
    "# 누적 분산 비율 계산\n",
    "cumulative_variance_ratio = np.cumsum(explained_variance_ratio)\n",
    "\n",
    "# 최적의 주성분 개수 찾기 (예: 80% 이상의 분산을 설명하는 주성분 개수)\n",
    "optimal_components = np.argmax(cumulative_variance_ratio >= 0.80) + 1\n",
    "print(f'Optimal number of components: {optimal_components}')"
   ]
  },
  {
   "cell_type": "code",
   "execution_count": null,
   "id": "24fe7c8f",
   "metadata": {},
   "outputs": [],
   "source": [
    "X_train_pca, X_test_pca, y_train_pca, y_test_pca = train_test_split(X_pca, y, test_size=0.4, random_state=10)"
   ]
  },
  {
   "cell_type": "code",
   "execution_count": null,
   "id": "1dd92cf5",
   "metadata": {},
   "outputs": [],
   "source": [
    "dtc2 = DecisionTreeClassifier(max_depth=5, random_state=8)\n",
    "dtc2.fit(X_train_pca, y_train_pca)\n",
    "pred2 = dtc2.predict(X_test_pca)\n",
    "print(classification_report(y_test_pca, pred2))"
   ]
  },
  {
   "cell_type": "code",
   "execution_count": null,
   "id": "30828137",
   "metadata": {},
   "outputs": [],
   "source": [
    "\n",
    "result2 = pd.DataFrame(dtc2.feature_importances_)\n",
    "result2.sort_values(by=0, ascending=False)"
   ]
  },
  {
   "cell_type": "code",
   "execution_count": null,
   "id": "b65e1f7c",
   "metadata": {},
   "outputs": [],
   "source": []
  }
 ],
 "metadata": {
  "kernelspec": {
   "display_name": "Python 3 (ipykernel)",
   "language": "python",
   "name": "python3"
  },
  "language_info": {
   "codemirror_mode": {
    "name": "ipython",
    "version": 3
   },
   "file_extension": ".py",
   "mimetype": "text/x-python",
   "name": "python",
   "nbconvert_exporter": "python",
   "pygments_lexer": "ipython3",
   "version": "3.10.14"
  }
 },
 "nbformat": 4,
 "nbformat_minor": 5
}
