{
 "cells": [
  {
   "cell_type": "code",
   "execution_count": 1,
   "id": "66f16239",
   "metadata": {},
   "outputs": [],
   "source": [
    "import pandas as pd\n",
    "import numpy as np\n",
    "import matplotlib.pyplot as plt\n",
    "import seaborn as sns\n",
    "import math"
   ]
  },
  {
   "cell_type": "markdown",
   "id": "3e65defb",
   "metadata": {},
   "source": [
    "# 기초 통계 개념정리"
   ]
  },
  {
   "cell_type": "markdown",
   "id": "1aa7b0b3",
   "metadata": {},
   "source": [
    "## 1) 대푯값: 데이터의 중심을 나타내는 값\n",
    "* 평균(mean)\n",
    "* 중앙값 (median)\n",
    "* 최빈값(mode)"
   ]
  },
  {
   "cell_type": "markdown",
   "id": "aa49f33f",
   "metadata": {},
   "source": [
    "### (1) 평균(mean) $ \\mu $\n",
    "* 모든 값의 총합을 값의 개수로 나눈 값\n",
    "* 극단적인 값(이상값/아웃라이어)이 있는 경우 평균에 영향을 미친다.\n",
    "* 모집단의 평균 $ \\mu $\n",
    "* 표본집단의 평균 $ \\bar{x} $\n",
    "* 모집단과 표본집단의 평균 약간 차이가 나기에 나눠서 쓴다\n",
    "\n",
    "<br>\n",
    "$$ 모평균: \\mu = {\\sum_{i=1}^N x_i \\over n} $$\n",
    "$$ 표본평균: \\bar{x} = {\\sum_{i=1}^N x_i \\over n} $$"
   ]
  },
  {
   "cell_type": "code",
   "execution_count": 4,
   "id": "07fcb2fc",
   "metadata": {},
   "outputs": [
    {
     "data": {
      "text/plain": [
       "표본    5.0\n",
       "dtype: float64"
      ]
     },
     "execution_count": 4,
     "metadata": {},
     "output_type": "execute_result"
    }
   ],
   "source": [
    "# 평균\n",
    "a = pd.DataFrame([2,3,3,4,4,5,7,7,7,8], columns=['표본'])\n",
    "a.mean()"
   ]
  },
  {
   "cell_type": "markdown",
   "id": "5f6ae32d",
   "metadata": {},
   "source": [
    "### (2) 중앙값(median)\n",
    "* 모든 데이터를 큰 순서대로 나열할 때 가운데 있는 값\n",
    "* 데이터의 개수가 홀수일 때는 정중앙의 값\n",
    "* 데이터의 개수가 짝수일 때는 정중앙 2개수의 평균 값\n",
    "* 이상치가 있어도 영향을 받지 않는다."
   ]
  },
  {
   "cell_type": "code",
   "execution_count": 5,
   "id": "f18f9510",
   "metadata": {},
   "outputs": [
    {
     "data": {
      "text/html": [
       "<div>\n",
       "<style scoped>\n",
       "    .dataframe tbody tr th:only-of-type {\n",
       "        vertical-align: middle;\n",
       "    }\n",
       "\n",
       "    .dataframe tbody tr th {\n",
       "        vertical-align: top;\n",
       "    }\n",
       "\n",
       "    .dataframe thead th {\n",
       "        text-align: right;\n",
       "    }\n",
       "</style>\n",
       "<table border=\"1\" class=\"dataframe\">\n",
       "  <thead>\n",
       "    <tr style=\"text-align: right;\">\n",
       "      <th></th>\n",
       "      <th>0</th>\n",
       "      <th>1</th>\n",
       "      <th>2</th>\n",
       "      <th>3</th>\n",
       "      <th>4</th>\n",
       "      <th>5</th>\n",
       "      <th>6</th>\n",
       "      <th>7</th>\n",
       "      <th>8</th>\n",
       "      <th>9</th>\n",
       "    </tr>\n",
       "  </thead>\n",
       "  <tbody>\n",
       "    <tr>\n",
       "      <th>표본</th>\n",
       "      <td>2</td>\n",
       "      <td>3</td>\n",
       "      <td>3</td>\n",
       "      <td>4</td>\n",
       "      <td>4</td>\n",
       "      <td>5</td>\n",
       "      <td>7</td>\n",
       "      <td>7</td>\n",
       "      <td>7</td>\n",
       "      <td>8</td>\n",
       "    </tr>\n",
       "  </tbody>\n",
       "</table>\n",
       "</div>"
      ],
      "text/plain": [
       "    0  1  2  3  4  5  6  7  8  9\n",
       "표본  2  3  3  4  4  5  7  7  7  8"
      ]
     },
     "execution_count": 5,
     "metadata": {},
     "output_type": "execute_result"
    }
   ],
   "source": [
    "a.T"
   ]
  },
  {
   "cell_type": "code",
   "execution_count": 8,
   "id": "2472c574",
   "metadata": {},
   "outputs": [],
   "source": [
    "b = pd.DataFrame([3,3,4,4,5,7,7,7,8], columns=['표본'])"
   ]
  },
  {
   "cell_type": "code",
   "execution_count": 6,
   "id": "d8bbdb6d",
   "metadata": {},
   "outputs": [
    {
     "data": {
      "text/plain": [
       "표본    4.5\n",
       "dtype: float64"
      ]
     },
     "execution_count": 6,
     "metadata": {},
     "output_type": "execute_result"
    }
   ],
   "source": [
    "a.median()"
   ]
  },
  {
   "cell_type": "code",
   "execution_count": 9,
   "id": "eb889b94",
   "metadata": {},
   "outputs": [
    {
     "data": {
      "text/plain": [
       "표본    5.0\n",
       "dtype: float64"
      ]
     },
     "execution_count": 9,
     "metadata": {},
     "output_type": "execute_result"
    }
   ],
   "source": [
    "b.median()"
   ]
  },
  {
   "cell_type": "markdown",
   "id": "bce07fff",
   "metadata": {},
   "source": [
    "### (3) 최빈값(mode)\n",
    "* 표본에서 가장 많이 등장하는 값\n",
    "* 최빈값도 극단값에 영향을 받지 않음\n",
    "* "
   ]
  },
  {
   "cell_type": "code",
   "execution_count": 10,
   "id": "f6d8d014",
   "metadata": {},
   "outputs": [
    {
     "data": {
      "text/html": [
       "<div>\n",
       "<style scoped>\n",
       "    .dataframe tbody tr th:only-of-type {\n",
       "        vertical-align: middle;\n",
       "    }\n",
       "\n",
       "    .dataframe tbody tr th {\n",
       "        vertical-align: top;\n",
       "    }\n",
       "\n",
       "    .dataframe thead th {\n",
       "        text-align: right;\n",
       "    }\n",
       "</style>\n",
       "<table border=\"1\" class=\"dataframe\">\n",
       "  <thead>\n",
       "    <tr style=\"text-align: right;\">\n",
       "      <th></th>\n",
       "      <th>표본</th>\n",
       "    </tr>\n",
       "  </thead>\n",
       "  <tbody>\n",
       "    <tr>\n",
       "      <th>0</th>\n",
       "      <td>7</td>\n",
       "    </tr>\n",
       "  </tbody>\n",
       "</table>\n",
       "</div>"
      ],
      "text/plain": [
       "   표본\n",
       "0   7"
      ]
     },
     "execution_count": 10,
     "metadata": {},
     "output_type": "execute_result"
    }
   ],
   "source": [
    "a.mode()"
   ]
  },
  {
   "cell_type": "markdown",
   "id": "8058c703",
   "metadata": {},
   "source": [
    "### (4) 산술평균/ 기하평균\n",
    "* 산술평균(덧셈의 평균): 모든 데이터의 합계/ 데이터 수\n",
    "* 기하평균 (곱셈의 평균) : 모든 데이터의 곱의 n 제곱근 - 증가율의 평균을 계산할 때 사용"
   ]
  },
  {
   "cell_type": "code",
   "execution_count": 11,
   "id": "89323997",
   "metadata": {},
   "outputs": [
    {
     "name": "stdout",
     "output_type": "stream",
     "text": [
      "표본    5.0\n",
      "dtype: float64\n",
      "a의 산술평균: 5.0\n"
     ]
    }
   ],
   "source": [
    "#산술평균\n",
    "print(a.mean())\n",
    "print(\"a의 산술평균:\", (2+3+3+4+4+5+7+7+7+8)/10)"
   ]
  },
  {
   "cell_type": "code",
   "execution_count": 13,
   "id": "708e8455",
   "metadata": {},
   "outputs": [
    {
     "data": {
      "text/plain": [
       "4.567459024554638"
      ]
     },
     "execution_count": 13,
     "metadata": {},
     "output_type": "execute_result"
    }
   ],
   "source": [
    "math.pow((2*3*3*4*4*5*7*7*7*8), 1/10)"
   ]
  },
  {
   "cell_type": "code",
   "execution_count": 14,
   "id": "1ebc3a8c",
   "metadata": {},
   "outputs": [
    {
     "name": "stdout",
     "output_type": "stream",
     "text": [
      "기하평균: 4.567459024554637\n"
     ]
    }
   ],
   "source": [
    "from scipy.stats import gmean\n",
    "geometric_mean = gmean(a['표본'])\n",
    "print(\"기하평균:\", geometric_mean)"
   ]
  },
  {
   "cell_type": "markdown",
   "id": "d6007171",
   "metadata": {},
   "source": [
    "2020년에 7%, 2021년에 35%, 2022년에 40%, 2023년에 69%의 매출 증가가 있었다면 4년간 평균 매출 증가율은?"
   ]
  },
  {
   "cell_type": "code",
   "execution_count": 15,
   "id": "9fa55e0f",
   "metadata": {},
   "outputs": [
    {
     "name": "stdout",
     "output_type": "stream",
     "text": [
      "산술평균: 37.75\n",
      "기하평균: 28.67601451933219\n"
     ]
    }
   ],
   "source": [
    "print(\"산술평균:\", pd.Series([7,35,40,69]).mean())\n",
    "print(\"기하평균:\", gmean([7,35,40,69]))"
   ]
  },
  {
   "cell_type": "markdown",
   "id": "f89364b7",
   "metadata": {},
   "source": [
    "# 2) 도수 분포표와 히스토그램\n",
    "## (1) 도수분포표\n",
    "* 주어진 데이터를 일정한 범위로 나누고 그 범위에 추련하는 데이터 개수를 조사해 나타낸 표\n",
    "* 데이터 구간 폭을 '계급'(class) 각 계급에 속하는 데이터 개수를 '도수'라고 한다.\n",
    "* 각 계급의 중앙값을 '계급값'이라 한다.\n",
    "* 도수분포표에서 도수가 큰 것을 '출현 획수가 많다'고 하고\n",
    "* 가장 도수가 큰 계급의 계급값을 '최빈값'이라고 한다."
   ]
  },
  {
   "cell_type": "code",
   "execution_count": 16,
   "id": "c753b441",
   "metadata": {},
   "outputs": [],
   "source": [
    "#타이타닉 데이터 로딩\n",
    "data = pd.read_csv(\"https://raw.githubusercontent.com/haram4th/ablearn/main/Taitanic_train.csv\")"
   ]
  },
  {
   "cell_type": "code",
   "execution_count": 17,
   "id": "223898ce",
   "metadata": {},
   "outputs": [
    {
     "data": {
      "text/html": [
       "<div>\n",
       "<style scoped>\n",
       "    .dataframe tbody tr th:only-of-type {\n",
       "        vertical-align: middle;\n",
       "    }\n",
       "\n",
       "    .dataframe tbody tr th {\n",
       "        vertical-align: top;\n",
       "    }\n",
       "\n",
       "    .dataframe thead th {\n",
       "        text-align: right;\n",
       "    }\n",
       "</style>\n",
       "<table border=\"1\" class=\"dataframe\">\n",
       "  <thead>\n",
       "    <tr style=\"text-align: right;\">\n",
       "      <th></th>\n",
       "      <th>Age</th>\n",
       "    </tr>\n",
       "  </thead>\n",
       "  <tbody>\n",
       "    <tr>\n",
       "      <th>0</th>\n",
       "      <td>22.0</td>\n",
       "    </tr>\n",
       "    <tr>\n",
       "      <th>1</th>\n",
       "      <td>38.0</td>\n",
       "    </tr>\n",
       "    <tr>\n",
       "      <th>2</th>\n",
       "      <td>26.0</td>\n",
       "    </tr>\n",
       "    <tr>\n",
       "      <th>3</th>\n",
       "      <td>35.0</td>\n",
       "    </tr>\n",
       "    <tr>\n",
       "      <th>4</th>\n",
       "      <td>35.0</td>\n",
       "    </tr>\n",
       "    <tr>\n",
       "      <th>...</th>\n",
       "      <td>...</td>\n",
       "    </tr>\n",
       "    <tr>\n",
       "      <th>886</th>\n",
       "      <td>27.0</td>\n",
       "    </tr>\n",
       "    <tr>\n",
       "      <th>887</th>\n",
       "      <td>19.0</td>\n",
       "    </tr>\n",
       "    <tr>\n",
       "      <th>888</th>\n",
       "      <td>NaN</td>\n",
       "    </tr>\n",
       "    <tr>\n",
       "      <th>889</th>\n",
       "      <td>26.0</td>\n",
       "    </tr>\n",
       "    <tr>\n",
       "      <th>890</th>\n",
       "      <td>32.0</td>\n",
       "    </tr>\n",
       "  </tbody>\n",
       "</table>\n",
       "<p>891 rows × 1 columns</p>\n",
       "</div>"
      ],
      "text/plain": [
       "      Age\n",
       "0    22.0\n",
       "1    38.0\n",
       "2    26.0\n",
       "3    35.0\n",
       "4    35.0\n",
       "..    ...\n",
       "886  27.0\n",
       "887  19.0\n",
       "888   NaN\n",
       "889  26.0\n",
       "890  32.0\n",
       "\n",
       "[891 rows x 1 columns]"
      ]
     },
     "execution_count": 17,
     "metadata": {},
     "output_type": "execute_result"
    }
   ],
   "source": [
    "# 나이 컬럼만 가져오기\n",
    "ages =data[['Age']]\n",
    "ages"
   ]
  },
  {
   "cell_type": "code",
   "execution_count": 18,
   "id": "e335b6e7",
   "metadata": {},
   "outputs": [
    {
     "data": {
      "text/html": [
       "<div>\n",
       "<style scoped>\n",
       "    .dataframe tbody tr th:only-of-type {\n",
       "        vertical-align: middle;\n",
       "    }\n",
       "\n",
       "    .dataframe tbody tr th {\n",
       "        vertical-align: top;\n",
       "    }\n",
       "\n",
       "    .dataframe thead th {\n",
       "        text-align: right;\n",
       "    }\n",
       "</style>\n",
       "<table border=\"1\" class=\"dataframe\">\n",
       "  <thead>\n",
       "    <tr style=\"text-align: right;\">\n",
       "      <th></th>\n",
       "      <th>Age</th>\n",
       "    </tr>\n",
       "  </thead>\n",
       "  <tbody>\n",
       "    <tr>\n",
       "      <th>count</th>\n",
       "      <td>714.000000</td>\n",
       "    </tr>\n",
       "    <tr>\n",
       "      <th>mean</th>\n",
       "      <td>29.699118</td>\n",
       "    </tr>\n",
       "    <tr>\n",
       "      <th>std</th>\n",
       "      <td>14.526497</td>\n",
       "    </tr>\n",
       "    <tr>\n",
       "      <th>min</th>\n",
       "      <td>0.420000</td>\n",
       "    </tr>\n",
       "    <tr>\n",
       "      <th>25%</th>\n",
       "      <td>20.125000</td>\n",
       "    </tr>\n",
       "    <tr>\n",
       "      <th>50%</th>\n",
       "      <td>28.000000</td>\n",
       "    </tr>\n",
       "    <tr>\n",
       "      <th>75%</th>\n",
       "      <td>38.000000</td>\n",
       "    </tr>\n",
       "    <tr>\n",
       "      <th>max</th>\n",
       "      <td>80.000000</td>\n",
       "    </tr>\n",
       "  </tbody>\n",
       "</table>\n",
       "</div>"
      ],
      "text/plain": [
       "              Age\n",
       "count  714.000000\n",
       "mean    29.699118\n",
       "std     14.526497\n",
       "min      0.420000\n",
       "25%     20.125000\n",
       "50%     28.000000\n",
       "75%     38.000000\n",
       "max     80.000000"
      ]
     },
     "execution_count": 18,
     "metadata": {},
     "output_type": "execute_result"
    }
   ],
   "source": [
    "ages.describe()"
   ]
  },
  {
   "cell_type": "code",
   "execution_count": 19,
   "id": "6cbd9911",
   "metadata": {},
   "outputs": [
    {
     "data": {
      "text/plain": [
       "under10s     62\n",
       "10s         102\n",
       "20s         220\n",
       "30s         167\n",
       "40s          89\n",
       "50s          48\n",
       "60s          19\n",
       "70s           6\n",
       "80s           1\n",
       "Name: count, dtype: int64"
      ]
     },
     "execution_count": 19,
     "metadata": {},
     "output_type": "execute_result"
    }
   ],
   "source": [
    "#  계급 구간을 10단위로 계급을 나누어 도수분포표 만들고\n",
    "# 도수분포표를 시각화한 히스토그램 그려보기\n",
    "bins = (0,10,20,30,40,50,60,70,80,90)\n",
    "labels =('under10s', '10s','20s','30s','40s','50s','60s','70s','80s')\n",
    "\n",
    "fdt = pd.cut(ages['Age'].values, bins=bins, labels=labels, right=False)\n",
    "print(fdt.value_counts())  #age 컬럼의 도수분포표\n",
    "sns.histplot(ages['Age'],bins=bins)"
   ]
  },
  {
   "cell_type": "code",
   "execution_count": 20,
   "id": "185904a9",
   "metadata": {},
   "outputs": [
    {
     "data": {
      "text/plain": [
       "<Axes: xlabel='Age', ylabel='Count'>"
      ]
     },
     "execution_count": 20,
     "metadata": {},
     "output_type": "execute_result"
    },
    {
     "data": {
      "image/png": "[encoded data removed]",
      "text/plain": [
       "<Figure size 640x480 with 1 Axes>"
      ]
     },
     "metadata": {},
     "output_type": "display_data"
    }
   ],
   "source": [
    "sns.histplot(ages['Age'],bins=bins)"
   ]
  },
  {
   "cell_type": "markdown",
   "id": "fd8d63d8",
   "metadata": {},
   "source": [
    "### (2) 상대도수분포표(Relative Freqeuncy Distribution Table)\n",
    "* 상대도수: 계급의 도수 / 전체 도수의 합계, 어떤 계급의 도수가 전체 도수에서 몇 %를 차지하는지 나타내는 값\n",
    "* 상대도수분포표 : 모든 계급의 상대도수를 구해서 더한 것"
   ]
  },
  {
   "cell_type": "code",
   "execution_count": 21,
   "id": "930d5ab7",
   "metadata": {},
   "outputs": [
    {
     "data": {
      "text/html": [
       "<div>\n",
       "<style scoped>\n",
       "    .dataframe tbody tr th:only-of-type {\n",
       "        vertical-align: middle;\n",
       "    }\n",
       "\n",
       "    .dataframe tbody tr th {\n",
       "        vertical-align: top;\n",
       "    }\n",
       "\n",
       "    .dataframe thead th {\n",
       "        text-align: right;\n",
       "    }\n",
       "</style>\n",
       "<table border=\"1\" class=\"dataframe\">\n",
       "  <thead>\n",
       "    <tr style=\"text-align: right;\">\n",
       "      <th></th>\n",
       "      <th>count</th>\n",
       "    </tr>\n",
       "  </thead>\n",
       "  <tbody>\n",
       "    <tr>\n",
       "      <th>under10s</th>\n",
       "      <td>62</td>\n",
       "    </tr>\n",
       "    <tr>\n",
       "      <th>10s</th>\n",
       "      <td>102</td>\n",
       "    </tr>\n",
       "    <tr>\n",
       "      <th>20s</th>\n",
       "      <td>220</td>\n",
       "    </tr>\n",
       "    <tr>\n",
       "      <th>30s</th>\n",
       "      <td>167</td>\n",
       "    </tr>\n",
       "    <tr>\n",
       "      <th>40s</th>\n",
       "      <td>89</td>\n",
       "    </tr>\n",
       "    <tr>\n",
       "      <th>50s</th>\n",
       "      <td>48</td>\n",
       "    </tr>\n",
       "    <tr>\n",
       "      <th>60s</th>\n",
       "      <td>19</td>\n",
       "    </tr>\n",
       "    <tr>\n",
       "      <th>70s</th>\n",
       "      <td>6</td>\n",
       "    </tr>\n",
       "    <tr>\n",
       "      <th>80s</th>\n",
       "      <td>1</td>\n",
       "    </tr>\n",
       "  </tbody>\n",
       "</table>\n",
       "</div>"
      ],
      "text/plain": [
       "          count\n",
       "under10s     62\n",
       "10s         102\n",
       "20s         220\n",
       "30s         167\n",
       "40s          89\n",
       "50s          48\n",
       "60s          19\n",
       "70s           6\n",
       "80s           1"
      ]
     },
     "execution_count": 21,
     "metadata": {},
     "output_type": "execute_result"
    }
   ],
   "source": [
    "fde_df = pd.DataFrame(fdt.value_counts())\n",
    "fde_df"
   ]
  },
  {
   "cell_type": "code",
   "execution_count": 22,
   "id": "e00e3e87",
   "metadata": {},
   "outputs": [],
   "source": [
    "# 상대도수분포표 만들기\n",
    "# 상대도수: 계급의 도수 / 전체 도수의 합계"
   ]
  },
  {
   "cell_type": "code",
   "execution_count": 24,
   "id": "96520721",
   "metadata": {},
   "outputs": [],
   "source": [
    "fde_df['rfdt']= round(fde_df['count']/fde_df['count'].sum(),3)*100"
   ]
  },
  {
   "cell_type": "code",
   "execution_count": 25,
   "id": "6aef127e",
   "metadata": {},
   "outputs": [
    {
     "data": {
      "text/html": [
       "<div>\n",
       "<style scoped>\n",
       "    .dataframe tbody tr th:only-of-type {\n",
       "        vertical-align: middle;\n",
       "    }\n",
       "\n",
       "    .dataframe tbody tr th {\n",
       "        vertical-align: top;\n",
       "    }\n",
       "\n",
       "    .dataframe thead th {\n",
       "        text-align: right;\n",
       "    }\n",
       "</style>\n",
       "<table border=\"1\" class=\"dataframe\">\n",
       "  <thead>\n",
       "    <tr style=\"text-align: right;\">\n",
       "      <th></th>\n",
       "      <th>count</th>\n",
       "      <th>rfdt</th>\n",
       "    </tr>\n",
       "  </thead>\n",
       "  <tbody>\n",
       "    <tr>\n",
       "      <th>under10s</th>\n",
       "      <td>62</td>\n",
       "      <td>8.7</td>\n",
       "    </tr>\n",
       "    <tr>\n",
       "      <th>10s</th>\n",
       "      <td>102</td>\n",
       "      <td>14.3</td>\n",
       "    </tr>\n",
       "    <tr>\n",
       "      <th>20s</th>\n",
       "      <td>220</td>\n",
       "      <td>30.8</td>\n",
       "    </tr>\n",
       "    <tr>\n",
       "      <th>30s</th>\n",
       "      <td>167</td>\n",
       "      <td>23.4</td>\n",
       "    </tr>\n",
       "    <tr>\n",
       "      <th>40s</th>\n",
       "      <td>89</td>\n",
       "      <td>12.5</td>\n",
       "    </tr>\n",
       "    <tr>\n",
       "      <th>50s</th>\n",
       "      <td>48</td>\n",
       "      <td>6.7</td>\n",
       "    </tr>\n",
       "    <tr>\n",
       "      <th>60s</th>\n",
       "      <td>19</td>\n",
       "      <td>2.7</td>\n",
       "    </tr>\n",
       "    <tr>\n",
       "      <th>70s</th>\n",
       "      <td>6</td>\n",
       "      <td>0.8</td>\n",
       "    </tr>\n",
       "    <tr>\n",
       "      <th>80s</th>\n",
       "      <td>1</td>\n",
       "      <td>0.1</td>\n",
       "    </tr>\n",
       "  </tbody>\n",
       "</table>\n",
       "</div>"
      ],
      "text/plain": [
       "          count  rfdt\n",
       "under10s     62   8.7\n",
       "10s         102  14.3\n",
       "20s         220  30.8\n",
       "30s         167  23.4\n",
       "40s          89  12.5\n",
       "50s          48   6.7\n",
       "60s          19   2.7\n",
       "70s           6   0.8\n",
       "80s           1   0.1"
      ]
     },
     "execution_count": 25,
     "metadata": {},
     "output_type": "execute_result"
    }
   ],
   "source": [
    "fde_df"
   ]
  },
  {
   "cell_type": "code",
   "execution_count": null,
   "id": "e0e9ad26",
   "metadata": {},
   "outputs": [],
   "source": []
  },
  {
   "cell_type": "code",
   "execution_count": 27,
   "id": "6f805a23",
   "metadata": {},
   "outputs": [
    {
     "data": {
      "text/plain": [
       "<Axes: xlabel='Age', ylabel='Probability'>"
      ]
     },
     "execution_count": 27,
     "metadata": {},
     "output_type": "execute_result"
    },
    {
     "data": {
      "image/png": "[encoded data removed]",
      "text/plain": [
       "<Figure size 640x480 with 1 Axes>"
      ]
     },
     "metadata": {},
     "output_type": "display_data"
    }
   ],
   "source": [
    "sns.histplot(ages['Age'], bins=bins, stat='probability', kde = False)"
   ]
  },
  {
   "cell_type": "markdown",
   "id": "e1bd82f7",
   "metadata": {},
   "source": [
    "### 구간화가 필요한 데이터에서 계급의 개수를 몇개로 해야할지?\n",
    "* 스터지스 공식: 도수분포표나 히스토그램을 만들 때 계급의 수가 적당한지 판단하는 기준이 되는 공식\n",
    "* 전체 데이터 개수를 $ 2^n $ 이라 하고, 그때 계급 수를 $ n+1 $ 한다."
   ]
  },
  {
   "cell_type": "markdown",
   "id": "b0b4e574",
   "metadata": {},
   "source": [
    "$ 2^n $ "
   ]
  },
  {
   "cell_type": "code",
   "execution_count": 28,
   "id": "1bfd309d",
   "metadata": {},
   "outputs": [
    {
     "data": {
      "text/plain": [
       "891"
      ]
     },
     "execution_count": 28,
     "metadata": {},
     "output_type": "execute_result"
    }
   ],
   "source": [
    "len(ages['Age'])"
   ]
  },
  {
   "cell_type": "code",
   "execution_count": 30,
   "id": "e53c7732",
   "metadata": {},
   "outputs": [
    {
     "name": "stdout",
     "output_type": "stream",
     "text": [
      "11\n"
     ]
    }
   ],
   "source": [
    "# 891은 2의 몇슨? =n, n+1\n",
    "n= math.log(891,2)\n",
    "print(round(n+1))"
   ]
  },
  {
   "cell_type": "markdown",
   "id": "c1534782",
   "metadata": {},
   "source": [
    "## 3) 편차(deviation)\n",
    "* 데이터와 평균이 떨어진거리, 데이터와 평균 값 과의 차이\n",
    "* 데이터 - 평균값"
   ]
  },
  {
   "cell_type": "code",
   "execution_count": 33,
   "id": "2dc3f480",
   "metadata": {},
   "outputs": [
    {
     "data": {
      "text/html": [
       "<div>\n",
       "<style scoped>\n",
       "    .dataframe tbody tr th:only-of-type {\n",
       "        vertical-align: middle;\n",
       "    }\n",
       "\n",
       "    .dataframe tbody tr th {\n",
       "        vertical-align: top;\n",
       "    }\n",
       "\n",
       "    .dataframe thead th {\n",
       "        text-align: right;\n",
       "    }\n",
       "</style>\n",
       "<table border=\"1\" class=\"dataframe\">\n",
       "  <thead>\n",
       "    <tr style=\"text-align: right;\">\n",
       "      <th></th>\n",
       "      <th>표본</th>\n",
       "      <th>평균</th>\n",
       "    </tr>\n",
       "  </thead>\n",
       "  <tbody>\n",
       "    <tr>\n",
       "      <th>0</th>\n",
       "      <td>2</td>\n",
       "      <td>5.0</td>\n",
       "    </tr>\n",
       "    <tr>\n",
       "      <th>1</th>\n",
       "      <td>3</td>\n",
       "      <td>5.0</td>\n",
       "    </tr>\n",
       "    <tr>\n",
       "      <th>2</th>\n",
       "      <td>3</td>\n",
       "      <td>5.0</td>\n",
       "    </tr>\n",
       "    <tr>\n",
       "      <th>3</th>\n",
       "      <td>4</td>\n",
       "      <td>5.0</td>\n",
       "    </tr>\n",
       "    <tr>\n",
       "      <th>4</th>\n",
       "      <td>4</td>\n",
       "      <td>5.0</td>\n",
       "    </tr>\n",
       "    <tr>\n",
       "      <th>5</th>\n",
       "      <td>5</td>\n",
       "      <td>5.0</td>\n",
       "    </tr>\n",
       "    <tr>\n",
       "      <th>6</th>\n",
       "      <td>7</td>\n",
       "      <td>5.0</td>\n",
       "    </tr>\n",
       "    <tr>\n",
       "      <th>7</th>\n",
       "      <td>7</td>\n",
       "      <td>5.0</td>\n",
       "    </tr>\n",
       "    <tr>\n",
       "      <th>8</th>\n",
       "      <td>7</td>\n",
       "      <td>5.0</td>\n",
       "    </tr>\n",
       "    <tr>\n",
       "      <th>9</th>\n",
       "      <td>8</td>\n",
       "      <td>5.0</td>\n",
       "    </tr>\n",
       "  </tbody>\n",
       "</table>\n",
       "</div>"
      ],
      "text/plain": [
       "   표본   평균\n",
       "0   2  5.0\n",
       "1   3  5.0\n",
       "2   3  5.0\n",
       "3   4  5.0\n",
       "4   4  5.0\n",
       "5   5  5.0\n",
       "6   7  5.0\n",
       "7   7  5.0\n",
       "8   7  5.0\n",
       "9   8  5.0"
      ]
     },
     "execution_count": 33,
     "metadata": {},
     "output_type": "execute_result"
    }
   ],
   "source": [
    "a['평균']=a['표본'].mean()\n",
    "a"
   ]
  },
  {
   "cell_type": "code",
   "execution_count": 34,
   "id": "08e60ede",
   "metadata": {},
   "outputs": [
    {
     "data": {
      "text/html": [
       "<div>\n",
       "<style scoped>\n",
       "    .dataframe tbody tr th:only-of-type {\n",
       "        vertical-align: middle;\n",
       "    }\n",
       "\n",
       "    .dataframe tbody tr th {\n",
       "        vertical-align: top;\n",
       "    }\n",
       "\n",
       "    .dataframe thead th {\n",
       "        text-align: right;\n",
       "    }\n",
       "</style>\n",
       "<table border=\"1\" class=\"dataframe\">\n",
       "  <thead>\n",
       "    <tr style=\"text-align: right;\">\n",
       "      <th></th>\n",
       "      <th>표본</th>\n",
       "      <th>평균</th>\n",
       "      <th>편차</th>\n",
       "    </tr>\n",
       "  </thead>\n",
       "  <tbody>\n",
       "    <tr>\n",
       "      <th>0</th>\n",
       "      <td>2</td>\n",
       "      <td>5.0</td>\n",
       "      <td>-3.0</td>\n",
       "    </tr>\n",
       "    <tr>\n",
       "      <th>1</th>\n",
       "      <td>3</td>\n",
       "      <td>5.0</td>\n",
       "      <td>-2.0</td>\n",
       "    </tr>\n",
       "    <tr>\n",
       "      <th>2</th>\n",
       "      <td>3</td>\n",
       "      <td>5.0</td>\n",
       "      <td>-2.0</td>\n",
       "    </tr>\n",
       "    <tr>\n",
       "      <th>3</th>\n",
       "      <td>4</td>\n",
       "      <td>5.0</td>\n",
       "      <td>-1.0</td>\n",
       "    </tr>\n",
       "    <tr>\n",
       "      <th>4</th>\n",
       "      <td>4</td>\n",
       "      <td>5.0</td>\n",
       "      <td>-1.0</td>\n",
       "    </tr>\n",
       "    <tr>\n",
       "      <th>5</th>\n",
       "      <td>5</td>\n",
       "      <td>5.0</td>\n",
       "      <td>0.0</td>\n",
       "    </tr>\n",
       "    <tr>\n",
       "      <th>6</th>\n",
       "      <td>7</td>\n",
       "      <td>5.0</td>\n",
       "      <td>2.0</td>\n",
       "    </tr>\n",
       "    <tr>\n",
       "      <th>7</th>\n",
       "      <td>7</td>\n",
       "      <td>5.0</td>\n",
       "      <td>2.0</td>\n",
       "    </tr>\n",
       "    <tr>\n",
       "      <th>8</th>\n",
       "      <td>7</td>\n",
       "      <td>5.0</td>\n",
       "      <td>2.0</td>\n",
       "    </tr>\n",
       "    <tr>\n",
       "      <th>9</th>\n",
       "      <td>8</td>\n",
       "      <td>5.0</td>\n",
       "      <td>3.0</td>\n",
       "    </tr>\n",
       "  </tbody>\n",
       "</table>\n",
       "</div>"
      ],
      "text/plain": [
       "   표본   평균   편차\n",
       "0   2  5.0 -3.0\n",
       "1   3  5.0 -2.0\n",
       "2   3  5.0 -2.0\n",
       "3   4  5.0 -1.0\n",
       "4   4  5.0 -1.0\n",
       "5   5  5.0  0.0\n",
       "6   7  5.0  2.0\n",
       "7   7  5.0  2.0\n",
       "8   7  5.0  2.0\n",
       "9   8  5.0  3.0"
      ]
     },
     "execution_count": 34,
     "metadata": {},
     "output_type": "execute_result"
    }
   ],
   "source": [
    "a['편차']=a['표본'] -a['평균']\n",
    "a"
   ]
  },
  {
   "cell_type": "markdown",
   "id": "0e0dba78",
   "metadata": {},
   "source": [
    "## 4) 분산(variance): 편차 제곱의 합 / 데이터수\n",
    "* 모분산: $ \\sigma^2 $  <br>\n",
    "$ \\sigma^2 ={\\sum(x_i - \\mu)^2 \\over N} $\n",
    "### 편차 제곱의 합 / (데이터수-1)\n",
    "* 표본분산: $ s^2 $  <br>\n",
    "$ s^2 ={\\sum(x_i - \\bar{x})^2 \\over n-1} $"
   ]
  },
  {
   "cell_type": "code",
   "execution_count": 35,
   "id": "d4769767",
   "metadata": {},
   "outputs": [
    {
     "data": {
      "text/plain": [
       "40.0"
      ]
     },
     "execution_count": 35,
     "metadata": {},
     "output_type": "execute_result"
    }
   ],
   "source": [
    "# 분산: 편차제곱의 합 / 데이터 수\n",
    "(a['편차']**2).sum()"
   ]
  },
  {
   "cell_type": "code",
   "execution_count": 36,
   "id": "ec0b34df",
   "metadata": {},
   "outputs": [],
   "source": [
    "a['편차제곱']=a['편차']**2"
   ]
  },
  {
   "cell_type": "code",
   "execution_count": 37,
   "id": "3d16e615",
   "metadata": {},
   "outputs": [
    {
     "data": {
      "text/html": [
       "<div>\n",
       "<style scoped>\n",
       "    .dataframe tbody tr th:only-of-type {\n",
       "        vertical-align: middle;\n",
       "    }\n",
       "\n",
       "    .dataframe tbody tr th {\n",
       "        vertical-align: top;\n",
       "    }\n",
       "\n",
       "    .dataframe thead th {\n",
       "        text-align: right;\n",
       "    }\n",
       "</style>\n",
       "<table border=\"1\" class=\"dataframe\">\n",
       "  <thead>\n",
       "    <tr style=\"text-align: right;\">\n",
       "      <th></th>\n",
       "      <th>표본</th>\n",
       "      <th>평균</th>\n",
       "      <th>편차</th>\n",
       "      <th>편차제곱</th>\n",
       "      <th>분산</th>\n",
       "    </tr>\n",
       "  </thead>\n",
       "  <tbody>\n",
       "    <tr>\n",
       "      <th>0</th>\n",
       "      <td>2</td>\n",
       "      <td>5.0</td>\n",
       "      <td>-3.0</td>\n",
       "      <td>9.0</td>\n",
       "      <td>4.0</td>\n",
       "    </tr>\n",
       "    <tr>\n",
       "      <th>1</th>\n",
       "      <td>3</td>\n",
       "      <td>5.0</td>\n",
       "      <td>-2.0</td>\n",
       "      <td>4.0</td>\n",
       "      <td>4.0</td>\n",
       "    </tr>\n",
       "    <tr>\n",
       "      <th>2</th>\n",
       "      <td>3</td>\n",
       "      <td>5.0</td>\n",
       "      <td>-2.0</td>\n",
       "      <td>4.0</td>\n",
       "      <td>4.0</td>\n",
       "    </tr>\n",
       "    <tr>\n",
       "      <th>3</th>\n",
       "      <td>4</td>\n",
       "      <td>5.0</td>\n",
       "      <td>-1.0</td>\n",
       "      <td>1.0</td>\n",
       "      <td>4.0</td>\n",
       "    </tr>\n",
       "    <tr>\n",
       "      <th>4</th>\n",
       "      <td>4</td>\n",
       "      <td>5.0</td>\n",
       "      <td>-1.0</td>\n",
       "      <td>1.0</td>\n",
       "      <td>4.0</td>\n",
       "    </tr>\n",
       "    <tr>\n",
       "      <th>5</th>\n",
       "      <td>5</td>\n",
       "      <td>5.0</td>\n",
       "      <td>0.0</td>\n",
       "      <td>0.0</td>\n",
       "      <td>4.0</td>\n",
       "    </tr>\n",
       "    <tr>\n",
       "      <th>6</th>\n",
       "      <td>7</td>\n",
       "      <td>5.0</td>\n",
       "      <td>2.0</td>\n",
       "      <td>4.0</td>\n",
       "      <td>4.0</td>\n",
       "    </tr>\n",
       "    <tr>\n",
       "      <th>7</th>\n",
       "      <td>7</td>\n",
       "      <td>5.0</td>\n",
       "      <td>2.0</td>\n",
       "      <td>4.0</td>\n",
       "      <td>4.0</td>\n",
       "    </tr>\n",
       "    <tr>\n",
       "      <th>8</th>\n",
       "      <td>7</td>\n",
       "      <td>5.0</td>\n",
       "      <td>2.0</td>\n",
       "      <td>4.0</td>\n",
       "      <td>4.0</td>\n",
       "    </tr>\n",
       "    <tr>\n",
       "      <th>9</th>\n",
       "      <td>8</td>\n",
       "      <td>5.0</td>\n",
       "      <td>3.0</td>\n",
       "      <td>9.0</td>\n",
       "      <td>4.0</td>\n",
       "    </tr>\n",
       "  </tbody>\n",
       "</table>\n",
       "</div>"
      ],
      "text/plain": [
       "   표본   평균   편차  편차제곱   분산\n",
       "0   2  5.0 -3.0   9.0  4.0\n",
       "1   3  5.0 -2.0   4.0  4.0\n",
       "2   3  5.0 -2.0   4.0  4.0\n",
       "3   4  5.0 -1.0   1.0  4.0\n",
       "4   4  5.0 -1.0   1.0  4.0\n",
       "5   5  5.0  0.0   0.0  4.0\n",
       "6   7  5.0  2.0   4.0  4.0\n",
       "7   7  5.0  2.0   4.0  4.0\n",
       "8   7  5.0  2.0   4.0  4.0\n",
       "9   8  5.0  3.0   9.0  4.0"
      ]
     },
     "execution_count": 37,
     "metadata": {},
     "output_type": "execute_result"
    }
   ],
   "source": [
    "a['분산'] = a['편차제곱'].sum() / len(a['편차제곱'])\n",
    "a"
   ]
  },
  {
   "cell_type": "code",
   "execution_count": 38,
   "id": "dbcfacdf",
   "metadata": {},
   "outputs": [
    {
     "data": {
      "text/plain": [
       "4.444444444444445"
      ]
     },
     "execution_count": 38,
     "metadata": {},
     "output_type": "execute_result"
    }
   ],
   "source": [
    "# 분산함수 .var() :표본분산을 구해주는 함수\n",
    "a['표본'].var()"
   ]
  },
  {
   "cell_type": "markdown",
   "id": "2d6f8753",
   "metadata": {},
   "source": [
    "-> var함수는 표본분산을 구해주는 함수이다\n"
   ]
  },
  {
   "cell_type": "code",
   "execution_count": 41,
   "id": "b2db3ca1",
   "metadata": {},
   "outputs": [
    {
     "data": {
      "text/html": [
       "<div>\n",
       "<style scoped>\n",
       "    .dataframe tbody tr th:only-of-type {\n",
       "        vertical-align: middle;\n",
       "    }\n",
       "\n",
       "    .dataframe tbody tr th {\n",
       "        vertical-align: top;\n",
       "    }\n",
       "\n",
       "    .dataframe thead th {\n",
       "        text-align: right;\n",
       "    }\n",
       "</style>\n",
       "<table border=\"1\" class=\"dataframe\">\n",
       "  <thead>\n",
       "    <tr style=\"text-align: right;\">\n",
       "      <th></th>\n",
       "      <th>표본</th>\n",
       "      <th>평균</th>\n",
       "      <th>편차</th>\n",
       "      <th>편차제곱</th>\n",
       "      <th>분산</th>\n",
       "      <th>표본분산</th>\n",
       "    </tr>\n",
       "  </thead>\n",
       "  <tbody>\n",
       "    <tr>\n",
       "      <th>0</th>\n",
       "      <td>2</td>\n",
       "      <td>5.0</td>\n",
       "      <td>-3.0</td>\n",
       "      <td>9.0</td>\n",
       "      <td>4.0</td>\n",
       "      <td>4.444444</td>\n",
       "    </tr>\n",
       "    <tr>\n",
       "      <th>1</th>\n",
       "      <td>3</td>\n",
       "      <td>5.0</td>\n",
       "      <td>-2.0</td>\n",
       "      <td>4.0</td>\n",
       "      <td>4.0</td>\n",
       "      <td>4.444444</td>\n",
       "    </tr>\n",
       "    <tr>\n",
       "      <th>2</th>\n",
       "      <td>3</td>\n",
       "      <td>5.0</td>\n",
       "      <td>-2.0</td>\n",
       "      <td>4.0</td>\n",
       "      <td>4.0</td>\n",
       "      <td>4.444444</td>\n",
       "    </tr>\n",
       "    <tr>\n",
       "      <th>3</th>\n",
       "      <td>4</td>\n",
       "      <td>5.0</td>\n",
       "      <td>-1.0</td>\n",
       "      <td>1.0</td>\n",
       "      <td>4.0</td>\n",
       "      <td>4.444444</td>\n",
       "    </tr>\n",
       "    <tr>\n",
       "      <th>4</th>\n",
       "      <td>4</td>\n",
       "      <td>5.0</td>\n",
       "      <td>-1.0</td>\n",
       "      <td>1.0</td>\n",
       "      <td>4.0</td>\n",
       "      <td>4.444444</td>\n",
       "    </tr>\n",
       "    <tr>\n",
       "      <th>5</th>\n",
       "      <td>5</td>\n",
       "      <td>5.0</td>\n",
       "      <td>0.0</td>\n",
       "      <td>0.0</td>\n",
       "      <td>4.0</td>\n",
       "      <td>4.444444</td>\n",
       "    </tr>\n",
       "    <tr>\n",
       "      <th>6</th>\n",
       "      <td>7</td>\n",
       "      <td>5.0</td>\n",
       "      <td>2.0</td>\n",
       "      <td>4.0</td>\n",
       "      <td>4.0</td>\n",
       "      <td>4.444444</td>\n",
       "    </tr>\n",
       "    <tr>\n",
       "      <th>7</th>\n",
       "      <td>7</td>\n",
       "      <td>5.0</td>\n",
       "      <td>2.0</td>\n",
       "      <td>4.0</td>\n",
       "      <td>4.0</td>\n",
       "      <td>4.444444</td>\n",
       "    </tr>\n",
       "    <tr>\n",
       "      <th>8</th>\n",
       "      <td>7</td>\n",
       "      <td>5.0</td>\n",
       "      <td>2.0</td>\n",
       "      <td>4.0</td>\n",
       "      <td>4.0</td>\n",
       "      <td>4.444444</td>\n",
       "    </tr>\n",
       "    <tr>\n",
       "      <th>9</th>\n",
       "      <td>8</td>\n",
       "      <td>5.0</td>\n",
       "      <td>3.0</td>\n",
       "      <td>9.0</td>\n",
       "      <td>4.0</td>\n",
       "      <td>4.444444</td>\n",
       "    </tr>\n",
       "  </tbody>\n",
       "</table>\n",
       "</div>"
      ],
      "text/plain": [
       "   표본   평균   편차  편차제곱   분산      표본분산\n",
       "0   2  5.0 -3.0   9.0  4.0  4.444444\n",
       "1   3  5.0 -2.0   4.0  4.0  4.444444\n",
       "2   3  5.0 -2.0   4.0  4.0  4.444444\n",
       "3   4  5.0 -1.0   1.0  4.0  4.444444\n",
       "4   4  5.0 -1.0   1.0  4.0  4.444444\n",
       "5   5  5.0  0.0   0.0  4.0  4.444444\n",
       "6   7  5.0  2.0   4.0  4.0  4.444444\n",
       "7   7  5.0  2.0   4.0  4.0  4.444444\n",
       "8   7  5.0  2.0   4.0  4.0  4.444444\n",
       "9   8  5.0  3.0   9.0  4.0  4.444444"
      ]
     },
     "execution_count": 41,
     "metadata": {},
     "output_type": "execute_result"
    }
   ],
   "source": [
    "a['표본분산'] = a['편차제곱'].sum() / (len(a['편차제곱'])-1)\n",
    "a"
   ]
  },
  {
   "cell_type": "markdown",
   "id": "4e28c135",
   "metadata": {},
   "source": [
    "## 5) 표준편차(standard diviation): 분산의 제곱근\n",
    "* 모집단의 표준편차 $ \\sigma $ <br>\n",
    "$ \\sigma =\\sqrt{\\sum(x_i - \\mu)^2 \\over N} $\n",
    "<br><br>\n",
    "\n",
    "* 표본집단의 표준편차 $ s $ <br>\n",
    "$ s =\\sqrt {\\sum(x_i - \\bar{x})^2 \\over n-1} $"
   ]
  },
  {
   "cell_type": "code",
   "execution_count": 42,
   "id": "f692f871",
   "metadata": {},
   "outputs": [
    {
     "data": {
      "text/html": [
       "<div>\n",
       "<style scoped>\n",
       "    .dataframe tbody tr th:only-of-type {\n",
       "        vertical-align: middle;\n",
       "    }\n",
       "\n",
       "    .dataframe tbody tr th {\n",
       "        vertical-align: top;\n",
       "    }\n",
       "\n",
       "    .dataframe thead th {\n",
       "        text-align: right;\n",
       "    }\n",
       "</style>\n",
       "<table border=\"1\" class=\"dataframe\">\n",
       "  <thead>\n",
       "    <tr style=\"text-align: right;\">\n",
       "      <th></th>\n",
       "      <th>표본</th>\n",
       "      <th>평균</th>\n",
       "      <th>편차</th>\n",
       "      <th>편차제곱</th>\n",
       "      <th>분산</th>\n",
       "      <th>표본분산</th>\n",
       "      <th>표준편차</th>\n",
       "    </tr>\n",
       "  </thead>\n",
       "  <tbody>\n",
       "    <tr>\n",
       "      <th>0</th>\n",
       "      <td>2</td>\n",
       "      <td>5.0</td>\n",
       "      <td>-3.0</td>\n",
       "      <td>9.0</td>\n",
       "      <td>4.0</td>\n",
       "      <td>4.444444</td>\n",
       "      <td>2.0</td>\n",
       "    </tr>\n",
       "    <tr>\n",
       "      <th>1</th>\n",
       "      <td>3</td>\n",
       "      <td>5.0</td>\n",
       "      <td>-2.0</td>\n",
       "      <td>4.0</td>\n",
       "      <td>4.0</td>\n",
       "      <td>4.444444</td>\n",
       "      <td>2.0</td>\n",
       "    </tr>\n",
       "    <tr>\n",
       "      <th>2</th>\n",
       "      <td>3</td>\n",
       "      <td>5.0</td>\n",
       "      <td>-2.0</td>\n",
       "      <td>4.0</td>\n",
       "      <td>4.0</td>\n",
       "      <td>4.444444</td>\n",
       "      <td>2.0</td>\n",
       "    </tr>\n",
       "    <tr>\n",
       "      <th>3</th>\n",
       "      <td>4</td>\n",
       "      <td>5.0</td>\n",
       "      <td>-1.0</td>\n",
       "      <td>1.0</td>\n",
       "      <td>4.0</td>\n",
       "      <td>4.444444</td>\n",
       "      <td>2.0</td>\n",
       "    </tr>\n",
       "    <tr>\n",
       "      <th>4</th>\n",
       "      <td>4</td>\n",
       "      <td>5.0</td>\n",
       "      <td>-1.0</td>\n",
       "      <td>1.0</td>\n",
       "      <td>4.0</td>\n",
       "      <td>4.444444</td>\n",
       "      <td>2.0</td>\n",
       "    </tr>\n",
       "    <tr>\n",
       "      <th>5</th>\n",
       "      <td>5</td>\n",
       "      <td>5.0</td>\n",
       "      <td>0.0</td>\n",
       "      <td>0.0</td>\n",
       "      <td>4.0</td>\n",
       "      <td>4.444444</td>\n",
       "      <td>2.0</td>\n",
       "    </tr>\n",
       "    <tr>\n",
       "      <th>6</th>\n",
       "      <td>7</td>\n",
       "      <td>5.0</td>\n",
       "      <td>2.0</td>\n",
       "      <td>4.0</td>\n",
       "      <td>4.0</td>\n",
       "      <td>4.444444</td>\n",
       "      <td>2.0</td>\n",
       "    </tr>\n",
       "    <tr>\n",
       "      <th>7</th>\n",
       "      <td>7</td>\n",
       "      <td>5.0</td>\n",
       "      <td>2.0</td>\n",
       "      <td>4.0</td>\n",
       "      <td>4.0</td>\n",
       "      <td>4.444444</td>\n",
       "      <td>2.0</td>\n",
       "    </tr>\n",
       "    <tr>\n",
       "      <th>8</th>\n",
       "      <td>7</td>\n",
       "      <td>5.0</td>\n",
       "      <td>2.0</td>\n",
       "      <td>4.0</td>\n",
       "      <td>4.0</td>\n",
       "      <td>4.444444</td>\n",
       "      <td>2.0</td>\n",
       "    </tr>\n",
       "    <tr>\n",
       "      <th>9</th>\n",
       "      <td>8</td>\n",
       "      <td>5.0</td>\n",
       "      <td>3.0</td>\n",
       "      <td>9.0</td>\n",
       "      <td>4.0</td>\n",
       "      <td>4.444444</td>\n",
       "      <td>2.0</td>\n",
       "    </tr>\n",
       "  </tbody>\n",
       "</table>\n",
       "</div>"
      ],
      "text/plain": [
       "   표본   평균   편차  편차제곱   분산      표본분산  표준편차\n",
       "0   2  5.0 -3.0   9.0  4.0  4.444444   2.0\n",
       "1   3  5.0 -2.0   4.0  4.0  4.444444   2.0\n",
       "2   3  5.0 -2.0   4.0  4.0  4.444444   2.0\n",
       "3   4  5.0 -1.0   1.0  4.0  4.444444   2.0\n",
       "4   4  5.0 -1.0   1.0  4.0  4.444444   2.0\n",
       "5   5  5.0  0.0   0.0  4.0  4.444444   2.0\n",
       "6   7  5.0  2.0   4.0  4.0  4.444444   2.0\n",
       "7   7  5.0  2.0   4.0  4.0  4.444444   2.0\n",
       "8   7  5.0  2.0   4.0  4.0  4.444444   2.0\n",
       "9   8  5.0  3.0   9.0  4.0  4.444444   2.0"
      ]
     },
     "execution_count": 42,
     "metadata": {},
     "output_type": "execute_result"
    }
   ],
   "source": [
    "a['표준편차'] =a['분산'].apply(math.sqrt)\n",
    "a"
   ]
  },
  {
   "cell_type": "code",
   "execution_count": 43,
   "id": "3af4b6f6",
   "metadata": {},
   "outputs": [
    {
     "data": {
      "text/plain": [
       "2.1081851067789197"
      ]
     },
     "execution_count": 43,
     "metadata": {},
     "output_type": "execute_result"
    }
   ],
   "source": [
    "# 표준편차를 구하는 함수 .std() 표본의 표준편차\n",
    "a['표본'].std()"
   ]
  },
  {
   "cell_type": "code",
   "execution_count": 45,
   "id": "f7ea10dc",
   "metadata": {},
   "outputs": [
    {
     "data": {
      "text/html": [
       "<div>\n",
       "<style scoped>\n",
       "    .dataframe tbody tr th:only-of-type {\n",
       "        vertical-align: middle;\n",
       "    }\n",
       "\n",
       "    .dataframe tbody tr th {\n",
       "        vertical-align: top;\n",
       "    }\n",
       "\n",
       "    .dataframe thead th {\n",
       "        text-align: right;\n",
       "    }\n",
       "</style>\n",
       "<table border=\"1\" class=\"dataframe\">\n",
       "  <thead>\n",
       "    <tr style=\"text-align: right;\">\n",
       "      <th></th>\n",
       "      <th>표본</th>\n",
       "      <th>평균</th>\n",
       "      <th>편차</th>\n",
       "      <th>편차제곱</th>\n",
       "      <th>분산</th>\n",
       "      <th>표본분산</th>\n",
       "      <th>표준편차</th>\n",
       "      <th>표본표준편차</th>\n",
       "    </tr>\n",
       "  </thead>\n",
       "  <tbody>\n",
       "    <tr>\n",
       "      <th>0</th>\n",
       "      <td>2</td>\n",
       "      <td>5.0</td>\n",
       "      <td>-3.0</td>\n",
       "      <td>9.0</td>\n",
       "      <td>4.0</td>\n",
       "      <td>4.444444</td>\n",
       "      <td>2.0</td>\n",
       "      <td>2.108185</td>\n",
       "    </tr>\n",
       "    <tr>\n",
       "      <th>1</th>\n",
       "      <td>3</td>\n",
       "      <td>5.0</td>\n",
       "      <td>-2.0</td>\n",
       "      <td>4.0</td>\n",
       "      <td>4.0</td>\n",
       "      <td>4.444444</td>\n",
       "      <td>2.0</td>\n",
       "      <td>2.108185</td>\n",
       "    </tr>\n",
       "    <tr>\n",
       "      <th>2</th>\n",
       "      <td>3</td>\n",
       "      <td>5.0</td>\n",
       "      <td>-2.0</td>\n",
       "      <td>4.0</td>\n",
       "      <td>4.0</td>\n",
       "      <td>4.444444</td>\n",
       "      <td>2.0</td>\n",
       "      <td>2.108185</td>\n",
       "    </tr>\n",
       "    <tr>\n",
       "      <th>3</th>\n",
       "      <td>4</td>\n",
       "      <td>5.0</td>\n",
       "      <td>-1.0</td>\n",
       "      <td>1.0</td>\n",
       "      <td>4.0</td>\n",
       "      <td>4.444444</td>\n",
       "      <td>2.0</td>\n",
       "      <td>2.108185</td>\n",
       "    </tr>\n",
       "    <tr>\n",
       "      <th>4</th>\n",
       "      <td>4</td>\n",
       "      <td>5.0</td>\n",
       "      <td>-1.0</td>\n",
       "      <td>1.0</td>\n",
       "      <td>4.0</td>\n",
       "      <td>4.444444</td>\n",
       "      <td>2.0</td>\n",
       "      <td>2.108185</td>\n",
       "    </tr>\n",
       "    <tr>\n",
       "      <th>5</th>\n",
       "      <td>5</td>\n",
       "      <td>5.0</td>\n",
       "      <td>0.0</td>\n",
       "      <td>0.0</td>\n",
       "      <td>4.0</td>\n",
       "      <td>4.444444</td>\n",
       "      <td>2.0</td>\n",
       "      <td>2.108185</td>\n",
       "    </tr>\n",
       "    <tr>\n",
       "      <th>6</th>\n",
       "      <td>7</td>\n",
       "      <td>5.0</td>\n",
       "      <td>2.0</td>\n",
       "      <td>4.0</td>\n",
       "      <td>4.0</td>\n",
       "      <td>4.444444</td>\n",
       "      <td>2.0</td>\n",
       "      <td>2.108185</td>\n",
       "    </tr>\n",
       "    <tr>\n",
       "      <th>7</th>\n",
       "      <td>7</td>\n",
       "      <td>5.0</td>\n",
       "      <td>2.0</td>\n",
       "      <td>4.0</td>\n",
       "      <td>4.0</td>\n",
       "      <td>4.444444</td>\n",
       "      <td>2.0</td>\n",
       "      <td>2.108185</td>\n",
       "    </tr>\n",
       "    <tr>\n",
       "      <th>8</th>\n",
       "      <td>7</td>\n",
       "      <td>5.0</td>\n",
       "      <td>2.0</td>\n",
       "      <td>4.0</td>\n",
       "      <td>4.0</td>\n",
       "      <td>4.444444</td>\n",
       "      <td>2.0</td>\n",
       "      <td>2.108185</td>\n",
       "    </tr>\n",
       "    <tr>\n",
       "      <th>9</th>\n",
       "      <td>8</td>\n",
       "      <td>5.0</td>\n",
       "      <td>3.0</td>\n",
       "      <td>9.0</td>\n",
       "      <td>4.0</td>\n",
       "      <td>4.444444</td>\n",
       "      <td>2.0</td>\n",
       "      <td>2.108185</td>\n",
       "    </tr>\n",
       "  </tbody>\n",
       "</table>\n",
       "</div>"
      ],
      "text/plain": [
       "   표본   평균   편차  편차제곱   분산      표본분산  표준편차    표본표준편차\n",
       "0   2  5.0 -3.0   9.0  4.0  4.444444   2.0  2.108185\n",
       "1   3  5.0 -2.0   4.0  4.0  4.444444   2.0  2.108185\n",
       "2   3  5.0 -2.0   4.0  4.0  4.444444   2.0  2.108185\n",
       "3   4  5.0 -1.0   1.0  4.0  4.444444   2.0  2.108185\n",
       "4   4  5.0 -1.0   1.0  4.0  4.444444   2.0  2.108185\n",
       "5   5  5.0  0.0   0.0  4.0  4.444444   2.0  2.108185\n",
       "6   7  5.0  2.0   4.0  4.0  4.444444   2.0  2.108185\n",
       "7   7  5.0  2.0   4.0  4.0  4.444444   2.0  2.108185\n",
       "8   7  5.0  2.0   4.0  4.0  4.444444   2.0  2.108185\n",
       "9   8  5.0  3.0   9.0  4.0  4.444444   2.0  2.108185"
      ]
     },
     "execution_count": 45,
     "metadata": {},
     "output_type": "execute_result"
    }
   ],
   "source": [
    "a['표본표준편차']= a['표본분산'].apply(math.sqrt)\n",
    "a"
   ]
  },
  {
   "cell_type": "code",
   "execution_count": 46,
   "id": "a1fba183",
   "metadata": {},
   "outputs": [
    {
     "data": {
      "text/plain": [
       "count    10.000000\n",
       "mean      5.000000\n",
       "std       2.108185\n",
       "min       2.000000\n",
       "25%       3.250000\n",
       "50%       4.500000\n",
       "75%       7.000000\n",
       "max       8.000000\n",
       "Name: 표본, dtype: float64"
      ]
     },
     "execution_count": 46,
     "metadata": {},
     "output_type": "execute_result"
    }
   ],
   "source": [
    "a['표본'].describe()"
   ]
  },
  {
   "cell_type": "markdown",
   "id": "68a6c43e",
   "metadata": {},
   "source": [
    "## 6) 표준점수(standard score), z-점수(z-score)\n",
    "* 데이터 포인트(값)가 평균으로부터 얼마나 떨어져 있는지를 나타내는 지표\n",
    "* 이는 데이터 포인트가 평균에서 몇 표준편차 떨어져 있는지를 나타내며,\n",
    "* 데이터의 상대적인 위치를 이해하는데 유용하다\n",
    "\n",
    "* 모집단 표준점수(Z-score) z <br>\n",
    "$ Z= {x_i - \\mu \\over \\sigma} $  <br><br><br>\n",
    "\n",
    "* 표본집단의 표준점수( Z-score) z <br>\n",
    "$ Z= {x_i - \\bar {x} \\over s} $  <br><br><br>"
   ]
  },
  {
   "cell_type": "markdown",
   "id": "43649985",
   "metadata": {},
   "source": [
    "뮤가나오지않고 엑스바가나온다면? 분모도 s 이겠구나\n"
   ]
  },
  {
   "cell_type": "markdown",
   "id": "fc2b68a3",
   "metadata": {},
   "source": [
    "# 자유도(degrees of freedom)란?\n",
    "* 데이터의 독립적인 정보의 수\n",
    "* [2,3,4,5,6]의 평균?\n",
    "* 통계는 표본을 추출해서 계산\n",
    "* 모평균 4.0\n",
    "* 표본평균 4.0\n",
    "* 평균값을 유지하기 위해서 마지막 데이터 포인트는 고정되어야 하고\n",
    "* 고정된 포인트 이외의 값들은 자유롭게 변할 수 있다.\n",
    "* 그래서 n-1개가 된다(표본을 n-1로 나누는이유 = 평균을 맞추기 위해서)"
   ]
  },
  {
   "cell_type": "code",
   "execution_count": 47,
   "id": "44b51538",
   "metadata": {},
   "outputs": [
    {
     "data": {
      "text/plain": [
       "4.0"
      ]
     },
     "execution_count": 47,
     "metadata": {},
     "output_type": "execute_result"
    }
   ],
   "source": [
    "pd.Series([2,3,4,5,6]).mean()"
   ]
  },
  {
   "cell_type": "code",
   "execution_count": 49,
   "id": "0de89a68",
   "metadata": {},
   "outputs": [
    {
     "data": {
      "text/plain": [
       "4.0"
      ]
     },
     "execution_count": 49,
     "metadata": {},
     "output_type": "execute_result"
    }
   ],
   "source": [
    "# [2,3,4,5,6] 전체 = 모집단\n",
    "(2+3+4+5+6) / 5"
   ]
  },
  {
   "cell_type": "code",
   "execution_count": 50,
   "id": "48231a21",
   "metadata": {},
   "outputs": [],
   "source": [
    "# 펴본 [4,2,5,7,x] 의 평균 =4.0"
   ]
  },
  {
   "cell_type": "code",
   "execution_count": 51,
   "id": "3aeacbc1",
   "metadata": {},
   "outputs": [
    {
     "data": {
      "text/plain": [
       "4.0"
      ]
     },
     "execution_count": 51,
     "metadata": {},
     "output_type": "execute_result"
    }
   ],
   "source": [
    "sum([4,2,5,7,2]) / 5"
   ]
  },
  {
   "cell_type": "markdown",
   "id": "b6ade813",
   "metadata": {},
   "source": [
    "모평균과 표본의 평균을 같게 하기위해서는 뒤에 한자리가 비어있어야하기에 n-1로 하는 것!"
   ]
  },
  {
   "cell_type": "markdown",
   "id": "13d14acb",
   "metadata": {},
   "source": [
    "# 가설검정 t-test\n",
    "* t-test는 두 집단의 평균을 비교하여 차이가 있는지 확인하는 통계적 방법"
   ]
  },
  {
   "cell_type": "markdown",
   "id": "5e6ba3ac",
   "metadata": {},
   "source": [
    "### 1) 일 표본 단측 t-검정(한쪽으로 방향성을 갖는 경우)\n",
    "* 모수에 대한 검정을 할때 모수 값이 ~보다 크다, 혹은 ~보다 작다와 같이 한쪽으로의 방향성을 갖는 경우 수행되는"
   ]
  },
  {
   "cell_type": "code",
   "execution_count": 52,
   "id": "06e4c66a",
   "metadata": {
    "scrolled": true
   },
   "outputs": [
    {
     "name": "stdout",
     "output_type": "stream",
     "text": [
      "Requirement already satisfied: statsmodels in c:\\users\\5-06\\miniforge3\\envs\\fintech\\lib\\site-packages (0.14.2)\n",
      "Requirement already satisfied: numpy>=1.22.3 in c:\\users\\5-06\\miniforge3\\envs\\fintech\\lib\\site-packages (from statsmodels) (1.26.4)\n",
      "Requirement already satisfied: scipy!=1.9.2,>=1.8 in c:\\users\\5-06\\miniforge3\\envs\\fintech\\lib\\site-packages (from statsmodels) (1.13.1)\n",
      "Requirement already satisfied: pandas!=2.1.0,>=1.4 in c:\\users\\5-06\\miniforge3\\envs\\fintech\\lib\\site-packages (from statsmodels) (2.2.2)\n",
      "Requirement already satisfied: patsy>=0.5.6 in c:\\users\\5-06\\miniforge3\\envs\\fintech\\lib\\site-packages (from statsmodels) (0.5.6)\n",
      "Requirement already satisfied: packaging>=21.3 in c:\\users\\5-06\\miniforge3\\envs\\fintech\\lib\\site-packages (from statsmodels) (24.1)\n",
      "Requirement already satisfied: python-dateutil>=2.8.2 in c:\\users\\5-06\\miniforge3\\envs\\fintech\\lib\\site-packages (from pandas!=2.1.0,>=1.4->statsmodels) (2.9.0)\n",
      "Requirement already satisfied: pytz>=2020.1 in c:\\users\\5-06\\miniforge3\\envs\\fintech\\lib\\site-packages (from pandas!=2.1.0,>=1.4->statsmodels) (2024.1)\n",
      "Requirement already satisfied: tzdata>=2022.7 in c:\\users\\5-06\\miniforge3\\envs\\fintech\\lib\\site-packages (from pandas!=2.1.0,>=1.4->statsmodels) (2024.1)\n",
      "Requirement already satisfied: six in c:\\users\\5-06\\miniforge3\\envs\\fintech\\lib\\site-packages (from patsy>=0.5.6->statsmodels) (1.16.0)\n"
     ]
    }
   ],
   "source": [
    "! pip install statsmodels"
   ]
  },
  {
   "cell_type": "code",
   "execution_count": null,
   "id": "82878f68",
   "metadata": {},
   "outputs": [],
   "source": []
  },
  {
   "cell_type": "code",
   "execution_count": 54,
   "id": "859e924d",
   "metadata": {},
   "outputs": [],
   "source": [
    "import statsmodels.stats.weightstats as stests\n",
    "from scipy import stats"
   ]
  },
  {
   "cell_type": "code",
   "execution_count": 57,
   "id": "99e69813",
   "metadata": {},
   "outputs": [
    {
     "name": "stdout",
     "output_type": "stream",
     "text": [
      "[50.27268954 50.7111849  49.33966018 50.63904882 51.79105138 51.03601031\n",
      " 49.20619973 50.00532647 50.09079655 50.41205536]\n",
      "지우개의 평균:  50.35040232460874\n"
     ]
    }
   ],
   "source": [
    "# 일 표본 단측 t-검정을 위해 지우개 10개의 표본 추출\n",
    "weights = np.random.uniform(49, 52,10)\n",
    "print(weights)\n",
    "print(\"지우개의 평균: \", weights.mean())"
   ]
  },
  {
   "cell_type": "code",
   "execution_count": 62,
   "id": "97fb2a90",
   "metadata": {},
   "outputs": [
    {
     "name": "stdout",
     "output_type": "stream",
     "text": [
      "T-통계량: 1.4458381584053646, P-value: 0.09106491623661254\n"
     ]
    }
   ],
   "source": [
    "# 일 표본 단측 t-test\n",
    "t_stat, p_value = stats.ttest_1samp(weights, 50, alternative='greater')\n",
    "print(f\"T-통계량: {t_stat}, P-value: {p_value}\")"
   ]
  },
  {
   "cell_type": "markdown",
   "id": "d6f04464",
   "metadata": {},
   "source": [
    "* p-value가 0.05보다 큰지 작은지 확인해서 기각유무 결정"
   ]
  },
  {
   "cell_type": "markdown",
   "id": "e51bbe27",
   "metadata": {},
   "source": [
    "### 2) 일 표본 양측 t-test(방향성이 없는 경우)\n",
    "* 단측 검정과 달리 모수 값이 ~이다,. ~이 아니다와 같이 방향성이 없는 경우 수행되는 검정 방법ㅂ\n",
    "* 대한민국 남성의 평균 몸무게는 70kg이다(귀무가설)\n",
    "* 대한민국 남성의 평균 몸무게는 70kg이 나니다(대립가설)"
   ]
  },
  {
   "cell_type": "code",
   "execution_count": 67,
   "id": "fb96f2e0",
   "metadata": {},
   "outputs": [
    {
     "name": "stdout",
     "output_type": "stream",
     "text": [
      "100\n",
      "몸무게 평균 70\n"
     ]
    }
   ],
   "source": [
    "# 일 표본 양측 t-test를 위한 40kg~100kg 사이 남성 100명의 표본을 추출\n",
    "weights = np.random.uniform(40, 100, 100)\n",
    "print(len(weights))\n",
    "print(\"몸무게 평균\", round(weights.mean()))"
   ]
  },
  {
   "cell_type": "code",
   "execution_count": 68,
   "id": "9655a150",
   "metadata": {},
   "outputs": [
    {
     "name": "stdout",
     "output_type": "stream",
     "text": [
      "T-통계량: 0.17554714063179747, P-value: 0.861008292088111\n"
     ]
    }
   ],
   "source": [
    "# 일 표본 양측 t-test\n",
    "t_stat, p_value = stats.ttest_1samp(weights, 70, alternative ='two-sided')\n",
    "print(f\"T-통계량: {t_stat}, P-value: {p_value}\")"
   ]
  },
  {
   "cell_type": "markdown",
   "id": "eb8990f9",
   "metadata": {},
   "source": [
    "* Pvalue가 0.05보다 작으면 귀무가설기각! 대립가설 채택!"
   ]
  },
  {
   "cell_type": "markdown",
   "id": "f93372e5",
   "metadata": {},
   "source": [
    "### 3) 이 표본 t-test(independent sample t-test)\n",
    "* 서로 독립적인 두개의 집단에 대하여 모수(모평균)의 값이 같은 값을 갖는지 통계적으로 검정하는 방법\n",
    "* 여기서 독립이란 두 모집단에서 각각 추출된 두 표본이 서로 관계가 없다는 것을 의미\n",
    "* 두 모집단의 분산이 같음을 의미하는 등분산성을 만족해야 한다\n",
    "* 따라서 이 표본 t검정을 수행하기 전에 등분산 검정(F검정)을 먼저 수행해야 한다\n"
   ]
  },
  {
   "cell_type": "markdown",
   "id": "11b9ecf9",
   "metadata": {},
   "source": [
    "### 4) 이 표본 단측 t검정 (~보다 크다 / 작다)\n",
    "* 두 집단에 대해서 모수 비교를 할 때 A가 B보다 크다/작다 를 비교하는 검정\n",
    "* A회사의 급여가 B회사의 급여보다 같거나 많다 (귀무가설)\n",
    "* "
   ]
  },
  {
   "cell_type": "code",
   "execution_count": 69,
   "id": "e200b725",
   "metadata": {},
   "outputs": [
    {
     "name": "stdout",
     "output_type": "stream",
     "text": [
      "salaryA의 평균 312.01699269984687\n",
      "salaryB의 평균 301.4880832638586\n",
      "T-통계량: 1.5981926777374091, P-value: 0.9442026545488634\n"
     ]
    }
   ],
   "source": [
    "# 랜덤하게 급여 생성 salaryA 250~380사이 값 100개, salary B 200~400사이의값 100개\n",
    "salaryA = np.random.uniform(250, 380, 100)\n",
    "salaryB = np.random.uniform(200, 400, 100)\n",
    "print(\"salaryA의 평균\", salaryA.mean())\n",
    "print(\"salaryB의 평균\", salaryB.mean())\n",
    "\n",
    "t_stat, p_value =stats.ttest_ind(salaryA, salaryB, alternative='less')\n",
    "\n",
    "print(f\"T-통계량: {t_stat}, P-value: {p_value}\")"
   ]
  },
  {
   "cell_type": "markdown",
   "id": "d18a72a1",
   "metadata": {},
   "source": [
    "### 5) 이 표본 양측 t검정(A는 B와 같다/다르다)\n",
    "* K와 L의 달리기 속도는 같다(귀무가설)\n",
    "* "
   ]
  },
  {
   "cell_type": "code",
   "execution_count": 71,
   "id": "fa177775",
   "metadata": {},
   "outputs": [
    {
     "name": "stdout",
     "output_type": "stream",
     "text": [
      "T-통계량: 10.934670801216983, P-value: 4.464728751046865e-22\n"
     ]
    }
   ],
   "source": [
    "# 랜덤한 속도 생성(speedk :30에서 40사이의 값 100개, speedL은 25에서 35 사이의 값 100개)\n",
    "speedk= np.random.uniform(30,40,100)\n",
    "speedL= np.random.uniform(25,35,100)\n",
    "\n",
    "t_stat, p_value =stats.ttest_ind(speedk, speedL)\n",
    "\n",
    "print(f\"T-통계량: {t_stat}, P-value: {p_value}\")"
   ]
  },
  {
   "cell_type": "markdown",
   "id": "94be8ef1",
   "metadata": {},
   "source": [
    "### 6) 대응 표본 t 검정(paired t-test) A/B test\n",
    "* 실험 전후 비교\n",
    "* 동일한 대상에 대해 두가지 관측"
   ]
  },
  {
   "cell_type": "code",
   "execution_count": 72,
   "id": "c07a4687",
   "metadata": {},
   "outputs": [
    {
     "name": "stdout",
     "output_type": "stream",
     "text": [
      "T-통계량: 3.4936892947654954, P-value: 0.00029382420193707333\n"
     ]
    }
   ],
   "source": [
    "# 대응 표본 t검정을 위한 표본 추출\n",
    "before=np.random.uniform(60,80,100)\n",
    "after = before+ np.random.normal(-3,2,100)\n",
    "\n",
    "#대응표본 t검정\n",
    "t_stat, p_value =stats.ttest_ind(before, after, alternative='greater')\n",
    "print(f\"T-통계량: {t_stat}, P-value: {p_value}\")"
   ]
  },
  {
   "cell_type": "markdown",
   "id": "c4d05887",
   "metadata": {},
   "source": [
    "# 분산분석(ANOVA)\n",
    "* 3개 이상의 모집단이 있을 경우 집단 사이의 평균을 비교\n",
    "* 분산분석의 귀무가설($ H_0 $) \"모든 집단 간 평균은 같다\" 이다.\n",
    "* 분산분석을 수행하기 위해서는 아래의 세 가지 가정 사항을 필요로 한다\n",
    "   * 정규성: 각 집단의 표본들은 정규분포를 따라야 한다\n",
    "   * 등분산성: 각 집단은 동일한 분산을 가져야 한다\n",
    "   * 독립성: 각 집단은 서로에게 영향을 주지 않는다\n",
    "* 2) 분산분석\n",
    "   * 분산분석의 독립변수는 범주형 데이터여야 하고, 종속변수는 연속형이어야 한다\n",
    "   * 분산분석에는 '(집단 감 분산)/(집단 내 분산)'으로 계산되는 F-value가 사용된다.\n",
    "   * F-value가 커지면 p-value가 작아진다\n",
    "   * 평균을 비교하는 분산분석에 분산의 개념을 사용하는 이유는 집단 간 평균의 분산이 클 수록 각 집단의 평균은 서로 멀리 떨어져 있기 때문에 집단 간 차이를 비교하기 쉬워진다"
   ]
  },
  {
   "cell_type": "markdown",
   "id": "79b5b167",
   "metadata": {},
   "source": [
    "### 1) 일월분산분석(one-way Anova)\n",
    "* 셋 이상의 집단 간 평균을 비교하는 상황에서 하나의 집단에 속하는 독립변수와 종속변수가 모두 한 개 일 때 사용\n",
    "* 예) 연령 대 별 (청소년, 성인, 노인) 유튜브 시청 시간의 차이\n",
    "   * 독립변수는 연령별 집단(청소년, 성인, 노인), 종속변수(유튜브 시청시간)\n",
    "   * 셋 이상의 집단이지만 독립변수는 '연령별 집단'하나"
   ]
  },
  {
   "cell_type": "code",
   "execution_count": null,
   "id": "67382eb0",
   "metadata": {},
   "outputs": [],
   "source": []
  },
  {
   "cell_type": "code",
   "execution_count": null,
   "id": "770eb823",
   "metadata": {},
   "outputs": [],
   "source": []
  },
  {
   "cell_type": "code",
   "execution_count": null,
   "id": "b163d77b",
   "metadata": {},
   "outputs": [],
   "source": []
  },
  {
   "cell_type": "code",
   "execution_count": null,
   "id": "d1f7405d",
   "metadata": {},
   "outputs": [],
   "source": []
  },
  {
   "cell_type": "code",
   "execution_count": null,
   "id": "622d0238",
   "metadata": {},
   "outputs": [],
   "source": []
  },
  {
   "cell_type": "code",
   "execution_count": null,
   "id": "9770316a",
   "metadata": {},
   "outputs": [],
   "source": []
  },
  {
   "cell_type": "code",
   "execution_count": null,
   "id": "9ad4dc05",
   "metadata": {},
   "outputs": [],
   "source": []
  },
  {
   "cell_type": "code",
   "execution_count": null,
   "id": "8fd1b955",
   "metadata": {},
   "outputs": [],
   "source": []
  },
  {
   "cell_type": "code",
   "execution_count": null,
   "id": "d1a29b8c",
   "metadata": {},
   "outputs": [],
   "source": []
  },
  {
   "cell_type": "code",
   "execution_count": null,
   "id": "0f59aa4c",
   "metadata": {},
   "outputs": [],
   "source": []
  }
 ],
 "metadata": {
  "kernelspec": {
   "display_name": "Python 3 (ipykernel)",
   "language": "python",
   "name": "python3"
  },
  "language_info": {
   "codemirror_mode": {
    "name": "ipython",
    "version": 3
   },
   "file_extension": ".py",
   "mimetype": "text/x-python",
   "name": "python",
   "nbconvert_exporter": "python",
   "pygments_lexer": "ipython3",
   "version": "3.10.14"
  }
 },
 "nbformat": 4,
 "nbformat_minor": 5
}
