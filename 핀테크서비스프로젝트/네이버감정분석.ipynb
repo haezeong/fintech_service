{
 "cells": [
  {
   "cell_type": "code",
   "execution_count": 2,
   "id": "0d480e23",
   "metadata": {},
   "outputs": [
    {
     "name": "stdout",
     "output_type": "stream",
     "text": [
      "Requirement already satisfied: openai in c:\\users\\5-06\\miniforge3\\envs\\openai\\lib\\site-packages (1.55.1)\n",
      "Requirement already satisfied: anyio<5,>=3.5.0 in c:\\users\\5-06\\miniforge3\\envs\\openai\\lib\\site-packages (from openai) (4.6.2.post1)\n",
      "Requirement already satisfied: distro<2,>=1.7.0 in c:\\users\\5-06\\miniforge3\\envs\\openai\\lib\\site-packages (from openai) (1.9.0)\n",
      "Requirement already satisfied: httpx<1,>=0.23.0 in c:\\users\\5-06\\miniforge3\\envs\\openai\\lib\\site-packages (from openai) (0.27.2)\n",
      "Requirement already satisfied: jiter<1,>=0.4.0 in c:\\users\\5-06\\miniforge3\\envs\\openai\\lib\\site-packages (from openai) (0.7.1)\n",
      "Requirement already satisfied: pydantic<3,>=1.9.0 in c:\\users\\5-06\\miniforge3\\envs\\openai\\lib\\site-packages (from openai) (2.10.1)\n",
      "Requirement already satisfied: sniffio in c:\\users\\5-06\\miniforge3\\envs\\openai\\lib\\site-packages (from openai) (1.3.1)\n",
      "Requirement already satisfied: tqdm>4 in c:\\users\\5-06\\miniforge3\\envs\\openai\\lib\\site-packages (from openai) (4.67.1)\n",
      "Requirement already satisfied: typing-extensions<5,>=4.11 in c:\\users\\5-06\\miniforge3\\envs\\openai\\lib\\site-packages (from openai) (4.12.2)\n",
      "Requirement already satisfied: idna>=2.8 in c:\\users\\5-06\\miniforge3\\envs\\openai\\lib\\site-packages (from anyio<5,>=3.5.0->openai) (3.10)\n",
      "Requirement already satisfied: certifi in c:\\users\\5-06\\miniforge3\\envs\\openai\\lib\\site-packages (from httpx<1,>=0.23.0->openai) (2024.8.30)\n",
      "Requirement already satisfied: httpcore==1.* in c:\\users\\5-06\\miniforge3\\envs\\openai\\lib\\site-packages (from httpx<1,>=0.23.0->openai) (1.0.7)\n",
      "Requirement already satisfied: h11<0.15,>=0.13 in c:\\users\\5-06\\miniforge3\\envs\\openai\\lib\\site-packages (from httpcore==1.*->httpx<1,>=0.23.0->openai) (0.14.0)\n",
      "Requirement already satisfied: annotated-types>=0.6.0 in c:\\users\\5-06\\miniforge3\\envs\\openai\\lib\\site-packages (from pydantic<3,>=1.9.0->openai) (0.7.0)\n",
      "Requirement already satisfied: pydantic-core==2.27.1 in c:\\users\\5-06\\miniforge3\\envs\\openai\\lib\\site-packages (from pydantic<3,>=1.9.0->openai) (2.27.1)\n",
      "Requirement already satisfied: colorama in c:\\users\\5-06\\miniforge3\\envs\\openai\\lib\\site-packages (from tqdm>4->openai) (0.4.6)\n"
     ]
    }
   ],
   "source": [
    "!pip install --upgrade openai\n"
   ]
  },
  {
   "cell_type": "code",
   "execution_count": null,
   "id": "b5da6f64",
   "metadata": {},
   "outputs": [
    {
     "name": "stdout",
     "output_type": "stream",
     "text": [
      "감성 분석 완료 및 결과 저장: C:/fintech_service/핀테크서비스프로젝트/네이버분석후\\OUR948_reviews_분석.csv\n",
      "감성 분석 완료 및 결과 저장: C:/fintech_service/핀테크서비스프로젝트/네이버분석후\\S카페_reviews_분석.csv\n",
      "감성 분석 완료 및 결과 저장: C:/fintech_service/핀테크서비스프로젝트/네이버분석후\\가정식집밥 세로방_reviews_분석.csv\n",
      "감성 분석 완료 및 결과 저장: C:/fintech_service/핀테크서비스프로젝트/네이버분석후\\고가네철판불백_reviews_분석.csv\n",
      "감성 분석 완료 및 결과 저장: C:/fintech_service/핀테크서비스프로젝트/네이버분석후\\고래똥_reviews_분석.csv\n",
      "감성 분석 완료 및 결과 저장: C:/fintech_service/핀테크서비스프로젝트/네이버분석후\\고품격커피공장 뱅뱅사거리점_reviews_분석.csv\n",
      "감성 분석 완료 및 결과 저장: C:/fintech_service/핀테크서비스프로젝트/네이버분석후\\곰바로곰탕_reviews_분석.csv\n",
      "감성 분석 완료 및 결과 저장: C:/fintech_service/핀테크서비스프로젝트/네이버분석후\\곰작골나주곰탕 역삼초교점_reviews_분석.csv\n",
      "감성 분석 완료 및 결과 저장: C:/fintech_service/핀테크서비스프로젝트/네이버분석후\\교토일식_reviews_분석.csv\n",
      "감성 분석 완료 및 결과 저장: C:/fintech_service/핀테크서비스프로젝트/네이버분석후\\궁민김밥 본점_reviews_분석.csv\n",
      "감성 분석 완료 및 결과 저장: C:/fintech_service/핀테크서비스프로젝트/네이버분석후\\깡돈_reviews_분석.csv\n",
      "감성 분석 완료 및 결과 저장: C:/fintech_service/핀테크서비스프로젝트/네이버분석후\\낙여삼_reviews_분석.csv\n",
      "감성 분석 완료 및 결과 저장: C:/fintech_service/핀테크서비스프로젝트/네이버분석후\\남강매점_reviews_분석.csv\n"
     ]
    }
   ],
   "source": [
    "import os\n",
    "import openai\n",
    "import pandas as pd\n",
    "import time\n",
    "\n",
    "# OpenAI API 키 설정\n",
    "openai.api_key = os.getenv('OPENAI_API_KEY')\n",
    "\n",
    "# 입력 및 출력 폴더 경로\n",
    "input_folder = \"C:/fintech_service/핀테크서비스프로젝트/네이버분석전\"\n",
    "output_folder = \"C:/fintech_service/핀테크서비스프로젝트/네이버분석후\"\n",
    "\n",
    "# 출력 폴더가 존재하지 않으면 생성\n",
    "os.makedirs(output_folder, exist_ok=True)\n",
    "\n",
    "# 입력 폴더의 모든 CSV 파일 가져오기\n",
    "csv_files = [file for file in os.listdir(input_folder) if file.endswith('.csv')]\n",
    "\n",
    "# 각 파일에 대해 감성 분석 수행\n",
    "for csv_file in csv_files:\n",
    "    input_path = os.path.join(input_folder, csv_file)\n",
    "    output_path = os.path.join(output_folder, f\"{os.path.splitext(csv_file)[0]}_분석.csv\")\n",
    "    \n",
    "    try:\n",
    "        # CSV 파일 불러오기\n",
    "        reviews_df = pd.read_csv(input_path)\n",
    "        \n",
    "        # 감성 분석 결과를 저장할 리스트\n",
    "        sentiments = []\n",
    "\n",
    "        # 리뷰마다 감성 분석 수행\n",
    "        for review_text in reviews_df['Review']:  # 컬럼명이 'Review'라고 가정\n",
    "            retries = 3  # 최대 재시도 횟수\n",
    "            sentiment = \"오류\"  # 기본 값\n",
    "\n",
    "            for attempt in range(retries):\n",
    "                try:\n",
    "                    # 최신 ChatCompletion 모델을 사용한 감성 분석\n",
    "                    response = openai.ChatCompletion.create(\n",
    "                        model=\"gpt-3.5-turbo-1106\",\n",
    "                        messages=[\n",
    "                            {\"role\": \"system\", \"content\": \"당신은 감성 분석을 전문으로 하는 도움말 어시스턴트입니다. 문맥이 없는 단어(예: '좋아요', '별로예요')만 있는 경우, 단어의 감성에 따라 '긍정적' 또는 '부정적'으로 응답하세요.\"},\n",
    "                            {\"role\": \"user\", \"content\": f\"다음 리뷰의 감성을 분석하여 '긍정적' 또는 '부정적' 형식으로만 응답해 주세요: '{review_text}'\"}\n",
    "                        ],\n",
    "                        max_tokens=20,\n",
    "                        temperature=0.2\n",
    "                    )\n",
    "                    \n",
    "                    # API 응답에서 감성 분석 결과 추출\n",
    "                    response_text = response.choices[0].message['content'].strip()\n",
    "                    if \"긍정적\" in response_text:\n",
    "                        sentiment = \"긍정적\"\n",
    "                    elif \"부정적\" in response_text:\n",
    "                        sentiment = \"부정적\"\n",
    "                    else:\n",
    "                        sentiment = \"알 수 없음\"\n",
    "                    \n",
    "                    break  # 정상 처리되면 반복 종료\n",
    "                except Exception as e:\n",
    "                    print(f\"리뷰 처리 중 오류 발생 (시도 {attempt + 1}/{retries}): {e}\")\n",
    "                    time.sleep(2)  # 재시도 전 대기\n",
    "\n",
    "            sentiments.append(sentiment)\n",
    "            time.sleep(1)  # 요청 간 대기 시간\n",
    "        \n",
    "        # 결과를 데이터프레임에 추가\n",
    "        reviews_df['sentiment'] = sentiments\n",
    "\n",
    "        # 결과를 파일로 저장\n",
    "        reviews_df.to_csv(output_path, index=False)\n",
    "        print(f\"감성 분석 완료 및 결과 저장: {output_path}\")\n",
    "\n",
    "    except Exception as e:\n",
    "        print(f\"파일 처리 중 오류 발생: {e}\")\n",
    "\n",
    "print(\"모든 파일 처리 완료\")\n"
   ]
  },
  {
   "cell_type": "code",
   "execution_count": null,
   "id": "4870f5f6",
   "metadata": {},
   "outputs": [],
   "source": []
  }
 ],
 "metadata": {
  "kernelspec": {
   "display_name": "Python 3 (ipykernel)",
   "language": "python",
   "name": "python3"
  },
  "language_info": {
   "codemirror_mode": {
    "name": "ipython",
    "version": 3
   },
   "file_extension": ".py",
   "mimetype": "text/x-python",
   "name": "python",
   "nbconvert_exporter": "python",
   "pygments_lexer": "ipython3",
   "version": "3.11.10"
  }
 },
 "nbformat": 4,
 "nbformat_minor": 5
}
