{
 "cells": [
  {
   "cell_type": "code",
   "execution_count": 2,
   "id": "020978bb",
   "metadata": {},
   "outputs": [],
   "source": [
    "import pandas as pd\n",
    "import numpy as np\n",
    "import matplotlib.pyplot as plt\n",
    "import seaborn as sns"
   ]
  },
  {
   "cell_type": "code",
   "execution_count": 5,
   "id": "680efcd2",
   "metadata": {},
   "outputs": [
    {
     "data": {
      "text/html": [
       "<div>\n",
       "<style scoped>\n",
       "    .dataframe tbody tr th:only-of-type {\n",
       "        vertical-align: middle;\n",
       "    }\n",
       "\n",
       "    .dataframe tbody tr th {\n",
       "        vertical-align: top;\n",
       "    }\n",
       "\n",
       "    .dataframe thead th {\n",
       "        text-align: right;\n",
       "    }\n",
       "</style>\n",
       "<table border=\"1\" class=\"dataframe\">\n",
       "  <thead>\n",
       "    <tr style=\"text-align: right;\">\n",
       "      <th></th>\n",
       "      <th>기준년월</th>\n",
       "      <th>시군코드</th>\n",
       "      <th>성연령코드</th>\n",
       "      <th>매출금액</th>\n",
       "      <th>매출금액비율</th>\n",
       "    </tr>\n",
       "  </thead>\n",
       "  <tbody>\n",
       "    <tr>\n",
       "      <th>0</th>\n",
       "      <td>202104</td>\n",
       "      <td>4165</td>\n",
       "      <td>M40</td>\n",
       "      <td>23404328979</td>\n",
       "      <td>13.44</td>\n",
       "    </tr>\n",
       "    <tr>\n",
       "      <th>1</th>\n",
       "      <td>202104</td>\n",
       "      <td>4167</td>\n",
       "      <td>M40</td>\n",
       "      <td>23567164646</td>\n",
       "      <td>14.90</td>\n",
       "    </tr>\n",
       "    <tr>\n",
       "      <th>2</th>\n",
       "      <td>202104</td>\n",
       "      <td>4180</td>\n",
       "      <td>M40</td>\n",
       "      <td>2791298085</td>\n",
       "      <td>12.37</td>\n",
       "    </tr>\n",
       "    <tr>\n",
       "      <th>3</th>\n",
       "      <td>202104</td>\n",
       "      <td>4182</td>\n",
       "      <td>M40</td>\n",
       "      <td>9567592822</td>\n",
       "      <td>13.63</td>\n",
       "    </tr>\n",
       "    <tr>\n",
       "      <th>4</th>\n",
       "      <td>202104</td>\n",
       "      <td>4183</td>\n",
       "      <td>M40</td>\n",
       "      <td>10861075062</td>\n",
       "      <td>11.62</td>\n",
       "    </tr>\n",
       "    <tr>\n",
       "      <th>...</th>\n",
       "      <td>...</td>\n",
       "      <td>...</td>\n",
       "      <td>...</td>\n",
       "      <td>...</td>\n",
       "      <td>...</td>\n",
       "    </tr>\n",
       "    <tr>\n",
       "      <th>2785</th>\n",
       "      <td>202106</td>\n",
       "      <td>4165</td>\n",
       "      <td>F60O</td>\n",
       "      <td>16666944302</td>\n",
       "      <td>8.91</td>\n",
       "    </tr>\n",
       "    <tr>\n",
       "      <th>2786</th>\n",
       "      <td>202106</td>\n",
       "      <td>4167</td>\n",
       "      <td>F60O</td>\n",
       "      <td>12646779071</td>\n",
       "      <td>7.87</td>\n",
       "    </tr>\n",
       "    <tr>\n",
       "      <th>2787</th>\n",
       "      <td>202106</td>\n",
       "      <td>4180</td>\n",
       "      <td>F60O</td>\n",
       "      <td>2215855612</td>\n",
       "      <td>9.07</td>\n",
       "    </tr>\n",
       "    <tr>\n",
       "      <th>2788</th>\n",
       "      <td>202106</td>\n",
       "      <td>4182</td>\n",
       "      <td>F60O</td>\n",
       "      <td>6771717001</td>\n",
       "      <td>8.46</td>\n",
       "    </tr>\n",
       "    <tr>\n",
       "      <th>2789</th>\n",
       "      <td>202106</td>\n",
       "      <td>4183</td>\n",
       "      <td>F60O</td>\n",
       "      <td>13503949813</td>\n",
       "      <td>13.55</td>\n",
       "    </tr>\n",
       "  </tbody>\n",
       "</table>\n",
       "<p>2790 rows × 5 columns</p>\n",
       "</div>"
      ],
      "text/plain": [
       "        기준년월  시군코드 성연령코드         매출금액  매출금액비율\n",
       "0     202104  4165   M40  23404328979   13.44\n",
       "1     202104  4167   M40  23567164646   14.90\n",
       "2     202104  4180   M40   2791298085   12.37\n",
       "3     202104  4182   M40   9567592822   13.63\n",
       "4     202104  4183   M40  10861075062   11.62\n",
       "...      ...   ...   ...          ...     ...\n",
       "2785  202106  4165  F60O  16666944302    8.91\n",
       "2786  202106  4167  F60O  12646779071    7.87\n",
       "2787  202106  4180  F60O   2215855612    9.07\n",
       "2788  202106  4182  F60O   6771717001    8.46\n",
       "2789  202106  4183  F60O  13503949813   13.55\n",
       "\n",
       "[2790 rows x 5 columns]"
      ]
     },
     "execution_count": 5,
     "metadata": {},
     "output_type": "execute_result"
    }
   ],
   "source": [
    "data = pd.read_csv(\"C:/fintech_service/Data/프로젝트/분석시스템_경기도_카드매출_성연령별_집계.csv\", encoding='cp949')\n",
    "data"
   ]
  },
  {
   "cell_type": "code",
   "execution_count": 6,
   "id": "ad4a09ac",
   "metadata": {},
   "outputs": [
    {
     "data": {
      "text/plain": [
       "array(['M40', 'M50', 'M60O', 'F10', 'F20', 'F30', 'F40', 'F50', 'F60O',\n",
       "       'TOT', 'F', 'M', 'M10', 'M20', 'M30'], dtype=object)"
      ]
     },
     "execution_count": 6,
     "metadata": {},
     "output_type": "execute_result"
    }
   ],
   "source": [
    "data['성연령코드'].unique()"
   ]
  },
  {
   "cell_type": "code",
   "execution_count": null,
   "id": "a61e30e5",
   "metadata": {},
   "outputs": [],
   "source": []
  }
 ],
 "metadata": {
  "kernelspec": {
   "display_name": "Python 3 (ipykernel)",
   "language": "python",
   "name": "python3"
  },
  "language_info": {
   "codemirror_mode": {
    "name": "ipython",
    "version": 3
   },
   "file_extension": ".py",
   "mimetype": "text/x-python",
   "name": "python",
   "nbconvert_exporter": "python",
   "pygments_lexer": "ipython3",
   "version": "3.10.14"
  }
 },
 "nbformat": 4,
 "nbformat_minor": 5
}
