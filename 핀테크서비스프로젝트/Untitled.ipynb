{
 "cells": [
  {
   "cell_type": "code",
   "execution_count": 1,
   "id": "1b59fa93",
   "metadata": {},
   "outputs": [
    {
     "name": "stdout",
     "output_type": "stream",
     "text": [
      "Python은 간결하고 읽기 쉬운 문법을 가진 인터프리터형 프로그래밍 언어로, Guido van Rossum에 의해 개발되었습니다. 다양한 플랫폼에서 사용하기 쉽고, 다양한 프로그래밍 분야에서 활용되고 있습니다. 몇 가지 특징은 다음과 같습니다:\n",
      "\n",
      "1. 다양한 용도: Python은 웹 개발, 데이터 분석, 인공지능 및 기계학습, 게임 개발 등 다양한 분야에서 사용됩니다.\n",
      "\n",
      "2. 읽기 쉬운 문법: Python은 간결하고 인간 친화적인 문법을 가지고 있어 쉽게 배우고 이해할 수 있습니다.\n",
      "\n",
      "3. 인터프리터형 언어: 코드를 한 줄씩 실행하면서 즉시 결과를 확인할 수 있는 인터프리터 언어로 개발 및 디버깅이 용이합니다.\n",
      "\n",
      "4. 다양한 라이브러리: Python은 다양한 라이브러리와 모듈을 제공하여 개발을 용이하게 합니다. 예를 들어 NumPy, Pandas, Matplotlib 등의 라이브러리를 활용하여 데이터 분석 및 시각화를 수행할 수 있습니다.\n",
      "\n",
      "5. 커뮤니티 및 생태계: Python은 활발한 커뮤니티와 다양한 오픈소스 프로젝트가 존재하여 지원 및 개발이 매우 다양합니다.\n",
      "\n",
      "Python은 많은 프로그래머들이 처음으로 접하는 프로그래밍 언어로 인기가 매우 높으며, 쉽고 강력한 기능을 제공하고 있습니다.\n"
     ]
    }
   ],
   "source": [
    "import os\n",
    "from openai import OpenAI\n",
    "\n",
    "client = OpenAI()\n",
    "\n",
    "# 윈도우 환경변수에 등록했던 OPENAI_API_KEY를 불러와 사용\n",
    "client.api_key = os.environ['OPENAI_API_KEY']\n",
    "\n",
    "response = client.chat.completions.create(\n",
    "    model=\"gpt-3.5-turbo\",\n",
    "    messages=[\n",
    "        {\"role\": \"user\", \"content\": \"Python에 대해 알려주세요\"},\n",
    "    ],\n",
    ")\n",
    "print(response.choices[0].message.content)"
   ]
  },
  {
   "cell_type": "code",
   "execution_count": null,
   "id": "e0e8b31b",
   "metadata": {},
   "outputs": [],
   "source": []
  }
 ],
 "metadata": {
  "kernelspec": {
   "display_name": "Python 3 (ipykernel)",
   "language": "python",
   "name": "python3"
  },
  "language_info": {
   "codemirror_mode": {
    "name": "ipython",
    "version": 3
   },
   "file_extension": ".py",
   "mimetype": "text/x-python",
   "name": "python",
   "nbconvert_exporter": "python",
   "pygments_lexer": "ipython3",
   "version": "3.11.10"
  }
 },
 "nbformat": 4,
 "nbformat_minor": 5
}
