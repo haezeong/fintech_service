{
 "cells": [
  {
   "cell_type": "code",
   "execution_count": 6,
   "id": "5e0d543c",
   "metadata": {},
   "outputs": [],
   "source": [
    "import requests\n",
    "import pandas as pd\n",
    "from naver_api_info import client_id, client_secret\n",
    "from datetime import date\n",
    "import os\n",
    "import sys\n",
    "import urllib.request"
   ]
  },
  {
   "cell_type": "code",
   "execution_count": 7,
   "id": "ecd432d6",
   "metadata": {},
   "outputs": [
    {
     "name": "stdout",
     "output_type": "stream",
     "text": [
      "https://openapi.naver.com/v1/search/news.json?query=%ED%95%80%ED%85%8C%ED%81%AC&display=100&start=1&sort=date\n",
      "Error Code: 401\n"
     ]
    }
   ],
   "source": [
    "url = \"https://openapi.naver.com/v1/search/news.json\"\n",
    "\n",
    "\n",
    "client_id = client_id # 네이버 api에 접속 가능한 id\n",
    "client_secret = client_secret   # 네이버 api에 접속 가능한 pw\n",
    "\n",
    "payload = {'query' : '핀테크', 'display' : 100, 'start' : 1, 'sort' : 'date'}\n",
    "headers = {'X-Naver-Client-Id' : client_id, 'X-Naver-Client-Secret' : client_secret}\n",
    "\n",
    "r = requests.get(url, params = payload, headers = headers)\n",
    "print(r.url)\n",
    "\n",
    "if(r.status_code == 200):\n",
    "    data = r.json() \n",
    "else:\n",
    "    print(\"Error Code:\" , r.status_code)"
   ]
  },
  {
   "cell_type": "code",
   "execution_count": 8,
   "id": "3500ba19",
   "metadata": {
    "scrolled": false
   },
   "outputs": [
    {
     "name": "stdout",
     "output_type": "stream",
     "text": [
      "https://openapi.naver.com/v1/search/news.json?query=%ED%95%80%ED%85%8C%ED%81%AC&display=100&start=1&sort=date\n",
      "Error Code:  401\n"
     ]
    }
   ],
   "source": [
    "# 네이버 검색 API 예제 \n",
    "\n",
    "client_id = client_id       # 네이버 api에 접속 가능한 id \n",
    "client_secret = client_secret    # 네이버 api에 접속 가능한 pw \n",
    "url = \"https://openapi.naver.com/v1/search/news.json\"\n",
    "payload = {'query': '핀테크', 'display' :100, 'start':1, 'sort':'date'}\n",
    "headers = {\"X-Naver-Client-Id\" : client_id ,\"X-Naver-Client-Secret\" : client_secret }\n",
    "# url = \"https://openapi.naver.com/v1/search/blog.xml?query=\" + encText # XML 결과\n",
    "r= requests.get(url, params= payload, headers =headers)\n",
    "print(r.url)\n",
    "\n",
    "if (r.status_code==200):\n",
    "    data = r.json()\n",
    "    #제이슨 임포트 안해와도 바로 쓸 수 있음\n",
    "\n",
    "else:\n",
    "    print(\"Error Code: \" , r.status_code)\n",
    "    \n"
   ]
  },
  {
   "cell_type": "code",
   "execution_count": 9,
   "id": "dbab3a6c",
   "metadata": {},
   "outputs": [
    {
     "ename": "NameError",
     "evalue": "name 'data' is not defined",
     "output_type": "error",
     "traceback": [
      "\u001b[1;31m---------------------------------------------------------------------------\u001b[0m",
      "\u001b[1;31mNameError\u001b[0m                                 Traceback (most recent call last)",
      "Cell \u001b[1;32mIn[9], line 1\u001b[0m\n\u001b[1;32m----> 1\u001b[0m \u001b[43mdata\u001b[49m\n",
      "\u001b[1;31mNameError\u001b[0m: name 'data' is not defined"
     ]
    }
   ],
   "source": [
    "data"
   ]
  },
  {
   "cell_type": "code",
   "execution_count": 6,
   "id": "8b681094",
   "metadata": {},
   "outputs": [
    {
     "ename": "NameError",
     "evalue": "name 'data' is not defined",
     "output_type": "error",
     "traceback": [
      "\u001b[1;31m---------------------------------------------------------------------------\u001b[0m",
      "\u001b[1;31mNameError\u001b[0m                                 Traceback (most recent call last)",
      "Cell \u001b[1;32mIn[6], line 1\u001b[0m\n\u001b[1;32m----> 1\u001b[0m \u001b[43mdata\u001b[49m\n",
      "\u001b[1;31mNameError\u001b[0m: name 'data' is not defined"
     ]
    }
   ],
   "source": [
    "print=date.today()\n",
    "formatted_date = today.strftime(\"%d,%b, %Y\")\n",
    "\n",
    "print(formatted_date)"
   ]
  },
  {
   "cell_type": "code",
   "execution_count": null,
   "id": "cb45feb9",
   "metadata": {},
   "outputs": [],
   "source": [
    "formatted_date in data['items'][0][]"
   ]
  },
  {
   "cell_type": "code",
   "execution_count": null,
   "id": "972777ee",
   "metadata": {},
   "outputs": [],
   "source": []
  },
  {
   "cell_type": "code",
   "execution_count": null,
   "id": "f71068da",
   "metadata": {},
   "outputs": [],
   "source": [
    "for item in date['items'][:2]:\n",
    "     print(item['pubDate'])"
   ]
  },
  {
   "cell_type": "code",
   "execution_count": null,
   "id": "973dd2d2",
   "metadata": {},
   "outputs": [],
   "source": [
    "for item in date['items'][:2]:\n",
    "    if formatted_date in item['pubDate']:\n",
    "        for key in item, keys():\n",
    "            print(key, item[key])\n",
    "    else:\n",
    "        break"
   ]
  },
  {
   "cell_type": "code",
   "execution_count": null,
   "id": "1b25bc9d",
   "metadata": {},
   "outputs": [],
   "source": [
    "result = {}\n",
    "for item in date['items'][:2]:\n",
    "    if formatted_date in item['pubDate']:\n",
    "        for key in item, keys():\n",
    "            result.setdefault(key,[]).append(item)\n",
    "    else:\n",
    "        break\n",
    "result"
   ]
  },
  {
   "cell_type": "code",
   "execution_count": null,
   "id": "136273f1",
   "metadata": {},
   "outputs": [],
   "source": [
    "for item in date['items'][:2]:\n",
    "#     for key in item, keys():\n",
    "#         print(key, item[key])"
   ]
  },
  {
   "cell_type": "code",
   "execution_count": null,
   "id": "091cee39",
   "metadata": {},
   "outputs": [],
   "source": []
  },
  {
   "cell_type": "code",
   "execution_count": null,
   "id": "ea19eeac",
   "metadata": {},
   "outputs": [],
   "source": []
  },
  {
   "cell_type": "code",
   "execution_count": null,
   "id": "9c8ad5dd",
   "metadata": {},
   "outputs": [],
   "source": [
    "request = urllib.request.Request(url)\n",
    "request.add_header(\"X-Naver-Client-Id\",client_id)\n",
    "request.add_header(\"X-Naver-Client-Secret\",client_secret)\n",
    "response = urllib.request.urlopen(request)\n",
    "rescode = response.getcode()\n",
    "if(rescode==200):\n",
    "    response_body = response.read()\n",
    "    print(response_body.decode('utf-8'))\n",
    "else:\n",
    "    print(\"Error Code:\" + rescode)"
   ]
  },
  {
   "cell_type": "code",
   "execution_count": null,
   "id": "4c384416",
   "metadata": {},
   "outputs": [],
   "source": [
    "def naver_news():\n",
    "\n",
    "\n",
    "    news_lists = []\n",
    "    page = 1\n",
    "    start = 1\n",
    "    load_dotenv()\n",
    "    \n",
    "    while True:\n",
    "        client_id = os.getenv('client_id') # 네이버 api에 접속 가능한 id \n",
    "        client_secret = os.getenv('client_secret')      # 네이버 api에 접속 가능한 pw \n",
    "        url = f\"https://openapi.naver.com/v1/search/{service}.json\"\n",
    "        payload = {'query': '핀테크', 'display' :10, 'start':1, 'sort':'sim'}\n",
    "        headers = {\"X-Naver-Client-Id\" : client_id ,\"X-Naver-Client-Secret\" : client_secret }\n",
    " \n",
    "        try:\n",
    "        \n",
    "            r= requests.get(url, params= payload, headers =headers)\n",
    "            \n",
    "            if(r.status_code==200):\n",
    "                data = r.json()\n",
    "                book_lists.append(data)\n",
    "                total_page = data['total'] // 10 + 1\n",
    "                if total_page > 100:\n",
    "                    total_page = 100\n",
    "\n",
    "            else:\n",
    "                print(\"Error Code:\" + r.status_code)\n",
    "                break\n",
    "\n",
    "            if page < total_page:\n",
    "                page += 1\n",
    "                if start != 991:\n",
    "                    start += 10\n",
    "                elif start == 991:\n",
    "                    start += 9\n",
    "                print(f\"{page:03d}/{total_page:03d}, start: {start} 추출중\", end=\"\\r\")\n",
    "            else:\n",
    "                break\n",
    "            time.sleep(0.5)\n",
    "        except Exception as e:\n",
    "            print(e)\n",
    "            break\n",
    "\n",
    "\n",
    "    print(len(news_lists))\n",
    "    result = pd.DataFrame()\n",
    "    for news in news_lists:\n",
    "        temp = pd.json_normalize(news['items'])\n",
    "        result = pd.concat([result, temp])\n",
    "    result"
   ]
  },
  {
   "cell_type": "code",
   "execution_count": null,
   "id": "cb1ff01f",
   "metadata": {},
   "outputs": [],
   "source": []
  },
  {
   "cell_type": "code",
   "execution_count": null,
   "id": "c522122f",
   "metadata": {},
   "outputs": [],
   "source": []
  },
  {
   "cell_type": "code",
   "execution_count": null,
   "id": "e38853d5",
   "metadata": {},
   "outputs": [],
   "source": []
  },
  {
   "cell_type": "code",
   "execution_count": null,
   "id": "57194ba4",
   "metadata": {},
   "outputs": [],
   "source": []
  },
  {
   "cell_type": "code",
   "execution_count": null,
   "id": "93aaa5f7",
   "metadata": {},
   "outputs": [],
   "source": []
  },
  {
   "cell_type": "code",
   "execution_count": null,
   "id": "de9c61f8",
   "metadata": {},
   "outputs": [],
   "source": []
  },
  {
   "cell_type": "code",
   "execution_count": null,
   "id": "24d13868",
   "metadata": {},
   "outputs": [],
   "source": []
  },
  {
   "cell_type": "code",
   "execution_count": null,
   "id": "a81afc3d",
   "metadata": {},
   "outputs": [],
   "source": []
  },
  {
   "cell_type": "code",
   "execution_count": null,
   "id": "b766abd0",
   "metadata": {},
   "outputs": [],
   "source": []
  }
 ],
 "metadata": {
  "kernelspec": {
   "display_name": "Python 3 (ipykernel)",
   "language": "python",
   "name": "python3"
  },
  "language_info": {
   "codemirror_mode": {
    "name": "ipython",
    "version": 3
   },
   "file_extension": ".py",
   "mimetype": "text/x-python",
   "name": "python",
   "nbconvert_exporter": "python",
   "pygments_lexer": "ipython3",
   "version": "3.10.14"
  }
 },
 "nbformat": 4,
 "nbformat_minor": 5
}
