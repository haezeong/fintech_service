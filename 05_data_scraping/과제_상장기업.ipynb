{
 "cells": [
  {
   "cell_type": "code",
   "execution_count": null,
   "id": "5c82a31c",
   "metadata": {},
   "outputs": [],
   "source": [
    "import time\n",
    "from datetime import date\n",
    "import requests\n",
    "import pandas as pd\n",
    "from bs4 import BeautifulSoup as bs"
   ]
  },
  {
   "cell_type": "code",
   "execution_count": null,
   "id": "0dac454e",
   "metadata": {},
   "outputs": [],
   "source": [
    "page = 1\n",
    "page_size = 100\n",
    "final_result_df = pd.DataFrame()\n",
    "while True:\n",
    "    url = \"https://kind.krx.co.kr/corpgeneral/corpList.do\"\n",
    "    payload = dict(method='searchCorpList',pageIndex=page, currentPageSize=page_size,orderMode=3,orderStat='D',searchType=13, fiscalYearEnd='all', location='all')\n",
    "    r = requests.get(url, params=payload)\n",
    "    print(r.status_code, end=\"\\r\")\n",
    "    soup = bs(r.text, 'lxml')\n",
    "    total_items = int(soup.select_one(\".info.type-00 > em\").text.replace(\",\", \"\"))\n",
    "    total_pages = total_items // page_size + 1\n",
    "    print(f\"{page}/{total_pages} 수집중\", end=\"\\r\")\n",
    "    keys = soup.select_one(\"table.list.type-00.tmt30\")['summary'].split(\", \")  \n",
    "    result = {}\n",
    "    for tr in soup.select('tr'):\n",
    "        for idx, (key, td) in enumerate(zip(keys, tr.select('td'))):\n",
    "            if idx == 0:\n",
    "                kinds = [img['alt'].strip() for img in td.select('img')]   # 1번째 증권 종류, 회사이름\n",
    "                kind = \", \".join(kinds)\n",
    "                code = td.select_one('a')['onclick'].split(\"'\")[1]+\"0\" # 종목코드 추출\n",
    "                result.setdefault('증권종류', []).append(kind) # 증권종류 저장\n",
    "                result.setdefault(key, []).append(td.text)   # 회사이름 저장\n",
    "                result.setdefault('종목코드', []).append(code)\n",
    "            elif idx == 6:\n",
    "                home_link = td.select_one('a')['href'] if td.string == None else \"\"  # 6번째 링크 찾기\n",
    "                result.setdefault(key, []).append(home_link)\n",
    "            else:\n",
    "                result.setdefault(key, []).append(td.text)\n",
    "    result_df = pd.DataFrame(result)\n",
    "    final_result_df = pd.concat([final_result_df, result_df])\n",
    "        \n",
    "    if page < total_pages:\n",
    "        page += 1\n",
    "        time.sleep(5)\n",
    "    else:\n",
    "        break\n",
    "\n",
    "display(final_result_df)\n",
    "# final_result_df.to_csv(f\"상장기업정보{today}_기준.csv\", encoding='utf-8', index=False)  # 수집일 기준으로 csv 파일로 저장"
   ]
  },
  {
   "cell_type": "code",
   "execution_count": null,
   "id": "d39a6fc7",
   "metadata": {},
   "outputs": [],
   "source": [
    "final_result_df = pd.read_csv(\"./상장기업정보2024-07-29_기준.csv\")\n",
    "final_result_df"
   ]
  },
  {
   "cell_type": "code",
   "execution_count": null,
   "id": "57e73c56",
   "metadata": {},
   "outputs": [],
   "source": []
  },
  {
   "cell_type": "code",
   "execution_count": null,
   "id": "84f5508c",
   "metadata": {},
   "outputs": [],
   "source": [
    "!conda install PyMySQL       # mysql에 접속하게 해주는 라이브러리\n",
    "!conda install sqlalchemy    # sql을 쉽게 사용하게 해주는 라이브러리"
   ]
  },
  {
   "cell_type": "code",
   "execution_count": null,
   "id": "6fc97967",
   "metadata": {},
   "outputs": [],
   "source": [
    "\n",
    "import os\n",
    "from sqlalchemy import create_engine, text\n",
    "import pymysql\n",
    "pymysql.install_as_MySQLdb()\n",
    "from dotenv import load_dotenv\n",
    "load_dotenv(dotenv_path=\".dbenv\")"
   ]
  },
  {
   "cell_type": "code",
   "execution_count": null,
   "id": "7a63907a",
   "metadata": {},
   "outputs": [],
   "source": [
    "db=\"mysql\"\n",
    "dbtype=\"pymysql\"\n",
    "user=\"root\"\n",
    "pw=\"1234\"\n",
    "host=\"127.0.0.1:3306\"\n",
    "database=\"korean_stock\""
   ]
  },
  {
   "cell_type": "code",
   "execution_count": null,
   "id": "19add809",
   "metadata": {},
   "outputs": [],
   "source": [
    "# SQLAlchemy 엔진 생성 => mysql 서버에 접속\n",
    "engine = create_engine(f\"mysql+{dbtype}://{user}:{password}@{host}\")\n",
    "conn = engine.connect()"
   ]
  },
  {
   "cell_type": "code",
   "execution_count": null,
   "id": "71c23ace",
   "metadata": {},
   "outputs": [],
   "source": [
    "# 데이터베이스에 접속 후 데이터베이스 생성\n",
    "conn.execute(text('CREATE DATABASE IF NOT EXISTS korean_stock'))\n",
    "conn.close()"
   ]
  },
  {
   "cell_type": "code",
   "execution_count": null,
   "id": "5da518e0",
   "metadata": {},
   "outputs": [],
   "source": [
    "today = today.replace(\"-\", \"_\")\n",
    "today"
   ]
  },
  {
   "cell_type": "code",
   "execution_count": null,
   "id": "83d6d658",
   "metadata": {},
   "outputs": [],
   "source": [
    "#DataFrame을 MySQL 테이블로 저장\n",
    "engine = create_engine(f\"mysql+{dbtype}://{user}:{password}@{host}\")\n",
    "conn = engine.connect()\n",
    "final_result_df.to_sql(f'stock_company_info', con=conn, if_exists='replace', index=False)\n",
    "conn.close()"
   ]
  },
  {
   "cell_type": "code",
   "execution_count": null,
   "id": "b490936c",
   "metadata": {},
   "outputs": [],
   "source": [
    "final_result_df"
   ]
  },
  {
   "cell_type": "code",
   "execution_count": null,
   "id": "1a329cf6",
   "metadata": {},
   "outputs": [],
   "source": []
  },
  {
   "cell_type": "code",
   "execution_count": null,
   "id": "a69adcd7",
   "metadata": {},
   "outputs": [],
   "source": []
  },
  {
   "cell_type": "code",
   "execution_count": null,
   "id": "867de093",
   "metadata": {},
   "outputs": [],
   "source": []
  },
  {
   "cell_type": "code",
   "execution_count": null,
   "id": "bff6b458",
   "metadata": {},
   "outputs": [],
   "source": []
  },
  {
   "cell_type": "code",
   "execution_count": null,
   "id": "fe2469fb",
   "metadata": {},
   "outputs": [],
   "source": []
  },
  {
   "cell_type": "code",
   "execution_count": null,
   "id": "462ce8a1",
   "metadata": {},
   "outputs": [],
   "source": []
  },
  {
   "cell_type": "code",
   "execution_count": null,
   "id": "f3b8354c",
   "metadata": {},
   "outputs": [],
   "source": []
  },
  {
   "cell_type": "code",
   "execution_count": null,
   "id": "ba079573",
   "metadata": {},
   "outputs": [],
   "source": []
  },
  {
   "cell_type": "code",
   "execution_count": null,
   "id": "03f68445",
   "metadata": {},
   "outputs": [],
   "source": []
  },
  {
   "cell_type": "code",
   "execution_count": null,
   "id": "c2562fab",
   "metadata": {},
   "outputs": [],
   "source": []
  },
  {
   "cell_type": "code",
   "execution_count": null,
   "id": "68f06072",
   "metadata": {},
   "outputs": [],
   "source": []
  },
  {
   "cell_type": "code",
   "execution_count": null,
   "id": "16fc8b0b",
   "metadata": {},
   "outputs": [],
   "source": []
  },
  {
   "cell_type": "code",
   "execution_count": null,
   "id": "3f75f86b",
   "metadata": {},
   "outputs": [],
   "source": []
  },
  {
   "cell_type": "code",
   "execution_count": null,
   "id": "abf56be4",
   "metadata": {},
   "outputs": [],
   "source": []
  },
  {
   "cell_type": "code",
   "execution_count": null,
   "id": "2823f33c",
   "metadata": {},
   "outputs": [],
   "source": []
  },
  {
   "cell_type": "code",
   "execution_count": null,
   "id": "29dc52f1",
   "metadata": {},
   "outputs": [],
   "source": []
  },
  {
   "cell_type": "code",
   "execution_count": null,
   "id": "be6da443",
   "metadata": {},
   "outputs": [],
   "source": []
  },
  {
   "cell_type": "code",
   "execution_count": null,
   "id": "b5946574",
   "metadata": {},
   "outputs": [],
   "source": []
  },
  {
   "cell_type": "code",
   "execution_count": null,
   "id": "b7cb64c8",
   "metadata": {},
   "outputs": [],
   "source": []
  },
  {
   "cell_type": "code",
   "execution_count": null,
   "id": "a024eefd",
   "metadata": {},
   "outputs": [],
   "source": []
  }
 ],
 "metadata": {
  "kernelspec": {
   "display_name": "Python 3 (ipykernel)",
   "language": "python",
   "name": "python3"
  },
  "language_info": {
   "codemirror_mode": {
    "name": "ipython",
    "version": 3
   },
   "file_extension": ".py",
   "mimetype": "text/x-python",
   "name": "python",
   "nbconvert_exporter": "python",
   "pygments_lexer": "ipython3",
   "version": "3.10.14"
  }
 },
 "nbformat": 4,
 "nbformat_minor": 5
}
