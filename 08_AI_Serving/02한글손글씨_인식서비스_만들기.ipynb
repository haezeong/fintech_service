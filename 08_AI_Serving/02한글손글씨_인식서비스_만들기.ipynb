{
 "cells": [
  {
   "cell_type": "markdown",
   "id": "3787965a",
   "metadata": {},
   "source": [
    "# 한글 손글씨 인식 서비스 만들기"
   ]
  },
  {
   "cell_type": "code",
   "execution_count": null,
   "id": "63e5414a",
   "metadata": {},
   "outputs": [],
   "source": []
  },
  {
   "cell_type": "code",
   "execution_count": 8,
   "id": "7abdb3ff",
   "metadata": {},
   "outputs": [],
   "source": [
    "import os\n",
    "import numpy as np\n",
    "import gradio as gr\n",
    "from PIL import Image\n",
    "from transformers import TrOCRProcessor, VisionEncoderDecoderModel"
   ]
  },
  {
   "cell_type": "code",
   "execution_count": 3,
   "id": "1b9bd0b7",
   "metadata": {},
   "outputs": [
    {
     "name": "stdout",
     "output_type": "stream",
     "text": [
      "Recognized Text: 감사합니다-\n"
     ]
    },
    {
     "name": "stderr",
     "output_type": "stream",
     "text": [
      "/home/user/miniforge3/envs/torch/lib/python3.11/site-packages/transformers/generation/utils.py:1258: UserWarning: Using the model-agnostic default `max_length` (=20) to control the generation length. We recommend setting `max_new_tokens` to control the maximum length of the generation.\n",
      "  warnings.warn(\n"
     ]
    }
   ],
   "source": [
    "# import torch\n",
    "# from transformers import VisionEncoderDecoderModel, AutoTokenizer\n",
    "# from PIL import Image\n",
    "# from torchvision import transforms\n",
    "\n",
    "# # 1. 모델과 토크나이저 로드\n",
    "# model = VisionEncoderDecoderModel.from_pretrained(\"team-lucid/trocr-small-korean\")\n",
    "# tokenizer = AutoTokenizer.from_pretrained(\"team-lucid/trocr-small-korean\")\n",
    "\n",
    "# # 2. 이미지 전처리 함수 정의\n",
    "# def preprocess_image(image_path):\n",
    "#     # 이미지 불러오기\n",
    "#     image = Image.open(image_path).convert(\"RGB\")\n",
    "    \n",
    "#     # 모델에 맞는 변환 정의\n",
    "#     transform = transforms.Compose([\n",
    "#         transforms.Resize((384, 384)),\n",
    "#         transforms.ToTensor()\n",
    "#     ])\n",
    "    \n",
    "#     # 이미지 변환 및 배치 차원 추가\n",
    "#     pixel_values = transform(image).unsqueeze(0)\n",
    "#     return pixel_values\n",
    "\n",
    "# # 3. 한글 손글씨 인식 함수 정의\n",
    "# def recognize_handwriting(image_path):\n",
    "#     pixel_values = preprocess_image(image_path)\n",
    "    \n",
    "#     # 모델로 텍스트 생성\n",
    "#     generated_ids = model.generate(pixel_values)\n",
    "    \n",
    "#     # 생성된 텍스트 디코딩\n",
    "#     generated_text = tokenizer.batch_decode(generated_ids, skip_special_tokens=True)[0]\n",
    "    \n",
    "#     return generated_text\n",
    "\n",
    "# # 4. 서비스 예시\n",
    "# if __name__ == \"__main__\":\n",
    "#     image_path = \"./examples/thumb_d_DE59850E201C5CEC82C8CB9BF7047DA0.jpg\"  # 인식할 손글씨 이미지 경로\n",
    "#     recognized_text = recognize_handwriting(image_path)\n",
    "#     print(\"Recognized Text:\", recognized_text)\n"
   ]
  },
  {
   "cell_type": "code",
   "execution_count": 5,
   "id": "72de1c3c",
   "metadata": {},
   "outputs": [
    {
     "name": "stderr",
     "output_type": "stream",
     "text": [
      "/home/user/miniforge3/envs/torch/lib/python3.11/site-packages/transformers/tokenization_utils_base.py:1601: FutureWarning: `clean_up_tokenization_spaces` was not set. It will be set to `True` by default. This behavior will be depracted in transformers v4.45, and will be then set to `False` by default. For more details check this issue: https://github.com/huggingface/transformers/issues/31884\n",
      "  warnings.warn(\n"
     ]
    },
    {
     "name": "stdout",
     "output_type": "stream",
     "text": [
      "지방토목주사\n"
     ]
    }
   ],
   "source": [
    "# from transformers import TrOCRProcessor, VisionEncoderDecoderModel, AutoTokenizer\n",
    "# import requests \n",
    "# import unicodedata\n",
    "# from io import BytesIO\n",
    "# from PIL import Image\n",
    "\n",
    "# processor = TrOCRProcessor.from_pretrained(\"ddobokki/ko-trocr\") \n",
    "# model = VisionEncoderDecoderModel.from_pretrained(\"ddobokki/ko-trocr\")\n",
    "# tokenizer = AutoTokenizer.from_pretrained(\"ddobokki/ko-trocr\")\n",
    "\n",
    "# url = \"https://raw.githubusercontent.com/ddobokki/ocr_img_example/master/g.jpg\"\n",
    "# response = requests.get(url)\n",
    "# img = Image.open(BytesIO(response.content))\n",
    "\n",
    "# pixel_values = processor(img, return_tensors=\"pt\").pixel_values \n",
    "# generated_ids = model.generate(pixel_values, max_length=64)\n",
    "# generated_text = tokenizer.batch_decode(generated_ids, skip_special_tokens=True)[0]\n",
    "# generated_text = unicodedata.normalize(\"NFC\", generated_text)\n",
    "# print(generated_text)\n"
   ]
  },
  {
   "cell_type": "code",
   "execution_count": 7,
   "id": "402524c0",
   "metadata": {
    "scrolled": false
   },
   "outputs": [
    {
     "name": "stdout",
     "output_type": "stream",
     "text": [
      "[info] init TrOCR Inferencer\n"
     ]
    },
    {
     "name": "stderr",
     "output_type": "stream",
     "text": [
      "/home/user/miniforge3/envs/torch/lib/python3.11/site-packages/transformers/tokenization_utils_base.py:1601: FutureWarning: `clean_up_tokenization_spaces` was not set. It will be set to `True` by default. This behavior will be depracted in transformers v4.45, and will be then set to `False` by default. For more details check this issue: https://github.com/huggingface/transformers/issues/31884\n",
      "  warnings.warn(\n"
     ]
    },
    {
     "name": "stdout",
     "output_type": "stream",
     "text": [
      "Running on local URL:  http://127.0.0.1:7864\n",
      "IMPORTANT: You are using gradio version 3.40.0, however version 4.29.0 is available, please upgrade.\n",
      "--------\n",
      "Running on public URL: https://bba89aab0a1f24716b.gradio.live\n",
      "\n",
      "This share link expires in 72 hours. For free permanent hosting and GPU upgrades, run `gradio deploy` from Terminal to deploy to Spaces (https://huggingface.co/spaces)\n"
     ]
    },
    {
     "data": {
      "text/plain": []
     },
     "execution_count": 7,
     "metadata": {},
     "output_type": "execute_result"
    }
   ],
   "source": [
    "# from transformers import TrOCRProcessor, VisionEncoderDecoderModel, AutoTokenizer\n",
    "# import requests \n",
    "# import unicodedata\n",
    "# from io import BytesIO\n",
    "# from PIL import Image\n",
    "\n",
    "# class TrOCRInferencer:\n",
    "#     def __init__(self):\n",
    "#         print(\"[info] init TrOCR Inferencer\")\n",
    "#         self.processor = TrOCRProcessor.from_pretrained(\"ddobokki/ko-trocr\")\n",
    "#         self.model = VisionEncoderDecoderModel.from_pretrained(\"ddobokki/ko-trocr\")\n",
    "#         self.tokenizer = AutoTokenizer.from_pretrained(\"ddobokki/ko-trocr\")\n",
    "        \n",
    "#     def inference(self, image):\n",
    "#         pixel_values = self.processor(image, return_tensors='pt').pixel_values\n",
    "#         generated_ids = self.model.generate(pixel_values, max_length=64)\n",
    "#         generated_text = self.tokenizer.batch_decode(generated_ids, skip_special_tokens=True)[0]\n",
    "#         generated_text = unicodedata.normalize(\"NFC\", generated_text)\n",
    "#         return generated_text\n",
    "\n",
    "# inferencer = TrOCRInferencer()\n",
    "\n",
    "# def image_to_text(image):\n",
    "#     image = Image.fromarray(image).convert('RGB')\n",
    "#     text = inferencer.inference(image)\n",
    "#     return text\n",
    "\n",
    "# # The rest of the code for the Gradio app remains the same\n",
    "# import gradio as gr\n",
    "# import os\n",
    "\n",
    "# with gr.Blocks() as app:\n",
    "#     gr.Markdown(\"# Handwritten Image OCR\")\n",
    "#     with gr.Tab(\"Image upload\"):\n",
    "#         image = gr.Image(label=\"Handritten image file\")\n",
    "#         output = gr.Textbox(label=\"Output Box\")\n",
    "#         convert_btn = gr.Button(\"Convert\")\n",
    "#         convert_btn.click(\n",
    "#             fn=image_to_text, inputs=image, outputs=output\n",
    "#         )\n",
    "#         gr.Markdown(\"## Image Examples\")\n",
    "#         gr.Examples(\n",
    "#             examples=[\n",
    "#                 os.path.join(os.getcwd(), \"examples/Hello.png\"),\n",
    "#                 os.path.join(os.getcwd(), \"examples/Hello_cursive.png\"),\n",
    "#                 os.path.join(os.getcwd(), \"examples/Red.png\"),\n",
    "#                 os.path.join(os.getcwd(), \"examples/sentence.png\"),\n",
    "#                 os.path.join(os.getcwd(), \"examples/i_love_you.png\"),\n",
    "#                 os.path.join(os.getcwd(), \"examples/merrychristmas.png\"),\n",
    "#                 os.path.join(os.getcwd(), \"examples/Rock.png\"),\n",
    "#                 os.path.join(os.getcwd(), \"examples/Bob.png\"),\n",
    "#                 ],\n",
    "#             inputs=image,\n",
    "#             outputs=output,\n",
    "#             fn=image_to_text\n",
    "#         )\n",
    "#     with gr.Tab(\"Drawing\"):\n",
    "#         gr.Markdown(\"# Handwritten Image OCR\")\n",
    "#         sketchpad = gr.Sketchpad(\n",
    "#             label=\"Handwritten Sketchpad\",\n",
    "#             shape=(600, 300),\n",
    "#             brush_radius=3,\n",
    "#             invert_colors=False,\n",
    "#         )\n",
    "#         output = gr.Textbox(label=\"Output Box\")\n",
    "#         convert_btn = gr.Button(\"Convert\")\n",
    "#         convert_btn.click(\n",
    "#             fn=image_to_text, inputs=sketchpad, outputs=output\n",
    "#         )\n",
    "# app.launch(inline=False, share=True)\n"
   ]
  },
  {
   "cell_type": "markdown",
   "id": "ef887cd0",
   "metadata": {},
   "source": [
    "# 최종코드"
   ]
  },
  {
   "cell_type": "code",
   "execution_count": 12,
   "id": "62bc553c",
   "metadata": {},
   "outputs": [],
   "source": [
    "from transformers import TrOCRProcessor, VisionEncoderDecoderModel, AutoTokenizer\n",
    "import requests \n",
    "import unicodedata\n",
    "from io import BytesIO\n",
    "from PIL import Image\n"
   ]
  },
  {
   "cell_type": "code",
   "execution_count": 13,
   "id": "a4950827",
   "metadata": {},
   "outputs": [
    {
     "name": "stdout",
     "output_type": "stream",
     "text": [
      "[info] init TrOCR Inferencer\n"
     ]
    },
    {
     "name": "stderr",
     "output_type": "stream",
     "text": [
      "/home/user/miniforge3/envs/torch/lib/python3.11/site-packages/transformers/tokenization_utils_base.py:1601: FutureWarning: `clean_up_tokenization_spaces` was not set. It will be set to `True` by default. This behavior will be depracted in transformers v4.45, and will be then set to `False` by default. For more details check this issue: https://github.com/huggingface/transformers/issues/31884\n",
      "  warnings.warn(\n"
     ]
    },
    {
     "name": "stdout",
     "output_type": "stream",
     "text": [
      "Running on local URL:  http://127.0.0.1:7866\n",
      "IMPORTANT: You are using gradio version 3.40.0, however version 4.29.0 is available, please upgrade.\n",
      "--------\n",
      "Running on public URL: https://749c239e7ae99913bf.gradio.live\n",
      "\n",
      "This share link expires in 72 hours. For free permanent hosting and GPU upgrades, run `gradio deploy` from Terminal to deploy to Spaces (https://huggingface.co/spaces)\n"
     ]
    },
    {
     "data": {
      "text/plain": []
     },
     "execution_count": 13,
     "metadata": {},
     "output_type": "execute_result"
    }
   ],
   "source": [
    "class TrOCRInferencer:\n",
    "    def __init__(self):\n",
    "        print(\"[info] init TrOCR Inferencer\")\n",
    "        self.processor = TrOCRProcessor.from_pretrained(\"ddobokki/ko-trocr\")\n",
    "        self.model = VisionEncoderDecoderModel.from_pretrained(\"ddobokki/ko-trocr\")\n",
    "        self.tokenizer = AutoTokenizer.from_pretrained(\"ddobokki/ko-trocr\")\n",
    "        \n",
    "    def inference(self, image):\n",
    "        pixel_values = self.processor(image, return_tensors='pt').pixel_values\n",
    "        generated_ids = self.model.generate(pixel_values, max_length=64)\n",
    "        generated_text = self.tokenizer.batch_decode(generated_ids, skip_special_tokens=True)[0]\n",
    "        generated_text = unicodedata.normalize(\"NFC\", generated_text)\n",
    "        return generated_text\n",
    "\n",
    "inferencer = TrOCRInferencer()\n",
    "\n",
    "def image_to_text(image):\n",
    "    image = Image.fromarray(image).convert('RGB')\n",
    "    text = inferencer.inference(image)\n",
    "    return text\n",
    "\n",
    "# Gradio app without examples\n",
    "import gradio as gr\n",
    "\n",
    "with gr.Blocks() as app:\n",
    "    gr.Markdown(\"# Handwritten Image OCR\")\n",
    "    with gr.Tab(\"Image upload\"):\n",
    "        image = gr.Image(label=\"Handwritten image file\")\n",
    "        output = gr.Textbox(label=\"Output Box\")\n",
    "        convert_btn = gr.Button(\"Convert\")\n",
    "        convert_btn.click(\n",
    "            fn=image_to_text, inputs=image, outputs=output\n",
    "        )\n",
    "    with gr.Tab(\"Drawing\"):\n",
    "        gr.Markdown(\"# Handwritten Image OCR\")\n",
    "        sketchpad = gr.Sketchpad(\n",
    "            label=\"Handwritten Sketchpad\",\n",
    "            shape=(600, 300),\n",
    "            brush_radius=3,\n",
    "            invert_colors=False,\n",
    "        )\n",
    "        output = gr.Textbox(label=\"Output Box\")\n",
    "        convert_btn = gr.Button(\"Convert\")\n",
    "        convert_btn.click(\n",
    "            fn=image_to_text, inputs=sketchpad, outputs=output\n",
    "        )\n",
    "app.launch(inline=False, share=True)\n"
   ]
  },
  {
   "cell_type": "code",
   "execution_count": null,
   "id": "5de1d6b9",
   "metadata": {},
   "outputs": [],
   "source": [
    "class TrOCRInferencer:\n",
    "    def __init__(self):\n",
    "        print(\"[info] init TrOCR Inferencer\")\n",
    "#         self.processor = TrOCRProcessor.from_pretrained(\"microsoft/trocr-large-handwritten\")\n",
    "#         self.model = VisionEncoderDecoderModel.from_pretrained('microsoft/trocr-large-handwritten')\n",
    "        self.processor = TrOCRProcessor.from_pretrained(\"ddobokki/ko-trocr\") \n",
    "        self.model = VisionEncoderDecoderModel.from_pretrained(\"ddobokki/ko-trocr\")\n",
    "        self.tokenizer = AutoTokenizer.from_pretrained(\"ddobokki/ko-trocr\")\n",
    "\n",
    "\n",
    "    def inference(self, image):\n",
    "#         pixel_values = self.processor(images=image, return_tensors='pt').pixel_values\n",
    "#         generated_ids = self.model.generate(pixel_values)\n",
    "#         generated_text = self.processor.batch_decode(generated_ids, skip_special_tokens=True)[0]\n",
    "        \n",
    "        pixel_values = self.processor(img, return_tensors=\"pt\").pixel_values \n",
    "        generated_ids = self.model.generate(pixel_values, max_length=64)\n",
    "        generated_text = self.tokenizer.batch_decode(generated_ids, skip_special_tokens=True)[0]\n",
    "        generated_text = unicodedata.normalize(\"NFC\", generated_text)\n",
    "        \n",
    "        return generated_text\n",
    "\n",
    "inferencer = TrOCRInferencer()\n",
    "\n",
    "def image_to_text(image):\n",
    "    image =Image.fromarray(image).convert('RGB')\n",
    "    text = inferencer.inference(image)\n",
    "    return text\n",
    "\n",
    "with gr.Blocks() as app:\n",
    "    gr.Markdown(\"# Handwritten Image OCR\")\n",
    "    with gr.Tab(\"Image upload\"):\n",
    "        image = gr.Image(label=\"Handritten image file\")\n",
    "        output = gr.Textbox(label=\"Output Box\")\n",
    "        convert_btn = gr.Button(\"Convert\")\n",
    "        convert_btn.click(\n",
    "            fn=image_to_text, inputs=image, outputs=output\n",
    "        )\n",
    "        gr.Markdown(\"## Image Examples\")\n",
    "        gr.Examples(\n",
    "            examples=[\n",
    "                os.path.join(os.getcwd(), \"examples/Hello.png\"),\n",
    "                os.path.join(os.getcwd(), \"examples/Hello_cursive.png\"),\n",
    "                os.path.join(os.getcwd(), \"examples/Red.png\"),\n",
    "                os.path.join(os.getcwd(), \"examples/sentence.png\"),\n",
    "                os.path.join(os.getcwd(), \"examples/i_love_you.png\"),\n",
    "                os.path.join(os.getcwd(), \"examples/merrychristmas.png\"),\n",
    "                os.path.join(os.getcwd(), \"examples/Rock.png\"),\n",
    "                os.path.join(os.getcwd(), \"examples/Bob.png\"),\n",
    "                ],\n",
    "            inputs=image,\n",
    "            outputs=output,\n",
    "            fn=image_to_text\n",
    "            )\n",
    "    with gr.Tab(\"Drawing\"):\n",
    "        gr.Markdown(\"# Handwritten Image OCR\")\n",
    "        sketchpad = gr.Sketchpad(\n",
    "            label = \"Handwritten Sektchpad\",\n",
    "            shape=(600, 300),\n",
    "            brush_radius=3,\n",
    "            invert_colors=False,\n",
    "            )\n",
    "        output = gr.Textbox(label=\"Output Box\")\n",
    "        convert_btn = gr.Button(\"Convert\")\n",
    "        convert_btn.click(\n",
    "            fn=image_to_text, inputs=sketchpad, outputs=output\n",
    "            )\n",
    "app.launch(inline=False, share=True)"
   ]
  },
  {
   "cell_type": "code",
   "execution_count": null,
   "id": "4182d1ad",
   "metadata": {},
   "outputs": [],
   "source": []
  },
  {
   "cell_type": "code",
   "execution_count": null,
   "id": "9f36cc11",
   "metadata": {},
   "outputs": [],
   "source": []
  },
  {
   "cell_type": "code",
   "execution_count": null,
   "id": "920ed2bb",
   "metadata": {},
   "outputs": [],
   "source": []
  },
  {
   "cell_type": "code",
   "execution_count": null,
   "id": "a6fe3395",
   "metadata": {},
   "outputs": [],
   "source": []
  },
  {
   "cell_type": "code",
   "execution_count": null,
   "id": "03894092",
   "metadata": {},
   "outputs": [],
   "source": []
  },
  {
   "cell_type": "code",
   "execution_count": null,
   "id": "f1037f5e",
   "metadata": {},
   "outputs": [],
   "source": []
  },
  {
   "cell_type": "code",
   "execution_count": null,
   "id": "0b66ab14",
   "metadata": {},
   "outputs": [],
   "source": []
  },
  {
   "cell_type": "code",
   "execution_count": null,
   "id": "641d2b13",
   "metadata": {},
   "outputs": [],
   "source": []
  },
  {
   "cell_type": "code",
   "execution_count": null,
   "id": "fd8ae87c",
   "metadata": {},
   "outputs": [],
   "source": []
  },
  {
   "cell_type": "code",
   "execution_count": null,
   "id": "3de7b695",
   "metadata": {},
   "outputs": [],
   "source": []
  },
  {
   "cell_type": "code",
   "execution_count": null,
   "id": "c1574240",
   "metadata": {},
   "outputs": [],
   "source": []
  },
  {
   "cell_type": "code",
   "execution_count": null,
   "id": "033eb7c6",
   "metadata": {},
   "outputs": [],
   "source": []
  },
  {
   "cell_type": "code",
   "execution_count": null,
   "id": "dd1f59ab",
   "metadata": {},
   "outputs": [],
   "source": []
  }
 ],
 "metadata": {
  "kernelspec": {
   "display_name": "Python 3 (ipykernel)",
   "language": "python",
   "name": "python3"
  },
  "language_info": {
   "codemirror_mode": {
    "name": "ipython",
    "version": 3
   },
   "file_extension": ".py",
   "mimetype": "text/x-python",
   "name": "python",
   "nbconvert_exporter": "python",
   "pygments_lexer": "ipython3",
   "version": "3.11.10"
  }
 },
 "nbformat": 4,
 "nbformat_minor": 5
}
