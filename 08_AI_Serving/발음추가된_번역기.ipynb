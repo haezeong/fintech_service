{
 "cells": [
  {
   "cell_type": "code",
   "execution_count": 1,
   "id": "f2c5ef2c",
   "metadata": {},
   "outputs": [
    {
     "name": "stdout",
     "output_type": "stream",
     "text": [
      "Collecting gtts\n",
      "  Downloading gTTS-2.5.3-py3-none-any.whl.metadata (4.1 kB)\n",
      "Requirement already satisfied: requests<3,>=2.27 in /home/user/miniforge3/envs/torch/lib/python3.11/site-packages (from gtts) (2.32.3)\n",
      "Requirement already satisfied: click<8.2,>=7.1 in /home/user/miniforge3/envs/torch/lib/python3.11/site-packages (from gtts) (8.1.7)\n",
      "Requirement already satisfied: charset-normalizer<4,>=2 in /home/user/miniforge3/envs/torch/lib/python3.11/site-packages (from requests<3,>=2.27->gtts) (3.3.2)\n",
      "Requirement already satisfied: idna<4,>=2.5 in /home/user/miniforge3/envs/torch/lib/python3.11/site-packages (from requests<3,>=2.27->gtts) (3.10)\n",
      "Requirement already satisfied: urllib3<3,>=1.21.1 in /home/user/miniforge3/envs/torch/lib/python3.11/site-packages (from requests<3,>=2.27->gtts) (2.2.3)\n",
      "Requirement already satisfied: certifi>=2017.4.17 in /home/user/miniforge3/envs/torch/lib/python3.11/site-packages (from requests<3,>=2.27->gtts) (2024.8.30)\n",
      "Downloading gTTS-2.5.3-py3-none-any.whl (29 kB)\n",
      "Installing collected packages: gtts\n",
      "Successfully installed gtts-2.5.3\n"
     ]
    }
   ],
   "source": [
    "!pip install gtts"
   ]
  },
  {
   "cell_type": "code",
   "execution_count": null,
   "id": "c0c9b1d0",
   "metadata": {},
   "outputs": [],
   "source": [
    "import gradio as gr\n",
    "from transformers import M2M100ForConditionalGeneration, M2M100Tokenizer\n",
    "import torch_directml  # Import torch-directml for DirectML device\n",
    "import torch  # Import PyTorch\n",
    "from gtts import gTTS  # Import Google Text-to-Speech\n",
    "import os  # For playing the sound file\n",
    "\n"
   ]
  },
  {
   "cell_type": "code",
   "execution_count": null,
   "id": "6421b9e5",
   "metadata": {},
   "outputs": [],
   "source": [
    "dml_device = torch_directml.device()\n"
   ]
  },
  {
   "cell_type": "code",
   "execution_count": null,
   "id": "dde84c31",
   "metadata": {},
   "outputs": [],
   "source": [
    "model = M2M100ForConditionalGeneration.from_pretrained(\"facebook/m2m100_418M\").to(dml_device)\n",
    "tokenizer = M2M100Tokenizer.from_pretrained(\"facebook/m2m100_418M\")\n"
   ]
  },
  {
   "cell_type": "code",
   "execution_count": null,
   "id": "8ea129e1",
   "metadata": {},
   "outputs": [],
   "source": [
    "languages = {\n",
    "    \"Korean\": \"ko\",\n",
    "    \"English\": \"en\",\n",
    "    \"French\": \"fr\",\n",
    "    \"Spanish\": \"es\",\n",
    "    \"German\": \"de\",\n",
    "    \"Japanese\": \"ja\",\n",
    "    \"Chinese (Simplified)\": \"zh\",\n",
    "    \"Russian\": \"ru\",\n",
    "    # Add more languages as needed\n",
    "}\n",
    "\n",
    "def translate(text, source_lang, target_lang):\n",
    "    tokenizer.src_lang = languages[source_lang]\n",
    "    encoded_text = tokenizer(text, return_tensors=\"pt\").to(dml_device)  # Send input tensors to DirectML device\n",
    "    generated_tokens = model.generate(**encoded_text, forced_bos_token_id=tokenizer.get_lang_id(languages[target_lang]))\n",
    "    translated_text = tokenizer.batch_decode(generated_tokens, skip_special_tokens=True)[0]\n",
    "\n",
    "    # Create the TTS audio using gTTS\n",
    "    tts = gTTS(text=translated_text, lang=languages[target_lang])\n",
    "    audio_file = \"translated_speech.mp3\"\n",
    "    tts.save(audio_file)\n",
    "    \n",
    "    return translated_text, audio_file\n",
    "\n",
    "with gr.Blocks() as app:\n",
    "    gr.Markdown(\"# Multilingual Translation Service\")\n",
    "\n",
    "    with gr.Row():\n",
    "        source_lang = gr.Dropdown(label=\"Source Language\", choices=list(languages.keys()), value=\"Korean\")\n",
    "        target_lang = gr.Dropdown(label=\"Target Language\", choices=list(languages.keys()), value=\"English\")\n",
    "\n",
    "    input_text = gr.Textbox(label=\"Input Text\")\n",
    "    output_text = gr.Textbox(label=\"Translated Text\")\n",
    "    audio_output = gr.Audio(label=\"Pronunciation\")\n",
    "    translate_btn = gr.Button(\"Translate\")\n",
    "\n",
    "    translate_btn.click(fn=translate, inputs=[input_text, source_lang, target_lang], outputs=[output_text, audio_output])\n",
    "\n",
    "app.launch(inline=False, share=True)\n"
   ]
  },
  {
   "cell_type": "code",
   "execution_count": null,
   "id": "3e33f2b2",
   "metadata": {},
   "outputs": [],
   "source": []
  }
 ],
 "metadata": {
  "kernelspec": {
   "display_name": "Python 3 (ipykernel)",
   "language": "python",
   "name": "python3"
  },
  "language_info": {
   "codemirror_mode": {
    "name": "ipython",
    "version": 3
   },
   "file_extension": ".py",
   "mimetype": "text/x-python",
   "name": "python",
   "nbconvert_exporter": "python",
   "pygments_lexer": "ipython3",
   "version": "3.10.14"
  }
 },
 "nbformat": 4,
 "nbformat_minor": 5
}
