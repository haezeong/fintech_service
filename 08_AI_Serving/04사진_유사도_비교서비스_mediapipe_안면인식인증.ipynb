{
 "cells": [
  {
   "cell_type": "code",
   "execution_count": null,
   "id": "29c001b2",
   "metadata": {},
   "outputs": [],
   "source": [
    "from IPython.core.display import display, HTML\n",
    "display(HTML(\"<style>.container {width:90% !important;}</style>\"))"
   ]
  },
  {
   "cell_type": "code",
   "execution_count": 1,
   "id": "e53c0a82",
   "metadata": {},
   "outputs": [],
   "source": [
    "# !pip install mediapipe"
   ]
  },
  {
   "cell_type": "code",
   "execution_count": 17,
   "id": "bfbe65e0",
   "metadata": {},
   "outputs": [],
   "source": [
    "import gradio as gr\n",
    "import cv2\n",
    "import numpy as np\n",
    "import mediapipe as mp\n",
    "from mediapipe.tasks import python\n",
    "from mediapipe.tasks.python import vision\n",
    "import urllib.request"
   ]
  },
  {
   "cell_type": "code",
   "execution_count": 18,
   "id": "22b28a56",
   "metadata": {},
   "outputs": [],
   "source": [
    "# MediaPipe Image Embedder 설정\n",
    "def get_embedder():\n",
    "    model_url = 'https://storage.googleapis.com/mediapipe-models/image_embedder/mobilenet_v3_small/float32/1/mobilenet_v3_small.tflite'\n",
    "    model_path = 'mobilenet_v3_small.tflite'\n",
    "    urllib.request.urlretrieve(model_url, model_path)\n",
    "    \n",
    "    base_options = python.BaseOptions(model_asset_path=model_path)\n",
    "    options = vision.ImageEmbedderOptions(\n",
    "        base_options=base_options, l2_normalize=True, quantize=True\n",
    "    )\n",
    "    embedder = vision.ImageEmbedder.create_from_options(options)\n",
    "    return embedder"
   ]
  },
  {
   "cell_type": "code",
   "execution_count": 19,
   "id": "f8a59ab4",
   "metadata": {},
   "outputs": [],
   "source": [
    "# 두 이미지의 코사인 유사도를 계산하는 함수\n",
    "def calculate_similarity(image1, image2):\n",
    "    embedder = get_embedder()\n",
    "    \n",
    "    # 이미지 포맷 변환 및 임베딩\n",
    "    mp_image1 = mp.Image(image_format=mp.ImageFormat.SRGB, data=image1)\n",
    "    mp_image2 = mp.Image(image_format=mp.ImageFormat.SRGB, data=image2)\n",
    "\n",
    "    embedding1 = embedder.embed(mp_image1)\n",
    "    embedding2 = embedder.embed(mp_image2)\n",
    "\n",
    "    # 코사인 유사도 계산\n",
    "    similarity = vision.ImageEmbedder.cosine_similarity(\n",
    "        embedding1.embeddings[0],\n",
    "        embedding2.embeddings[0]\n",
    "    )\n",
    "    \n",
    "    return f\"코사인 유사도: {similarity}\""
   ]
  },
  {
   "cell_type": "code",
   "execution_count": 20,
   "id": "6131761b",
   "metadata": {},
   "outputs": [
    {
     "name": "stdout",
     "output_type": "stream",
     "text": [
      "Running on local URL:  http://127.0.0.1:7860\n",
      "Running on public URL: https://5d1b262743812be0dc.gradio.live\n",
      "\n",
      "This share link expires in 72 hours. For free permanent hosting and GPU upgrades, run `gradio deploy` from Terminal to deploy to Spaces (https://huggingface.co/spaces)\n"
     ]
    },
    {
     "data": {
      "text/plain": []
     },
     "execution_count": 20,
     "metadata": {},
     "output_type": "execute_result"
    },
    {
     "name": "stderr",
     "output_type": "stream",
     "text": [
      "C:\\Users\\5-06\\miniforge3\\envs\\fintech\\lib\\site-packages\\google\\protobuf\\symbol_database.py:55: UserWarning: SymbolDatabase.GetPrototype() is deprecated. Please use message_factory.GetMessageClass() instead. SymbolDatabase.GetPrototype() will be removed soon.\n",
      "  warnings.warn('SymbolDatabase.GetPrototype() is deprecated. Please '\n",
      "C:\\Users\\5-06\\miniforge3\\envs\\fintech\\lib\\site-packages\\google\\protobuf\\symbol_database.py:55: UserWarning: SymbolDatabase.GetPrototype() is deprecated. Please use message_factory.GetMessageClass() instead. SymbolDatabase.GetPrototype() will be removed soon.\n",
      "  warnings.warn('SymbolDatabase.GetPrototype() is deprecated. Please '\n",
      "C:\\Users\\5-06\\miniforge3\\envs\\fintech\\lib\\site-packages\\google\\protobuf\\symbol_database.py:55: UserWarning: SymbolDatabase.GetPrototype() is deprecated. Please use message_factory.GetMessageClass() instead. SymbolDatabase.GetPrototype() will be removed soon.\n",
      "  warnings.warn('SymbolDatabase.GetPrototype() is deprecated. Please '\n"
     ]
    }
   ],
   "source": [
    "# Gradio 인터페이스 함수\n",
    "def process_images(image1, image2):\n",
    "    # OpenCV 형식으로 이미지를 읽어 numpy 배열로 변환\n",
    "    image1_np = np.array(image1)\n",
    "    image2_np = np.array(image2)\n",
    "    \n",
    "    # 유사도 계산\n",
    "    return calculate_similarity(image1_np, image2_np)\n",
    "\n",
    "# Gradio 앱 구성\n",
    "with gr.Blocks() as app:\n",
    "    gr.Markdown(\"# Image Similarity using MediaPipe\")\n",
    "\n",
    "    with gr.Tab(\"Upload two images\"):\n",
    "        with gr.Row():\n",
    "            image1 = gr.Image(label=\"Upload first image\")\n",
    "            image2 = gr.Image(label=\"Upload second image\")\n",
    "        output = gr.Textbox(label=\"Similarity Score\")\n",
    "        compare_btn = gr.Button(\"Compare\")\n",
    "        compare_btn.click(fn=process_images, inputs=[image1, image2], outputs=output)\n",
    "\n",
    "# Gradio 앱 실행\n",
    "app.launch(inline=False, share=True)"
   ]
  },
  {
   "cell_type": "code",
   "execution_count": null,
   "id": "f239f195",
   "metadata": {},
   "outputs": [],
   "source": []
  }
 ],
 "metadata": {
  "kernelspec": {
   "display_name": "Python 3 (ipykernel)",
   "language": "python",
   "name": "python3"
  },
  "language_info": {
   "codemirror_mode": {
    "name": "ipython",
    "version": 3
   },
   "file_extension": ".py",
   "mimetype": "text/x-python",
   "name": "python",
   "nbconvert_exporter": "python",
   "pygments_lexer": "ipython3",
   "version": "3.11.10"
  }
 },
 "nbformat": 4,
 "nbformat_minor": 5
}
