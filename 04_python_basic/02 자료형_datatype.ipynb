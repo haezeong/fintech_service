{
 "cells": [
  {
   "cell_type": "markdown",
   "id": "7bb6cf95",
   "metadata": {},
   "source": [
    "# 파이썬은 변수에 담는 자료에 따라서 동적으로 자료형 정해짐"
   ]
  },
  {
   "cell_type": "markdown",
   "id": "f12b025f",
   "metadata": {},
   "source": [
    "## 정수형 변수(int, integer)"
   ]
  },
  {
   "cell_type": "code",
   "execution_count": 3,
   "id": "830d579c",
   "metadata": {},
   "outputs": [],
   "source": [
    "x = 10"
   ]
  },
  {
   "cell_type": "code",
   "execution_count": 4,
   "id": "b12d7cf1",
   "metadata": {},
   "outputs": [
    {
     "data": {
      "text/plain": [
       "int"
      ]
     },
     "execution_count": 4,
     "metadata": {},
     "output_type": "execute_result"
    }
   ],
   "source": [
    "type(x)"
   ]
  },
  {
   "cell_type": "markdown",
   "id": "a1154450",
   "metadata": {},
   "source": [
    "## 실수형 변수(float)"
   ]
  },
  {
   "cell_type": "code",
   "execution_count": 5,
   "id": "9ccce8ab",
   "metadata": {},
   "outputs": [],
   "source": [
    "y= 3.14"
   ]
  },
  {
   "cell_type": "code",
   "execution_count": 6,
   "id": "81d6b64d",
   "metadata": {},
   "outputs": [
    {
     "data": {
      "text/plain": [
       "float"
      ]
     },
     "execution_count": 6,
     "metadata": {},
     "output_type": "execute_result"
    }
   ],
   "source": [
    "type(y)"
   ]
  },
  {
   "cell_type": "markdown",
   "id": "7b902eb9",
   "metadata": {},
   "source": [
    "## 문자형 변수 (str)"
   ]
  },
  {
   "cell_type": "code",
   "execution_count": 7,
   "id": "39038b80",
   "metadata": {},
   "outputs": [],
   "source": [
    "s = '문'"
   ]
  },
  {
   "cell_type": "code",
   "execution_count": 8,
   "id": "6536bd81",
   "metadata": {},
   "outputs": [],
   "source": [
    "s2= \"문자열\""
   ]
  },
  {
   "cell_type": "code",
   "execution_count": 9,
   "id": "1d62bec4",
   "metadata": {},
   "outputs": [
    {
     "data": {
      "text/plain": [
       "\"문자열 '문자'\""
      ]
     },
     "execution_count": 9,
     "metadata": {},
     "output_type": "execute_result"
    }
   ],
   "source": [
    "s3= \"문자열 '문자'\"\n",
    "s3"
   ]
  },
  {
   "cell_type": "code",
   "execution_count": 10,
   "id": "a62c4696",
   "metadata": {},
   "outputs": [
    {
     "name": "stdout",
     "output_type": "stream",
     "text": [
      "문자열 \"문자\"\n"
     ]
    }
   ],
   "source": [
    "s4= '문자열 \"문자\"'\n",
    "print(s4)"
   ]
  },
  {
   "cell_type": "markdown",
   "id": "e5a30786",
   "metadata": {},
   "source": [
    "## 문단을 통채로 넣는 법 ''' ''', \"\"\"\" \"\"\""
   ]
  },
  {
   "cell_type": "code",
   "execution_count": 45,
   "id": "25e800de",
   "metadata": {},
   "outputs": [
    {
     "name": "stdout",
     "output_type": "stream",
     "text": [
      "문자형 변수에는 단어 뿐만 아니라 \n",
      "문장도 넣을 수 있다.\n",
      "줄 바꿈도 가능\n"
     ]
    }
   ],
   "source": [
    "s5 = '''문자형 변수에는 단어 뿐만 아니라 \n",
    "문장도 넣을 수 있다.\n",
    "줄 바꿈도 가능'''\n",
    "print(s5)"
   ]
  },
  {
   "cell_type": "code",
   "execution_count": 17,
   "id": "3df1f48a",
   "metadata": {},
   "outputs": [
    {
     "name": "stdout",
     "output_type": "stream",
     "text": [
      "문자형 변수에는 단어 뿐만 아니라문장도 넣을 수 있다. 줄 바꿈도 가능\n"
     ]
    }
   ],
   "source": [
    "#그냥 쌍따옴표로 쓴다면 줄바꿈이 안된다. 그래서 \\를 넣어줘야 한다.\n",
    "s6 = \"문자형 변수에는 단어 뿐만 아니라\\\n",
    "문장도 넣을 수 있다. \\\n",
    "줄 바꿈도 가능\"\n",
    "print(s6)"
   ]
  },
  {
   "cell_type": "code",
   "execution_count": null,
   "id": "7cae5abc",
   "metadata": {},
   "outputs": [],
   "source": []
  },
  {
   "cell_type": "code",
   "execution_count": 11,
   "id": "a248b9e8",
   "metadata": {},
   "outputs": [
    {
     "name": "stdout",
     "output_type": "stream",
     "text": [
      "(뉴라인을 자동으로 넣어주는 기능 쌍따옴표 3개)\n",
      "문자형 변수에는 단어 뿐만 아니라\n",
      "  '문장도 넣을 수 있다.'\n",
      "줄 바꿈도 가능\n"
     ]
    }
   ],
   "source": [
    "s6 = \"\"\"(뉴라인을 자동으로 넣어주는 기능 쌍따옴표 3개)\n",
    "문자형 변수에는 단어 뿐만 아니라\n",
    "  '문장도 넣을 수 있다.'\n",
    "줄 바꿈도 가능\"\"\"\n",
    "\n",
    "print(s6)"
   ]
  },
  {
   "cell_type": "code",
   "execution_count": 18,
   "id": "d2326571",
   "metadata": {},
   "outputs": [
    {
     "data": {
      "text/plain": [
       "\"(뉴라인을 자동으로 넣어주는 기능 쌍따옴표 3개)문자형 변수에는 단어 뿐만 아니라\\n  '문장도 넣을 수 있다.'\\n줄 바꿈도 가능\""
      ]
     },
     "execution_count": 18,
     "metadata": {},
     "output_type": "execute_result"
    }
   ],
   "source": [
    "s6"
   ]
  },
  {
   "cell_type": "markdown",
   "id": "77633cff",
   "metadata": {},
   "source": [
    "## 변수의 데이터 타입을 출력하는 함수 type()"
   ]
  },
  {
   "cell_type": "code",
   "execution_count": 22,
   "id": "9a36a850",
   "metadata": {},
   "outputs": [
    {
     "name": "stdout",
     "output_type": "stream",
     "text": [
      "10\n"
     ]
    },
    {
     "data": {
      "text/plain": [
       "int"
      ]
     },
     "execution_count": 22,
     "metadata": {},
     "output_type": "execute_result"
    }
   ],
   "source": [
    "print(x)\n",
    "type(x)"
   ]
  },
  {
   "cell_type": "code",
   "execution_count": 20,
   "id": "ed413e47",
   "metadata": {},
   "outputs": [
    {
     "name": "stdout",
     "output_type": "stream",
     "text": [
      "3.14\n",
      "<class 'float'>\n"
     ]
    }
   ],
   "source": [
    "print(y)\n",
    "print(type(y))"
   ]
  },
  {
   "cell_type": "code",
   "execution_count": 21,
   "id": "939eb21c",
   "metadata": {},
   "outputs": [
    {
     "name": "stdout",
     "output_type": "stream",
     "text": [
      "문\n",
      "<class 'str'>\n"
     ]
    }
   ],
   "source": [
    "print(s)\n",
    "print(type(s))"
   ]
  },
  {
   "cell_type": "code",
   "execution_count": 47,
   "id": "1a5b1dad",
   "metadata": {},
   "outputs": [
    {
     "name": "stdout",
     "output_type": "stream",
     "text": [
      "문자열\n",
      "<class 'str'>\n"
     ]
    }
   ],
   "source": [
    "print(s2)\n",
    "print(type(s2))"
   ]
  },
  {
   "cell_type": "code",
   "execution_count": 51,
   "id": "701a6bdb",
   "metadata": {},
   "outputs": [
    {
     "name": "stdout",
     "output_type": "stream",
     "text": [
      "(뉴라인을 자동으로 넣어주는 기능 쌍따옴표 3개)문자형 변수에는 단어 뿐만 아니라\n",
      "  '문장도 넣을 수 있다.'\n",
      "줄 바꿈도 가능\n",
      "<class 'str'>\n"
     ]
    }
   ],
   "source": [
    "print(s6)\n",
    "print(type(s6))"
   ]
  },
  {
   "cell_type": "markdown",
   "id": "d34f49e0",
   "metadata": {},
   "source": [
    "## 리스트(list), 튜플(tuple)\n",
    "* 순서가 있는 자료형 (자바스크립트의 array와 같다)\n",
    "* 여러개의 자료를 넣을 수 있다.\n",
    "* 여러 개의 데이터 타입의 자료를 넣을 수 있다.\n",
    "* 인덱스로 호출이 가능\n",
    "* 슬라이싱으로 부분 출력이 가능\n",
    "* 리스트는 대괄호 안에 자료를 넣어만듬\n",
    "* 튜플은 괄호 안에 자료를 넣어 만듬\n"
   ]
  },
  {
   "cell_type": "code",
   "execution_count": 23,
   "id": "af7cc77a",
   "metadata": {},
   "outputs": [
    {
     "data": {
      "text/plain": [
       "[1, 3.14, '파이썬', [1, 2, 3, 4], (5, 6, 7, 8)]"
      ]
     },
     "execution_count": 23,
     "metadata": {},
     "output_type": "execute_result"
    }
   ],
   "source": [
    "L = [1, 3.14, \"파이썬\", [1,2,3,4], (5,6,7,8) ]\n",
    "L"
   ]
  },
  {
   "cell_type": "code",
   "execution_count": 24,
   "id": "1c8565e1",
   "metadata": {},
   "outputs": [
    {
     "data": {
      "text/plain": [
       "list"
      ]
     },
     "execution_count": 24,
     "metadata": {},
     "output_type": "execute_result"
    }
   ],
   "source": [
    "type(L)"
   ]
  },
  {
   "cell_type": "code",
   "execution_count": null,
   "id": "cfe54a4e",
   "metadata": {},
   "outputs": [],
   "source": [
    "#변수에는 자료가 분명 한개만 들어간다.\n",
    "#재할당을 하면 이전 것이 없어지고 다른것이들어간다. \n",
    "#근데?리스트에는 여러개가 들어간다\n",
    "#리스트는 대괄호로 감싸고 있다-> 묶었기 때문에 하나로 들어갈 수 있는것.\n",
    "#한 박스로 묶어서 집어넣었다고 생각해라\n",
    "#이렇게 묶은 것을 '객체'(object)라고 한다. -> 택배 박스라고 생각-한개로 포장\n",
    "#오브젝트화 해서 집어 넣은 것"
   ]
  },
  {
   "cell_type": "code",
   "execution_count": null,
   "id": "bc7acea0",
   "metadata": {},
   "outputs": [],
   "source": [
    "#리스트는 대괄호포장, 튜플은 소괄호 , 딕셔너리 =중괄호"
   ]
  },
  {
   "cell_type": "code",
   "execution_count": 25,
   "id": "24648017",
   "metadata": {
    "scrolled": true
   },
   "outputs": [
    {
     "data": {
      "text/plain": [
       "1"
      ]
     },
     "execution_count": 25,
     "metadata": {},
     "output_type": "execute_result"
    }
   ],
   "source": [
    "L[0]"
   ]
  },
  {
   "cell_type": "code",
   "execution_count": null,
   "id": "b42b4361",
   "metadata": {},
   "outputs": [],
   "source": []
  },
  {
   "cell_type": "markdown",
   "id": "6c76ec7a",
   "metadata": {},
   "source": [
    "## 인덱싱: 리스트, 튜플에서 인덱스 번호를 이용해서 자료를 출력하는 것\n",
    "* 인덱스는 자료의 순번이다"
   ]
  },
  {
   "cell_type": "code",
   "execution_count": 26,
   "id": "df0d77e3",
   "metadata": {},
   "outputs": [
    {
     "data": {
      "text/plain": [
       "3"
      ]
     },
     "execution_count": 26,
     "metadata": {},
     "output_type": "execute_result"
    }
   ],
   "source": [
    "L[3][2]"
   ]
  },
  {
   "cell_type": "code",
   "execution_count": 27,
   "id": "decd286b",
   "metadata": {},
   "outputs": [
    {
     "data": {
      "text/plain": [
       "(5, 6, 7, 8)"
      ]
     },
     "execution_count": 27,
     "metadata": {},
     "output_type": "execute_result"
    }
   ],
   "source": [
    "L[4]"
   ]
  },
  {
   "cell_type": "code",
   "execution_count": 28,
   "id": "6e2ae5f5",
   "metadata": {},
   "outputs": [
    {
     "data": {
      "text/plain": [
       "8"
      ]
     },
     "execution_count": 28,
     "metadata": {},
     "output_type": "execute_result"
    }
   ],
   "source": [
    "L[4][3]"
   ]
  },
  {
   "cell_type": "code",
   "execution_count": 29,
   "id": "2f789ff1",
   "metadata": {},
   "outputs": [
    {
     "data": {
      "text/plain": [
       "2"
      ]
     },
     "execution_count": 29,
     "metadata": {},
     "output_type": "execute_result"
    }
   ],
   "source": [
    "L.index(\"파이썬\")"
   ]
  },
  {
   "cell_type": "markdown",
   "id": "af7a0df4",
   "metadata": {},
   "source": [
    "## 슬라이싱: 인덱스의 범위 지정해서 여러개의 자료를 가져오는 것\n",
    "* 변수명 [시작인덱스:끝 인덱스 +1:step]"
   ]
  },
  {
   "cell_type": "code",
   "execution_count": 30,
   "id": "a80130c4",
   "metadata": {},
   "outputs": [
    {
     "data": {
      "text/plain": [
       "[1, 3.14]"
      ]
     },
     "execution_count": 30,
     "metadata": {},
     "output_type": "execute_result"
    }
   ],
   "source": [
    "L[0:2]"
   ]
  },
  {
   "cell_type": "code",
   "execution_count": 31,
   "id": "37f9b028",
   "metadata": {},
   "outputs": [
    {
     "data": {
      "text/plain": [
       "[(5, 6, 7, 8), [1, 2, 3, 4], '파이썬', 3.14, 1]"
      ]
     },
     "execution_count": 31,
     "metadata": {},
     "output_type": "execute_result"
    }
   ],
   "source": [
    "L[::-1]\n",
    "#전체를 다 가져오는데 뒤에서부터 가져와라\n",
    "#리스트의 순서를 뒤집을때 보통 이렇게 쓴다"
   ]
  },
  {
   "cell_type": "code",
   "execution_count": null,
   "id": "740e917e",
   "metadata": {},
   "outputs": [],
   "source": []
  },
  {
   "cell_type": "code",
   "execution_count": null,
   "id": "12d26c8e",
   "metadata": {},
   "outputs": [],
   "source": []
  },
  {
   "cell_type": "markdown",
   "id": "e9e2a082",
   "metadata": {},
   "source": [
    "## 튜플\n",
    "* 리스트처럼 순서가 있는 자료형\n",
    "* 인덱스가 있어서 인덱스로 자료 출력 가능\n",
    "* 인덱스로 슬라이싱도 가능\n",
    "* 자료의 추가 삭제가 안됨\n",
    "* 자바스크립ㅌ츠의 const와 같다\n",
    "* 자료를 추가하거나 삭제할 수 없다\n"
   ]
  },
  {
   "cell_type": "code",
   "execution_count": 33,
   "id": "a08de0df",
   "metadata": {},
   "outputs": [
    {
     "data": {
      "text/plain": [
       "[1, 3.14, '파이썬', [1, 2, 3, 4], (5, 6, 7, 8), 3, 3]"
      ]
     },
     "execution_count": 33,
     "metadata": {},
     "output_type": "execute_result"
    }
   ],
   "source": [
    "L.append(3)\n",
    "L"
   ]
  },
  {
   "cell_type": "code",
   "execution_count": null,
   "id": "a74149dc",
   "metadata": {},
   "outputs": [],
   "source": [
    "del L[]"
   ]
  },
  {
   "cell_type": "code",
   "execution_count": null,
   "id": "a41472f4",
   "metadata": {},
   "outputs": [],
   "source": []
  },
  {
   "cell_type": "code",
   "execution_count": null,
   "id": "8b95627f",
   "metadata": {},
   "outputs": [],
   "source": []
  },
  {
   "cell_type": "code",
   "execution_count": 34,
   "id": "53cb7241",
   "metadata": {},
   "outputs": [
    {
     "data": {
      "text/plain": [
       "(1, 2, '튜플', [3, 4, 5], (5, 6, 7))"
      ]
     },
     "execution_count": 34,
     "metadata": {},
     "output_type": "execute_result"
    }
   ],
   "source": [
    "T = (1,2,'튜플', [3,4,5], (5,6,7))\n",
    "T"
   ]
  },
  {
   "cell_type": "code",
   "execution_count": 35,
   "id": "65dc287d",
   "metadata": {},
   "outputs": [
    {
     "data": {
      "text/plain": [
       "[3, 4, 5]"
      ]
     },
     "execution_count": 35,
     "metadata": {},
     "output_type": "execute_result"
    }
   ],
   "source": [
    "T[3]"
   ]
  },
  {
   "cell_type": "code",
   "execution_count": 36,
   "id": "f85ca201",
   "metadata": {},
   "outputs": [
    {
     "data": {
      "text/plain": [
       "7"
      ]
     },
     "execution_count": 36,
     "metadata": {},
     "output_type": "execute_result"
    }
   ],
   "source": [
    "T[4][2]"
   ]
  },
  {
   "cell_type": "code",
   "execution_count": 37,
   "id": "ea35d532",
   "metadata": {},
   "outputs": [
    {
     "data": {
      "text/plain": [
       "('튜플', [3, 4, 5])"
      ]
     },
     "execution_count": 37,
     "metadata": {},
     "output_type": "execute_result"
    }
   ],
   "source": [
    "T[2:4]"
   ]
  },
  {
   "cell_type": "code",
   "execution_count": null,
   "id": "399e52e3",
   "metadata": {},
   "outputs": [],
   "source": []
  },
  {
   "cell_type": "code",
   "execution_count": null,
   "id": "0fa79975",
   "metadata": {},
   "outputs": [],
   "source": [
    "#그럼 튜플을 왜쓰냐?\n",
    "#변화하면 안되는 경우, \n",
    "#리스트보다 시간이 덜 걸린다.\n",
    "#파이썬은 쉬운반면 다른 언어에비해 시간이 오래걸린다\n",
    "#동적으로 처리해야될 것이 많아서 시간이 오래걸린다.\n",
    "#튜플은 고정되어있어서 시간이 절약된다.\n"
   ]
  },
  {
   "cell_type": "code",
   "execution_count": 38,
   "id": "937981f8",
   "metadata": {},
   "outputs": [
    {
     "ename": "AttributeError",
     "evalue": "'tuple' object has no attribute 'append'",
     "output_type": "error",
     "traceback": [
      "\u001b[1;31m---------------------------------------------------------------------------\u001b[0m",
      "\u001b[1;31mAttributeError\u001b[0m                            Traceback (most recent call last)",
      "Cell \u001b[1;32mIn[38], line 1\u001b[0m\n\u001b[1;32m----> 1\u001b[0m \u001b[43mT\u001b[49m\u001b[38;5;241;43m.\u001b[39;49m\u001b[43mappend\u001b[49m(\u001b[38;5;241m3\u001b[39m)\n",
      "\u001b[1;31mAttributeError\u001b[0m: 'tuple' object has no attribute 'append'"
     ]
    }
   ],
   "source": [
    "T.append(3)"
   ]
  },
  {
   "cell_type": "code",
   "execution_count": null,
   "id": "32af8482",
   "metadata": {},
   "outputs": [],
   "source": []
  },
  {
   "cell_type": "markdown",
   "id": "e5faab53",
   "metadata": {},
   "source": [
    "## 딕셔너리형(dict) JSON\n",
    "* {key: value} 형태의 자료형\n",
    "* 순서가 없는 자료형\n",
    "* 반복 불가\n",
    "* key를 호출하면 value가 출력되는 자료형"
   ]
  },
  {
   "cell_type": "code",
   "execution_count": 39,
   "id": "8ef1e85f",
   "metadata": {},
   "outputs": [
    {
     "data": {
      "text/plain": [
       "{'년월': '202407', '국가': '미국', '방문자수': 1000}"
      ]
     },
     "execution_count": 39,
     "metadata": {},
     "output_type": "execute_result"
    }
   ],
   "source": [
    "D ={'년월' : '202407', '국가' : '미국', '방문자수' : 1000}\n",
    "D"
   ]
  },
  {
   "cell_type": "code",
   "execution_count": null,
   "id": "c85e2539",
   "metadata": {},
   "outputs": [],
   "source": [
    "#딕셔너리도 리스트나 튜플처럼 여러개 자료 가능"
   ]
  },
  {
   "cell_type": "code",
   "execution_count": 40,
   "id": "74c9cc47",
   "metadata": {},
   "outputs": [
    {
     "data": {
      "text/plain": [
       "{2: [3, 4, 5], 3.14: '원주율'}"
      ]
     },
     "execution_count": 40,
     "metadata": {},
     "output_type": "execute_result"
    }
   ],
   "source": [
    "D2 = {2 : [3,4,5], 3.14 : \"원주율\"}\n",
    "D2"
   ]
  },
  {
   "cell_type": "code",
   "execution_count": 41,
   "id": "cf092d09",
   "metadata": {},
   "outputs": [
    {
     "data": {
      "text/plain": [
       "'202407'"
      ]
     },
     "execution_count": 41,
     "metadata": {},
     "output_type": "execute_result"
    }
   ],
   "source": [
    "D['년월']"
   ]
  },
  {
   "cell_type": "code",
   "execution_count": 42,
   "id": "ee9313da",
   "metadata": {},
   "outputs": [
    {
     "data": {
      "text/plain": [
       "'원주율'"
      ]
     },
     "execution_count": 42,
     "metadata": {},
     "output_type": "execute_result"
    }
   ],
   "source": [
    "D2[3.14]"
   ]
  },
  {
   "cell_type": "code",
   "execution_count": 43,
   "id": "4659edda",
   "metadata": {},
   "outputs": [
    {
     "data": {
      "text/plain": [
       "{(1, 2): '키가 튜플'}"
      ]
     },
     "execution_count": 43,
     "metadata": {},
     "output_type": "execute_result"
    }
   ],
   "source": [
    "d3 = {(1,2) : \"키가 튜플\"}\n",
    "d3"
   ]
  },
  {
   "cell_type": "code",
   "execution_count": 44,
   "id": "1a89fe1f",
   "metadata": {},
   "outputs": [
    {
     "data": {
      "text/plain": [
       "'키가 튜플'"
      ]
     },
     "execution_count": 44,
     "metadata": {},
     "output_type": "execute_result"
    }
   ],
   "source": [
    "d3[(1,2)]"
   ]
  },
  {
   "cell_type": "code",
   "execution_count": null,
   "id": "0a897b4a",
   "metadata": {},
   "outputs": [],
   "source": []
  }
 ],
 "metadata": {
  "kernelspec": {
   "display_name": "Python 3 (ipykernel)",
   "language": "python",
   "name": "python3"
  },
  "language_info": {
   "codemirror_mode": {
    "name": "ipython",
    "version": 3
   },
   "file_extension": ".py",
   "mimetype": "text/x-python",
   "name": "python",
   "nbconvert_exporter": "python",
   "pygments_lexer": "ipython3",
   "version": "3.10.14"
  }
 },
 "nbformat": 4,
 "nbformat_minor": 5
}
