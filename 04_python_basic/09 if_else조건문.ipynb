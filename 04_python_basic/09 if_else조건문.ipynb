{
 "cells": [
  {
   "cell_type": "markdown",
   "id": "f5f22bbc",
   "metadata": {},
   "source": [
    "# if else 조건문"
   ]
  },
  {
   "cell_type": "markdown",
   "id": "1271cfdc",
   "metadata": {},
   "source": [
    "## 1. 조건문이란 특정 조건을 실행하는 문법\n",
    "if 조건식:\n",
    "____조건식이 참일 때 실행할 코드 <br>\n",
    "else:\n",
    "    조건식이 거짓일 때 실행할 코드"
   ]
  },
  {
   "cell_type": "code",
   "execution_count": 1,
   "id": "a67dd484",
   "metadata": {},
   "outputs": [],
   "source": [
    "x=11"
   ]
  },
  {
   "cell_type": "code",
   "execution_count": 2,
   "id": "8de32e5c",
   "metadata": {},
   "outputs": [
    {
     "name": "stdout",
     "output_type": "stream",
     "text": [
      "x는 10이 아닌 11 입니다.\n"
     ]
    }
   ],
   "source": [
    "if x ==10:\n",
    "    print('x는', x, '입니다')\n",
    "else:\n",
    "    \n",
    "    print('x는 10이 아닌', x, '입니다.')"
   ]
  },
  {
   "cell_type": "code",
   "execution_count": 3,
   "id": "556918e0",
   "metadata": {},
   "outputs": [],
   "source": [
    "L1 = ['파이썬','조건문',10, 15.3, True, [1,2,3], (4,5,6),{'key':'value'}]"
   ]
  },
  {
   "cell_type": "code",
   "execution_count": 4,
   "id": "13f9e1fc",
   "metadata": {},
   "outputs": [
    {
     "name": "stdout",
     "output_type": "stream",
     "text": [
      "L1안에 파이썬이 있습니다.\n"
     ]
    }
   ],
   "source": [
    "if '파이썬' in L1:\n",
    "    print('L1안에 파이썬이 있습니다.')"
   ]
  },
  {
   "cell_type": "code",
   "execution_count": 5,
   "id": "9b4aa010",
   "metadata": {},
   "outputs": [
    {
     "name": "stdout",
     "output_type": "stream",
     "text": [
      "L1안에 hello가 없습니다.\n"
     ]
    }
   ],
   "source": [
    "if 'hello' in L1:\n",
    "    print('L1안에 hello가 있습니다.')\n",
    "else:\n",
    "    print('L1안에 hello가 없습니다.')"
   ]
  },
  {
   "cell_type": "markdown",
   "id": "f3b3f8e0",
   "metadata": {},
   "source": [
    "* 숫자값을 입력받아 홀수인지 짝수인지 판단하는 프로그램"
   ]
  },
  {
   "cell_type": "code",
   "execution_count": 7,
   "id": "446c13eb",
   "metadata": {},
   "outputs": [
    {
     "name": "stdout",
     "output_type": "stream",
     "text": [
      "숫자를 입력하세요:5\n",
      "입력한 숫자 5 는 홀수 입니다.\n"
     ]
    }
   ],
   "source": [
    "x=int(input(\"숫자를 입력하세요:\"))\n",
    "if x%2==0:\n",
    "    print('입력한 숫자', x, '는 짝수 입니다.')\n",
    "else:\n",
    "    print('입력한 숫자', x, '는 홀수 입니다.')"
   ]
  },
  {
   "cell_type": "code",
   "execution_count": 7,
   "id": "b478488c",
   "metadata": {},
   "outputs": [
    {
     "name": "stdout",
     "output_type": "stream",
     "text": [
      "숫자를 입력하세요:5\n",
      "입력한 숫자 5 는 홀수 입니다.\n"
     ]
    }
   ],
   "source": [
    "x=input(\"숫자를 입력하세요\")\n",
    "if int(x)%2==0:\n",
    "    print('입력한 숫자', x, '는 짝수 입니다.')\n",
    "else:\n",
    "    print('입력한 숫자', x, '는 홀수 입니다.')"
   ]
  },
  {
   "cell_type": "markdown",
   "id": "426e05ce",
   "metadata": {},
   "source": [
    "## 2.다중 조건문 사용하기 elif"
   ]
  },
  {
   "cell_type": "markdown",
   "id": "e484797f",
   "metadata": {},
   "source": [
    "if 조건식:<br>\n",
    "____조건식이 참일 때 실행할 코<br>드\n",
    "elif 조건식2:\n",
    "____조건식2가 참일 때 실행할<br> 코드\n",
    "elif 조건식3:\n",
    "____조건식3이 참일 때 실<br>행할 코드\n",
    "else:\n",
    "____조건식 1,2,3이 모<br>두 아닐 경우"
   ]
  },
  {
   "cell_type": "markdown",
   "id": "92768f0b-e818-43ef-9f16-dcc76ade23ee",
   "metadata": {},
   "source": [
    "\n",
    "점수 학점이 81-100 A, 61-80 B, 41-60 C, 21-40 D, 0-20 F"
   ]
  },
  {
   "cell_type": "markdown",
   "id": "1df86fc2",
   "metadata": {},
   "source": [
    "점수를 입력받아서 학점을 출력하는 프로그램"
   ]
  },
  {
   "cell_type": "code",
   "execution_count": 1,
   "id": "4418e177",
   "metadata": {},
   "outputs": [
    {
     "name": "stdin",
     "output_type": "stream",
     "text": [
      "점수를 입력하세요:  200\n"
     ]
    },
    {
     "name": "stdout",
     "output_type": "stream",
     "text": [
      "점수를 0-100사이로 입력해 주세요.\n"
     ]
    }
   ],
   "source": [
    "score = int(input(\"점수를 입력하세요: \"))\n",
    "if 0 <= score <= 100:\n",
    "    if 81 <= score <= 100:\n",
    "        print('학점: A')\n",
    "    elif 61 <= score <= 80:\n",
    "        print('학점: B')\n",
    "    elif 41 <= score <= 60:\n",
    "        print('학점: C')\n",
    "    elif 21 <= score <= 40:\n",
    "        print('학점: D')\n",
    "    elif 0 <= score <= 20:\n",
    "        print('학점: F')\n",
    "else:\n",
    "    print(\"점수를 0-100사이로 입력해 주세요.\")"
   ]
  },
  {
   "cell_type": "markdown",
   "id": "600c00df",
   "metadata": {},
   "source": [
    "국어, 영어, 수학, 과학 점수를 입력해서 평균 80점 이상이면 합격, 미만이면 불합격 단, 과목당 60점 미만이 있으면 과락으로 불합격\n",
    "입력 범위는 0-100이며 범위를 벗어나면 '입력범위 초과'를 출력"
   ]
  },
  {
   "cell_type": "markdown",
   "id": "030dfaf7-99b6-4535-b666-303732a58c27",
   "metadata": {},
   "source": [
    "* 입력 점수가 0-100사인인지 체크\n",
    "* \n",
    "입력된 점수 중 60점 미만이 있는지 체크* \n",
    "입력된 점수중 60점 이상인 점수들을 더해서 평균을 내고 80점 이상이면 합격, 아니면 불합격"
   ]
  },
  {
   "cell_type": "code",
   "execution_count": 12,
   "id": "51d7020a",
   "metadata": {},
   "outputs": [
    {
     "name": "stdout",
     "output_type": "stream",
     "text": [
      "점수를 입력하세요: 100 60 50 80\n",
      "불합격\n"
     ]
    }
   ],
   "source": [
    "ko, en, ma, sc =input(\"점수를 입력하세요: \").split()\n",
    "av= (int(ko)+int(en)+int(ma)+int(sc))/4\n",
    "\n",
    "if 60<=int(ko)<=100 and 60<=int(en)<=100 and 60<=int(ma)<=100 and 60<=int(sc)<=100 :\n",
    "    \n",
    "        if 80 <=  av :\n",
    "            print('합격')\n",
    "        else: \n",
    "            print('불합격')\n",
    "            \n",
    "elif 0<=int(ko)<60 or 0<=int(en)<60 or 0<=int(ma)<60 or 0<=int(sc)<60 :\n",
    "        print(\"불합격\")\n",
    "        \n",
    "else:\n",
    "    print(\"입력범위 초과\")"
   ]
  },
  {
   "cell_type": "code",
   "execution_count": 2,
   "id": "f8363a64-4a1a-43bc-b13a-d1ab1c482ac0",
   "metadata": {},
   "outputs": [
    {
     "name": "stdin",
     "output_type": "stream",
     "text": [
      "국어, 영어, 수학, 과학 점수를 입력해 주세요. 10 20 30 40\n"
     ]
    },
    {
     "name": "stdout",
     "output_type": "stream",
     "text": [
      "<class 'str'>\n",
      "60점 미만인 과목이 있어 과락으로 불합격 입니다.\n"
     ]
    }
   ],
   "source": [
    "kor, eng, math, sci= input(\"국어, 영어, 수학, 과학 점수를 입력해 주세요.\").split()\n",
    "print(type(kor))\n",
    "kor = int(kor)\n",
    "eng = int(eng)\n",
    "math = int(math)\n",
    "sci = int(sci)\n",
    "if 0 <= kor <=100 and 0 <= eng <=100 and 0 <= math <=100 and 0 <= sci <=100:\n",
    "    if kor >= 60 and eng >= 60 and math >=60 and sci >= 60:\n",
    "        total = kor + eng + math + sci\n",
    "        mean = total / 4\n",
    "        if mean >= 80:\n",
    "            print('과락없이 합격입니다.', \"평균:\", mean)\n",
    "        else:\n",
    "            print('과락은 없지만 평균 80점 미만으로 불합격 입니다.', '평균:', mean)\n",
    "    else:\n",
    "        print(\"60점 미만인 과목이 있어 과락으로 불합격 입니다.\")\n",
    "else:\n",
    "    print(\"0-100 사이의 점수를 입력해 주세요.\")"
   ]
  },
  {
   "cell_type": "code",
   "execution_count": 15,
   "id": "337327bb",
   "metadata": {
    "scrolled": true
   },
   "outputs": [
    {
     "name": "stdout",
     "output_type": "stream",
     "text": [
      "점수를 입력하세요: 1 2 3 4\n",
      "1\n"
     ]
    },
    {
     "data": {
      "text/plain": [
       "int"
      ]
     },
     "execution_count": 15,
     "metadata": {},
     "output_type": "execute_result"
    }
   ],
   "source": [
    "#맵이라는 함수를 사용하면 한번에 형변환이 가능하다!\n",
    "ko, en, ma, sc =list(map(int,input(\"점수를 입력하세요: \").split()))\n",
    "print(ko)\n",
    "type(ko)"
   ]
  },
  {
   "cell_type": "markdown",
   "id": "599bcdb8-b9da-407b-8ce6-7f6d9b665dc8",
   "metadata": {},
   "source": [
    "1-50 사이의 숫자를 입력받아서 3의 배수면 3의 배수입니다. 3의 배수가 아닙니다. % 3 == 0"
   ]
  },
  {
   "cell_type": "code",
   "execution_count": 3,
   "id": "74721342",
   "metadata": {},
   "outputs": [
    {
     "name": "stdin",
     "output_type": "stream",
     "text": [
      "숫자를 입력하세요 33\n"
     ]
    },
    {
     "name": "stdout",
     "output_type": "stream",
     "text": [
      "3의 배수 입니다.\n"
     ]
    }
   ],
   "source": [
    "num = int(input(\"숫자를 입력하세요\"))\n",
    "if 1 <= num <= 50:\n",
    "    if num % 3 == 0:\n",
    "        print(\"3의 배수 입니다.\")\n",
    "    else:\n",
    "        print(\"3의 배수가 아닙니다.\")\n",
    "    \n",
    "else:\n",
    "    print('1-50 사이의 숫자를 다시 입력하세요')"
   ]
  },
  {
   "cell_type": "code",
   "execution_count": null,
   "id": "443b9b14",
   "metadata": {},
   "outputs": [],
   "source": []
  },
  {
   "cell_type": "code",
   "execution_count": null,
   "id": "c516e52a",
   "metadata": {},
   "outputs": [],
   "source": []
  },
  {
   "cell_type": "code",
   "execution_count": null,
   "id": "46bfdf16",
   "metadata": {},
   "outputs": [],
   "source": []
  },
  {
   "cell_type": "code",
   "execution_count": null,
   "id": "3701856f",
   "metadata": {},
   "outputs": [],
   "source": []
  }
 ],
 "metadata": {
  "kernelspec": {
   "display_name": "Python 3 (ipykernel)",
   "language": "python",
   "name": "python3"
  },
  "language_info": {
   "codemirror_mode": {
    "name": "ipython",
    "version": 3
   },
   "file_extension": ".py",
   "mimetype": "text/x-python",
   "name": "python",
   "nbconvert_exporter": "python",
   "pygments_lexer": "ipython3",
   "version": "3.10.14"
  }
 },
 "nbformat": 4,
 "nbformat_minor": 5
}
