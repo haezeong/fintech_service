{
 "cells": [
  {
   "cell_type": "markdown",
   "id": "f3dc9cf9",
   "metadata": {},
   "source": [
    "# 리스트와 튜플 사용하기 초급편"
   ]
  },
  {
   "cell_type": "code",
   "execution_count": 1,
   "id": "cb7d7451",
   "metadata": {},
   "outputs": [],
   "source": [
    "a=1\n",
    "b=2\n",
    "c=3\n",
    "d=4\n",
    "e=5"
   ]
  },
  {
   "cell_type": "code",
   "execution_count": 2,
   "id": "9fbbd037",
   "metadata": {},
   "outputs": [],
   "source": [
    "L1 = [1,2,3,4,5]"
   ]
  },
  {
   "cell_type": "code",
   "execution_count": 3,
   "id": "8975dcee",
   "metadata": {},
   "outputs": [
    {
     "data": {
      "text/plain": [
       "['파이썬', 2, 17.2, True]"
      ]
     },
     "execution_count": 3,
     "metadata": {},
     "output_type": "execute_result"
    }
   ],
   "source": [
    "L2 = ['파이썬',2,17.2, True]\n",
    "L2"
   ]
  },
  {
   "cell_type": "code",
   "execution_count": 4,
   "id": "e1d51fe0",
   "metadata": {},
   "outputs": [
    {
     "data": {
      "text/plain": [
       "'파이썬'"
      ]
     },
     "execution_count": 4,
     "metadata": {},
     "output_type": "execute_result"
    }
   ],
   "source": [
    "L2[0]"
   ]
  },
  {
   "cell_type": "code",
   "execution_count": 5,
   "id": "65122548",
   "metadata": {},
   "outputs": [
    {
     "name": "stdout",
     "output_type": "stream",
     "text": [
      "<class 'list'>\n",
      "<class 'str'>\n",
      "<class 'int'>\n",
      "<class 'float'>\n"
     ]
    }
   ],
   "source": [
    "print(type(L2))\n",
    "print(type(L2[0]))\n",
    "print(type(L2[1]))\n",
    "print(type(L2[2]))"
   ]
  },
  {
   "cell_type": "code",
   "execution_count": null,
   "id": "89025971",
   "metadata": {},
   "outputs": [],
   "source": []
  },
  {
   "cell_type": "code",
   "execution_count": null,
   "id": "74e8dc55",
   "metadata": {},
   "outputs": [],
   "source": []
  },
  {
   "cell_type": "markdown",
   "id": "88e64b10",
   "metadata": {},
   "source": [
    "- 빈리스트 만들기"
   ]
  },
  {
   "cell_type": "code",
   "execution_count": 6,
   "id": "365a35e7",
   "metadata": {},
   "outputs": [
    {
     "data": {
      "text/plain": [
       "[]"
      ]
     },
     "execution_count": 6,
     "metadata": {},
     "output_type": "execute_result"
    }
   ],
   "source": [
    "L3= []\n",
    "L3"
   ]
  },
  {
   "cell_type": "code",
   "execution_count": 7,
   "id": "37bcade1",
   "metadata": {},
   "outputs": [],
   "source": [
    "# 빈 리스트여도, 자료를 한개만 넣어도 리스트가 됩니다"
   ]
  },
  {
   "cell_type": "code",
   "execution_count": null,
   "id": "e4e12734",
   "metadata": {},
   "outputs": [],
   "source": []
  },
  {
   "cell_type": "markdown",
   "id": "c26e28db",
   "metadata": {},
   "source": [
    "## list() 형변환 함수"
   ]
  },
  {
   "cell_type": "code",
   "execution_count": 8,
   "id": "fbc013c8",
   "metadata": {},
   "outputs": [],
   "source": [
    "#다른 자료형일때 리스트로 만들어 준다"
   ]
  },
  {
   "cell_type": "code",
   "execution_count": 9,
   "id": "f65d71fe",
   "metadata": {},
   "outputs": [
    {
     "name": "stdout",
     "output_type": "stream",
     "text": [
      "range(0, 10)\n"
     ]
    }
   ],
   "source": [
    "print(range(10))"
   ]
  },
  {
   "cell_type": "code",
   "execution_count": 10,
   "id": "0831443e",
   "metadata": {},
   "outputs": [
    {
     "name": "stdout",
     "output_type": "stream",
     "text": [
      "<class 'range'>\n"
     ]
    }
   ],
   "source": [
    "print(type(range(10)))"
   ]
  },
  {
   "cell_type": "code",
   "execution_count": 11,
   "id": "013f14ba",
   "metadata": {},
   "outputs": [
    {
     "name": "stdout",
     "output_type": "stream",
     "text": [
      "0\n",
      "1\n",
      "2\n",
      "3\n",
      "4\n",
      "5\n",
      "6\n",
      "7\n",
      "8\n",
      "9\n"
     ]
    }
   ],
   "source": [
    "for i in range(10):\n",
    "    print(i)\n",
    "    "
   ]
  },
  {
   "cell_type": "code",
   "execution_count": 42,
   "id": "1efed9d6",
   "metadata": {},
   "outputs": [
    {
     "data": {
      "text/plain": [
       "[0, 1, 2, 3, 4, 5, 6, 7, 8, 9]"
      ]
     },
     "execution_count": 42,
     "metadata": {},
     "output_type": "execute_result"
    }
   ],
   "source": [
    "L5 = list(range(10))\n",
    "L5"
   ]
  },
  {
   "cell_type": "code",
   "execution_count": null,
   "id": "1c77abdd",
   "metadata": {},
   "outputs": [],
   "source": []
  },
  {
   "cell_type": "markdown",
   "id": "ca531a95",
   "metadata": {},
   "source": [
    "# range()함수\n",
    "- range(시작,끝,증가값)"
   ]
  },
  {
   "cell_type": "code",
   "execution_count": 12,
   "id": "33fa07a4",
   "metadata": {},
   "outputs": [
    {
     "data": {
      "text/plain": [
       "[0, 1, 2, 3, 4, 5, 6, 7, 8, 9]"
      ]
     },
     "execution_count": 12,
     "metadata": {},
     "output_type": "execute_result"
    }
   ],
   "source": [
    "list(range(10)) "
   ]
  },
  {
   "cell_type": "code",
   "execution_count": 13,
   "id": "e60f92c7",
   "metadata": {},
   "outputs": [
    {
     "data": {
      "text/plain": [
       "[1, 2, 3, 4, 5, 6, 7, 8, 9, 10]"
      ]
     },
     "execution_count": 13,
     "metadata": {},
     "output_type": "execute_result"
    }
   ],
   "source": [
    "list(range(1,11))"
   ]
  },
  {
   "cell_type": "code",
   "execution_count": 43,
   "id": "f40e95a6",
   "metadata": {},
   "outputs": [
    {
     "data": {
      "text/plain": [
       "[1, 3, 5, 7, 9, 11, 13, 15, 17, 19]"
      ]
     },
     "execution_count": 43,
     "metadata": {},
     "output_type": "execute_result"
    }
   ],
   "source": [
    "list(range(1, 20, 2))"
   ]
  },
  {
   "cell_type": "code",
   "execution_count": 1,
   "id": "71168cdc",
   "metadata": {},
   "outputs": [
    {
     "data": {
      "text/plain": [
       "[3,\n",
       " 6,\n",
       " 9,\n",
       " 12,\n",
       " 15,\n",
       " 18,\n",
       " 21,\n",
       " 24,\n",
       " 27,\n",
       " 30,\n",
       " 33,\n",
       " 36,\n",
       " 39,\n",
       " 42,\n",
       " 45,\n",
       " 48,\n",
       " 51,\n",
       " 54,\n",
       " 57,\n",
       " 60,\n",
       " 63,\n",
       " 66,\n",
       " 69,\n",
       " 72,\n",
       " 75,\n",
       " 78,\n",
       " 81,\n",
       " 84,\n",
       " 87,\n",
       " 90,\n",
       " 93,\n",
       " 96,\n",
       " 99]"
      ]
     },
     "execution_count": 1,
     "metadata": {},
     "output_type": "execute_result"
    }
   ],
   "source": [
    "list(range(3, 100, 3))"
   ]
  },
  {
   "cell_type": "code",
   "execution_count": 2,
   "id": "7b46b254",
   "metadata": {},
   "outputs": [
    {
     "data": {
      "text/plain": [
       "[99,\n",
       " 96,\n",
       " 93,\n",
       " 90,\n",
       " 87,\n",
       " 84,\n",
       " 81,\n",
       " 78,\n",
       " 75,\n",
       " 72,\n",
       " 69,\n",
       " 66,\n",
       " 63,\n",
       " 60,\n",
       " 57,\n",
       " 54,\n",
       " 51,\n",
       " 48,\n",
       " 45,\n",
       " 42,\n",
       " 39,\n",
       " 36,\n",
       " 33,\n",
       " 30,\n",
       " 27,\n",
       " 24,\n",
       " 21,\n",
       " 18,\n",
       " 15,\n",
       " 12,\n",
       " 9,\n",
       " 6,\n",
       " 3]"
      ]
     },
     "execution_count": 2,
     "metadata": {},
     "output_type": "execute_result"
    }
   ],
   "source": [
    "# 99부터 3까지 3씩 감소하는 리스트 만들기\n",
    "list(range(99,2,-3))"
   ]
  },
  {
   "cell_type": "markdown",
   "id": "ebc6eaf8",
   "metadata": {},
   "source": [
    "# .append() 리스트의 끝에 자료 추가"
   ]
  },
  {
   "cell_type": "code",
   "execution_count": 14,
   "id": "23ed3805",
   "metadata": {},
   "outputs": [
    {
     "data": {
      "text/plain": [
       "['파이썬', 2, 17.2, True, 3]"
      ]
     },
     "execution_count": 14,
     "metadata": {},
     "output_type": "execute_result"
    }
   ],
   "source": [
    "L2.append(3)\n",
    "L2"
   ]
  },
  {
   "cell_type": "code",
   "execution_count": 15,
   "id": "8db9d019",
   "metadata": {},
   "outputs": [],
   "source": [
    "L2.append([1,2,3])"
   ]
  },
  {
   "cell_type": "code",
   "execution_count": 16,
   "id": "c25ab5e2",
   "metadata": {},
   "outputs": [
    {
     "data": {
      "text/plain": [
       "['파이썬', 2, 17.2, True, 3, [1, 2, 3]]"
      ]
     },
     "execution_count": 16,
     "metadata": {},
     "output_type": "execute_result"
    }
   ],
   "source": [
    "L2 "
   ]
  },
  {
   "cell_type": "markdown",
   "id": "5be6d35a",
   "metadata": {},
   "source": [
    "* 길이를 재는 함수 =len()"
   ]
  },
  {
   "cell_type": "code",
   "execution_count": 17,
   "id": "b2d53e34",
   "metadata": {},
   "outputs": [
    {
     "data": {
      "text/plain": [
       "6"
      ]
     },
     "execution_count": 17,
     "metadata": {},
     "output_type": "execute_result"
    }
   ],
   "source": [
    "len(L2)"
   ]
  },
  {
   "cell_type": "code",
   "execution_count": 18,
   "id": "2af42e58",
   "metadata": {},
   "outputs": [],
   "source": [
    "#리스트는 포장된 박스하나"
   ]
  },
  {
   "cell_type": "code",
   "execution_count": 20,
   "id": "1374fea2",
   "metadata": {},
   "outputs": [],
   "source": [
    "L2.append(list(range(30)))"
   ]
  },
  {
   "cell_type": "code",
   "execution_count": 21,
   "id": "104a439d",
   "metadata": {},
   "outputs": [
    {
     "data": {
      "text/plain": [
       "7"
      ]
     },
     "execution_count": 21,
     "metadata": {},
     "output_type": "execute_result"
    }
   ],
   "source": [
    "len(L2)"
   ]
  },
  {
   "cell_type": "markdown",
   "id": "f917a09e",
   "metadata": {},
   "source": [
    "# .insert()\n",
    "- .insert(추가 할 위치 인덱스,값)"
   ]
  },
  {
   "cell_type": "code",
   "execution_count": 22,
   "id": "29176641",
   "metadata": {},
   "outputs": [],
   "source": [
    "del L2[6]"
   ]
  },
  {
   "cell_type": "code",
   "execution_count": 23,
   "id": "4e58138c",
   "metadata": {},
   "outputs": [
    {
     "data": {
      "text/plain": [
       "['파이썬', 2, 17.2, True, 3, [1, 2, 3]]"
      ]
     },
     "execution_count": 23,
     "metadata": {},
     "output_type": "execute_result"
    }
   ],
   "source": [
    "L2"
   ]
  },
  {
   "cell_type": "code",
   "execution_count": 24,
   "id": "61876298",
   "metadata": {},
   "outputs": [],
   "source": [
    "L2.insert(2,\"리스트 함수\")"
   ]
  },
  {
   "cell_type": "code",
   "execution_count": 25,
   "id": "a3a285e9",
   "metadata": {},
   "outputs": [
    {
     "data": {
      "text/plain": [
       "['파이썬', 2, '리스트 함수', 17.2, True, 3, [1, 2, 3]]"
      ]
     },
     "execution_count": 25,
     "metadata": {},
     "output_type": "execute_result"
    }
   ],
   "source": [
    "L2"
   ]
  },
  {
   "cell_type": "markdown",
   "id": "bc6070e6",
   "metadata": {},
   "source": [
    "## 리스트의 자료 삭제\n",
    "* del 변수명[인덱스 번호]\n",
    "* .pop(): 리스트의 가장 오른쪽 끝 자료가 출력되고 삭제된다\n",
    "* .remove(값): 리스트의 앞부터 일치하는 값 1개를 찾아서 삭제\n"
   ]
  },
  {
   "cell_type": "code",
   "execution_count": 26,
   "id": "343232cc",
   "metadata": {},
   "outputs": [],
   "source": [
    "del L2[1]"
   ]
  },
  {
   "cell_type": "code",
   "execution_count": 27,
   "id": "27615b86",
   "metadata": {},
   "outputs": [
    {
     "data": {
      "text/plain": [
       "['파이썬', '리스트 함수', 17.2, True, 3, [1, 2, 3]]"
      ]
     },
     "execution_count": 27,
     "metadata": {},
     "output_type": "execute_result"
    }
   ],
   "source": [
    "L2 "
   ]
  },
  {
   "cell_type": "code",
   "execution_count": 29,
   "id": "0fbc4862",
   "metadata": {},
   "outputs": [
    {
     "data": {
      "text/plain": [
       "[1, 2, 3]"
      ]
     },
     "execution_count": 29,
     "metadata": {},
     "output_type": "execute_result"
    }
   ],
   "source": [
    "L2.pop()"
   ]
  },
  {
   "cell_type": "code",
   "execution_count": 30,
   "id": "9f1aa927",
   "metadata": {},
   "outputs": [
    {
     "data": {
      "text/plain": [
       "['파이썬', '리스트 함수', 17.2, True, 3]"
      ]
     },
     "execution_count": 30,
     "metadata": {},
     "output_type": "execute_result"
    }
   ],
   "source": [
    "L2"
   ]
  },
  {
   "cell_type": "code",
   "execution_count": 31,
   "id": "7a1e11b2",
   "metadata": {},
   "outputs": [],
   "source": [
    "L2.append(17.2)"
   ]
  },
  {
   "cell_type": "code",
   "execution_count": 32,
   "id": "84d062e2",
   "metadata": {},
   "outputs": [
    {
     "data": {
      "text/plain": [
       "['파이썬', '리스트 함수', 17.2, True, 3, 17.2]"
      ]
     },
     "execution_count": 32,
     "metadata": {},
     "output_type": "execute_result"
    }
   ],
   "source": [
    "L2"
   ]
  },
  {
   "cell_type": "code",
   "execution_count": 33,
   "id": "692e33ef",
   "metadata": {},
   "outputs": [],
   "source": [
    "L2.remove(17.2)"
   ]
  },
  {
   "cell_type": "code",
   "execution_count": 34,
   "id": "be7344a6",
   "metadata": {},
   "outputs": [
    {
     "data": {
      "text/plain": [
       "['파이썬', '리스트 함수', True, 3, 17.2]"
      ]
     },
     "execution_count": 34,
     "metadata": {},
     "output_type": "execute_result"
    }
   ],
   "source": [
    "L2"
   ]
  },
  {
   "cell_type": "code",
   "execution_count": 35,
   "id": "f2fdf9b3",
   "metadata": {},
   "outputs": [],
   "source": [
    "#앞에 있는 17.2가 사라진다. 여러개의 리스트를 삭제할 수 는 없다.\n",
    "# 가장 앞에 나오는 일치하는 값을 삭제한다"
   ]
  },
  {
   "cell_type": "code",
   "execution_count": 36,
   "id": "2cf7843e",
   "metadata": {},
   "outputs": [
    {
     "data": {
      "text/plain": [
       "['파이썬', '리스트 함수', [17.2, 3, '파이썬'], True, 3, 17.2]"
      ]
     },
     "execution_count": 36,
     "metadata": {},
     "output_type": "execute_result"
    }
   ],
   "source": [
    "L2.insert(2,[17.2,3,'파이썬'])\n",
    "L2"
   ]
  },
  {
   "cell_type": "code",
   "execution_count": 37,
   "id": "5c531393",
   "metadata": {},
   "outputs": [],
   "source": [
    "L2.remove(17.2)"
   ]
  },
  {
   "cell_type": "code",
   "execution_count": 39,
   "id": "9fcaec4a",
   "metadata": {},
   "outputs": [
    {
     "data": {
      "text/plain": [
       "['파이썬', '리스트 함수', [17.2, 3, '파이썬'], True, 3]"
      ]
     },
     "execution_count": 39,
     "metadata": {},
     "output_type": "execute_result"
    }
   ],
   "source": [
    "L2"
   ]
  },
  {
   "cell_type": "code",
   "execution_count": 40,
   "id": "b4e9d67e",
   "metadata": {},
   "outputs": [],
   "source": [
    "L2[2].remove(17.2)"
   ]
  },
  {
   "cell_type": "code",
   "execution_count": 41,
   "id": "0a52753b",
   "metadata": {},
   "outputs": [
    {
     "data": {
      "text/plain": [
       "['파이썬', '리스트 함수', [3, '파이썬'], True, 3]"
      ]
     },
     "execution_count": 41,
     "metadata": {},
     "output_type": "execute_result"
    }
   ],
   "source": [
    "L2 "
   ]
  },
  {
   "cell_type": "code",
   "execution_count": null,
   "id": "71ab0caa",
   "metadata": {},
   "outputs": [],
   "source": [
    "#리스트 안에 있는 애는 포장을 뜯기 전까지는 알 수 없다 \n",
    "#(안에 뭐가 들어있는 지 알 수 없다. 박스 하나로 인식)"
   ]
  },
  {
   "cell_type": "markdown",
   "id": "d7751ab7",
   "metadata": {},
   "source": [
    "# 리스트 확장하기 .extend()"
   ]
  },
  {
   "cell_type": "code",
   "execution_count": 4,
   "id": "5ac63a70",
   "metadata": {},
   "outputs": [
    {
     "data": {
      "text/plain": [
       "[10, 20, 30]"
      ]
     },
     "execution_count": 4,
     "metadata": {},
     "output_type": "execute_result"
    }
   ],
   "source": [
    "a= [10,20,30]\n",
    "a"
   ]
  },
  {
   "cell_type": "code",
   "execution_count": 5,
   "id": "fe6e71a6",
   "metadata": {},
   "outputs": [
    {
     "data": {
      "text/plain": [
       "[10, 20, 30, [4, 5, 6]]"
      ]
     },
     "execution_count": 5,
     "metadata": {},
     "output_type": "execute_result"
    }
   ],
   "source": [
    "a.append([4,5,6])\n",
    "a"
   ]
  },
  {
   "cell_type": "code",
   "execution_count": 6,
   "id": "b5d1a4e5",
   "metadata": {},
   "outputs": [],
   "source": [
    "a.extend([40,50,60])"
   ]
  },
  {
   "cell_type": "code",
   "execution_count": 7,
   "id": "0f418559",
   "metadata": {},
   "outputs": [
    {
     "data": {
      "text/plain": [
       "[10, 20, 30, [4, 5, 6], 40, 50, 60]"
      ]
     },
     "execution_count": 7,
     "metadata": {},
     "output_type": "execute_result"
    }
   ],
   "source": [
    "a"
   ]
  },
  {
   "cell_type": "code",
   "execution_count": null,
   "id": "d8a3193d",
   "metadata": {},
   "outputs": [],
   "source": [
    "#extend=확장하다 -> 리스트를 넣어도 풀려서 들어간다\n",
    "#박스포장 그대로 들어가는 것이면 append를 넣어야함\n",
    "#extend와 append잘 구분해서 사용해자"
   ]
  },
  {
   "cell_type": "code",
   "execution_count": null,
   "id": "4b4f4417",
   "metadata": {},
   "outputs": [],
   "source": []
  },
  {
   "cell_type": "code",
   "execution_count": null,
   "id": "2ce30c61",
   "metadata": {},
   "outputs": [],
   "source": []
  },
  {
   "cell_type": "code",
   "execution_count": null,
   "id": "62a102e8",
   "metadata": {},
   "outputs": [],
   "source": []
  },
  {
   "cell_type": "code",
   "execution_count": null,
   "id": "e9655b40",
   "metadata": {},
   "outputs": [],
   "source": []
  },
  {
   "cell_type": "markdown",
   "id": "d9b7e39d",
   "metadata": {},
   "source": [
    "## 리스트에서 특정 값의 인덱스 구하기 :.index(값)"
   ]
  },
  {
   "cell_type": "code",
   "execution_count": 8,
   "id": "d52b324e",
   "metadata": {},
   "outputs": [
    {
     "data": {
      "text/plain": [
       "5"
      ]
     },
     "execution_count": 8,
     "metadata": {},
     "output_type": "execute_result"
    }
   ],
   "source": [
    "a.index(50)"
   ]
  },
  {
   "cell_type": "code",
   "execution_count": 9,
   "id": "aabd02aa",
   "metadata": {},
   "outputs": [],
   "source": [
    "a.insert(2,[40,50,60])"
   ]
  },
  {
   "cell_type": "code",
   "execution_count": 10,
   "id": "903784b1",
   "metadata": {},
   "outputs": [
    {
     "data": {
      "text/plain": [
       "[10, 20, [40, 50, 60], 30, [4, 5, 6], 40, 50, 60]"
      ]
     },
     "execution_count": 10,
     "metadata": {},
     "output_type": "execute_result"
    }
   ],
   "source": [
    "a"
   ]
  },
  {
   "cell_type": "code",
   "execution_count": 11,
   "id": "36b390e5",
   "metadata": {},
   "outputs": [
    {
     "data": {
      "text/plain": [
       "6"
      ]
     },
     "execution_count": 11,
     "metadata": {},
     "output_type": "execute_result"
    }
   ],
   "source": [
    "a.index(50) #[40,50,60] -> 안에 뭐가 들어있는지 모르는 박스 -> 넘버링할때 하나로 생각"
   ]
  },
  {
   "cell_type": "code",
   "execution_count": 12,
   "id": "1fda9e7d",
   "metadata": {},
   "outputs": [
    {
     "data": {
      "text/plain": [
       "1"
      ]
     },
     "execution_count": 12,
     "metadata": {},
     "output_type": "execute_result"
    }
   ],
   "source": [
    "a[2].index(50)"
   ]
  },
  {
   "cell_type": "code",
   "execution_count": 13,
   "id": "0d94d22d",
   "metadata": {},
   "outputs": [
    {
     "data": {
      "text/plain": [
       "[10, 20, 50, [40, 50, 60], 30, [4, 5, 6], 40, 50, 60]"
      ]
     },
     "execution_count": 13,
     "metadata": {},
     "output_type": "execute_result"
    }
   ],
   "source": [
    "a.insert(2,50)\n",
    "a"
   ]
  },
  {
   "cell_type": "code",
   "execution_count": 14,
   "id": "99edc47d",
   "metadata": {},
   "outputs": [
    {
     "data": {
      "text/plain": [
       "2"
      ]
     },
     "execution_count": 14,
     "metadata": {},
     "output_type": "execute_result"
    }
   ],
   "source": [
    "a.index(50)"
   ]
  },
  {
   "cell_type": "code",
   "execution_count": null,
   "id": "db9c6d22",
   "metadata": {},
   "outputs": [],
   "source": [
    "#이 다음번에 나오는 50의 인덱스를 알고 싶다면 어떻게 해야할까?\n",
    "#index를 이용하면 첫번째 것 밖에 안나온다\n",
    "#  a.index(value, start=0, stop=9223372036854775807, /)"
   ]
  },
  {
   "cell_type": "code",
   "execution_count": 15,
   "id": "1a8480b0",
   "metadata": {},
   "outputs": [
    {
     "data": {
      "text/plain": [
       "4"
      ]
     },
     "execution_count": 15,
     "metadata": {},
     "output_type": "execute_result"
    }
   ],
   "source": [
    "a.index(50,3)\n",
    "a[3:].index(50)"
   ]
  },
  {
   "cell_type": "markdown",
   "id": "348a6f45",
   "metadata": {},
   "source": [
    "## 리스트 안에서 특정 값의 개수 구하기 .count(값)"
   ]
  },
  {
   "cell_type": "code",
   "execution_count": 16,
   "id": "829e0075",
   "metadata": {},
   "outputs": [
    {
     "name": "stdout",
     "output_type": "stream",
     "text": [
      "[10, 20, 50, [40, 50, 60], 30, [4, 5, 6], 40, 50, 60]\n"
     ]
    },
    {
     "data": {
      "text/plain": [
       "2"
      ]
     },
     "execution_count": 16,
     "metadata": {},
     "output_type": "execute_result"
    }
   ],
   "source": [
    "print(a)\n",
    "a.count(50)"
   ]
  },
  {
   "cell_type": "markdown",
   "id": "f40ee175",
   "metadata": {},
   "source": [
    "## 리스트 순서 뒤집기 .reverse()"
   ]
  },
  {
   "cell_type": "code",
   "execution_count": 17,
   "id": "4d18307b",
   "metadata": {},
   "outputs": [
    {
     "data": {
      "text/plain": [
       "[60, 50, 40, [4, 5, 6], 30, [40, 50, 60], 50, 20, 10]"
      ]
     },
     "execution_count": 17,
     "metadata": {},
     "output_type": "execute_result"
    }
   ],
   "source": [
    "a.reverse()\n",
    "a"
   ]
  },
  {
   "cell_type": "code",
   "execution_count": 18,
   "id": "d52bbc1c",
   "metadata": {},
   "outputs": [
    {
     "data": {
      "text/plain": [
       "[60, 50, 40, [4, 5, 6], 30, [40, 50, 60], 50, 20, 10]"
      ]
     },
     "execution_count": 18,
     "metadata": {},
     "output_type": "execute_result"
    }
   ],
   "source": [
    "a"
   ]
  },
  {
   "cell_type": "code",
   "execution_count": null,
   "id": "274b3088",
   "metadata": {},
   "outputs": [],
   "source": [
    "#실행하자마자 결과 바뀌는 명령어 ->한번 쓰면 실행즉시 원본 데이터가 바뀐다. "
   ]
  },
  {
   "cell_type": "code",
   "execution_count": 19,
   "id": "fd80b884",
   "metadata": {},
   "outputs": [
    {
     "data": {
      "text/plain": [
       "[10, 20, 50, [40, 50, 60], 30, [4, 5, 6], 40, 50, 60]"
      ]
     },
     "execution_count": 19,
     "metadata": {},
     "output_type": "execute_result"
    }
   ],
   "source": [
    "a.reverse()\n",
    "a"
   ]
  },
  {
   "cell_type": "markdown",
   "id": "f4ebe8e2",
   "metadata": {},
   "source": [
    "## 순서 뒤집기 인덱싱[::-1]\n",
    "* 자동으로 저장이 안되고 결과만 보기"
   ]
  },
  {
   "cell_type": "code",
   "execution_count": 27,
   "id": "2bb817a1",
   "metadata": {},
   "outputs": [
    {
     "data": {
      "text/plain": [
       "[10, 20, 50, [40, 50, 60], 30, [4, 5, 6], 40, 50, 60]"
      ]
     },
     "execution_count": 27,
     "metadata": {},
     "output_type": "execute_result"
    }
   ],
   "source": [
    "a"
   ]
  },
  {
   "cell_type": "code",
   "execution_count": 29,
   "id": "904eaeb5",
   "metadata": {},
   "outputs": [
    {
     "data": {
      "text/plain": [
       "[60, 50, 40, [4, 5, 6], 30, [40, 50, 60], 50, 20, 10]"
      ]
     },
     "execution_count": 29,
     "metadata": {},
     "output_type": "execute_result"
    }
   ],
   "source": [
    "a[::-1]"
   ]
  },
  {
   "cell_type": "code",
   "execution_count": 30,
   "id": "f8353b23",
   "metadata": {},
   "outputs": [
    {
     "data": {
      "text/plain": [
       "[10, 20, 50, [40, 50, 60], 30, [4, 5, 6], 40, 50, 60]"
      ]
     },
     "execution_count": 30,
     "metadata": {},
     "output_type": "execute_result"
    }
   ],
   "source": [
    "a"
   ]
  },
  {
   "cell_type": "code",
   "execution_count": null,
   "id": "cff351d0",
   "metadata": {},
   "outputs": [],
   "source": []
  },
  {
   "cell_type": "markdown",
   "id": "dca1a6e1",
   "metadata": {},
   "source": [
    "# 리스트 정렬 .sort() 오름차순, .sort(reverse= True)  내림차순\n",
    "* 실행즉시 원본 데이터 바뀜"
   ]
  },
  {
   "cell_type": "code",
   "execution_count": 20,
   "id": "7af2c2df",
   "metadata": {},
   "outputs": [],
   "source": [
    "b=[1,6,7,4,5,7,9,4,5,753,6]\n",
    "b.sort()"
   ]
  },
  {
   "cell_type": "code",
   "execution_count": 21,
   "id": "2e0660ff",
   "metadata": {},
   "outputs": [
    {
     "data": {
      "text/plain": [
       "[1, 4, 4, 5, 5, 6, 6, 7, 7, 9, 753]"
      ]
     },
     "execution_count": 21,
     "metadata": {},
     "output_type": "execute_result"
    }
   ],
   "source": [
    "b"
   ]
  },
  {
   "cell_type": "code",
   "execution_count": null,
   "id": "13407d9b",
   "metadata": {},
   "outputs": [],
   "source": [
    "#sort도 우상복귀가 안된다 ->위에서 되돌려야해 -> 사용 추천하지 않아"
   ]
  },
  {
   "cell_type": "markdown",
   "id": "72f804eb",
   "metadata": {},
   "source": [
    "## sorted(), sorted(reverse=True) 내림차순 정렬\n",
    "* 실행 후 결과만 출력, 원본은 그대로 유지"
   ]
  },
  {
   "cell_type": "code",
   "execution_count": 22,
   "id": "9e5857ca",
   "metadata": {},
   "outputs": [
    {
     "data": {
      "text/plain": [
       "[1, 4, 4, 5, 5, 6, 6, 7, 7, 9, 753]"
      ]
     },
     "execution_count": 22,
     "metadata": {},
     "output_type": "execute_result"
    }
   ],
   "source": [
    "sorted(b)"
   ]
  },
  {
   "cell_type": "code",
   "execution_count": 23,
   "id": "b704233d",
   "metadata": {},
   "outputs": [
    {
     "data": {
      "text/plain": [
       "[1, 4, 4, 5, 5, 6, 6, 7, 7, 9, 753]"
      ]
     },
     "execution_count": 23,
     "metadata": {},
     "output_type": "execute_result"
    }
   ],
   "source": [
    "b"
   ]
  },
  {
   "cell_type": "code",
   "execution_count": 31,
   "id": "5cf9247d",
   "metadata": {},
   "outputs": [
    {
     "data": {
      "text/plain": [
       "[753, 9, 7, 7, 6, 6, 5, 5, 4, 4, 1]"
      ]
     },
     "execution_count": 31,
     "metadata": {},
     "output_type": "execute_result"
    }
   ],
   "source": [
    "sorted(b, reverse=True)"
   ]
  },
  {
   "cell_type": "code",
   "execution_count": 32,
   "id": "2bba7b84",
   "metadata": {},
   "outputs": [
    {
     "data": {
      "text/plain": [
       "[1, 4, 4, 5, 5, 6, 6, 7, 7, 9, 753]"
      ]
     },
     "execution_count": 32,
     "metadata": {},
     "output_type": "execute_result"
    }
   ],
   "source": [
    "b"
   ]
  },
  {
   "cell_type": "code",
   "execution_count": null,
   "id": "77d1a5da",
   "metadata": {},
   "outputs": [],
   "source": []
  },
  {
   "cell_type": "markdown",
   "id": "df0cf913",
   "metadata": {},
   "source": [
    "# tuple 사용하기 ()\n",
    "* 튜플은 리스트처럼 모든 자료형을 넣어서 만들 수 있다.\n",
    "* 순서가 있는 자료형, 인덱스가 있다.\n",
    "* 인덱싱, 슬라이싱 가능\n",
    "* 리스트와 다르게 자료의 추가, 삭제가 안된다.\n",
    "* 튜플은 ()안에 자료를 넣어서 만든다.\n",
    "* 튜플 형변환 함수는 tuple()이다."
   ]
  },
  {
   "cell_type": "markdown",
   "id": "d47318ab",
   "metadata": {},
   "source": [
    "# 튜플 만들기\n"
   ]
  },
  {
   "cell_type": "code",
   "execution_count": 33,
   "id": "ec87c090",
   "metadata": {},
   "outputs": [
    {
     "data": {
      "text/plain": [
       "(1, 2, 3, 4, '튜플', [5, 6, 7], 8.5, (8, 9, 10))"
      ]
     },
     "execution_count": 33,
     "metadata": {},
     "output_type": "execute_result"
    }
   ],
   "source": [
    "t=(1,2,3,4,\"튜플\",[5,6,7],8.5,(8,9,10))\n",
    "t"
   ]
  },
  {
   "cell_type": "code",
   "execution_count": 34,
   "id": "7f2b7696",
   "metadata": {},
   "outputs": [
    {
     "name": "stdout",
     "output_type": "stream",
     "text": [
      "<class 'tuple'>\n"
     ]
    }
   ],
   "source": [
    "print(type(t))"
   ]
  },
  {
   "cell_type": "code",
   "execution_count": 37,
   "id": "2018eb51",
   "metadata": {
    "scrolled": true
   },
   "outputs": [
    {
     "ename": "AttributeError",
     "evalue": "'tuple' object has no attribute 'append'",
     "output_type": "error",
     "traceback": [
      "\u001b[1;31m---------------------------------------------------------------------------\u001b[0m",
      "\u001b[1;31mAttributeError\u001b[0m                            Traceback (most recent call last)",
      "Cell \u001b[1;32mIn[37], line 1\u001b[0m\n\u001b[1;32m----> 1\u001b[0m \u001b[43mt\u001b[49m\u001b[38;5;241;43m.\u001b[39;49m\u001b[43mappend\u001b[49m(\u001b[38;5;241m1\u001b[39m)\n",
      "\u001b[1;31mAttributeError\u001b[0m: 'tuple' object has no attribute 'append'"
     ]
    }
   ],
   "source": [
    "t.append(1)"
   ]
  },
  {
   "cell_type": "code",
   "execution_count": 38,
   "id": "cc24fb73",
   "metadata": {},
   "outputs": [
    {
     "ename": "TypeError",
     "evalue": "'tuple' object doesn't support item deletion",
     "output_type": "error",
     "traceback": [
      "\u001b[1;31m---------------------------------------------------------------------------\u001b[0m",
      "\u001b[1;31mTypeError\u001b[0m                                 Traceback (most recent call last)",
      "Cell \u001b[1;32mIn[38], line 1\u001b[0m\n\u001b[1;32m----> 1\u001b[0m \u001b[38;5;28;01mdel\u001b[39;00m t[\u001b[38;5;241m0\u001b[39m]\n",
      "\u001b[1;31mTypeError\u001b[0m: 'tuple' object doesn't support item deletion"
     ]
    }
   ],
   "source": [
    "del t[0]"
   ]
  },
  {
   "cell_type": "code",
   "execution_count": null,
   "id": "7fb9111a",
   "metadata": {},
   "outputs": [],
   "source": [
    "#튜플에서는 자료 추가 안되는데 자료 넣는 방법?\n",
    "# 튜플을 리스트로 형변환해서 넣어줌 #트릭\n",
    "#튜플은 불변의 자료지만 불변이 아닐 수 있다"
   ]
  },
  {
   "cell_type": "markdown",
   "id": "fd65a440",
   "metadata": {},
   "source": [
    "# 튜플의 자료형을 리스트로 변경한 후 자료 추가하기"
   ]
  },
  {
   "cell_type": "code",
   "execution_count": 39,
   "id": "3a12e55e",
   "metadata": {},
   "outputs": [
    {
     "data": {
      "text/plain": [
       "[1, 2, 3, 4, '튜플', [5, 6, 7], 8.5, (8, 9, 10)]"
      ]
     },
     "execution_count": 39,
     "metadata": {},
     "output_type": "execute_result"
    }
   ],
   "source": [
    "t=list(t)\n",
    "t"
   ]
  },
  {
   "cell_type": "code",
   "execution_count": 40,
   "id": "b5df2a82",
   "metadata": {},
   "outputs": [
    {
     "name": "stdout",
     "output_type": "stream",
     "text": [
      "<class 'list'>\n"
     ]
    }
   ],
   "source": [
    "print(type(t))"
   ]
  },
  {
   "cell_type": "code",
   "execution_count": 41,
   "id": "bff335e8",
   "metadata": {},
   "outputs": [],
   "source": [
    "t.insert(0,\"리스트로 바꿈\")"
   ]
  },
  {
   "cell_type": "code",
   "execution_count": 42,
   "id": "6e832e31",
   "metadata": {},
   "outputs": [
    {
     "data": {
      "text/plain": [
       "['리스트로 바꿈', 1, 2, 3, 4, '튜플', [5, 6, 7], 8.5, (8, 9, 10)]"
      ]
     },
     "execution_count": 42,
     "metadata": {},
     "output_type": "execute_result"
    }
   ],
   "source": [
    "t"
   ]
  },
  {
   "cell_type": "code",
   "execution_count": 43,
   "id": "5b9f15cc",
   "metadata": {},
   "outputs": [
    {
     "data": {
      "text/plain": [
       "('리스트로 바꿈', 1, 2, 3, 4, '튜플', [5, 6, 7], 8.5, (8, 9, 10))"
      ]
     },
     "execution_count": 43,
     "metadata": {},
     "output_type": "execute_result"
    }
   ],
   "source": [
    "t=tuple(t)\n",
    "t"
   ]
  },
  {
   "cell_type": "markdown",
   "id": "d920f60c",
   "metadata": {},
   "source": [
    "# 튜플에 자료를 1개만 넣고 만들때"
   ]
  },
  {
   "cell_type": "code",
   "execution_count": 44,
   "id": "3c19d131",
   "metadata": {},
   "outputs": [
    {
     "data": {
      "text/plain": [
       "2"
      ]
     },
     "execution_count": 44,
     "metadata": {},
     "output_type": "execute_result"
    }
   ],
   "source": [
    "t2 =(2)\n",
    "t2"
   ]
  },
  {
   "cell_type": "code",
   "execution_count": 45,
   "id": "43e28c7d",
   "metadata": {},
   "outputs": [
    {
     "name": "stdout",
     "output_type": "stream",
     "text": [
      "<class 'int'>\n"
     ]
    }
   ],
   "source": [
    "print(type(t2))"
   ]
  },
  {
   "cell_type": "code",
   "execution_count": 46,
   "id": "6195c1ba",
   "metadata": {},
   "outputs": [
    {
     "name": "stdout",
     "output_type": "stream",
     "text": [
      "[2]\n",
      "<class 'list'>\n"
     ]
    }
   ],
   "source": [
    "l=[2]\n",
    "print(l)\n",
    "print(type(l))"
   ]
  },
  {
   "cell_type": "code",
   "execution_count": 47,
   "id": "5fe7fa13",
   "metadata": {},
   "outputs": [
    {
     "name": "stdout",
     "output_type": "stream",
     "text": [
      "<class 'tuple'>\n"
     ]
    },
    {
     "data": {
      "text/plain": [
       "(3,)"
      ]
     },
     "execution_count": 47,
     "metadata": {},
     "output_type": "execute_result"
    }
   ],
   "source": [
    "#튜플은 콤마를 반드시 넣어줘야해\n",
    "#자료를 한개만 넣어서 만들때는 반드시 콤마를 넣어주자\n",
    "t3= (3,)\n",
    "print(type(t3))\n",
    "t3"
   ]
  },
  {
   "cell_type": "code",
   "execution_count": 48,
   "id": "6dd28c04",
   "metadata": {},
   "outputs": [
    {
     "data": {
      "text/plain": [
       "()"
      ]
     },
     "execution_count": 48,
     "metadata": {},
     "output_type": "execute_result"
    }
   ],
   "source": [
    "#빈 튜플 만들어지긴 해 -의미없음 -변형 안되니까\n",
    "t4=()\n",
    "t4"
   ]
  },
  {
   "cell_type": "markdown",
   "id": "5d9e6a0d",
   "metadata": {},
   "source": []
  },
  {
   "cell_type": "code",
   "execution_count": null,
   "id": "138e6d26",
   "metadata": {},
   "outputs": [],
   "source": []
  },
  {
   "cell_type": "code",
   "execution_count": null,
   "id": "3e8d1b0b",
   "metadata": {},
   "outputs": [],
   "source": []
  },
  {
   "cell_type": "code",
   "execution_count": null,
   "id": "1d93a356",
   "metadata": {},
   "outputs": [],
   "source": []
  },
  {
   "cell_type": "code",
   "execution_count": null,
   "id": "5fa2b3ad",
   "metadata": {},
   "outputs": [],
   "source": []
  },
  {
   "cell_type": "code",
   "execution_count": null,
   "id": "1c459360",
   "metadata": {},
   "outputs": [],
   "source": []
  },
  {
   "cell_type": "code",
   "execution_count": null,
   "id": "6d6dcf0d",
   "metadata": {},
   "outputs": [],
   "source": []
  },
  {
   "cell_type": "code",
   "execution_count": null,
   "id": "295743c7",
   "metadata": {},
   "outputs": [],
   "source": []
  },
  {
   "cell_type": "code",
   "execution_count": null,
   "id": "13651df8",
   "metadata": {},
   "outputs": [],
   "source": []
  },
  {
   "cell_type": "code",
   "execution_count": null,
   "id": "dd3d6dea",
   "metadata": {},
   "outputs": [],
   "source": []
  },
  {
   "cell_type": "code",
   "execution_count": null,
   "id": "24a38497",
   "metadata": {},
   "outputs": [],
   "source": []
  },
  {
   "cell_type": "code",
   "execution_count": null,
   "id": "9c20117d",
   "metadata": {},
   "outputs": [],
   "source": []
  },
  {
   "cell_type": "code",
   "execution_count": null,
   "id": "19d4275c",
   "metadata": {},
   "outputs": [],
   "source": []
  },
  {
   "cell_type": "code",
   "execution_count": null,
   "id": "c4e8a53c",
   "metadata": {},
   "outputs": [],
   "source": []
  },
  {
   "cell_type": "code",
   "execution_count": null,
   "id": "2bd91572",
   "metadata": {},
   "outputs": [],
   "source": []
  },
  {
   "cell_type": "code",
   "execution_count": null,
   "id": "f0efd0b7",
   "metadata": {},
   "outputs": [],
   "source": []
  },
  {
   "cell_type": "code",
   "execution_count": null,
   "id": "406dfcb0",
   "metadata": {},
   "outputs": [],
   "source": []
  }
 ],
 "metadata": {
  "kernelspec": {
   "display_name": "Python 3 (ipykernel)",
   "language": "python",
   "name": "python3"
  },
  "language_info": {
   "codemirror_mode": {
    "name": "ipython",
    "version": 3
   },
   "file_extension": ".py",
   "mimetype": "text/x-python",
   "name": "python",
   "nbconvert_exporter": "python",
   "pygments_lexer": "ipython3",
   "version": "3.10.14"
  }
 },
 "nbformat": 4,
 "nbformat_minor": 5
}
